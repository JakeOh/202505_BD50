{
  "nbformat": 4,
  "nbformat_minor": 0,
  "metadata": {
    "colab": {
      "provenance": [],
      "toc_visible": true,
      "authorship_tag": "ABX9TyOonO/lZVLTNc84JR9RamVf",
      "include_colab_link": true
    },
    "kernelspec": {
      "name": "python3",
      "display_name": "Python 3"
    },
    "language_info": {
      "name": "python"
    }
  },
  "cells": [
    {
      "cell_type": "markdown",
      "metadata": {
        "id": "view-in-github",
        "colab_type": "text"
      },
      "source": [
        "<a href=\"https://colab.research.google.com/github/JakeOh/202505_BD50/blob/main/lab_python/python06_list.ipynb\" target=\"_parent\"><img src=\"https://colab.research.google.com/assets/colab-badge.svg\" alt=\"Open In Colab\"/></a>"
      ]
    },
    {
      "cell_type": "markdown",
      "source": [
        "# 리스트(list)\n",
        "\n",
        "*   `list`: 여러 개의 값들을 하나의 변수에 저장하기 위한 데이터 타입.\n",
        "*   원소(element), 아이템(item): 리스트에 저장된 각각의 값.\n",
        "*   인덱스(index): 리스트에 원소들이 저장된 위치를 표시하는 정수.\n",
        "    *   리스트의 인덱스는 **0**부터 시작.\n",
        "    *   리스트에서 마지막 원소의 인덱스는 (원소 개수 - 1).\n",
        "*   리스트는 원소들을 추가, 변경, 삭제할 수 있음.\n",
        "    *   `tuple`과 다른 점."
      ],
      "metadata": {
        "id": "g2bkoCWW8vgV"
      }
    },
    {
      "cell_type": "code",
      "execution_count": 1,
      "metadata": {
        "colab": {
          "base_uri": "https://localhost:8080/"
        },
        "id": "TgBhtTn78qJp",
        "outputId": "cb683111-994b-48fa-f5e2-93b5dbeca9e9"
      },
      "outputs": [
        {
          "output_type": "stream",
          "name": "stdout",
          "text": [
            "<class 'list'>\n",
            "[1, 2, 10, 20, -1, -2]\n"
          ]
        },
        {
          "output_type": "execute_result",
          "data": {
            "text/plain": [
              "[1, 2, 10, 20, -1, -2]"
            ]
          },
          "metadata": {},
          "execution_count": 1
        }
      ],
      "source": [
        "# 숫자들을 저장하는 list\n",
        "numbers = [1, 2, 10, 20, -1, -2]\n",
        "print(type(numbers))\n",
        "print(numbers)\n",
        "numbers"
      ]
    },
    {
      "cell_type": "code",
      "source": [
        "# 파이썬의 리스트는 여러 타입의 값들을 하나의 변수에 저장할 수 있음.\n",
        "values = [1, 2, '안녕', '파이썬', True, False, [1, 2, 3]]\n",
        "print(type(values))\n",
        "values"
      ],
      "metadata": {
        "colab": {
          "base_uri": "https://localhost:8080/"
        },
        "id": "1yO0vev7_rxb",
        "outputId": "68e1d0c5-5a77-4e4a-ea6c-c07a3631de6a"
      },
      "execution_count": 2,
      "outputs": [
        {
          "output_type": "stream",
          "name": "stdout",
          "text": [
            "<class 'list'>\n"
          ]
        },
        {
          "output_type": "execute_result",
          "data": {
            "text/plain": [
              "[1, 2, '안녕', '파이썬', True, False, [1, 2, 3]]"
            ]
          },
          "metadata": {},
          "execution_count": 2
        }
      ]
    },
    {
      "cell_type": "markdown",
      "source": [
        "# Indexing\n",
        "\n",
        "인덱스를 사용해서 리스트의 아이템을 사용하는 방법."
      ],
      "metadata": {
        "id": "8kUZYuicjayS"
      }
    },
    {
      "cell_type": "code",
      "source": [
        "numbers = [1, -2, 3, 10, -20, 100]\n",
        "numbers"
      ],
      "metadata": {
        "id": "Ebp01JLKAu4K",
        "colab": {
          "base_uri": "https://localhost:8080/"
        },
        "outputId": "2134ee3e-d6ef-403a-f1bf-ac4557506b07"
      },
      "execution_count": 3,
      "outputs": [
        {
          "output_type": "execute_result",
          "data": {
            "text/plain": [
              "[1, -2, 3, 10, -20, 100]"
            ]
          },
          "metadata": {},
          "execution_count": 3
        }
      ]
    },
    {
      "cell_type": "code",
      "source": [
        "numbers[0]  # 리스트 numbers의 첫번째 아이템"
      ],
      "metadata": {
        "colab": {
          "base_uri": "https://localhost:8080/"
        },
        "id": "9LfyqlVwj3AM",
        "outputId": "610d99f8-b6e9-4455-ee71-0d2693893c75"
      },
      "execution_count": 4,
      "outputs": [
        {
          "output_type": "execute_result",
          "data": {
            "text/plain": [
              "1"
            ]
          },
          "metadata": {},
          "execution_count": 4
        }
      ]
    },
    {
      "cell_type": "code",
      "source": [
        "numbers[5]  # 리스트 numbers의 인덱스 5번 위치의 원소(마지막 원소)"
      ],
      "metadata": {
        "colab": {
          "base_uri": "https://localhost:8080/"
        },
        "id": "oTqKTrfvkv7K",
        "outputId": "19e028ba-41eb-4709-ad49-98f50fdd736c"
      },
      "execution_count": 5,
      "outputs": [
        {
          "output_type": "execute_result",
          "data": {
            "text/plain": [
              "100"
            ]
          },
          "metadata": {},
          "execution_count": 5
        }
      ]
    },
    {
      "cell_type": "code",
      "source": [
        "numbers[-1]  # 리스트 numbers의 마지막 아이템"
      ],
      "metadata": {
        "colab": {
          "base_uri": "https://localhost:8080/"
        },
        "id": "ZxsrdzVxk_8s",
        "outputId": "65784f8d-5723-44ab-d3a5-b0ba7fac9cc5"
      },
      "execution_count": 6,
      "outputs": [
        {
          "output_type": "execute_result",
          "data": {
            "text/plain": [
              "100"
            ]
          },
          "metadata": {},
          "execution_count": 6
        }
      ]
    },
    {
      "cell_type": "code",
      "source": [
        "numbers[-2]  # 리스트 numbers의 끝에서 두번째 아이템"
      ],
      "metadata": {
        "colab": {
          "base_uri": "https://localhost:8080/"
        },
        "id": "j70Hxsddl3q6",
        "outputId": "8adf3bd7-d73b-4619-9901-0259118bd2d6"
      },
      "execution_count": 7,
      "outputs": [
        {
          "output_type": "execute_result",
          "data": {
            "text/plain": [
              "-20"
            ]
          },
          "metadata": {},
          "execution_count": 7
        }
      ]
    },
    {
      "cell_type": "markdown",
      "source": [
        "# Slicing\n",
        "\n",
        "`list[start:end]`\n",
        "*   list에서 인덱스 start <= index < end 범위의 아이템들을 잘라내는 방법\n",
        "*   시작 인덱스 start를 생략하면 첫번째 원소부터 잘라냄. start의 기본값은 0.\n",
        "*   종료 인덱스 end를 생략하면 마지막 원소까지 잘라냄.\n",
        "*   slicing의 결과는 **새로운 리스트**."
      ],
      "metadata": {
        "id": "yfYp7TtHmQzi"
      }
    },
    {
      "cell_type": "code",
      "source": [
        "numbers[1:4]"
      ],
      "metadata": {
        "colab": {
          "base_uri": "https://localhost:8080/"
        },
        "id": "8GKZAFyMnPkJ",
        "outputId": "f877c777-55cd-44ce-fc78-d6248ce0f7d3"
      },
      "execution_count": 9,
      "outputs": [
        {
          "output_type": "execute_result",
          "data": {
            "text/plain": [
              "[-2, 3, 10]"
            ]
          },
          "metadata": {},
          "execution_count": 9
        }
      ]
    },
    {
      "cell_type": "code",
      "source": [
        "# 리스트 numbers에서 첫번째 원소부터 3개의 원소를 잘라냄\n",
        "numbers[:3]  # numbers[0:3]"
      ],
      "metadata": {
        "colab": {
          "base_uri": "https://localhost:8080/"
        },
        "id": "jIFkKHWcn_GH",
        "outputId": "cda5c391-1910-4d65-898e-0d5afd35d6ee"
      },
      "execution_count": 11,
      "outputs": [
        {
          "output_type": "execute_result",
          "data": {
            "text/plain": [
              "[1, -2, 3]"
            ]
          },
          "metadata": {},
          "execution_count": 11
        }
      ]
    },
    {
      "cell_type": "code",
      "source": [
        "# 리스트 numbers에서 인덱스 4번 위치부터 마지막 원소까지 잘라냄.\n",
        "numbers[4:]  # numbers[4:6]"
      ],
      "metadata": {
        "colab": {
          "base_uri": "https://localhost:8080/"
        },
        "id": "Wy9OTPojodnv",
        "outputId": "7b0b32f6-cc35-442f-ea3a-06a320e7edd5"
      },
      "execution_count": 13,
      "outputs": [
        {
          "output_type": "execute_result",
          "data": {
            "text/plain": [
              "[-20, 100]"
            ]
          },
          "metadata": {},
          "execution_count": 13
        }
      ]
    },
    {
      "cell_type": "code",
      "source": [
        "# 리스트 numbers에서 끝에서 2개 아이템들을 잘라냄.\n",
        "numbers[-2:]"
      ],
      "metadata": {
        "colab": {
          "base_uri": "https://localhost:8080/"
        },
        "id": "CMcwRzHCo_fn",
        "outputId": "14237d08-a964-4f9c-f48a-b9cdaf4d1b23"
      },
      "execution_count": 14,
      "outputs": [
        {
          "output_type": "execute_result",
          "data": {
            "text/plain": [
              "[-20, 100]"
            ]
          },
          "metadata": {},
          "execution_count": 14
        }
      ]
    },
    {
      "cell_type": "code",
      "source": [
        "print(numbers[0])  # 리스트의 원소\n",
        "print(numbers[0:1])  # 리스트(부분집합)"
      ],
      "metadata": {
        "colab": {
          "base_uri": "https://localhost:8080/"
        },
        "id": "zL8jvqRfpyLP",
        "outputId": "d37310d7-54e0-44de-976c-364e94d01a96"
      },
      "execution_count": 15,
      "outputs": [
        {
          "output_type": "stream",
          "name": "stdout",
          "text": [
            "1\n",
            "[1]\n"
          ]
        }
      ]
    },
    {
      "cell_type": "markdown",
      "source": [
        "# 문자열(String)\n",
        "\n",
        "문자열\n",
        "*   문자들의 리스트.\n",
        "*   인덱스를 사용할 수 있음.\n",
        "    *   indexing\n",
        "    *   slicing"
      ],
      "metadata": {
        "id": "gGNQGn_jwBOk"
      }
    },
    {
      "cell_type": "code",
      "source": [
        "message = '안녕, Python!'\n",
        "message"
      ],
      "metadata": {
        "colab": {
          "base_uri": "https://localhost:8080/",
          "height": 39
        },
        "id": "_JY4TW3NwWdr",
        "outputId": "27fae529-7932-4868-a5f6-f6153ab9be46"
      },
      "execution_count": 27,
      "outputs": [
        {
          "output_type": "execute_result",
          "data": {
            "text/plain": [
              "'안녕, Python!'"
            ],
            "application/vnd.google.colaboratory.intrinsic+json": {
              "type": "string"
            }
          },
          "metadata": {},
          "execution_count": 27
        }
      ]
    },
    {
      "cell_type": "code",
      "source": [
        "message[0]  # 문자열 message의 첫번째 문자"
      ],
      "metadata": {
        "colab": {
          "base_uri": "https://localhost:8080/",
          "height": 39
        },
        "id": "TIvwQBNUwgOb",
        "outputId": "e8ecbe53-abb6-45f4-8238-bf3cd09e9d15"
      },
      "execution_count": 28,
      "outputs": [
        {
          "output_type": "execute_result",
          "data": {
            "text/plain": [
              "'안'"
            ],
            "application/vnd.google.colaboratory.intrinsic+json": {
              "type": "string"
            }
          },
          "metadata": {},
          "execution_count": 28
        }
      ]
    },
    {
      "cell_type": "code",
      "source": [
        "message[-1]  # 문자열의 마지막 문자"
      ],
      "metadata": {
        "colab": {
          "base_uri": "https://localhost:8080/",
          "height": 39
        },
        "id": "ehKZtjEqwr2C",
        "outputId": "46c34df3-7197-454a-c08d-42c9b7eb284c"
      },
      "execution_count": 29,
      "outputs": [
        {
          "output_type": "execute_result",
          "data": {
            "text/plain": [
              "'!'"
            ],
            "application/vnd.google.colaboratory.intrinsic+json": {
              "type": "string"
            }
          },
          "metadata": {},
          "execution_count": 29
        }
      ]
    },
    {
      "cell_type": "code",
      "source": [
        "message[:2]  # 문자열에서 첫 두 글자"
      ],
      "metadata": {
        "colab": {
          "base_uri": "https://localhost:8080/",
          "height": 39
        },
        "id": "v0H3TjScwytr",
        "outputId": "affe3d7e-a941-4e33-825e-62f0a4238145"
      },
      "execution_count": 30,
      "outputs": [
        {
          "output_type": "execute_result",
          "data": {
            "text/plain": [
              "'안녕'"
            ],
            "application/vnd.google.colaboratory.intrinsic+json": {
              "type": "string"
            }
          },
          "metadata": {},
          "execution_count": 30
        }
      ]
    },
    {
      "cell_type": "code",
      "source": [
        "message[-2:]  # 문자열에서 마지막 두 글자"
      ],
      "metadata": {
        "colab": {
          "base_uri": "https://localhost:8080/",
          "height": 39
        },
        "id": "vImk_FNKw3dD",
        "outputId": "eb7b8699-6380-45a4-fcb7-1bfc06ed174d"
      },
      "execution_count": 31,
      "outputs": [
        {
          "output_type": "execute_result",
          "data": {
            "text/plain": [
              "'n!'"
            ],
            "application/vnd.google.colaboratory.intrinsic+json": {
              "type": "string"
            }
          },
          "metadata": {},
          "execution_count": 31
        }
      ]
    },
    {
      "cell_type": "markdown",
      "source": [
        "# 리스트의 산술 연산\n",
        "\n",
        "*   `list + list`: concatenate. 2개의 리스트의 원소들을 합쳐서 하나의 리스트로 만듦.\n",
        "*   `list * int`: replicate. 리스트의 원소들을 정수만큼 복사해서 원소의 개수를 늘림."
      ],
      "metadata": {
        "id": "a2_c52lvxbrG"
      }
    },
    {
      "cell_type": "code",
      "source": [
        "print('안녕' + 'Python')\n",
        "print('안녕' * 3)"
      ],
      "metadata": {
        "colab": {
          "base_uri": "https://localhost:8080/"
        },
        "id": "Jtiv2aeFxz8a",
        "outputId": "005f9f8a-e5f2-4896-b8ff-661221c082ee"
      },
      "execution_count": 32,
      "outputs": [
        {
          "output_type": "stream",
          "name": "stdout",
          "text": [
            "안녕Python\n",
            "안녕안녕안녕\n"
          ]
        }
      ]
    },
    {
      "cell_type": "code",
      "source": [
        "[1, 2, 3] + [10, 20, 30]"
      ],
      "metadata": {
        "colab": {
          "base_uri": "https://localhost:8080/"
        },
        "id": "Ja4pCmVAx-Xc",
        "outputId": "f94e018a-129e-4f9b-db38-69b1b939d75e"
      },
      "execution_count": 33,
      "outputs": [
        {
          "output_type": "execute_result",
          "data": {
            "text/plain": [
              "[1, 2, 3, 10, 20, 30]"
            ]
          },
          "metadata": {},
          "execution_count": 33
        }
      ]
    },
    {
      "cell_type": "code",
      "source": [
        "[1, 2, 3] * 3"
      ],
      "metadata": {
        "colab": {
          "base_uri": "https://localhost:8080/"
        },
        "id": "EwNHfJbayCTD",
        "outputId": "d8b0ac73-5cb4-483b-f27a-3b6ac5720b78"
      },
      "execution_count": 34,
      "outputs": [
        {
          "output_type": "execute_result",
          "data": {
            "text/plain": [
              "[1, 2, 3, 1, 2, 3, 1, 2, 3]"
            ]
          },
          "metadata": {},
          "execution_count": 34
        }
      ]
    },
    {
      "cell_type": "markdown",
      "source": [
        "# list의 기능들 - 함수(메서드)"
      ],
      "metadata": {
        "id": "T83EMI70ybmz"
      }
    },
    {
      "cell_type": "markdown",
      "source": [
        "## 원소 추가"
      ],
      "metadata": {
        "id": "SoYdbj_oyncC"
      }
    },
    {
      "cell_type": "code",
      "source": [
        "numbers = [1, 2, 3, 4, 5]\n",
        "numbers"
      ],
      "metadata": {
        "colab": {
          "base_uri": "https://localhost:8080/"
        },
        "id": "IKIFpD48y0QS",
        "outputId": "c7204353-7ff4-4a1f-ee2a-e83c3f45edff"
      },
      "execution_count": 35,
      "outputs": [
        {
          "output_type": "execute_result",
          "data": {
            "text/plain": [
              "[1, 2, 3, 4, 5]"
            ]
          },
          "metadata": {},
          "execution_count": 35
        }
      ]
    },
    {
      "cell_type": "code",
      "source": [
        "# list.append(값): list의 가장 마지막에 (값)을 추가.\n",
        "numbers.append(100)\n",
        "numbers"
      ],
      "metadata": {
        "colab": {
          "base_uri": "https://localhost:8080/"
        },
        "id": "wx8l-Nb-y6gy",
        "outputId": "d73322a9-7300-4079-abc7-c7784d44b4ca"
      },
      "execution_count": 36,
      "outputs": [
        {
          "output_type": "execute_result",
          "data": {
            "text/plain": [
              "[1, 2, 3, 4, 5, 100]"
            ]
          },
          "metadata": {},
          "execution_count": 36
        }
      ]
    },
    {
      "cell_type": "code",
      "source": [
        "# list.insert(idx, val): 인덱스 idx 바로 앞에 val을 원소로 추가.\n",
        "numbers.insert(0, -1)\n",
        "numbers"
      ],
      "metadata": {
        "colab": {
          "base_uri": "https://localhost:8080/"
        },
        "id": "OX6IVSp2zuyc",
        "outputId": "4b4aecc3-f642-4777-fc94-a16f6ce17d54"
      },
      "execution_count": 37,
      "outputs": [
        {
          "output_type": "execute_result",
          "data": {
            "text/plain": [
              "[-1, 1, 2, 3, 4, 5, 100]"
            ]
          },
          "metadata": {},
          "execution_count": 37
        }
      ]
    },
    {
      "cell_type": "code",
      "source": [
        "numbers.insert(-1, -100)\n",
        "numbers"
      ],
      "metadata": {
        "colab": {
          "base_uri": "https://localhost:8080/"
        },
        "id": "xgvXLST50kV6",
        "outputId": "b6b17a45-cc52-4cc8-d7e0-8e5b703065af"
      },
      "execution_count": 38,
      "outputs": [
        {
          "output_type": "execute_result",
          "data": {
            "text/plain": [
              "[-1, 1, 2, 3, 4, 5, -100, 100]"
            ]
          },
          "metadata": {},
          "execution_count": 38
        }
      ]
    },
    {
      "cell_type": "code",
      "source": [
        "# list.extend(iterable): iterable의 원소들을 하나씩 리스트의 끝에 append.\n",
        "numbers.extend([11, 22, 33])\n",
        "numbers"
      ],
      "metadata": {
        "colab": {
          "base_uri": "https://localhost:8080/"
        },
        "id": "89VYLYaO1B_q",
        "outputId": "2e0d9e5c-f32c-4139-ec80-076add5b5c0e"
      },
      "execution_count": 39,
      "outputs": [
        {
          "output_type": "execute_result",
          "data": {
            "text/plain": [
              "[-1, 1, 2, 3, 4, 5, -100, 100, 11, 22, 33]"
            ]
          },
          "metadata": {},
          "execution_count": 39
        }
      ]
    },
    {
      "cell_type": "code",
      "source": [
        "# (주의) append와 extend의 차이점:\n",
        "numbers.append([-1, -2, -3])\n",
        "numbers"
      ],
      "metadata": {
        "colab": {
          "base_uri": "https://localhost:8080/"
        },
        "id": "CEMgFjOj1doK",
        "outputId": "72e446ef-e038-4e32-b580-dfbfb2c19461"
      },
      "execution_count": 41,
      "outputs": [
        {
          "output_type": "execute_result",
          "data": {
            "text/plain": [
              "[-1, 1, 2, 3, 4, 5, -100, 100, 11, 22, 33, [-1, -2, -3]]"
            ]
          },
          "metadata": {},
          "execution_count": 41
        }
      ]
    },
    {
      "cell_type": "markdown",
      "source": [
        "## 원소 삭제"
      ],
      "metadata": {
        "id": "DuDpKPpI3EEY"
      }
    },
    {
      "cell_type": "code",
      "source": [
        "numbers = [1, 2, 3, 10, 20, 30, 1, 2, 3]\n",
        "numbers"
      ],
      "metadata": {
        "colab": {
          "base_uri": "https://localhost:8080/"
        },
        "id": "NrvkULI02i_w",
        "outputId": "15828c0f-d8c9-4321-b952-66cfaf205352"
      },
      "execution_count": 42,
      "outputs": [
        {
          "output_type": "execute_result",
          "data": {
            "text/plain": [
              "[1, 2, 3, 10, 20, 30, 1, 2, 3]"
            ]
          },
          "metadata": {},
          "execution_count": 42
        }
      ]
    },
    {
      "cell_type": "code",
      "source": [
        "# list.pop(): list의 가장 마지막 원소를 삭제.\n",
        "numbers.pop()\n",
        "numbers"
      ],
      "metadata": {
        "colab": {
          "base_uri": "https://localhost:8080/"
        },
        "id": "CtYeHFa73Obv",
        "outputId": "702cf8dc-15bc-43fa-a088-465913db19d2"
      },
      "execution_count": 43,
      "outputs": [
        {
          "output_type": "execute_result",
          "data": {
            "text/plain": [
              "[1, 2, 3, 10, 20, 30, 1, 2]"
            ]
          },
          "metadata": {},
          "execution_count": 43
        }
      ]
    },
    {
      "cell_type": "code",
      "source": [
        "# list.pop(index): list에서 index 위치의 아이템을 삭제.\n",
        "numbers.pop(0)\n",
        "numbers"
      ],
      "metadata": {
        "colab": {
          "base_uri": "https://localhost:8080/"
        },
        "id": "XFHFBB6p3vOJ",
        "outputId": "3b50dbd9-5d8a-450d-ad0f-d2c1834fa923"
      },
      "execution_count": 44,
      "outputs": [
        {
          "output_type": "execute_result",
          "data": {
            "text/plain": [
              "[2, 3, 10, 20, 30, 1, 2]"
            ]
          },
          "metadata": {},
          "execution_count": 44
        }
      ]
    },
    {
      "cell_type": "code",
      "source": [
        "# list.remove(value): list에서 첫번째로 등장하는 value를 삭제.\n",
        "numbers.remove(2)\n",
        "numbers"
      ],
      "metadata": {
        "colab": {
          "base_uri": "https://localhost:8080/"
        },
        "id": "R_6qbNA54Dcf",
        "outputId": "fae7b75f-c51c-4295-9a61-4582c473a764"
      },
      "execution_count": 45,
      "outputs": [
        {
          "output_type": "execute_result",
          "data": {
            "text/plain": [
              "[3, 10, 20, 30, 1, 2]"
            ]
          },
          "metadata": {},
          "execution_count": 45
        }
      ]
    },
    {
      "cell_type": "code",
      "source": [
        "# list.clear(): list의 모든 원소들을 삭제.\n",
        "numbers.clear()\n",
        "numbers"
      ],
      "metadata": {
        "colab": {
          "base_uri": "https://localhost:8080/"
        },
        "id": "WhocoZlO4qFf",
        "outputId": "b765a4ab-1159-4e00-a48b-1ae39c8fd989"
      },
      "execution_count": 46,
      "outputs": [
        {
          "output_type": "execute_result",
          "data": {
            "text/plain": [
              "[]"
            ]
          },
          "metadata": {},
          "execution_count": 46
        }
      ]
    },
    {
      "cell_type": "markdown",
      "source": [
        "## 원소 변경"
      ],
      "metadata": {
        "id": "m_CKYruD5PMP"
      }
    },
    {
      "cell_type": "code",
      "source": [
        "numbers = [1, 2, 3]\n",
        "numbers"
      ],
      "metadata": {
        "colab": {
          "base_uri": "https://localhost:8080/"
        },
        "id": "RkPty4vL5Bx_",
        "outputId": "4d03a061-7f88-491c-e03c-e90e14e58a67"
      },
      "execution_count": 47,
      "outputs": [
        {
          "output_type": "execute_result",
          "data": {
            "text/plain": [
              "[1, 2, 3]"
            ]
          },
          "metadata": {},
          "execution_count": 47
        }
      ]
    },
    {
      "cell_type": "code",
      "source": [
        "# list[index] = value\n",
        "numbers[1] = 3.14\n",
        "numbers"
      ],
      "metadata": {
        "colab": {
          "base_uri": "https://localhost:8080/"
        },
        "id": "vt716NmH5WFf",
        "outputId": "713038b7-1cc3-4475-bbbc-5f5741301736"
      },
      "execution_count": 48,
      "outputs": [
        {
          "output_type": "execute_result",
          "data": {
            "text/plain": [
              "[1, 3.14, 3]"
            ]
          },
          "metadata": {},
          "execution_count": 48
        }
      ]
    },
    {
      "cell_type": "markdown",
      "source": [
        "# list와 for 반복문"
      ],
      "metadata": {
        "id": "xgQ_wqC49q0-"
      }
    },
    {
      "cell_type": "code",
      "source": [
        "numbers = [1, 2, 3, 10, 20, 30]\n",
        "for x in numbers:\n",
        "    print(x, end='\\t')"
      ],
      "metadata": {
        "colab": {
          "base_uri": "https://localhost:8080/"
        },
        "id": "XtGgh4mU9uKM",
        "outputId": "79999f46-ca16-4351-f9d4-f2ed9b199a71"
      },
      "execution_count": 51,
      "outputs": [
        {
          "output_type": "stream",
          "name": "stdout",
          "text": [
            "1\t2\t3\t10\t20\t30\t"
          ]
        }
      ]
    },
    {
      "cell_type": "code",
      "source": [
        "for index, value in enumerate(numbers):\n",
        "    print(f'{index} : {value}')"
      ],
      "metadata": {
        "colab": {
          "base_uri": "https://localhost:8080/"
        },
        "id": "YCkxfnq6-SJF",
        "outputId": "8384f6fb-6daa-4564-9e4f-83f4e4ce3547"
      },
      "execution_count": 52,
      "outputs": [
        {
          "output_type": "stream",
          "name": "stdout",
          "text": [
            "0 : 1\n",
            "1 : 2\n",
            "2 : 3\n",
            "3 : 10\n",
            "4 : 20\n",
            "5 : 30\n"
          ]
        }
      ]
    },
    {
      "cell_type": "markdown",
      "source": [
        "# 연습문제"
      ],
      "metadata": {
        "id": "yXC_4X_u_Rer"
      }
    },
    {
      "cell_type": "markdown",
      "source": [
        "## Ex 1.\n",
        "\n",
        "*   빈 리스트 numbers를 만듦.\n",
        "*   리스트에 numbers에 100 미만의 정수 난수 10개를 저장.\n",
        "*   numbers를 출력.\n",
        "*   numbers의 원소들 중에서 짝수들로만 이루어진 새로운 리스트 evens를 만들고 출력.\n",
        "*   numbers의 원소들 중에서 홀수들로만 이루어진 새로운 리스트 odds를 만들고 출력."
      ],
      "metadata": {
        "id": "71F5eG_f_TOT"
      }
    },
    {
      "cell_type": "code",
      "source": [
        "import random"
      ],
      "metadata": {
        "id": "CBOnjlo0_9G0"
      },
      "execution_count": 53,
      "outputs": []
    },
    {
      "cell_type": "code",
      "source": [
        "numbers = []  # 난수들을 저장하기 위한 빈 리스트\n",
        "for _ in range(10):\n",
        "    numbers.append(random.randrange(100))\n",
        "\n",
        "numbers"
      ],
      "metadata": {
        "colab": {
          "base_uri": "https://localhost:8080/"
        },
        "id": "lggkc3miAJZL",
        "outputId": "0f26c3bb-c4ca-4f0f-bdfa-2a22c650c5ce"
      },
      "execution_count": 60,
      "outputs": [
        {
          "output_type": "execute_result",
          "data": {
            "text/plain": [
              "[84, 27, 27, 15, 32, 24, 41, 74, 96, 53]"
            ]
          },
          "metadata": {},
          "execution_count": 60
        }
      ]
    },
    {
      "cell_type": "code",
      "source": [
        "evens = []  # 짝수들을 저장하기 위한 빈 리스트\n",
        "for x in numbers:  # 리스트 numbers의 원소들을 순서대로 반복하면서\n",
        "    if x % 2 == 0:  # 리스트의 원소가 짝수이면\n",
        "        evens.append(x)  # 리스트 evens에 추가.\n",
        "\n",
        "evens"
      ],
      "metadata": {
        "colab": {
          "base_uri": "https://localhost:8080/"
        },
        "id": "lOLtxtjaDKQx",
        "outputId": "03dc0a82-9731-4055-eed8-91320cb96db7"
      },
      "execution_count": 61,
      "outputs": [
        {
          "output_type": "execute_result",
          "data": {
            "text/plain": [
              "[84, 32, 24, 74, 96]"
            ]
          },
          "metadata": {},
          "execution_count": 61
        }
      ]
    },
    {
      "cell_type": "code",
      "source": [
        "odds = []\n",
        "for x in numbers:\n",
        "    if x % 2:\n",
        "        odds.append(x)\n",
        "\n",
        "odds"
      ],
      "metadata": {
        "colab": {
          "base_uri": "https://localhost:8080/"
        },
        "id": "ifdEhTqlEWAa",
        "outputId": "48ddbf13-35f9-4570-9efe-7e9f647411d2"
      },
      "execution_count": 62,
      "outputs": [
        {
          "output_type": "execute_result",
          "data": {
            "text/plain": [
              "[27, 27, 15, 41, 53]"
            ]
          },
          "metadata": {},
          "execution_count": 62
        }
      ]
    },
    {
      "cell_type": "markdown",
      "source": [
        "## Ex 2.\n",
        "\n",
        "*   integers 이름의 빈 리스트를 만듦.\n",
        "*   리스트 integers에 -10 이상 10 이하의 정수 난수 10개를 저장하고 출력.\n",
        "*   is_positives 이름의 빈 리스트를 만듦.\n",
        "*   integers의 원소가 양수이면 True, 그렇지 않으면 False를 is_positives에 저장하고 출력.\n"
      ],
      "metadata": {
        "id": "68557HXHT7VA"
      }
    },
    {
      "cell_type": "code",
      "source": [
        "integers = []\n",
        "for _ in range(10):\n",
        "    integers.append(random.randrange(-10, 11))\n",
        "\n",
        "integers"
      ],
      "metadata": {
        "colab": {
          "base_uri": "https://localhost:8080/"
        },
        "id": "-ILAR6o7W1n2",
        "outputId": "a309559c-d306-47d8-ebdb-67a64b6b93ae"
      },
      "execution_count": 65,
      "outputs": [
        {
          "output_type": "execute_result",
          "data": {
            "text/plain": [
              "[-5, 7, 3, 10, -10, -4, -8, -10, -2, 9]"
            ]
          },
          "metadata": {},
          "execution_count": 65
        }
      ]
    },
    {
      "cell_type": "code",
      "source": [
        "is_positives = []\n",
        "for x in integers:\n",
        "    if x > 0:\n",
        "        is_positives.append(True)\n",
        "    else:\n",
        "        is_positives.append(False)\n",
        "\n",
        "is_positives"
      ],
      "metadata": {
        "colab": {
          "base_uri": "https://localhost:8080/"
        },
        "id": "saiv27EcZNZO",
        "outputId": "fc63cd7a-8554-43f6-bf37-8b48b9f15b0d"
      },
      "execution_count": 66,
      "outputs": [
        {
          "output_type": "execute_result",
          "data": {
            "text/plain": [
              "[False, True, True, True, False, False, False, False, False, True]"
            ]
          },
          "metadata": {},
          "execution_count": 66
        }
      ]
    },
    {
      "cell_type": "markdown",
      "source": [
        "## Ex 3."
      ],
      "metadata": {
        "id": "orJkeqDlaCmV"
      }
    },
    {
      "cell_type": "code",
      "source": [
        "names = ['Python', 'SQL', 'R', 'Java', 'JavaScript']\n",
        "name_lengths = []  # names의 저장된 문자열의 길이(len(str))들을 저장할 리스트\n",
        "for x in names:\n",
        "    name_lengths.append(len(x))\n",
        "\n",
        "name_lengths"
      ],
      "metadata": {
        "colab": {
          "base_uri": "https://localhost:8080/"
        },
        "id": "wTxSSW15aGgk",
        "outputId": "159fd0a3-8e46-45c3-bb59-afc442dd57e6"
      },
      "execution_count": 67,
      "outputs": [
        {
          "output_type": "execute_result",
          "data": {
            "text/plain": [
              "[6, 3, 1, 4, 10]"
            ]
          },
          "metadata": {},
          "execution_count": 67
        }
      ]
    },
    {
      "cell_type": "markdown",
      "source": [
        "# List Comprehension"
      ],
      "metadata": {
        "id": "SErtNRQkbk8N"
      }
    },
    {
      "cell_type": "code",
      "source": [
        "# 1 ~ 10 정수들을 순서대로 저장하는 리스트\n",
        "numbers = []\n",
        "for x in range(1, 11):\n",
        "    numbers.append(x)\n",
        "\n",
        "numbers"
      ],
      "metadata": {
        "colab": {
          "base_uri": "https://localhost:8080/"
        },
        "id": "JXea7z-UbYuE",
        "outputId": "39a2b66c-ad10-4eb7-8c00-096b4e47dcae"
      },
      "execution_count": 68,
      "outputs": [
        {
          "output_type": "execute_result",
          "data": {
            "text/plain": [
              "[1, 2, 3, 4, 5, 6, 7, 8, 9, 10]"
            ]
          },
          "metadata": {},
          "execution_count": 68
        }
      ]
    },
    {
      "cell_type": "code",
      "source": [
        "numbers2 = [x for x in range(1, 11)]\n",
        "numbers2"
      ],
      "metadata": {
        "colab": {
          "base_uri": "https://localhost:8080/"
        },
        "id": "0T1j4BqMcHJ0",
        "outputId": "64cdec63-e231-4f9c-b289-32d281421ddf"
      },
      "execution_count": 69,
      "outputs": [
        {
          "output_type": "execute_result",
          "data": {
            "text/plain": [
              "[1, 2, 3, 4, 5, 6, 7, 8, 9, 10]"
            ]
          },
          "metadata": {},
          "execution_count": 69
        }
      ]
    },
    {
      "cell_type": "code",
      "source": [
        "# 1 ~ 20 사이의 홀수들을 저장하는 리스트: [1, 3, 5, ..., 17, 19]\n",
        "# odds = []\n",
        "# for x in range(1, 20, 2):\n",
        "#     odds.append(x)\n",
        "odds = [x for x in range(1, 20, 2)]\n",
        "\n",
        "odds"
      ],
      "metadata": {
        "colab": {
          "base_uri": "https://localhost:8080/"
        },
        "id": "9KLdtzZBcUjU",
        "outputId": "b850ccc6-8332-4297-804b-50a6ca108a5c"
      },
      "execution_count": 71,
      "outputs": [
        {
          "output_type": "execute_result",
          "data": {
            "text/plain": [
              "[1, 3, 5, 7, 9, 11, 13, 15, 17, 19]"
            ]
          },
          "metadata": {},
          "execution_count": 71
        }
      ]
    },
    {
      "cell_type": "code",
      "source": [
        "# 1 ~ 10 정수들의 제곱을 저장하는 리스트: [1, 4, 9, 16, ..., 81, 100]\n",
        "# squares = []\n",
        "# for x in range(1, 11):\n",
        "#     squares.append(x ** 2)\n",
        "squares = [x ** 2 for x in range(1, 11)]\n",
        "\n",
        "squares"
      ],
      "metadata": {
        "colab": {
          "base_uri": "https://localhost:8080/"
        },
        "id": "Bc533c-WdKrj",
        "outputId": "91eccc18-7709-48be-a2f2-c45eed4761fb"
      },
      "execution_count": 73,
      "outputs": [
        {
          "output_type": "execute_result",
          "data": {
            "text/plain": [
              "[1, 4, 9, 16, 25, 36, 49, 64, 81, 100]"
            ]
          },
          "metadata": {},
          "execution_count": 73
        }
      ]
    },
    {
      "cell_type": "code",
      "source": [
        "# 0 이상 100 미만의 정수 난수 10개를 저장하는 리스트\n",
        "# rand_numbers = []\n",
        "# for _ in range(10):\n",
        "#     rand_numbers.append(random.randrange(100))\n",
        "rand_numbers = [random.randrange(100) for _ in range(10)]\n",
        "\n",
        "rand_numbers"
      ],
      "metadata": {
        "colab": {
          "base_uri": "https://localhost:8080/"
        },
        "id": "BkTwsLUJehDs",
        "outputId": "b1544115-2bdb-42a1-84ef-0d95c9f48966"
      },
      "execution_count": 75,
      "outputs": [
        {
          "output_type": "execute_result",
          "data": {
            "text/plain": [
              "[22, 9, 19, 36, 38, 1, 40, 90, 88, 15]"
            ]
          },
          "metadata": {},
          "execution_count": 75
        }
      ]
    },
    {
      "cell_type": "code",
      "source": [
        "# rand_numbers의 원소들 중에서 짝수들로만 이루어진 리스트\n",
        "# evens = []\n",
        "# for x in rand_numbers:\n",
        "#     if x % 2 == 0:\n",
        "#         evens.append(x)\n",
        "evens = [x for x in rand_numbers if x % 2 == 0]\n",
        "\n",
        "evens"
      ],
      "metadata": {
        "colab": {
          "base_uri": "https://localhost:8080/"
        },
        "id": "4ZBOiA7MfxtC",
        "outputId": "f8e11534-d320-4b67-cb66-f15ec6676a53"
      },
      "execution_count": 77,
      "outputs": [
        {
          "output_type": "execute_result",
          "data": {
            "text/plain": [
              "[22, 36, 38, 40, 90, 88]"
            ]
          },
          "metadata": {},
          "execution_count": 77
        }
      ]
    },
    {
      "cell_type": "code",
      "source": [
        "# rand_numbers의 원소들 중에서 홀수들로만 이루어진 리스트\n",
        "odds = [x for x in rand_numbers if x % 2]\n",
        "odds"
      ],
      "metadata": {
        "colab": {
          "base_uri": "https://localhost:8080/"
        },
        "id": "2vXrKfxqgUN6",
        "outputId": "62df2f56-45d1-4517-9071-4a863d44d019"
      },
      "execution_count": 78,
      "outputs": [
        {
          "output_type": "execute_result",
          "data": {
            "text/plain": [
              "[9, 19, 1, 15]"
            ]
          },
          "metadata": {},
          "execution_count": 78
        }
      ]
    }
  ]
}