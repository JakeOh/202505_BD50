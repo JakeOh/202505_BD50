{
  "nbformat": 4,
  "nbformat_minor": 0,
  "metadata": {
    "colab": {
      "provenance": [],
      "toc_visible": true,
      "authorship_tag": "ABX9TyMt5MhyabCHIkWwKUv1JXol",
      "include_colab_link": true
    },
    "kernelspec": {
      "name": "python3",
      "display_name": "Python 3"
    },
    "language_info": {
      "name": "python"
    }
  },
  "cells": [
    {
      "cell_type": "markdown",
      "metadata": {
        "id": "view-in-github",
        "colab_type": "text"
      },
      "source": [
        "<a href=\"https://colab.research.google.com/github/JakeOh/202505_BD50/blob/main/lab_python/python06_list.ipynb\" target=\"_parent\"><img src=\"https://colab.research.google.com/assets/colab-badge.svg\" alt=\"Open In Colab\"/></a>"
      ]
    },
    {
      "cell_type": "markdown",
      "source": [
        "# 리스트(list)\n",
        "\n",
        "*   `list`: 여러 개의 값들을 하나의 변수에 저장하기 위한 데이터 타입.\n",
        "*   원소(element), 아이템(item): 리스트에 저장된 각각의 값.\n",
        "*   인덱스(index): 리스트에 원소들이 저장된 위치를 표시하는 정수.\n",
        "    *   리스트의 인덱스는 **0**부터 시작.\n",
        "    *   리스트에서 마지막 원소의 인덱스는 (원소 개수 - 1).\n",
        "*   리스트는 원소들을 추가, 변경, 삭제할 수 있음.\n",
        "    *   `tuple`과 다른 점."
      ],
      "metadata": {
        "id": "g2bkoCWW8vgV"
      }
    },
    {
      "cell_type": "code",
      "execution_count": 4,
      "metadata": {
        "colab": {
          "base_uri": "https://localhost:8080/"
        },
        "id": "TgBhtTn78qJp",
        "outputId": "f1d67744-7dd4-4b24-b990-a17573d8ccdf"
      },
      "outputs": [
        {
          "output_type": "stream",
          "name": "stdout",
          "text": [
            "<class 'list'>\n",
            "[1, 2, 10, 20, -1, -2]\n"
          ]
        },
        {
          "output_type": "execute_result",
          "data": {
            "text/plain": [
              "[1, 2, 10, 20, -1, -2]"
            ]
          },
          "metadata": {},
          "execution_count": 4
        }
      ],
      "source": [
        "# 숫자들을 저장하는 list\n",
        "numbers = [1, 2, 10, 20, -1, -2]\n",
        "print(type(numbers))\n",
        "print(numbers)\n",
        "numbers"
      ]
    },
    {
      "cell_type": "code",
      "source": [
        "# 파이썬의 리스트는 여러 타입의 값들을 하나의 변수에 저장할 수 있음.\n",
        "values = [1, 2, '안녕', '파이썬', True, False, [1, 2, 3]]\n",
        "print(type(values))\n",
        "values"
      ],
      "metadata": {
        "colab": {
          "base_uri": "https://localhost:8080/"
        },
        "id": "1yO0vev7_rxb",
        "outputId": "bf035d48-2a21-4c9d-ecfc-e7efa43a2196"
      },
      "execution_count": 6,
      "outputs": [
        {
          "output_type": "stream",
          "name": "stdout",
          "text": [
            "<class 'list'>\n"
          ]
        },
        {
          "output_type": "execute_result",
          "data": {
            "text/plain": [
              "[1, 2, '안녕', '파이썬', True, False, [1, 2, 3]]"
            ]
          },
          "metadata": {},
          "execution_count": 6
        }
      ]
    },
    {
      "cell_type": "code",
      "source": [],
      "metadata": {
        "id": "Ebp01JLKAu4K"
      },
      "execution_count": null,
      "outputs": []
    }
  ]
}