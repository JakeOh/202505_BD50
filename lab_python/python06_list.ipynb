{
  "nbformat": 4,
  "nbformat_minor": 0,
  "metadata": {
    "colab": {
      "provenance": [],
      "toc_visible": true,
      "authorship_tag": "ABX9TyPnQlfJCsSWnuzVmCUXhGWj",
      "include_colab_link": true
    },
    "kernelspec": {
      "name": "python3",
      "display_name": "Python 3"
    },
    "language_info": {
      "name": "python"
    }
  },
  "cells": [
    {
      "cell_type": "markdown",
      "metadata": {
        "id": "view-in-github",
        "colab_type": "text"
      },
      "source": [
        "<a href=\"https://colab.research.google.com/github/JakeOh/202505_BD50/blob/main/lab_python/python06_list.ipynb\" target=\"_parent\"><img src=\"https://colab.research.google.com/assets/colab-badge.svg\" alt=\"Open In Colab\"/></a>"
      ]
    },
    {
      "cell_type": "markdown",
      "source": [
        "# 리스트(list)\n",
        "\n",
        "*   `list`: 여러 개의 값들을 하나의 변수에 저장하기 위한 데이터 타입.\n",
        "*   원소(element), 아이템(item): 리스트에 저장된 각각의 값.\n",
        "*   인덱스(index): 리스트에 원소들이 저장된 위치를 표시하는 정수.\n",
        "    *   리스트의 인덱스는 **0**부터 시작.\n",
        "    *   리스트에서 마지막 원소의 인덱스는 (원소 개수 - 1).\n",
        "*   리스트는 원소들을 추가, 변경, 삭제할 수 있음.\n",
        "    *   `tuple`과 다른 점."
      ],
      "metadata": {
        "id": "g2bkoCWW8vgV"
      }
    },
    {
      "cell_type": "code",
      "execution_count": 1,
      "metadata": {
        "colab": {
          "base_uri": "https://localhost:8080/"
        },
        "id": "TgBhtTn78qJp",
        "outputId": "cb683111-994b-48fa-f5e2-93b5dbeca9e9"
      },
      "outputs": [
        {
          "output_type": "stream",
          "name": "stdout",
          "text": [
            "<class 'list'>\n",
            "[1, 2, 10, 20, -1, -2]\n"
          ]
        },
        {
          "output_type": "execute_result",
          "data": {
            "text/plain": [
              "[1, 2, 10, 20, -1, -2]"
            ]
          },
          "metadata": {},
          "execution_count": 1
        }
      ],
      "source": [
        "# 숫자들을 저장하는 list\n",
        "numbers = [1, 2, 10, 20, -1, -2]\n",
        "print(type(numbers))\n",
        "print(numbers)\n",
        "numbers"
      ]
    },
    {
      "cell_type": "code",
      "source": [
        "# 파이썬의 리스트는 여러 타입의 값들을 하나의 변수에 저장할 수 있음.\n",
        "values = [1, 2, '안녕', '파이썬', True, False, [1, 2, 3]]\n",
        "print(type(values))\n",
        "values"
      ],
      "metadata": {
        "colab": {
          "base_uri": "https://localhost:8080/"
        },
        "id": "1yO0vev7_rxb",
        "outputId": "68e1d0c5-5a77-4e4a-ea6c-c07a3631de6a"
      },
      "execution_count": 2,
      "outputs": [
        {
          "output_type": "stream",
          "name": "stdout",
          "text": [
            "<class 'list'>\n"
          ]
        },
        {
          "output_type": "execute_result",
          "data": {
            "text/plain": [
              "[1, 2, '안녕', '파이썬', True, False, [1, 2, 3]]"
            ]
          },
          "metadata": {},
          "execution_count": 2
        }
      ]
    },
    {
      "cell_type": "markdown",
      "source": [
        "# Indexing\n",
        "\n",
        "인덱스를 사용해서 리스트의 아이템을 사용하는 방법."
      ],
      "metadata": {
        "id": "8kUZYuicjayS"
      }
    },
    {
      "cell_type": "code",
      "source": [
        "numbers = [1, -2, 3, 10, -20, 100]\n",
        "numbers"
      ],
      "metadata": {
        "id": "Ebp01JLKAu4K",
        "colab": {
          "base_uri": "https://localhost:8080/"
        },
        "outputId": "2134ee3e-d6ef-403a-f1bf-ac4557506b07"
      },
      "execution_count": 3,
      "outputs": [
        {
          "output_type": "execute_result",
          "data": {
            "text/plain": [
              "[1, -2, 3, 10, -20, 100]"
            ]
          },
          "metadata": {},
          "execution_count": 3
        }
      ]
    },
    {
      "cell_type": "code",
      "source": [
        "numbers[0]  # 리스트 numbers의 첫번째 아이템"
      ],
      "metadata": {
        "colab": {
          "base_uri": "https://localhost:8080/"
        },
        "id": "9LfyqlVwj3AM",
        "outputId": "610d99f8-b6e9-4455-ee71-0d2693893c75"
      },
      "execution_count": 4,
      "outputs": [
        {
          "output_type": "execute_result",
          "data": {
            "text/plain": [
              "1"
            ]
          },
          "metadata": {},
          "execution_count": 4
        }
      ]
    },
    {
      "cell_type": "code",
      "source": [
        "numbers[5]  # 리스트 numbers의 인덱스 5번 위치의 원소(마지막 원소)"
      ],
      "metadata": {
        "colab": {
          "base_uri": "https://localhost:8080/"
        },
        "id": "oTqKTrfvkv7K",
        "outputId": "19e028ba-41eb-4709-ad49-98f50fdd736c"
      },
      "execution_count": 5,
      "outputs": [
        {
          "output_type": "execute_result",
          "data": {
            "text/plain": [
              "100"
            ]
          },
          "metadata": {},
          "execution_count": 5
        }
      ]
    },
    {
      "cell_type": "code",
      "source": [
        "numbers[-1]  # 리스트 numbers의 마지막 아이템"
      ],
      "metadata": {
        "colab": {
          "base_uri": "https://localhost:8080/"
        },
        "id": "ZxsrdzVxk_8s",
        "outputId": "65784f8d-5723-44ab-d3a5-b0ba7fac9cc5"
      },
      "execution_count": 6,
      "outputs": [
        {
          "output_type": "execute_result",
          "data": {
            "text/plain": [
              "100"
            ]
          },
          "metadata": {},
          "execution_count": 6
        }
      ]
    },
    {
      "cell_type": "code",
      "source": [
        "numbers[-2]  # 리스트 numbers의 끝에서 두번째 아이템"
      ],
      "metadata": {
        "colab": {
          "base_uri": "https://localhost:8080/"
        },
        "id": "j70Hxsddl3q6",
        "outputId": "8adf3bd7-d73b-4619-9901-0259118bd2d6"
      },
      "execution_count": 7,
      "outputs": [
        {
          "output_type": "execute_result",
          "data": {
            "text/plain": [
              "-20"
            ]
          },
          "metadata": {},
          "execution_count": 7
        }
      ]
    },
    {
      "cell_type": "markdown",
      "source": [
        "# Slicing\n",
        "\n",
        "`list[start:end]`\n",
        "*   list에서 인덱스 start <= index < end 범위의 아이템들을 잘라내는 방법\n",
        "*   시작 인덱스 start를 생략하면 첫번째 원소부터 잘라냄. start의 기본값은 0.\n",
        "*   종료 인덱스 end를 생략하면 마지막 원소까지 잘라냄.\n",
        "*   slicing의 결과는 **새로운 리스트**."
      ],
      "metadata": {
        "id": "yfYp7TtHmQzi"
      }
    },
    {
      "cell_type": "code",
      "source": [
        "numbers[1:4]"
      ],
      "metadata": {
        "colab": {
          "base_uri": "https://localhost:8080/"
        },
        "id": "8GKZAFyMnPkJ",
        "outputId": "f877c777-55cd-44ce-fc78-d6248ce0f7d3"
      },
      "execution_count": 9,
      "outputs": [
        {
          "output_type": "execute_result",
          "data": {
            "text/plain": [
              "[-2, 3, 10]"
            ]
          },
          "metadata": {},
          "execution_count": 9
        }
      ]
    },
    {
      "cell_type": "code",
      "source": [
        "# 리스트 numbers에서 첫번째 원소부터 3개의 원소를 잘라냄\n",
        "numbers[:3]  # numbers[0:3]"
      ],
      "metadata": {
        "colab": {
          "base_uri": "https://localhost:8080/"
        },
        "id": "jIFkKHWcn_GH",
        "outputId": "cda5c391-1910-4d65-898e-0d5afd35d6ee"
      },
      "execution_count": 11,
      "outputs": [
        {
          "output_type": "execute_result",
          "data": {
            "text/plain": [
              "[1, -2, 3]"
            ]
          },
          "metadata": {},
          "execution_count": 11
        }
      ]
    },
    {
      "cell_type": "code",
      "source": [
        "# 리스트 numbers에서 인덱스 4번 위치부터 마지막 원소까지 잘라냄.\n",
        "numbers[4:]  # numbers[4:6]"
      ],
      "metadata": {
        "colab": {
          "base_uri": "https://localhost:8080/"
        },
        "id": "Wy9OTPojodnv",
        "outputId": "7b0b32f6-cc35-442f-ea3a-06a320e7edd5"
      },
      "execution_count": 13,
      "outputs": [
        {
          "output_type": "execute_result",
          "data": {
            "text/plain": [
              "[-20, 100]"
            ]
          },
          "metadata": {},
          "execution_count": 13
        }
      ]
    },
    {
      "cell_type": "code",
      "source": [
        "# 리스트 numbers에서 끝에서 2개 아이템들을 잘라냄.\n",
        "numbers[-2:]"
      ],
      "metadata": {
        "colab": {
          "base_uri": "https://localhost:8080/"
        },
        "id": "CMcwRzHCo_fn",
        "outputId": "14237d08-a964-4f9c-f48a-b9cdaf4d1b23"
      },
      "execution_count": 14,
      "outputs": [
        {
          "output_type": "execute_result",
          "data": {
            "text/plain": [
              "[-20, 100]"
            ]
          },
          "metadata": {},
          "execution_count": 14
        }
      ]
    },
    {
      "cell_type": "code",
      "source": [
        "print(numbers[0])  # 리스트의 원소\n",
        "print(numbers[0:1])  # 리스트(부분집합)"
      ],
      "metadata": {
        "colab": {
          "base_uri": "https://localhost:8080/"
        },
        "id": "zL8jvqRfpyLP",
        "outputId": "d37310d7-54e0-44de-976c-364e94d01a96"
      },
      "execution_count": 15,
      "outputs": [
        {
          "output_type": "stream",
          "name": "stdout",
          "text": [
            "1\n",
            "[1]\n"
          ]
        }
      ]
    }
  ]
}