{
  "nbformat": 4,
  "nbformat_minor": 0,
  "metadata": {
    "colab": {
      "provenance": [],
      "toc_visible": true,
      "authorship_tag": "ABX9TyPo88XFIMvTXRbZUjhToklH",
      "include_colab_link": true
    },
    "kernelspec": {
      "name": "python3",
      "display_name": "Python 3"
    },
    "language_info": {
      "name": "python"
    }
  },
  "cells": [
    {
      "cell_type": "markdown",
      "metadata": {
        "id": "view-in-github",
        "colab_type": "text"
      },
      "source": [
        "<a href=\"https://colab.research.google.com/github/JakeOh/202505_BD50/blob/main/lab_python/python07_tuple.ipynb\" target=\"_parent\"><img src=\"https://colab.research.google.com/assets/colab-badge.svg\" alt=\"Open In Colab\"/></a>"
      ]
    },
    {
      "cell_type": "markdown",
      "source": [
        "# 튜플(tuple)\n",
        "\n",
        "*   `tuple`: 저장된 아이템들을 변경할 수 없는 리스트.\n",
        "*   인덱스 기반의 데이터 타입.\n",
        "    *   indexing: 특정 인덱스 위치의 아이템을 읽어옴.\n",
        "    *   slicing: 특정 인덱스 범위의 아이템들로 이루어진 **새로운 튜플**을 만듦.\n",
        "*   append, extend, insert, pop, remove, ... 와 같은 함수들은 제공되지 않음."
      ],
      "metadata": {
        "id": "tRZLiNu95T7E"
      }
    },
    {
      "cell_type": "code",
      "execution_count": 3,
      "metadata": {
        "colab": {
          "base_uri": "https://localhost:8080/"
        },
        "id": "nKXaY1Sn5QD4",
        "outputId": "ac4ce747-2d3b-41f6-cc75-817dbe562855"
      },
      "outputs": [
        {
          "output_type": "stream",
          "name": "stdout",
          "text": [
            "<class 'tuple'>\n"
          ]
        },
        {
          "output_type": "execute_result",
          "data": {
            "text/plain": [
              "(1, 2, 3, 1, 1, 2)"
            ]
          },
          "metadata": {},
          "execution_count": 3
        }
      ],
      "source": [
        "numbers = (1, 2, 3, 1, 1, 2)\n",
        "print(type(numbers))\n",
        "numbers"
      ]
    },
    {
      "cell_type": "code",
      "source": [
        "len(numbers)  # 튜플의 아이템의 개수"
      ],
      "metadata": {
        "colab": {
          "base_uri": "https://localhost:8080/"
        },
        "id": "Jp7-WGD87b4h",
        "outputId": "4d9a1241-b33f-43fc-cc29-80206162132e"
      },
      "execution_count": 2,
      "outputs": [
        {
          "output_type": "execute_result",
          "data": {
            "text/plain": [
              "6"
            ]
          },
          "metadata": {},
          "execution_count": 2
        }
      ]
    },
    {
      "cell_type": "code",
      "source": [
        "numbers.count(1)  # list|tuple.count(value): 리스트 또는 튜플에서 value가 나오는 횟수를 리턴."
      ],
      "metadata": {
        "colab": {
          "base_uri": "https://localhost:8080/"
        },
        "id": "r2dR4Uj87oth",
        "outputId": "a2b50772-f194-47df-80b2-4558507ffad5"
      },
      "execution_count": 4,
      "outputs": [
        {
          "output_type": "execute_result",
          "data": {
            "text/plain": [
              "3"
            ]
          },
          "metadata": {},
          "execution_count": 4
        }
      ]
    },
    {
      "cell_type": "code",
      "source": [
        "numbers.index(2)  # list|tuple.index(value): 리스트 또는 튜플에서 value가 처음 나오는 인덱스를 리턴."
      ],
      "metadata": {
        "colab": {
          "base_uri": "https://localhost:8080/"
        },
        "id": "MCxK-NKC8YIo",
        "outputId": "a3570147-7e54-4658-c6f3-05c805801e0e"
      },
      "execution_count": 5,
      "outputs": [
        {
          "output_type": "execute_result",
          "data": {
            "text/plain": [
              "1"
            ]
          },
          "metadata": {},
          "execution_count": 5
        }
      ]
    },
    {
      "cell_type": "markdown",
      "source": [
        "# Indexing"
      ],
      "metadata": {
        "id": "xM1MLFLl9D9w"
      }
    },
    {
      "cell_type": "code",
      "source": [
        "numbers"
      ],
      "metadata": {
        "colab": {
          "base_uri": "https://localhost:8080/"
        },
        "id": "qN3q-kVd9FRw",
        "outputId": "4f5cdaab-b231-487a-9216-78c4a5e2980a"
      },
      "execution_count": 6,
      "outputs": [
        {
          "output_type": "execute_result",
          "data": {
            "text/plain": [
              "(1, 2, 3, 1, 1, 2)"
            ]
          },
          "metadata": {},
          "execution_count": 6
        }
      ]
    },
    {
      "cell_type": "code",
      "source": [
        "numbers[0]  # 튜플 numbers의 첫번째 원소"
      ],
      "metadata": {
        "colab": {
          "base_uri": "https://localhost:8080/"
        },
        "id": "kMaMi9Qm9HPo",
        "outputId": "2cd3bf9d-924a-4dd4-da2f-8370fa8207a4"
      },
      "execution_count": 7,
      "outputs": [
        {
          "output_type": "execute_result",
          "data": {
            "text/plain": [
              "1"
            ]
          },
          "metadata": {},
          "execution_count": 7
        }
      ]
    },
    {
      "cell_type": "code",
      "source": [
        "numbers[-1]  # 튜플 numbers의 마지막 원소"
      ],
      "metadata": {
        "colab": {
          "base_uri": "https://localhost:8080/"
        },
        "id": "BGua3AIy9KO5",
        "outputId": "9a6b07d5-b52f-44ee-9d29-abe6ab04f12d"
      },
      "execution_count": 8,
      "outputs": [
        {
          "output_type": "execute_result",
          "data": {
            "text/plain": [
              "2"
            ]
          },
          "metadata": {},
          "execution_count": 8
        }
      ]
    },
    {
      "cell_type": "markdown",
      "source": [
        "# Slicing"
      ],
      "metadata": {
        "id": "HFMWAi8a9gtA"
      }
    },
    {
      "cell_type": "code",
      "source": [
        "numbers[:3]  # 튜플에서 첫 3개 원소들을 자른 결과 튜플"
      ],
      "metadata": {
        "colab": {
          "base_uri": "https://localhost:8080/"
        },
        "id": "ZkKkRjGC9aTR",
        "outputId": "f6498a7b-d233-489e-eb4b-1e2f3c7b0601"
      },
      "execution_count": 9,
      "outputs": [
        {
          "output_type": "execute_result",
          "data": {
            "text/plain": [
              "(1, 2, 3)"
            ]
          },
          "metadata": {},
          "execution_count": 9
        }
      ]
    },
    {
      "cell_type": "code",
      "source": [
        "numbers[-3:]  # 튜플에서 마지막 3개 원소들을 자른 결과 튜플"
      ],
      "metadata": {
        "colab": {
          "base_uri": "https://localhost:8080/"
        },
        "id": "0PARg_GF9koY",
        "outputId": "f4c01f7e-62ce-427f-e156-af90f94d6ae4"
      },
      "execution_count": 10,
      "outputs": [
        {
          "output_type": "execute_result",
          "data": {
            "text/plain": [
              "(1, 1, 2)"
            ]
          },
          "metadata": {},
          "execution_count": 10
        }
      ]
    },
    {
      "cell_type": "markdown",
      "source": [
        "# tuple과 for 반복문"
      ],
      "metadata": {
        "id": "HV2HzuI8BiMV"
      }
    },
    {
      "cell_type": "code",
      "source": [
        "for x in (1, 10, -2, -20, 30):\n",
        "    print(x)"
      ],
      "metadata": {
        "colab": {
          "base_uri": "https://localhost:8080/"
        },
        "id": "9gT_8hSwBkU-",
        "outputId": "df53e5d7-7e76-43c6-8e13-d17a56ceb9ac"
      },
      "execution_count": 11,
      "outputs": [
        {
          "output_type": "stream",
          "name": "stdout",
          "text": [
            "1\n",
            "10\n",
            "-2\n",
            "-20\n",
            "30\n"
          ]
        }
      ]
    },
    {
      "cell_type": "code",
      "source": [
        "matrix = (\n",
        "    (1, 2, 3),\n",
        "    (4, 5, 6),\n",
        "    (7, 8, 9)\n",
        ")"
      ],
      "metadata": {
        "id": "zm7AbZ3XB0bO"
      },
      "execution_count": 12,
      "outputs": []
    },
    {
      "cell_type": "code",
      "source": [
        "matrix[0][0]"
      ],
      "metadata": {
        "colab": {
          "base_uri": "https://localhost:8080/"
        },
        "id": "2mhQtlDHCLJG",
        "outputId": "e80e3384-ec8b-4652-a777-f6b42c18184a"
      },
      "execution_count": 14,
      "outputs": [
        {
          "output_type": "execute_result",
          "data": {
            "text/plain": [
              "1"
            ]
          },
          "metadata": {},
          "execution_count": 14
        }
      ]
    },
    {
      "cell_type": "code",
      "source": [
        "for row in matrix:\n",
        "    for x in row:\n",
        "        print(x, end='\\t')\n",
        "    print()"
      ],
      "metadata": {
        "colab": {
          "base_uri": "https://localhost:8080/"
        },
        "id": "But9jkSnC8kF",
        "outputId": "d3dcd22e-6622-45a7-c367-b1365f880169"
      },
      "execution_count": 17,
      "outputs": [
        {
          "output_type": "stream",
          "name": "stdout",
          "text": [
            "1\t2\t3\t\n",
            "4\t5\t6\t\n",
            "7\t8\t9\t\n"
          ]
        }
      ]
    },
    {
      "cell_type": "markdown",
      "source": [
        "# list | tuple decomposition(분해)"
      ],
      "metadata": {
        "id": "EsnV6rKODd09"
      }
    },
    {
      "cell_type": "code",
      "source": [
        "integers = (1, 2, 3)\n",
        "# x = integers[0]\n",
        "# y = integers[1]\n",
        "# z = integers[2]\n",
        "\n",
        "# x, y, z = integers[0], integers[1], integers[2]\n",
        "\n",
        "x, y, z = integers\n",
        "\n",
        "print(x, y, z)"
      ],
      "metadata": {
        "colab": {
          "base_uri": "https://localhost:8080/"
        },
        "id": "w_v7RI16DoTs",
        "outputId": "c83bf57f-31fb-44fa-9e00-0a4964002ba3"
      },
      "execution_count": 22,
      "outputs": [
        {
          "output_type": "stream",
          "name": "stdout",
          "text": [
            "1 2 3\n"
          ]
        }
      ]
    },
    {
      "cell_type": "code",
      "source": [
        "names = ['홍길동', '오쌤']\n",
        "person1, person2 = names\n",
        "print(person1, person2)"
      ],
      "metadata": {
        "colab": {
          "base_uri": "https://localhost:8080/"
        },
        "id": "bmSG4TKEE5sM",
        "outputId": "260d97ad-4bfa-4119-a463-76c6dd7bfe44"
      },
      "execution_count": 23,
      "outputs": [
        {
          "output_type": "stream",
          "name": "stdout",
          "text": [
            "홍길동 오쌤\n"
          ]
        }
      ]
    }
  ]
}