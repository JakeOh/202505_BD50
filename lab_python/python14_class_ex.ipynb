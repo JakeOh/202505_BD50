{
  "nbformat": 4,
  "nbformat_minor": 0,
  "metadata": {
    "colab": {
      "provenance": [],
      "toc_visible": true,
      "authorship_tag": "ABX9TyORsFrNsFzIwNmIvYGdnb3C",
      "include_colab_link": true
    },
    "kernelspec": {
      "name": "python3",
      "display_name": "Python 3"
    },
    "language_info": {
      "name": "python"
    }
  },
  "cells": [
    {
      "cell_type": "markdown",
      "metadata": {
        "id": "view-in-github",
        "colab_type": "text"
      },
      "source": [
        "<a href=\"https://colab.research.google.com/github/JakeOh/202505_BD50/blob/main/lab_python/python14_class_ex.ipynb\" target=\"_parent\"><img src=\"https://colab.research.google.com/assets/colab-badge.svg\" alt=\"Open In Colab\"/></a>"
      ]
    },
    {
      "cell_type": "markdown",
      "source": [
        "# Ex 1.\n",
        "\n",
        "Score 클래스 선언\n",
        "*   속성(property): 국어(korean), 수학(math), 과학(science)\n",
        "    *   국어, 수학, 과학의 기본값은 0.\n",
        "*   기능(method): get_total(총점 리턴), get_mean(평균 리턴)\n",
        "*   `__str__` 메서드: \"Score(korean=100, math=100, science=100)\" 형식의 문자열을 리턴.\n",
        "*   `__repr__` 메서드: \"점수(국어=100, 수학=100, 과학=100)\" 형식의 문자열을 리턴.\n"
      ],
      "metadata": {
        "id": "6YqPKdy97Vpz"
      }
    },
    {
      "cell_type": "code",
      "source": [
        "class Score:\n",
        "    def __init__(self, korean=0, math=0, science=0):\n",
        "        self.korean = korean\n",
        "        self.math = math\n",
        "        self.science = science\n",
        "\n",
        "    def __str__(self):\n",
        "        return f'Score(korean={self.korean}, math={self.math}, science={self.science})'\n",
        "\n",
        "    def __repr__(self):\n",
        "        return f'점수(국어={self.korean}, 수학={self.math}, 과학={self.science})'\n",
        "\n",
        "    def get_total(self):\n",
        "        return self.korean + self.math + self.science\n",
        "\n",
        "    def get_mean(self):\n",
        "        return self.get_total() / 3"
      ],
      "metadata": {
        "id": "MD8Kl8fl-s24"
      },
      "execution_count": 1,
      "outputs": []
    },
    {
      "cell_type": "markdown",
      "source": [
        "# Ex 2.\n",
        "\n",
        "Student 클래스 선언\n",
        "*   속성: 번호(id), 이름(name), 점수(score: Score 타입 객체)\n",
        "*   `__str__`, `__repr__` 메서드 같은 형식의 문자열을 리턴.\n",
        "    *   (예) Score(id=1, name=홍길동, score=Score(...))"
      ],
      "metadata": {
        "id": "Ut-czyr582V5"
      }
    },
    {
      "cell_type": "code",
      "execution_count": 5,
      "metadata": {
        "id": "FNdnvycA7OuX"
      },
      "outputs": [],
      "source": [
        "class Student:\n",
        "    def __init__(self, id, name, score):\n",
        "        self.id = id\n",
        "        self.name = name\n",
        "        self.score = score\n",
        "\n",
        "    def __str__(self):\n",
        "        return f'Student(id={self.id}, name={self.name}, score={self.score})'\n",
        "\n",
        "    def __repr__(self):\n",
        "        return self.__str__()"
      ]
    },
    {
      "cell_type": "code",
      "source": [
        "score1 = Score()\n",
        "print(score1)\n",
        "score1"
      ],
      "metadata": {
        "colab": {
          "base_uri": "https://localhost:8080/"
        },
        "id": "7zhALgf4_uC4",
        "outputId": "021ef7b6-847c-4ccf-b8b4-cfe16249a384"
      },
      "execution_count": 3,
      "outputs": [
        {
          "output_type": "stream",
          "name": "stdout",
          "text": [
            "Score(korean=0, math=0, science=0)\n"
          ]
        },
        {
          "output_type": "execute_result",
          "data": {
            "text/plain": [
              "점수(국어=0, 수학=0, 과학=0)"
            ]
          },
          "metadata": {},
          "execution_count": 3
        }
      ]
    },
    {
      "cell_type": "code",
      "source": [
        "score2 = Score(100, 99, 97)\n",
        "print(score2)\n",
        "score2"
      ],
      "metadata": {
        "colab": {
          "base_uri": "https://localhost:8080/"
        },
        "id": "KvwSfWjQ_yZg",
        "outputId": "81ca85b5-3196-47da-a396-29b8a6846334"
      },
      "execution_count": 4,
      "outputs": [
        {
          "output_type": "stream",
          "name": "stdout",
          "text": [
            "Score(korean=100, math=99, science=97)\n"
          ]
        },
        {
          "output_type": "execute_result",
          "data": {
            "text/plain": [
              "점수(국어=100, 수학=99, 과학=97)"
            ]
          },
          "metadata": {},
          "execution_count": 4
        }
      ]
    },
    {
      "cell_type": "code",
      "source": [
        "student1 = Student(1, '홍길동', score1)\n",
        "print(student1)\n",
        "student1"
      ],
      "metadata": {
        "colab": {
          "base_uri": "https://localhost:8080/"
        },
        "id": "zsvRk2nX_7MX",
        "outputId": "9074deae-ce04-43fe-9ee3-a9e30963c4f2"
      },
      "execution_count": 6,
      "outputs": [
        {
          "output_type": "stream",
          "name": "stdout",
          "text": [
            "Student(id=1, name=홍길동, score=Score(korean=0, math=0, science=0))\n"
          ]
        },
        {
          "output_type": "execute_result",
          "data": {
            "text/plain": [
              "Student(id=1, name=홍길동, score=Score(korean=0, math=0, science=0))"
            ]
          },
          "metadata": {},
          "execution_count": 6
        }
      ]
    },
    {
      "cell_type": "code",
      "source": [
        "student2 = Student(2, '오쌤', score2)\n",
        "print(student2)\n",
        "print('총점 =', student2.score.get_total())\n",
        "print('평균 =', student2.score.get_mean())"
      ],
      "metadata": {
        "colab": {
          "base_uri": "https://localhost:8080/"
        },
        "id": "Adv3EF9rAKPA",
        "outputId": "9cb5df84-9d10-48bd-a888-c96ade099b6a"
      },
      "execution_count": 7,
      "outputs": [
        {
          "output_type": "stream",
          "name": "stdout",
          "text": [
            "Student(id=2, name=오쌤, score=Score(korean=100, math=99, science=97))\n",
            "총점 = 296\n",
            "평균 = 98.66666666666667\n"
          ]
        }
      ]
    },
    {
      "cell_type": "code",
      "source": [
        "student3 = Student(3, 'Scott', Score(11, 22, 32))\n",
        "print(student3)\n",
        "print('총점 =', student3.score.get_total())\n",
        "print('평균 =', student3.score.get_mean())"
      ],
      "metadata": {
        "colab": {
          "base_uri": "https://localhost:8080/"
        },
        "id": "yX2mEB83DZ01",
        "outputId": "5f57abd0-4493-4590-bf27-678fcc470393"
      },
      "execution_count": 8,
      "outputs": [
        {
          "output_type": "stream",
          "name": "stdout",
          "text": [
            "Student(id=3, name=Scott, score=Score(korean=11, math=22, science=32))\n",
            "총점 = 65\n",
            "평균 = 21.666666666666668\n"
          ]
        }
      ]
    }
  ]
}