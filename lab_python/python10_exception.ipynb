{
  "nbformat": 4,
  "nbformat_minor": 0,
  "metadata": {
    "colab": {
      "provenance": [],
      "toc_visible": true,
      "authorship_tag": "ABX9TyM5V/y6hh8G+pxA+7JFVrVz",
      "include_colab_link": true
    },
    "kernelspec": {
      "name": "python3",
      "display_name": "Python 3"
    },
    "language_info": {
      "name": "python"
    }
  },
  "cells": [
    {
      "cell_type": "markdown",
      "metadata": {
        "id": "view-in-github",
        "colab_type": "text"
      },
      "source": [
        "<a href=\"https://colab.research.google.com/github/JakeOh/202505_BD50/blob/main/lab_python/python10_exception.ipynb\" target=\"_parent\"><img src=\"https://colab.research.google.com/assets/colab-badge.svg\" alt=\"Open In Colab\"/></a>"
      ]
    },
    {
      "cell_type": "markdown",
      "source": [
        "# 오류(Error)의 종류"
      ],
      "metadata": {
        "id": "5Lin8MvITo7v"
      }
    },
    {
      "cell_type": "code",
      "execution_count": 2,
      "metadata": {
        "colab": {
          "base_uri": "https://localhost:8080/"
        },
        "id": "D8GunuyWTeac",
        "outputId": "c763eac9-f312-48aa-ca00-f1c670c7e059"
      },
      "outputs": [
        {
          "output_type": "stream",
          "name": "stdout",
          "text": [
            "안녕하세요\n"
          ]
        }
      ],
      "source": [
        "# prnt('안녕하세요')\n",
        "#> 1번 라인을 실행하면 NameError 발생 -> 문법 오류 -> 문법에 맞는 문장으로 코드 수정\n",
        "\n",
        "print('안녕하세요')"
      ]
    },
    {
      "cell_type": "code",
      "source": [
        "number = int(input('정수 입력>>> '))\n",
        "print(number)"
      ],
      "metadata": {
        "colab": {
          "base_uri": "https://localhost:8080/"
        },
        "id": "uzGuj_rHUhKt",
        "outputId": "f33eaa85-e901-479b-8947-948fd0cf427d"
      },
      "execution_count": 7,
      "outputs": [
        {
          "output_type": "stream",
          "name": "stdout",
          "text": [
            "정수 입력>>> 12\n",
            "12\n"
          ]
        }
      ]
    },
    {
      "cell_type": "markdown",
      "source": [
        "위의 코드 셀은 사용자가 어떤 문자열을 입력했는 지에 따라서 코드 실행이 정상적으로 종료될 수도 있고,\n",
        "비정상적으로 에러가 발생할 수도 있음.\n",
        "\n",
        "코드 실행 중에 유가 발생하는 경우 해결 방법:\n",
        "*   오류가 발생한 위치와 원인을 찾아서 오류가 발생하지 않도록 코드 수정.\n",
        "*   오류가 발생하더라도 정상적인 종료가 될 수 있도록 처리 -> 예외 처리."
      ],
      "metadata": {
        "id": "TYIMndIxVo-D"
      }
    },
    {
      "cell_type": "code",
      "source": [],
      "metadata": {
        "id": "HoAuHJ1SVVKU"
      },
      "execution_count": null,
      "outputs": []
    }
  ]
}