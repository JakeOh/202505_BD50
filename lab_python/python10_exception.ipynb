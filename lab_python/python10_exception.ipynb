{
  "nbformat": 4,
  "nbformat_minor": 0,
  "metadata": {
    "colab": {
      "provenance": [],
      "toc_visible": true,
      "authorship_tag": "ABX9TyNGap5ALP8f4hzKDKWXAVOD",
      "include_colab_link": true
    },
    "kernelspec": {
      "name": "python3",
      "display_name": "Python 3"
    },
    "language_info": {
      "name": "python"
    }
  },
  "cells": [
    {
      "cell_type": "markdown",
      "metadata": {
        "id": "view-in-github",
        "colab_type": "text"
      },
      "source": [
        "<a href=\"https://colab.research.google.com/github/JakeOh/202505_BD50/blob/main/lab_python/python10_exception.ipynb\" target=\"_parent\"><img src=\"https://colab.research.google.com/assets/colab-badge.svg\" alt=\"Open In Colab\"/></a>"
      ]
    },
    {
      "cell_type": "markdown",
      "source": [
        "# 오류(Error)의 종류"
      ],
      "metadata": {
        "id": "5Lin8MvITo7v"
      }
    },
    {
      "cell_type": "code",
      "execution_count": 2,
      "metadata": {
        "colab": {
          "base_uri": "https://localhost:8080/"
        },
        "id": "D8GunuyWTeac",
        "outputId": "c763eac9-f312-48aa-ca00-f1c670c7e059"
      },
      "outputs": [
        {
          "output_type": "stream",
          "name": "stdout",
          "text": [
            "안녕하세요\n"
          ]
        }
      ],
      "source": [
        "# prnt('안녕하세요')\n",
        "#> 1번 라인을 실행하면 NameError 발생 -> 문법 오류 -> 문법에 맞는 문장으로 코드 수정\n",
        "\n",
        "print('안녕하세요')"
      ]
    },
    {
      "cell_type": "code",
      "source": [
        "number = int(input('정수 입력>>> '))\n",
        "print(number)"
      ],
      "metadata": {
        "colab": {
          "base_uri": "https://localhost:8080/"
        },
        "id": "uzGuj_rHUhKt",
        "outputId": "f33eaa85-e901-479b-8947-948fd0cf427d"
      },
      "execution_count": 7,
      "outputs": [
        {
          "output_type": "stream",
          "name": "stdout",
          "text": [
            "정수 입력>>> 12\n",
            "12\n"
          ]
        }
      ]
    },
    {
      "cell_type": "markdown",
      "source": [
        "위의 코드 셀은 사용자가 어떤 문자열을 입력했는 지에 따라서 코드 실행이 정상적으로 종료될 수도 있고,\n",
        "비정상적으로 에러가 발생할 수도 있음.\n",
        "\n",
        "코드 실행 중에 유가 발생하는 경우 해결 방법:\n",
        "*   오류가 발생한 위치와 원인을 찾아서 오류가 발생하지 않도록 코드 수정.\n",
        "*   오류가 발생하더라도 정상적인 종료가 될 수 있도록 처리 -> 예외 처리."
      ],
      "metadata": {
        "id": "TYIMndIxVo-D"
      }
    },
    {
      "cell_type": "markdown",
      "source": [
        "# try-except 구문\n",
        "\n",
        "```\n",
        "try:\n",
        "    (1) 실행할 코드 블록\n",
        "except [에러이름 [as 별칭]]:\n",
        "    (2) 예외가 발생했을 때 예외를 처리하는 코드 블록\n",
        "[else:\n",
        "    (3) try 블록의 모든 코드가 예외 없이 정상 수행됐을 때 실행할 코드 블록]\n",
        "[finally:\n",
        "    (4) 예외 발생 여부에 상관 없이 항상 실행할 코드 블록]\n",
        "```\n",
        "\n",
        "*   try-except 구문의 실행 순서\n",
        "    *   예외가 발생하는 경우: (1) -> (2) -> (4)\n",
        "    *   예외가 발생하지 않는 경우: (1) -> (3) -> (4)\n",
        "*   except 절에서 에러 이름을 생략하면 모든 종류의 에러를 처리할 수 있음.\n",
        "*   except 절에서 에러 이름을 지정하면, 선언된 에러만 처리할 수 있음.\n",
        "*   처리해야 할 에러의 종류가 여러 개인 경우 except 절을 여러 개 사용할 수도 있음.\n"
      ],
      "metadata": {
        "id": "2Z7AxoQ6aLSr"
      }
    },
    {
      "cell_type": "code",
      "source": [
        "try:\n",
        "    x = int(input('정수 x = '))\n",
        "    y = int(input('정수 y = '))\n",
        "    print(f'{x} + {y} = {x + y}')\n",
        "    print(f'{x} - {y} = {x - y}')\n",
        "    print(f'{x} x {y} = {x * y}')\n",
        "    print(f'{x} / {y} = {x / y}')\n",
        "except ValueError:\n",
        "    print('x와 y는 정수로 입력해야 합니다.')\n",
        "except ZeroDivisionError:\n",
        "    print('0으로 나눌 수 없습니다.')\n",
        "else:\n",
        "    print('사칙연산 정상 수행')\n",
        "finally:\n",
        "    print('코드 셀 종료')"
      ],
      "metadata": {
        "colab": {
          "base_uri": "https://localhost:8080/"
        },
        "id": "HoAuHJ1SVVKU",
        "outputId": "4231d783-ba5f-4b29-a3e5-9f9c21b41d42"
      },
      "execution_count": 15,
      "outputs": [
        {
          "output_type": "stream",
          "name": "stdout",
          "text": [
            "정수 x = 100\n",
            "정수 y = 0\n",
            "100 + 0 = 100\n",
            "100 - 0 = 100\n",
            "100 x 0 = 0\n",
            "0으로 나눌 수 없습니다.\n",
            "코드 셀 종료\n"
          ]
        }
      ]
    },
    {
      "cell_type": "code",
      "source": [
        "try:\n",
        "    x = int(input('정수 x = '))\n",
        "    y = int(input('정수 y = '))\n",
        "    print(f'{x} + {y} = {x + y}')\n",
        "    print(f'{x} - {y} = {x - y}')\n",
        "    print(f'{x} x {y} = {x * y}')\n",
        "    print(f'{x} / {y} = {x / y}')\n",
        "except:\n",
        "    print('오류 발생해서 코드 실행을 멈춥니다.')"
      ],
      "metadata": {
        "colab": {
          "base_uri": "https://localhost:8080/"
        },
        "id": "65ONlAnVhmXG",
        "outputId": "639ed4ff-2556-41bc-8c31-1eb6a08a076c"
      },
      "execution_count": 21,
      "outputs": [
        {
          "output_type": "stream",
          "name": "stdout",
          "text": [
            "정수 x = 123\n",
            "정수 y = 0\n",
            "123 + 0 = 123\n",
            "123 - 0 = 123\n",
            "123 x 0 = 0\n",
            "오류 발생해서 코드 실행을 멈춥니다.\n"
          ]
        }
      ]
    },
    {
      "cell_type": "code",
      "source": [
        "import random"
      ],
      "metadata": {
        "id": "Jhh5NcxXjJJl"
      },
      "execution_count": 22,
      "outputs": []
    },
    {
      "cell_type": "code",
      "source": [
        "numbers = [random.randrange(100) for _ in range(10)]\n",
        "numbers"
      ],
      "metadata": {
        "colab": {
          "base_uri": "https://localhost:8080/"
        },
        "id": "z-V1fmcIjKr-",
        "outputId": "af238dae-4d3b-42e7-ff44-069af6b091ef"
      },
      "execution_count": 23,
      "outputs": [
        {
          "output_type": "execute_result",
          "data": {
            "text/plain": [
              "[72, 91, 27, 37, 84, 37, 93, 30, 23, 0]"
            ]
          },
          "metadata": {},
          "execution_count": 23
        }
      ]
    },
    {
      "cell_type": "code",
      "source": [
        "index = int(input('인덱스 입력>>> '))\n",
        "print(f'numbers[{index}] = {numbers[index]}')"
      ],
      "metadata": {
        "colab": {
          "base_uri": "https://localhost:8080/"
        },
        "id": "paX8tRBrjS7l",
        "outputId": "daf68305-9f92-4bef-86bd-a02c6a3712a9"
      },
      "execution_count": 26,
      "outputs": [
        {
          "output_type": "stream",
          "name": "stdout",
          "text": [
            "인덱스 입력>>> 5\n",
            "numbers[5] = 37\n"
          ]
        }
      ]
    }
  ]
}