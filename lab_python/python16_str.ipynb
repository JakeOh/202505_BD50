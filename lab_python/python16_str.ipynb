{
  "nbformat": 4,
  "nbformat_minor": 0,
  "metadata": {
    "colab": {
      "provenance": [],
      "toc_visible": true,
      "authorship_tag": "ABX9TyMrSbYf7u3GbkcZ4QzTW9WQ",
      "include_colab_link": true
    },
    "kernelspec": {
      "name": "python3",
      "display_name": "Python 3"
    },
    "language_info": {
      "name": "python"
    }
  },
  "cells": [
    {
      "cell_type": "markdown",
      "metadata": {
        "id": "view-in-github",
        "colab_type": "text"
      },
      "source": [
        "<a href=\"https://colab.research.google.com/github/JakeOh/202505_BD50/blob/main/lab_python/python16_str.ipynb\" target=\"_parent\"><img src=\"https://colab.research.google.com/assets/colab-badge.svg\" alt=\"Open In Colab\"/></a>"
      ]
    },
    {
      "cell_type": "markdown",
      "source": [
        "# `str` 클래스 메서드"
      ],
      "metadata": {
        "id": "XWWtVi2VN2t9"
      }
    },
    {
      "cell_type": "code",
      "execution_count": 1,
      "metadata": {
        "id": "igUYh41yNxs2"
      },
      "outputs": [],
      "source": [
        "s = 'heLLo, pyTHon! hello PYTHON! 안녕하세요...'"
      ]
    },
    {
      "cell_type": "code",
      "source": [
        "type(s)"
      ],
      "metadata": {
        "colab": {
          "base_uri": "https://localhost:8080/"
        },
        "id": "aiOfVEHyOQhf",
        "outputId": "0ef36523-9990-462b-a36d-e2c077e60dff"
      },
      "execution_count": 2,
      "outputs": [
        {
          "output_type": "execute_result",
          "data": {
            "text/plain": [
              "str"
            ]
          },
          "metadata": {},
          "execution_count": 2
        }
      ]
    },
    {
      "cell_type": "code",
      "source": [
        "isinstance(s, str)"
      ],
      "metadata": {
        "colab": {
          "base_uri": "https://localhost:8080/"
        },
        "id": "9_TTuDrZOUaV",
        "outputId": "afff6533-6010-4c09-e24c-494cbc9264f0"
      },
      "execution_count": 3,
      "outputs": [
        {
          "output_type": "execute_result",
          "data": {
            "text/plain": [
              "True"
            ]
          },
          "metadata": {},
          "execution_count": 3
        }
      ]
    },
    {
      "cell_type": "code",
      "source": [
        "print(s)  # print 함수는 객체(s)의 __str__ 메서드가 리턴하는 문자열을 콘솔에 출력"
      ],
      "metadata": {
        "colab": {
          "base_uri": "https://localhost:8080/"
        },
        "id": "GMUDfxDWOaYV",
        "outputId": "e82769bb-42b4-4abc-c6d9-2d7ea05360b7"
      },
      "execution_count": 4,
      "outputs": [
        {
          "output_type": "stream",
          "name": "stdout",
          "text": [
            "heLLo, pyTHon! hello PYTHON! 안녕하세요...\n"
          ]
        }
      ]
    },
    {
      "cell_type": "code",
      "source": [
        "s  # 노트북의 코드 셀 출력(expression)은 __repr__ 메서드가 리턴하는 문자열을 콘솔에 출력"
      ],
      "metadata": {
        "colab": {
          "base_uri": "https://localhost:8080/",
          "height": 39
        },
        "id": "H-lzxvQZOmV1",
        "outputId": "ef191558-fe68-4016-b067-d380871bba1d"
      },
      "execution_count": 5,
      "outputs": [
        {
          "output_type": "execute_result",
          "data": {
            "text/plain": [
              "'heLLo, pyTHon! hello PYTHON! 안녕하세요...'"
            ],
            "application/vnd.google.colaboratory.intrinsic+json": {
              "type": "string"
            }
          },
          "metadata": {},
          "execution_count": 5
        }
      ]
    },
    {
      "cell_type": "code",
      "source": [
        "result = s.upper()  # str.upper(): 대문자로 변환한 \"새로운\" 문자열을 리턴.\n",
        "print(result)\n",
        "print(s)  # 원본 문자열 s는 변경되지 않음!"
      ],
      "metadata": {
        "colab": {
          "base_uri": "https://localhost:8080/"
        },
        "id": "mB5-PaDPOnlt",
        "outputId": "e8d16f1e-74b1-416f-d823-8cdc5f8c1102"
      },
      "execution_count": 6,
      "outputs": [
        {
          "output_type": "stream",
          "name": "stdout",
          "text": [
            "HELLO, PYTHON! HELLO PYTHON! 안녕하세요...\n",
            "heLLo, pyTHon! hello PYTHON! 안녕하세요...\n"
          ]
        }
      ]
    },
    {
      "cell_type": "code",
      "source": [
        "s.lower()"
      ],
      "metadata": {
        "colab": {
          "base_uri": "https://localhost:8080/",
          "height": 39
        },
        "id": "j9f5DeRpQ9El",
        "outputId": "2943d905-4960-4659-8af2-2336391ca067"
      },
      "execution_count": 7,
      "outputs": [
        {
          "output_type": "execute_result",
          "data": {
            "text/plain": [
              "'hello, python! hello python! 안녕하세요...'"
            ],
            "application/vnd.google.colaboratory.intrinsic+json": {
              "type": "string"
            }
          },
          "metadata": {},
          "execution_count": 7
        }
      ]
    },
    {
      "cell_type": "code",
      "source": [
        "s.capitalize()  # 문자열의 첫번째 글자만 대문자, 나머지는 소문자로 변환한 문자열을 리턴."
      ],
      "metadata": {
        "colab": {
          "base_uri": "https://localhost:8080/",
          "height": 39
        },
        "id": "oJyQ4s3KQ-u_",
        "outputId": "732c2450-dda2-4602-e610-1b2b3e9a4275"
      },
      "execution_count": 8,
      "outputs": [
        {
          "output_type": "execute_result",
          "data": {
            "text/plain": [
              "'Hello, python! hello python! 안녕하세요...'"
            ],
            "application/vnd.google.colaboratory.intrinsic+json": {
              "type": "string"
            }
          },
          "metadata": {},
          "execution_count": 8
        }
      ]
    },
    {
      "cell_type": "code",
      "source": [
        "print(s)\n",
        "print(s.count('L'))\n",
        "print(s.count('l'))\n",
        "print(s.count('LL'))"
      ],
      "metadata": {
        "colab": {
          "base_uri": "https://localhost:8080/"
        },
        "id": "C5_Q_eQIR5Ll",
        "outputId": "0f129846-00d6-40e7-afcb-515aafa3d7aa"
      },
      "execution_count": 12,
      "outputs": [
        {
          "output_type": "stream",
          "name": "stdout",
          "text": [
            "heLLo, pyTHon! hello PYTHON! 안녕하세요...\n",
            "2\n",
            "2\n",
            "1\n"
          ]
        }
      ]
    },
    {
      "cell_type": "code",
      "source": [
        "# 대/소문자 구분 없이 'py' 문자열이 몇 번 등장하는 지\n",
        "s.lower().count('py')"
      ],
      "metadata": {
        "colab": {
          "base_uri": "https://localhost:8080/"
        },
        "id": "nS3b08Q0SU7P",
        "outputId": "608b80d5-04bb-4d08-f6f2-83c3a16d6d0f"
      },
      "execution_count": 15,
      "outputs": [
        {
          "output_type": "execute_result",
          "data": {
            "text/plain": [
              "2"
            ]
          },
          "metadata": {},
          "execution_count": 15
        }
      ]
    },
    {
      "cell_type": "code",
      "source": [
        "print(s)\n",
        "s.find('py')"
      ],
      "metadata": {
        "colab": {
          "base_uri": "https://localhost:8080/"
        },
        "id": "sL9hA6FPYZxF",
        "outputId": "de67aa18-8835-40a5-e101-0a9ffacd1ada"
      },
      "execution_count": 18,
      "outputs": [
        {
          "output_type": "stream",
          "name": "stdout",
          "text": [
            "heLLo, pyTHon! hello PYTHON! 안녕하세요...\n"
          ]
        },
        {
          "output_type": "execute_result",
          "data": {
            "text/plain": [
              "7"
            ]
          },
          "metadata": {},
          "execution_count": 18
        }
      ]
    },
    {
      "cell_type": "code",
      "source": [
        "email = 'gildong@itwill.com'\n",
        "\n",
        "# 문자열 email에서 '@' 문자열이 등장하는 인덱스\n",
        "idx = email.find('@')\n",
        "print(idx)\n",
        "\n",
        "# 문자열 email에서 아이디(gildong)와 도메인(itwill.com)을 구분해서 출력\n",
        "print(email[:idx])\n",
        "print(email[(idx + 1):])"
      ],
      "metadata": {
        "colab": {
          "base_uri": "https://localhost:8080/"
        },
        "id": "sG56tw2nZLqN",
        "outputId": "2b03fda1-b15b-41fe-f9e9-ffa88a700f4f"
      },
      "execution_count": 21,
      "outputs": [
        {
          "output_type": "stream",
          "name": "stdout",
          "text": [
            "7\n",
            "gildong\n",
            "itwill.com\n"
          ]
        }
      ]
    },
    {
      "cell_type": "code",
      "source": [
        "msg = '파이썬 참 쉽죠? 파이썬 열심히 공부합시다.'\n",
        "result = msg.split()\n",
        "# str.split(): 문자열 str을 공백(space, 줄바꿈, 탭)으로 구분한 문자열들의 리스트를 리턴.\n",
        "result"
      ],
      "metadata": {
        "colab": {
          "base_uri": "https://localhost:8080/"
        },
        "id": "au3Viu3sa2Jt",
        "outputId": "f175da14-b813-44bd-def8-4c6301b12c92"
      },
      "execution_count": 22,
      "outputs": [
        {
          "output_type": "execute_result",
          "data": {
            "text/plain": [
              "['파이썬', '참', '쉽죠?', '파이썬', '열심히', '공부합시다.']"
            ]
          },
          "metadata": {},
          "execution_count": 22
        }
      ]
    },
    {
      "cell_type": "code",
      "source": [
        "date_str = '2025-06-16'\n",
        "date_str.split('-')\n",
        "# str.split(sep): 문자열 str을 구분자 sep로 구분한 문자열들의 리스트를 리턴."
      ],
      "metadata": {
        "colab": {
          "base_uri": "https://localhost:8080/"
        },
        "id": "QDrgaFubcM1W",
        "outputId": "80875c56-c8ce-450c-be28-eb65556eb5f5"
      },
      "execution_count": 24,
      "outputs": [
        {
          "output_type": "execute_result",
          "data": {
            "text/plain": [
              "['2025', '06', '16']"
            ]
          },
          "metadata": {},
          "execution_count": 24
        }
      ]
    },
    {
      "cell_type": "code",
      "source": [
        "csv_str = '1,홍길동,100,90,80'\n",
        "csv_str.split(sep=',')"
      ],
      "metadata": {
        "colab": {
          "base_uri": "https://localhost:8080/"
        },
        "id": "bd1dwaTIcff3",
        "outputId": "a472ed36-ae02-4062-990b-7bb5cdba0521"
      },
      "execution_count": 25,
      "outputs": [
        {
          "output_type": "execute_result",
          "data": {
            "text/plain": [
              "['1', '홍길동', '100', '90', '80']"
            ]
          },
          "metadata": {},
          "execution_count": 25
        }
      ]
    },
    {
      "cell_type": "code",
      "source": [
        "email = 'gildong@itwill.com'\n",
        "result = email.split(sep='@')\n",
        "print(result[0])\n",
        "print(result[1])"
      ],
      "metadata": {
        "colab": {
          "base_uri": "https://localhost:8080/"
        },
        "id": "_L2v5EmodQtW",
        "outputId": "3348498f-c0ad-417c-d00b-b7d2d6b8b5b1"
      },
      "execution_count": 27,
      "outputs": [
        {
          "output_type": "stream",
          "name": "stdout",
          "text": [
            "gildong\n",
            "itwill.com\n"
          ]
        }
      ]
    },
    {
      "cell_type": "code",
      "source": [
        "'/'.join(['2025', '06', '16'])\n",
        "# s.join(iterable): iterable의 원소들을 문자열 s로 연결한 문자열을 리턴."
      ],
      "metadata": {
        "colab": {
          "base_uri": "https://localhost:8080/",
          "height": 39
        },
        "id": "TXVAcYVUecB3",
        "outputId": "eacaa4b9-2fa0-41a3-84ed-9bf4e79ba4ba"
      },
      "execution_count": 30,
      "outputs": [
        {
          "output_type": "execute_result",
          "data": {
            "text/plain": [
              "'2025/06/16'"
            ],
            "application/vnd.google.colaboratory.intrinsic+json": {
              "type": "string"
            }
          },
          "metadata": {},
          "execution_count": 30
        }
      ]
    },
    {
      "cell_type": "code",
      "source": [
        "':'.join(['홍길동', 'Scott', '오쌤'])"
      ],
      "metadata": {
        "colab": {
          "base_uri": "https://localhost:8080/",
          "height": 39
        },
        "id": "xypHj2kofHXO",
        "outputId": "382b07c5-25cf-4010-8803-b8b5bb59e14f"
      },
      "execution_count": 32,
      "outputs": [
        {
          "output_type": "execute_result",
          "data": {
            "text/plain": [
              "'홍길동:Scott:오쌤'"
            ],
            "application/vnd.google.colaboratory.intrinsic+json": {
              "type": "string"
            }
          },
          "metadata": {},
          "execution_count": 32
        }
      ]
    },
    {
      "cell_type": "code",
      "source": [
        "csv_str = 'hello,python,안녕,오쌤,12345'\n",
        "csv_str.replace(',', '::')\n",
        "# str.replace(old, new): 문자열 str에서 등장하는 모든 old 문자열을 new 문자열로 대체한 문자열을 리턴."
      ],
      "metadata": {
        "colab": {
          "base_uri": "https://localhost:8080/",
          "height": 39
        },
        "id": "F12VPIX_fOSP",
        "outputId": "e6cc7c68-4de3-4cee-9ff1-be137a274520"
      },
      "execution_count": 33,
      "outputs": [
        {
          "output_type": "execute_result",
          "data": {
            "text/plain": [
              "'hello::python::안녕::오쌤::12345'"
            ],
            "application/vnd.google.colaboratory.intrinsic+json": {
              "type": "string"
            }
          },
          "metadata": {},
          "execution_count": 33
        }
      ]
    },
    {
      "cell_type": "code",
      "source": [
        "msg = '안녕? 안녕하세요! Hello, Python.'\n",
        "# 문자열 msg에서 문장부호(? , ! .)들을 제거한 단어들로만 이루어진 리스트\n",
        "msg.replace('?', ' ').replace('!', ' ').replace(',', ' ').replace('.', ' ').split()"
      ],
      "metadata": {
        "colab": {
          "base_uri": "https://localhost:8080/"
        },
        "id": "_AOT9HxagvcG",
        "outputId": "e1defce3-ed53-4d3d-e067-d82f21685f09"
      },
      "execution_count": 37,
      "outputs": [
        {
          "output_type": "execute_result",
          "data": {
            "text/plain": [
              "['안녕', '안녕하세요', 'Hello', 'Python']"
            ]
          },
          "metadata": {},
          "execution_count": 37
        }
      ]
    },
    {
      "cell_type": "code",
      "source": [
        "sentence = '         Hello, Python!           안녕하세요.            '\n",
        "print(sentence)\n",
        "print(sentence.lstrip())\n",
        "print(sentence.rstrip())\n",
        "print(sentence.strip())"
      ],
      "metadata": {
        "colab": {
          "base_uri": "https://localhost:8080/"
        },
        "id": "szRNtY5kijdh",
        "outputId": "aed19d0d-31e2-40f9-a696-89c5859af29f"
      },
      "execution_count": 38,
      "outputs": [
        {
          "output_type": "stream",
          "name": "stdout",
          "text": [
            "         Hello, Python!           안녕하세요.            \n",
            "Hello, Python!           안녕하세요.            \n",
            "         Hello, Python!           안녕하세요.\n",
            "Hello, Python!           안녕하세요.\n"
          ]
        }
      ]
    }
  ]
}