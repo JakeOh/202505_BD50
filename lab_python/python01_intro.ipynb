{
  "nbformat": 4,
  "nbformat_minor": 0,
  "metadata": {
    "colab": {
      "provenance": [],
      "toc_visible": true,
      "authorship_tag": "ABX9TyNvshPtDsmUnzZIOlGfC689",
      "include_colab_link": true
    },
    "kernelspec": {
      "name": "python3",
      "display_name": "Python 3"
    },
    "language_info": {
      "name": "python"
    }
  },
  "cells": [
    {
      "cell_type": "markdown",
      "metadata": {
        "id": "view-in-github",
        "colab_type": "text"
      },
      "source": [
        "<a href=\"https://colab.research.google.com/github/JakeOh/202505_BD50/blob/main/lab_python/python01_intro.ipynb\" target=\"_parent\"><img src=\"https://colab.research.google.com/assets/colab-badge.svg\" alt=\"Open In Colab\"/></a>"
      ]
    },
    {
      "cell_type": "markdown",
      "source": [
        "# Colab 소개"
      ],
      "metadata": {
        "id": "lTnP-rTgNe2B"
      }
    },
    {
      "cell_type": "code",
      "execution_count": 10,
      "metadata": {
        "colab": {
          "base_uri": "https://localhost:8080/"
        },
        "id": "QHOdEpJhK39F",
        "outputId": "7a207879-fcc1-42fc-aae8-87ceaf0b2997"
      },
      "outputs": [
        {
          "output_type": "stream",
          "name": "stdout",
          "text": [
            "안녕하세요!\n"
          ]
        }
      ],
      "source": [
        "print('안녕하세요!')"
      ]
    },
    {
      "cell_type": "markdown",
      "source": [
        "Colab 코드 셀 실행 방법:\n",
        "\n",
        "*   실행 버튼 클릭\n",
        "*   런타임 메뉴의 항목을 선택\n",
        "*   단축키\n",
        "    *   Ctrl+Enter: 현재 포커스(초점)이 있는 셀을 실행.\n",
        "    *   Shift+Enter: 현재 포커스가 있는 셀을 실행하고 그 다음 셀로 포커스를 이동. 만약 다음 셀이 없으면 새로운 코드 셀을 자동으로 만들어줌.\n"
      ],
      "metadata": {
        "id": "X2TS8VGRTFgl"
      }
    },
    {
      "cell_type": "markdown",
      "source": [
        "# Python 버전 확인"
      ],
      "metadata": {
        "id": "0-PSVyaXOVEX"
      }
    },
    {
      "cell_type": "code",
      "source": [
        "import sys  # sys 모듈 사용\n",
        "\n",
        "print(sys.version)"
      ],
      "metadata": {
        "colab": {
          "base_uri": "https://localhost:8080/"
        },
        "id": "PWbkPlOSOpfG",
        "outputId": "1bf5c353-edf2-45b1-dd3f-cc5f073efed5"
      },
      "execution_count": 12,
      "outputs": [
        {
          "output_type": "stream",
          "name": "stdout",
          "text": [
            "3.11.12 (main, Apr  9 2025, 08:55:54) [GCC 11.4.0]\n"
          ]
        }
      ]
    },
    {
      "cell_type": "markdown",
      "source": [
        "# 여러가지 print 방법"
      ],
      "metadata": {
        "id": "l1hjODh6VTvb"
      }
    },
    {
      "cell_type": "code",
      "source": [
        "# 주석(inline comment)\n",
        "print('Hello, Python!')\n",
        "# 파이썬에서 문자열(string)은 작은따옴표('') 또는 큰따옴표(\"\") 모두 사용 가능."
      ],
      "metadata": {
        "colab": {
          "base_uri": "https://localhost:8080/"
        },
        "id": "uPJuR6HMVAIs",
        "outputId": "621b7791-cf1c-48ae-8e4d-31b9b3dfe877"
      },
      "execution_count": 15,
      "outputs": [
        {
          "output_type": "stream",
          "name": "stdout",
          "text": [
            "Hello, Python!\n"
          ]
        }
      ]
    },
    {
      "cell_type": "code",
      "source": [
        "print(\"I'm a boy.\")"
      ],
      "metadata": {
        "colab": {
          "base_uri": "https://localhost:8080/"
        },
        "id": "rKYvJgtxWshK",
        "outputId": "7d4b4530-855b-458e-f4e8-08e492dc7ac4"
      },
      "execution_count": 18,
      "outputs": [
        {
          "output_type": "stream",
          "name": "stdout",
          "text": [
            "I'm a boy.\n"
          ]
        }
      ]
    },
    {
      "cell_type": "code",
      "source": [
        "print('Hello', '안녕', 'Bon jour')\n",
        "# print() 함수에 아규먼트(argument)를 여러 개 전달하면, 각각의 아규먼트들을 공백으로 연결해서 한 줄에 출력"
      ],
      "metadata": {
        "colab": {
          "base_uri": "https://localhost:8080/"
        },
        "id": "gf3p41_7XbQC",
        "outputId": "c1fc7bf0-c3fa-4037-ff95-3e6495269e4d"
      },
      "execution_count": 19,
      "outputs": [
        {
          "output_type": "stream",
          "name": "stdout",
          "text": [
            "Hello 안녕 Bon jour\n"
          ]
        }
      ]
    },
    {
      "cell_type": "code",
      "source": [
        "print(1, '+', 2, '=', 3)"
      ],
      "metadata": {
        "colab": {
          "base_uri": "https://localhost:8080/"
        },
        "id": "elY5AgdOYKBr",
        "outputId": "8f59a245-d56d-4cf2-a656-a5989442e04f"
      },
      "execution_count": 20,
      "outputs": [
        {
          "output_type": "stream",
          "name": "stdout",
          "text": [
            "1 + 2 = 3\n"
          ]
        }
      ]
    },
    {
      "cell_type": "code",
      "source": [
        "x = 100  # 변수_이름 = 값\n",
        "y = 20\n",
        "\n",
        "print(x, '+', y, '=', (x + y))\n",
        "print('{} + {} = {}'.format(x, y, x + y))\n",
        "print('{a} + {b} = {c}'.format(a=x, b=y, c=(x + y)))\n",
        "print(f'{x} + {y} = {x + y}')  # f-string(formatted string): 파이썬 3.6 버전 이상에서 사용 가능."
      ],
      "metadata": {
        "colab": {
          "base_uri": "https://localhost:8080/"
        },
        "id": "_WV_asn8Y8fh",
        "outputId": "679403a6-4d52-4d6c-81ba-828e1d3686ae"
      },
      "execution_count": 29,
      "outputs": [
        {
          "output_type": "stream",
          "name": "stdout",
          "text": [
            "100 + 20 = 120\n",
            "100 + 20 = 120\n",
            "100 + 20 = 120\n",
            "100 + 20 = 120\n"
          ]
        }
      ]
    },
    {
      "cell_type": "code",
      "source": [
        "# 변수 x, y 사칙연산(+, -, *, /) 결과 한 줄씩 출력\n",
        "x = 110\n",
        "y = 42\n",
        "\n",
        "print(f'{x} + {y} = {x + y}')\n",
        "print(f'{x} - {y} = {x - y}')\n",
        "print(f'{x} x {y} = {x * y}')\n",
        "print(f'{x} / {y} = {x / y}')"
      ],
      "metadata": {
        "colab": {
          "base_uri": "https://localhost:8080/"
        },
        "id": "EuO5BnhzbkpH",
        "outputId": "7034def4-5305-4d33-81f0-a567aaf984b8"
      },
      "execution_count": 31,
      "outputs": [
        {
          "output_type": "stream",
          "name": "stdout",
          "text": [
            "110 + 42 = 152\n",
            "110 - 42 = 68\n",
            "110 x 42 = 4620\n",
            "110 / 42 = 2.619047619047619\n"
          ]
        }
      ]
    },
    {
      "cell_type": "markdown",
      "source": [
        "사용자(키보드) 입력값을 출력"
      ],
      "metadata": {
        "id": "L0FvUA3BgmL1"
      }
    },
    {
      "cell_type": "code",
      "source": [
        "name = input('이름을 입력하세요.')\n",
        "print(f'안녕하세요, {name}님!')"
      ],
      "metadata": {
        "colab": {
          "base_uri": "https://localhost:8080/"
        },
        "id": "SIddB0mVgrzc",
        "outputId": "c15bdece-dbc8-4234-f805-237930ea2f28"
      },
      "execution_count": 33,
      "outputs": [
        {
          "output_type": "stream",
          "name": "stdout",
          "text": [
            "이름을 입력하세요.홍길동\n",
            "안녕하세요, 홍길동님!\n"
          ]
        }
      ]
    }
  ]
}