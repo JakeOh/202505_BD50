{
  "nbformat": 4,
  "nbformat_minor": 0,
  "metadata": {
    "colab": {
      "provenance": [],
      "mount_file_id": "1s5zLreYXwkMtWBAxULA5Dv-bAGfGW-R3",
      "authorship_tag": "ABX9TyPbMikwB2201qjZpki6q9/8",
      "include_colab_link": true
    },
    "kernelspec": {
      "name": "python3",
      "display_name": "Python 3"
    },
    "language_info": {
      "name": "python"
    }
  },
  "cells": [
    {
      "cell_type": "markdown",
      "metadata": {
        "id": "view-in-github",
        "colab_type": "text"
      },
      "source": [
        "<a href=\"https://colab.research.google.com/github/JakeOh/202505_BD50/blob/main/lab_python/python17_file.ipynb\" target=\"_parent\"><img src=\"https://colab.research.google.com/assets/colab-badge.svg\" alt=\"Open In Colab\"/></a>"
      ]
    },
    {
      "cell_type": "markdown",
      "source": [
        "# 파일 쓰기(file write)"
      ],
      "metadata": {
        "id": "N_MLJyKXn6ee"
      }
    },
    {
      "cell_type": "markdown",
      "source": [
        "1.   파일 열기(open)\n",
        "1.   파일 쓰기(write)\n",
        "1.   파일 닫기(close)\n",
        "\n",
        "`open(file, mode, ...)` 함수\n",
        "*   `file`: 폴더(디렉토리) 이름을 포함한 전체 파일 경로(이름)\n",
        "*   `mode`:\n",
        "    *   'r': read. 읽기 전용 모드. 기본값(생략 가능).\n",
        "    *   'w': write. 쓰기 모드. 기존에 작성된 내용을 모두 지우고 처음부터 새로 쓰기 시작.\n",
        "    *   'a': append. 추가 모드. 기존에 작성된 내용 뒤에 이어쓰기.\n",
        "    *   't': text. 텍스트 읽기/쓰기. 기본값(생략 가능).\n",
        "    *   'b': binary. 바이너리 형식(이미지, 동영상, ...) 읽기/쓰기."
      ],
      "metadata": {
        "id": "ljZXvzsKoE1-"
      }
    },
    {
      "cell_type": "code",
      "execution_count": 2,
      "metadata": {
        "id": "vJNze5xEn27O"
      },
      "outputs": [],
      "source": [
        "# step 1. 파일 열기\n",
        "f = open('hello.txt', mode='w')\n",
        "\n",
        "# step 2. 파일에 내용을 쓰기\n",
        "f.write('Hello, Python!\\n')\n",
        "f.write('안녕, 파이썬.\\n')\n",
        "f.write('010-0000-0000\\n')\n",
        "\n",
        "# step 3. 파일 닫기\n",
        "f.close()"
      ]
    },
    {
      "cell_type": "markdown",
      "source": [
        "파일을 열(open) 때, mode 파라미터를 'w' 또는 'a'로 설정하는 경우\n",
        "*   파일이 없으면 새로운 파일을 만듦.\n",
        "*   파일이 있으면 기존 파일을 열어줌.\n",
        "\n",
        "open() 함수의 mode 파라미터를 'r'로 설정한 경우, 파일이 없으면 에러가 발생!"
      ],
      "metadata": {
        "id": "UQTIdwzRsuO4"
      }
    },
    {
      "cell_type": "markdown",
      "source": [
        "`with ... as 변수선언` 구문\n",
        "\n",
        "변수에서 close 메서드를 자동으로 호출"
      ],
      "metadata": {
        "id": "dvfKIXuEBAAo"
      }
    },
    {
      "cell_type": "code",
      "source": [
        "with open('hello.txt', mode='at') as f:\n",
        "    f.write('점심 맛있게 드셨나요?\\n')\n",
        "    f.write('0123456789\\n')\n",
        "    # f.close()를 명시적으로 호출할 필요가 없음. 자동으로 호출됨."
      ],
      "metadata": {
        "id": "nhvewNVLBUiR"
      },
      "execution_count": 3,
      "outputs": []
    },
    {
      "cell_type": "markdown",
      "source": [
        "# 파일 읽기(file read)\n",
        "\n",
        "1.   파일 열기(open)\n",
        "1.   파일에서 내용 읽기(read)\n",
        "1.   파일 닫기(close)\n",
        "\n",
        "`with ... as 변수` 구문을 사용하면 close() 메서드는 자동으로 호출됨."
      ],
      "metadata": {
        "id": "24-0iOZTCYtZ"
      }
    },
    {
      "cell_type": "code",
      "source": [
        "with open('hello.txt') as f:  # hello.txt 파일을 'r(ead) t(ext)' 모드로 열기.\n",
        "    line = f.readline()\n",
        "    print(line.strip())\n",
        "    line = f.readline()\n",
        "    print(line.strip())"
      ],
      "metadata": {
        "colab": {
          "base_uri": "https://localhost:8080/"
        },
        "id": "GdQjmR7gCvYK",
        "outputId": "a6d95503-bc12-4531-c534-a32e106bbeac"
      },
      "execution_count": 6,
      "outputs": [
        {
          "output_type": "stream",
          "name": "stdout",
          "text": [
            "Hello, Python!\n",
            "안녕, 파이썬.\n"
          ]
        }
      ]
    },
    {
      "cell_type": "markdown",
      "source": [
        "`for ... in iterable` 구문에서 파일 스트림 객체를 사용할 수 있음.\n",
        "\n",
        "for-in 구문에서는 readlin() 메서드를 명시적으로 호출할 필요가 없음."
      ],
      "metadata": {
        "id": "AfNT1vOhEYs5"
      }
    },
    {
      "cell_type": "code",
      "source": [
        "with open('hello.txt') as f:  # hello.txt 파일을 읽기 모드로 열기\n",
        "    for line in f:  # 파일 스트림 객체에서 한 줄씩 파일 끝까지 읽기\n",
        "        print(line.strip())"
      ],
      "metadata": {
        "colab": {
          "base_uri": "https://localhost:8080/"
        },
        "id": "-kgbdoByEx3y",
        "outputId": "f7c82dff-f7ab-4243-d877-c51d33d79171"
      },
      "execution_count": 10,
      "outputs": [
        {
          "output_type": "stream",
          "name": "stdout",
          "text": [
            "Hello, Python!\n",
            "안녕, 파이썬.\n",
            "010-0000-0000\n",
            "점심 맛있게 드셨나요?\n",
            "0123456789\n"
          ]
        }
      ]
    },
    {
      "cell_type": "markdown",
      "source": [
        "# Google Drive에서 파일 쓰기/읽기"
      ],
      "metadata": {
        "id": "wM1R_I5oHH2w"
      }
    },
    {
      "cell_type": "markdown",
      "source": [
        "## Google Drive에 파일 쓰기"
      ],
      "metadata": {
        "id": "BG-U0bwcHN5g"
      }
    },
    {
      "cell_type": "code",
      "source": [
        "# 구글 드라이브에 저장할 파일 경로(이름)\n",
        "file_path = '/content/drive/MyDrive/Colab Notebooks/lab_python/emails.txt'"
      ],
      "metadata": {
        "id": "PqBw5inYHP0g"
      },
      "execution_count": 11,
      "outputs": []
    },
    {
      "cell_type": "code",
      "source": [
        "with open(file_path, mode='w') as f:\n",
        "    f.write('hgd@gmail.com\\n')\n",
        "    f.write('gildong@itwill.com\\n')\n",
        "    f.write('hgd@naver.com\\n')"
      ],
      "metadata": {
        "id": "1I8LYBhnIaj5"
      },
      "execution_count": 12,
      "outputs": []
    },
    {
      "cell_type": "markdown",
      "source": [
        "## Google Drive에 저장된 파일 내용 읽기"
      ],
      "metadata": {
        "id": "n4o_mXldJR3T"
      }
    },
    {
      "cell_type": "code",
      "source": [
        "with open(file_path) as f:\n",
        "    for line in f:\n",
        "        print(line.strip())"
      ],
      "metadata": {
        "colab": {
          "base_uri": "https://localhost:8080/"
        },
        "id": "_v0AF4b2Iw3S",
        "outputId": "26d29db3-8ce7-4cdc-e4cf-6049b8eb5ba3"
      },
      "execution_count": 14,
      "outputs": [
        {
          "output_type": "stream",
          "name": "stdout",
          "text": [
            "hgd@gmail.com\n",
            "gildong@itwill.com\n",
            "hgd@naver.com\n"
          ]
        }
      ]
    }
  ]
}