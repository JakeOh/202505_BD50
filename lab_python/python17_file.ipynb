{
  "nbformat": 4,
  "nbformat_minor": 0,
  "metadata": {
    "colab": {
      "provenance": [],
      "authorship_tag": "ABX9TyMJKfmIWzGLgkI7rSkTlJQD",
      "include_colab_link": true
    },
    "kernelspec": {
      "name": "python3",
      "display_name": "Python 3"
    },
    "language_info": {
      "name": "python"
    }
  },
  "cells": [
    {
      "cell_type": "markdown",
      "metadata": {
        "id": "view-in-github",
        "colab_type": "text"
      },
      "source": [
        "<a href=\"https://colab.research.google.com/github/JakeOh/202505_BD50/blob/main/lab_python/python17_file.ipynb\" target=\"_parent\"><img src=\"https://colab.research.google.com/assets/colab-badge.svg\" alt=\"Open In Colab\"/></a>"
      ]
    },
    {
      "cell_type": "markdown",
      "source": [
        "# 파일 쓰기(file write)"
      ],
      "metadata": {
        "id": "N_MLJyKXn6ee"
      }
    },
    {
      "cell_type": "markdown",
      "source": [
        "1.   파일 열기(open)\n",
        "1.   파일 쓰기(write)\n",
        "1.   파일 닫기(close)\n",
        "\n",
        "`open(file, mode, ...)` 함수\n",
        "*   `file`: 폴더(디렉토리) 이름을 포함한 전체 파일 경로(이름)\n",
        "*   `mode`:\n",
        "    *   'r': read. 읽기 전용 모드. 기본값(생략 가능).\n",
        "    *   'w': write. 쓰기 모드. 기존에 작성된 내용을 모두 지우고 처음부터 새로 쓰기 시작.\n",
        "    *   'a': append. 추가 모드. 기존에 작성된 내용 뒤에 이어쓰기.\n",
        "    *   't': text. 텍스트 읽기/쓰기. 기본값(생략 가능).\n",
        "    *   'b': binary. 바이너리 형식(이미지, 동영상, ...) 읽기/쓰기."
      ],
      "metadata": {
        "id": "ljZXvzsKoE1-"
      }
    },
    {
      "cell_type": "code",
      "execution_count": 2,
      "metadata": {
        "id": "vJNze5xEn27O"
      },
      "outputs": [],
      "source": [
        "# step 1. 파일 열기\n",
        "f = open('hello.txt', mode='w')\n",
        "\n",
        "# step 2. 파일에 내용을 쓰기\n",
        "f.write('Hello, Python!\\n')\n",
        "f.write('안녕, 파이썬.\\n')\n",
        "f.write('010-0000-0000\\n')\n",
        "\n",
        "# step 3. 파일 닫기\n",
        "f.close()"
      ]
    },
    {
      "cell_type": "markdown",
      "source": [
        "파일을 열(open) 때, mode 파라미터를 'w' 또는 'a'로 설정하는 경우\n",
        "*   파일이 없으면 새로운 파일을 만듦.\n",
        "*   파일이 있으면 기존 파일을 열어줌.\n",
        "\n",
        "open() 함수의 mode 파라미터를 'r'로 설정한 경우, 파일이 없으면 에러가 발생!"
      ],
      "metadata": {
        "id": "UQTIdwzRsuO4"
      }
    }
  ]
}