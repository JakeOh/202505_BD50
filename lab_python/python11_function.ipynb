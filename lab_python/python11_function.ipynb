{
  "nbformat": 4,
  "nbformat_minor": 0,
  "metadata": {
    "colab": {
      "provenance": [],
      "toc_visible": true,
      "authorship_tag": "ABX9TyN0JbuhmiPni/bJoPsA9aLQ",
      "include_colab_link": true
    },
    "kernelspec": {
      "name": "python3",
      "display_name": "Python 3"
    },
    "language_info": {
      "name": "python"
    }
  },
  "cells": [
    {
      "cell_type": "markdown",
      "metadata": {
        "id": "view-in-github",
        "colab_type": "text"
      },
      "source": [
        "<a href=\"https://colab.research.google.com/github/JakeOh/202505_BD50/blob/main/lab_python/python11_function.ipynb\" target=\"_parent\"><img src=\"https://colab.research.google.com/assets/colab-badge.svg\" alt=\"Open In Colab\"/></a>"
      ]
    },
    {
      "cell_type": "markdown",
      "source": [
        "# 함수(Function)"
      ],
      "metadata": {
        "id": "75ovCRFtTZ2g"
      }
    },
    {
      "cell_type": "code",
      "execution_count": 2,
      "metadata": {
        "colab": {
          "base_uri": "https://localhost:8080/"
        },
        "id": "WgVTGsQ_TU4j",
        "outputId": "1b82541d-3131-4fae-ecf8-c6c95d2287d4"
      },
      "outputs": [
        {
          "output_type": "stream",
          "name": "stdout",
          "text": [
            "12\n"
          ]
        }
      ],
      "source": [
        "result = len('hello python')\n",
        "print(result)"
      ]
    },
    {
      "cell_type": "markdown",
      "source": [
        "*   **함수(function)**: 기능을 수행하는 코드 블록.\n",
        "*   **인수(argument)**: 함수를 호출할 때 함수에게 전달하는 값.\n",
        "*   **매개변수(parameter)**: 아규먼트를 저장하기 위해서 함수를 정의할 때 선언하는 변수.\n",
        "*   **반환값(return value)**: 함수가 기능을 수행하고 그 결과로 함수를 호출한 곳 되돌려 주는 값.\n",
        "    *   함수에 따라서 반환값이 있는 함수도 있고, 반환값이 없는 함수도 있음."
      ],
      "metadata": {
        "id": "xCGXm5nKUnlG"
      }
    },
    {
      "cell_type": "markdown",
      "source": [
        "# 함수 선언(정의)\n",
        "\n",
        "```\n",
        "def function_name([parameter, ...]):\n",
        "    [\"\"\"문서 주석(documentation comments)\"\"\"]\n",
        "    함수가 수행할 코드 블록\n",
        "    [return 반환값]\n",
        "```\n",
        "\n",
        "*   반환값이 없는 함수는 return 문장을 생략하거나, return None 문장을 사용할 수 있음.\n",
        "*   return 문장의 의미:\n",
        "    *   함수 종료\n",
        "    *   함수를 호출한 곳에 값을 되돌려 줌."
      ],
      "metadata": {
        "id": "b1PTTNt6WV-s"
      }
    },
    {
      "cell_type": "code",
      "source": [
        "def subtract(x, y):\n",
        "    \"\"\"숫자 x, y를 전달받아서 x - y를 리턴하는 함수.\"\"\"\n",
        "    return x - y"
      ],
      "metadata": {
        "id": "jwqa4IMaTt9x"
      },
      "execution_count": 6,
      "outputs": []
    },
    {
      "cell_type": "code",
      "source": [
        "result = subtract(1, 2)\n",
        "print(result)"
      ],
      "metadata": {
        "colab": {
          "base_uri": "https://localhost:8080/"
        },
        "id": "DN_P3_VmYKKe",
        "outputId": "c12de280-98c2-4014-f35f-f66c8ee9789f"
      },
      "execution_count": 7,
      "outputs": [
        {
          "output_type": "stream",
          "name": "stdout",
          "text": [
            "-1\n"
          ]
        }
      ]
    },
    {
      "cell_type": "markdown",
      "source": [
        "## 값을 반환하지 않는 함수"
      ],
      "metadata": {
        "id": "HQq2RxnCfmvA"
      }
    },
    {
      "cell_type": "code",
      "source": [
        "def repeat_message(msg, n):\n",
        "    \"\"\"\n",
        "    msg를 n번 반복해서 출력.\n",
        "\n",
        "    @param msg - 출력할 문자열.\n",
        "    @param n - 반복할 횟수. 0 또는 양의 정수.\n",
        "    \"\"\"\n",
        "    for _ in range(n):\n",
        "        print(msg)\n",
        "\n",
        "    # return None"
      ],
      "metadata": {
        "id": "1hwLk5jffrER"
      },
      "execution_count": 12,
      "outputs": []
    },
    {
      "cell_type": "code",
      "source": [
        "repeat_message('안녕하세요', 5)"
      ],
      "metadata": {
        "colab": {
          "base_uri": "https://localhost:8080/"
        },
        "id": "FgxByGEPhHnJ",
        "outputId": "55816e1f-3ef6-4b99-d859-c3e6daf93819"
      },
      "execution_count": 13,
      "outputs": [
        {
          "output_type": "stream",
          "name": "stdout",
          "text": [
            "안녕하세요\n",
            "안녕하세요\n",
            "안녕하세요\n",
            "안녕하세요\n",
            "안녕하세요\n"
          ]
        }
      ]
    },
    {
      "cell_type": "code",
      "source": [
        "repeat_message('Hello', 3)"
      ],
      "metadata": {
        "colab": {
          "base_uri": "https://localhost:8080/"
        },
        "id": "u0sxBhGzhtB3",
        "outputId": "9fef473a-1bb8-41d9-d924-f1aa9d562373"
      },
      "execution_count": 14,
      "outputs": [
        {
          "output_type": "stream",
          "name": "stdout",
          "text": [
            "Hello\n",
            "Hello\n",
            "Hello\n"
          ]
        }
      ]
    },
    {
      "cell_type": "markdown",
      "source": [
        "## 2개 이상의 값을 반환하는 함수"
      ],
      "metadata": {
        "id": "cA_lgHXeiPcP"
      }
    },
    {
      "cell_type": "code",
      "source": [
        "def plus_and_minus(x, y):\n",
        "    \"\"\"\n",
        "    x + y, x - y를 리턴.\n",
        "\n",
        "    @param x - 숫자 타입(int 또는 float)\n",
        "    @param y - 숫자 타입(int 또는 float)\n",
        "    @return x + y, x - y\n",
        "    \"\"\"\n",
        "\n",
        "    # return ret_value1, ret_value2, ...\n",
        "    return x + y, x - y"
      ],
      "metadata": {
        "id": "AzArt2eEiUgf"
      },
      "execution_count": 15,
      "outputs": []
    },
    {
      "cell_type": "code",
      "source": [
        "a, b = plus_and_minus(1, 2)\n",
        "print(f'a = {a}, b = {b}')"
      ],
      "metadata": {
        "colab": {
          "base_uri": "https://localhost:8080/"
        },
        "id": "OcCe9kO1jQPQ",
        "outputId": "ac186f6c-967a-48aa-f247-fe72245f0e43"
      },
      "execution_count": 16,
      "outputs": [
        {
          "output_type": "stream",
          "name": "stdout",
          "text": [
            "a = 3, b = -1\n"
          ]
        }
      ]
    },
    {
      "cell_type": "code",
      "source": [
        "result = plus_and_minus(3, 4)\n",
        "print(type(result))  # result: 리턴 값들을 저장하는 튜플.\n",
        "print(result)"
      ],
      "metadata": {
        "colab": {
          "base_uri": "https://localhost:8080/"
        },
        "id": "PbjXFwTrjpsG",
        "outputId": "9ab81484-c515-401d-a88d-ef2e34f8c272"
      },
      "execution_count": 18,
      "outputs": [
        {
          "output_type": "stream",
          "name": "stdout",
          "text": [
            "<class 'tuple'>\n",
            "(7, -1)\n"
          ]
        }
      ]
    },
    {
      "cell_type": "markdown",
      "source": [
        "## 연습문제 1.\n",
        "\n",
        "*   함수 이름: make_list\n",
        "*   기능: [start, end) 범위의 정수 난수 n개를 아이템으로 갖는 리스트를 리턴\n",
        "*   파라미터: start(정수), end(정수), n(0 또는 양의 정수)\n",
        "*   리턴: 리스트."
      ],
      "metadata": {
        "id": "LwK_MiSik2-t"
      }
    },
    {
      "cell_type": "code",
      "source": [
        "import random"
      ],
      "metadata": {
        "id": "BV7KsEEpla7d"
      },
      "execution_count": 19,
      "outputs": []
    },
    {
      "cell_type": "code",
      "source": [
        "def make_list(start, end, n):\n",
        "    \"\"\"\n",
        "    [start, end) 범위의 정수 난수 n개를 아이템으로 갖는 리스트를 리턴.\n",
        "\n",
        "    @param start - int. 난수 시작 범위.\n",
        "    @param end - int. 난수 종료 범위.\n",
        "    @param n - 리스트의 아이템 개수. 0 또는 양의 정수.\n",
        "    @return 난수들의 리스트.\n",
        "    \"\"\"\n",
        "    # array = []\n",
        "    # for _ in range(n):\n",
        "    #     array.append(random.randrange(start, end))\n",
        "    array = [random.randrange(start, end) for _ in range(n)]\n",
        "\n",
        "    return array"
      ],
      "metadata": {
        "id": "xOQb3V2MnA_s"
      },
      "execution_count": 21,
      "outputs": []
    },
    {
      "cell_type": "code",
      "source": [
        "my_list = make_list(0, 2, 10)\n",
        "my_list"
      ],
      "metadata": {
        "colab": {
          "base_uri": "https://localhost:8080/"
        },
        "id": "-NLLuPYZoyqN",
        "outputId": "2570adcd-8b8f-4fbf-fa07-a0de47d420af"
      },
      "execution_count": 22,
      "outputs": [
        {
          "output_type": "execute_result",
          "data": {
            "text/plain": [
              "[1, 1, 1, 0, 0, 1, 1, 1, 1, 0]"
            ]
          },
          "metadata": {},
          "execution_count": 22
        }
      ]
    },
    {
      "cell_type": "code",
      "source": [
        "make_list(0, 101, 5)"
      ],
      "metadata": {
        "colab": {
          "base_uri": "https://localhost:8080/"
        },
        "id": "olevio_Mo-TT",
        "outputId": "9c5ef3ae-30b9-4145-d9d3-fcfae9b8ff6a"
      },
      "execution_count": 23,
      "outputs": [
        {
          "output_type": "execute_result",
          "data": {
            "text/plain": [
              "[75, 60, 78, 43, 11]"
            ]
          },
          "metadata": {},
          "execution_count": 23
        }
      ]
    },
    {
      "cell_type": "markdown",
      "source": [
        "## 연습문제 2.\n",
        "\n",
        "*   함수 이름: calculate_sum\n",
        "*   기능: 숫자(정수, 실수)들을 원소로 갖는 리스트를 전달받아서, 그 리스트의 모든 원소들의 합계를 리턴.\n",
        "*   파라미터: array(리스트)\n",
        "*   리턴: 리스트 원소들의 합계.\n"
      ],
      "metadata": {
        "id": "74co98DnpstD"
      }
    },
    {
      "cell_type": "code",
      "source": [
        "def calculate_sum(array):\n",
        "    \"\"\"\n",
        "    숫자(정수, 실수)들을 원소로 갖는 리스트를 전달받아서, 그 리스트의 모든 원소들의 합계를 리턴.\n",
        "\n",
        "    @param array - 숫자(int, float)들의 리스트.\n",
        "    @return - array의 모든 원소들의 합계.\n",
        "    \"\"\"\n",
        "    result = 0\n",
        "    for x in array:\n",
        "        result += x\n",
        "\n",
        "    return result"
      ],
      "metadata": {
        "id": "_GbdyVW1zVoP"
      },
      "execution_count": 24,
      "outputs": []
    },
    {
      "cell_type": "code",
      "source": [
        "my_list = make_list(1, 10, 3)\n",
        "print(my_list)\n",
        "result = calculate_sum(my_list)\n",
        "print(result)"
      ],
      "metadata": {
        "colab": {
          "base_uri": "https://localhost:8080/"
        },
        "id": "ZoT3xPKZ0hEt",
        "outputId": "fe910034-1be9-4885-d7ec-5008c5143a11"
      },
      "execution_count": 29,
      "outputs": [
        {
          "output_type": "stream",
          "name": "stdout",
          "text": [
            "[2, 4, 5]\n",
            "11\n"
          ]
        }
      ]
    },
    {
      "cell_type": "markdown",
      "source": [
        "## 연습문제 3.\n",
        "\n",
        "*   함수 이름: calculate_mean\n",
        "*   기능: 숫자들을 원소로 갖는 리스트의 원소들의 평균을 리턴.\n",
        "*   파라미터: array(리스트)\n",
        "*   리턴: 리스트 원소들의 평균.\n"
      ],
      "metadata": {
        "id": "q-iY8IVWp9Bz"
      }
    },
    {
      "cell_type": "code",
      "source": [
        "def calculate_mean(array):\n",
        "    \"\"\"\n",
        "    숫자들을 원소로 갖는 리스트의 원소들의 평균을 리턴.\n",
        "\n",
        "    @param array - 숫자(int, float)들을 원소로 갖는 리스트.\n",
        "    @return 리스트 array의 원소들의 평균.\n",
        "    \"\"\"\n",
        "    return calculate_sum(array) / len(array)"
      ],
      "metadata": {
        "id": "dqNWuEgjHD1y"
      },
      "execution_count": 30,
      "outputs": []
    },
    {
      "cell_type": "code",
      "source": [
        "my_list = make_list(0, 101, 5)\n",
        "print(my_list)\n",
        "print(calculate_mean(my_list))"
      ],
      "metadata": {
        "colab": {
          "base_uri": "https://localhost:8080/"
        },
        "id": "fJDaZvPdH5pK",
        "outputId": "5da4e73f-9059-4641-a502-c9964c415e49"
      },
      "execution_count": 31,
      "outputs": [
        {
          "output_type": "stream",
          "name": "stdout",
          "text": [
            "[0, 8, 14, 46, 7]\n",
            "15.0\n"
          ]
        }
      ]
    },
    {
      "cell_type": "markdown",
      "source": [
        "## 연습문제 4.\n",
        "\n",
        "*   함수 이름: find_min_and_max\n",
        "*   기능: 숫자들을 원소로 갖는 리스트를 아규먼트로 전달받아서, 리스트의 최솟값과 최댓값을 리턴.\n",
        "*   파라미터: 숫자들의 리스트.\n",
        "*   리턴: 리스트의 최솟값과 최댓값.\n"
      ],
      "metadata": {
        "id": "wbNRKyEuqK_D"
      }
    },
    {
      "cell_type": "code",
      "source": [
        "def find_min_and_max(array):\n",
        "    \"\"\"\n",
        "    숫자들을 원소로 갖는 리스트의 최솟값과 최댓값을 리턴.\n",
        "\n",
        "    @param array - 숫자(int, float)들을 원소로 갖는 리스트.\n",
        "    @return array의 최솟값, 최댓값\n",
        "    \"\"\"\n",
        "    # return min(array), max(array)\n",
        "    min_value = array[0]\n",
        "    max_value = array[0]\n",
        "    for x in array:\n",
        "        if x < min_value:\n",
        "            min_value = x\n",
        "        if x > max_value:\n",
        "            max_value = x\n",
        "\n",
        "    return min_value, max_value"
      ],
      "metadata": {
        "id": "XNFW8Vw4I036"
      },
      "execution_count": 32,
      "outputs": []
    },
    {
      "cell_type": "code",
      "source": [
        "my_list = make_list(0, 101, 10)\n",
        "print(my_list)\n",
        "print(find_min_and_max(my_list))"
      ],
      "metadata": {
        "colab": {
          "base_uri": "https://localhost:8080/"
        },
        "id": "U8vnvxHGKFqD",
        "outputId": "72a0384e-f7f3-4112-f02e-b20c567c04ea"
      },
      "execution_count": 33,
      "outputs": [
        {
          "output_type": "stream",
          "name": "stdout",
          "text": [
            "[8, 88, 53, 4, 66, 98, 20, 82, 26, 32]\n",
            "(4, 98)\n"
          ]
        }
      ]
    },
    {
      "cell_type": "markdown",
      "source": [
        "# Default Argument(기본 아규먼트)\n",
        "\n",
        "*   함수를 선언할 때 파라미터에 설정하는 기본값.\n",
        "    *   default parameter: 기본값이 설정된 파라미터(매개변수)\n",
        "*   함수를 호출할 때 default parameter에 아규먼트를 전달하지 않으면, default 아규먼트가 기본값으로 사용됨.\n",
        "*   함수를 호출할 때 default parameter에 아규먼트를 전달하면, 기본값 대신 전달한 아규먼트가 사용됨.\n"
      ],
      "metadata": {
        "id": "cULnqQgWLFgi"
      }
    },
    {
      "cell_type": "code",
      "source": [
        "print('안녕', 'Hello', '파이썬', 'Python')"
      ],
      "metadata": {
        "colab": {
          "base_uri": "https://localhost:8080/"
        },
        "id": "CYphiiQ0MUPo",
        "outputId": "aa0b4b39-2696-43ec-d90f-641ae1c43d78"
      },
      "execution_count": 34,
      "outputs": [
        {
          "output_type": "stream",
          "name": "stdout",
          "text": [
            "안녕 Hello 파이썬 Python\n"
          ]
        }
      ]
    },
    {
      "cell_type": "code",
      "source": [
        "print('안녕', 'Hello', '파이썬', 'Python', sep=',')"
      ],
      "metadata": {
        "colab": {
          "base_uri": "https://localhost:8080/"
        },
        "id": "ZtAVITGMMbIp",
        "outputId": "a748b0ce-aef6-4719-abd6-054a2fa32c40"
      },
      "execution_count": 64,
      "outputs": [
        {
          "output_type": "stream",
          "name": "stdout",
          "text": [
            "안녕,Hello,파이썬,Python\n"
          ]
        }
      ]
    },
    {
      "cell_type": "code",
      "source": [
        "def repeat_message(msg, n=1):\n",
        "    for _ in range(n):\n",
        "        print(msg)"
      ],
      "metadata": {
        "id": "O_t3fJwcNHGA"
      },
      "execution_count": 36,
      "outputs": []
    },
    {
      "cell_type": "code",
      "source": [
        "repeat_message('안녕하세요')  # default argument가 사용됨."
      ],
      "metadata": {
        "colab": {
          "base_uri": "https://localhost:8080/"
        },
        "id": "WyDSuVCdNWpo",
        "outputId": "e647926c-8971-49e8-903c-2b90487ca785"
      },
      "execution_count": 37,
      "outputs": [
        {
          "output_type": "stream",
          "name": "stdout",
          "text": [
            "안녕하세요\n"
          ]
        }
      ]
    },
    {
      "cell_type": "code",
      "source": [
        "repeat_message('안녕하세요', n=3)  # 전달한 아규먼트(3)이 사용됨."
      ],
      "metadata": {
        "colab": {
          "base_uri": "https://localhost:8080/"
        },
        "id": "mYLYxTRmNf4Q",
        "outputId": "9d6cfc0c-960a-45d2-da96-8dd19ed5e693"
      },
      "execution_count": 38,
      "outputs": [
        {
          "output_type": "stream",
          "name": "stdout",
          "text": [
            "안녕하세요\n",
            "안녕하세요\n",
            "안녕하세요\n"
          ]
        }
      ]
    },
    {
      "cell_type": "markdown",
      "source": [
        "**(주의)** default parameter(기본값을 갖는 파라미터)들은 기본값을 갖지 않는 파라미터(들) 뒤에서만 선언할 수 있음.\n",
        "\n",
        "default parameter를 기본값을 갖지 않는 파라미터보다 먼저 선언하면 문법 오류!"
      ],
      "metadata": {
        "id": "oJzn6buaOU8w"
      }
    },
    {
      "cell_type": "code",
      "source": [
        "def test_success(x, y=0):\n",
        "    pass"
      ],
      "metadata": {
        "id": "sZHdqKMSO0rm"
      },
      "execution_count": 46,
      "outputs": []
    },
    {
      "cell_type": "code",
      "source": [
        "def test_failure(x=0, y):\n",
        "    pass"
      ],
      "metadata": {
        "colab": {
          "base_uri": "https://localhost:8080/",
          "height": 124
        },
        "id": "wp4QwGaCPloI",
        "outputId": "cb5931c6-d8e3-47a8-f954-e2b85cb68f99"
      },
      "execution_count": 47,
      "outputs": [
        {
          "output_type": "error",
          "ename": "SyntaxError",
          "evalue": "non-default argument follows default argument (<ipython-input-47-5778540842ca>, line 1)",
          "traceback": [
            "\u001b[0;36m  File \u001b[0;32m\"<ipython-input-47-5778540842ca>\"\u001b[0;36m, line \u001b[0;32m1\u001b[0m\n\u001b[0;31m    def test_failure(x=0, y):\u001b[0m\n\u001b[0m                          ^\u001b[0m\n\u001b[0;31mSyntaxError\u001b[0m\u001b[0;31m:\u001b[0m non-default argument follows default argument\n"
          ]
        }
      ]
    },
    {
      "cell_type": "code",
      "source": [
        "def test(x=0, y=0):\n",
        "    print(f'x = {x}, y = {y}')"
      ],
      "metadata": {
        "id": "WNjUgaLYPn8u"
      },
      "execution_count": 55,
      "outputs": []
    },
    {
      "cell_type": "code",
      "source": [
        "test()"
      ],
      "metadata": {
        "colab": {
          "base_uri": "https://localhost:8080/"
        },
        "id": "EPPxfyuNP_vv",
        "outputId": "d6fb080b-1391-42f4-db24-7eef0feefecf"
      },
      "execution_count": 56,
      "outputs": [
        {
          "output_type": "stream",
          "name": "stdout",
          "text": [
            "x = 0, y = 0\n"
          ]
        }
      ]
    },
    {
      "cell_type": "code",
      "source": [
        "test(1)"
      ],
      "metadata": {
        "colab": {
          "base_uri": "https://localhost:8080/"
        },
        "id": "3iQjxSJdQBf2",
        "outputId": "68d55990-4265-4e47-f4c0-9c60bb1f88e7"
      },
      "execution_count": 57,
      "outputs": [
        {
          "output_type": "stream",
          "name": "stdout",
          "text": [
            "x = 1, y = 0\n"
          ]
        }
      ]
    },
    {
      "cell_type": "code",
      "source": [
        "test(0, 2)"
      ],
      "metadata": {
        "colab": {
          "base_uri": "https://localhost:8080/"
        },
        "id": "tjz509HaQI0x",
        "outputId": "c9824e73-f45b-49bc-d146-5471367a3128"
      },
      "execution_count": 58,
      "outputs": [
        {
          "output_type": "stream",
          "name": "stdout",
          "text": [
            "x = 0, y = 2\n"
          ]
        }
      ]
    },
    {
      "cell_type": "code",
      "source": [
        "test(y=2)"
      ],
      "metadata": {
        "colab": {
          "base_uri": "https://localhost:8080/"
        },
        "id": "EhksFU7GQjUW",
        "outputId": "6f9182e6-d872-4094-8383-ad6f928af644"
      },
      "execution_count": 59,
      "outputs": [
        {
          "output_type": "stream",
          "name": "stdout",
          "text": [
            "x = 0, y = 2\n"
          ]
        }
      ]
    },
    {
      "cell_type": "markdown",
      "source": [
        "함수를 호출할 때 아규먼트를 전달하는 방법:\n",
        "\n",
        "*   **positional argument**: 선언된 파라미터 순서대로 아규먼트(들)을 전달하는 방식.\n",
        "*   **keyword argument**: `param=value` 형식으로 아규먼트(들)을 전달하는 방식.\n",
        "    *   keyword argument 방식을 사용할 때는 파라미터 선언 순서를 지키지 않아도 됨.\n",
        "    *   **(주의)** 함수를 호출할 때 positional argument와 keyword argument를 함께 사용하는 경우에는, 반드시 positional argument를 먼저 전달해야 함. keyword argument를 positional argument보다 먼저 전달할 수는 없음!"
      ],
      "metadata": {
        "id": "nsPjVlz3RAKl"
      }
    },
    {
      "cell_type": "code",
      "source": [
        "test(y=-1, x=1)  # keyword argument 방식"
      ],
      "metadata": {
        "colab": {
          "base_uri": "https://localhost:8080/"
        },
        "id": "KgUf3trxRwqt",
        "outputId": "936c519e-9235-40f1-855f-7d6d44e2b15e"
      },
      "execution_count": 60,
      "outputs": [
        {
          "output_type": "stream",
          "name": "stdout",
          "text": [
            "x = 1, y = -1\n"
          ]
        }
      ]
    },
    {
      "cell_type": "code",
      "source": [
        "test(100, y=-100)  # positional & keyword argument 방식을 함께 사용"
      ],
      "metadata": {
        "colab": {
          "base_uri": "https://localhost:8080/"
        },
        "id": "6uFBn9RBSW6U",
        "outputId": "8720453d-fb8e-4fc6-8ce7-23c819e5c226"
      },
      "execution_count": 61,
      "outputs": [
        {
          "output_type": "stream",
          "name": "stdout",
          "text": [
            "x = 100, y = -100\n"
          ]
        }
      ]
    },
    {
      "cell_type": "code",
      "source": [
        "test(x=1, 0)  # keyword argument를 positional argument보다 먼저 사용하면 문법 오류!"
      ],
      "metadata": {
        "colab": {
          "base_uri": "https://localhost:8080/",
          "height": 124
        },
        "id": "7Gk2DgXETQ5d",
        "outputId": "b7cc6d22-fccb-4f79-9874-14e764e0193f"
      },
      "execution_count": 62,
      "outputs": [
        {
          "output_type": "error",
          "ename": "SyntaxError",
          "evalue": "positional argument follows keyword argument (<ipython-input-62-4088513d1f49>, line 1)",
          "traceback": [
            "\u001b[0;36m  File \u001b[0;32m\"<ipython-input-62-4088513d1f49>\"\u001b[0;36m, line \u001b[0;32m1\u001b[0m\n\u001b[0;31m    test(x=1, 0)\u001b[0m\n\u001b[0m               ^\u001b[0m\n\u001b[0;31mSyntaxError\u001b[0m\u001b[0;31m:\u001b[0m positional argument follows keyword argument\n"
          ]
        }
      ]
    },
    {
      "cell_type": "markdown",
      "source": [],
      "metadata": {
        "id": "nb3P6XszSWyV"
      }
    }
  ]
}