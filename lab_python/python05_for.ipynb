{
  "nbformat": 4,
  "nbformat_minor": 0,
  "metadata": {
    "colab": {
      "provenance": [],
      "toc_visible": true,
      "authorship_tag": "ABX9TyMz1TSy5m8kyKcX8WCHoEnx",
      "include_colab_link": true
    },
    "kernelspec": {
      "name": "python3",
      "display_name": "Python 3"
    },
    "language_info": {
      "name": "python"
    }
  },
  "cells": [
    {
      "cell_type": "markdown",
      "metadata": {
        "id": "view-in-github",
        "colab_type": "text"
      },
      "source": [
        "<a href=\"https://colab.research.google.com/github/JakeOh/202505_BD50/blob/main/lab_python/python05_for.ipynb\" target=\"_parent\"><img src=\"https://colab.research.google.com/assets/colab-badge.svg\" alt=\"Open In Colab\"/></a>"
      ]
    },
    {
      "cell_type": "markdown",
      "source": [
        "# for loop(반복문)"
      ],
      "metadata": {
        "id": "mURJZNflQWvt"
      }
    },
    {
      "cell_type": "markdown",
      "source": [
        "```\n",
        "for 변수 in iterable-type:\n",
        "    반복해서 실행할 코드 블록\n",
        "```\n",
        "\n",
        "*   iterable-type: 반복(iteration)이 가능한 데이터 타입.\n",
        "    *   str(문자열), range, list, tuple, dict, ...\n",
        "*   for 반복문은 iterable-type에서 원소(아이템)들을 순서대로 하나씩 꺼내서 변수에 저장하고, 코드 블록을 실행.\n",
        "*   for 반복문은 iterable-type에서 더이상 꺼낼 원소가 없을 때 종료됨."
      ],
      "metadata": {
        "id": "QSd8IZ-3QdH9"
      }
    },
    {
      "cell_type": "code",
      "execution_count": 1,
      "metadata": {
        "colab": {
          "base_uri": "https://localhost:8080/"
        },
        "id": "s-SgzH8sQVCx",
        "outputId": "14fc1c67-53a9-44c8-e1c2-44f246e6ced2"
      },
      "outputs": [
        {
          "output_type": "stream",
          "name": "stdout",
          "text": [
            "안\n",
            "녕\n",
            "하\n",
            "세\n",
            "요\n"
          ]
        }
      ],
      "source": [
        "for s in '안녕하세요':\n",
        "    print(s)"
      ]
    },
    {
      "cell_type": "markdown",
      "source": [
        "# for 반복문과 `range()` 함수"
      ],
      "metadata": {
        "id": "wyzWkqLxSRxV"
      }
    },
    {
      "cell_type": "code",
      "source": [
        "# range(start, stop): start가 stop보다 작은 경우, [start, stop) 범위의 1씩 증가하는 정수들을 만들어 줌.\n",
        "for x in range(1, 6):\n",
        "    print(x)"
      ],
      "metadata": {
        "colab": {
          "base_uri": "https://localhost:8080/"
        },
        "id": "9xxN5fqSSZ8-",
        "outputId": "254cd962-796a-4ebf-d711-afafd6f44d06"
      },
      "execution_count": 2,
      "outputs": [
        {
          "output_type": "stream",
          "name": "stdout",
          "text": [
            "1\n",
            "2\n",
            "3\n",
            "4\n",
            "5\n"
          ]
        }
      ]
    },
    {
      "cell_type": "code",
      "source": [
        "# range(stop): [0, stop) 범위의 1씩 증가하는 정수들을 만들어 줌.\n",
        "for x in range(5):\n",
        "    print(x)"
      ],
      "metadata": {
        "colab": {
          "base_uri": "https://localhost:8080/"
        },
        "id": "ZMaTsZBSTciU",
        "outputId": "be51936d-4e78-4502-b005-c0731dd2bbaf"
      },
      "execution_count": 3,
      "outputs": [
        {
          "output_type": "stream",
          "name": "stdout",
          "text": [
            "0\n",
            "1\n",
            "2\n",
            "3\n",
            "4\n"
          ]
        }
      ]
    },
    {
      "cell_type": "code",
      "source": [
        "# range(start, stop, step): start가 stop보다 작고 step은 양의 정수인 경우,\n",
        "# start <= x < stop 범위의 step만큼씩 증가하는 정수들을 만들어 줌.\n",
        "for x in range(0, 10, 2):\n",
        "    print(x)"
      ],
      "metadata": {
        "colab": {
          "base_uri": "https://localhost:8080/"
        },
        "id": "rh3EA24fT-vs",
        "outputId": "e4aff30e-b845-4cab-8d2e-da7282beae23"
      },
      "execution_count": 4,
      "outputs": [
        {
          "output_type": "stream",
          "name": "stdout",
          "text": [
            "0\n",
            "2\n",
            "4\n",
            "6\n",
            "8\n"
          ]
        }
      ]
    },
    {
      "cell_type": "code",
      "source": [
        "for x in range(1, 10, 2):\n",
        "    print(x)"
      ],
      "metadata": {
        "colab": {
          "base_uri": "https://localhost:8080/"
        },
        "id": "yLLqTgUsU1eb",
        "outputId": "2181afa5-bc7e-4a0c-d528-f3b1c0e52ec1"
      },
      "execution_count": 6,
      "outputs": [
        {
          "output_type": "stream",
          "name": "stdout",
          "text": [
            "1\n",
            "3\n",
            "5\n",
            "7\n",
            "9\n"
          ]
        }
      ]
    },
    {
      "cell_type": "code",
      "source": [
        "# range(start, stop, step): start가 stop보다 크고 step이 음의 정수인 경우,\n",
        "# start >= x > stop 범위의 step만큼씩 감소하는 정수들을 만들어 줌.\n",
        "for x in range(5, 0, -1):\n",
        "    print(x)"
      ],
      "metadata": {
        "colab": {
          "base_uri": "https://localhost:8080/"
        },
        "id": "3_8hPzftVG7C",
        "outputId": "834d1925-cc2d-42d3-f8a5-f7a54a1e3e84"
      },
      "execution_count": 7,
      "outputs": [
        {
          "output_type": "stream",
          "name": "stdout",
          "text": [
            "5\n",
            "4\n",
            "3\n",
            "2\n",
            "1\n"
          ]
        }
      ]
    },
    {
      "cell_type": "code",
      "source": [
        "for x in range(1, 6):\n",
        "    print('*' * x)"
      ],
      "metadata": {
        "colab": {
          "base_uri": "https://localhost:8080/"
        },
        "id": "n_NT3bcCWW_q",
        "outputId": "27e01c52-ccc3-42ee-c658-18f67abf938d"
      },
      "execution_count": 8,
      "outputs": [
        {
          "output_type": "stream",
          "name": "stdout",
          "text": [
            "*\n",
            "**\n",
            "***\n",
            "****\n",
            "*****\n"
          ]
        }
      ]
    },
    {
      "cell_type": "code",
      "source": [
        "for x in range(5, 0, -1):\n",
        "    print('*' * x)"
      ],
      "metadata": {
        "colab": {
          "base_uri": "https://localhost:8080/"
        },
        "id": "hFB3WaQsWq95",
        "outputId": "c3d3050f-aa35-4109-8528-16cebf9c8719"
      },
      "execution_count": 9,
      "outputs": [
        {
          "output_type": "stream",
          "name": "stdout",
          "text": [
            "*****\n",
            "****\n",
            "***\n",
            "**\n",
            "*\n"
          ]
        }
      ]
    },
    {
      "cell_type": "markdown",
      "source": [
        "# `break`와 `continue`\n",
        "\n",
        "*   `break`: iteration을 종료.\n",
        "*   `continue`: 그 다음 iteration 과정을 수행."
      ],
      "metadata": {
        "id": "PLkX4RpVXC3y"
      }
    },
    {
      "cell_type": "code",
      "source": [
        "for x in range(5):\n",
        "    if x == 2:\n",
        "        break\n",
        "    print(x)"
      ],
      "metadata": {
        "colab": {
          "base_uri": "https://localhost:8080/"
        },
        "id": "JFnemla9XQ9p",
        "outputId": "20a8dc2b-9262-44b2-b51f-998c5a59e59d"
      },
      "execution_count": 10,
      "outputs": [
        {
          "output_type": "stream",
          "name": "stdout",
          "text": [
            "0\n",
            "1\n"
          ]
        }
      ]
    },
    {
      "cell_type": "code",
      "source": [
        "for x in range(5):\n",
        "    if x == 2:\n",
        "        continue\n",
        "    print(x)"
      ],
      "metadata": {
        "colab": {
          "base_uri": "https://localhost:8080/"
        },
        "id": "IBpxgH7DXwsg",
        "outputId": "39aa37d2-aeaf-47f3-baf9-a4a6d4c1f217"
      },
      "execution_count": 11,
      "outputs": [
        {
          "output_type": "stream",
          "name": "stdout",
          "text": [
            "0\n",
            "1\n",
            "3\n",
            "4\n"
          ]
        }
      ]
    }
  ]
}