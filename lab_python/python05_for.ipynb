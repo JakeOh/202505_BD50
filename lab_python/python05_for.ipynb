{
  "nbformat": 4,
  "nbformat_minor": 0,
  "metadata": {
    "colab": {
      "provenance": [],
      "toc_visible": true,
      "authorship_tag": "ABX9TyN8vRYrPshiplvYYJmzQDEO",
      "include_colab_link": true
    },
    "kernelspec": {
      "name": "python3",
      "display_name": "Python 3"
    },
    "language_info": {
      "name": "python"
    }
  },
  "cells": [
    {
      "cell_type": "markdown",
      "metadata": {
        "id": "view-in-github",
        "colab_type": "text"
      },
      "source": [
        "<a href=\"https://colab.research.google.com/github/JakeOh/202505_BD50/blob/main/lab_python/python05_for.ipynb\" target=\"_parent\"><img src=\"https://colab.research.google.com/assets/colab-badge.svg\" alt=\"Open In Colab\"/></a>"
      ]
    },
    {
      "cell_type": "markdown",
      "source": [
        "# for loop(반복문)"
      ],
      "metadata": {
        "id": "mURJZNflQWvt"
      }
    },
    {
      "cell_type": "markdown",
      "source": [
        "```\n",
        "for 변수 in iterable-type:\n",
        "    반복해서 실행할 코드 블록\n",
        "```\n",
        "\n",
        "*   iterable-type: 반복(iteration)이 가능한 데이터 타입.\n",
        "    *   str(문자열), range, list, tuple, dict, ...\n",
        "*   for 반복문은 iterable-type에서 원소(아이템)들을 순서대로 하나씩 꺼내서 변수에 저장하고, 코드 블록을 실행.\n",
        "*   for 반복문은 iterable-type에서 더이상 꺼낼 원소가 없을 때 종료됨."
      ],
      "metadata": {
        "id": "QSd8IZ-3QdH9"
      }
    },
    {
      "cell_type": "code",
      "execution_count": null,
      "metadata": {
        "colab": {
          "base_uri": "https://localhost:8080/"
        },
        "id": "s-SgzH8sQVCx",
        "outputId": "14fc1c67-53a9-44c8-e1c2-44f246e6ced2"
      },
      "outputs": [
        {
          "output_type": "stream",
          "name": "stdout",
          "text": [
            "안\n",
            "녕\n",
            "하\n",
            "세\n",
            "요\n"
          ]
        }
      ],
      "source": [
        "for s in '안녕하세요':\n",
        "    print(s)"
      ]
    },
    {
      "cell_type": "markdown",
      "source": [
        "# for 반복문과 `range()` 함수"
      ],
      "metadata": {
        "id": "wyzWkqLxSRxV"
      }
    },
    {
      "cell_type": "code",
      "source": [
        "# range(start, stop): start가 stop보다 작은 경우, [start, stop) 범위의 1씩 증가하는 정수들을 만들어 줌.\n",
        "for x in range(1, 6):\n",
        "    print(x)"
      ],
      "metadata": {
        "colab": {
          "base_uri": "https://localhost:8080/"
        },
        "id": "9xxN5fqSSZ8-",
        "outputId": "254cd962-796a-4ebf-d711-afafd6f44d06"
      },
      "execution_count": null,
      "outputs": [
        {
          "output_type": "stream",
          "name": "stdout",
          "text": [
            "1\n",
            "2\n",
            "3\n",
            "4\n",
            "5\n"
          ]
        }
      ]
    },
    {
      "cell_type": "code",
      "source": [
        "# range(stop): [0, stop) 범위의 1씩 증가하는 정수들을 만들어 줌.\n",
        "for x in range(5):\n",
        "    print(x)"
      ],
      "metadata": {
        "colab": {
          "base_uri": "https://localhost:8080/"
        },
        "id": "ZMaTsZBSTciU",
        "outputId": "be51936d-4e78-4502-b005-c0731dd2bbaf"
      },
      "execution_count": null,
      "outputs": [
        {
          "output_type": "stream",
          "name": "stdout",
          "text": [
            "0\n",
            "1\n",
            "2\n",
            "3\n",
            "4\n"
          ]
        }
      ]
    },
    {
      "cell_type": "code",
      "source": [
        "# range(start, stop, step): start가 stop보다 작고 step은 양의 정수인 경우,\n",
        "# start <= x < stop 범위의 step만큼씩 증가하는 정수들을 만들어 줌.\n",
        "for x in range(0, 10, 2):\n",
        "    print(x)"
      ],
      "metadata": {
        "colab": {
          "base_uri": "https://localhost:8080/"
        },
        "id": "rh3EA24fT-vs",
        "outputId": "e4aff30e-b845-4cab-8d2e-da7282beae23"
      },
      "execution_count": null,
      "outputs": [
        {
          "output_type": "stream",
          "name": "stdout",
          "text": [
            "0\n",
            "2\n",
            "4\n",
            "6\n",
            "8\n"
          ]
        }
      ]
    },
    {
      "cell_type": "code",
      "source": [
        "for x in range(1, 10, 2):\n",
        "    print(x)"
      ],
      "metadata": {
        "colab": {
          "base_uri": "https://localhost:8080/"
        },
        "id": "yLLqTgUsU1eb",
        "outputId": "2181afa5-bc7e-4a0c-d528-f3b1c0e52ec1"
      },
      "execution_count": null,
      "outputs": [
        {
          "output_type": "stream",
          "name": "stdout",
          "text": [
            "1\n",
            "3\n",
            "5\n",
            "7\n",
            "9\n"
          ]
        }
      ]
    },
    {
      "cell_type": "code",
      "source": [
        "# range(start, stop, step): start가 stop보다 크고 step이 음의 정수인 경우,\n",
        "# start >= x > stop 범위의 step만큼씩 감소하는 정수들을 만들어 줌.\n",
        "for x in range(5, 0, -1):\n",
        "    print(x)"
      ],
      "metadata": {
        "colab": {
          "base_uri": "https://localhost:8080/"
        },
        "id": "3_8hPzftVG7C",
        "outputId": "834d1925-cc2d-42d3-f8a5-f7a54a1e3e84"
      },
      "execution_count": null,
      "outputs": [
        {
          "output_type": "stream",
          "name": "stdout",
          "text": [
            "5\n",
            "4\n",
            "3\n",
            "2\n",
            "1\n"
          ]
        }
      ]
    },
    {
      "cell_type": "code",
      "source": [
        "for x in range(1, 6):\n",
        "    print('*' * x)"
      ],
      "metadata": {
        "colab": {
          "base_uri": "https://localhost:8080/"
        },
        "id": "n_NT3bcCWW_q",
        "outputId": "27e01c52-ccc3-42ee-c658-18f67abf938d"
      },
      "execution_count": null,
      "outputs": [
        {
          "output_type": "stream",
          "name": "stdout",
          "text": [
            "*\n",
            "**\n",
            "***\n",
            "****\n",
            "*****\n"
          ]
        }
      ]
    },
    {
      "cell_type": "code",
      "source": [
        "for x in range(5, 0, -1):\n",
        "    print('*' * x)"
      ],
      "metadata": {
        "colab": {
          "base_uri": "https://localhost:8080/"
        },
        "id": "hFB3WaQsWq95",
        "outputId": "c3d3050f-aa35-4109-8528-16cebf9c8719"
      },
      "execution_count": null,
      "outputs": [
        {
          "output_type": "stream",
          "name": "stdout",
          "text": [
            "*****\n",
            "****\n",
            "***\n",
            "**\n",
            "*\n"
          ]
        }
      ]
    },
    {
      "cell_type": "markdown",
      "source": [
        "# `break`와 `continue`\n",
        "\n",
        "*   `break`: iteration을 종료.\n",
        "*   `continue`: 그 다음 iteration 과정을 수행."
      ],
      "metadata": {
        "id": "PLkX4RpVXC3y"
      }
    },
    {
      "cell_type": "code",
      "source": [
        "for x in range(5):\n",
        "    if x == 2:\n",
        "        break\n",
        "    print(x)"
      ],
      "metadata": {
        "colab": {
          "base_uri": "https://localhost:8080/"
        },
        "id": "JFnemla9XQ9p",
        "outputId": "20a8dc2b-9262-44b2-b51f-998c5a59e59d"
      },
      "execution_count": null,
      "outputs": [
        {
          "output_type": "stream",
          "name": "stdout",
          "text": [
            "0\n",
            "1\n"
          ]
        }
      ]
    },
    {
      "cell_type": "code",
      "source": [
        "for x in range(5):\n",
        "    if x == 2:\n",
        "        continue\n",
        "    print(x)"
      ],
      "metadata": {
        "colab": {
          "base_uri": "https://localhost:8080/"
        },
        "id": "IBpxgH7DXwsg",
        "outputId": "39aa37d2-aeaf-47f3-baf9-a4a6d4c1f217"
      },
      "execution_count": null,
      "outputs": [
        {
          "output_type": "stream",
          "name": "stdout",
          "text": [
            "0\n",
            "1\n",
            "3\n",
            "4\n"
          ]
        }
      ]
    },
    {
      "cell_type": "markdown",
      "source": [
        "for-in 반복문과 range() 함수를 사용해서 구구단 2단은 2x2까지, 3단은 3x3까지, ..., 9단은 9x9까지 출력."
      ],
      "metadata": {
        "id": "80Z6lMNRcImP"
      }
    },
    {
      "cell_type": "code",
      "source": [
        " for x in range(2, 10):\n",
        "    print(f'=== {x}단 ===')\n",
        "\n",
        "    for y in range(1, 10):\n",
        "        print(f'{x} x {y} = {x * y}')\n",
        "        if x == y:\n",
        "            break\n",
        "\n",
        "    print('-' * 15)"
      ],
      "metadata": {
        "colab": {
          "base_uri": "https://localhost:8080/"
        },
        "id": "wM5gzoEycb73",
        "outputId": "f26f174f-1cf8-4008-cfdb-800e0f841ec3"
      },
      "execution_count": null,
      "outputs": [
        {
          "output_type": "stream",
          "name": "stdout",
          "text": [
            "=== 2단 ===\n",
            "2 x 1 = 2\n",
            "2 x 2 = 4\n",
            "---------------\n",
            "=== 3단 ===\n",
            "3 x 1 = 3\n",
            "3 x 2 = 6\n",
            "3 x 3 = 9\n",
            "---------------\n",
            "=== 4단 ===\n",
            "4 x 1 = 4\n",
            "4 x 2 = 8\n",
            "4 x 3 = 12\n",
            "4 x 4 = 16\n",
            "---------------\n",
            "=== 5단 ===\n",
            "5 x 1 = 5\n",
            "5 x 2 = 10\n",
            "5 x 3 = 15\n",
            "5 x 4 = 20\n",
            "5 x 5 = 25\n",
            "---------------\n",
            "=== 6단 ===\n",
            "6 x 1 = 6\n",
            "6 x 2 = 12\n",
            "6 x 3 = 18\n",
            "6 x 4 = 24\n",
            "6 x 5 = 30\n",
            "6 x 6 = 36\n",
            "---------------\n",
            "=== 7단 ===\n",
            "7 x 1 = 7\n",
            "7 x 2 = 14\n",
            "7 x 3 = 21\n",
            "7 x 4 = 28\n",
            "7 x 5 = 35\n",
            "7 x 6 = 42\n",
            "7 x 7 = 49\n",
            "---------------\n",
            "=== 8단 ===\n",
            "8 x 1 = 8\n",
            "8 x 2 = 16\n",
            "8 x 3 = 24\n",
            "8 x 4 = 32\n",
            "8 x 5 = 40\n",
            "8 x 6 = 48\n",
            "8 x 7 = 56\n",
            "8 x 8 = 64\n",
            "---------------\n",
            "=== 9단 ===\n",
            "9 x 1 = 9\n",
            "9 x 2 = 18\n",
            "9 x 3 = 27\n",
            "9 x 4 = 36\n",
            "9 x 5 = 45\n",
            "9 x 6 = 54\n",
            "9 x 7 = 63\n",
            "9 x 8 = 72\n",
            "9 x 9 = 81\n",
            "---------------\n"
          ]
        }
      ]
    },
    {
      "cell_type": "code",
      "source": [
        "for x in range(2, 10):\n",
        "    print(f'=== {x}단 ===')\n",
        "\n",
        "    for y in range(1, x + 1):\n",
        "        print(f'{x} x {y} = {x * y}')\n",
        "\n",
        "    print('-' * 15)"
      ],
      "metadata": {
        "colab": {
          "base_uri": "https://localhost:8080/"
        },
        "id": "NEFhk9nufW0u",
        "outputId": "fb022294-92ac-4fca-d744-3e349363dea5"
      },
      "execution_count": null,
      "outputs": [
        {
          "output_type": "stream",
          "name": "stdout",
          "text": [
            "=== 2단 ===\n",
            "2 x 1 = 2\n",
            "2 x 2 = 4\n",
            "---------------\n",
            "=== 3단 ===\n",
            "3 x 1 = 3\n",
            "3 x 2 = 6\n",
            "3 x 3 = 9\n",
            "---------------\n",
            "=== 4단 ===\n",
            "4 x 1 = 4\n",
            "4 x 2 = 8\n",
            "4 x 3 = 12\n",
            "4 x 4 = 16\n",
            "---------------\n",
            "=== 5단 ===\n",
            "5 x 1 = 5\n",
            "5 x 2 = 10\n",
            "5 x 3 = 15\n",
            "5 x 4 = 20\n",
            "5 x 5 = 25\n",
            "---------------\n",
            "=== 6단 ===\n",
            "6 x 1 = 6\n",
            "6 x 2 = 12\n",
            "6 x 3 = 18\n",
            "6 x 4 = 24\n",
            "6 x 5 = 30\n",
            "6 x 6 = 36\n",
            "---------------\n",
            "=== 7단 ===\n",
            "7 x 1 = 7\n",
            "7 x 2 = 14\n",
            "7 x 3 = 21\n",
            "7 x 4 = 28\n",
            "7 x 5 = 35\n",
            "7 x 6 = 42\n",
            "7 x 7 = 49\n",
            "---------------\n",
            "=== 8단 ===\n",
            "8 x 1 = 8\n",
            "8 x 2 = 16\n",
            "8 x 3 = 24\n",
            "8 x 4 = 32\n",
            "8 x 5 = 40\n",
            "8 x 6 = 48\n",
            "8 x 7 = 56\n",
            "8 x 8 = 64\n",
            "---------------\n",
            "=== 9단 ===\n",
            "9 x 1 = 9\n",
            "9 x 2 = 18\n",
            "9 x 3 = 27\n",
            "9 x 4 = 36\n",
            "9 x 5 = 45\n",
            "9 x 6 = 54\n",
            "9 x 7 = 63\n",
            "9 x 8 = 72\n",
            "9 x 9 = 81\n",
            "---------------\n"
          ]
        }
      ]
    },
    {
      "cell_type": "markdown",
      "source": [
        "# `print()` 함수\n",
        "\n",
        "*   탈출 문자열(escape string)\n",
        "    *   '\\t': 탭(tab)\n",
        "    *   '\\n': 줄바꿈(new line)\n",
        "*   `print()`의 파라미터(parameter)\n",
        "    *   `end`: print 함수가 아규먼트들을 콘솔에 출력한 후 마지막에 어떤 문자열을 추가할 것인 지를 설정. 기본값은 '\\n'(줄바꿈).\n",
        "    *   `sep`: separator(구분자). print 함수의 아규먼트들을 출력할 때, 각각의 아규먼트들을 구분하기 위한 문자(열)을 설정. 기본값은 공백(space) 한 칸."
      ],
      "metadata": {
        "id": "cAB-q90xgWcN"
      }
    },
    {
      "cell_type": "code",
      "source": [
        "print('안녕 Hello  Bon Jour')\n",
        "print('안녕\\tHello\\tBon Jour')\n",
        "print('안녕\\nHello\\nBon Jour')"
      ],
      "metadata": {
        "colab": {
          "base_uri": "https://localhost:8080/"
        },
        "id": "ewZMlKGfg3WM",
        "outputId": "ebf033e4-b2c1-49e5-a15c-826ac3565086"
      },
      "execution_count": null,
      "outputs": [
        {
          "output_type": "stream",
          "name": "stdout",
          "text": [
            "안녕 Hello  Bon Jour\n",
            "안녕\tHello\tBon Jour\n",
            "안녕\n",
            "Hello\n",
            "Bon Jour\n"
          ]
        }
      ]
    },
    {
      "cell_type": "code",
      "source": [
        "print('안녕하세요', end='...')\n",
        "print('Hello')\n",
        "print('Bon Jour')"
      ],
      "metadata": {
        "colab": {
          "base_uri": "https://localhost:8080/"
        },
        "id": "zObyhD6tixaE",
        "outputId": "4e17e8a3-b8dc-4508-e5fd-32f1069c1b47"
      },
      "execution_count": null,
      "outputs": [
        {
          "output_type": "stream",
          "name": "stdout",
          "text": [
            "안녕하세요...Hello\n",
            "Bon Jour\n"
          ]
        }
      ]
    },
    {
      "cell_type": "code",
      "source": [
        "print('Hello', 'Python', '파이썬')\n",
        "print('Hello', 'Python', '파이썬', sep=',')"
      ],
      "metadata": {
        "colab": {
          "base_uri": "https://localhost:8080/"
        },
        "id": "2LnNWHBhjspt",
        "outputId": "5c705c2f-9586-4e35-9d04-552ecdb03e3c"
      },
      "execution_count": null,
      "outputs": [
        {
          "output_type": "stream",
          "name": "stdout",
          "text": [
            "Hello Python 파이썬\n",
            "Hello,Python,파이썬\n"
          ]
        }
      ]
    },
    {
      "cell_type": "markdown",
      "source": [
        "# 연습문제"
      ],
      "metadata": {
        "id": "QCgu32emkeHK"
      }
    },
    {
      "cell_type": "code",
      "source": [
        "for i in range(1, 11):\n",
        "    print(i, end=' ')"
      ],
      "metadata": {
        "colab": {
          "base_uri": "https://localhost:8080/"
        },
        "id": "9HGpAUXJrr0y",
        "outputId": "66cbda30-230b-474b-cbd5-2e37657c922d"
      },
      "execution_count": null,
      "outputs": [
        {
          "output_type": "stream",
          "name": "stdout",
          "text": [
            "1 2 3 4 5 6 7 8 9 10 "
          ]
        }
      ]
    },
    {
      "cell_type": "markdown",
      "source": [
        "## Ex 1. 아래와 같이 출력하는 코드를 작성하세요.\n",
        "\n",
        "```\n",
        "1 little 2 little 3 little indian\n",
        "4 little 5 little 6 little indian\n",
        "7 little 8 little 9 little indian\n",
        "10 little indian boys!\n",
        "```"
      ],
      "metadata": {
        "id": "_Cq_54bOkgMy"
      }
    },
    {
      "cell_type": "code",
      "source": [
        "for n in range(1, 11):\n",
        "    print(f'{n} little', end=' ')\n",
        "    if n % 3 == 0:\n",
        "        print('indian')\n",
        "\n",
        "print('indian boys!')"
      ],
      "metadata": {
        "colab": {
          "base_uri": "https://localhost:8080/"
        },
        "id": "qhXTgOAal8px",
        "outputId": "9a9237a3-97b3-4a1c-acdb-7496b882b752"
      },
      "execution_count": null,
      "outputs": [
        {
          "output_type": "stream",
          "name": "stdout",
          "text": [
            "1 little 2 little 3 little indian\n",
            "4 little 5 little 6 little indian\n",
            "7 little 8 little 9 little indian\n",
            "10 little indian boys!\n"
          ]
        }
      ]
    },
    {
      "cell_type": "code",
      "source": [
        "n = 1\n",
        "while n < 11:\n",
        "    print(f'{n} little', end=' ')\n",
        "    if n % 3 == 0:\n",
        "        print('indian')\n",
        "    n += 1\n",
        "print('indian boys!')"
      ],
      "metadata": {
        "id": "6iPQq4Kpwv2E",
        "colab": {
          "base_uri": "https://localhost:8080/"
        },
        "outputId": "cdb0a5e6-d344-4335-f640-a92b91f2f71c"
      },
      "execution_count": 37,
      "outputs": [
        {
          "output_type": "stream",
          "name": "stdout",
          "text": [
            "1 little 2 little 3 little indian\n",
            "4 little 5 little 6 little indian\n",
            "7 little 8 little 9 little indian\n",
            "10 little indian boys!\n"
          ]
        }
      ]
    },
    {
      "cell_type": "markdown",
      "source": [
        "## Ex 2. 아래와 같이 출력하는 코드를 작성하세요.\n",
        "\n",
        "```\n",
        "1  2  *  4  5  *  7  8  *  10\n",
        "11 12 *  14 15 *  17 18 *  20\n",
        "21 22 *  24 25 *  27 28 *  *\n",
        "*  *  *  *  *  *  *  *  *  40\n",
        "...\n",
        "81 82 *  84 85 *  87 88 *  *\n",
        "*  *  *  *  *  *  *  *  *  100\n",
        "```\n"
      ],
      "metadata": {
        "id": "7dGBKsk1lJQ5"
      }
    },
    {
      "cell_type": "code",
      "source": [
        "for n in range(1, 101):\n",
        "    n_1 = n % 10  # 10으로 나눈 나머지 = 숫자 n의 1의 자릿수\n",
        "    n_10 = n // 10  # 10으로 나눈 몫 = 숫자 n의 10의 자릿수\n",
        "    b_1 = (n_1 == 3) or (n_1 == 6) or (n_1 == 9)  # 1의 자릿수가 3 또는 6 또는 9이면\n",
        "    b_10 = (n_10 == 3) or (n_10 == 6) or (n_10 == 9)  # 10의 자릿수가 3 또는 6 또는 9이면\n",
        "    if b_1 and b_10:\n",
        "        print('**', end='\\t')\n",
        "    elif b_1 or b_10:\n",
        "        print('*', end='\\t')\n",
        "    else:\n",
        "        print(n, end='\\t')\n",
        "    if n % 10 == 0:\n",
        "        print()"
      ],
      "metadata": {
        "id": "9HJkY83Ej3u6",
        "colab": {
          "base_uri": "https://localhost:8080/"
        },
        "outputId": "1e5cc119-e984-4e92-e6a3-7a9ba2a60008"
      },
      "execution_count": 48,
      "outputs": [
        {
          "output_type": "stream",
          "name": "stdout",
          "text": [
            "1\t2\t*\t4\t5\t*\t7\t8\t*\t10\t\n",
            "11\t12\t*\t14\t15\t*\t17\t18\t*\t20\t\n",
            "21\t22\t*\t24\t25\t*\t27\t28\t*\t*\t\n",
            "*\t*\t**\t*\t*\t**\t*\t*\t**\t40\t\n",
            "41\t42\t*\t44\t45\t*\t47\t48\t*\t50\t\n",
            "51\t52\t*\t54\t55\t*\t57\t58\t*\t*\t\n",
            "*\t*\t**\t*\t*\t**\t*\t*\t**\t70\t\n",
            "71\t72\t*\t74\t75\t*\t77\t78\t*\t80\t\n",
            "81\t82\t*\t84\t85\t*\t87\t88\t*\t*\t\n",
            "*\t*\t**\t*\t*\t**\t*\t*\t**\t100\t\n"
          ]
        }
      ]
    },
    {
      "cell_type": "code",
      "source": [
        "x = 6\n",
        "x in (3, 6, 9)\n",
        "# 변수(식) in (값1, 값2, ...): 변수(식)이 값들 중에 하나이면 True, 그렇지 않으면 False."
      ],
      "metadata": {
        "colab": {
          "base_uri": "https://localhost:8080/"
        },
        "id": "J7a6nYHm4-wn",
        "outputId": "2cdfa0c6-5136-41f8-ac81-de7ec862bbe1"
      },
      "execution_count": 51,
      "outputs": [
        {
          "output_type": "execute_result",
          "data": {
            "text/plain": [
              "True"
            ]
          },
          "metadata": {},
          "execution_count": 51
        }
      ]
    },
    {
      "cell_type": "code",
      "source": [
        "for n in range(1, 101):\n",
        "    n_1 = n % 10\n",
        "    n_10 = n // 10\n",
        "    if n_1 in (3, 6, 9) or n_10 in (3, 6, 9):\n",
        "        print('*', end='\\t')\n",
        "    else:\n",
        "        print(n, end='\\t')\n",
        "\n",
        "    if n % 10 == 0:\n",
        "        print()"
      ],
      "metadata": {
        "colab": {
          "base_uri": "https://localhost:8080/"
        },
        "id": "tSnInNVB5l5m",
        "outputId": "c5c3d081-9748-482d-a653-98603098f12f"
      },
      "execution_count": 55,
      "outputs": [
        {
          "output_type": "stream",
          "name": "stdout",
          "text": [
            "1\t2\t*\t4\t5\t*\t7\t8\t*\t10\t\n",
            "11\t12\t*\t14\t15\t*\t17\t18\t*\t20\t\n",
            "21\t22\t*\t24\t25\t*\t27\t28\t*\t*\t\n",
            "*\t*\t*\t*\t*\t*\t*\t*\t*\t40\t\n",
            "41\t42\t*\t44\t45\t*\t47\t48\t*\t50\t\n",
            "51\t52\t*\t54\t55\t*\t57\t58\t*\t*\t\n",
            "*\t*\t*\t*\t*\t*\t*\t*\t*\t70\t\n",
            "71\t72\t*\t74\t75\t*\t77\t78\t*\t80\t\n",
            "81\t82\t*\t84\t85\t*\t87\t88\t*\t*\t\n",
            "*\t*\t*\t*\t*\t*\t*\t*\t*\t100\t\n"
          ]
        }
      ]
    },
    {
      "cell_type": "code",
      "source": [
        "'H' in 'hello'"
      ],
      "metadata": {
        "colab": {
          "base_uri": "https://localhost:8080/"
        },
        "id": "U55_x-Ii6nvN",
        "outputId": "122b4d04-5d8e-4e65-b6fd-0e14f0e606fe"
      },
      "execution_count": 57,
      "outputs": [
        {
          "output_type": "execute_result",
          "data": {
            "text/plain": [
              "False"
            ]
          },
          "metadata": {},
          "execution_count": 57
        }
      ]
    },
    {
      "cell_type": "code",
      "source": [
        "for n in range(1, 101):\n",
        "    n_str = str(n)  # 정수 n을 문자열로 변환\n",
        "    if ('3' in n_str) or ('6' in n_str) or ('9' in n_str):\n",
        "        print('*', end='\\t')\n",
        "    else:\n",
        "        print(n, end='\\t')\n",
        "\n",
        "    if n % 10 == 0:\n",
        "        print()"
      ],
      "metadata": {
        "colab": {
          "base_uri": "https://localhost:8080/"
        },
        "id": "3FOCVPM861Bt",
        "outputId": "c33bd883-a43b-4bbe-dffb-6737f1cd83ff"
      },
      "execution_count": 59,
      "outputs": [
        {
          "output_type": "stream",
          "name": "stdout",
          "text": [
            "1\t2\t*\t4\t5\t*\t7\t8\t*\t10\t\n",
            "11\t12\t*\t14\t15\t*\t17\t18\t*\t20\t\n",
            "21\t22\t*\t24\t25\t*\t27\t28\t*\t*\t\n",
            "*\t*\t*\t*\t*\t*\t*\t*\t*\t40\t\n",
            "41\t42\t*\t44\t45\t*\t47\t48\t*\t50\t\n",
            "51\t52\t*\t54\t55\t*\t57\t58\t*\t*\t\n",
            "*\t*\t*\t*\t*\t*\t*\t*\t*\t70\t\n",
            "71\t72\t*\t74\t75\t*\t77\t78\t*\t80\t\n",
            "81\t82\t*\t84\t85\t*\t87\t88\t*\t*\t\n",
            "*\t*\t*\t*\t*\t*\t*\t*\t*\t100\t\n"
          ]
        }
      ]
    }
  ]
}