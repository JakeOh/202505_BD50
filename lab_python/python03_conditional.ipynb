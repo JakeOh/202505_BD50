{
  "nbformat": 4,
  "nbformat_minor": 0,
  "metadata": {
    "colab": {
      "provenance": [],
      "toc_visible": true,
      "authorship_tag": "ABX9TyMF6fIlgtvy92RhVOwn75ld",
      "include_colab_link": true
    },
    "kernelspec": {
      "name": "python3",
      "display_name": "Python 3"
    },
    "language_info": {
      "name": "python"
    }
  },
  "cells": [
    {
      "cell_type": "markdown",
      "metadata": {
        "id": "view-in-github",
        "colab_type": "text"
      },
      "source": [
        "<a href=\"https://colab.research.google.com/github/JakeOh/202505_BD50/blob/main/lab_python/python03_conditional.ipynb\" target=\"_parent\"><img src=\"https://colab.research.google.com/assets/colab-badge.svg\" alt=\"Open In Colab\"/></a>"
      ]
    },
    {
      "cell_type": "markdown",
      "source": [
        "# 조건문(Conditional Statement)"
      ],
      "metadata": {
        "id": "3j2CxYwPQKDa"
      }
    },
    {
      "cell_type": "markdown",
      "source": [
        "## else 없는 조건문\n",
        "\n",
        "```\n",
        "if 조건식:\n",
        "    조건식을 만족할 때 실행할 코드 블록(문장들)\n",
        "```\n",
        "\n",
        "*   `if 조건식` 뒤에는 반드시 콜론(:)을 써야 됨.\n",
        "*   if 블록은 반드시 들여쓰기(indentation)을 해야 됨.\n",
        "*   들여쓰기의 크기는 일정해야 함."
      ],
      "metadata": {
        "id": "pKH1pbIeQSW6"
      }
    },
    {
      "cell_type": "code",
      "execution_count": null,
      "metadata": {
        "colab": {
          "base_uri": "https://localhost:8080/"
        },
        "id": "cpahty-1P57f",
        "outputId": "607ab1e3-8529-4bf0-e357-b17f2d104839"
      },
      "outputs": [
        {
          "output_type": "stream",
          "name": "stdout",
          "text": [
            "나이 입력>>> 23\n",
            "당신은 23살이군요...\n",
            "--- end ---\n"
          ]
        }
      ],
      "source": [
        "age = int(input('나이 입력>>> '))\n",
        "if age >= 0:\n",
        "    print(f'당신은 {age}살이군요...')\n",
        "print('--- end ---')"
      ]
    },
    {
      "cell_type": "markdown",
      "source": [
        "## else 있는 조건문\n",
        "\n",
        "```\n",
        "if 조건식:\n",
        "    조건식을 만족할 때 실행할 코드 블록 (1)\n",
        "else:\n",
        "    조건식을 만족하지 못할 때 실행할 코드 블록 (2)\n",
        "```\n",
        "\n",
        "*   조건식을 만족할 때는 (1) 블록 실행.\n",
        "*   조건식을 만족하지 못할 때는 (2) 블록 실행.\n",
        "*   `if 조건식`과 `else` 다음에는 반드시 콜론(:)을 써야 함.\n",
        "*   if 블록과 else 블록은 반드시 들여쓰기(indentation)을 해야 함.\n",
        "*   들여쓰기 크기는 일정해야 함."
      ],
      "metadata": {
        "id": "1qzy4IKHXu1O"
      }
    },
    {
      "cell_type": "code",
      "source": [
        "age = int(input('나이 입력>>> '))\n",
        "if age >= 0:\n",
        "    print(f'당신은 {age}살이군요...')  # (1)\n",
        "else:\n",
        "    print('나이는 0보다 크거나 같아야 합니다...')  # (2)\n",
        "print('--- end ---')"
      ],
      "metadata": {
        "colab": {
          "base_uri": "https://localhost:8080/"
        },
        "id": "sCHx6LaGXQ7X",
        "outputId": "686cd5fb-206b-4794-d083-74bce2b8b5f8"
      },
      "execution_count": 20,
      "outputs": [
        {
          "output_type": "stream",
          "name": "stdout",
          "text": [
            "나이 입력>>> -16\n",
            "나이는 0보다 크거나 같아야 합니다...\n",
            "--- end ---\n"
          ]
        }
      ]
    },
    {
      "cell_type": "markdown",
      "source": [
        "정수를 입력받아서, 짝수/홀수 출력하는 코드를 작성하세요."
      ],
      "metadata": {
        "id": "vApTqSYzaG5d"
      }
    },
    {
      "cell_type": "code",
      "source": [
        "number = int(input('정수 입력>>> '))\n",
        "if number % 2 == 0:\n",
        "    print('짝수')\n",
        "else:\n",
        "    print('홀수')"
      ],
      "metadata": {
        "colab": {
          "base_uri": "https://localhost:8080/"
        },
        "id": "M5RCQr5paNvM",
        "outputId": "bb11a045-36e7-47cc-fba4-1ebc32aaa2c5"
      },
      "execution_count": 22,
      "outputs": [
        {
          "output_type": "stream",
          "name": "stdout",
          "text": [
            "정수 입력>>> 16\n",
            "짝수\n"
          ]
        }
      ]
    },
    {
      "cell_type": "markdown",
      "source": [
        "Falsy value: 파이썬에서 False로 취급하는 값.\n",
        "\n",
        "*   숫자(int, float): 0\n",
        "*   문자열: 빈 문자열('')\n",
        "*   빈 리스트(list)\n",
        "*   None: 변수에 값을 할당하지 않을 때 사용하는 파이썬 키워드.\n"
      ],
      "metadata": {
        "id": "xiM385Wob82s"
      }
    },
    {
      "cell_type": "code",
      "source": [
        "number = int(input('정수 입력>>> '))\n",
        "if number % 2:\n",
        "    print('odd number(홀수)')\n",
        "else:\n",
        "    print('even number(짝수)')"
      ],
      "metadata": {
        "colab": {
          "base_uri": "https://localhost:8080/"
        },
        "id": "g0DMjQZ7c0tz",
        "outputId": "fe29d254-6655-417f-fbcd-830402f0dc09"
      },
      "execution_count": 24,
      "outputs": [
        {
          "output_type": "stream",
          "name": "stdout",
          "text": [
            "정수 입력>>> 14\n",
            "even number(짝수)\n"
          ]
        }
      ]
    },
    {
      "cell_type": "markdown",
      "source": [
        "## chained conditional (else if)\n",
        "\n",
        "```\n",
        "if 조건식1:\n",
        "    (조건식1)이 True인 경우 실행할 코드 블록\n",
        "elif 조건식2:\n",
        "    (조건식2)이 True인 경우 실행할 코드 블록\n",
        "...\n",
        "else:\n",
        "    위의 모든 조건들이 False일 때 실행할 코드 블록\n",
        "```\n",
        "\n",
        "*   elif 블록은 1개 이상이 있을 수 있음.\n",
        "*   else 블록은 생략 가능.\n",
        "*   모든 블록 안에서 들여쓰기 크기는 같은 크기로."
      ],
      "metadata": {
        "id": "-Kr7-GKqd9ky"
      }
    },
    {
      "cell_type": "markdown",
      "source": [
        "숫자를 입력받아서, 양수/음수/0 인 지를 출력."
      ],
      "metadata": {
        "id": "TjFQOC5afP_q"
      }
    },
    {
      "cell_type": "code",
      "source": [
        "number = float(input('숫자 입력>>> '))\n",
        "if number > 0:\n",
        "    print('양수')\n",
        "elif number == 0:\n",
        "    print('zero')\n",
        "else:\n",
        "    print('음수')"
      ],
      "metadata": {
        "colab": {
          "base_uri": "https://localhost:8080/"
        },
        "id": "NpPgHZrhfWyZ",
        "outputId": "66e4e501-8980-4779-a5c7-d1d4e17e0199"
      },
      "execution_count": 27,
      "outputs": [
        {
          "output_type": "stream",
          "name": "stdout",
          "text": [
            "숫자 입력>>> -123\n",
            "음수\n"
          ]
        }
      ]
    },
    {
      "cell_type": "markdown",
      "source": [
        "시험 점수를 3번 입력.\n",
        "\n",
        "총점, 평균 계산하고 출력.\n",
        "\n",
        "평균 90점 이상이면 'A', 80점 이상이면 'B', 70점 이사이면 'C', 그 이외에는 'F'를 출력"
      ],
      "metadata": {
        "id": "5SKNwIlvfXbh"
      }
    },
    {
      "cell_type": "code",
      "source": [
        "score1 = int(input('점수1 입력>>> '))\n",
        "score2 = int(input('점수2 입력>>> '))\n",
        "score3 = int(input('점수3 입력>>> '))\n",
        "\n",
        "total = score1 + score2 + score3\n",
        "print('총점 =', total)\n",
        "\n",
        "mean = total / 3\n",
        "print('평균 =', mean)\n",
        "\n",
        "if mean >= 90:\n",
        "    print('A')\n",
        "elif mean >= 80:\n",
        "    print('B')\n",
        "elif mean >= 70:\n",
        "    print('C')\n",
        "else:\n",
        "    print('F')"
      ],
      "metadata": {
        "colab": {
          "base_uri": "https://localhost:8080/"
        },
        "id": "rOjUZVi6f2Zi",
        "outputId": "a80d4811-4a48-46d0-d6e2-4ddb0d74a8ef"
      },
      "execution_count": 30,
      "outputs": [
        {
          "output_type": "stream",
          "name": "stdout",
          "text": [
            "점수1 입력>>> 98\n",
            "점수2 입력>>> 70\n",
            "점수3 입력>>> 68\n",
            "총점 = 236\n",
            "평균 = 78.66666666666667\n",
            "C\n"
          ]
        }
      ]
    },
    {
      "cell_type": "markdown",
      "source": [
        "## 중첩 조건문\n",
        "\n",
        "*   if, elif, else 블록 안에서 또다른 조건문을 사용하는 것.\n",
        "*   들여쓰기를 특히 주의!\n",
        "*   들여쓰기 방식에 따라서 전혀 다른 로직이 될 수도 있음.\n",
        "*   중첩 조건문을 논리 연산자(and, or)를 사용하는 조건문 또는 elif 블록으로 바꿀 수도 있음."
      ],
      "metadata": {
        "id": "mQZZ695epnMl"
      }
    },
    {
      "cell_type": "code",
      "source": [
        "number = float(input('숫자 입력>>> '))\n",
        "if number >= 0:  # number > 0 or number == 0\n",
        "    if number > 0:\n",
        "        print('양수')\n",
        "    else:\n",
        "        print('영')\n",
        "else:\n",
        "    print('음수')"
      ],
      "metadata": {
        "colab": {
          "base_uri": "https://localhost:8080/"
        },
        "id": "oqQ8ETbMqd7k",
        "outputId": "586c8035-719d-4f95-9e4b-897a2b277b69"
      },
      "execution_count": 38,
      "outputs": [
        {
          "output_type": "stream",
          "name": "stdout",
          "text": [
            "숫자 입력>>> -1\n",
            "음수\n"
          ]
        }
      ]
    },
    {
      "cell_type": "markdown",
      "source": [
        "# 난수(random number)를 만드는 방법"
      ],
      "metadata": {
        "id": "a7GrwfZStTIL"
      }
    },
    {
      "cell_type": "code",
      "source": [
        "import random  # 난수 생성 기능을 가지고 있는 random 모듈을 사용."
      ],
      "metadata": {
        "id": "EQyKVrSctZQa"
      },
      "execution_count": 39,
      "outputs": []
    },
    {
      "cell_type": "code",
      "source": [
        "random.random()  # [0, 1) 0이상 1미만의 범위의 난수를 리턴."
      ],
      "metadata": {
        "colab": {
          "base_uri": "https://localhost:8080/"
        },
        "id": "GgPWid5Otosi",
        "outputId": "67218dc2-d882-413d-b74f-d1626410c8a7"
      },
      "execution_count": 46,
      "outputs": [
        {
          "output_type": "execute_result",
          "data": {
            "text/plain": [
              "0.1777082125924917"
            ]
          },
          "metadata": {},
          "execution_count": 46
        }
      ]
    },
    {
      "cell_type": "code",
      "source": [
        "random.randrange(0, 5)  # [0, 5) 범위의 정수 난수를 리턴."
      ],
      "metadata": {
        "colab": {
          "base_uri": "https://localhost:8080/"
        },
        "id": "quyG17souHXJ",
        "outputId": "92f5838a-7298-4988-ff92-ca48642b116c"
      },
      "execution_count": 62,
      "outputs": [
        {
          "output_type": "execute_result",
          "data": {
            "text/plain": [
              "3"
            ]
          },
          "metadata": {},
          "execution_count": 62
        }
      ]
    },
    {
      "cell_type": "code",
      "source": [
        "random.randrange(5)  # 시작값을 지정하지 않은 경우, [0, 5) 범위의 정수 난수를 리턴."
      ],
      "metadata": {
        "colab": {
          "base_uri": "https://localhost:8080/"
        },
        "id": "OPmLndPdunUR",
        "outputId": "fcdc01b2-5900-4b8a-f632-e2d947552499"
      },
      "execution_count": 75,
      "outputs": [
        {
          "output_type": "execute_result",
          "data": {
            "text/plain": [
              "0"
            ]
          },
          "metadata": {},
          "execution_count": 75
        }
      ]
    }
  ]
}