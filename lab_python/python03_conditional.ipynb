{
  "nbformat": 4,
  "nbformat_minor": 0,
  "metadata": {
    "colab": {
      "provenance": [],
      "toc_visible": true,
      "authorship_tag": "ABX9TyNv/vbBmQFjAL1fWQpbLDca",
      "include_colab_link": true
    },
    "kernelspec": {
      "name": "python3",
      "display_name": "Python 3"
    },
    "language_info": {
      "name": "python"
    }
  },
  "cells": [
    {
      "cell_type": "markdown",
      "metadata": {
        "id": "view-in-github",
        "colab_type": "text"
      },
      "source": [
        "<a href=\"https://colab.research.google.com/github/JakeOh/202505_BD50/blob/main/lab_python/python03_conditional.ipynb\" target=\"_parent\"><img src=\"https://colab.research.google.com/assets/colab-badge.svg\" alt=\"Open In Colab\"/></a>"
      ]
    },
    {
      "cell_type": "markdown",
      "source": [
        "# 조건문(Conditional Statement)"
      ],
      "metadata": {
        "id": "3j2CxYwPQKDa"
      }
    },
    {
      "cell_type": "markdown",
      "source": [
        "## else 없는 조건문\n",
        "\n",
        "```\n",
        "if 조건식:\n",
        "    조건식을 만족할 때 실행할 코드 블록(문장들)\n",
        "```\n",
        "\n",
        "*   `if 조건식` 뒤에는 반드시 콜론(:)을 써야 됨.\n",
        "*   if 블록은 반드시 들여쓰기(indentation)을 해야 됨.\n",
        "*   들여쓰기의 크기는 일정해야 함."
      ],
      "metadata": {
        "id": "pKH1pbIeQSW6"
      }
    },
    {
      "cell_type": "code",
      "execution_count": 11,
      "metadata": {
        "colab": {
          "base_uri": "https://localhost:8080/"
        },
        "id": "cpahty-1P57f",
        "outputId": "607ab1e3-8529-4bf0-e357-b17f2d104839"
      },
      "outputs": [
        {
          "output_type": "stream",
          "name": "stdout",
          "text": [
            "나이 입력>>> 23\n",
            "당신은 23살이군요...\n",
            "--- end ---\n"
          ]
        }
      ],
      "source": [
        "age = int(input('나이 입력>>> '))\n",
        "if age >= 0:\n",
        "    print(f'당신은 {age}살이군요...')\n",
        "print('--- end ---')"
      ]
    }
  ]
}