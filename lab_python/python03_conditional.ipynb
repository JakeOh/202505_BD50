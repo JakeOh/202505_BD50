{
  "nbformat": 4,
  "nbformat_minor": 0,
  "metadata": {
    "colab": {
      "provenance": [],
      "toc_visible": true,
      "authorship_tag": "ABX9TyNNYZaDnNzE4xPMuyZai+bk",
      "include_colab_link": true
    },
    "kernelspec": {
      "name": "python3",
      "display_name": "Python 3"
    },
    "language_info": {
      "name": "python"
    }
  },
  "cells": [
    {
      "cell_type": "markdown",
      "metadata": {
        "id": "view-in-github",
        "colab_type": "text"
      },
      "source": [
        "<a href=\"https://colab.research.google.com/github/JakeOh/202505_BD50/blob/main/lab_python/python03_conditional.ipynb\" target=\"_parent\"><img src=\"https://colab.research.google.com/assets/colab-badge.svg\" alt=\"Open In Colab\"/></a>"
      ]
    },
    {
      "cell_type": "markdown",
      "source": [
        "# 조건문(Conditional Statement)"
      ],
      "metadata": {
        "id": "3j2CxYwPQKDa"
      }
    },
    {
      "cell_type": "markdown",
      "source": [
        "## else 없는 조건문\n",
        "\n",
        "```\n",
        "if 조건식:\n",
        "    조건식을 만족할 때 실행할 코드 블록(문장들)\n",
        "```\n",
        "\n",
        "*   `if 조건식` 뒤에는 반드시 콜론(:)을 써야 됨.\n",
        "*   if 블록은 반드시 들여쓰기(indentation)을 해야 됨.\n",
        "*   들여쓰기의 크기는 일정해야 함."
      ],
      "metadata": {
        "id": "pKH1pbIeQSW6"
      }
    },
    {
      "cell_type": "code",
      "execution_count": null,
      "metadata": {
        "colab": {
          "base_uri": "https://localhost:8080/"
        },
        "id": "cpahty-1P57f",
        "outputId": "675e0cf5-14a0-45b5-9363-5a9e66a923f1"
      },
      "outputs": [
        {
          "output_type": "stream",
          "name": "stdout",
          "text": [
            "나이 입력>>> 16\n",
            "당신은 16살이군요...\n",
            "--- end ---\n"
          ]
        }
      ],
      "source": [
        "age = int(input('나이 입력>>> '))\n",
        "if age >= 0:\n",
        "    print(f'당신은 {age}살이군요...')\n",
        "print('--- end ---')"
      ]
    },
    {
      "cell_type": "markdown",
      "source": [
        "## else 있는 조건문\n",
        "\n",
        "```\n",
        "if 조건식:\n",
        "    조건식을 만족할 때 실행할 코드 블록 (1)\n",
        "else:\n",
        "    조건식을 만족하지 못할 때 실행할 코드 블록 (2)\n",
        "```\n",
        "\n",
        "*   조건식을 만족할 때는 (1) 블록 실행.\n",
        "*   조건식을 만족하지 못할 때는 (2) 블록 실행.\n",
        "*   `if 조건식`과 `else` 다음에는 반드시 콜론(:)을 써야 함.\n",
        "*   if 블록과 else 블록은 반드시 들여쓰기(indentation)을 해야 함.\n",
        "*   들여쓰기 크기는 일정해야 함."
      ],
      "metadata": {
        "id": "1qzy4IKHXu1O"
      }
    },
    {
      "cell_type": "code",
      "source": [
        "age = int(input('나이 입력>>> '))\n",
        "if age >= 0:\n",
        "    print(f'당신은 {age}살이군요...')  # (1)\n",
        "else:\n",
        "    print('나이는 0보다 크거나 같아야 합니다...')  # (2)\n",
        "print('--- end ---')"
      ],
      "metadata": {
        "colab": {
          "base_uri": "https://localhost:8080/"
        },
        "id": "sCHx6LaGXQ7X",
        "outputId": "cc53cacd-fcb2-4717-8540-1ade0667e913"
      },
      "execution_count": null,
      "outputs": [
        {
          "output_type": "stream",
          "name": "stdout",
          "text": [
            "나이 입력>>> -1\n",
            "나이는 0보다 크거나 같아야 합니다...\n",
            "--- end ---\n"
          ]
        }
      ]
    },
    {
      "cell_type": "markdown",
      "source": [
        "정수를 입력받아서, 짝수/홀수 출력하는 코드를 작성하세요."
      ],
      "metadata": {
        "id": "vApTqSYzaG5d"
      }
    },
    {
      "cell_type": "code",
      "source": [
        "number = int(input('정수 입력>>> '))\n",
        "if number % 2 == 0:\n",
        "    print('짝수')\n",
        "else:\n",
        "    print('홀수')"
      ],
      "metadata": {
        "colab": {
          "base_uri": "https://localhost:8080/"
        },
        "id": "M5RCQr5paNvM",
        "outputId": "31187fa1-4f07-40ea-acc8-0cbd3a4f023a"
      },
      "execution_count": null,
      "outputs": [
        {
          "output_type": "stream",
          "name": "stdout",
          "text": [
            "정수 입력>>> 42\n",
            "짝수\n"
          ]
        }
      ]
    },
    {
      "cell_type": "markdown",
      "source": [
        "Falsy value: 파이썬에서 False로 취급하는 값.\n",
        "\n",
        "*   숫자(int, float): 0\n",
        "*   문자열: 빈 문자열('')\n",
        "*   빈 리스트(list)\n",
        "*   None: 변수에 값을 할당하지 않을 때 사용하는 파이썬 키워드.\n"
      ],
      "metadata": {
        "id": "xiM385Wob82s"
      }
    },
    {
      "cell_type": "code",
      "source": [
        "number = int(input('정수 입력>>> '))\n",
        "if number % 2:\n",
        "    print('odd number(홀수)')\n",
        "else:\n",
        "    print('even number(짝수)')"
      ],
      "metadata": {
        "colab": {
          "base_uri": "https://localhost:8080/"
        },
        "id": "g0DMjQZ7c0tz",
        "outputId": "4d4a46b7-0240-45d4-8b47-7f638765970e"
      },
      "execution_count": null,
      "outputs": [
        {
          "output_type": "stream",
          "name": "stdout",
          "text": [
            "정수 입력>>> 21\n",
            "odd number(홀수)\n"
          ]
        }
      ]
    },
    {
      "cell_type": "markdown",
      "source": [
        "## chained conditional (else if)\n",
        "\n",
        "```\n",
        "if 조건식1:\n",
        "    (조건식1)이 True인 경우 실행할 코드 블록\n",
        "elif 조건식2:\n",
        "    (조건식2)이 True인 경우 실행할 코드 블록\n",
        "...\n",
        "else:\n",
        "    위의 모든 조건들이 False일 때 실행할 코드 블록\n",
        "```\n",
        "\n",
        "*   elif 블록은 1개 이상이 있을 수 있음.\n",
        "*   else 블록은 생략 가능.\n",
        "*   모든 블록 안에서 들여쓰기 크기는 같은 크기로."
      ],
      "metadata": {
        "id": "-Kr7-GKqd9ky"
      }
    },
    {
      "cell_type": "markdown",
      "source": [
        "숫자를 입력받아서, 양수/음수/0 인 지를 출력."
      ],
      "metadata": {
        "id": "TjFQOC5afP_q"
      }
    },
    {
      "cell_type": "code",
      "source": [
        "number = float(input('숫자 입력>>> '))\n",
        "if number > 0:\n",
        "    print('양수')\n",
        "elif number == 0:\n",
        "    print('zero')\n",
        "else:\n",
        "    print('음수')"
      ],
      "metadata": {
        "colab": {
          "base_uri": "https://localhost:8080/"
        },
        "id": "NpPgHZrhfWyZ",
        "outputId": "90211f96-88bb-43b9-b549-92c659486975"
      },
      "execution_count": null,
      "outputs": [
        {
          "output_type": "stream",
          "name": "stdout",
          "text": [
            "숫자 입력>>> 111\n",
            "양수\n"
          ]
        }
      ]
    },
    {
      "cell_type": "markdown",
      "source": [
        "시험 점수를 3번 입력.\n",
        "\n",
        "총점, 평균 계산하고 출력.\n",
        "\n",
        "평균 90점 이상이면 'A', 80점 이상이면 'B', 70점 이사이면 'C', 그 이외에는 'F'를 출력"
      ],
      "metadata": {
        "id": "5SKNwIlvfXbh"
      }
    },
    {
      "cell_type": "code",
      "source": [
        "score1 = int(input('점수1 입력>>> '))\n",
        "score2 = int(input('점수2 입력>>> '))\n",
        "score3 = int(input('점수3 입력>>> '))\n",
        "\n",
        "total = score1 + score2 + score3\n",
        "print('총점 =', total)\n",
        "\n",
        "mean = total / 3\n",
        "print('평균 =', mean)\n",
        "\n",
        "if mean >= 90:\n",
        "    print('A')\n",
        "elif mean >= 80:\n",
        "    print('B')\n",
        "elif mean >= 70:\n",
        "    print('C')\n",
        "else:\n",
        "    print('F')"
      ],
      "metadata": {
        "colab": {
          "base_uri": "https://localhost:8080/"
        },
        "id": "rOjUZVi6f2Zi",
        "outputId": "08306cfc-c53e-4965-d3ae-be3824bf604c"
      },
      "execution_count": null,
      "outputs": [
        {
          "output_type": "stream",
          "name": "stdout",
          "text": [
            "점수1 입력>>> 90\n",
            "점수2 입력>>> 85\n",
            "점수3 입력>>> 77\n",
            "총점 = 252\n",
            "평균 = 84.0\n",
            "B\n"
          ]
        }
      ]
    },
    {
      "cell_type": "markdown",
      "source": [
        "## 중첩 조건문\n",
        "\n",
        "*   if, elif, else 블록 안에서 또다른 조건문을 사용하는 것.\n",
        "*   들여쓰기를 특히 주의!\n",
        "*   들여쓰기 방식에 따라서 전혀 다른 로직이 될 수도 있음.\n",
        "*   중첩 조건문을 논리 연산자(and, or)를 사용하는 조건문 또는 elif 블록으로 바꿀 수도 있음."
      ],
      "metadata": {
        "id": "mQZZ695epnMl"
      }
    },
    {
      "cell_type": "code",
      "source": [
        "number = float(input('숫자 입력>>> '))\n",
        "if number >= 0:  # number > 0 or number == 0\n",
        "    if number > 0:\n",
        "        print('양수')\n",
        "    else:\n",
        "        print('영')\n",
        "else:\n",
        "    print('음수')"
      ],
      "metadata": {
        "colab": {
          "base_uri": "https://localhost:8080/"
        },
        "id": "oqQ8ETbMqd7k",
        "outputId": "f40195ae-0ada-494c-e598-33ade8d14b15"
      },
      "execution_count": null,
      "outputs": [
        {
          "output_type": "stream",
          "name": "stdout",
          "text": [
            "숫자 입력>>> 0\n",
            "영\n"
          ]
        }
      ]
    },
    {
      "cell_type": "markdown",
      "source": [
        "# 난수(random number)를 만드는 방법"
      ],
      "metadata": {
        "id": "a7GrwfZStTIL"
      }
    },
    {
      "cell_type": "code",
      "source": [
        "import random  # 난수 생성 기능을 가지고 있는 random 모듈을 사용."
      ],
      "metadata": {
        "id": "EQyKVrSctZQa"
      },
      "execution_count": null,
      "outputs": []
    },
    {
      "cell_type": "code",
      "source": [
        "random.random()  # [0, 1) 0이상 1미만의 범위의 난수를 리턴."
      ],
      "metadata": {
        "colab": {
          "base_uri": "https://localhost:8080/"
        },
        "id": "GgPWid5Otosi",
        "outputId": "4ab1760b-f245-4fbe-b25f-dbaf244b6eb4"
      },
      "execution_count": null,
      "outputs": [
        {
          "output_type": "execute_result",
          "data": {
            "text/plain": [
              "0.45568646577894045"
            ]
          },
          "metadata": {},
          "execution_count": 9
        }
      ]
    },
    {
      "cell_type": "code",
      "source": [
        "random.randrange(0, 5)  # [0, 5) 범위의 정수 난수를 리턴."
      ],
      "metadata": {
        "colab": {
          "base_uri": "https://localhost:8080/"
        },
        "id": "quyG17souHXJ",
        "outputId": "f64b3a68-15ad-4265-a6fb-7f3dc9d0c0c2"
      },
      "execution_count": null,
      "outputs": [
        {
          "output_type": "execute_result",
          "data": {
            "text/plain": [
              "1"
            ]
          },
          "metadata": {},
          "execution_count": 10
        }
      ]
    },
    {
      "cell_type": "code",
      "source": [
        "random.randrange(5)  # 시작값을 지정하지 않은 경우, [0, 5) 범위의 정수 난수를 리턴."
      ],
      "metadata": {
        "colab": {
          "base_uri": "https://localhost:8080/"
        },
        "id": "OPmLndPdunUR",
        "outputId": "957398fd-c735-4cf4-9651-00de547825c4"
      },
      "execution_count": null,
      "outputs": [
        {
          "output_type": "execute_result",
          "data": {
            "text/plain": [
              "0"
            ]
          },
          "metadata": {},
          "execution_count": 11
        }
      ]
    },
    {
      "cell_type": "markdown",
      "source": [
        "## 연습문제\n",
        "\n",
        "가위, 바위, 보 게임의 승패를 출력\n",
        "*   가위 = 1, 바위 = 2, 보 = 3\n",
        "*   컴퓨터: 1이상 3이하(4 미만)의 정수 난수를 저장.\n",
        "*   사용자: 1이상 3이하의 정수를 입력받아서 저장.\n",
        "*   결과(조건문 사용) 출력 (예) 컴퓨터 승, 사용자 승.\n"
      ],
      "metadata": {
        "id": "FgqQ-h0Cv1oJ"
      }
    },
    {
      "cell_type": "code",
      "source": [
        "print('=== 가위/바위/보 ===')\n",
        "print('[1] 가위')\n",
        "print('[2] 바위')\n",
        "print('[3] 보')\n",
        "print('====================')\n",
        "user = int(input('선택>>> '))\n",
        "\n",
        "computer = random.randrange(1, 4)\n",
        "print(f'user={user} : computer={computer}')\n",
        "\n",
        "if user == 1:  # user=가위\n",
        "    if computer == 1:  # computer=가위\n",
        "        print('비김')\n",
        "    elif computer == 2:  # computer=바위\n",
        "        print('패')\n",
        "    else:  # computer=보\n",
        "        print('승')\n",
        "elif user == 2:  # user=바위\n",
        "    if computer == 1:  # computer=가위\n",
        "        print('승')\n",
        "    elif computer == 2:  # computer=바위\n",
        "        print('비김')\n",
        "    else:  # computer=보\n",
        "        print('패')\n",
        "else:  # user=보\n",
        "    if computer == 1:  # computer=가위\n",
        "        print('패')\n",
        "    elif computer == 2:  # computer=바위\n",
        "        print('승')\n",
        "    else:  # computer=보\n",
        "        print('비김')"
      ],
      "metadata": {
        "id": "Rlc3DA43zqaX",
        "colab": {
          "base_uri": "https://localhost:8080/"
        },
        "outputId": "442d0eea-baa6-47bd-b2c4-42cf9c21bef3"
      },
      "execution_count": null,
      "outputs": [
        {
          "output_type": "stream",
          "name": "stdout",
          "text": [
            "=== 가위/바위/보 ===\n",
            "[1] 가위\n",
            "[2] 바위\n",
            "[3] 보\n",
            "====================\n",
            "선택>>> 3\n",
            "user=3 : computer=1\n",
            "패\n"
          ]
        }
      ]
    },
    {
      "cell_type": "code",
      "source": [
        "print('=== 가위/바위/보 ===')\n",
        "print('[1] 가위')\n",
        "print('[2] 바위')\n",
        "print('[3] 보')\n",
        "print('====================')\n",
        "user = int(input('선택>>> '))\n",
        "\n",
        "computer = random.randrange(1, 4)\n",
        "print(f'user={user} : computer={computer}')\n",
        "\n",
        "if user == computer:\n",
        "    print('비김')\n",
        "elif user == 1:  # user=가위\n",
        "    if computer == 2:  # computer=바위\n",
        "        print('computer 승')\n",
        "    else:  # computer=3(보)\n",
        "        print('user 승')\n",
        "elif user == 2:  # user=바위\n",
        "    if computer == 1:  # computer=가위\n",
        "        print('user 승')\n",
        "    else:  # computer=3(보)\n",
        "        print('computer 승')\n",
        "else:  # user=3(보)\n",
        "    if computer == 1:  # computer=가위\n",
        "        print('computer 승')\n",
        "    else:  # computer=2(바위)\n",
        "        print('user 승')"
      ],
      "metadata": {
        "colab": {
          "base_uri": "https://localhost:8080/"
        },
        "id": "rvFxflVQe43U",
        "outputId": "1759efa7-d56f-405b-e470-dfc92bb55532"
      },
      "execution_count": null,
      "outputs": [
        {
          "output_type": "stream",
          "name": "stdout",
          "text": [
            "=== 가위/바위/보 ===\n",
            "[1] 가위\n",
            "[2] 바위\n",
            "[3] 보\n",
            "====================\n",
            "선택>>> 3\n",
            "user=3 : computer=3\n",
            "비김\n"
          ]
        }
      ]
    },
    {
      "cell_type": "code",
      "source": [
        "print('=== 가위/바위/보 ===')\n",
        "print('[1] 가위')\n",
        "print('[2] 바위')\n",
        "print('[3] 보')\n",
        "print('====================')\n",
        "user = int(input('선택>>> '))\n",
        "\n",
        "computer = random.randrange(1, 4)\n",
        "print(f'user={user} : computer={computer}')\n",
        "\n",
        "# user가 이기는 경우들\n",
        "user_win = (user == 1 and computer == 3) or (user == 2 and computer == 1) or (user == 3 and computer == 2)\n",
        "if user == computer:\n",
        "    print('Tie')\n",
        "elif user_win:\n",
        "    print('User win')\n",
        "else:\n",
        "    print('Computer win')"
      ],
      "metadata": {
        "colab": {
          "base_uri": "https://localhost:8080/"
        },
        "id": "Q8LR8Tk4g4vJ",
        "outputId": "a13fd4ea-ec5d-4624-b00a-9c4935a33ac9"
      },
      "execution_count": null,
      "outputs": [
        {
          "output_type": "stream",
          "name": "stdout",
          "text": [
            "=== 가위/바위/보 ===\n",
            "[1] 가위\n",
            "[2] 바위\n",
            "[3] 보\n",
            "====================\n",
            "선택>>> 3\n",
            "user=3 : computer=1\n",
            "Computer win\n"
          ]
        }
      ]
    },
    {
      "cell_type": "code",
      "source": [
        "print('=== 가위/바위/보 ===')\n",
        "print('[1] 가위')\n",
        "print('[2] 바위')\n",
        "print('[3] 보')\n",
        "print('====================')\n",
        "user = int(input('선택>>> '))\n",
        "\n",
        "computer = random.randrange(1, 4)\n",
        "print(f'user={user} : computer={computer}')\n",
        "\n",
        "game = user - computer\n",
        "if game == 0:\n",
        "    print('tie')\n",
        "elif game == 1 or game == -2:\n",
        "    print('user win')\n",
        "else:\n",
        "    print('computer win')"
      ],
      "metadata": {
        "colab": {
          "base_uri": "https://localhost:8080/"
        },
        "id": "HLaDbRg-mLUM",
        "outputId": "6398efaf-ea41-4f71-ca69-1659bd055891"
      },
      "execution_count": null,
      "outputs": [
        {
          "output_type": "stream",
          "name": "stdout",
          "text": [
            "=== 가위/바위/보 ===\n",
            "[1] 가위\n",
            "[2] 바위\n",
            "[3] 보\n",
            "====================\n",
            "선택>>> 2\n",
            "user=2 : computer=3\n",
            "computer win\n"
          ]
        }
      ]
    },
    {
      "cell_type": "markdown",
      "source": [
        "# match 문\n",
        "\n",
        "```\n",
        "match 변수(또는 식):\n",
        "    case 값1:\n",
        "        변수(또는 식)의 값이 (값1)과 같은 경우 실행할 코드 블록\n",
        "    case 값2:\n",
        "        변수(또는 식)의 값이 (값2)과 같은 경우 실행할 코드 블록\n",
        "    ...\n",
        "```\n"
      ],
      "metadata": {
        "id": "mLhr3cV_ngOk"
      }
    },
    {
      "cell_type": "code",
      "source": [
        "user = int(input('1 ~ 3 선택>>> '))\n",
        "match user:\n",
        "    case 1:\n",
        "        print('가위')\n",
        "    case 2:\n",
        "        print('바위')\n",
        "    case 3:\n",
        "        print('보')"
      ],
      "metadata": {
        "colab": {
          "base_uri": "https://localhost:8080/"
        },
        "id": "Q2b6GJRqoH6c",
        "outputId": "ebf3f238-b230-4fe7-962a-6bbd0b9b6645"
      },
      "execution_count": null,
      "outputs": [
        {
          "output_type": "stream",
          "name": "stdout",
          "text": [
            "1 ~ 3 선택>>> 3\n",
            "보\n"
          ]
        }
      ]
    },
    {
      "cell_type": "code",
      "source": [
        "# 0(일요일), 1(월요일), ..., 5(금요일), 6(토요일)\n",
        "day = int(input('0 ~ 6 선택>>> '))\n",
        "match day:\n",
        "    case 1 | 2 | 3 | 4 | 5:\n",
        "        print('학원 가다...')\n",
        "    case 0 | 6:\n",
        "        print('쉰다...')"
      ],
      "metadata": {
        "colab": {
          "base_uri": "https://localhost:8080/"
        },
        "id": "R9eQiFLzpBoz",
        "outputId": "9760c783-c530-4aba-c1c0-ff108b7f8043"
      },
      "execution_count": null,
      "outputs": [
        {
          "output_type": "stream",
          "name": "stdout",
          "text": [
            "0 ~ 6 선택>>> 3\n",
            "학원 가다...\n"
          ]
        }
      ]
    }
  ]
}