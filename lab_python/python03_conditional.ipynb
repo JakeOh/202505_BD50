{
  "nbformat": 4,
  "nbformat_minor": 0,
  "metadata": {
    "colab": {
      "provenance": [],
      "toc_visible": true,
      "authorship_tag": "ABX9TyMSpL2crTLUea5eHEQ2hoS9",
      "include_colab_link": true
    },
    "kernelspec": {
      "name": "python3",
      "display_name": "Python 3"
    },
    "language_info": {
      "name": "python"
    }
  },
  "cells": [
    {
      "cell_type": "markdown",
      "metadata": {
        "id": "view-in-github",
        "colab_type": "text"
      },
      "source": [
        "<a href=\"https://colab.research.google.com/github/JakeOh/202505_BD50/blob/main/lab_python/python03_conditional.ipynb\" target=\"_parent\"><img src=\"https://colab.research.google.com/assets/colab-badge.svg\" alt=\"Open In Colab\"/></a>"
      ]
    },
    {
      "cell_type": "markdown",
      "source": [
        "# 조건문(Conditional Statement)"
      ],
      "metadata": {
        "id": "3j2CxYwPQKDa"
      }
    },
    {
      "cell_type": "markdown",
      "source": [
        "## else 없는 조건문\n",
        "\n",
        "```\n",
        "if 조건식:\n",
        "    조건식을 만족할 때 실행할 코드 블록(문장들)\n",
        "```\n",
        "\n",
        "*   `if 조건식` 뒤에는 반드시 콜론(:)을 써야 됨.\n",
        "*   if 블록은 반드시 들여쓰기(indentation)을 해야 됨.\n",
        "*   들여쓰기의 크기는 일정해야 함."
      ],
      "metadata": {
        "id": "pKH1pbIeQSW6"
      }
    },
    {
      "cell_type": "code",
      "execution_count": null,
      "metadata": {
        "colab": {
          "base_uri": "https://localhost:8080/"
        },
        "id": "cpahty-1P57f",
        "outputId": "607ab1e3-8529-4bf0-e357-b17f2d104839"
      },
      "outputs": [
        {
          "output_type": "stream",
          "name": "stdout",
          "text": [
            "나이 입력>>> 23\n",
            "당신은 23살이군요...\n",
            "--- end ---\n"
          ]
        }
      ],
      "source": [
        "age = int(input('나이 입력>>> '))\n",
        "if age >= 0:\n",
        "    print(f'당신은 {age}살이군요...')\n",
        "print('--- end ---')"
      ]
    },
    {
      "cell_type": "markdown",
      "source": [
        "## else 있는 조건문\n",
        "\n",
        "```\n",
        "if 조건식:\n",
        "    조건식을 만족할 때 실행할 코드 블록 (1)\n",
        "else:\n",
        "    조건식을 만족하지 못할 때 실행할 코드 블록 (2)\n",
        "```\n",
        "\n",
        "*   조건식을 만족할 때는 (1) 블록 실행.\n",
        "*   조건식을 만족하지 못할 때는 (2) 블록 실행.\n",
        "*   `if 조건식`과 `else` 다음에는 반드시 콜론(:)을 써야 함.\n",
        "*   if 블록과 else 블록은 반드시 들여쓰기(indentation)을 해야 함.\n",
        "*   들여쓰기 크기는 일정해야 함."
      ],
      "metadata": {
        "id": "1qzy4IKHXu1O"
      }
    },
    {
      "cell_type": "code",
      "source": [
        "age = int(input('나이 입력>>> '))\n",
        "if age >= 0:\n",
        "    print(f'당신은 {age}살이군요...')  # (1)\n",
        "else:\n",
        "    print('나이는 0보다 크거나 같아야 합니다...')  # (2)\n",
        "print('--- end ---')"
      ],
      "metadata": {
        "colab": {
          "base_uri": "https://localhost:8080/"
        },
        "id": "sCHx6LaGXQ7X",
        "outputId": "686cd5fb-206b-4794-d083-74bce2b8b5f8"
      },
      "execution_count": 20,
      "outputs": [
        {
          "output_type": "stream",
          "name": "stdout",
          "text": [
            "나이 입력>>> -16\n",
            "나이는 0보다 크거나 같아야 합니다...\n",
            "--- end ---\n"
          ]
        }
      ]
    },
    {
      "cell_type": "markdown",
      "source": [
        "정수를 입력받아서, 짝수/홀수 출력하는 코드를 작성하세요."
      ],
      "metadata": {
        "id": "vApTqSYzaG5d"
      }
    },
    {
      "cell_type": "code",
      "source": [
        "number = int(input('정수 입력>>> '))\n",
        "if number % 2 == 0:\n",
        "    print('짝수')\n",
        "else:\n",
        "    print('홀수')"
      ],
      "metadata": {
        "colab": {
          "base_uri": "https://localhost:8080/"
        },
        "id": "M5RCQr5paNvM",
        "outputId": "bb11a045-36e7-47cc-fba4-1ebc32aaa2c5"
      },
      "execution_count": 22,
      "outputs": [
        {
          "output_type": "stream",
          "name": "stdout",
          "text": [
            "정수 입력>>> 16\n",
            "짝수\n"
          ]
        }
      ]
    },
    {
      "cell_type": "markdown",
      "source": [
        "Falsy value: 파이썬에서 False로 취급하는 값.\n",
        "\n",
        "*   숫자(int, float): 0\n",
        "*   문자열: 빈 문자열('')\n",
        "*   빈 리스트(list)\n",
        "*   None: 변수에 값을 할당하지 않을 때 사용하는 파이썬 키워드.\n"
      ],
      "metadata": {
        "id": "xiM385Wob82s"
      }
    },
    {
      "cell_type": "code",
      "source": [
        "number = int(input('정수 입력>>> '))\n",
        "if number % 2:\n",
        "    print('odd number(홀수)')\n",
        "else:\n",
        "    print('even number(짝수)')"
      ],
      "metadata": {
        "colab": {
          "base_uri": "https://localhost:8080/"
        },
        "id": "g0DMjQZ7c0tz",
        "outputId": "fe29d254-6655-417f-fbcd-830402f0dc09"
      },
      "execution_count": 24,
      "outputs": [
        {
          "output_type": "stream",
          "name": "stdout",
          "text": [
            "정수 입력>>> 14\n",
            "even number(짝수)\n"
          ]
        }
      ]
    },
    {
      "cell_type": "markdown",
      "source": [
        "## chained conditional (else if)\n",
        "\n",
        "```\n",
        "if 조건식1:\n",
        "    (조건식1)이 True인 경우 실행할 코드 블록\n",
        "elif 조건식2:\n",
        "    (조건식2)이 True인 경우 실행할 코드 블록\n",
        "...\n",
        "else:\n",
        "    위의 모든 조건들이 False일 때 실행할 코드 블록\n",
        "```\n",
        "\n",
        "*   elif 블록은 1개 이상이 있을 수 있음.\n",
        "*   else 블록은 생략 가능.\n",
        "*   모든 블록 안에서 들여쓰기 크기는 같은 크기로."
      ],
      "metadata": {
        "id": "-Kr7-GKqd9ky"
      }
    },
    {
      "cell_type": "markdown",
      "source": [
        "숫자를 입력받아서, 양수/음수/0 인 지를 출력."
      ],
      "metadata": {
        "id": "TjFQOC5afP_q"
      }
    },
    {
      "cell_type": "code",
      "source": [],
      "metadata": {
        "id": "NpPgHZrhfWyZ"
      },
      "execution_count": null,
      "outputs": []
    },
    {
      "cell_type": "markdown",
      "source": [
        "시험 점수를 3번 입력.\n",
        "\n",
        "총점, 평균 계산하고 출력.\n",
        "\n",
        "평균 90점 이상이면 'A', 80점 이상이면 'B', 70점 이사이면 'C', 그 이외에는 'F'를 출력"
      ],
      "metadata": {
        "id": "5SKNwIlvfXbh"
      }
    },
    {
      "cell_type": "code",
      "source": [],
      "metadata": {
        "id": "rOjUZVi6f2Zi"
      },
      "execution_count": null,
      "outputs": []
    }
  ]
}