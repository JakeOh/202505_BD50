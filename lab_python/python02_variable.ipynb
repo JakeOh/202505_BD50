{
  "nbformat": 4,
  "nbformat_minor": 0,
  "metadata": {
    "colab": {
      "provenance": [],
      "toc_visible": true,
      "authorship_tag": "ABX9TyMap6ibu0AIDMFwZijhRYdi",
      "include_colab_link": true
    },
    "kernelspec": {
      "name": "python3",
      "display_name": "Python 3"
    },
    "language_info": {
      "name": "python"
    }
  },
  "cells": [
    {
      "cell_type": "markdown",
      "metadata": {
        "id": "view-in-github",
        "colab_type": "text"
      },
      "source": [
        "<a href=\"https://colab.research.google.com/github/JakeOh/202505_BD50/blob/main/lab_python/python02_variable.ipynb\" target=\"_parent\"><img src=\"https://colab.research.google.com/assets/colab-badge.svg\" alt=\"Open In Colab\"/></a>"
      ]
    },
    {
      "cell_type": "markdown",
      "source": [
        "# Python Data Type(자료 타입)\n",
        "\n",
        "*   숫자 타입\n",
        "    *   정수(int)\n",
        "    *   실수(float)\n",
        "*   문자열 타입(str)\n",
        "*   논리 타입(bool): True/False\n"
      ],
      "metadata": {
        "id": "EKZyDX22ikRN"
      }
    },
    {
      "cell_type": "markdown",
      "source": [
        "## 숫자 타입"
      ],
      "metadata": {
        "id": "OAlTpEW7joE9"
      }
    },
    {
      "cell_type": "code",
      "execution_count": 1,
      "metadata": {
        "colab": {
          "base_uri": "https://localhost:8080/"
        },
        "id": "wp0C1ikFiJcM",
        "outputId": "8f784d73-e75d-49f7-bcdb-23edb565ce73"
      },
      "outputs": [
        {
          "output_type": "stream",
          "name": "stdout",
          "text": [
            "<class 'int'>\n",
            "n = 123\n"
          ]
        }
      ],
      "source": [
        "# 변수 선언, 값 할당: 변수_이름 = 값\n",
        "n = 123\n",
        "print(type(n))  # type(변수_이름): 변수의 타입을 리턴하는 함수\n",
        "print('n =', n)"
      ]
    },
    {
      "cell_type": "code",
      "source": [
        "n = 3.14  # 변수에 저장된 값을 변경.\n",
        "print(type(n))\n",
        "print('n =', n)"
      ],
      "metadata": {
        "colab": {
          "base_uri": "https://localhost:8080/"
        },
        "id": "CCzIMTVPknS7",
        "outputId": "a804a0d1-597c-4563-d801-881179548492"
      },
      "execution_count": 2,
      "outputs": [
        {
          "output_type": "stream",
          "name": "stdout",
          "text": [
            "<class 'float'>\n",
            "n = 3.14\n"
          ]
        }
      ]
    },
    {
      "cell_type": "markdown",
      "source": [
        "## 문자열 타입\n",
        "\n",
        "파이썬에서 문자열은 작은따옴표('')와 큰따옴표(\"\")를 모두 사용할 수 있음."
      ],
      "metadata": {
        "id": "4zNW9gjUlq86"
      }
    },
    {
      "cell_type": "code",
      "source": [
        "name = \"오쌤\"  # '오쌤'\n",
        "print(f'안녕하세요, {name}!')\n",
        "print(type(name))"
      ],
      "metadata": {
        "colab": {
          "base_uri": "https://localhost:8080/"
        },
        "id": "XgfO2sToluaa",
        "outputId": "e92cb36c-337c-4e6c-87d2-e8764ca9422d"
      },
      "execution_count": 5,
      "outputs": [
        {
          "output_type": "stream",
          "name": "stdout",
          "text": [
            "안녕하세요, 오쌤!\n",
            "<class 'str'>\n"
          ]
        }
      ]
    },
    {
      "cell_type": "markdown",
      "source": [
        "## 논리 타입"
      ],
      "metadata": {
        "id": "sCeGbwkXmk6y"
      }
    },
    {
      "cell_type": "code",
      "source": [
        "b = False  # 파이썬의 키워드, 변수 이름, 함수 이름 등은 대/소문자를 구분.\n",
        "print(type(b))\n",
        "print('b =', b)"
      ],
      "metadata": {
        "colab": {
          "base_uri": "https://localhost:8080/"
        },
        "id": "2oi6OcExmoBy",
        "outputId": "c48f7134-a460-4170-80d9-b2ceb819b49a"
      },
      "execution_count": 9,
      "outputs": [
        {
          "output_type": "stream",
          "name": "stdout",
          "text": [
            "<class 'bool'>\n",
            "b = False\n"
          ]
        }
      ]
    },
    {
      "cell_type": "code",
      "source": [
        "b = 5 > 0\n",
        "print(b)"
      ],
      "metadata": {
        "colab": {
          "base_uri": "https://localhost:8080/"
        },
        "id": "WOZdyLFanKJy",
        "outputId": "0e1734ee-9f9d-4725-bccd-d9e7e5b87d8a"
      },
      "execution_count": 13,
      "outputs": [
        {
          "output_type": "stream",
          "name": "stdout",
          "text": [
            "True\n"
          ]
        }
      ]
    },
    {
      "cell_type": "markdown",
      "source": [
        "## 명시적 타입 변환\n",
        "\n",
        "*   `int(arg)`: 아규먼트로 전달된 값을 정수로 변환해서 리턴하는 함수.\n",
        "    *   문자열 -> 정수\n",
        "    *   실수 -> 정수\n",
        "*   `float(arg)`: 아규먼트를 실수로 변환해서 리턴하는 함수.\n",
        "    *   문자열 -> 실수\n",
        "    *   정수 -> 실수\n",
        "*   `str(arg)`: 아규먼트를 문자열로 변환해서 리턴하는 함수.\n",
        "    *   정수, 실수, ... -> 문자열"
      ],
      "metadata": {
        "id": "4NbskPxL6d1H"
      }
    },
    {
      "cell_type": "code",
      "source": [
        "x = input('숫자를 입력하세요>>> ')\n",
        "print('x =', x)\n",
        "print(type(x))\n",
        "\n",
        "x = int(x)\n",
        "print(type(x))"
      ],
      "metadata": {
        "colab": {
          "base_uri": "https://localhost:8080/"
        },
        "id": "l9devT--7r7W",
        "outputId": "530cf499-edc9-430b-bc87-a21267d82312"
      },
      "execution_count": 29,
      "outputs": [
        {
          "output_type": "stream",
          "name": "stdout",
          "text": [
            "숫자를 입력하세요>>> 1234\n",
            "x = 1234\n",
            "<class 'str'>\n",
            "<class 'int'>\n"
          ]
        }
      ]
    },
    {
      "cell_type": "code",
      "source": [
        "x = float(input('숫자 입력>>> '))\n",
        "print('x =', x)\n",
        "print(type(x))"
      ],
      "metadata": {
        "colab": {
          "base_uri": "https://localhost:8080/"
        },
        "id": "3HtEOcFK8v5O",
        "outputId": "a48f33e6-0c6e-4cd6-88df-1a906cd972ee"
      },
      "execution_count": 16,
      "outputs": [
        {
          "output_type": "stream",
          "name": "stdout",
          "text": [
            "숫자 입력>>> 3.14\n",
            "x = 3.14\n",
            "<class 'float'>\n"
          ]
        }
      ]
    },
    {
      "cell_type": "markdown",
      "source": [
        "# 연산자(Operator)"
      ],
      "metadata": {
        "id": "O4XQs5xd9rRN"
      }
    },
    {
      "cell_type": "markdown",
      "source": [
        "## 할당(assignment) 연산자\n",
        "\n",
        "*   `=`: 연산자 오른쪽의 값을 연산자의 왼쪽의 변수에 할당(저장)."
      ],
      "metadata": {
        "id": "qoZhkbGS9yf9"
      }
    },
    {
      "cell_type": "markdown",
      "source": [
        "## 산술(arithmetic) 연산자\n",
        "\n",
        "*   종류: `+, -, *, /, **, //, %`\n",
        "*   산술 연산자는 일반적으로 숫자 타입(int, float)의 값들에서 사용.\n",
        "*   일부 산술 연산자는 문자열과 같은 타입에서도 사용 가능.\n"
      ],
      "metadata": {
        "id": "-mXzNQvS-IjU"
      }
    },
    {
      "cell_type": "code",
      "source": [
        "x, y = 10, 3\n",
        "print(f'{x} + {y} = {x + y}')\n",
        "print(f'{x} - {y} = {x - y}')\n",
        "print(f'{x} x {y} = {x * y}')\n",
        "print(f'{x} / {y} = {x / y}')\n",
        "print(f'{x}의 {y} 거듭제곱 = {x ** y}')\n",
        "print(f'{x}를 {y}로 나눈 몫 = {x // y} ')\n",
        "print(f'{x}를 {y}로 나눈 나머지 = {x % y}')"
      ],
      "metadata": {
        "colab": {
          "base_uri": "https://localhost:8080/"
        },
        "id": "Qd1ILvJt_cll",
        "outputId": "093049de-fdec-4132-c458-9c718b8644b8"
      },
      "execution_count": 18,
      "outputs": [
        {
          "output_type": "stream",
          "name": "stdout",
          "text": [
            "10 + 3 = 13\n",
            "10 - 3 = 7\n",
            "10 x 3 = 30\n",
            "10 / 3 = 3.3333333333333335\n",
            "10의 3 거듭제곱 = 1000\n",
            "10를 3로 나눈 몫 = 3 \n",
            "10를 3로 나눈 나머지 = 1\n"
          ]
        }
      ]
    },
    {
      "cell_type": "markdown",
      "source": [
        "문자열(str) 타입에서 사용하는 산술 연산자:\n",
        "\n",
        "*   `문자열 + 문자열`: concatenate. 문자열 이어 붙이기.\n",
        "*   `문자열 * 정수`: 문자열을 정수만큼 복사."
      ],
      "metadata": {
        "id": "-MIYllv-BFFb"
      }
    },
    {
      "cell_type": "code",
      "source": [
        "print('Hello' + 'Python')\n",
        "print('Hello' * 3)"
      ],
      "metadata": {
        "colab": {
          "base_uri": "https://localhost:8080/"
        },
        "id": "p-bv4M6cBoL7",
        "outputId": "ed8d346d-33bf-49fc-813c-d0932065fd4b"
      },
      "execution_count": 19,
      "outputs": [
        {
          "output_type": "stream",
          "name": "stdout",
          "text": [
            "HelloPython\n",
            "HelloHelloHello\n"
          ]
        }
      ]
    },
    {
      "cell_type": "markdown",
      "source": [
        "## 비교 연산자, 논리 연산자\n",
        "\n",
        "*   비교 연산자: `==, !=, >, >=, <, <=`\n",
        "*   논리 연산자: `and, or, not`"
      ],
      "metadata": {
        "id": "CJ9HCrdbB_pq"
      }
    },
    {
      "cell_type": "code",
      "source": [
        "x, y = 100, 200\n",
        "print(x == y)  # x is equal to y\n",
        "print(x != y)  # x is not equal to y\n",
        "print(x > y)   # x is greater than y\n",
        "print(x < y)   # x is less than y"
      ],
      "metadata": {
        "colab": {
          "base_uri": "https://localhost:8080/"
        },
        "id": "3fbYrko7C45a",
        "outputId": "a899cc41-f32d-478b-93bf-11bb7fd3b352"
      },
      "execution_count": 20,
      "outputs": [
        {
          "output_type": "stream",
          "name": "stdout",
          "text": [
            "False\n",
            "True\n",
            "False\n",
            "True\n"
          ]
        }
      ]
    },
    {
      "cell_type": "code",
      "source": [
        "print((x > 50) and (x < 150))\n",
        "print((x < 50) or (x > 150))"
      ],
      "metadata": {
        "colab": {
          "base_uri": "https://localhost:8080/"
        },
        "id": "yjZiOtocDUM6",
        "outputId": "71ad0448-435b-4089-e5fb-79a73b4f4f42"
      },
      "execution_count": 22,
      "outputs": [
        {
          "output_type": "stream",
          "name": "stdout",
          "text": [
            "True\n",
            "False\n"
          ]
        }
      ]
    }
  ]
}