{
  "nbformat": 4,
  "nbformat_minor": 0,
  "metadata": {
    "colab": {
      "provenance": [],
      "toc_visible": true,
      "authorship_tag": "ABX9TyO4mIQQnSjs/yHXyYe0mhNG",
      "include_colab_link": true
    },
    "kernelspec": {
      "name": "python3",
      "display_name": "Python 3"
    },
    "language_info": {
      "name": "python"
    }
  },
  "cells": [
    {
      "cell_type": "markdown",
      "metadata": {
        "id": "view-in-github",
        "colab_type": "text"
      },
      "source": [
        "<a href=\"https://colab.research.google.com/github/JakeOh/202505_BD50/blob/main/lab_python/python02_variable.ipynb\" target=\"_parent\"><img src=\"https://colab.research.google.com/assets/colab-badge.svg\" alt=\"Open In Colab\"/></a>"
      ]
    },
    {
      "cell_type": "markdown",
      "source": [
        "# Python Data Type(자료 타입)\n",
        "\n",
        "*   숫자 타입\n",
        "    *   정수(int)\n",
        "    *   실수(float)\n",
        "*   문자열 타입(str)\n",
        "*   논리 타입(bool): True/False\n"
      ],
      "metadata": {
        "id": "EKZyDX22ikRN"
      }
    },
    {
      "cell_type": "markdown",
      "source": [
        "## 숫자 타입"
      ],
      "metadata": {
        "id": "OAlTpEW7joE9"
      }
    },
    {
      "cell_type": "code",
      "execution_count": 1,
      "metadata": {
        "colab": {
          "base_uri": "https://localhost:8080/"
        },
        "id": "wp0C1ikFiJcM",
        "outputId": "8f784d73-e75d-49f7-bcdb-23edb565ce73"
      },
      "outputs": [
        {
          "output_type": "stream",
          "name": "stdout",
          "text": [
            "<class 'int'>\n",
            "n = 123\n"
          ]
        }
      ],
      "source": [
        "# 변수 선언, 값 할당: 변수_이름 = 값\n",
        "n = 123\n",
        "print(type(n))  # type(변수_이름): 변수의 타입을 리턴하는 함수\n",
        "print('n =', n)"
      ]
    },
    {
      "cell_type": "code",
      "source": [
        "n = 3.14  # 변수에 저장된 값을 변경.\n",
        "print(type(n))\n",
        "print('n =', n)"
      ],
      "metadata": {
        "colab": {
          "base_uri": "https://localhost:8080/"
        },
        "id": "CCzIMTVPknS7",
        "outputId": "a804a0d1-597c-4563-d801-881179548492"
      },
      "execution_count": 2,
      "outputs": [
        {
          "output_type": "stream",
          "name": "stdout",
          "text": [
            "<class 'float'>\n",
            "n = 3.14\n"
          ]
        }
      ]
    },
    {
      "cell_type": "markdown",
      "source": [
        "## 문자열 타입\n",
        "\n",
        "파이썬에서 문자열은 작은따옴표('')와 큰따옴표(\"\")를 모두 사용할 수 있음."
      ],
      "metadata": {
        "id": "4zNW9gjUlq86"
      }
    },
    {
      "cell_type": "code",
      "source": [
        "name = \"오쌤\"  # '오쌤'\n",
        "print(f'안녕하세요, {name}!')\n",
        "print(type(name))"
      ],
      "metadata": {
        "colab": {
          "base_uri": "https://localhost:8080/"
        },
        "id": "XgfO2sToluaa",
        "outputId": "e92cb36c-337c-4e6c-87d2-e8764ca9422d"
      },
      "execution_count": 5,
      "outputs": [
        {
          "output_type": "stream",
          "name": "stdout",
          "text": [
            "안녕하세요, 오쌤!\n",
            "<class 'str'>\n"
          ]
        }
      ]
    },
    {
      "cell_type": "markdown",
      "source": [
        "## 논리 타입"
      ],
      "metadata": {
        "id": "sCeGbwkXmk6y"
      }
    },
    {
      "cell_type": "code",
      "source": [
        "b = False  # 파이썬의 키워드, 변수 이름, 함수 이름 등은 대/소문자를 구분.\n",
        "print(type(b))\n",
        "print('b =', b)"
      ],
      "metadata": {
        "colab": {
          "base_uri": "https://localhost:8080/"
        },
        "id": "2oi6OcExmoBy",
        "outputId": "c48f7134-a460-4170-80d9-b2ceb819b49a"
      },
      "execution_count": 9,
      "outputs": [
        {
          "output_type": "stream",
          "name": "stdout",
          "text": [
            "<class 'bool'>\n",
            "b = False\n"
          ]
        }
      ]
    },
    {
      "cell_type": "code",
      "source": [
        "b = 5 > 0\n",
        "print(b)"
      ],
      "metadata": {
        "colab": {
          "base_uri": "https://localhost:8080/"
        },
        "id": "WOZdyLFanKJy",
        "outputId": "0e1734ee-9f9d-4725-bccd-d9e7e5b87d8a"
      },
      "execution_count": 13,
      "outputs": [
        {
          "output_type": "stream",
          "name": "stdout",
          "text": [
            "True\n"
          ]
        }
      ]
    }
  ]
}