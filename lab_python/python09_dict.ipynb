{
  "nbformat": 4,
  "nbformat_minor": 0,
  "metadata": {
    "colab": {
      "provenance": [],
      "toc_visible": true,
      "authorship_tag": "ABX9TyPu4mVmjWepMR5GF38H4bi8",
      "include_colab_link": true
    },
    "kernelspec": {
      "name": "python3",
      "display_name": "Python 3"
    },
    "language_info": {
      "name": "python"
    }
  },
  "cells": [
    {
      "cell_type": "markdown",
      "metadata": {
        "id": "view-in-github",
        "colab_type": "text"
      },
      "source": [
        "<a href=\"https://colab.research.google.com/github/JakeOh/202505_BD50/blob/main/lab_python/python09_dict.ipynb\" target=\"_parent\"><img src=\"https://colab.research.google.com/assets/colab-badge.svg\" alt=\"Open In Colab\"/></a>"
      ]
    },
    {
      "cell_type": "markdown",
      "source": [
        "# dict\n",
        "\n",
        "*   사전(dictionary) 형식의 데이터 타입\n",
        "*   키(key)와 값(value)을 쌍으로 저장하는 데이터 타입\n",
        "    *   list, tuple: 인덱스를 기반으로 값(들)을 저장하는 데이터 타입.\n",
        "    *   dict: 키를 기반으로 값을 저장하는 데이터 타입.\n",
        "    *   dict 타입에서 키의 역할은 list나 tuple에서 인덱스의 역할과 비슷.\n",
        "        *   dict에 저장된 1개의 값을 참조할 때 사용.\n",
        "        *   키는 중복된 값을 허용하지 않음."
      ],
      "metadata": {
        "id": "AQHKIfw3i8ZT"
      }
    },
    {
      "cell_type": "code",
      "execution_count": 1,
      "metadata": {
        "colab": {
          "base_uri": "https://localhost:8080/"
        },
        "id": "iSpB9Jm6i333",
        "outputId": "f97e8ca7-68e2-4342-da25-593086b4b91c"
      },
      "outputs": [
        {
          "output_type": "stream",
          "name": "stdout",
          "text": [
            "<class 'dict'>\n",
            "{100: '홍길동', 101: '오쌤', 200: 'Scott', 300: 'King'}\n"
          ]
        }
      ],
      "source": [
        "students = {100: '홍길동', 101: '오쌤', 200: 'Scott', 300: 'King'}\n",
        "print(type(students))\n",
        "print(students)"
      ]
    },
    {
      "cell_type": "code",
      "source": [
        "students[200]  # dict_var[key] => key에 매핑된 값을 찾음."
      ],
      "metadata": {
        "colab": {
          "base_uri": "https://localhost:8080/",
          "height": 39
        },
        "id": "byhvHHeJkyfB",
        "outputId": "c845c5ca-6244-42ae-9647-e22461daf306"
      },
      "execution_count": 5,
      "outputs": [
        {
          "output_type": "execute_result",
          "data": {
            "text/plain": [
              "'Scott'"
            ],
            "application/vnd.google.colaboratory.intrinsic+json": {
              "type": "string"
            }
          },
          "metadata": {},
          "execution_count": 5
        }
      ]
    },
    {
      "cell_type": "markdown",
      "source": [
        "# dict 함수(메서드)"
      ],
      "metadata": {
        "id": "cPO0USXSlXfH"
      }
    },
    {
      "cell_type": "code",
      "source": [
        "# dict_var.keys(): dict_var가 가지고 있는 키들의 리스트를 리턴.\n",
        "students.keys()"
      ],
      "metadata": {
        "colab": {
          "base_uri": "https://localhost:8080/"
        },
        "id": "q5jBPicclbS2",
        "outputId": "b3cd00d7-e2d3-49b6-f0e1-62a9447cd505"
      },
      "execution_count": 6,
      "outputs": [
        {
          "output_type": "execute_result",
          "data": {
            "text/plain": [
              "dict_keys([100, 101, 200, 300])"
            ]
          },
          "metadata": {},
          "execution_count": 6
        }
      ]
    },
    {
      "cell_type": "code",
      "source": [
        "# dict_var.values(): dict_var가 가지고 있는 값들의 리스트를 리턴.\n",
        "students.values()"
      ],
      "metadata": {
        "colab": {
          "base_uri": "https://localhost:8080/"
        },
        "id": "CaSzf0qkl6tm",
        "outputId": "5e918789-628b-4a78-fc46-78f57440f9dd"
      },
      "execution_count": 7,
      "outputs": [
        {
          "output_type": "execute_result",
          "data": {
            "text/plain": [
              "dict_values(['홍길동', '오쌤', 'Scott', 'King'])"
            ]
          },
          "metadata": {},
          "execution_count": 7
        }
      ]
    },
    {
      "cell_type": "code",
      "source": [
        "# dict_var.items(): (key, value) 튜플들의 리스트를 리턴.\n",
        "students.items()"
      ],
      "metadata": {
        "colab": {
          "base_uri": "https://localhost:8080/"
        },
        "id": "5kxEC1immJFm",
        "outputId": "c94641f6-49a1-4b7a-f3a2-deac8a4eb49b"
      },
      "execution_count": 8,
      "outputs": [
        {
          "output_type": "execute_result",
          "data": {
            "text/plain": [
              "dict_items([(100, '홍길동'), (101, '오쌤'), (200, 'Scott'), (300, 'King')])"
            ]
          },
          "metadata": {},
          "execution_count": 8
        }
      ]
    },
    {
      "cell_type": "code",
      "source": [
        "# dict_var.get(key): key에 매핑된 값(value)를 리턴. dict_var[key]과 동일.\n",
        "students.get(100)"
      ],
      "metadata": {
        "colab": {
          "base_uri": "https://localhost:8080/",
          "height": 39
        },
        "id": "Ho72MvkMmqt2",
        "outputId": "01ecc823-cd5b-42df-a3ab-30d6003b2aa7"
      },
      "execution_count": 9,
      "outputs": [
        {
          "output_type": "execute_result",
          "data": {
            "text/plain": [
              "'홍길동'"
            ],
            "application/vnd.google.colaboratory.intrinsic+json": {
              "type": "string"
            }
          },
          "metadata": {},
          "execution_count": 9
        }
      ]
    },
    {
      "cell_type": "markdown",
      "source": [
        "`dict_var[key] = value`\n",
        "\n",
        "*   key가 dict_var 안에 있을 때, key에 해당하는 값을 새로운 값으로 재할당(변경).\n",
        "*   key가 dict_var 안에 없을 때, 새로운 key-value 아이템을 dict_var에 추가."
      ],
      "metadata": {
        "id": "ozAX4am1nHSG"
      }
    },
    {
      "cell_type": "code",
      "source": [
        "students[300] = 'Allen'\n",
        "students"
      ],
      "metadata": {
        "colab": {
          "base_uri": "https://localhost:8080/"
        },
        "id": "xWz1nUIInjkm",
        "outputId": "467ae189-2a06-4f23-ca5a-76cdd2098169"
      },
      "execution_count": 11,
      "outputs": [
        {
          "output_type": "execute_result",
          "data": {
            "text/plain": [
              "{100: '홍길동', 101: '오쌤', 200: 'Scott', 300: 'Allen'}"
            ]
          },
          "metadata": {},
          "execution_count": 11
        }
      ]
    },
    {
      "cell_type": "code",
      "source": [
        "students[301] = 'Tiger'\n",
        "students"
      ],
      "metadata": {
        "colab": {
          "base_uri": "https://localhost:8080/"
        },
        "id": "cqdCrfCBnund",
        "outputId": "af12d5f6-0f20-4dab-fb11-5f4353996314"
      },
      "execution_count": 12,
      "outputs": [
        {
          "output_type": "execute_result",
          "data": {
            "text/plain": [
              "{100: '홍길동', 101: '오쌤', 200: 'Scott', 300: 'Allen', 301: 'Tiger'}"
            ]
          },
          "metadata": {},
          "execution_count": 12
        }
      ]
    },
    {
      "cell_type": "markdown",
      "source": [
        "# dict와 for 반복문"
      ],
      "metadata": {
        "id": "HirE_chnoFMO"
      }
    },
    {
      "cell_type": "code",
      "source": [
        "# for-in 반복문에서 dict 타입 객체를 사용하면 key들을 순회(iteration).\n",
        "for k in students:\n",
        "    print(k, ':', students[k])"
      ],
      "metadata": {
        "colab": {
          "base_uri": "https://localhost:8080/"
        },
        "id": "ZdHaMNKhoHrW",
        "outputId": "7c3b2b01-a77e-40c9-81dc-77d76ce1ded1"
      },
      "execution_count": 14,
      "outputs": [
        {
          "output_type": "stream",
          "name": "stdout",
          "text": [
            "100 : 홍길동\n",
            "101 : 오쌤\n",
            "200 : Scott\n",
            "300 : Allen\n",
            "301 : Tiger\n"
          ]
        }
      ]
    },
    {
      "cell_type": "code",
      "source": [
        "for k, v in students.items():\n",
        "    print(k, ':', v)"
      ],
      "metadata": {
        "colab": {
          "base_uri": "https://localhost:8080/"
        },
        "id": "M0zvUlRhoyg9",
        "outputId": "df4e5e76-d596-47ac-85cb-61b0332d6cf3"
      },
      "execution_count": 15,
      "outputs": [
        {
          "output_type": "stream",
          "name": "stdout",
          "text": [
            "100 : 홍길동\n",
            "101 : 오쌤\n",
            "200 : Scott\n",
            "300 : Allen\n",
            "301 : Tiger\n"
          ]
        }
      ]
    },
    {
      "cell_type": "code",
      "source": [
        "book = {'title': '파이썬 예제', 'author': '오쌤', 'price': 10_000}\n",
        "print(book)\n",
        "print(book['title'])\n",
        "print(book.get('author'))\n",
        "for k, v in book.items():\n",
        "    print(k, ':', v)"
      ],
      "metadata": {
        "colab": {
          "base_uri": "https://localhost:8080/"
        },
        "id": "tyf4IR38pq79",
        "outputId": "8aefc19a-cd81-418f-80c1-eec75b0ce746"
      },
      "execution_count": 19,
      "outputs": [
        {
          "output_type": "stream",
          "name": "stdout",
          "text": [
            "{'title': '파이썬 예제', 'author': '오쌤', 'price': 10000}\n",
            "파이썬 예제\n",
            "오쌤\n",
            "title : 파이썬 예제\n",
            "author : 오쌤\n",
            "price : 10000\n"
          ]
        }
      ]
    },
    {
      "cell_type": "markdown",
      "source": [
        "dict는 key와  value 모두 다양한 타입의 자료들을 사용할 수 있음."
      ],
      "metadata": {
        "id": "kIqUQ0ZxqvV8"
      }
    },
    {
      "cell_type": "markdown",
      "source": [
        "# 다양한 자료들을 저장하는 dict"
      ],
      "metadata": {
        "id": "z2_V_jHLq-xk"
      }
    },
    {
      "cell_type": "code",
      "source": [
        "contact = {\n",
        "    'id': 1,\n",
        "    'name': '오쌤',\n",
        "    'phones': ['010-1234-5678', '02-1234-5678', '02-0000-0000'],\n",
        "    'emails': {'company': 'jake@itwill.com', 'personal': 'jake@naver.com'}\n",
        "}\n",
        "contact"
      ],
      "metadata": {
        "colab": {
          "base_uri": "https://localhost:8080/"
        },
        "id": "tEsdBYPsrFEk",
        "outputId": "deece189-9f13-4ebe-ca26-e2b96e5ea64d"
      },
      "execution_count": 21,
      "outputs": [
        {
          "output_type": "execute_result",
          "data": {
            "text/plain": [
              "{'id': 1,\n",
              " 'name': '오쌤',\n",
              " 'phones': ['010-1234-5678', '02-1234-5678', '02-0000-0000'],\n",
              " 'emails': {'company': 'jake@itwill.com', 'personal': 'jake@naver.com'}}"
            ]
          },
          "metadata": {},
          "execution_count": 21
        }
      ]
    },
    {
      "cell_type": "code",
      "source": [
        "contact['id']  # contact.get('id')"
      ],
      "metadata": {
        "colab": {
          "base_uri": "https://localhost:8080/"
        },
        "id": "uGogJcTVsCfk",
        "outputId": "8cd647b9-f1ab-4f41-c53e-8e72cb115f88"
      },
      "execution_count": 22,
      "outputs": [
        {
          "output_type": "execute_result",
          "data": {
            "text/plain": [
              "1"
            ]
          },
          "metadata": {},
          "execution_count": 22
        }
      ]
    },
    {
      "cell_type": "code",
      "source": [
        "# 첫번째 전화번호만 출력\n",
        "contact['phones'][0]"
      ],
      "metadata": {
        "colab": {
          "base_uri": "https://localhost:8080/",
          "height": 39
        },
        "id": "I4xc_fcSsO1r",
        "outputId": "0bb1efcb-86bd-4a48-f553-28e000091559"
      },
      "execution_count": 24,
      "outputs": [
        {
          "output_type": "execute_result",
          "data": {
            "text/plain": [
              "'010-1234-5678'"
            ],
            "application/vnd.google.colaboratory.intrinsic+json": {
              "type": "string"
            }
          },
          "metadata": {},
          "execution_count": 24
        }
      ]
    },
    {
      "cell_type": "code",
      "source": [
        "# 회사 이메일만 출력\n",
        "# contact['emails']['company']\n",
        "contact.get('emails').get('company')"
      ],
      "metadata": {
        "colab": {
          "base_uri": "https://localhost:8080/",
          "height": 39
        },
        "id": "qHWlSv1Csiyr",
        "outputId": "b2c7b38e-a5a3-4ae3-99c2-c894fbb76268"
      },
      "execution_count": 28,
      "outputs": [
        {
          "output_type": "execute_result",
          "data": {
            "text/plain": [
              "'jake@itwill.com'"
            ],
            "application/vnd.google.colaboratory.intrinsic+json": {
              "type": "string"
            }
          },
          "metadata": {},
          "execution_count": 28
        }
      ]
    },
    {
      "cell_type": "markdown",
      "source": [
        "# Dictionary Comprehension"
      ],
      "metadata": {
        "id": "WsAa0ksZ-gJV"
      }
    },
    {
      "cell_type": "code",
      "source": [
        "emp_no = [1001, 1002, 1003, 1004]\n",
        "emp_name = ['Scott', 'Allen', 'King', '오쌤']\n",
        "\n",
        "# emp_no의 숫자를 키로 하고, emp_name의 문자열을 값으로 하는 dictionary\n",
        "emp = {}  # 빈 dict\n",
        "for no, name in zip(emp_no, emp_name):\n",
        "    emp[no] = name\n",
        "emp"
      ],
      "metadata": {
        "colab": {
          "base_uri": "https://localhost:8080/"
        },
        "id": "4XyZwryO_EZS",
        "outputId": "38e9a68c-c31f-461e-b1c8-b4956ce5c59b"
      },
      "execution_count": 29,
      "outputs": [
        {
          "output_type": "execute_result",
          "data": {
            "text/plain": [
              "{1001: 'Scott', 1002: 'Allen', 1003: 'King', 1004: '오쌤'}"
            ]
          },
          "metadata": {},
          "execution_count": 29
        }
      ]
    },
    {
      "cell_type": "code",
      "source": [
        "emp2 = {no: name for no, name in zip(emp_no, emp_name)}\n",
        "emp2"
      ],
      "metadata": {
        "colab": {
          "base_uri": "https://localhost:8080/"
        },
        "id": "IAWFhTNBAEnq",
        "outputId": "8450baa1-22d8-4a58-f815-4689343e04d1"
      },
      "execution_count": 30,
      "outputs": [
        {
          "output_type": "execute_result",
          "data": {
            "text/plain": [
              "{1001: 'Scott', 1002: 'Allen', 1003: 'King', 1004: '오쌤'}"
            ]
          },
          "metadata": {},
          "execution_count": 30
        }
      ]
    },
    {
      "cell_type": "code",
      "source": [
        "fruits = ['apple', 'banana', 'cherry', 'pineapple', 'watermellon']\n",
        "\n",
        "# fruit_lengths: fruits의 문자열을 키로 하고, 그 문자열의 길이를 값으로 dict\n",
        "fruit_lengths = {}  # dict()\n",
        "for x in fruits:\n",
        "    fruit_lengths[x] = len(x)\n",
        "\n",
        "fruit_lengths"
      ],
      "metadata": {
        "colab": {
          "base_uri": "https://localhost:8080/"
        },
        "id": "WHWi4bGsApW4",
        "outputId": "36990ef1-6e62-4d25-9928-597db937b65d"
      },
      "execution_count": 34,
      "outputs": [
        {
          "output_type": "execute_result",
          "data": {
            "text/plain": [
              "{'apple': 5, 'banana': 6, 'cherry': 6, 'pineapple': 9, 'watermellon': 11}"
            ]
          },
          "metadata": {},
          "execution_count": 34
        }
      ]
    },
    {
      "cell_type": "code",
      "source": [
        "fruit_lengths2 = {x: len(x) for x in fruits}\n",
        "fruit_lengths2"
      ],
      "metadata": {
        "colab": {
          "base_uri": "https://localhost:8080/"
        },
        "id": "86BV57YoCX43",
        "outputId": "6b2c0e2d-b54a-47ab-ba72-014db3aa35b4"
      },
      "execution_count": 35,
      "outputs": [
        {
          "output_type": "execute_result",
          "data": {
            "text/plain": [
              "{'apple': 5, 'banana': 6, 'cherry': 6, 'pineapple': 9, 'watermellon': 11}"
            ]
          },
          "metadata": {},
          "execution_count": 35
        }
      ]
    },
    {
      "cell_type": "markdown",
      "source": [
        "## Word Counting"
      ],
      "metadata": {
        "id": "oj9tTye_Ctou"
      }
    },
    {
      "cell_type": "code",
      "source": [
        "words = ['one', 'little', 'two', 'little', 'three', 'little', 'indian', 'indian']\n",
        "words"
      ],
      "metadata": {
        "colab": {
          "base_uri": "https://localhost:8080/"
        },
        "id": "T3yd7aujCjxh",
        "outputId": "6d0f0b64-886e-474e-ecc4-54a6134be23b"
      },
      "execution_count": 36,
      "outputs": [
        {
          "output_type": "execute_result",
          "data": {
            "text/plain": [
              "['one', 'little', 'two', 'little', 'three', 'little', 'indian', 'indian']"
            ]
          },
          "metadata": {},
          "execution_count": 36
        }
      ]
    },
    {
      "cell_type": "markdown",
      "source": [
        "리스트 words의 단어를 키로 하고, 그 단어가 리스트에 등장하는 횟수를 값으로 하는 dict를 만들고 출력하세요.\n",
        "\n",
        "`결과: {'one': 1, 'lttle': 3, 'two': 1, 'three': 1, 'indian': 2}`"
      ],
      "metadata": {
        "id": "BOnkOyNNC8v2"
      }
    },
    {
      "cell_type": "code",
      "source": [
        "# word_count = {}\n",
        "# for w in words:\n",
        "#     word_count[w] = words.count(w)\n",
        "word_count = {w: words.count(w) for w in words}\n",
        "\n",
        "print(word_count)"
      ],
      "metadata": {
        "colab": {
          "base_uri": "https://localhost:8080/"
        },
        "id": "7KXshbbJC6PP",
        "outputId": "fcff39ad-3703-42b0-cce5-86fe202e7486"
      },
      "execution_count": 42,
      "outputs": [
        {
          "output_type": "stream",
          "name": "stdout",
          "text": [
            "{'one': 1, 'little': 3, 'two': 1, 'three': 1, 'indian': 2}\n"
          ]
        }
      ]
    },
    {
      "cell_type": "code",
      "source": [
        "word_count2 = {}\n",
        "for w in words:\n",
        "    if w in word_count2: # if w in word_count2.keys():\n",
        "        word_count2[w] += 1\n",
        "    else:\n",
        "        word_count2[w] = 1\n",
        "\n",
        "print(word_count2)"
      ],
      "metadata": {
        "colab": {
          "base_uri": "https://localhost:8080/"
        },
        "id": "kbmO8PMUItqM",
        "outputId": "05816fa2-bed8-4607-90b6-e85da664d0c9"
      },
      "execution_count": 49,
      "outputs": [
        {
          "output_type": "stream",
          "name": "stdout",
          "text": [
            "{'one': 1, 'little': 3, 'two': 1, 'three': 1, 'indian': 2}\n"
          ]
        }
      ]
    }
  ]
}