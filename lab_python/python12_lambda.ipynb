{
  "nbformat": 4,
  "nbformat_minor": 0,
  "metadata": {
    "colab": {
      "provenance": [],
      "toc_visible": true,
      "authorship_tag": "ABX9TyM7nayBV9jY+ja8Sel5Uu+/",
      "include_colab_link": true
    },
    "kernelspec": {
      "name": "python3",
      "display_name": "Python 3"
    },
    "language_info": {
      "name": "python"
    }
  },
  "cells": [
    {
      "cell_type": "markdown",
      "metadata": {
        "id": "view-in-github",
        "colab_type": "text"
      },
      "source": [
        "<a href=\"https://colab.research.google.com/github/JakeOh/202505_BD50/blob/main/lab_python/python12_lambda.ipynb\" target=\"_parent\"><img src=\"https://colab.research.google.com/assets/colab-badge.svg\" alt=\"Open In Colab\"/></a>"
      ]
    },
    {
      "cell_type": "markdown",
      "source": [
        "# 1급 객체(first-class object)로서의 함수"
      ],
      "metadata": {
        "id": "Hnbu1FmXfv7O"
      }
    },
    {
      "cell_type": "markdown",
      "source": [
        "**함수(function)는 객체(object)다**\n",
        "\n",
        "*   객체(object): 숫자, 문자열, 논리값, list, tuple, dict, ...\n",
        "*   객체는 변수에 할당(저장)할 수 있음.\n",
        "*   객체는 함수 아규먼트로 전달할 수 있음.\n",
        "*   객체는 함수가 리턴할 수 있음.\n",
        "*   객체는 함수 내부에서 선언하고 사용할 수 있음.\n"
      ],
      "metadata": {
        "id": "-CYvGoDBf93x"
      }
    },
    {
      "cell_type": "code",
      "execution_count": 1,
      "metadata": {
        "colab": {
          "base_uri": "https://localhost:8080/"
        },
        "id": "khtm9d6EfoJL",
        "outputId": "0409043a-6c44-4139-d0b6-693428768e3f"
      },
      "outputs": [
        {
          "output_type": "stream",
          "name": "stdout",
          "text": [
            "1\n"
          ]
        }
      ],
      "source": [
        "x = 1  # 정수 1을 변수 x에 할당.\n",
        "print(x)  # 정수 객체 x를 print 함수의 아규먼트로 전달."
      ]
    },
    {
      "cell_type": "code",
      "source": [
        "result = len('안녕~')  # 함수 len() 리턴값을 변수 result에 할당.\n",
        "print(result)"
      ],
      "metadata": {
        "colab": {
          "base_uri": "https://localhost:8080/"
        },
        "id": "XBZOByKcivXK",
        "outputId": "7d934e03-530f-4e78-80df-980bcf6c8ea9"
      },
      "execution_count": 2,
      "outputs": [
        {
          "output_type": "stream",
          "name": "stdout",
          "text": [
            "3\n"
          ]
        }
      ]
    },
    {
      "cell_type": "code",
      "source": [
        "def double(x):\n",
        "    return x * 2"
      ],
      "metadata": {
        "id": "7-6apjWdjO5g"
      },
      "execution_count": 3,
      "outputs": []
    },
    {
      "cell_type": "code",
      "source": [
        "print(double(11))  # double() 함수를 호출하고, 그 리턴값을 출력."
      ],
      "metadata": {
        "colab": {
          "base_uri": "https://localhost:8080/"
        },
        "id": "5dXCJE9AjZUq",
        "outputId": "4cb76a4a-04ff-4cba-82ea-a9e57225f6d1"
      },
      "execution_count": 4,
      "outputs": [
        {
          "output_type": "stream",
          "name": "stdout",
          "text": [
            "22\n"
          ]
        }
      ]
    },
    {
      "cell_type": "code",
      "source": [
        "print(double)  # 함수 객체 출력"
      ],
      "metadata": {
        "colab": {
          "base_uri": "https://localhost:8080/"
        },
        "id": "tANpcOEmjyan",
        "outputId": "460ba0ae-062e-47ba-ac9e-aa48e92e8310"
      },
      "execution_count": 5,
      "outputs": [
        {
          "output_type": "stream",
          "name": "stdout",
          "text": [
            "<function double at 0x79e93941fc40>\n"
          ]
        }
      ]
    },
    {
      "cell_type": "markdown",
      "source": [
        "## 함수를 변수에 할당"
      ],
      "metadata": {
        "id": "aMA7e-j5kaKI"
      }
    },
    {
      "cell_type": "code",
      "source": [
        "twice = double  # 함수 객체를 변수 twice에 할당.\n",
        "print(twice)"
      ],
      "metadata": {
        "colab": {
          "base_uri": "https://localhost:8080/"
        },
        "id": "EJUEEdjSkdRw",
        "outputId": "0e777865-3b44-4654-d2d9-7faae77cf3f0"
      },
      "execution_count": 6,
      "outputs": [
        {
          "output_type": "stream",
          "name": "stdout",
          "text": [
            "<function double at 0x79e93941fc40>\n"
          ]
        }
      ]
    },
    {
      "cell_type": "code",
      "source": [
        "twice(12)"
      ],
      "metadata": {
        "colab": {
          "base_uri": "https://localhost:8080/"
        },
        "id": "LovPeExRkrVH",
        "outputId": "efa4bc9d-4d21-4a7a-f8db-a5448cdb4b5e"
      },
      "execution_count": 7,
      "outputs": [
        {
          "output_type": "execute_result",
          "data": {
            "text/plain": [
              "24"
            ]
          },
          "metadata": {},
          "execution_count": 7
        }
      ]
    },
    {
      "cell_type": "code",
      "source": [
        "result = double(2)\n",
        "result"
      ],
      "metadata": {
        "colab": {
          "base_uri": "https://localhost:8080/"
        },
        "id": "b8Iyg-tQk1yv",
        "outputId": "a1cc08e9-6e1c-4b32-a2bd-9eab2091a0dc"
      },
      "execution_count": 10,
      "outputs": [
        {
          "output_type": "execute_result",
          "data": {
            "text/plain": [
              "4"
            ]
          },
          "metadata": {},
          "execution_count": 10
        }
      ]
    },
    {
      "cell_type": "markdown",
      "source": [
        "## 아규먼트로 함수를 전달"
      ],
      "metadata": {
        "id": "BhE4kjRypJ00"
      }
    },
    {
      "cell_type": "code",
      "source": [
        "def calculator(x, y, fn):\n",
        "    result = fn(x, y)\n",
        "    return result"
      ],
      "metadata": {
        "id": "5OAH2fhapPpM"
      },
      "execution_count": 11,
      "outputs": []
    },
    {
      "cell_type": "code",
      "source": [
        "def plus(x, y):\n",
        "    return x + y"
      ],
      "metadata": {
        "id": "-PGqARc9pYTt"
      },
      "execution_count": 12,
      "outputs": []
    },
    {
      "cell_type": "code",
      "source": [
        "calculator(1, 2, plus)"
      ],
      "metadata": {
        "colab": {
          "base_uri": "https://localhost:8080/"
        },
        "id": "uRC51dPYpzvU",
        "outputId": "6522952d-7a84-4356-ae3c-10457ffa925b"
      },
      "execution_count": 13,
      "outputs": [
        {
          "output_type": "execute_result",
          "data": {
            "text/plain": [
              "3"
            ]
          },
          "metadata": {},
          "execution_count": 13
        }
      ]
    },
    {
      "cell_type": "code",
      "source": [
        "def minus(x, y):\n",
        "    return x - y"
      ],
      "metadata": {
        "id": "wDa0gddSqfFb"
      },
      "execution_count": 14,
      "outputs": []
    },
    {
      "cell_type": "code",
      "source": [
        "calculator(1, 2, minus)"
      ],
      "metadata": {
        "colab": {
          "base_uri": "https://localhost:8080/"
        },
        "id": "9hjncwLnqhvL",
        "outputId": "76ce6cff-b38b-4af9-a037-959a1fad2f82"
      },
      "execution_count": 15,
      "outputs": [
        {
          "output_type": "execute_result",
          "data": {
            "text/plain": [
              "-1"
            ]
          },
          "metadata": {},
          "execution_count": 15
        }
      ]
    },
    {
      "cell_type": "code",
      "source": [
        "def is_greater(x, y):\n",
        "    return x > y"
      ],
      "metadata": {
        "id": "JgEgjL6QqmEE"
      },
      "execution_count": 16,
      "outputs": []
    },
    {
      "cell_type": "code",
      "source": [
        "calculator(1, 2, is_greater)"
      ],
      "metadata": {
        "colab": {
          "base_uri": "https://localhost:8080/"
        },
        "id": "hGzf0jfkrVz8",
        "outputId": "07a9ddc8-94b1-4f64-e6c4-c74854179ea1"
      },
      "execution_count": 17,
      "outputs": [
        {
          "output_type": "execute_result",
          "data": {
            "text/plain": [
              "False"
            ]
          },
          "metadata": {},
          "execution_count": 17
        }
      ]
    },
    {
      "cell_type": "markdown",
      "source": [
        "## 내부 함수, 함수를 리턴하는 함수"
      ],
      "metadata": {
        "id": "NHdWOFo-r241"
      }
    },
    {
      "cell_type": "markdown",
      "source": [
        "내부 함수(inner function), 지역 함수(local function):\n",
        "\n",
        "*   함수 내부에서 선언하는 함수.\n",
        "*   선언된 함수 안에서만 호출할 수 있음.\n",
        "*   선언된 함수 바깥에서는 호출할 수 없음.\n",
        "*   외부 함수의 지역 변수들(파라미터 포함)을 사용할 수 있음.\n"
      ],
      "metadata": {
        "id": "FTKUzc9Sr81y"
      }
    },
    {
      "cell_type": "code",
      "source": [
        "def make_incrementor(n):\n",
        "    # 내부 함수 선언.\n",
        "    def add_n(x):\n",
        "        return x + n\n",
        "\n",
        "    # 함수 객체를 리턴.\n",
        "    return add_n"
      ],
      "metadata": {
        "id": "uThNoB4TrZYM"
      },
      "execution_count": 21,
      "outputs": []
    },
    {
      "cell_type": "code",
      "source": [
        "add_n(10)  #> 내부 함수 이름을 단독으로 사용할 수는 없음."
      ],
      "metadata": {
        "colab": {
          "base_uri": "https://localhost:8080/",
          "height": 168
        },
        "id": "JLstTTTHup_S",
        "outputId": "29fcf4da-508d-4f4d-d598-faf79e90029b"
      },
      "execution_count": 23,
      "outputs": [
        {
          "output_type": "error",
          "ename": "NameError",
          "evalue": "name 'add_n' is not defined",
          "traceback": [
            "\u001b[0;31m---------------------------------------------------------------------------\u001b[0m",
            "\u001b[0;31mNameError\u001b[0m                                 Traceback (most recent call last)",
            "\u001b[0;32m<ipython-input-23-1592089709>\u001b[0m in \u001b[0;36m<cell line: 0>\u001b[0;34m()\u001b[0m\n\u001b[0;32m----> 1\u001b[0;31m \u001b[0madd_n\u001b[0m\u001b[0;34m(\u001b[0m\u001b[0;36m10\u001b[0m\u001b[0;34m)\u001b[0m\u001b[0;34m\u001b[0m\u001b[0;34m\u001b[0m\u001b[0m\n\u001b[0m",
            "\u001b[0;31mNameError\u001b[0m: name 'add_n' is not defined"
          ]
        }
      ]
    },
    {
      "cell_type": "code",
      "source": [
        "plus_2 = make_incrementor(2)\n",
        "print(plus_2)\n",
        "plus_2(10)"
      ],
      "metadata": {
        "colab": {
          "base_uri": "https://localhost:8080/"
        },
        "id": "QDcJgd6buXrB",
        "outputId": "5e585612-9bb5-4d3c-9498-4c99e15de61c"
      },
      "execution_count": 24,
      "outputs": [
        {
          "output_type": "stream",
          "name": "stdout",
          "text": [
            "<function make_incrementor.<locals>.add_n at 0x79e9394c7a60>\n"
          ]
        },
        {
          "output_type": "execute_result",
          "data": {
            "text/plain": [
              "12"
            ]
          },
          "metadata": {},
          "execution_count": 24
        }
      ]
    },
    {
      "cell_type": "code",
      "source": [
        "plus_10 = make_incrementor(10)\n",
        "plus_10(10)"
      ],
      "metadata": {
        "colab": {
          "base_uri": "https://localhost:8080/"
        },
        "id": "l2_-uoC6vVBi",
        "outputId": "8c615516-53dd-4ec8-d79c-833f8abbf18d"
      },
      "execution_count": 25,
      "outputs": [
        {
          "output_type": "execute_result",
          "data": {
            "text/plain": [
              "20"
            ]
          },
          "metadata": {},
          "execution_count": 25
        }
      ]
    },
    {
      "cell_type": "code",
      "source": [
        "make_incrementor(3)(123)"
      ],
      "metadata": {
        "colab": {
          "base_uri": "https://localhost:8080/"
        },
        "id": "I66tC3LJvxxR",
        "outputId": "771b06e5-1a3c-4827-8e5c-f246dfcb1915"
      },
      "execution_count": 27,
      "outputs": [
        {
          "output_type": "execute_result",
          "data": {
            "text/plain": [
              "126"
            ]
          },
          "metadata": {},
          "execution_count": 27
        }
      ]
    },
    {
      "cell_type": "markdown",
      "source": [
        "# 람다 표현식(Lambda Expression)\n",
        "\n",
        "*   이름이 없는 함수.\n",
        "*   함수 이름 선언 없이, 파라미터 선언과 반환 값 또는 반환 식으로 함수를 선언하는 것.\n",
        "*   람다 표현식 변수에 할당할 수 있음. **함수의 아규먼트로 람다 표현식을 사용**할 수 있음.\n",
        "*   문법\n",
        "```\n",
        "lambda param1, param2, ...: expression(식)\n",
        "```"
      ],
      "metadata": {
        "id": "KN9YzWPCwY65"
      }
    },
    {
      "cell_type": "code",
      "source": [
        "# 함수 선언\n",
        "# def plus_one(x):\n",
        "#     return x + 1\n",
        "\n",
        "# 람다 표현식\n",
        "plus_one = lambda x: x + 1\n",
        "print(plus_one)\n",
        "plus_one(11)"
      ],
      "metadata": {
        "colab": {
          "base_uri": "https://localhost:8080/"
        },
        "id": "rlDwV3UbxZQw",
        "outputId": "b09bfc40-8215-4901-bac8-ac5227d195a6"
      },
      "execution_count": 29,
      "outputs": [
        {
          "output_type": "stream",
          "name": "stdout",
          "text": [
            "<function <lambda> at 0x79e951940400>\n"
          ]
        },
        {
          "output_type": "execute_result",
          "data": {
            "text/plain": [
              "12"
            ]
          },
          "metadata": {},
          "execution_count": 29
        }
      ]
    },
    {
      "cell_type": "code",
      "source": [
        "calculator(11, 22, lambda x, y: x + y)"
      ],
      "metadata": {
        "colab": {
          "base_uri": "https://localhost:8080/"
        },
        "id": "g55Qi0Ahx5ai",
        "outputId": "550aef71-53af-4efa-da7f-f8fd196e4e33"
      },
      "execution_count": 30,
      "outputs": [
        {
          "output_type": "execute_result",
          "data": {
            "text/plain": [
              "33"
            ]
          },
          "metadata": {},
          "execution_count": 30
        }
      ]
    },
    {
      "cell_type": "code",
      "source": [
        "calculator(1, 2, lambda x, y: x - y)"
      ],
      "metadata": {
        "colab": {
          "base_uri": "https://localhost:8080/"
        },
        "id": "D3fknl6u5YZ7",
        "outputId": "21ec1a4b-9884-40a6-bf10-95fd02c4cde9"
      },
      "execution_count": 32,
      "outputs": [
        {
          "output_type": "execute_result",
          "data": {
            "text/plain": [
              "-1"
            ]
          },
          "metadata": {},
          "execution_count": 32
        }
      ]
    },
    {
      "cell_type": "code",
      "source": [
        "calculator(2, 3, lambda x, y: x * y)"
      ],
      "metadata": {
        "colab": {
          "base_uri": "https://localhost:8080/"
        },
        "id": "J8XfHpmh5cyc",
        "outputId": "4a69195d-c47e-4e26-cb00-4aa7f226a825"
      },
      "execution_count": 33,
      "outputs": [
        {
          "output_type": "execute_result",
          "data": {
            "text/plain": [
              "6"
            ]
          },
          "metadata": {},
          "execution_count": 33
        }
      ]
    },
    {
      "cell_type": "code",
      "source": [
        "calculator(3, 1, lambda x, y: x > y)"
      ],
      "metadata": {
        "colab": {
          "base_uri": "https://localhost:8080/"
        },
        "id": "VA95Cwqj5rhM",
        "outputId": "5f1f8f86-7262-4a53-8054-bc14dacc984f"
      },
      "execution_count": 34,
      "outputs": [
        {
          "output_type": "execute_result",
          "data": {
            "text/plain": [
              "True"
            ]
          },
          "metadata": {},
          "execution_count": 34
        }
      ]
    },
    {
      "cell_type": "markdown",
      "source": [
        "## lambda를 아규먼트로 전달하는 예\n",
        "\n",
        "*   filter: 조건을 만족하는 아이템들을 찾기.\n",
        "    *   `filter(function, iterable)`: iterable의 원소들을 하나씩 순서대로 function의 아규먼트로 전달해서, function이 True를 리턴하는 원소들만 선택.\n",
        "        *   function(x) ==> True/False\n",
        "*   map: 아이템을 일정한 규칙에 따라서 다른 값으로 변환(매핑).\n",
        "    *   `map(function, iterable)`: iterable의 원소들을 하나씩 순서대로 function 아규먼트로 전달해서, function이 리턴하는 값들을 저장.\n",
        "        *   function(x) ==> object\n"
      ],
      "metadata": {
        "id": "AOw6kIe16ShT"
      }
    },
    {
      "cell_type": "code",
      "source": [
        "import random"
      ],
      "metadata": {
        "id": "poQHZy6u9QB6"
      },
      "execution_count": 35,
      "outputs": []
    },
    {
      "cell_type": "code",
      "source": [
        "numbers = [random.randrange(100) for _ in range(10)]\n",
        "numbers"
      ],
      "metadata": {
        "colab": {
          "base_uri": "https://localhost:8080/"
        },
        "id": "tHB1aeRQ9RrE",
        "outputId": "fa1b1f19-dfb9-4b51-c43d-1bbeb896f8e3"
      },
      "execution_count": 37,
      "outputs": [
        {
          "output_type": "execute_result",
          "data": {
            "text/plain": [
              "[46, 69, 12, 46, 68, 69, 28, 80, 31, 36]"
            ]
          },
          "metadata": {},
          "execution_count": 37
        }
      ]
    },
    {
      "cell_type": "code",
      "source": [
        "# 리스트 numbers의 원소들 중에서 홀수들만 필터링.\n",
        "[x for x in numbers if x % 2]"
      ],
      "metadata": {
        "colab": {
          "base_uri": "https://localhost:8080/"
        },
        "id": "PD0gSLdx9cX5",
        "outputId": "1c6de09e-cda4-4e7b-f543-5d123ac969d4"
      },
      "execution_count": 38,
      "outputs": [
        {
          "output_type": "execute_result",
          "data": {
            "text/plain": [
              "[69, 69, 31]"
            ]
          },
          "metadata": {},
          "execution_count": 38
        }
      ]
    },
    {
      "cell_type": "code",
      "source": [
        "result = filter(lambda x: x % 2 == 1, numbers)\n",
        "list(result)  # 필터링된 객체를 리스트(list)로 변환"
      ],
      "metadata": {
        "colab": {
          "base_uri": "https://localhost:8080/"
        },
        "id": "eiAeWuzIRTyn",
        "outputId": "164b8564-3a9b-4d3d-97f5-b8fd45d2e060"
      },
      "execution_count": 39,
      "outputs": [
        {
          "output_type": "execute_result",
          "data": {
            "text/plain": [
              "[69, 69, 31]"
            ]
          },
          "metadata": {},
          "execution_count": 39
        }
      ]
    },
    {
      "cell_type": "code",
      "source": [
        "# numbers의 원소들 중에서 짝수들만 필터링\n",
        "result = filter(lambda x: x % 2 == 0, numbers)\n",
        "list(result)"
      ],
      "metadata": {
        "colab": {
          "base_uri": "https://localhost:8080/"
        },
        "id": "pQ9vHOLoSsAu",
        "outputId": "6af4b634-ae14-4446-9cfc-0a2752a80e82"
      },
      "execution_count": 40,
      "outputs": [
        {
          "output_type": "execute_result",
          "data": {
            "text/plain": [
              "[46, 12, 46, 68, 28, 80, 36]"
            ]
          },
          "metadata": {},
          "execution_count": 40
        }
      ]
    },
    {
      "cell_type": "code",
      "source": [
        "# 리스트 numbers의 원소가 짝수인 경우에는 'even', 홀수인 경우에는 'odd'로 매핑\n",
        "['even' if x % 2 == 0 else 'odd' for x in numbers]"
      ],
      "metadata": {
        "colab": {
          "base_uri": "https://localhost:8080/"
        },
        "id": "vW4gx5ypUUG-",
        "outputId": "84901873-14ee-411a-c479-afcd18e1c5e3"
      },
      "execution_count": 52,
      "outputs": [
        {
          "output_type": "stream",
          "name": "stdout",
          "text": [
            "['even', 'odd', 'even', 'even', 'even', 'odd', 'even', 'even', 'odd', 'even']\n"
          ]
        }
      ]
    },
    {
      "cell_type": "code",
      "source": [
        "result = map(lambda x: 'even' if x % 2 == 0 else 'odd', numbers)\n",
        "list(result)"
      ],
      "metadata": {
        "colab": {
          "base_uri": "https://localhost:8080/"
        },
        "id": "anIDnwmvVC39",
        "outputId": "3b399b3f-3a2a-4010-f849-c042706e9bbe"
      },
      "execution_count": 42,
      "outputs": [
        {
          "output_type": "execute_result",
          "data": {
            "text/plain": [
              "['even', 'odd', 'even', 'even', 'even', 'odd', 'even', 'even', 'odd', 'even']"
            ]
          },
          "metadata": {},
          "execution_count": 42
        }
      ]
    },
    {
      "cell_type": "code",
      "source": [
        "# numbers의 원소가 짝수이면 True, 홀수이면 False로 매핑\n",
        "result = map(lambda x: True if x % 2 == 0 else False, numbers)\n",
        "list(result)"
      ],
      "metadata": {
        "colab": {
          "base_uri": "https://localhost:8080/"
        },
        "id": "QewjwKiAWJ1E",
        "outputId": "fa1407f5-78f2-4cd6-82bd-80ccf042c1f2"
      },
      "execution_count": 43,
      "outputs": [
        {
          "output_type": "execute_result",
          "data": {
            "text/plain": [
              "[True, False, True, True, True, False, True, True, False, True]"
            ]
          },
          "metadata": {},
          "execution_count": 43
        }
      ]
    },
    {
      "cell_type": "markdown",
      "source": [
        "numbers의 원소가 0 ~ 19이면 'teen', 20 ~ 59이면 'adult', 60 이상이면 'senior'로 매핑"
      ],
      "metadata": {
        "id": "uKw4AUbDYJiT"
      }
    },
    {
      "cell_type": "code",
      "source": [
        "age = 19\n",
        "# if age < 20:\n",
        "#     category = 'teen'\n",
        "# elif age < 60:\n",
        "#     category = 'adult'\n",
        "# else:\n",
        "#     category = 'senior'\n",
        "category = 'teen' if age < 20 else ('adult' if age < 60 else 'senior')\n",
        "\n",
        "print(category)"
      ],
      "metadata": {
        "colab": {
          "base_uri": "https://localhost:8080/"
        },
        "id": "l0Mv3UGkW3Lk",
        "outputId": "a7bf4cb9-effc-4bc9-eaea-fa6114edd48b"
      },
      "execution_count": 49,
      "outputs": [
        {
          "output_type": "stream",
          "name": "stdout",
          "text": [
            "teen\n"
          ]
        }
      ]
    },
    {
      "cell_type": "code",
      "source": [
        "print(numbers)\n",
        "result = map(lambda x: 'teen' if x < 20 else ('adult' if x < 60 else 'senior'), numbers)\n",
        "list(result)"
      ],
      "metadata": {
        "colab": {
          "base_uri": "https://localhost:8080/"
        },
        "id": "dnbgIehYZbDj",
        "outputId": "656ea484-048b-4574-b641-7aed05227f0e"
      },
      "execution_count": 51,
      "outputs": [
        {
          "output_type": "stream",
          "name": "stdout",
          "text": [
            "[46, 69, 12, 46, 68, 69, 28, 80, 31, 36]\n"
          ]
        },
        {
          "output_type": "execute_result",
          "data": {
            "text/plain": [
              "['adult',\n",
              " 'senior',\n",
              " 'teen',\n",
              " 'adult',\n",
              " 'senior',\n",
              " 'senior',\n",
              " 'adult',\n",
              " 'senior',\n",
              " 'adult',\n",
              " 'adult']"
            ]
          },
          "metadata": {},
          "execution_count": 51
        }
      ]
    },
    {
      "cell_type": "markdown",
      "source": [
        "## filter 함수 구현"
      ],
      "metadata": {
        "id": "hIbOQX8jeTPY"
      }
    },
    {
      "cell_type": "code",
      "source": [
        "def my_filter(iterable, function):\n",
        "    \"\"\"\n",
        "    iterable의 아이템들 중에서 function의 결과가 True가 되는 아이템들로 이루어진 리스트를 리턴.\n",
        "\n",
        "    @param iterable - list 또는 tuple.\n",
        "    @param function - 아규먼트가 1개이고 리턴값은 True/False인 함수.\n",
        "    @return 리스트(list).\n",
        "    \"\"\"\n",
        "    # result = []  # 필터링한(조건을 만족하는) 아이템들을 저장하기 위한 빈 리스트.\n",
        "    # for x in iterable:  # iterable의 원소들을 순서대로 하나씩 순회하면서\n",
        "    #     if function(x):  # 원소를 function의 아규먼트로 전달했을 때 True를 리턴하면(조건을 만족하면)\n",
        "    #         result.append(x)  # 리스트에 추가\n",
        "    result = [x for x in iterable if function(x)]\n",
        "\n",
        "    return result"
      ],
      "metadata": {
        "id": "HYrxctXueYpo"
      },
      "execution_count": 53,
      "outputs": []
    },
    {
      "cell_type": "code",
      "source": [
        "numbers = [random.randrange(10) for _ in range(10)]\n",
        "print(numbers)\n",
        "evens = my_filter(numbers, lambda x: x % 2 == 0)\n",
        "print(evens)"
      ],
      "metadata": {
        "colab": {
          "base_uri": "https://localhost:8080/"
        },
        "id": "drQE4GyJgWpx",
        "outputId": "b909498d-3c83-44cf-acaa-8fce8e5083c8"
      },
      "execution_count": 55,
      "outputs": [
        {
          "output_type": "stream",
          "name": "stdout",
          "text": [
            "[1, 3, 0, 9, 4, 0, 8, 9, 2, 5]\n",
            "[0, 4, 0, 8, 2]\n"
          ]
        }
      ]
    },
    {
      "cell_type": "code",
      "source": [
        "numbers = [random.randrange(-10, 11) for _ in range(20)]\n",
        "print(numbers)\n",
        "positives = my_filter(numbers, lambda x: x > 0)\n",
        "print(positives)"
      ],
      "metadata": {
        "colab": {
          "base_uri": "https://localhost:8080/"
        },
        "id": "ywllO1XFgzK-",
        "outputId": "83b72d5c-74f3-4daf-806c-01a783ffc7e7"
      },
      "execution_count": 56,
      "outputs": [
        {
          "output_type": "stream",
          "name": "stdout",
          "text": [
            "[-8, 8, 1, -10, 7, 10, -1, -5, 0, -9, 6, -1, -3, 1, 7, -1, 8, -4, 3, -6]\n",
            "[8, 1, 7, 10, 6, 1, 7, 8, 3]\n"
          ]
        }
      ]
    },
    {
      "cell_type": "code",
      "source": [
        "languages = ['Python', 'SQL', 'Java', 'JavaScript', 'R']\n",
        "\n",
        "# languages의 문자열들 중에서 길이가 5 이상인 문자열들을 필터링\n",
        "result = my_filter(languages, lambda x: len(x) >= 5)\n",
        "print(result)"
      ],
      "metadata": {
        "colab": {
          "base_uri": "https://localhost:8080/"
        },
        "id": "_hw797yfi1VF",
        "outputId": "04a8c3c4-4280-46ca-a68e-58559804fd0b"
      },
      "execution_count": 57,
      "outputs": [
        {
          "output_type": "stream",
          "name": "stdout",
          "text": [
            "['Python', 'JavaScript']\n"
          ]
        }
      ]
    },
    {
      "cell_type": "markdown",
      "source": [
        "## map 함수 구현"
      ],
      "metadata": {
        "id": "pp3h32uLkEeM"
      }
    },
    {
      "cell_type": "code",
      "source": [
        "def my_map(iterable, function):\n",
        "    \"\"\"\n",
        "    iterable의 원소를 함수 function의 아규먼트로 전달했을 때 그 리턴값들을 저장한 리스트를 리턴.\n",
        "\n",
        "    @param iterable - list 또는 tuple.\n",
        "    @param function - 아규먼트가 1개이고, 리턴값이 있는 함수.\n",
        "    @return list.\n",
        "    \"\"\"\n",
        "    # result = []\n",
        "    # for x in iterable:\n",
        "    #     result.append(function(x))\n",
        "    result = [function(x) for x in iterable]\n",
        "\n",
        "    return result"
      ],
      "metadata": {
        "id": "SJLXLqpMj0kv"
      },
      "execution_count": 58,
      "outputs": []
    },
    {
      "cell_type": "code",
      "source": [
        "numbers = [random.randrange(10) for _ in range(10)]\n",
        "print(numbers)\n",
        "result = my_map(numbers, lambda x: '짝수' if x % 2 == 0 else '홀수')\n",
        "print(result)"
      ],
      "metadata": {
        "colab": {
          "base_uri": "https://localhost:8080/"
        },
        "id": "DqNsoV59oPV7",
        "outputId": "1d3bc96c-5601-476a-f85b-3570c6d1ed25"
      },
      "execution_count": 59,
      "outputs": [
        {
          "output_type": "stream",
          "name": "stdout",
          "text": [
            "[3, 7, 6, 3, 9, 4, 1, 2, 3, 7]\n",
            "['홀수', '홀수', '짝수', '홀수', '홀수', '짝수', '홀수', '짝수', '홀수', '홀수']\n"
          ]
        }
      ]
    },
    {
      "cell_type": "code",
      "source": [
        "numbers = [random.randrange(10) for _ in range(10)]\n",
        "print(numbers)\n",
        "result = my_map(numbers, lambda x: x ** 2)\n",
        "print(result)"
      ],
      "metadata": {
        "colab": {
          "base_uri": "https://localhost:8080/"
        },
        "id": "efsjRW75pPRi",
        "outputId": "35f92be4-229b-4488-ba18-33c81204e706"
      },
      "execution_count": 61,
      "outputs": [
        {
          "output_type": "stream",
          "name": "stdout",
          "text": [
            "[0, 4, 5, 8, 2, 7, 0, 8, 7, 8]\n",
            "[0, 16, 25, 64, 4, 49, 0, 64, 49, 64]\n"
          ]
        }
      ]
    },
    {
      "cell_type": "code",
      "source": [
        "languages = ['Python', 'SQL', 'Java', 'JavaScript', 'R']\n",
        "\n",
        "# languages의 문자열을 그 문자열의 길이로 매핑\n",
        "my_map(languages, lambda x: len(x))"
      ],
      "metadata": {
        "colab": {
          "base_uri": "https://localhost:8080/"
        },
        "id": "h0bIvVVApgfL",
        "outputId": "8bcc42f8-99b4-44cc-d0c3-26f67f81a0c3"
      },
      "execution_count": 62,
      "outputs": [
        {
          "output_type": "execute_result",
          "data": {
            "text/plain": [
              "[6, 3, 4, 10, 1]"
            ]
          },
          "metadata": {},
          "execution_count": 62
        }
      ]
    }
  ]
}