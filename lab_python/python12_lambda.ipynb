{
  "nbformat": 4,
  "nbformat_minor": 0,
  "metadata": {
    "colab": {
      "provenance": [],
      "toc_visible": true,
      "authorship_tag": "ABX9TyNUZYSDju/KGsWh/SlinOqi",
      "include_colab_link": true
    },
    "kernelspec": {
      "name": "python3",
      "display_name": "Python 3"
    },
    "language_info": {
      "name": "python"
    }
  },
  "cells": [
    {
      "cell_type": "markdown",
      "metadata": {
        "id": "view-in-github",
        "colab_type": "text"
      },
      "source": [
        "<a href=\"https://colab.research.google.com/github/JakeOh/202505_BD50/blob/main/lab_python/python12_lambda.ipynb\" target=\"_parent\"><img src=\"https://colab.research.google.com/assets/colab-badge.svg\" alt=\"Open In Colab\"/></a>"
      ]
    },
    {
      "cell_type": "markdown",
      "source": [
        "# 1급 객체(first-class object)로서의 함수"
      ],
      "metadata": {
        "id": "Hnbu1FmXfv7O"
      }
    },
    {
      "cell_type": "markdown",
      "source": [
        "**함수(function)는 객체(object)다**\n",
        "\n",
        "*   객체(object): 숫자, 문자열, 논리값, list, tuple, dict, ...\n",
        "*   객체는 변수에 할당(저장)할 수 있음.\n",
        "*   객체는 함수 아규먼트로 전달할 수 있음.\n",
        "*   객체는 함수가 리턴할 수 있음.\n",
        "*   객체는 함수 내부에서 선언하고 사용할 수 있음.\n"
      ],
      "metadata": {
        "id": "-CYvGoDBf93x"
      }
    },
    {
      "cell_type": "code",
      "execution_count": 1,
      "metadata": {
        "colab": {
          "base_uri": "https://localhost:8080/"
        },
        "id": "khtm9d6EfoJL",
        "outputId": "0409043a-6c44-4139-d0b6-693428768e3f"
      },
      "outputs": [
        {
          "output_type": "stream",
          "name": "stdout",
          "text": [
            "1\n"
          ]
        }
      ],
      "source": [
        "x = 1  # 정수 1을 변수 x에 할당.\n",
        "print(x)  # 정수 객체 x를 print 함수의 아규먼트로 전달."
      ]
    },
    {
      "cell_type": "code",
      "source": [
        "result = len('안녕~')  # 함수 len() 리턴값을 변수 result에 할당.\n",
        "print(result)"
      ],
      "metadata": {
        "colab": {
          "base_uri": "https://localhost:8080/"
        },
        "id": "XBZOByKcivXK",
        "outputId": "7d934e03-530f-4e78-80df-980bcf6c8ea9"
      },
      "execution_count": 2,
      "outputs": [
        {
          "output_type": "stream",
          "name": "stdout",
          "text": [
            "3\n"
          ]
        }
      ]
    },
    {
      "cell_type": "code",
      "source": [
        "def double(x):\n",
        "    return x * 2"
      ],
      "metadata": {
        "id": "7-6apjWdjO5g"
      },
      "execution_count": 3,
      "outputs": []
    },
    {
      "cell_type": "code",
      "source": [
        "print(double(11))  # double() 함수를 호출하고, 그 리턴값을 출력."
      ],
      "metadata": {
        "colab": {
          "base_uri": "https://localhost:8080/"
        },
        "id": "5dXCJE9AjZUq",
        "outputId": "4cb76a4a-04ff-4cba-82ea-a9e57225f6d1"
      },
      "execution_count": 4,
      "outputs": [
        {
          "output_type": "stream",
          "name": "stdout",
          "text": [
            "22\n"
          ]
        }
      ]
    },
    {
      "cell_type": "code",
      "source": [
        "print(double)  # 함수 객체 출력"
      ],
      "metadata": {
        "colab": {
          "base_uri": "https://localhost:8080/"
        },
        "id": "tANpcOEmjyan",
        "outputId": "460ba0ae-062e-47ba-ac9e-aa48e92e8310"
      },
      "execution_count": 5,
      "outputs": [
        {
          "output_type": "stream",
          "name": "stdout",
          "text": [
            "<function double at 0x79e93941fc40>\n"
          ]
        }
      ]
    },
    {
      "cell_type": "markdown",
      "source": [
        "## 함수를 변수에 할당"
      ],
      "metadata": {
        "id": "aMA7e-j5kaKI"
      }
    },
    {
      "cell_type": "code",
      "source": [
        "twice = double  # 함수 객체를 변수 twice에 할당.\n",
        "print(twice)"
      ],
      "metadata": {
        "colab": {
          "base_uri": "https://localhost:8080/"
        },
        "id": "EJUEEdjSkdRw",
        "outputId": "0e777865-3b44-4654-d2d9-7faae77cf3f0"
      },
      "execution_count": 6,
      "outputs": [
        {
          "output_type": "stream",
          "name": "stdout",
          "text": [
            "<function double at 0x79e93941fc40>\n"
          ]
        }
      ]
    },
    {
      "cell_type": "code",
      "source": [
        "twice(12)"
      ],
      "metadata": {
        "colab": {
          "base_uri": "https://localhost:8080/"
        },
        "id": "LovPeExRkrVH",
        "outputId": "efa4bc9d-4d21-4a7a-f8db-a5448cdb4b5e"
      },
      "execution_count": 7,
      "outputs": [
        {
          "output_type": "execute_result",
          "data": {
            "text/plain": [
              "24"
            ]
          },
          "metadata": {},
          "execution_count": 7
        }
      ]
    },
    {
      "cell_type": "code",
      "source": [],
      "metadata": {
        "id": "b8Iyg-tQk1yv"
      },
      "execution_count": null,
      "outputs": []
    }
  ]
}