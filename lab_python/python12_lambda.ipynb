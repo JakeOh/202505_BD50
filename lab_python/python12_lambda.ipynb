{
  "nbformat": 4,
  "nbformat_minor": 0,
  "metadata": {
    "colab": {
      "provenance": [],
      "toc_visible": true,
      "authorship_tag": "ABX9TyOxXmn4LAojUAeeO4NW2tU0",
      "include_colab_link": true
    },
    "kernelspec": {
      "name": "python3",
      "display_name": "Python 3"
    },
    "language_info": {
      "name": "python"
    }
  },
  "cells": [
    {
      "cell_type": "markdown",
      "metadata": {
        "id": "view-in-github",
        "colab_type": "text"
      },
      "source": [
        "<a href=\"https://colab.research.google.com/github/JakeOh/202505_BD50/blob/main/lab_python/python12_lambda.ipynb\" target=\"_parent\"><img src=\"https://colab.research.google.com/assets/colab-badge.svg\" alt=\"Open In Colab\"/></a>"
      ]
    },
    {
      "cell_type": "markdown",
      "source": [
        "# 1급 객체(first-class object)로서의 함수"
      ],
      "metadata": {
        "id": "Hnbu1FmXfv7O"
      }
    },
    {
      "cell_type": "markdown",
      "source": [
        "**함수(function)는 객체(object)다**\n",
        "\n",
        "*   객체(object): 숫자, 문자열, 논리값, list, tuple, dict, ...\n",
        "*   객체는 변수에 할당(저장)할 수 있음.\n",
        "*   객체는 함수 아규먼트로 전달할 수 있음.\n",
        "*   객체는 함수가 리턴할 수 있음.\n",
        "*   객체는 함수 내부에서 선언하고 사용할 수 있음.\n"
      ],
      "metadata": {
        "id": "-CYvGoDBf93x"
      }
    },
    {
      "cell_type": "code",
      "execution_count": 1,
      "metadata": {
        "colab": {
          "base_uri": "https://localhost:8080/"
        },
        "id": "khtm9d6EfoJL",
        "outputId": "0409043a-6c44-4139-d0b6-693428768e3f"
      },
      "outputs": [
        {
          "output_type": "stream",
          "name": "stdout",
          "text": [
            "1\n"
          ]
        }
      ],
      "source": [
        "x = 1  # 정수 1을 변수 x에 할당.\n",
        "print(x)  # 정수 객체 x를 print 함수의 아규먼트로 전달."
      ]
    },
    {
      "cell_type": "code",
      "source": [
        "result = len('안녕~')  # 함수 len() 리턴값을 변수 result에 할당.\n",
        "print(result)"
      ],
      "metadata": {
        "colab": {
          "base_uri": "https://localhost:8080/"
        },
        "id": "XBZOByKcivXK",
        "outputId": "7d934e03-530f-4e78-80df-980bcf6c8ea9"
      },
      "execution_count": 2,
      "outputs": [
        {
          "output_type": "stream",
          "name": "stdout",
          "text": [
            "3\n"
          ]
        }
      ]
    },
    {
      "cell_type": "code",
      "source": [
        "def double(x):\n",
        "    return x * 2"
      ],
      "metadata": {
        "id": "7-6apjWdjO5g"
      },
      "execution_count": 3,
      "outputs": []
    },
    {
      "cell_type": "code",
      "source": [
        "print(double(11))  # double() 함수를 호출하고, 그 리턴값을 출력."
      ],
      "metadata": {
        "colab": {
          "base_uri": "https://localhost:8080/"
        },
        "id": "5dXCJE9AjZUq",
        "outputId": "4cb76a4a-04ff-4cba-82ea-a9e57225f6d1"
      },
      "execution_count": 4,
      "outputs": [
        {
          "output_type": "stream",
          "name": "stdout",
          "text": [
            "22\n"
          ]
        }
      ]
    },
    {
      "cell_type": "code",
      "source": [
        "print(double)  # 함수 객체 출력"
      ],
      "metadata": {
        "colab": {
          "base_uri": "https://localhost:8080/"
        },
        "id": "tANpcOEmjyan",
        "outputId": "460ba0ae-062e-47ba-ac9e-aa48e92e8310"
      },
      "execution_count": 5,
      "outputs": [
        {
          "output_type": "stream",
          "name": "stdout",
          "text": [
            "<function double at 0x79e93941fc40>\n"
          ]
        }
      ]
    },
    {
      "cell_type": "markdown",
      "source": [
        "## 함수를 변수에 할당"
      ],
      "metadata": {
        "id": "aMA7e-j5kaKI"
      }
    },
    {
      "cell_type": "code",
      "source": [
        "twice = double  # 함수 객체를 변수 twice에 할당.\n",
        "print(twice)"
      ],
      "metadata": {
        "colab": {
          "base_uri": "https://localhost:8080/"
        },
        "id": "EJUEEdjSkdRw",
        "outputId": "0e777865-3b44-4654-d2d9-7faae77cf3f0"
      },
      "execution_count": 6,
      "outputs": [
        {
          "output_type": "stream",
          "name": "stdout",
          "text": [
            "<function double at 0x79e93941fc40>\n"
          ]
        }
      ]
    },
    {
      "cell_type": "code",
      "source": [
        "twice(12)"
      ],
      "metadata": {
        "colab": {
          "base_uri": "https://localhost:8080/"
        },
        "id": "LovPeExRkrVH",
        "outputId": "efa4bc9d-4d21-4a7a-f8db-a5448cdb4b5e"
      },
      "execution_count": 7,
      "outputs": [
        {
          "output_type": "execute_result",
          "data": {
            "text/plain": [
              "24"
            ]
          },
          "metadata": {},
          "execution_count": 7
        }
      ]
    },
    {
      "cell_type": "code",
      "source": [
        "result = double(2)\n",
        "result"
      ],
      "metadata": {
        "colab": {
          "base_uri": "https://localhost:8080/"
        },
        "id": "b8Iyg-tQk1yv",
        "outputId": "a1cc08e9-6e1c-4b32-a2bd-9eab2091a0dc"
      },
      "execution_count": 10,
      "outputs": [
        {
          "output_type": "execute_result",
          "data": {
            "text/plain": [
              "4"
            ]
          },
          "metadata": {},
          "execution_count": 10
        }
      ]
    },
    {
      "cell_type": "markdown",
      "source": [
        "## 아규먼트로 함수를 전달"
      ],
      "metadata": {
        "id": "BhE4kjRypJ00"
      }
    },
    {
      "cell_type": "code",
      "source": [
        "def calculator(x, y, fn):\n",
        "    result = fn(x, y)\n",
        "    return result"
      ],
      "metadata": {
        "id": "5OAH2fhapPpM"
      },
      "execution_count": 11,
      "outputs": []
    },
    {
      "cell_type": "code",
      "source": [
        "def plus(x, y):\n",
        "    return x + y"
      ],
      "metadata": {
        "id": "-PGqARc9pYTt"
      },
      "execution_count": 12,
      "outputs": []
    },
    {
      "cell_type": "code",
      "source": [
        "calculator(1, 2, plus)"
      ],
      "metadata": {
        "colab": {
          "base_uri": "https://localhost:8080/"
        },
        "id": "uRC51dPYpzvU",
        "outputId": "6522952d-7a84-4356-ae3c-10457ffa925b"
      },
      "execution_count": 13,
      "outputs": [
        {
          "output_type": "execute_result",
          "data": {
            "text/plain": [
              "3"
            ]
          },
          "metadata": {},
          "execution_count": 13
        }
      ]
    },
    {
      "cell_type": "code",
      "source": [
        "def minus(x, y):\n",
        "    return x - y"
      ],
      "metadata": {
        "id": "wDa0gddSqfFb"
      },
      "execution_count": 14,
      "outputs": []
    },
    {
      "cell_type": "code",
      "source": [
        "calculator(1, 2, minus)"
      ],
      "metadata": {
        "colab": {
          "base_uri": "https://localhost:8080/"
        },
        "id": "9hjncwLnqhvL",
        "outputId": "76ce6cff-b38b-4af9-a037-959a1fad2f82"
      },
      "execution_count": 15,
      "outputs": [
        {
          "output_type": "execute_result",
          "data": {
            "text/plain": [
              "-1"
            ]
          },
          "metadata": {},
          "execution_count": 15
        }
      ]
    },
    {
      "cell_type": "code",
      "source": [
        "def is_greater(x, y):\n",
        "    return x > y"
      ],
      "metadata": {
        "id": "JgEgjL6QqmEE"
      },
      "execution_count": 16,
      "outputs": []
    },
    {
      "cell_type": "code",
      "source": [
        "calculator(1, 2, is_greater)"
      ],
      "metadata": {
        "colab": {
          "base_uri": "https://localhost:8080/"
        },
        "id": "hGzf0jfkrVz8",
        "outputId": "07a9ddc8-94b1-4f64-e6c4-c74854179ea1"
      },
      "execution_count": 17,
      "outputs": [
        {
          "output_type": "execute_result",
          "data": {
            "text/plain": [
              "False"
            ]
          },
          "metadata": {},
          "execution_count": 17
        }
      ]
    },
    {
      "cell_type": "markdown",
      "source": [
        "## 내부 함수, 함수를 리턴하는 함수"
      ],
      "metadata": {
        "id": "NHdWOFo-r241"
      }
    },
    {
      "cell_type": "markdown",
      "source": [
        "내부 함수(inner function), 지역 함수(local function):\n",
        "\n",
        "*   함수 내부에서 선언하는 함수.\n",
        "*   선언된 함수 안에서만 호출할 수 있음.\n",
        "*   선언된 함수 바깥에서는 호출할 수 없음.\n",
        "*   외부 함수의 지역 변수들(파라미터 포함)을 사용할 수 있음.\n"
      ],
      "metadata": {
        "id": "FTKUzc9Sr81y"
      }
    },
    {
      "cell_type": "code",
      "source": [
        "def make_incrementor(n):\n",
        "    # 내부 함수 선언.\n",
        "    def add_n(x):\n",
        "        return x + n\n",
        "\n",
        "    # 함수 객체를 리턴.\n",
        "    return add_n"
      ],
      "metadata": {
        "id": "uThNoB4TrZYM"
      },
      "execution_count": 21,
      "outputs": []
    },
    {
      "cell_type": "code",
      "source": [
        "add_n(10)  #> 내부 함수 이름을 단독으로 사용할 수는 없음."
      ],
      "metadata": {
        "colab": {
          "base_uri": "https://localhost:8080/",
          "height": 168
        },
        "id": "JLstTTTHup_S",
        "outputId": "29fcf4da-508d-4f4d-d598-faf79e90029b"
      },
      "execution_count": 23,
      "outputs": [
        {
          "output_type": "error",
          "ename": "NameError",
          "evalue": "name 'add_n' is not defined",
          "traceback": [
            "\u001b[0;31m---------------------------------------------------------------------------\u001b[0m",
            "\u001b[0;31mNameError\u001b[0m                                 Traceback (most recent call last)",
            "\u001b[0;32m<ipython-input-23-1592089709>\u001b[0m in \u001b[0;36m<cell line: 0>\u001b[0;34m()\u001b[0m\n\u001b[0;32m----> 1\u001b[0;31m \u001b[0madd_n\u001b[0m\u001b[0;34m(\u001b[0m\u001b[0;36m10\u001b[0m\u001b[0;34m)\u001b[0m\u001b[0;34m\u001b[0m\u001b[0;34m\u001b[0m\u001b[0m\n\u001b[0m",
            "\u001b[0;31mNameError\u001b[0m: name 'add_n' is not defined"
          ]
        }
      ]
    },
    {
      "cell_type": "code",
      "source": [
        "plus_2 = make_incrementor(2)\n",
        "print(plus_2)\n",
        "plus_2(10)"
      ],
      "metadata": {
        "colab": {
          "base_uri": "https://localhost:8080/"
        },
        "id": "QDcJgd6buXrB",
        "outputId": "5e585612-9bb5-4d3c-9498-4c99e15de61c"
      },
      "execution_count": 24,
      "outputs": [
        {
          "output_type": "stream",
          "name": "stdout",
          "text": [
            "<function make_incrementor.<locals>.add_n at 0x79e9394c7a60>\n"
          ]
        },
        {
          "output_type": "execute_result",
          "data": {
            "text/plain": [
              "12"
            ]
          },
          "metadata": {},
          "execution_count": 24
        }
      ]
    },
    {
      "cell_type": "code",
      "source": [
        "plus_10 = make_incrementor(10)\n",
        "plus_10(10)"
      ],
      "metadata": {
        "colab": {
          "base_uri": "https://localhost:8080/"
        },
        "id": "l2_-uoC6vVBi",
        "outputId": "8c615516-53dd-4ec8-d79c-833f8abbf18d"
      },
      "execution_count": 25,
      "outputs": [
        {
          "output_type": "execute_result",
          "data": {
            "text/plain": [
              "20"
            ]
          },
          "metadata": {},
          "execution_count": 25
        }
      ]
    },
    {
      "cell_type": "code",
      "source": [
        "make_incrementor(3)(123)"
      ],
      "metadata": {
        "colab": {
          "base_uri": "https://localhost:8080/"
        },
        "id": "I66tC3LJvxxR",
        "outputId": "771b06e5-1a3c-4827-8e5c-f246dfcb1915"
      },
      "execution_count": 27,
      "outputs": [
        {
          "output_type": "execute_result",
          "data": {
            "text/plain": [
              "126"
            ]
          },
          "metadata": {},
          "execution_count": 27
        }
      ]
    },
    {
      "cell_type": "markdown",
      "source": [
        "# 람다 표현식(Lambda Expression)\n",
        "\n",
        "*   이름이 없는 함수.\n",
        "*   함수 이름 선언 없이, 파라미터 선언과 반환 값 또는 반환 식으로 함수를 선언하는 것.\n",
        "*   람다 표현식 변수에 할당할 수 있음. **함수의 아규먼트로 람다 표현식을 사용**할 수 있음.\n",
        "*   문법\n",
        "```\n",
        "lambda param1, param2, ...: expression(식)\n",
        "```"
      ],
      "metadata": {
        "id": "KN9YzWPCwY65"
      }
    },
    {
      "cell_type": "code",
      "source": [
        "# 함수 선언\n",
        "# def plus_one(x):\n",
        "#     return x + 1\n",
        "\n",
        "# 람다 표현식\n",
        "plus_one = lambda x: x + 1\n",
        "print(plus_one)\n",
        "plus_one(11)"
      ],
      "metadata": {
        "colab": {
          "base_uri": "https://localhost:8080/"
        },
        "id": "rlDwV3UbxZQw",
        "outputId": "b09bfc40-8215-4901-bac8-ac5227d195a6"
      },
      "execution_count": 29,
      "outputs": [
        {
          "output_type": "stream",
          "name": "stdout",
          "text": [
            "<function <lambda> at 0x79e951940400>\n"
          ]
        },
        {
          "output_type": "execute_result",
          "data": {
            "text/plain": [
              "12"
            ]
          },
          "metadata": {},
          "execution_count": 29
        }
      ]
    },
    {
      "cell_type": "code",
      "source": [],
      "metadata": {
        "id": "g55Qi0Ahx5ai"
      },
      "execution_count": null,
      "outputs": []
    }
  ]
}