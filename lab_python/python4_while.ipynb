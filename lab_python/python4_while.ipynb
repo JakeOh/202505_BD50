{
  "nbformat": 4,
  "nbformat_minor": 0,
  "metadata": {
    "colab": {
      "provenance": [],
      "toc_visible": true,
      "authorship_tag": "ABX9TyPrVHJRSngEtfUngy5IqoxF",
      "include_colab_link": true
    },
    "kernelspec": {
      "name": "python3",
      "display_name": "Python 3"
    },
    "language_info": {
      "name": "python"
    }
  },
  "cells": [
    {
      "cell_type": "markdown",
      "metadata": {
        "id": "view-in-github",
        "colab_type": "text"
      },
      "source": [
        "<a href=\"https://colab.research.google.com/github/JakeOh/202505_BD50/blob/main/lab_python/python4_while.ipynb\" target=\"_parent\"><img src=\"https://colab.research.google.com/assets/colab-badge.svg\" alt=\"Open In Colab\"/></a>"
      ]
    },
    {
      "cell_type": "markdown",
      "source": [
        "# while 반복문(loop)"
      ],
      "metadata": {
        "id": "P7taqLxtrAAb"
      }
    },
    {
      "cell_type": "markdown",
      "source": [
        "```\n",
        "[초기화 문장]\n",
        "while 조건식:\n",
        "    조건식을 만족하는 동안에 반복할 코드 블록\n",
        "    [조건을 변경할 수 있는 문장]\n",
        "```\n",
        "\n",
        "*   조건식을 만족하는 동안에 블록 내부를 실행.\n",
        "*   조건식을 만족하지 못하면(조건식이 False가 되면) 반복을 멈춤.\n",
        "*   `while 조건식` 다음에는 반드시 콜론(:)을 사용해야 함.\n",
        "*   블록 안에서 들여쓰기는 일정한 크기로 작성."
      ],
      "metadata": {
        "id": "EAHQDCOXrFCB"
      }
    },
    {
      "cell_type": "code",
      "execution_count": 1,
      "metadata": {
        "colab": {
          "base_uri": "https://localhost:8080/"
        },
        "id": "U0-BcK5Mq4s6",
        "outputId": "6446f9ec-ca6a-4373-a59b-c347c4e8ce27"
      },
      "outputs": [
        {
          "output_type": "stream",
          "name": "stdout",
          "text": [
            "1\n",
            "2\n",
            "3\n",
            "4\n",
            "5\n"
          ]
        }
      ],
      "source": [
        "# 1 ~ 5까지 순서대로 출력\n",
        "n = 1\n",
        "while n <= 5:  # 변수 n의 값이 5보다 작거나 같으면 반복\n",
        "    print(n)\n",
        "    n += 1"
      ]
    },
    {
      "cell_type": "code",
      "source": [
        "# 5 ~ 1까지 내림차순으로 출력\n",
        "n = 5\n",
        "while n > 0:\n",
        "    print(n)\n",
        "    n -= 1"
      ],
      "metadata": {
        "colab": {
          "base_uri": "https://localhost:8080/"
        },
        "id": "zcZNK7edszyR",
        "outputId": "702c6f8e-f7e7-4c00-b1ce-427db08f0b62"
      },
      "execution_count": 2,
      "outputs": [
        {
          "output_type": "stream",
          "name": "stdout",
          "text": [
            "5\n",
            "4\n",
            "3\n",
            "2\n",
            "1\n"
          ]
        }
      ]
    },
    {
      "cell_type": "code",
      "source": [
        "# 2 4 6 8 10 출력\n",
        "n = 2\n",
        "while n <= 10:\n",
        "    print(n)\n",
        "    n += 2"
      ],
      "metadata": {
        "colab": {
          "base_uri": "https://localhost:8080/"
        },
        "id": "KlluHDiHtTNy",
        "outputId": "cd611d5e-3e47-4fc3-c7a7-c5efb70373f2"
      },
      "execution_count": 3,
      "outputs": [
        {
          "output_type": "stream",
          "name": "stdout",
          "text": [
            "2\n",
            "4\n",
            "6\n",
            "8\n",
            "10\n"
          ]
        }
      ]
    },
    {
      "cell_type": "code",
      "source": [
        "n = 2\n",
        "while n <= 10:  # n이 10 이하이면 반복\n",
        "    if n % 2 == 0:  # n이 짝수이면\n",
        "        print(n)\n",
        "    n += 1"
      ],
      "metadata": {
        "colab": {
          "base_uri": "https://localhost:8080/"
        },
        "id": "RIADJakCunB4",
        "outputId": "9d81ce03-0a2f-41fc-910d-7a47808c88dd"
      },
      "execution_count": 7,
      "outputs": [
        {
          "output_type": "stream",
          "name": "stdout",
          "text": [
            "2\n",
            "4\n",
            "6\n",
            "8\n",
            "10\n"
          ]
        }
      ]
    },
    {
      "cell_type": "code",
      "source": [
        "# 9 7 5 3 1 출력\n",
        "n = 9\n",
        "while n > 0:\n",
        "    print(n)\n",
        "    n -= 2"
      ],
      "metadata": {
        "colab": {
          "base_uri": "https://localhost:8080/"
        },
        "id": "YVx5oA2atYK5",
        "outputId": "eba67485-f7b2-4610-c9f1-f39053b71786"
      },
      "execution_count": 8,
      "outputs": [
        {
          "output_type": "stream",
          "name": "stdout",
          "text": [
            "9\n",
            "7\n",
            "5\n",
            "3\n",
            "1\n"
          ]
        }
      ]
    },
    {
      "cell_type": "code",
      "source": [
        "n = 9\n",
        "while n > 0:\n",
        "    if n % 2:  # if n % 2 == 1:\n",
        "        print(n)\n",
        "    n -= 1"
      ],
      "metadata": {
        "colab": {
          "base_uri": "https://localhost:8080/"
        },
        "id": "16B8UaSuvuCX",
        "outputId": "44a623b7-3971-43e3-ea96-68fe7954ee97"
      },
      "execution_count": 9,
      "outputs": [
        {
          "output_type": "stream",
          "name": "stdout",
          "text": [
            "9\n",
            "7\n",
            "5\n",
            "3\n",
            "1\n"
          ]
        }
      ]
    },
    {
      "cell_type": "markdown",
      "source": [
        "# `break`와 `continue`\n",
        "\n",
        "*   `break`: 반복(iteration)을 종료. break가 포함된 가장 가까운 반복문을 빠져나감.\n",
        "*   `continue`: 다음 반복(iteration)을 수행. continue 아래의 문장들은 건너뛰고, 그 다음 반복 과정을 실행."
      ],
      "metadata": {
        "id": "QZ6ElRf1z4cd"
      }
    },
    {
      "cell_type": "code",
      "source": [
        "n = 1\n",
        "while n <= 5:\n",
        "    if n == 3:\n",
        "        break\n",
        "    print(n)\n",
        "    n += 1"
      ],
      "metadata": {
        "colab": {
          "base_uri": "https://localhost:8080/"
        },
        "id": "CvjNVmKP0mTF",
        "outputId": "435b75f1-b682-46d3-a25a-002b5aa1a4fc"
      },
      "execution_count": 10,
      "outputs": [
        {
          "output_type": "stream",
          "name": "stdout",
          "text": [
            "1\n",
            "2\n"
          ]
        }
      ]
    },
    {
      "cell_type": "code",
      "source": [
        "n = 0\n",
        "while n < 5:\n",
        "    n += 1\n",
        "    if n == 3:\n",
        "        continue\n",
        "    print(n)"
      ],
      "metadata": {
        "colab": {
          "base_uri": "https://localhost:8080/"
        },
        "id": "YaQRQqAr1POc",
        "outputId": "afd7cc20-d033-4a35-e556-30fd7310816f"
      },
      "execution_count": 13,
      "outputs": [
        {
          "output_type": "stream",
          "name": "stdout",
          "text": [
            "1\n",
            "2\n",
            "4\n",
            "5\n"
          ]
        }
      ]
    },
    {
      "cell_type": "markdown",
      "source": [
        "# 연습문제"
      ],
      "metadata": {
        "id": "bd-_CsDb2q9T"
      }
    },
    {
      "cell_type": "markdown",
      "source": [
        "## Ex 1. 구구단 2단을 출력"
      ],
      "metadata": {
        "id": "T8W5bg9R2sxT"
      }
    },
    {
      "cell_type": "code",
      "source": [
        "n = 1\n",
        "while n < 10:  # while n <= 9:\n",
        "    print(f'2 x {n} = {2 * n}')\n",
        "    n += 1"
      ],
      "metadata": {
        "colab": {
          "base_uri": "https://localhost:8080/"
        },
        "id": "yw8mfSUI2qB0",
        "outputId": "fa7fecd9-37b9-4386-9550-56b136dc4d9e"
      },
      "execution_count": 14,
      "outputs": [
        {
          "output_type": "stream",
          "name": "stdout",
          "text": [
            "2 x 1 = 2\n",
            "2 x 2 = 4\n",
            "2 x 3 = 6\n",
            "2 x 4 = 8\n",
            "2 x 5 = 10\n",
            "2 x 6 = 12\n",
            "2 x 7 = 14\n",
            "2 x 8 = 16\n",
            "2 x 9 = 18\n"
          ]
        }
      ]
    },
    {
      "cell_type": "markdown",
      "source": [
        "## Ex 2. 구구단 2단부터 9단까지 출력"
      ],
      "metadata": {
        "id": "e50Gyjp72ysb"
      }
    },
    {
      "cell_type": "code",
      "source": [
        "x = 2\n",
        "while x < 10:\n",
        "    print(f'=== {x}단 ===')\n",
        "    y = 1\n",
        "    while y < 10:\n",
        "        print(f'{x} x {y} = {x * y}')\n",
        "        y += 1\n",
        "    print('--------------')\n",
        "    x += 1"
      ],
      "metadata": {
        "colab": {
          "base_uri": "https://localhost:8080/"
        },
        "id": "VrJZjH6l26Er",
        "outputId": "a25cfca4-3514-4b3f-b7ab-527bb7f60b3a"
      },
      "execution_count": 16,
      "outputs": [
        {
          "output_type": "stream",
          "name": "stdout",
          "text": [
            "=== 2단 ===\n",
            "2 x 1 = 2\n",
            "2 x 2 = 4\n",
            "2 x 3 = 6\n",
            "2 x 4 = 8\n",
            "2 x 5 = 10\n",
            "2 x 6 = 12\n",
            "2 x 7 = 14\n",
            "2 x 8 = 16\n",
            "2 x 9 = 18\n",
            "--------------\n",
            "=== 3단 ===\n",
            "--------------\n",
            "=== 4단 ===\n",
            "--------------\n",
            "=== 5단 ===\n",
            "--------------\n",
            "=== 6단 ===\n",
            "--------------\n",
            "=== 7단 ===\n",
            "--------------\n",
            "=== 8단 ===\n",
            "--------------\n",
            "=== 9단 ===\n",
            "--------------\n"
          ]
        }
      ]
    },
    {
      "cell_type": "markdown",
      "source": [
        "## Ex 3. 아래와 같이 출력하는 코드를 작성하세요.\n",
        "\n",
        "```\n",
        "*\n",
        "**\n",
        "***\n",
        "****\n",
        "*****\n",
        "```\n"
      ],
      "metadata": {
        "id": "C5YKZIUv3pDC"
      }
    },
    {
      "cell_type": "markdown",
      "source": [
        "## Ex 4. 아래와 같이 출력하는 코드를 작성하세요.\n",
        "\n",
        "```\n",
        "*****\n",
        "****\n",
        "***\n",
        "**\n",
        "*\n",
        "```\n"
      ],
      "metadata": {
        "id": "67_9eM7b3xaS"
      }
    },
    {
      "cell_type": "markdown",
      "source": [
        "## Ex 5. 구구단 2단은 2x2까지, 3단은 3x3까지, ..., 9단은 9x9까지 출력하는 코드를 작성하세요."
      ],
      "metadata": {
        "id": "KS2mt9KN37LC"
      }
    }
  ]
}