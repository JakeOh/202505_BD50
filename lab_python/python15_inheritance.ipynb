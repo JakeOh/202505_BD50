{
  "nbformat": 4,
  "nbformat_minor": 0,
  "metadata": {
    "colab": {
      "provenance": [],
      "toc_visible": true,
      "authorship_tag": "ABX9TyP7JJS6Kl34rDsRdfGcpkS0",
      "include_colab_link": true
    },
    "kernelspec": {
      "name": "python3",
      "display_name": "Python 3"
    },
    "language_info": {
      "name": "python"
    }
  },
  "cells": [
    {
      "cell_type": "markdown",
      "metadata": {
        "id": "view-in-github",
        "colab_type": "text"
      },
      "source": [
        "<a href=\"https://colab.research.google.com/github/JakeOh/202505_BD50/blob/main/lab_python/python15_inheritance.ipynb\" target=\"_parent\"><img src=\"https://colab.research.google.com/assets/colab-badge.svg\" alt=\"Open In Colab\"/></a>"
      ]
    },
    {
      "cell_type": "markdown",
      "source": [
        "# Inheritance(상속)"
      ],
      "metadata": {
        "id": "d0sn-g0U1NVi"
      }
    },
    {
      "cell_type": "markdown",
      "source": [
        "*   super class(상위 클래스), parent class(부모 클래스)\n",
        "*   sub class(하위 클래스), child class(자식 클래스)\n",
        "*   상속: 상위 클래스의 속성(변수)들과 기능(메서드)들을 하위 클래스에서 재사용하는 것.\n",
        "*   IS-A 관계가 성립하는 객체들을 상속 관계로 구현.\n",
        "    *   학생은 사람이다. (Student IS A Person.)\n",
        "        *   사람 - 상위 클래스\n",
        "        *   학생 - 하위 클래스\n",
        "    *   상위 클래스를 하위 클래스에서 확장하는 것.\n",
        "*   HAS-A 관계가 성립하는 객체들은 일반적으로 상속이 아니라 속성을 사용해서 클래스를 구현함.\n",
        "    *   학생은 시험점수를 가지고 있다. (Student HAS A Score.)\n",
        "        *   학생 클래스에서 변수들 중 하나로 Score 클래스 타입을 선언(self.score)."
      ],
      "metadata": {
        "id": "pyZfocY31UuR"
      }
    },
    {
      "cell_type": "code",
      "execution_count": null,
      "metadata": {
        "id": "on9Tdewq1I4c"
      },
      "outputs": [],
      "source": []
    }
  ]
}