{
  "nbformat": 4,
  "nbformat_minor": 0,
  "metadata": {
    "colab": {
      "provenance": [],
      "toc_visible": true,
      "authorship_tag": "ABX9TyN4JgopFVk+ikVOZJuSW1SM",
      "include_colab_link": true
    },
    "kernelspec": {
      "name": "python3",
      "display_name": "Python 3"
    },
    "language_info": {
      "name": "python"
    }
  },
  "cells": [
    {
      "cell_type": "markdown",
      "metadata": {
        "id": "view-in-github",
        "colab_type": "text"
      },
      "source": [
        "<a href=\"https://colab.research.google.com/github/JakeOh/202505_BD50/blob/main/lab_python/python15_inheritance.ipynb\" target=\"_parent\"><img src=\"https://colab.research.google.com/assets/colab-badge.svg\" alt=\"Open In Colab\"/></a>"
      ]
    },
    {
      "cell_type": "markdown",
      "source": [
        "# Inheritance(상속)"
      ],
      "metadata": {
        "id": "d0sn-g0U1NVi"
      }
    },
    {
      "cell_type": "markdown",
      "source": [
        "*   super class(상위 클래스), parent class(부모 클래스)\n",
        "*   sub class(하위 클래스), child class(자식 클래스)\n",
        "*   상속: 상위 클래스의 속성(변수)들과 기능(메서드)들을 하위 클래스에서 재사용하는 것.\n",
        "*   IS-A 관계가 성립하는 객체들을 상속 관계로 구현.\n",
        "    *   학생은 사람이다. (Student IS A Person.)\n",
        "        *   사람 - 상위 클래스\n",
        "        *   학생 - 하위 클래스\n",
        "    *   상위 클래스를 하위 클래스에서 확장하는 것.\n",
        "*   HAS-A 관계가 성립하는 객체들은 일반적으로 상속이 아니라 속성을 사용해서 클래스를 구현함.\n",
        "    *   학생은 시험점수를 가지고 있다. (Student HAS A Score.)\n",
        "        *   학생 클래스에서 변수들 중 하나로 Score 클래스 타입을 선언(self.score).\n",
        "*   문법\n",
        "    ```\n",
        "    class SubClass(SuperClass):\n",
        "        클래스 몸체(body)\n",
        "    ```\n"
      ],
      "metadata": {
        "id": "pyZfocY31UuR"
      }
    },
    {
      "cell_type": "code",
      "execution_count": 1,
      "metadata": {
        "id": "on9Tdewq1I4c"
      },
      "outputs": [],
      "source": [
        "class Person:\n",
        "    def __init__(self, name):\n",
        "        self.name = name\n",
        "\n",
        "    def say_hello(self):\n",
        "        print(f'안녕하세요, 저는 {self.name}입니다.')"
      ]
    },
    {
      "cell_type": "code",
      "source": [
        "oh_ssam = Person('오쌤')\n",
        "oh_ssam.say_hello()"
      ],
      "metadata": {
        "colab": {
          "base_uri": "https://localhost:8080/"
        },
        "id": "WT3TPZ0X8hic",
        "outputId": "f453479a-c1bb-4be8-889d-1822e79a9d77"
      },
      "execution_count": 2,
      "outputs": [
        {
          "output_type": "stream",
          "name": "stdout",
          "text": [
            "안녕하세요, 저는 오쌤입니다.\n"
          ]
        }
      ]
    },
    {
      "cell_type": "code",
      "source": [
        "# Person을 상속(확장)하는 Student 클래스 선언:\n",
        "class Student(Person):\n",
        "    def say_hello2(self):\n",
        "        print('저는 학생입니다.')"
      ],
      "metadata": {
        "id": "KNMUjFa28rna"
      },
      "execution_count": 5,
      "outputs": []
    },
    {
      "cell_type": "code",
      "source": [
        "stu = Student('오쌤')"
      ],
      "metadata": {
        "id": "BetiMEl-9WfM"
      },
      "execution_count": 6,
      "outputs": []
    },
    {
      "cell_type": "code",
      "source": [
        "stu.say_hello()\n",
        "stu.say_hello2()"
      ],
      "metadata": {
        "colab": {
          "base_uri": "https://localhost:8080/"
        },
        "id": "ApLmPSe79uxq",
        "outputId": "557fe551-084a-4ca0-f148-c84986f9c06c"
      },
      "execution_count": 7,
      "outputs": [
        {
          "output_type": "stream",
          "name": "stdout",
          "text": [
            "안녕하세요, 저는 오쌤입니다.\n",
            "저는 학생입니다.\n"
          ]
        }
      ]
    },
    {
      "cell_type": "markdown",
      "source": [
        "# Method Override\n",
        "\n",
        "*   상위 클래스의 메서드를 하위 클래스에서 *같은 이름으로* 재정의하는 것.\n",
        "*   하위 클래스에서 override된 상위 클래스의 메서드를 호출하기 위해서는 `super().method_name(arg)` 형식으로 사용함."
      ],
      "metadata": {
        "id": "dYc-LlvU-_XJ"
      }
    },
    {
      "cell_type": "code",
      "source": [
        "# 회사원은 사람이다.(회사원 - 하위 클래스, 사람 - 상위 클래스)\n",
        "class BusinessPerson(Person):\n",
        "    # __init__ 메서드 override\n",
        "    def __init__(self, name, company):\n",
        "        # 상위 클래스(Person)의 생성자 __init__ 메서드 호출:\n",
        "        super().__init__(name)\n",
        "        self.company = company\n",
        "\n",
        "    # say_hello 메서드 override\n",
        "    def say_hello(self):\n",
        "        # 상위 클래스(Person)의 say_hello 메서드 호출:\n",
        "        super().say_hello()\n",
        "        print(f'저는 {self.company} 회사에 다닙니다.')"
      ],
      "metadata": {
        "id": "nuHZBvqZ_ulJ"
      },
      "execution_count": 14,
      "outputs": []
    },
    {
      "cell_type": "code",
      "source": [
        "# BusinessPerson 타입 객체 생성\n",
        "gildong = BusinessPerson('홍길동', '아이티윌')"
      ],
      "metadata": {
        "id": "kuq1f4z3BmFM"
      },
      "execution_count": 16,
      "outputs": []
    },
    {
      "cell_type": "code",
      "source": [
        "print(gildong.name, gildong.company)"
      ],
      "metadata": {
        "colab": {
          "base_uri": "https://localhost:8080/"
        },
        "id": "61KI_mfiCSrM",
        "outputId": "88cd5e63-ca60-41c2-b4c6-6f99a7e3c4f9"
      },
      "execution_count": 17,
      "outputs": [
        {
          "output_type": "stream",
          "name": "stdout",
          "text": [
            "홍길동 아이티윌\n"
          ]
        }
      ]
    },
    {
      "cell_type": "code",
      "source": [
        "gildong.say_hello()"
      ],
      "metadata": {
        "colab": {
          "base_uri": "https://localhost:8080/"
        },
        "id": "OUM9UdDRC1b7",
        "outputId": "cb416138-e06b-4bb7-ab5b-eac53c4ce243"
      },
      "execution_count": 18,
      "outputs": [
        {
          "output_type": "stream",
          "name": "stdout",
          "text": [
            "안녕하세요, 저는 홍길동입니다.\n",
            "저는 아이티윌 회사에 다닙니다.\n"
          ]
        }
      ]
    },
    {
      "cell_type": "code",
      "source": [
        "class Parent:\n",
        "    def __init__(self, name):\n",
        "        self.name = name\n",
        "\n",
        "    def daddy(self):\n",
        "        print(f'아빠 이름 {self.name}')\n",
        "\n",
        "class Child(Parent):\n",
        "    def __init__(self, name, name):\n",
        "        super().__init__(name)\n",
        "        self.my_name = name\n",
        "\n",
        "    def its_me(self):\n",
        "        print(f'내 이름 {self.name}')"
      ],
      "metadata": {
        "id": "NsckYKQ2C516"
      },
      "execution_count": 58,
      "outputs": []
    },
    {
      "cell_type": "code",
      "source": [
        "ch = Child('길동')\n",
        "print(ch.name)\n",
        "ch.daddy()\n",
        "ch.its_me()"
      ],
      "metadata": {
        "colab": {
          "base_uri": "https://localhost:8080/"
        },
        "id": "xOrC7ko6EyIj",
        "outputId": "0bea0192-428e-48f0-f205-531b0d8490ee"
      },
      "execution_count": 59,
      "outputs": [
        {
          "output_type": "stream",
          "name": "stdout",
          "text": [
            "허균\n",
            "아빠 이름 허균\n",
            "내 이름 허균\n"
          ]
        }
      ]
    },
    {
      "cell_type": "code",
      "source": [],
      "metadata": {
        "id": "MFJTMAWFFApL"
      },
      "execution_count": null,
      "outputs": []
    }
  ]
}