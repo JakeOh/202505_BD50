{
  "nbformat": 4,
  "nbformat_minor": 0,
  "metadata": {
    "colab": {
      "provenance": [],
      "toc_visible": true,
      "authorship_tag": "ABX9TyPEn/QGRH+TLE3Sy0ea9rDT",
      "include_colab_link": true
    },
    "kernelspec": {
      "name": "python3",
      "display_name": "Python 3"
    },
    "language_info": {
      "name": "python"
    }
  },
  "cells": [
    {
      "cell_type": "markdown",
      "metadata": {
        "id": "view-in-github",
        "colab_type": "text"
      },
      "source": [
        "<a href=\"https://colab.research.google.com/github/JakeOh/202505_BD50/blob/main/lab_python/python18_file_ex.ipynb\" target=\"_parent\"><img src=\"https://colab.research.google.com/assets/colab-badge.svg\" alt=\"Open In Colab\"/></a>"
      ]
    },
    {
      "cell_type": "markdown",
      "source": [
        "*   github의 [exam.csv 파일](https://github.com/JakeOh/202505_BD50/blob/main/lab_python/exam.csv)을 다운로드.\n",
        "*   Colab 연결(세션 활성화).\n",
        "*   Colab에 Google Drive 마운트(mount, 연결).\n",
        "*   개인 계정의 Google Drive에 exam.csv 파일을 업로드.\n",
        "\n",
        "*   exam.csv 파일을 open\n",
        "\n",
        "*   파일의 첫번째 줄은 컬럼 이름들이기 때문에, 첫번째 줄은 읽고 무시.\n",
        "\n",
        "*   파일의 두번째 줄부터 파일 끝(EOF)까지 반복.\n",
        "    *   각 줄에서 읽은 내용을 쉼표(,)로 분리한 리스트를 빈 리스트에 append.\n",
        "\n",
        "    `[['1', '1', '50', '98', '50'], ['2', '1', '60', '97', '60'], ...]`\n",
        "\n",
        "*   위에서 만들어진 2차원 리스트는 문자열들을 저장하고 있는 리스트이기 때문에, 리스트의 모든 값들을 정수(int)로 변환\n",
        "\n",
        "    `[[1, 1, 50, 98, 50], [2, 1, 60, 97, 60], ...]`\n",
        "\n",
        "*   수학 점수들로만 이루어진 1차원 리스트를 만듦.\n",
        "\n",
        "    `[50, 60, ...]`\n",
        "\n",
        "*   수학 점수의 최댓값, 최솟값, 평균 출력.\n",
        "\n",
        "*   1반 학생들의 수학 점수 총점, 평균, 최댓값, 최솟값 출력"
      ],
      "metadata": {
        "id": "lJu06b3wKuip"
      }
    },
    {
      "cell_type": "code",
      "execution_count": null,
      "metadata": {
        "id": "URbwh1hNKqBL"
      },
      "outputs": [],
      "source": []
    }
  ]
}