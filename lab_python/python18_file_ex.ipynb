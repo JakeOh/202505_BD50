{
  "nbformat": 4,
  "nbformat_minor": 0,
  "metadata": {
    "colab": {
      "provenance": [],
      "toc_visible": true,
      "mount_file_id": "1blwUkPwQEnVZOIscRU-_BVQhn8xUVMcK",
      "authorship_tag": "ABX9TyNGxvfZ7xubaXY/NUB5jG8d",
      "include_colab_link": true
    },
    "kernelspec": {
      "name": "python3",
      "display_name": "Python 3"
    },
    "language_info": {
      "name": "python"
    }
  },
  "cells": [
    {
      "cell_type": "markdown",
      "metadata": {
        "id": "view-in-github",
        "colab_type": "text"
      },
      "source": [
        "<a href=\"https://colab.research.google.com/github/JakeOh/202505_BD50/blob/main/lab_python/python18_file_ex.ipynb\" target=\"_parent\"><img src=\"https://colab.research.google.com/assets/colab-badge.svg\" alt=\"Open In Colab\"/></a>"
      ]
    },
    {
      "cell_type": "markdown",
      "source": [
        "*   github의 [exam.csv 파일](https://github.com/JakeOh/202505_BD50/blob/main/lab_python/exam.csv)을 다운로드.\n",
        "*   Colab 연결(세션 활성화).\n",
        "*   Colab에 Google Drive 마운트(mount, 연결).\n",
        "*   개인 계정의 Google Drive에 exam.csv 파일을 업로드.\n",
        "\n",
        "*   exam.csv 파일을 open\n",
        "\n",
        "*   파일의 첫번째 줄은 컬럼 이름들이기 때문에, 첫번째 줄은 읽고 무시.\n",
        "\n",
        "*   파일의 두번째 줄부터 파일 끝(EOF)까지 반복.\n",
        "    *   각 줄에서 읽은 내용을 쉼표(,)로 분리한 리스트를 빈 리스트에 append.\n",
        "\n",
        "    `[['1', '1', '50', '98', '50'], ['2', '1', '60', '97', '60'], ...]`\n",
        "\n",
        "*   위에서 만들어진 2차원 리스트는 문자열들을 저장하고 있는 리스트이기 때문에, 리스트의 모든 값들을 정수(int)로 변환\n",
        "\n",
        "    `[[1, 1, 50, 98, 50], [2, 1, 60, 97, 60], ...]`\n",
        "\n",
        "*   수학 점수들로만 이루어진 1차원 리스트를 만듦.\n",
        "\n",
        "    `[50, 60, ...]`\n",
        "\n",
        "*   수학 점수의 최댓값, 최솟값, 평균 출력.\n",
        "\n",
        "*   1반 학생들의 수학 점수 총점, 평균, 최댓값, 최솟값 출력"
      ],
      "metadata": {
        "id": "lJu06b3wKuip"
      }
    },
    {
      "cell_type": "code",
      "execution_count": 1,
      "metadata": {
        "id": "URbwh1hNKqBL"
      },
      "outputs": [],
      "source": [
        "file_path = '/content/drive/MyDrive/Colab Notebooks/lab_python/exam.csv'"
      ]
    },
    {
      "cell_type": "code",
      "source": [
        "with open(file_path) as f:\n",
        "    f.readline()  # 파일에서 첫번째 라인(줄)을 읽음.\n",
        "    exam = []  # csv 파일의 내용을 저장할 빈 리스트\n",
        "    for line in f:  # 열린 파일 f에서 두번째 줄부터 끝까지 반복하면 한줄씩 읽음.\n",
        "        exam.append(line.strip().split(','))\n",
        "\n",
        "exam"
      ],
      "metadata": {
        "colab": {
          "base_uri": "https://localhost:8080/"
        },
        "id": "3_8C-bCLd34c",
        "outputId": "82674be7-0634-4a68-818c-05e88b29e38a"
      },
      "execution_count": 10,
      "outputs": [
        {
          "output_type": "execute_result",
          "data": {
            "text/plain": [
              "[['1', '1', '50', '98', '50'],\n",
              " ['2', '1', '60', '97', '60'],\n",
              " ['3', '1', '45', '86', '78'],\n",
              " ['4', '1', '30', '98', '58'],\n",
              " ['5', '2', '25', '80', '65'],\n",
              " ['6', '2', '50', '89', '98'],\n",
              " ['7', '2', '80', '90', '45'],\n",
              " ['8', '2', '90', '78', '25'],\n",
              " ['9', '3', '20', '98', '15'],\n",
              " ['10', '3', '50', '98', '45'],\n",
              " ['11', '3', '65', '65', '65'],\n",
              " ['12', '3', '45', '85', '32'],\n",
              " ['13', '4', '46', '98', '65'],\n",
              " ['14', '4', '48', '87', '12'],\n",
              " ['15', '4', '75', '56', '78'],\n",
              " ['16', '4', '58', '98', '65'],\n",
              " ['17', '5', '65', '68', '98'],\n",
              " ['18', '5', '80', '78', '90'],\n",
              " ['19', '5', '89', '68', '87'],\n",
              " ['20', '5', '78', '83', '58']]"
            ]
          },
          "metadata": {},
          "execution_count": 10
        }
      ]
    },
    {
      "cell_type": "code",
      "source": [
        "for i, row in enumerate(exam):\n",
        "    for j, x in enumerate(row):\n",
        "        exam[i][j] = int(x)\n",
        "\n",
        "exam"
      ],
      "metadata": {
        "colab": {
          "base_uri": "https://localhost:8080/"
        },
        "id": "4TpClmJxfX-r",
        "outputId": "51a41e65-130e-4c72-c844-6ba6d292394c"
      },
      "execution_count": 12,
      "outputs": [
        {
          "output_type": "execute_result",
          "data": {
            "text/plain": [
              "[[1, 1, 50, 98, 50],\n",
              " [2, 1, 60, 97, 60],\n",
              " [3, 1, 45, 86, 78],\n",
              " [4, 1, 30, 98, 58],\n",
              " [5, 2, 25, 80, 65],\n",
              " [6, 2, 50, 89, 98],\n",
              " [7, 2, 80, 90, 45],\n",
              " [8, 2, 90, 78, 25],\n",
              " [9, 3, 20, 98, 15],\n",
              " [10, 3, 50, 98, 45],\n",
              " [11, 3, 65, 65, 65],\n",
              " [12, 3, 45, 85, 32],\n",
              " [13, 4, 46, 98, 65],\n",
              " [14, 4, 48, 87, 12],\n",
              " [15, 4, 75, 56, 78],\n",
              " [16, 4, 58, 98, 65],\n",
              " [17, 5, 65, 68, 98],\n",
              " [18, 5, 80, 78, 90],\n",
              " [19, 5, 89, 68, 87],\n",
              " [20, 5, 78, 83, 58]]"
            ]
          },
          "metadata": {},
          "execution_count": 12
        }
      ]
    },
    {
      "cell_type": "code",
      "source": [
        "# math = []\n",
        "# for row in exam:\n",
        "#     math.append(row[2])\n",
        "math = [row[2] for row in exam]\n",
        "\n",
        "print(math)"
      ],
      "metadata": {
        "colab": {
          "base_uri": "https://localhost:8080/"
        },
        "id": "RZZSLe4WgMr8",
        "outputId": "ed951da9-bd94-4b46-ea65-64277f353761"
      },
      "execution_count": 15,
      "outputs": [
        {
          "output_type": "stream",
          "name": "stdout",
          "text": [
            "[50, 60, 45, 30, 25, 50, 80, 90, 20, 50, 65, 45, 46, 48, 75, 58, 65, 80, 89, 78]\n"
          ]
        }
      ]
    },
    {
      "cell_type": "code",
      "source": [
        "print('수학 최댓값:', max(math))\n",
        "print('수학 최솟값:', min(math))\n",
        "print('수학 평균:', sum(math) / len(math))"
      ],
      "metadata": {
        "colab": {
          "base_uri": "https://localhost:8080/"
        },
        "id": "QjtZwqYiiuG8",
        "outputId": "cfd50469-0234-45c2-a182-589dca3b4826"
      },
      "execution_count": 16,
      "outputs": [
        {
          "output_type": "stream",
          "name": "stdout",
          "text": [
            "수학 최댓값: 90\n",
            "수학 최솟값: 20\n",
            "수학 평균: 57.45\n"
          ]
        }
      ]
    },
    {
      "cell_type": "code",
      "source": [
        "english = [row[3] for row in exam]\n",
        "print(english)"
      ],
      "metadata": {
        "colab": {
          "base_uri": "https://localhost:8080/"
        },
        "id": "LH6U3nzDjjqi",
        "outputId": "16e76331-81f5-4ad8-ab64-1c79c775cf29"
      },
      "execution_count": 18,
      "outputs": [
        {
          "output_type": "stream",
          "name": "stdout",
          "text": [
            "[98, 97, 86, 98, 80, 89, 90, 78, 98, 98, 65, 85, 98, 87, 56, 98, 68, 78, 68, 83]\n"
          ]
        }
      ]
    },
    {
      "cell_type": "code",
      "source": [
        "print('영어 최댓값:', max(english))\n",
        "print('영어 최솟값:', min(english))\n",
        "print('영어 평균:', sum(english) / len(english))"
      ],
      "metadata": {
        "colab": {
          "base_uri": "https://localhost:8080/"
        },
        "id": "eKqzPQjUjs8T",
        "outputId": "a09bd686-1467-47c3-b413-c63aa6f34221"
      },
      "execution_count": 19,
      "outputs": [
        {
          "output_type": "stream",
          "name": "stdout",
          "text": [
            "영어 최댓값: 98\n",
            "영어 최솟값: 56\n",
            "영어 평균: 84.9\n"
          ]
        }
      ]
    },
    {
      "cell_type": "code",
      "source": [
        "# math_class1 = []  # 1반(class=1) 수학 점수를 저장하기 위한 리스트\n",
        "# for row in exam:\n",
        "#     if row[1] == 1:  # class 컬럼의 값이 1이면\n",
        "#         math_class1.append(row[2])  # math 컬럼의 값을 리스트에 추가.\n",
        "math_class1 = [row[2] for row in exam if row[1] == 1]\n",
        "\n",
        "print(math_class1)"
      ],
      "metadata": {
        "colab": {
          "base_uri": "https://localhost:8080/"
        },
        "id": "YJzzMTCLkRwS",
        "outputId": "d5afa517-6682-409e-dc48-fcc259fc9d0d"
      },
      "execution_count": 22,
      "outputs": [
        {
          "output_type": "stream",
          "name": "stdout",
          "text": [
            "[50, 60, 45, 30]\n"
          ]
        }
      ]
    },
    {
      "cell_type": "code",
      "source": [
        "print('1반 수학 총점:', sum(math_class1))\n",
        "print('1반 수학 평균:', sum(math_class1) / len(math_class1))\n",
        "print('1반 수학 최댓값:', max(math_class1))\n",
        "print('1반 수학 최솟값:', min(math_class1))"
      ],
      "metadata": {
        "colab": {
          "base_uri": "https://localhost:8080/"
        },
        "id": "Dz-78mYMlULr",
        "outputId": "06b3ad01-5230-4731-9838-71449d2064ca"
      },
      "execution_count": 23,
      "outputs": [
        {
          "output_type": "stream",
          "name": "stdout",
          "text": [
            "1반 수학 총점: 185\n",
            "1반 수학 평균: 46.25\n",
            "1반 수학 최댓값: 60\n",
            "1반 수학 최솟값: 30\n"
          ]
        }
      ]
    },
    {
      "cell_type": "markdown",
      "source": [
        "1반 ~ 5반 수학 평균 점수를 출력"
      ],
      "metadata": {
        "id": "I3KEil8vmZWC"
      }
    },
    {
      "cell_type": "code",
      "source": [
        "for cls in range(1, 6):\n",
        "    math_by_class = [row[2] for row in exam if row[1] == cls]\n",
        "    mean = sum(math_by_class) / len(math_by_class)\n",
        "    print(f'{cls}반 수학 평균: {mean}')"
      ],
      "metadata": {
        "colab": {
          "base_uri": "https://localhost:8080/"
        },
        "id": "pCOrgNvtme7E",
        "outputId": "dd68a532-be61-4d45-b532-27a813e9cafc"
      },
      "execution_count": 25,
      "outputs": [
        {
          "output_type": "stream",
          "name": "stdout",
          "text": [
            "1반 수학 평균: 46.25\n",
            "2반 수학 평균: 61.25\n",
            "3반 수학 평균: 45.0\n",
            "4반 수학 평균: 56.75\n",
            "5반 수학 평균: 78.0\n"
          ]
        }
      ]
    },
    {
      "cell_type": "markdown",
      "source": [
        "## class 선언"
      ],
      "metadata": {
        "id": "YvA3YEJVsoET"
      }
    },
    {
      "cell_type": "code",
      "source": [
        "class Student:\n",
        "    def __init__(self, id, cls, math, english, science):\n",
        "        self.id = int(id)\n",
        "        self.cls = int(cls)\n",
        "        self.math = int(math)\n",
        "        self.english = int(english)\n",
        "        self.science = int(science)\n",
        "\n",
        "    def __repr__(self):\n",
        "        return f'Student(id={self.id}, class={self.cls}, math={self.math}, english={self.english}, science={self.science})'"
      ],
      "metadata": {
        "id": "eOegg3pnsDN5"
      },
      "execution_count": 26,
      "outputs": []
    },
    {
      "cell_type": "code",
      "source": [
        "s = Student(1, 1, '50', '60', '70')\n",
        "print(s)"
      ],
      "metadata": {
        "colab": {
          "base_uri": "https://localhost:8080/"
        },
        "id": "UK-Chktstpal",
        "outputId": "053ccdc1-20ff-4da2-fd33-c89449c1f47d"
      },
      "execution_count": 27,
      "outputs": [
        {
          "output_type": "stream",
          "name": "stdout",
          "text": [
            "Student(id=1, class=1, math=50, english=60, science=70)\n"
          ]
        }
      ]
    },
    {
      "cell_type": "code",
      "source": [
        "exam2 = []  # csv 파일에서 읽은 데이터를 저장하기 위한 리스트\n",
        "with open(file_path) as f:\n",
        "    f.readline()\n",
        "    for line in f:\n",
        "        row = line.strip().split(sep=',')\n",
        "        student = Student(row[0], row[1], row[2], row[3], row[4])\n",
        "        exam2.append(student)\n",
        "\n",
        "exam2"
      ],
      "metadata": {
        "colab": {
          "base_uri": "https://localhost:8080/"
        },
        "id": "-lbQz1VVt0wc",
        "outputId": "32f80c3e-71c3-45c1-ab3f-bb0d8819300f"
      },
      "execution_count": 28,
      "outputs": [
        {
          "output_type": "execute_result",
          "data": {
            "text/plain": [
              "[Student(id=1, class=1, math=50, english=98, science=50),\n",
              " Student(id=2, class=1, math=60, english=97, science=60),\n",
              " Student(id=3, class=1, math=45, english=86, science=78),\n",
              " Student(id=4, class=1, math=30, english=98, science=58),\n",
              " Student(id=5, class=2, math=25, english=80, science=65),\n",
              " Student(id=6, class=2, math=50, english=89, science=98),\n",
              " Student(id=7, class=2, math=80, english=90, science=45),\n",
              " Student(id=8, class=2, math=90, english=78, science=25),\n",
              " Student(id=9, class=3, math=20, english=98, science=15),\n",
              " Student(id=10, class=3, math=50, english=98, science=45),\n",
              " Student(id=11, class=3, math=65, english=65, science=65),\n",
              " Student(id=12, class=3, math=45, english=85, science=32),\n",
              " Student(id=13, class=4, math=46, english=98, science=65),\n",
              " Student(id=14, class=4, math=48, english=87, science=12),\n",
              " Student(id=15, class=4, math=75, english=56, science=78),\n",
              " Student(id=16, class=4, math=58, english=98, science=65),\n",
              " Student(id=17, class=5, math=65, english=68, science=98),\n",
              " Student(id=18, class=5, math=80, english=78, science=90),\n",
              " Student(id=19, class=5, math=89, english=68, science=87),\n",
              " Student(id=20, class=5, math=78, english=83, science=58)]"
            ]
          },
          "metadata": {},
          "execution_count": 28
        }
      ]
    },
    {
      "cell_type": "code",
      "source": [
        "math2 = [s.math for s in exam2]  # exam2에서 수학점수들만 선택해서 저장\n",
        "print(math2)"
      ],
      "metadata": {
        "colab": {
          "base_uri": "https://localhost:8080/"
        },
        "id": "r7flGzV2u5Yl",
        "outputId": "465d1d62-7b8d-435e-dd81-543bb5b795e9"
      },
      "execution_count": 33,
      "outputs": [
        {
          "output_type": "stream",
          "name": "stdout",
          "text": [
            "[50, 60, 45, 30, 25, 50, 80, 90, 20, 50, 65, 45, 46, 48, 75, 58, 65, 80, 89, 78]\n"
          ]
        }
      ]
    },
    {
      "cell_type": "code",
      "source": [
        "english2 = [s.english for s in exam2]\n",
        "print(english2)"
      ],
      "metadata": {
        "colab": {
          "base_uri": "https://localhost:8080/"
        },
        "id": "8Po0Akykvm1t",
        "outputId": "eebfe9ed-230f-49a4-c725-637bc2daf4e8"
      },
      "execution_count": 35,
      "outputs": [
        {
          "output_type": "stream",
          "name": "stdout",
          "text": [
            "[98, 97, 86, 98, 80, 89, 90, 78, 98, 98, 65, 85, 98, 87, 56, 98, 68, 78, 68, 83]\n"
          ]
        }
      ]
    },
    {
      "cell_type": "code",
      "source": [
        "science2 = [s.science for s in exam2]\n",
        "print(science2)"
      ],
      "metadata": {
        "colab": {
          "base_uri": "https://localhost:8080/"
        },
        "id": "U9b9I7aXwPJN",
        "outputId": "b1d8d78e-edcb-44de-99b3-415c4cabbfb0"
      },
      "execution_count": 36,
      "outputs": [
        {
          "output_type": "stream",
          "name": "stdout",
          "text": [
            "[50, 60, 78, 58, 65, 98, 45, 25, 15, 45, 65, 32, 65, 12, 78, 65, 98, 90, 87, 58]\n"
          ]
        }
      ]
    },
    {
      "cell_type": "markdown",
      "source": [
        "각 반의 수학 점수 평균"
      ],
      "metadata": {
        "id": "yAqouKSxwkbb"
      }
    },
    {
      "cell_type": "code",
      "source": [
        "for cls in range(1, 6):\n",
        "    # math_by_class = []\n",
        "    # for s in exam2:\n",
        "    #     if s.cls == cls:\n",
        "    #         math_by_class.append(s.math)\n",
        "    math_by_class = [s.math for s in exam2 if s.cls == cls]\n",
        "    mean = sum(math_by_class) / len(math_by_class)\n",
        "    print(f'{cls}반 수학 평균: {mean}')"
      ],
      "metadata": {
        "colab": {
          "base_uri": "https://localhost:8080/"
        },
        "id": "HY9pAhNAwm_S",
        "outputId": "c441de56-03b9-4ef8-ec46-fc3b9838c33e"
      },
      "execution_count": 39,
      "outputs": [
        {
          "output_type": "stream",
          "name": "stdout",
          "text": [
            "1반 수학 평균: 46.25\n",
            "2반 수학 평균: 61.25\n",
            "3반 수학 평균: 45.0\n",
            "4반 수학 평균: 56.75\n",
            "5반 수학 평균: 78.0\n"
          ]
        }
      ]
    },
    {
      "cell_type": "markdown",
      "source": [
        "각 반의 영어 점수 평균"
      ],
      "metadata": {
        "id": "7MCCfLzXw2UK"
      }
    },
    {
      "cell_type": "code",
      "source": [
        "for cls in range(1, 6):\n",
        "    english_by_class = [s.english for s in exam2 if s.cls == cls]\n",
        "    mean = sum(english_by_class) / len(english_by_class)\n",
        "    print(f'{cls}반 영어 평균: {mean}')"
      ],
      "metadata": {
        "colab": {
          "base_uri": "https://localhost:8080/"
        },
        "id": "bSB3APppw4R0",
        "outputId": "f0efff3a-ed96-455b-92d0-8e9f0d85bb07"
      },
      "execution_count": 40,
      "outputs": [
        {
          "output_type": "stream",
          "name": "stdout",
          "text": [
            "1반 영어 평균: 94.75\n",
            "2반 영어 평균: 84.25\n",
            "3반 영어 평균: 86.5\n",
            "4반 영어 평균: 84.75\n",
            "5반 영어 평균: 74.25\n"
          ]
        }
      ]
    },
    {
      "cell_type": "code",
      "source": [
        "def subject_mean_by_class(cls, subject):\n",
        "    \"\"\"\n",
        "    반(cls) 별 과목(subject)의 평균 점수를 리턴.\n",
        "    (예) subject_mean_by_class(1, 'math') -> 1반 수학 점수 평균을 리턴.\n",
        "\n",
        "    @param cls: 반 번호. 1 ~ 5.\n",
        "    @param subject: 과목 이름. 'math', 'english', 'science'.\n",
        "    @return 해당 cls의 해당 subject의 평균.\n",
        "    \"\"\"\n",
        "    pass"
      ],
      "metadata": {
        "id": "EDDHtQOgytSL"
      },
      "execution_count": null,
      "outputs": []
    }
  ]
}