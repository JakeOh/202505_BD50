{
  "nbformat": 4,
  "nbformat_minor": 0,
  "metadata": {
    "colab": {
      "provenance": [],
      "toc_visible": true,
      "authorship_tag": "ABX9TyO2i5dd88cHUmtxcgJU36eQ",
      "include_colab_link": true
    },
    "kernelspec": {
      "name": "python3",
      "display_name": "Python 3"
    },
    "language_info": {
      "name": "python"
    }
  },
  "cells": [
    {
      "cell_type": "markdown",
      "metadata": {
        "id": "view-in-github",
        "colab_type": "text"
      },
      "source": [
        "<a href=\"https://colab.research.google.com/github/JakeOh/202505_BD50/blob/main/lab_python/python13_oop.ipynb\" target=\"_parent\"><img src=\"https://colab.research.google.com/assets/colab-badge.svg\" alt=\"Open In Colab\"/></a>"
      ]
    },
    {
      "cell_type": "markdown",
      "source": [
        "# 객체지향 프로그래밍 배경"
      ],
      "metadata": {
        "id": "nhDQ51jqxjVc"
      }
    },
    {
      "cell_type": "code",
      "execution_count": null,
      "metadata": {
        "id": "nV1TW64Sxctu"
      },
      "outputs": [],
      "source": [
        "students = [\n",
        "    {'id': 1, 'name': '홍길동', 'korean': 100, 'english': 80, 'math': 95},\n",
        "    {'id': 2, 'name': '오쌤', 'korean': 50, 'english': 45, 'math': 61},\n",
        "    {'id': 3, 'name': 'Scott', 'korean': 70, 'english': 99, 'math': 78},\n",
        "]"
      ]
    },
    {
      "cell_type": "code",
      "source": [
        "# 번호, 이름, 총점, 평균을 출력\n",
        "for s in students:\n",
        "    total = s['korean'] + s['english'] + s['math']\n",
        "    mean = total / 3\n",
        "    print(f\"번호: {s['id']}, 이름: {s['name']}, 총점: {total}, 평균: {mean}\")"
      ],
      "metadata": {
        "colab": {
          "base_uri": "https://localhost:8080/"
        },
        "id": "A-PE2phtyuEN",
        "outputId": "812755f1-3745-4f56-f95d-7adb55a90652"
      },
      "execution_count": null,
      "outputs": [
        {
          "output_type": "stream",
          "name": "stdout",
          "text": [
            "번호: 1, 이름: 홍길동, 총점: 275, 평균: 91.66666666666667\n",
            "번호: 2, 이름: 오쌤, 총점: 156, 평균: 52.0\n",
            "번호: 3, 이름: Scott, 총점: 247, 평균: 82.33333333333333\n"
          ]
        }
      ]
    },
    {
      "cell_type": "markdown",
      "source": [
        "위 코드의 문제점은 dict의 키는 중복되지만 않게 만들면 되기 때문에, 반복문에서 총점과 평균을 계산하는 코드가 제대로 동작하지 않을 수도 있음."
      ],
      "metadata": {
        "id": "MHhG3y6E2IiR"
      }
    },
    {
      "cell_type": "markdown",
      "source": [
        "## 함수형 프로그래밍(Functional Programming)"
      ],
      "metadata": {
        "id": "vELCaAO83W0h"
      }
    },
    {
      "cell_type": "code",
      "source": [
        "def create_student(id, name, korean, english, math):\n",
        "    student = {\n",
        "        'id': id,\n",
        "        'name': name,\n",
        "        'korean': korean,\n",
        "        'english': english,\n",
        "        'math': math\n",
        "    }\n",
        "\n",
        "    return student"
      ],
      "metadata": {
        "id": "22YmUInu1-x7"
      },
      "execution_count": null,
      "outputs": []
    },
    {
      "cell_type": "code",
      "source": [
        "students = [\n",
        "    create_student(1, '홍길동', 100, 95, 98),\n",
        "    create_student(2, '오쌤', 50, 45, 39),\n",
        "    create_student(3, 'Scott', 88, 99, 75)\n",
        "]\n",
        "students"
      ],
      "metadata": {
        "colab": {
          "base_uri": "https://localhost:8080/"
        },
        "id": "vpcy01FH7b3A",
        "outputId": "6b7c7d56-37e2-48e9-b16f-376547eae836"
      },
      "execution_count": null,
      "outputs": [
        {
          "output_type": "execute_result",
          "data": {
            "text/plain": [
              "[{'id': 1, 'name': '홍길동', 'korean': 100, 'english': 95, 'math': 98},\n",
              " {'id': 2, 'name': '오쌤', 'korean': 50, 'english': 45, 'math': 39},\n",
              " {'id': 3, 'name': 'Scott', 'korean': 88, 'english': 99, 'math': 75}]"
            ]
          },
          "metadata": {},
          "execution_count": 4
        }
      ]
    },
    {
      "cell_type": "code",
      "source": [
        "def get_total(student):\n",
        "    return student['korean'] + student['english'] + student['math']"
      ],
      "metadata": {
        "id": "fSB01_Y68CKo"
      },
      "execution_count": null,
      "outputs": []
    },
    {
      "cell_type": "code",
      "source": [
        "def get_mean(student):\n",
        "    return get_total(student) / 3"
      ],
      "metadata": {
        "id": "fLXa_bvq8arQ"
      },
      "execution_count": null,
      "outputs": []
    },
    {
      "cell_type": "code",
      "source": [
        "for s in students:\n",
        "    total = get_total(s)\n",
        "    mean = get_mean(s)\n",
        "    print(f\"번호: {s['id']}, 이름: {s['name']}, 총점: {total}, 평균: {mean}\")"
      ],
      "metadata": {
        "colab": {
          "base_uri": "https://localhost:8080/"
        },
        "id": "aCJ6BHaK8qno",
        "outputId": "bf27e81f-2962-41e7-b24f-ac1184daa077"
      },
      "execution_count": null,
      "outputs": [
        {
          "output_type": "stream",
          "name": "stdout",
          "text": [
            "번호: 1, 이름: 홍길동, 총점: 293, 평균: 97.66666666666667\n",
            "번호: 2, 이름: 오쌤, 총점: 134, 평균: 44.666666666666664\n",
            "번호: 3, 이름: Scott, 총점: 262, 평균: 87.33333333333333\n"
          ]
        }
      ]
    },
    {
      "cell_type": "markdown",
      "source": [
        "get_total 함수와 get_mean 함수는 학생 객체(dict)의 데이터와 매우 밀접합 관계를 가지고 있음.\n",
        "\n",
        "데이터(국어, 영어, 수학 점수)와 기능(총점 계산, 평균 계산)이 매우 밀접하게 연결되어 있음.\n",
        "\n",
        "데이터와 기능을 하나의 자료 타입으로 묶을 수 없을까?"
      ],
      "metadata": {
        "id": "jRnk338G9elv"
      }
    },
    {
      "cell_type": "markdown",
      "source": [
        "## 객체 지향 프로그래밍(OOP: Object-Oriented Programming)"
      ],
      "metadata": {
        "id": "6HSCfxUK-2v0"
      }
    },
    {
      "cell_type": "markdown",
      "source": [
        "*   객체(object): 속성을 가지고 대상.\n",
        "*   클래스(class): 객체를 만들기 위한 설계도(코드).\n",
        "    *   속성(property): 객체가 가져야 하는 값(들). 변수.\n",
        "    *   기능(method): 클래스 안에서 선언하는 함수.\n",
        "        *   메서드를 선언할 때 첫번째 아규먼트는 self.\n",
        "*   인스턴스(instance): 메모리에 생성된 객체.\n",
        "*   생성자(constructor): 클래스 이름과 동일한 함수. 객체를 생성해 주는 함수.\n",
        "    *   파이썬에서는 생성자를 호출하면 클래스에서 선언한 `__init__()` 메서드를 호출함."
      ],
      "metadata": {
        "id": "SM2E5tmwoIVI"
      }
    },
    {
      "cell_type": "code",
      "source": [
        "class Student:\n",
        "    # 생성자: 객체 초기화\n",
        "    def __init__(self, id, name, korean, english, math):\n",
        "        self.id = id\n",
        "        self.name = name\n",
        "        self.korean = korean\n",
        "        self.english = english\n",
        "        self.math = math\n",
        "\n",
        "    # 메서드(method)\n",
        "    def get_total(self):\n",
        "        return self.korean + self.english + self.math\n",
        "\n",
        "    def get_mean(self):\n",
        "        return self.get_total() / 3"
      ],
      "metadata": {
        "id": "K3N24ufj_Cq0"
      },
      "execution_count": null,
      "outputs": []
    },
    {
      "cell_type": "code",
      "source": [
        "student1 = Student(1, '홍길동', 100, 98, 96)  # 생성자 호출 -> __init__ 메서드 호출.\n",
        "print(student1)\n",
        "print(student1.id)\n",
        "print(student1.name)\n",
        "print(student1.korean)\n",
        "print(student1.get_total())\n",
        "print(student1.get_mean())"
      ],
      "metadata": {
        "colab": {
          "base_uri": "https://localhost:8080/"
        },
        "id": "zPlAeawfAjLN",
        "outputId": "57a64fcf-cc06-48f4-9d22-822847eed5fe"
      },
      "execution_count": null,
      "outputs": [
        {
          "output_type": "stream",
          "name": "stdout",
          "text": [
            "<__main__.Student object at 0x7c25e9f76890>\n",
            "1\n",
            "홍길동\n",
            "100\n",
            "294\n",
            "98.0\n"
          ]
        }
      ]
    },
    {
      "cell_type": "code",
      "source": [
        "students = [\n",
        "    Student(1, '홍길동', 100, 98, 96),\n",
        "    Student(2, '오쌤', 55, 65, 77),\n",
        "    Student(3, 'Scott', 88, 99, 86)\n",
        "]\n",
        "students"
      ],
      "metadata": {
        "colab": {
          "base_uri": "https://localhost:8080/"
        },
        "id": "XVLms0xECA1z",
        "outputId": "eaeb85fb-cadf-4ce0-81c9-ab8fdd0c2c8e"
      },
      "execution_count": null,
      "outputs": [
        {
          "output_type": "execute_result",
          "data": {
            "text/plain": [
              "[<__main__.Student at 0x7c25e9f76210>,\n",
              " <__main__.Student at 0x7c25e9f76bd0>,\n",
              " <__main__.Student at 0x7c25e9f76b50>]"
            ]
          },
          "metadata": {},
          "execution_count": 10
        }
      ]
    },
    {
      "cell_type": "code",
      "source": [
        "for s in students:\n",
        "    print(f'번호: {s.id}, 이름: {s.name}, 총점: {s.get_total()}, 평균: {s.get_mean()}')"
      ],
      "metadata": {
        "colab": {
          "base_uri": "https://localhost:8080/"
        },
        "id": "Wykak2xeCTm7",
        "outputId": "184caf94-a6b6-49e9-a6a0-1769c5239611"
      },
      "execution_count": null,
      "outputs": [
        {
          "output_type": "stream",
          "name": "stdout",
          "text": [
            "번호: 1, 이름: 홍길동, 총점: 294, 평균: 98.0\n",
            "번호: 2, 이름: 오쌤, 총점: 197, 평균: 65.66666666666667\n",
            "번호: 3, 이름: Scott, 총점: 273, 평균: 91.0\n"
          ]
        }
      ]
    },
    {
      "cell_type": "markdown",
      "source": [
        "# 클래스 연습"
      ],
      "metadata": {
        "id": "s5_8bsE1zetL"
      }
    },
    {
      "cell_type": "markdown",
      "source": [
        "## Ex 1.\n",
        "\n",
        "원(Circle) 클래스\n",
        "*   기능: 넓이(area), 둘레길이(perimeter)\n",
        "*   속성: 반지름(radius)"
      ],
      "metadata": {
        "id": "IVy0Or_-6ZMo"
      }
    },
    {
      "cell_type": "code",
      "source": [
        "class Circle:\n",
        "    # 객체 초기화 - 생성자\n",
        "    def __init__(self, radius):\n",
        "        self.radius = radius\n",
        "\n",
        "    # 메서드(클래스의 함수)\n",
        "    def area(self):\n",
        "        return 3.14 * self.radius ** 2\n",
        "\n",
        "    def perimeter(self):\n",
        "        return 2 * 3.14 * self.radius"
      ],
      "metadata": {
        "id": "ctjxhDnDziPa"
      },
      "execution_count": null,
      "outputs": []
    },
    {
      "cell_type": "code",
      "source": [
        "c1 = Circle(1)  # 생성자 호출 -> 객체 생성 & 초기화\n",
        "print(c1)\n",
        "print(c1.radius)\n",
        "print(c1.area())\n",
        "print(c1.perimeter())"
      ],
      "metadata": {
        "colab": {
          "base_uri": "https://localhost:8080/"
        },
        "id": "j_gh6jq52JUC",
        "outputId": "ae883107-553e-4ec7-9337-fb21527a2bca"
      },
      "execution_count": null,
      "outputs": [
        {
          "output_type": "stream",
          "name": "stdout",
          "text": [
            "<__main__.Circle object at 0x7c25be0dea50>\n",
            "1\n",
            "3.14\n",
            "6.28\n"
          ]
        }
      ]
    },
    {
      "cell_type": "code",
      "source": [
        "c2 = Circle(10)\n",
        "print(c2)\n",
        "print(c2.radius)\n",
        "print(c2.area())\n",
        "print(c2.perimeter())"
      ],
      "metadata": {
        "colab": {
          "base_uri": "https://localhost:8080/"
        },
        "id": "fhWFzJCg4lKP",
        "outputId": "548d83d5-59d5-4eaa-829a-ef8aa15a4954"
      },
      "execution_count": null,
      "outputs": [
        {
          "output_type": "stream",
          "name": "stdout",
          "text": [
            "<__main__.Circle object at 0x7c25be2c3110>\n",
            "10\n",
            "314.0\n",
            "62.800000000000004\n"
          ]
        }
      ]
    },
    {
      "cell_type": "markdown",
      "source": [
        "## Ex 2.\n",
        "\n",
        "직사각형(Rectangle) 클래스\n",
        "*   기능: 넓이(area), 둘레길이(perimeter), 크기변경(resize)\n",
        "*   속성: 가로(width), 세로(height)"
      ],
      "metadata": {
        "id": "hqAXqWUx6c_2"
      }
    },
    {
      "cell_type": "code",
      "source": [
        "class Rectangle:\n",
        "    def __init__(self, width=0, height=0):\n",
        "        self.width = width\n",
        "        self.height = height\n",
        "\n",
        "    def area(self):\n",
        "        return self.width * self.height\n",
        "\n",
        "    def perimeter(self):\n",
        "        return 2 * (self.width + self.height)\n",
        "\n",
        "    def resize(self, new_width, new_height):\n",
        "        self.width = new_width\n",
        "        self.height = new_height"
      ],
      "metadata": {
        "id": "eQUDqyFx_48H"
      },
      "execution_count": null,
      "outputs": []
    },
    {
      "cell_type": "code",
      "source": [
        "rect1 = Rectangle(4, 3)\n",
        "print(rect1)\n",
        "print(f'가로 = {rect1.width}, 세로 = {rect1.height}')\n",
        "print(f'넓이 = {rect1.area()}, 둘레 = {rect1.perimeter()}')"
      ],
      "metadata": {
        "colab": {
          "base_uri": "https://localhost:8080/"
        },
        "id": "zypyO4OdA0hD",
        "outputId": "392152a9-b71b-4934-8f28-309648b60333"
      },
      "execution_count": null,
      "outputs": [
        {
          "output_type": "stream",
          "name": "stdout",
          "text": [
            "<__main__.Rectangle object at 0x7c25be02f890>\n",
            "가로 = 4, 세로 = 3\n",
            "넓이 = 12, 둘레 = 14\n"
          ]
        }
      ]
    },
    {
      "cell_type": "code",
      "source": [
        "rect2 = Rectangle(3, 6)\n",
        "print(rect2)\n",
        "print(f'가로 = {rect2.width}, 세로 = {rect2.height}')\n",
        "print(f'넓이 = {rect2.area()}, 둘레 = {rect2.perimeter()}')"
      ],
      "metadata": {
        "colab": {
          "base_uri": "https://localhost:8080/"
        },
        "id": "jNLfyQlkCw7i",
        "outputId": "9eede290-cb4f-45e2-b95d-97e2f97cd197"
      },
      "execution_count": null,
      "outputs": [
        {
          "output_type": "stream",
          "name": "stdout",
          "text": [
            "<__main__.Rectangle object at 0x7c25be02f990>\n",
            "가로 = 3, 세로 = 6\n",
            "넓이 = 18, 둘레 = 18\n"
          ]
        }
      ]
    },
    {
      "cell_type": "code",
      "source": [
        "rect3 = Rectangle()  # __init__ 메서드에서 default argument가 설정되어 있는 경우.\n",
        "print(f'가로 = {rect3.width}, 세로 = {rect3.height}')"
      ],
      "metadata": {
        "colab": {
          "base_uri": "https://localhost:8080/"
        },
        "id": "BIKJjKUxFwMQ",
        "outputId": "00decca1-ee46-412a-af7a-a47bb97cfcdf"
      },
      "execution_count": null,
      "outputs": [
        {
          "output_type": "stream",
          "name": "stdout",
          "text": [
            "가로 = 0, 세로 = 0\n"
          ]
        }
      ]
    },
    {
      "cell_type": "code",
      "source": [
        "rect4 = Rectangle(height=10)\n",
        "print(f'가로 = {rect4.width}, 세로 = {rect4.height}')"
      ],
      "metadata": {
        "colab": {
          "base_uri": "https://localhost:8080/"
        },
        "id": "CING5S3fGX96",
        "outputId": "5286354a-784d-4ab8-eed6-79e03f1dd65a"
      },
      "execution_count": null,
      "outputs": [
        {
          "output_type": "stream",
          "name": "stdout",
          "text": [
            "가로 = 0, 세로 = 10\n"
          ]
        }
      ]
    },
    {
      "cell_type": "code",
      "source": [
        "rect4.resize(5, 12)\n",
        "print(f'가로 = {rect4.width}, 세로 = {rect4.height}')\n",
        "print(f'넓이 = {rect4.area()}, 둘레 = {rect4.perimeter()}')"
      ],
      "metadata": {
        "colab": {
          "base_uri": "https://localhost:8080/"
        },
        "id": "9Fd1w5DNH4Cv",
        "outputId": "2c9eac02-75d9-422b-fecd-0fb67eb69b95"
      },
      "execution_count": null,
      "outputs": [
        {
          "output_type": "stream",
          "name": "stdout",
          "text": [
            "가로 = 5, 세로 = 12\n",
            "넓이 = 60, 둘레 = 34\n"
          ]
        }
      ]
    },
    {
      "cell_type": "markdown",
      "source": [
        "## Ex 3.\n",
        "\n",
        "점(Point) 클래스: 2차원 평면의 한 점의 좌표를 표현하는 객체.\n",
        "*   속성\n",
        "    *   x: 점의 x좌표\n",
        "    *   y: 점의 y좌표\n",
        "*   기능\n",
        "    *   이동(move): 점의 위치를 원래 위치에서 x축 방향으로 dx만큼, y축 방향으로 dy만큼 이동.\n",
        "    *   두 점 간의 거리(distance): ((x1 - x2) ** 2 + (y1 - y2) ** 2) ** 0.5"
      ],
      "metadata": {
        "id": "lWVphCjLaLz8"
      }
    },
    {
      "cell_type": "code",
      "source": [
        "class Point:\n",
        "    \"\"\"2차원 평면에서 한 점의 좌표(x, y)를 표현하는 클래스.\"\"\"\n",
        "\n",
        "    def __init__(self, x=0, y=0):\n",
        "        self.x = x\n",
        "        self.y = y\n",
        "\n",
        "    def move(self, dx, dy):\n",
        "        \"\"\"점의 위치를 x축의 방향으로 dx만큼, y축의 방향으로 dy만큼 이동.\"\"\"\n",
        "        self.x += dx  # self.x = self.x + dx\n",
        "        self.y += dy\n",
        "\n",
        "    def distance(self, other):\n",
        "        \"\"\"현재 점(self)과 다른 점(other) 사이의 거리를 리턴.\"\"\"\n",
        "        return ((self.x - other.x) ** 2 + (self.y - other.y) ** 2) ** 0.5"
      ],
      "metadata": {
        "id": "hGZ1dBKcbkZ2"
      },
      "execution_count": null,
      "outputs": []
    },
    {
      "cell_type": "code",
      "source": [
        "p1 = Point()\n",
        "print(f'p1 (x={p1.x}, y={p1.y})')"
      ],
      "metadata": {
        "colab": {
          "base_uri": "https://localhost:8080/"
        },
        "id": "g6ZRLdYKjP-w",
        "outputId": "a51ec0fc-ae88-4f21-9dcd-68ec6b77c05f"
      },
      "execution_count": null,
      "outputs": [
        {
          "output_type": "stream",
          "name": "stdout",
          "text": [
            "p1 (x=0, y=0)\n"
          ]
        }
      ]
    },
    {
      "cell_type": "code",
      "source": [
        "p1.move(1, 2)\n",
        "print(f'p1 (x={p1.x}, y={p1.y})')"
      ],
      "metadata": {
        "colab": {
          "base_uri": "https://localhost:8080/"
        },
        "id": "KA9IescCkK8v",
        "outputId": "994c3b3f-bb72-46ca-ae4e-4d0f9e49bb04"
      },
      "execution_count": null,
      "outputs": [
        {
          "output_type": "stream",
          "name": "stdout",
          "text": [
            "p1 (x=1, y=2)\n"
          ]
        }
      ]
    },
    {
      "cell_type": "code",
      "source": [
        "p2 = Point(-1, 2)\n",
        "print(f'p2 (x={p2.x}, y={p2.y})')"
      ],
      "metadata": {
        "colab": {
          "base_uri": "https://localhost:8080/"
        },
        "id": "2wBkNwgNlG4h",
        "outputId": "d664af32-80f1-45d7-aaf7-c2d61eb319fd"
      },
      "execution_count": null,
      "outputs": [
        {
          "output_type": "stream",
          "name": "stdout",
          "text": [
            "p2 (x=-1, y=2)\n"
          ]
        }
      ]
    },
    {
      "cell_type": "code",
      "source": [
        "d = p1.distance(p2)\n",
        "print(d)"
      ],
      "metadata": {
        "colab": {
          "base_uri": "https://localhost:8080/"
        },
        "id": "n8eBrpjDl36Q",
        "outputId": "c0ea60bb-dc80-4ea2-bce9-4e75d8ba5c3e"
      },
      "execution_count": null,
      "outputs": [
        {
          "output_type": "stream",
          "name": "stdout",
          "text": [
            "2.0\n"
          ]
        }
      ]
    },
    {
      "cell_type": "code",
      "source": [
        "p2.move(1, -1)\n",
        "print(f'p2 (x={p2.x}, y={p2.y})')\n",
        "print(p1.distance(p2))"
      ],
      "metadata": {
        "colab": {
          "base_uri": "https://localhost:8080/"
        },
        "id": "33Wwk1eSnQN5",
        "outputId": "b9460c50-1c48-48ce-bed1-43dc84c9543e"
      },
      "execution_count": null,
      "outputs": [
        {
          "output_type": "stream",
          "name": "stdout",
          "text": [
            "p2 (x=0, y=1)\n",
            "1.4142135623730951\n"
          ]
        }
      ]
    },
    {
      "cell_type": "code",
      "source": [
        "dir(p2)"
      ],
      "metadata": {
        "colab": {
          "base_uri": "https://localhost:8080/"
        },
        "id": "dMETgw4qySXY",
        "outputId": "a9042f1c-1154-46a4-8884-ab18c15979f5"
      },
      "execution_count": null,
      "outputs": [
        {
          "output_type": "execute_result",
          "data": {
            "text/plain": [
              "['__class__',\n",
              " '__delattr__',\n",
              " '__dict__',\n",
              " '__dir__',\n",
              " '__doc__',\n",
              " '__eq__',\n",
              " '__format__',\n",
              " '__ge__',\n",
              " '__getattribute__',\n",
              " '__getstate__',\n",
              " '__gt__',\n",
              " '__hash__',\n",
              " '__init__',\n",
              " '__init_subclass__',\n",
              " '__le__',\n",
              " '__lt__',\n",
              " '__module__',\n",
              " '__ne__',\n",
              " '__new__',\n",
              " '__reduce__',\n",
              " '__reduce_ex__',\n",
              " '__repr__',\n",
              " '__setattr__',\n",
              " '__sizeof__',\n",
              " '__str__',\n",
              " '__subclasshook__',\n",
              " '__weakref__',\n",
              " 'distance',\n",
              " 'move',\n",
              " 'x',\n",
              " 'y']"
            ]
          },
          "metadata": {},
          "execution_count": 55
        }
      ]
    },
    {
      "cell_type": "code",
      "source": [
        "print(p2)"
      ],
      "metadata": {
        "colab": {
          "base_uri": "https://localhost:8080/"
        },
        "id": "7AlurNRWvS6S",
        "outputId": "c4376ce4-c2dc-4772-dc65-789663847ddf"
      },
      "execution_count": null,
      "outputs": [
        {
          "output_type": "stream",
          "name": "stdout",
          "text": [
            "<__main__.Point object at 0x7c25be8c3590>\n"
          ]
        }
      ]
    },
    {
      "cell_type": "code",
      "source": [
        "p2"
      ],
      "metadata": {
        "colab": {
          "base_uri": "https://localhost:8080/"
        },
        "id": "1PXK1LXYvUgE",
        "outputId": "2bb25a00-d2f7-4aca-813d-e0b857ef675c"
      },
      "execution_count": null,
      "outputs": [
        {
          "output_type": "execute_result",
          "data": {
            "text/plain": [
              "<__main__.Point at 0x7c25be8c3590>"
            ]
          },
          "metadata": {},
          "execution_count": 46
        }
      ]
    },
    {
      "cell_type": "code",
      "source": [
        "my_list = [1, 2, 3]"
      ],
      "metadata": {
        "id": "UtzmKf03vjdq"
      },
      "execution_count": null,
      "outputs": []
    },
    {
      "cell_type": "code",
      "source": [
        "print(my_list)"
      ],
      "metadata": {
        "colab": {
          "base_uri": "https://localhost:8080/"
        },
        "id": "rzfBiUFnvowZ",
        "outputId": "19b6bf82-31ae-4d37-b7b7-1abbdaa5bcc4"
      },
      "execution_count": null,
      "outputs": [
        {
          "output_type": "stream",
          "name": "stdout",
          "text": [
            "[1, 2, 3]\n"
          ]
        }
      ]
    },
    {
      "cell_type": "code",
      "source": [
        "my_list"
      ],
      "metadata": {
        "colab": {
          "base_uri": "https://localhost:8080/"
        },
        "id": "jlyd5jPlvp5h",
        "outputId": "060f42d3-c1c1-439f-a76d-4c3e04e46a68"
      },
      "execution_count": null,
      "outputs": [
        {
          "output_type": "execute_result",
          "data": {
            "text/plain": [
              "[1, 2, 3]"
            ]
          },
          "metadata": {},
          "execution_count": 49
        }
      ]
    },
    {
      "cell_type": "markdown",
      "source": [
        "# class magic method"
      ],
      "metadata": {
        "id": "maBk0gbkv8eB"
      }
    },
    {
      "cell_type": "code",
      "source": [
        "class Person:\n",
        "    def __init__(self, name, age):\n",
        "        self.name = name\n",
        "        self.age = age\n",
        "\n",
        "    def __str__(self):\n",
        "        return f'Person(name={self.name}, age={self.age})'\n",
        "\n",
        "    def __repr__(self):\n",
        "        return f'사람(이름={self.name}, 나이={self.age})'"
      ],
      "metadata": {
        "id": "BgUgoxhEvq5g"
      },
      "execution_count": null,
      "outputs": []
    },
    {
      "cell_type": "code",
      "source": [
        "p1 = Person('홍길동', 16)  # 객체 생성"
      ],
      "metadata": {
        "id": "NQpgWK5PwQMB"
      },
      "execution_count": null,
      "outputs": []
    },
    {
      "cell_type": "code",
      "source": [
        "print(p1)  # print 함수 호출 문장\n",
        "#> print(obj) 함수는 obj(객체)의 __str__ 메서드가 리턴해 주는 문자열을 콘솔 창에 출력."
      ],
      "metadata": {
        "colab": {
          "base_uri": "https://localhost:8080/"
        },
        "id": "p4Drd3tIwgjA",
        "outputId": "c79828ff-23bd-42d0-b940-1182f8d9970f"
      },
      "execution_count": null,
      "outputs": [
        {
          "output_type": "stream",
          "name": "stdout",
          "text": [
            "Person(name=홍길동, age=16)\n"
          ]
        }
      ]
    },
    {
      "cell_type": "markdown",
      "source": [
        "print(object) 함수의 동작 원리\n",
        "*   object에 `__str__` 메서드가 있으면, `__str__` 메서드가 리턴하는 문자열을 출력.\n",
        "*   object에 `__str__` 메서드가 없으면, `__repr__` 메서드가 리턴하는 문자열을 출력.\n",
        "*   object에 `__str__`, `__repr__` 메서드들이 없으면, \"ClassName Object at 0x......\" 형식의 문자열을 출력."
      ],
      "metadata": {
        "id": "o-wUSY_p1f8v"
      }
    },
    {
      "cell_type": "code",
      "source": [
        "p1  # 코드 셀에서 가장 마지막 줄에 있는 변수, 식(exression) -> 자동 출력\n",
        "#> 식(expression)은 객체의 __repr__ 메서드가 리턴해 주는 문자열이 콘솔 창에 출력됨."
      ],
      "metadata": {
        "colab": {
          "base_uri": "https://localhost:8080/"
        },
        "id": "298V__JuxLFR",
        "outputId": "79812083-3f62-4bdc-92cc-430cbed79581"
      },
      "execution_count": null,
      "outputs": [
        {
          "output_type": "execute_result",
          "data": {
            "text/plain": [
              "사람(이름=홍길동, 나이=16)"
            ]
          },
          "metadata": {},
          "execution_count": 72
        }
      ]
    },
    {
      "cell_type": "code",
      "source": [
        "dir(p1)  #> 객체가 가지고 있는 속성들(변수 이름, 메서드 이름)을 리턴."
      ],
      "metadata": {
        "colab": {
          "base_uri": "https://localhost:8080/"
        },
        "id": "JdiPC9orx5jK",
        "outputId": "0218b593-e1a6-4477-de72-550fc6fc9d61"
      },
      "execution_count": null,
      "outputs": [
        {
          "output_type": "execute_result",
          "data": {
            "text/plain": [
              "['__class__',\n",
              " '__delattr__',\n",
              " '__dict__',\n",
              " '__dir__',\n",
              " '__doc__',\n",
              " '__eq__',\n",
              " '__format__',\n",
              " '__ge__',\n",
              " '__getattribute__',\n",
              " '__getstate__',\n",
              " '__gt__',\n",
              " '__hash__',\n",
              " '__init__',\n",
              " '__init_subclass__',\n",
              " '__le__',\n",
              " '__lt__',\n",
              " '__module__',\n",
              " '__ne__',\n",
              " '__new__',\n",
              " '__reduce__',\n",
              " '__reduce_ex__',\n",
              " '__repr__',\n",
              " '__setattr__',\n",
              " '__sizeof__',\n",
              " '__str__',\n",
              " '__subclasshook__',\n",
              " '__weakref__',\n",
              " 'age',\n",
              " 'name']"
            ]
          },
          "metadata": {},
          "execution_count": 73
        }
      ]
    },
    {
      "cell_type": "code",
      "source": [
        "class MyClass:\n",
        "    pass"
      ],
      "metadata": {
        "id": "rm8xyEMBvx14"
      },
      "execution_count": null,
      "outputs": []
    },
    {
      "cell_type": "code",
      "source": [
        "my = MyClass()"
      ],
      "metadata": {
        "id": "4l5xMN6pv0Iz"
      },
      "execution_count": null,
      "outputs": []
    },
    {
      "cell_type": "code",
      "source": [
        "print(my)"
      ],
      "metadata": {
        "colab": {
          "base_uri": "https://localhost:8080/"
        },
        "id": "i2CT7fNhv-QS",
        "outputId": "cba0b3bb-0a35-40ac-dc4e-7afc30df7a54"
      },
      "execution_count": null,
      "outputs": [
        {
          "output_type": "stream",
          "name": "stdout",
          "text": [
            "<__main__.MyClass object at 0x7ad68ef43090>\n"
          ]
        }
      ]
    },
    {
      "cell_type": "code",
      "source": [
        "my"
      ],
      "metadata": {
        "colab": {
          "base_uri": "https://localhost:8080/"
        },
        "id": "3rLXQ59Hv_tR",
        "outputId": "54e621bc-282c-450b-a7f4-567ddbf67a26"
      },
      "execution_count": null,
      "outputs": [
        {
          "output_type": "execute_result",
          "data": {
            "text/plain": [
              "<__main__.MyClass at 0x7ad68ef43090>"
            ]
          },
          "metadata": {},
          "execution_count": 4
        }
      ]
    },
    {
      "cell_type": "code",
      "source": [
        "dir(my)"
      ],
      "metadata": {
        "colab": {
          "base_uri": "https://localhost:8080/"
        },
        "id": "Lir2xuDSwFi5",
        "outputId": "029fcc6c-bb27-47ba-fa35-9af3aacda216"
      },
      "execution_count": null,
      "outputs": [
        {
          "output_type": "execute_result",
          "data": {
            "text/plain": [
              "['__class__',\n",
              " '__delattr__',\n",
              " '__dict__',\n",
              " '__dir__',\n",
              " '__doc__',\n",
              " '__eq__',\n",
              " '__format__',\n",
              " '__ge__',\n",
              " '__getattribute__',\n",
              " '__getstate__',\n",
              " '__gt__',\n",
              " '__hash__',\n",
              " '__init__',\n",
              " '__init_subclass__',\n",
              " '__le__',\n",
              " '__lt__',\n",
              " '__module__',\n",
              " '__ne__',\n",
              " '__new__',\n",
              " '__reduce__',\n",
              " '__reduce_ex__',\n",
              " '__repr__',\n",
              " '__setattr__',\n",
              " '__sizeof__',\n",
              " '__str__',\n",
              " '__subclasshook__',\n",
              " '__weakref__']"
            ]
          },
          "metadata": {},
          "execution_count": 5
        }
      ]
    },
    {
      "cell_type": "code",
      "source": [
        "my_list = list()\n",
        "print(my_list)\n",
        "my_list"
      ],
      "metadata": {
        "colab": {
          "base_uri": "https://localhost:8080/"
        },
        "id": "n_c52V2FwJ2p",
        "outputId": "7112e60d-8c23-4d74-89af-5d0311eb5cfe"
      },
      "execution_count": null,
      "outputs": [
        {
          "output_type": "stream",
          "name": "stdout",
          "text": [
            "[]\n"
          ]
        },
        {
          "output_type": "execute_result",
          "data": {
            "text/plain": [
              "[]"
            ]
          },
          "metadata": {},
          "execution_count": 7
        }
      ]
    }
  ]
}