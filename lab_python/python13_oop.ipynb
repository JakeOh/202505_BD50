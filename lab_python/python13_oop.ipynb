{
  "nbformat": 4,
  "nbformat_minor": 0,
  "metadata": {
    "colab": {
      "provenance": [],
      "toc_visible": true,
      "authorship_tag": "ABX9TyP0oAqZxFmAgwpL2OyGfJRJ",
      "include_colab_link": true
    },
    "kernelspec": {
      "name": "python3",
      "display_name": "Python 3"
    },
    "language_info": {
      "name": "python"
    }
  },
  "cells": [
    {
      "cell_type": "markdown",
      "metadata": {
        "id": "view-in-github",
        "colab_type": "text"
      },
      "source": [
        "<a href=\"https://colab.research.google.com/github/JakeOh/202505_BD50/blob/main/lab_python/python13_oop.ipynb\" target=\"_parent\"><img src=\"https://colab.research.google.com/assets/colab-badge.svg\" alt=\"Open In Colab\"/></a>"
      ]
    },
    {
      "cell_type": "markdown",
      "source": [
        "# 객체지향 프로그래밍 배경"
      ],
      "metadata": {
        "id": "nhDQ51jqxjVc"
      }
    },
    {
      "cell_type": "code",
      "execution_count": 1,
      "metadata": {
        "id": "nV1TW64Sxctu"
      },
      "outputs": [],
      "source": [
        "students = [\n",
        "    {'id': 1, 'name': '홍길동', 'korean': 100, 'english': 80, 'math': 95},\n",
        "    {'id': 2, 'name': '오쌤', 'korean': 50, 'english': 45, 'math': 61},\n",
        "    {'id': 3, 'name': 'Scott', 'korean': 70, 'english': 99, 'math': 78},\n",
        "]"
      ]
    },
    {
      "cell_type": "code",
      "source": [
        "# 번호, 이름, 총점, 평균을 출력\n",
        "for s in students:\n",
        "    total = s['korean'] + s['english'] + s['math']\n",
        "    mean = total / 3\n",
        "    print(f\"번호: {s['id']}, 이름: {s['name']}, 총점: {total}, 평균: {mean}\")"
      ],
      "metadata": {
        "colab": {
          "base_uri": "https://localhost:8080/"
        },
        "id": "A-PE2phtyuEN",
        "outputId": "812755f1-3745-4f56-f95d-7adb55a90652"
      },
      "execution_count": 2,
      "outputs": [
        {
          "output_type": "stream",
          "name": "stdout",
          "text": [
            "번호: 1, 이름: 홍길동, 총점: 275, 평균: 91.66666666666667\n",
            "번호: 2, 이름: 오쌤, 총점: 156, 평균: 52.0\n",
            "번호: 3, 이름: Scott, 총점: 247, 평균: 82.33333333333333\n"
          ]
        }
      ]
    },
    {
      "cell_type": "markdown",
      "source": [
        "위 코드의 문제점은 dict의 키는 중복되지만 않게 만들면 되기 때문에, 반복문에서 총점과 평균을 계산하는 코드가 제대로 동작하지 않을 수도 있음."
      ],
      "metadata": {
        "id": "MHhG3y6E2IiR"
      }
    },
    {
      "cell_type": "markdown",
      "source": [
        "## 함수형 프로그래밍(Functional Programming)"
      ],
      "metadata": {
        "id": "vELCaAO83W0h"
      }
    },
    {
      "cell_type": "code",
      "source": [
        "def create_student(id, name, korean, english, math):\n",
        "    student = {\n",
        "        'id': id,\n",
        "        'name': name,\n",
        "        'korean': korean,\n",
        "        'english': english,\n",
        "        'math': math\n",
        "    }\n",
        "\n",
        "    return student"
      ],
      "metadata": {
        "id": "22YmUInu1-x7"
      },
      "execution_count": 3,
      "outputs": []
    },
    {
      "cell_type": "code",
      "source": [
        "students = [\n",
        "    create_student(1, '홍길동', 100, 95, 98),\n",
        "    create_student(2, '오쌤', 50, 45, 39),\n",
        "    create_student(3, 'Scott', 88, 99, 75)\n",
        "]\n",
        "students"
      ],
      "metadata": {
        "colab": {
          "base_uri": "https://localhost:8080/"
        },
        "id": "vpcy01FH7b3A",
        "outputId": "6b7c7d56-37e2-48e9-b16f-376547eae836"
      },
      "execution_count": 4,
      "outputs": [
        {
          "output_type": "execute_result",
          "data": {
            "text/plain": [
              "[{'id': 1, 'name': '홍길동', 'korean': 100, 'english': 95, 'math': 98},\n",
              " {'id': 2, 'name': '오쌤', 'korean': 50, 'english': 45, 'math': 39},\n",
              " {'id': 3, 'name': 'Scott', 'korean': 88, 'english': 99, 'math': 75}]"
            ]
          },
          "metadata": {},
          "execution_count": 4
        }
      ]
    },
    {
      "cell_type": "code",
      "source": [
        "def get_total(student):\n",
        "    return student['korean'] + student['english'] + student['math']"
      ],
      "metadata": {
        "id": "fSB01_Y68CKo"
      },
      "execution_count": 5,
      "outputs": []
    },
    {
      "cell_type": "code",
      "source": [
        "def get_mean(student):\n",
        "    return get_total(student) / 3"
      ],
      "metadata": {
        "id": "fLXa_bvq8arQ"
      },
      "execution_count": 6,
      "outputs": []
    },
    {
      "cell_type": "code",
      "source": [
        "for s in students:\n",
        "    total = get_total(s)\n",
        "    mean = get_mean(s)\n",
        "    print(f\"번호: {s['id']}, 이름: {s['name']}, 총점: {total}, 평균: {mean}\")"
      ],
      "metadata": {
        "colab": {
          "base_uri": "https://localhost:8080/"
        },
        "id": "aCJ6BHaK8qno",
        "outputId": "bf27e81f-2962-41e7-b24f-ac1184daa077"
      },
      "execution_count": 7,
      "outputs": [
        {
          "output_type": "stream",
          "name": "stdout",
          "text": [
            "번호: 1, 이름: 홍길동, 총점: 293, 평균: 97.66666666666667\n",
            "번호: 2, 이름: 오쌤, 총점: 134, 평균: 44.666666666666664\n",
            "번호: 3, 이름: Scott, 총점: 262, 평균: 87.33333333333333\n"
          ]
        }
      ]
    },
    {
      "cell_type": "markdown",
      "source": [
        "get_total 함수와 get_mean 함수는 학생 객체(dict)의 데이터와 매우 밀접합 관계를 가지고 있음.\n",
        "\n",
        "데이터(국어, 영어, 수학 점수)와 기능(총점 계산, 평균 계산)이 매우 밀접하게 연결되어 있음.\n",
        "\n",
        "데이터와 기능을 하나의 자료 타입으로 묶을 수 없을까?"
      ],
      "metadata": {
        "id": "jRnk338G9elv"
      }
    },
    {
      "cell_type": "markdown",
      "source": [
        "## 객체 지향 프로그래밍(OOP: Object-Oriented Programming)"
      ],
      "metadata": {
        "id": "6HSCfxUK-2v0"
      }
    },
    {
      "cell_type": "markdown",
      "source": [
        "*   객체(object): 속성을 가지고 대상.\n",
        "*   클래스(class): 객체를 만들기 위한 설계도(코드).\n",
        "    *   속성(property): 객체가 가져야 하는 값(들). 변수.\n",
        "    *   기능(method): 클래스 안에서 선언하는 함수.\n",
        "        *   메서드를 선언할 때 첫번째 아규먼트는 self.\n",
        "*   인스턴스(instance): 메모리에 생성된 객체.\n",
        "*   생성자(constructor): 클래스 이름과 동일한 함수. 객체를 생성해 주는 함수.\n",
        "    *   파이썬에서는 생성자를 호출하면 클래스에서 선언한 `__init__()` 메서드를 호출함."
      ],
      "metadata": {
        "id": "SM2E5tmwoIVI"
      }
    },
    {
      "cell_type": "code",
      "source": [
        "class Student:\n",
        "    # 생성자: 객체 초기화\n",
        "    def __init__(self, id, name, korean, english, math):\n",
        "        self.id = id\n",
        "        self.name = name\n",
        "        self.korean = korean\n",
        "        self.english = english\n",
        "        self.math = math\n",
        "\n",
        "    # 메서드(method)\n",
        "    def get_total(self):\n",
        "        return self.korean + self.english + self.math\n",
        "\n",
        "    def get_mean(self):\n",
        "        return self.get_total() / 3"
      ],
      "metadata": {
        "id": "K3N24ufj_Cq0"
      },
      "execution_count": 8,
      "outputs": []
    },
    {
      "cell_type": "code",
      "source": [
        "student1 = Student(1, '홍길동', 100, 98, 96)  # 생성자 호출 -> __init__ 메서드 호출.\n",
        "print(student1)\n",
        "print(student1.id)\n",
        "print(student1.name)\n",
        "print(student1.korean)\n",
        "print(student1.get_total())\n",
        "print(student1.get_mean())"
      ],
      "metadata": {
        "colab": {
          "base_uri": "https://localhost:8080/"
        },
        "id": "zPlAeawfAjLN",
        "outputId": "57a64fcf-cc06-48f4-9d22-822847eed5fe"
      },
      "execution_count": 9,
      "outputs": [
        {
          "output_type": "stream",
          "name": "stdout",
          "text": [
            "<__main__.Student object at 0x7c25e9f76890>\n",
            "1\n",
            "홍길동\n",
            "100\n",
            "294\n",
            "98.0\n"
          ]
        }
      ]
    },
    {
      "cell_type": "code",
      "source": [
        "students = [\n",
        "    Student(1, '홍길동', 100, 98, 96),\n",
        "    Student(2, '오쌤', 55, 65, 77),\n",
        "    Student(3, 'Scott', 88, 99, 86)\n",
        "]\n",
        "students"
      ],
      "metadata": {
        "colab": {
          "base_uri": "https://localhost:8080/"
        },
        "id": "XVLms0xECA1z",
        "outputId": "eaeb85fb-cadf-4ce0-81c9-ab8fdd0c2c8e"
      },
      "execution_count": 10,
      "outputs": [
        {
          "output_type": "execute_result",
          "data": {
            "text/plain": [
              "[<__main__.Student at 0x7c25e9f76210>,\n",
              " <__main__.Student at 0x7c25e9f76bd0>,\n",
              " <__main__.Student at 0x7c25e9f76b50>]"
            ]
          },
          "metadata": {},
          "execution_count": 10
        }
      ]
    },
    {
      "cell_type": "code",
      "source": [
        "for s in students:\n",
        "    print(f'번호: {s.id}, 이름: {s.name}, 총점: {s.get_total()}, 평균: {s.get_mean()}')"
      ],
      "metadata": {
        "colab": {
          "base_uri": "https://localhost:8080/"
        },
        "id": "Wykak2xeCTm7",
        "outputId": "184caf94-a6b6-49e9-a6a0-1769c5239611"
      },
      "execution_count": 11,
      "outputs": [
        {
          "output_type": "stream",
          "name": "stdout",
          "text": [
            "번호: 1, 이름: 홍길동, 총점: 294, 평균: 98.0\n",
            "번호: 2, 이름: 오쌤, 총점: 197, 평균: 65.66666666666667\n",
            "번호: 3, 이름: Scott, 총점: 273, 평균: 91.0\n"
          ]
        }
      ]
    }
  ]
}