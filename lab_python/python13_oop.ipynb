{
  "nbformat": 4,
  "nbformat_minor": 0,
  "metadata": {
    "colab": {
      "provenance": [],
      "toc_visible": true,
      "authorship_tag": "ABX9TyPvuatIMwq+KfAg2AYBYZyZ",
      "include_colab_link": true
    },
    "kernelspec": {
      "name": "python3",
      "display_name": "Python 3"
    },
    "language_info": {
      "name": "python"
    }
  },
  "cells": [
    {
      "cell_type": "markdown",
      "metadata": {
        "id": "view-in-github",
        "colab_type": "text"
      },
      "source": [
        "<a href=\"https://colab.research.google.com/github/JakeOh/202505_BD50/blob/main/lab_python/python13_oop.ipynb\" target=\"_parent\"><img src=\"https://colab.research.google.com/assets/colab-badge.svg\" alt=\"Open In Colab\"/></a>"
      ]
    },
    {
      "cell_type": "markdown",
      "source": [
        "# 객체지향 프로그래밍 배경"
      ],
      "metadata": {
        "id": "nhDQ51jqxjVc"
      }
    },
    {
      "cell_type": "code",
      "execution_count": 6,
      "metadata": {
        "id": "nV1TW64Sxctu"
      },
      "outputs": [],
      "source": [
        "students = [\n",
        "    {'id': 1, 'name': '홍길동', 'korean': 100, 'english': 80, 'math': 95},\n",
        "    {'id': 2, 'name': '오쌤', 'korean': 50, 'english': 45, 'math': 61},\n",
        "    {'id': 3, 'name': 'Scott', 'korean': 70, 'english': 99, 'math': 78},\n",
        "]"
      ]
    },
    {
      "cell_type": "code",
      "source": [
        "# 번호, 이름, 총점, 평균을 출력\n",
        "for s in students:\n",
        "    total = s['korean'] + s['english'] + s['math']\n",
        "    mean = total / 3\n",
        "    print(f\"번호: {s['id']}, 이름: {s['name']}, 총점: {total}, 평균: {mean}\")"
      ],
      "metadata": {
        "colab": {
          "base_uri": "https://localhost:8080/"
        },
        "id": "A-PE2phtyuEN",
        "outputId": "1cf5ece6-c407-4c22-e470-10018c6c7ef0"
      },
      "execution_count": 7,
      "outputs": [
        {
          "output_type": "stream",
          "name": "stdout",
          "text": [
            "번호: 1, 이름: 홍길동, 총점: 275, 평균: 91.66666666666667\n",
            "번호: 2, 이름: 오쌤, 총점: 156, 평균: 52.0\n",
            "번호: 3, 이름: Scott, 총점: 247, 평균: 82.33333333333333\n"
          ]
        }
      ]
    },
    {
      "cell_type": "markdown",
      "source": [
        "위 코드의 문제점은 dict의 키는 중복되지만 않게 만들면 되기 때문에, 반복문에서 총점과 평균을 계산하는 코드가 제대로 동작하지 않을 수도 있음."
      ],
      "metadata": {
        "id": "MHhG3y6E2IiR"
      }
    },
    {
      "cell_type": "markdown",
      "source": [
        "## 함수형 프로그래밍(Functional Programming)"
      ],
      "metadata": {
        "id": "vELCaAO83W0h"
      }
    },
    {
      "cell_type": "code",
      "source": [
        "def create_student(id, name, korean, english, math):\n",
        "    student = {\n",
        "        'id': id,\n",
        "        'name': name,\n",
        "        'korean': korean,\n",
        "        'english': english,\n",
        "        'math': math\n",
        "    }\n",
        "\n",
        "    return student"
      ],
      "metadata": {
        "id": "22YmUInu1-x7"
      },
      "execution_count": 8,
      "outputs": []
    },
    {
      "cell_type": "code",
      "source": [
        "students = [\n",
        "    create_student(1, '홍길동', 100, 95, 98),\n",
        "    create_student(2, '오쌤', 50, 45, 39),\n",
        "    create_student(3, 'Scott', 88, 99, 75)\n",
        "]\n",
        "students"
      ],
      "metadata": {
        "colab": {
          "base_uri": "https://localhost:8080/"
        },
        "id": "vpcy01FH7b3A",
        "outputId": "16d37464-669c-4ed3-8efe-e329c47b768a"
      },
      "execution_count": 9,
      "outputs": [
        {
          "output_type": "execute_result",
          "data": {
            "text/plain": [
              "[{'id': 1, 'name': '홍길동', 'korean': 100, 'english': 95, 'math': 98},\n",
              " {'id': 2, 'name': '오쌤', 'korean': 50, 'english': 45, 'math': 39},\n",
              " {'id': 3, 'name': 'Scott', 'korean': 88, 'english': 99, 'math': 75}]"
            ]
          },
          "metadata": {},
          "execution_count": 9
        }
      ]
    },
    {
      "cell_type": "code",
      "source": [
        "def get_total(student):\n",
        "    return student['korean'] + student['english'] + student['math']"
      ],
      "metadata": {
        "id": "fSB01_Y68CKo"
      },
      "execution_count": 10,
      "outputs": []
    },
    {
      "cell_type": "code",
      "source": [
        "def get_mean(student):\n",
        "    return get_total(student) / 3"
      ],
      "metadata": {
        "id": "fLXa_bvq8arQ"
      },
      "execution_count": 11,
      "outputs": []
    },
    {
      "cell_type": "code",
      "source": [
        "for s in students:\n",
        "    total = get_total(s)\n",
        "    mean = get_mean(s)\n",
        "    print(f\"번호: {s['id']}, 이름: {s['name']}, 총점: {total}, 평균: {mean}\")"
      ],
      "metadata": {
        "colab": {
          "base_uri": "https://localhost:8080/"
        },
        "id": "aCJ6BHaK8qno",
        "outputId": "4a57ea47-a9c2-46f7-fa30-3927418e0c41"
      },
      "execution_count": 12,
      "outputs": [
        {
          "output_type": "stream",
          "name": "stdout",
          "text": [
            "번호: 1, 이름: 홍길동, 총점: 293, 평균: 97.66666666666667\n",
            "번호: 2, 이름: 오쌤, 총점: 134, 평균: 44.666666666666664\n",
            "번호: 3, 이름: Scott, 총점: 262, 평균: 87.33333333333333\n"
          ]
        }
      ]
    },
    {
      "cell_type": "markdown",
      "source": [
        "get_total 함수와 get_mean 함수는 학생 객체(dict)의 데이터와 매우 밀접합 관계를 가지고 있음.\n",
        "\n",
        "데이터(국어, 영어, 수학 점수)와 기능(총점 계산, 평균 계산)이 매우 밀접하게 연결되어 있음.\n",
        "\n",
        "데이터와 기능을 하나의 자료 타입으로 묶을 수 없을까?"
      ],
      "metadata": {
        "id": "jRnk338G9elv"
      }
    },
    {
      "cell_type": "markdown",
      "source": [
        "## 객체 지향 프로그래밍(OOP: Object-Oriented Programming)"
      ],
      "metadata": {
        "id": "6HSCfxUK-2v0"
      }
    },
    {
      "cell_type": "code",
      "source": [
        "class Student:\n",
        "    # 생성자\n",
        "    def __init__(self, id, name, korean, english, math):\n",
        "        self.id = id\n",
        "        self.name = name\n",
        "        self.korean = korean\n",
        "        self.english = english\n",
        "        self.math = math\n",
        "\n",
        "    # 메서드(method)\n",
        "    def get_total(self):\n",
        "        return self.korean + self.english + self.math\n",
        "\n",
        "    def get_mean(self):\n",
        "        return self.get_total() / 3"
      ],
      "metadata": {
        "id": "K3N24ufj_Cq0"
      },
      "execution_count": 13,
      "outputs": []
    },
    {
      "cell_type": "code",
      "source": [
        "student1 = Student(1, '홍길동', 100, 98, 96)\n",
        "print(student1)\n",
        "print(student1.id)\n",
        "print(student1.name)\n",
        "print(student1.korean)\n",
        "print(student1.get_total())\n",
        "print(student1.get_mean())"
      ],
      "metadata": {
        "colab": {
          "base_uri": "https://localhost:8080/"
        },
        "id": "zPlAeawfAjLN",
        "outputId": "19ca0cd8-36ac-4fe8-bbcf-ff8121abf034"
      },
      "execution_count": 19,
      "outputs": [
        {
          "output_type": "stream",
          "name": "stdout",
          "text": [
            "<__main__.Student object at 0x7aa31c084f10>\n",
            "1\n",
            "홍길동\n",
            "100\n",
            "294\n",
            "98.0\n"
          ]
        }
      ]
    },
    {
      "cell_type": "code",
      "source": [
        "students = [\n",
        "    Student(1, '홍길동', 100, 98, 96),\n",
        "    Student(2, '오쌤', 55, 65, 77),\n",
        "    Student(3, 'Scott', 88, 99, 86)\n",
        "]\n",
        "students"
      ],
      "metadata": {
        "colab": {
          "base_uri": "https://localhost:8080/"
        },
        "id": "XVLms0xECA1z",
        "outputId": "e830df36-6fc3-4630-fe3f-4d879af8c3de"
      },
      "execution_count": 20,
      "outputs": [
        {
          "output_type": "execute_result",
          "data": {
            "text/plain": [
              "[<__main__.Student at 0x7aa364b29190>,\n",
              " <__main__.Student at 0x7aa31c379110>,\n",
              " <__main__.Student at 0x7aa31c086d10>]"
            ]
          },
          "metadata": {},
          "execution_count": 20
        }
      ]
    },
    {
      "cell_type": "code",
      "source": [
        "for s in students:\n",
        "    print(f'번호: {s.id}, 이름: {s.name}, 총점: {s.get_total()}, 평균: {s.get_mean()}')"
      ],
      "metadata": {
        "colab": {
          "base_uri": "https://localhost:8080/"
        },
        "id": "Wykak2xeCTm7",
        "outputId": "df03ae56-491e-482a-a88a-e2b8c4adbeee"
      },
      "execution_count": 21,
      "outputs": [
        {
          "output_type": "stream",
          "name": "stdout",
          "text": [
            "번호: 1, 이름: 홍길동, 총점: 294, 평균: 98.0\n",
            "번호: 2, 이름: 오쌤, 총점: 197, 평균: 65.66666666666667\n",
            "번호: 3, 이름: Scott, 총점: 273, 평균: 91.0\n"
          ]
        }
      ]
    }
  ]
}