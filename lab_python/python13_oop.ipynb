{
  "nbformat": 4,
  "nbformat_minor": 0,
  "metadata": {
    "colab": {
      "provenance": [],
      "toc_visible": true,
      "authorship_tag": "ABX9TyP+JZu7DzwdV3GoglVyPoXb",
      "include_colab_link": true
    },
    "kernelspec": {
      "name": "python3",
      "display_name": "Python 3"
    },
    "language_info": {
      "name": "python"
    }
  },
  "cells": [
    {
      "cell_type": "markdown",
      "metadata": {
        "id": "view-in-github",
        "colab_type": "text"
      },
      "source": [
        "<a href=\"https://colab.research.google.com/github/JakeOh/202505_BD50/blob/main/lab_python/python13_oop.ipynb\" target=\"_parent\"><img src=\"https://colab.research.google.com/assets/colab-badge.svg\" alt=\"Open In Colab\"/></a>"
      ]
    },
    {
      "cell_type": "markdown",
      "source": [
        "# 객체지향 프로그래밍 배경"
      ],
      "metadata": {
        "id": "nhDQ51jqxjVc"
      }
    },
    {
      "cell_type": "code",
      "execution_count": 6,
      "metadata": {
        "id": "nV1TW64Sxctu"
      },
      "outputs": [],
      "source": [
        "students = [\n",
        "    {'id': 1, 'name': '홍길동', 'korean': 100, 'english': 80, 'math': 95},\n",
        "    {'id': 2, 'name': '오쌤', 'korean': 50, 'english': 45, 'math': 61},\n",
        "    {'id': 3, 'name': 'Scott', 'korean': 70, 'english': 99, 'math': 78},\n",
        "]"
      ]
    },
    {
      "cell_type": "code",
      "source": [
        "# 번호, 이름, 총점, 평균을 출력\n",
        "for s in students:\n",
        "    total = s['korean'] + s['english'] + s['math']\n",
        "    mean = total / 3\n",
        "    print(f\"번호: {s['id']}, 이름: {s['name']}, 총점: {total}, 평균: {mean}\")"
      ],
      "metadata": {
        "colab": {
          "base_uri": "https://localhost:8080/"
        },
        "id": "A-PE2phtyuEN",
        "outputId": "1cf5ece6-c407-4c22-e470-10018c6c7ef0"
      },
      "execution_count": 7,
      "outputs": [
        {
          "output_type": "stream",
          "name": "stdout",
          "text": [
            "번호: 1, 이름: 홍길동, 총점: 275, 평균: 91.66666666666667\n",
            "번호: 2, 이름: 오쌤, 총점: 156, 평균: 52.0\n",
            "번호: 3, 이름: Scott, 총점: 247, 평균: 82.33333333333333\n"
          ]
        }
      ]
    },
    {
      "cell_type": "markdown",
      "source": [
        "위 코드의 문제점은 dict의 키는 중복되지만 않게 만들면 되기 때문에, 반복문에서 총점과 평균을 계산하는 코드가 제대로 동작하지 않을 수도 있음."
      ],
      "metadata": {
        "id": "MHhG3y6E2IiR"
      }
    },
    {
      "cell_type": "markdown",
      "source": [
        "## 함수형 프로그래밍(Functional Programming)"
      ],
      "metadata": {
        "id": "vELCaAO83W0h"
      }
    },
    {
      "cell_type": "code",
      "source": [],
      "metadata": {
        "id": "22YmUInu1-x7"
      },
      "execution_count": null,
      "outputs": []
    }
  ]
}