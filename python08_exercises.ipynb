{
  "nbformat": 4,
  "nbformat_minor": 0,
  "metadata": {
    "colab": {
      "provenance": [],
      "toc_visible": true,
      "authorship_tag": "ABX9TyMEo8N/NyL5BpxoYkUSYRPZ",
      "include_colab_link": true
    },
    "kernelspec": {
      "name": "python3",
      "display_name": "Python 3"
    },
    "language_info": {
      "name": "python"
    }
  },
  "cells": [
    {
      "cell_type": "markdown",
      "metadata": {
        "id": "view-in-github",
        "colab_type": "text"
      },
      "source": [
        "<a href=\"https://colab.research.google.com/github/JakeOh/202505_BD50/blob/main/python08_exercises.ipynb\" target=\"_parent\"><img src=\"https://colab.research.google.com/assets/colab-badge.svg\" alt=\"Open In Colab\"/></a>"
      ]
    },
    {
      "cell_type": "code",
      "execution_count": 1,
      "metadata": {
        "id": "7VlwnJiM-3I4"
      },
      "outputs": [],
      "source": [
        "import random  # 난수 생성을 위한 모듈(random.random(), random.randrange(), ...)\n",
        "import math  # 수학 함수를 사용하기 위한 모듈(math.sqrt(), ...)"
      ]
    },
    {
      "cell_type": "markdown",
      "source": [
        "# Ex 1.\n",
        "\n",
        "`fruits = ('apple', 'banana', 'cherry', 'durian', 'watermellon')`\n",
        "\n",
        "튜플 fruits에 저장된 문자열의 길이들을 저장하는 리스트를 만드로 출력하세요."
      ],
      "metadata": {
        "id": "zF88-07M_IcO"
      }
    },
    {
      "cell_type": "code",
      "source": [
        "fruits = ('apple', 'banana', 'cherry', 'durian', 'watermellon')\n",
        "\n",
        "# lengths = []  # 문자열의 길이들을 저장하기 위한 빈 리스트\n",
        "# for x in fruits:  # tuple의 원소들을 순서대로 하나씩 반복\n",
        "#     lengths.append(len(x))  # 문자열의 길이를 리스트에 추가\n",
        "legnths = [len(x) for x in fruits]\n",
        "\n",
        "lengths"
      ],
      "metadata": {
        "colab": {
          "base_uri": "https://localhost:8080/"
        },
        "id": "pUL5RBMLI1gf",
        "outputId": "ae8f21de-40f8-4442-9a95-895016903e2c"
      },
      "execution_count": 3,
      "outputs": [
        {
          "output_type": "execute_result",
          "data": {
            "text/plain": [
              "[5, 6, 6, 6, 11]"
            ]
          },
          "metadata": {},
          "execution_count": 3
        }
      ]
    },
    {
      "cell_type": "markdown",
      "source": [
        "# Ex 2.\n",
        "\n",
        "*   1 이상 4 이하 범위의 정수 난수 10개를 저장하는 리스트 gender_codes를 만들고 출력하세요.\n",
        "*   gender_codes의 값이 1 또는 3이면 'Male', 2 또는 4이면 'Female'을 저장하는 리스트 genders를 만들고 출력하세요.\n"
      ],
      "metadata": {
        "id": "eIo4Meam_hlu"
      }
    },
    {
      "cell_type": "code",
      "source": [
        "# gender_codes = []\n",
        "# for _ in range(10):\n",
        "#     gender_codes.append(random.randrange(1, 5))\n",
        "gender_codes = [random.randrange(1, 5) for _ in range(10)]\n",
        "print(gender_codes)\n",
        "\n",
        "# genders = []\n",
        "# for c in gender_codes:\n",
        "#     if c in (1, 3):  # if c == 1 or c == 3:\n",
        "#         genders.append('Male')\n",
        "#     else:\n",
        "#         genders.append('Female')\n",
        "genders = ['Male' if c in (1, 3) else 'Female'\n",
        "           for c in gender_codes]\n",
        "print(genders)"
      ],
      "metadata": {
        "colab": {
          "base_uri": "https://localhost:8080/"
        },
        "id": "EicLMU7BKHFe",
        "outputId": "8c84ecf8-868d-40f8-c436-e604197f3599"
      },
      "execution_count": 10,
      "outputs": [
        {
          "output_type": "stream",
          "name": "stdout",
          "text": [
            "[3, 4, 2, 2, 1, 4, 4, 4, 1, 3]\n",
            "['Male', 'Female', 'Female', 'Female', 'Male', 'Female', 'Female', 'Female', 'Male', 'Male']\n"
          ]
        }
      ]
    },
    {
      "cell_type": "markdown",
      "source": [
        "# Ex 3.\n",
        "\n",
        "```\n",
        "m1 = [\n",
        "    [1, 2, 3],\n",
        "    [4, 5, 6]\n",
        "]\n",
        "m2 = [\n",
        "    [1, 1, 1],\n",
        "    [2, 2, 2]\n",
        "]\n",
        "```\n",
        "\n",
        "두 2차원 배열 m1, m2에서 같은 인덱스의 원소들끼리 뺄셈(m1 - m2) 결과를 저장하는 리스트를 만들고 출력하세요."
      ],
      "metadata": {
        "id": "9GK_1p78_wze"
      }
    },
    {
      "cell_type": "code",
      "source": [
        "m1 = [\n",
        "    [1, 2, 3],\n",
        "    [4, 5, 6]\n",
        "]\n",
        "m2 = [\n",
        "    [1, 1, 1],\n",
        "    [2, 2, 2]\n",
        "]\n",
        "\n",
        "# result = []  # 결과(2차원 리스트)를 저장하기 위한 리스트\n",
        "# for r1, r2 in zip(m1, m2):\n",
        "#     row_minus = []  # 1차원 리스트의 원소들끼리 뺄셈의 결과를 저장하기 위한 리스트\n",
        "#     for x, y in zip(r1, r2):\n",
        "#         row_minus.append(x - y)\n",
        "#     result.append(row_minus)\n",
        "result = [[x - y for x, y in zip(r1, r2)]\n",
        "          for r1, r2 in zip(m1, m2)]\n",
        "\n",
        "result"
      ],
      "metadata": {
        "colab": {
          "base_uri": "https://localhost:8080/"
        },
        "id": "t-P44SseMjz1",
        "outputId": "95e3eee9-80ca-4040-e572-d1b902d4af04"
      },
      "execution_count": 15,
      "outputs": [
        {
          "output_type": "execute_result",
          "data": {
            "text/plain": [
              "[[0, 1, 2], [2, 3, 4]]"
            ]
          },
          "metadata": {},
          "execution_count": 15
        }
      ]
    },
    {
      "cell_type": "markdown",
      "source": [
        "# Ex 4.\n",
        "\n",
        "1 이상 10 이하의 정수 난수 5개를 저장하는 리스트 scores를 만들고 출력하세요.\n"
      ],
      "metadata": {
        "id": "FmsK4gv5AZdn"
      }
    },
    {
      "cell_type": "code",
      "source": [
        "num_of_items = 5\n",
        "scores = [random.randrange(1, 11) for _ in range(num_of_items)]\n",
        "scores"
      ],
      "metadata": {
        "colab": {
          "base_uri": "https://localhost:8080/"
        },
        "id": "pUZvpdhvREbS",
        "outputId": "68fb0b6a-1598-4db7-fb32-1550b11caca0"
      },
      "execution_count": 21,
      "outputs": [
        {
          "output_type": "execute_result",
          "data": {
            "text/plain": [
              "[1, 3, 7, 3, 5]"
            ]
          },
          "metadata": {},
          "execution_count": 21
        }
      ]
    },
    {
      "cell_type": "markdown",
      "source": [
        "# Ex 5.\n",
        "\n",
        "문제 4에서 만든 리스트 scores의 원소들의 합계를 계산하고 출력하세요.\n"
      ],
      "metadata": {
        "id": "myX9op_zAjjl"
      }
    },
    {
      "cell_type": "code",
      "source": [
        "total = sum(scores)\n",
        "total"
      ],
      "metadata": {
        "colab": {
          "base_uri": "https://localhost:8080/"
        },
        "id": "VcxwZu_vSBWi",
        "outputId": "f4872481-e622-48f9-80f0-8668c5c6e86e"
      },
      "execution_count": 22,
      "outputs": [
        {
          "output_type": "execute_result",
          "data": {
            "text/plain": [
              "19"
            ]
          },
          "metadata": {},
          "execution_count": 22
        }
      ]
    },
    {
      "cell_type": "markdown",
      "source": [
        "# Ex 6.\n",
        "\n",
        "문제 4에서 만든 리스트 scores의 원소들의 평균을 계산하고 출력하세요."
      ],
      "metadata": {
        "id": "RaJ44M7-Ash9"
      }
    },
    {
      "cell_type": "markdown",
      "source": [
        "# Ex 7.\n",
        "\n",
        "문제 4에서 만든 리스트 scores의 원소들의 분산을 계산하고 출력하세요."
      ],
      "metadata": {
        "id": "bu6t8CBIAyeV"
      }
    },
    {
      "cell_type": "markdown",
      "source": [
        "# Ex 8.\n",
        "\n",
        "문제 4에서 만든 리스트 scores의 원소들의 표준편차를 계산하고 출력하세요."
      ],
      "metadata": {
        "id": "rWaFv-YoA1DF"
      }
    },
    {
      "cell_type": "markdown",
      "source": [
        "# Ex 9.\n",
        "\n",
        "문제 4에서 만든 리스트 scores에서 최댓값을 찾고 출력하세요."
      ],
      "metadata": {
        "id": "xF8J5cdAA6K9"
      }
    },
    {
      "cell_type": "markdown",
      "source": [
        "# Ex 10.\n",
        "\n",
        "문제 4에서 만든 리스트 scores에서 최솟값을 찾고 출력하세요."
      ],
      "metadata": {
        "id": "yjm0zhY-A-Ol"
      }
    },
    {
      "cell_type": "markdown",
      "source": [
        "*   리스트의 모든 원소의 합계\n",
        "\n",
        "$$\n",
        "sum = \\sum_{i = 1}^{n} x_i = x_1 + x_2 + ... + x_n\n",
        "$$\n",
        "\n",
        "*   리스트의 모든 원소의 평균(mean)\n",
        "\n",
        "$$\n",
        "\\bar{x} = \\frac{1}{n} \\sum_{i = 1}^{n} x_i\n",
        "$$\n",
        "\n",
        "*   리스트의 모든 원소의 분산(variance)\n",
        "\n",
        "$$\n",
        "var = \\frac{1}{n - 1} \\sum_{i = 1}^{n} (x_i - \\bar{x})^2\n",
        "$$\n",
        "\n",
        "*   리스트의 모든 원소의 표준편차(standard deviation)\n",
        "\n",
        "$$\n",
        "std = \\sqrt{var}\n",
        "    = \\sqrt{\\frac{1}{n - 1} \\sum_{i = 1}^{n} (x_i - \\bar{x})^2}\n",
        "$$"
      ],
      "metadata": {
        "id": "887FkRuDBG7l"
      }
    }
  ]
}