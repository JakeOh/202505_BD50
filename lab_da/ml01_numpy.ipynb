{
  "nbformat": 4,
  "nbformat_minor": 0,
  "metadata": {
    "colab": {
      "provenance": [],
      "toc_visible": true,
      "authorship_tag": "ABX9TyNEREGm4v7Mcpzga1Xbp/PO",
      "include_colab_link": true
    },
    "kernelspec": {
      "name": "python3",
      "display_name": "Python 3"
    },
    "language_info": {
      "name": "python"
    }
  },
  "cells": [
    {
      "cell_type": "markdown",
      "metadata": {
        "id": "view-in-github",
        "colab_type": "text"
      },
      "source": [
        "<a href=\"https://colab.research.google.com/github/JakeOh/202505_BD50/blob/main/lab_da/ml01_numpy.ipynb\" target=\"_parent\"><img src=\"https://colab.research.google.com/assets/colab-badge.svg\" alt=\"Open In Colab\"/></a>"
      ]
    },
    {
      "cell_type": "markdown",
      "source": [
        "# NumPy 고급기능"
      ],
      "metadata": {
        "id": "4baTLEjKVZhy"
      }
    },
    {
      "cell_type": "code",
      "execution_count": 1,
      "metadata": {
        "id": "ejnNQSq8VUY8"
      },
      "outputs": [],
      "source": [
        "import numpy as np\n",
        "import pandas as pd\n",
        "import matplotlib.pyplot as plt\n",
        "import seaborn as sns"
      ]
    },
    {
      "cell_type": "markdown",
      "source": [
        "# np.ndarray 속성"
      ],
      "metadata": {
        "id": "oWhAqBsbVtZr"
      }
    },
    {
      "cell_type": "code",
      "source": [
        "arr = np.ones(shape=(2, 3))"
      ],
      "metadata": {
        "id": "JlQRgKPEVof0"
      },
      "execution_count": 2,
      "outputs": []
    },
    {
      "cell_type": "code",
      "source": [
        "print(arr)"
      ],
      "metadata": {
        "colab": {
          "base_uri": "https://localhost:8080/"
        },
        "id": "7ao3D-u0WM97",
        "outputId": "b746657c-684d-4747-cdaa-a8a695e69157"
      },
      "execution_count": 3,
      "outputs": [
        {
          "output_type": "stream",
          "name": "stdout",
          "text": [
            "[[1. 1. 1.]\n",
            " [1. 1. 1.]]\n"
          ]
        }
      ]
    },
    {
      "cell_type": "code",
      "source": [
        "arr.shape  # shape 속성: 배열의 각 축(axis)을 따라서 있는 원소의 개수들의 tuple."
      ],
      "metadata": {
        "colab": {
          "base_uri": "https://localhost:8080/"
        },
        "id": "tghzP01wWN4q",
        "outputId": "bc841869-3a17-46ad-c6af-1f36f3ac416a"
      },
      "execution_count": 4,
      "outputs": [
        {
          "output_type": "execute_result",
          "data": {
            "text/plain": [
              "(2, 3)"
            ]
          },
          "metadata": {},
          "execution_count": 4
        }
      ]
    },
    {
      "cell_type": "code",
      "source": [
        "arr.dtype  # dtype 속성: 배열 원소의 데이터 타입."
      ],
      "metadata": {
        "colab": {
          "base_uri": "https://localhost:8080/"
        },
        "id": "X7rLTgZeWs4r",
        "outputId": "45c2fe5e-06ea-4100-f97a-3dca72be87ee"
      },
      "execution_count": 5,
      "outputs": [
        {
          "output_type": "execute_result",
          "data": {
            "text/plain": [
              "dtype('float64')"
            ]
          },
          "metadata": {},
          "execution_count": 5
        }
      ]
    },
    {
      "cell_type": "code",
      "source": [
        "arr.size  # size 속성: 배열의 모든 원소 개수."
      ],
      "metadata": {
        "colab": {
          "base_uri": "https://localhost:8080/"
        },
        "id": "8B7Tb305XtJs",
        "outputId": "517663c2-a1d5-4458-f5e0-0afa2aec0f8c"
      },
      "execution_count": 6,
      "outputs": [
        {
          "output_type": "execute_result",
          "data": {
            "text/plain": [
              "6"
            ]
          },
          "metadata": {},
          "execution_count": 6
        }
      ]
    },
    {
      "cell_type": "code",
      "source": [
        "arr.ndim  # ndim: 배열의 차원(dimension). 배열의 축(axis)의 개수."
      ],
      "metadata": {
        "colab": {
          "base_uri": "https://localhost:8080/"
        },
        "id": "Iw3fP-2rYEhD",
        "outputId": "6342e0e4-7eef-4b4a-fa26-2c7d2320e66e"
      },
      "execution_count": 7,
      "outputs": [
        {
          "output_type": "execute_result",
          "data": {
            "text/plain": [
              "2"
            ]
          },
          "metadata": {},
          "execution_count": 7
        }
      ]
    },
    {
      "cell_type": "code",
      "source": [
        "arr = np.arange(10)  # 0 이상 10 미만의 (10개의) 정수들로 이루어진 배열."
      ],
      "metadata": {
        "id": "KWKVr2JMYXh6"
      },
      "execution_count": 8,
      "outputs": []
    },
    {
      "cell_type": "code",
      "source": [
        "print(arr)"
      ],
      "metadata": {
        "colab": {
          "base_uri": "https://localhost:8080/"
        },
        "id": "4SQ1muoYZHEU",
        "outputId": "1ae8fa92-2b62-4aa3-9b4b-b09abfabd9c6"
      },
      "execution_count": 9,
      "outputs": [
        {
          "output_type": "stream",
          "name": "stdout",
          "text": [
            "[0 1 2 3 4 5 6 7 8 9]\n"
          ]
        }
      ]
    },
    {
      "cell_type": "code",
      "source": [
        "print('dtyp:', arr.dtype)\n",
        "print('ndim:', arr.ndim)\n",
        "print('shape:', arr.shape)\n",
        "print('size:', arr.size)"
      ],
      "metadata": {
        "colab": {
          "base_uri": "https://localhost:8080/"
        },
        "id": "BUoruJBuZHr7",
        "outputId": "647476e9-f869-42d5-92eb-a446dab98549"
      },
      "execution_count": 10,
      "outputs": [
        {
          "output_type": "stream",
          "name": "stdout",
          "text": [
            "dtyp: int64\n",
            "ndim: 1\n",
            "shape: (10,)\n",
            "size: 10\n"
          ]
        }
      ]
    },
    {
      "cell_type": "code",
      "source": [
        "arr = np.arange(1, 25).reshape((2, 3, 4))"
      ],
      "metadata": {
        "id": "5M1YtDT7ZxXj"
      },
      "execution_count": 11,
      "outputs": []
    },
    {
      "cell_type": "code",
      "source": [
        "print(arr)"
      ],
      "metadata": {
        "colab": {
          "base_uri": "https://localhost:8080/"
        },
        "id": "cv31IFa4Z_f9",
        "outputId": "d70fec8f-9c71-499c-d226-206a981bf6db"
      },
      "execution_count": 12,
      "outputs": [
        {
          "output_type": "stream",
          "name": "stdout",
          "text": [
            "[[[ 1  2  3  4]\n",
            "  [ 5  6  7  8]\n",
            "  [ 9 10 11 12]]\n",
            "\n",
            " [[13 14 15 16]\n",
            "  [17 18 19 20]\n",
            "  [21 22 23 24]]]\n"
          ]
        }
      ]
    },
    {
      "cell_type": "code",
      "source": [
        "print('dtyp:', arr.dtype)\n",
        "print('ndim:', arr.ndim)\n",
        "print('shape:', arr.shape)\n",
        "print('size:', arr.size)"
      ],
      "metadata": {
        "colab": {
          "base_uri": "https://localhost:8080/"
        },
        "id": "zfSKs_bBaAkr",
        "outputId": "1c9399a5-647e-46e5-a849-02acf59eb39e"
      },
      "execution_count": 13,
      "outputs": [
        {
          "output_type": "stream",
          "name": "stdout",
          "text": [
            "dtyp: int64\n",
            "ndim: 3\n",
            "shape: (2, 3, 4)\n",
            "size: 24\n"
          ]
        }
      ]
    },
    {
      "cell_type": "markdown",
      "source": [
        "# Indexing\n",
        "\n",
        "인덱스를 사용해서 배열 원소를 참조."
      ],
      "metadata": {
        "id": "SWbqdEJ3bK87"
      }
    },
    {
      "cell_type": "code",
      "source": [
        "print(arr)  #> 3d array(3차원 배열)"
      ],
      "metadata": {
        "colab": {
          "base_uri": "https://localhost:8080/"
        },
        "id": "wfg3cJnlbZgi",
        "outputId": "1af8827d-5129-44e5-e242-d2ad7f91eb44"
      },
      "execution_count": 14,
      "outputs": [
        {
          "output_type": "stream",
          "name": "stdout",
          "text": [
            "[[[ 1  2  3  4]\n",
            "  [ 5  6  7  8]\n",
            "  [ 9 10 11 12]]\n",
            "\n",
            " [[13 14 15 16]\n",
            "  [17 18 19 20]\n",
            "  [21 22 23 24]]]\n"
          ]
        }
      ]
    },
    {
      "cell_type": "code",
      "source": [
        "print(arr[0])  #> 2d array"
      ],
      "metadata": {
        "colab": {
          "base_uri": "https://localhost:8080/"
        },
        "id": "-TGF8m9gba6k",
        "outputId": "30784d5a-62e3-4d3d-e847-617389627497"
      },
      "execution_count": 15,
      "outputs": [
        {
          "output_type": "stream",
          "name": "stdout",
          "text": [
            "[[ 1  2  3  4]\n",
            " [ 5  6  7  8]\n",
            " [ 9 10 11 12]]\n"
          ]
        }
      ]
    },
    {
      "cell_type": "code",
      "source": [
        "print(arr[0, 0])  #> 1d array"
      ],
      "metadata": {
        "colab": {
          "base_uri": "https://localhost:8080/"
        },
        "id": "i2kvoeobb4zU",
        "outputId": "d88eab15-3e40-4761-e874-b67a5feea9e2"
      },
      "execution_count": 16,
      "outputs": [
        {
          "output_type": "stream",
          "name": "stdout",
          "text": [
            "[1 2 3 4]\n"
          ]
        }
      ]
    },
    {
      "cell_type": "code",
      "source": [
        "print(arr[0][0])"
      ],
      "metadata": {
        "colab": {
          "base_uri": "https://localhost:8080/"
        },
        "id": "_h42DCsCb9VL",
        "outputId": "bec0ba84-d2e9-4d6b-fde5-1f62c73056a1"
      },
      "execution_count": 17,
      "outputs": [
        {
          "output_type": "stream",
          "name": "stdout",
          "text": [
            "[1 2 3 4]\n"
          ]
        }
      ]
    },
    {
      "cell_type": "code",
      "source": [
        "print(arr[0, 0, 0])  #> int -> 스칼라(scalar)"
      ],
      "metadata": {
        "colab": {
          "base_uri": "https://localhost:8080/"
        },
        "id": "2EY4ObdtcRCj",
        "outputId": "cada17d0-2207-46b7-8b86-50fdce913f58"
      },
      "execution_count": 18,
      "outputs": [
        {
          "output_type": "stream",
          "name": "stdout",
          "text": [
            "1\n"
          ]
        }
      ]
    },
    {
      "cell_type": "code",
      "source": [
        "print(arr[0][0][0])"
      ],
      "metadata": {
        "colab": {
          "base_uri": "https://localhost:8080/"
        },
        "id": "usRl2Z0jcV9s",
        "outputId": "93772126-9950-49a9-fde6-1c6b1deb677c"
      },
      "execution_count": 19,
      "outputs": [
        {
          "output_type": "stream",
          "name": "stdout",
          "text": [
            "1\n"
          ]
        }
      ]
    },
    {
      "cell_type": "markdown",
      "source": [
        "*   Python list 인덱스 사용 방법:\n",
        "    *   `list[i][j][k]...`\n",
        "*   NumPy ndarray 인덱스 사용 방법:\n",
        "    *   `array[i, j, k, ...]`\n",
        "    *   `array[i][j][k]...`"
      ],
      "metadata": {
        "id": "-3hpyzYUc5hj"
      }
    },
    {
      "cell_type": "markdown",
      "source": [
        "# Slicing"
      ],
      "metadata": {
        "id": "nFtNArV1dzID"
      }
    },
    {
      "cell_type": "markdown",
      "source": [
        "## 1차원 배열의 slicing"
      ],
      "metadata": {
        "id": "2g1trr24iHT1"
      }
    },
    {
      "cell_type": "code",
      "source": [
        "np.random.seed(1)\n",
        "arr = np.random.randint(100, size=10)  # [0, 100) 범위의 정수 난수 10개로 이루어진 1d array."
      ],
      "metadata": {
        "id": "oryjyCJ5d0Pk"
      },
      "execution_count": 20,
      "outputs": []
    },
    {
      "cell_type": "code",
      "source": [
        "print(arr)"
      ],
      "metadata": {
        "colab": {
          "base_uri": "https://localhost:8080/"
        },
        "id": "WX0TN081ihGH",
        "outputId": "fb5d96b3-fbee-4da2-f1aa-2d380e9514a3"
      },
      "execution_count": 21,
      "outputs": [
        {
          "output_type": "stream",
          "name": "stdout",
          "text": [
            "[37 12 72  9 75  5 79 64 16  1]\n"
          ]
        }
      ]
    },
    {
      "cell_type": "code",
      "source": [
        "print(arr[1:5])"
      ],
      "metadata": {
        "colab": {
          "base_uri": "https://localhost:8080/"
        },
        "id": "xL9MEpGsih0u",
        "outputId": "f2b9a891-cdd2-4ca2-c598-9a68ac8bcbd2"
      },
      "execution_count": 22,
      "outputs": [
        {
          "output_type": "stream",
          "name": "stdout",
          "text": [
            "[12 72  9 75]\n"
          ]
        }
      ]
    },
    {
      "cell_type": "code",
      "source": [
        "print(arr[:3])  #> 시작 인덱스 0은 생략 가능"
      ],
      "metadata": {
        "colab": {
          "base_uri": "https://localhost:8080/"
        },
        "id": "eeyU5DQ8i60u",
        "outputId": "6ff9ae53-1aa3-43ae-f479-ccda68cfcc56"
      },
      "execution_count": 23,
      "outputs": [
        {
          "output_type": "stream",
          "name": "stdout",
          "text": [
            "[37 12 72]\n"
          ]
        }
      ]
    },
    {
      "cell_type": "code",
      "source": [
        "print(arr[-3:])  #> 배열의 끝까지 자를 때는 마지막 인덱스는 생략 가능.\n",
        "# 배열의 끝에서부터 거꾸로 매기는 인덱스는 음수 인덱스."
      ],
      "metadata": {
        "colab": {
          "base_uri": "https://localhost:8080/"
        },
        "id": "60jbKAOojDqV",
        "outputId": "f96e1cf2-df2d-4f8b-ea0d-2598a715aaf5"
      },
      "execution_count": 24,
      "outputs": [
        {
          "output_type": "stream",
          "name": "stdout",
          "text": [
            "[64 16  1]\n"
          ]
        }
      ]
    },
    {
      "cell_type": "code",
      "source": [
        "print(arr[0:1])  #> slicing의 결과 -> 배열\n",
        "print(arr[0])    #> indexing의 결과 -> 원소(스칼라)"
      ],
      "metadata": {
        "colab": {
          "base_uri": "https://localhost:8080/"
        },
        "id": "2bVk4zkZjK3W",
        "outputId": "41dfaf74-5d57-4702-f143-824358e7c870"
      },
      "execution_count": 26,
      "outputs": [
        {
          "output_type": "stream",
          "name": "stdout",
          "text": [
            "[37]\n",
            "37\n"
          ]
        }
      ]
    },
    {
      "cell_type": "markdown",
      "source": [
        "## 2차원 배열의 slicing"
      ],
      "metadata": {
        "id": "jIVmTSqNkDKn"
      }
    },
    {
      "cell_type": "code",
      "source": [
        "arr = np.arange(1, 21).reshape((4, 5))"
      ],
      "metadata": {
        "id": "qxXcD5XijkL2"
      },
      "execution_count": 28,
      "outputs": []
    },
    {
      "cell_type": "code",
      "source": [
        "print(arr)"
      ],
      "metadata": {
        "colab": {
          "base_uri": "https://localhost:8080/"
        },
        "id": "F8Pox0fmkSpf",
        "outputId": "7fb0ebda-ac67-4f73-979e-5a6012d36b66"
      },
      "execution_count": 29,
      "outputs": [
        {
          "output_type": "stream",
          "name": "stdout",
          "text": [
            "[[ 1  2  3  4  5]\n",
            " [ 6  7  8  9 10]\n",
            " [11 12 13 14 15]\n",
            " [16 17 18 19 20]]\n"
          ]
        }
      ]
    },
    {
      "cell_type": "code",
      "source": [
        "# 2차원 배열 arr의 첫 2개의 1차원 배열\n",
        "# print(arr[:2])\n",
        "print(arr[:2, :])"
      ],
      "metadata": {
        "colab": {
          "base_uri": "https://localhost:8080/"
        },
        "id": "wR2us2TTkZ02",
        "outputId": "578d569c-4d31-484b-9d51-690ee5262e28"
      },
      "execution_count": 35,
      "outputs": [
        {
          "output_type": "stream",
          "name": "stdout",
          "text": [
            "[[ 1  2  3  4  5]\n",
            " [ 6  7  8  9 10]]\n"
          ]
        }
      ]
    },
    {
      "cell_type": "code",
      "source": [
        "# 2차원 배열 arr의 마지막 2개의 1차원 배열\n",
        "# print(arr[-2:])\n",
        "print(arr[-2:, :])"
      ],
      "metadata": {
        "colab": {
          "base_uri": "https://localhost:8080/"
        },
        "id": "3LKslYRzkxKH",
        "outputId": "f1f820b6-fcfc-47a5-c049-ee1571e85815"
      },
      "execution_count": 36,
      "outputs": [
        {
          "output_type": "stream",
          "name": "stdout",
          "text": [
            "[[11 12 13 14 15]\n",
            " [16 17 18 19 20]]\n"
          ]
        }
      ]
    },
    {
      "cell_type": "code",
      "source": [
        "print(arr[:2, :3])"
      ],
      "metadata": {
        "colab": {
          "base_uri": "https://localhost:8080/"
        },
        "id": "3TsW2aN5lOIf",
        "outputId": "4c9cd0a7-f8d6-4c44-a0ec-b50c00a89ad1"
      },
      "execution_count": 33,
      "outputs": [
        {
          "output_type": "stream",
          "name": "stdout",
          "text": [
            "[[1 2 3]\n",
            " [6 7 8]]\n"
          ]
        }
      ]
    },
    {
      "cell_type": "code",
      "source": [
        "print(arr[1:3, 1:4])"
      ],
      "metadata": {
        "colab": {
          "base_uri": "https://localhost:8080/"
        },
        "id": "yQwJMwNkl4sf",
        "outputId": "de53cfac-88af-46b0-c915-551d420a7320"
      },
      "execution_count": 38,
      "outputs": [
        {
          "output_type": "stream",
          "name": "stdout",
          "text": [
            "[[ 7  8  9]\n",
            " [12 13 14]]\n"
          ]
        }
      ]
    },
    {
      "cell_type": "code",
      "source": [
        "print(arr[1:3][1:4])  # 위쪽 셀의 결과와 비교!"
      ],
      "metadata": {
        "colab": {
          "base_uri": "https://localhost:8080/"
        },
        "id": "EWRROGmimQJw",
        "outputId": "c06a5cac-8f80-4634-9837-1b37f0ed8aaf"
      },
      "execution_count": 41,
      "outputs": [
        {
          "output_type": "stream",
          "name": "stdout",
          "text": [
            "[[11 12 13 14 15]]\n"
          ]
        }
      ]
    },
    {
      "cell_type": "markdown",
      "source": [
        "## 3차원 배열의 slicing"
      ],
      "metadata": {
        "id": "4IwTStSvoOHX"
      }
    },
    {
      "cell_type": "code",
      "source": [
        "arr = np.arange(1, 61).reshape((3, 4, 5))"
      ],
      "metadata": {
        "id": "ZILzNs_-oQJY"
      },
      "execution_count": 42,
      "outputs": []
    },
    {
      "cell_type": "code",
      "source": [
        "print(arr)"
      ],
      "metadata": {
        "colab": {
          "base_uri": "https://localhost:8080/"
        },
        "id": "1UfHHItooZi_",
        "outputId": "5c649ace-32dc-4f5a-d948-0dba37e091c4"
      },
      "execution_count": 43,
      "outputs": [
        {
          "output_type": "stream",
          "name": "stdout",
          "text": [
            "[[[ 1  2  3  4  5]\n",
            "  [ 6  7  8  9 10]\n",
            "  [11 12 13 14 15]\n",
            "  [16 17 18 19 20]]\n",
            "\n",
            " [[21 22 23 24 25]\n",
            "  [26 27 28 29 30]\n",
            "  [31 32 33 34 35]\n",
            "  [36 37 38 39 40]]\n",
            "\n",
            " [[41 42 43 44 45]\n",
            "  [46 47 48 49 50]\n",
            "  [51 52 53 54 55]\n",
            "  [56 57 58 59 60]]]\n"
          ]
        }
      ]
    },
    {
      "cell_type": "code",
      "source": [
        "print(arr[:2])"
      ],
      "metadata": {
        "colab": {
          "base_uri": "https://localhost:8080/"
        },
        "id": "lqhJSWDKoa3_",
        "outputId": "f33077ed-1787-484f-9414-49ea9d6c679b"
      },
      "execution_count": 44,
      "outputs": [
        {
          "output_type": "stream",
          "name": "stdout",
          "text": [
            "[[[ 1  2  3  4  5]\n",
            "  [ 6  7  8  9 10]\n",
            "  [11 12 13 14 15]\n",
            "  [16 17 18 19 20]]\n",
            "\n",
            " [[21 22 23 24 25]\n",
            "  [26 27 28 29 30]\n",
            "  [31 32 33 34 35]\n",
            "  [36 37 38 39 40]]]\n"
          ]
        }
      ]
    },
    {
      "cell_type": "code",
      "source": [
        "print(arr[:2, :, :])"
      ],
      "metadata": {
        "colab": {
          "base_uri": "https://localhost:8080/"
        },
        "id": "ukVTd7iFpEh_",
        "outputId": "0b8600a0-e196-4743-b62d-2bdd87b06b22"
      },
      "execution_count": 45,
      "outputs": [
        {
          "output_type": "stream",
          "name": "stdout",
          "text": [
            "[[[ 1  2  3  4  5]\n",
            "  [ 6  7  8  9 10]\n",
            "  [11 12 13 14 15]\n",
            "  [16 17 18 19 20]]\n",
            "\n",
            " [[21 22 23 24 25]\n",
            "  [26 27 28 29 30]\n",
            "  [31 32 33 34 35]\n",
            "  [36 37 38 39 40]]]\n"
          ]
        }
      ]
    },
    {
      "cell_type": "code",
      "source": [
        "# print(arr[:2, :2, :])\n",
        "print(arr[:2, :2])"
      ],
      "metadata": {
        "colab": {
          "base_uri": "https://localhost:8080/"
        },
        "id": "0ZyPHgpJpPM3",
        "outputId": "9e833687-d524-4b8c-b952-74034313b331"
      },
      "execution_count": 47,
      "outputs": [
        {
          "output_type": "stream",
          "name": "stdout",
          "text": [
            "[[[ 1  2  3  4  5]\n",
            "  [ 6  7  8  9 10]]\n",
            "\n",
            " [[21 22 23 24 25]\n",
            "  [26 27 28 29 30]]]\n"
          ]
        }
      ]
    },
    {
      "cell_type": "code",
      "source": [
        "print(arr[:2, :2, :2])"
      ],
      "metadata": {
        "colab": {
          "base_uri": "https://localhost:8080/"
        },
        "id": "vZte_KP3p-QY",
        "outputId": "9be1f331-cc36-427c-b807-79cfa2301147"
      },
      "execution_count": 48,
      "outputs": [
        {
          "output_type": "stream",
          "name": "stdout",
          "text": [
            "[[[ 1  2]\n",
            "  [ 6  7]]\n",
            "\n",
            " [[21 22]\n",
            "  [26 27]]]\n"
          ]
        }
      ]
    },
    {
      "cell_type": "code",
      "source": [
        "print(arr[:1, :, :])  #> 결과: 3d array"
      ],
      "metadata": {
        "colab": {
          "base_uri": "https://localhost:8080/"
        },
        "id": "Go-abZwhq8Ro",
        "outputId": "d73904c7-2420-424c-e8e4-9ae4d3d30b8b"
      },
      "execution_count": 50,
      "outputs": [
        {
          "output_type": "stream",
          "name": "stdout",
          "text": [
            "[[[ 1  2  3  4  5]\n",
            "  [ 6  7  8  9 10]\n",
            "  [11 12 13 14 15]\n",
            "  [16 17 18 19 20]]]\n"
          ]
        }
      ]
    },
    {
      "cell_type": "code",
      "source": [
        "print(arr[0, :, :])  #> 결과: 2d array"
      ],
      "metadata": {
        "colab": {
          "base_uri": "https://localhost:8080/"
        },
        "id": "-7xnRbSxqCAA",
        "outputId": "aa514850-1532-4faf-d57f-cc524efafbab"
      },
      "execution_count": 49,
      "outputs": [
        {
          "output_type": "stream",
          "name": "stdout",
          "text": [
            "[[ 1  2  3  4  5]\n",
            " [ 6  7  8  9 10]\n",
            " [11 12 13 14 15]\n",
            " [16 17 18 19 20]]\n"
          ]
        }
      ]
    },
    {
      "cell_type": "markdown",
      "source": [
        "# Shape(모양) 변경\n",
        "\n",
        "*   `np.ndarray.reshape(arg)`\n",
        "*   `np.ndarray.ravel()`\n",
        "*   `np.ndarray.flatten()`\n",
        "*   `np.newaxis` 속성"
      ],
      "metadata": {
        "id": "PSWoOR-9vtLZ"
      }
    },
    {
      "cell_type": "markdown",
      "source": [
        "## reshape"
      ],
      "metadata": {
        "id": "btHURT-NwFNZ"
      }
    },
    {
      "cell_type": "code",
      "source": [
        "arr_1d = np.arange(12)\n",
        "print(arr_1d)"
      ],
      "metadata": {
        "colab": {
          "base_uri": "https://localhost:8080/"
        },
        "id": "eND_xnNNwEqp",
        "outputId": "38a6bed5-e580-4b93-a504-2e0d063a0224"
      },
      "execution_count": 51,
      "outputs": [
        {
          "output_type": "stream",
          "name": "stdout",
          "text": [
            "[ 0  1  2  3  4  5  6  7  8  9 10 11]\n"
          ]
        }
      ]
    },
    {
      "cell_type": "code",
      "source": [
        "# arr_1d를 (4, 3) shape의 2d array로 변환\n",
        "arr_2d = arr_1d.reshape((4, 3))\n",
        "print(arr_2d)"
      ],
      "metadata": {
        "colab": {
          "base_uri": "https://localhost:8080/"
        },
        "id": "v_BZEURfwRI5",
        "outputId": "4652a137-86ac-4484-94dc-7916c9322e5d"
      },
      "execution_count": 52,
      "outputs": [
        {
          "output_type": "stream",
          "name": "stdout",
          "text": [
            "[[ 0  1  2]\n",
            " [ 3  4  5]\n",
            " [ 6  7  8]\n",
            " [ 9 10 11]]\n"
          ]
        }
      ]
    },
    {
      "cell_type": "code",
      "source": [
        "# reshape 메서드의 아규먼트를 전달할 때 자동으로 계산할 수 있는 차원의 값은 -1을 사용할 수 있음.\n",
        "arr_2d = arr_1d.reshape((4, -1))  #> (4, 3)\n",
        "print(arr_2d)"
      ],
      "metadata": {
        "colab": {
          "base_uri": "https://localhost:8080/"
        },
        "id": "AcRTAuJtwgVZ",
        "outputId": "e11b89c3-2835-4482-d24d-5dff205a1387"
      },
      "execution_count": 54,
      "outputs": [
        {
          "output_type": "stream",
          "name": "stdout",
          "text": [
            "[[ 0  1  2]\n",
            " [ 3  4  5]\n",
            " [ 6  7  8]\n",
            " [ 9 10 11]]\n"
          ]
        }
      ]
    },
    {
      "cell_type": "code",
      "source": [
        "arr_2d = arr_1d.reshape((-1, 4))  #> (3, 4)\n",
        "print(arr_2d)"
      ],
      "metadata": {
        "colab": {
          "base_uri": "https://localhost:8080/"
        },
        "id": "uuyPjbwuxbJ6",
        "outputId": "593af2ed-d077-4341-d87b-7a1a5450472c"
      },
      "execution_count": 55,
      "outputs": [
        {
          "output_type": "stream",
          "name": "stdout",
          "text": [
            "[[ 0  1  2  3]\n",
            " [ 4  5  6  7]\n",
            " [ 8  9 10 11]]\n"
          ]
        }
      ]
    },
    {
      "cell_type": "code",
      "source": [
        "# 2차원 배열 arr_2d를 1차원 배열로 변환.\n",
        "result = arr_2d.reshape((3 * 4,))\n",
        "print(result)"
      ],
      "metadata": {
        "colab": {
          "base_uri": "https://localhost:8080/"
        },
        "id": "tydTajYmxtsy",
        "outputId": "c4eb76ad-6730-468d-e61a-96aefb45e21e"
      },
      "execution_count": 56,
      "outputs": [
        {
          "output_type": "stream",
          "name": "stdout",
          "text": [
            "[ 0  1  2  3  4  5  6  7  8  9 10 11]\n"
          ]
        }
      ]
    },
    {
      "cell_type": "code",
      "source": [
        "result = arr_2d.reshape((-1,))\n",
        "print(result)"
      ],
      "metadata": {
        "colab": {
          "base_uri": "https://localhost:8080/"
        },
        "id": "r7c0bsMVyNVz",
        "outputId": "61efad56-6234-4fac-f48c-bbd0794f35d5"
      },
      "execution_count": 57,
      "outputs": [
        {
          "output_type": "stream",
          "name": "stdout",
          "text": [
            "[ 0  1  2  3  4  5  6  7  8  9 10 11]\n"
          ]
        }
      ]
    },
    {
      "cell_type": "code",
      "source": [
        "arr_1d = np.arange(60)\n",
        "print(arr_1d)"
      ],
      "metadata": {
        "colab": {
          "base_uri": "https://localhost:8080/"
        },
        "id": "CmD5mwxWzEdS",
        "outputId": "1e3f37a1-8faa-4ce4-f2ed-9b517e2e4893"
      },
      "execution_count": 58,
      "outputs": [
        {
          "output_type": "stream",
          "name": "stdout",
          "text": [
            "[ 0  1  2  3  4  5  6  7  8  9 10 11 12 13 14 15 16 17 18 19 20 21 22 23\n",
            " 24 25 26 27 28 29 30 31 32 33 34 35 36 37 38 39 40 41 42 43 44 45 46 47\n",
            " 48 49 50 51 52 53 54 55 56 57 58 59]\n"
          ]
        }
      ]
    },
    {
      "cell_type": "code",
      "source": [
        "# 1차원 배열 arr_1d의 모양을 (3, 4, 5)로 변환\n",
        "result = arr_1d.reshape((3, 4, -1))  # (3, 4, 5)\n",
        "print(result)"
      ],
      "metadata": {
        "colab": {
          "base_uri": "https://localhost:8080/"
        },
        "id": "XqLVGcS7zJDs",
        "outputId": "caeac659-34e7-4010-be11-45502b325025"
      },
      "execution_count": 60,
      "outputs": [
        {
          "output_type": "stream",
          "name": "stdout",
          "text": [
            "[[[ 0  1  2  3  4]\n",
            "  [ 5  6  7  8  9]\n",
            "  [10 11 12 13 14]\n",
            "  [15 16 17 18 19]]\n",
            "\n",
            " [[20 21 22 23 24]\n",
            "  [25 26 27 28 29]\n",
            "  [30 31 32 33 34]\n",
            "  [35 36 37 38 39]]\n",
            "\n",
            " [[40 41 42 43 44]\n",
            "  [45 46 47 48 49]\n",
            "  [50 51 52 53 54]\n",
            "  [55 56 57 58 59]]]\n"
          ]
        }
      ]
    },
    {
      "cell_type": "code",
      "source": [
        "# 1차원 배열 arr_1d의 모양을 (5, 4, 3)로 변환\n",
        "result = arr_1d.reshape((5, 4, -1))\n",
        "print(result)"
      ],
      "metadata": {
        "colab": {
          "base_uri": "https://localhost:8080/"
        },
        "id": "FdLY-MD7zUyy",
        "outputId": "598c3ecd-e9d6-4e10-90f6-23d34fb9633b"
      },
      "execution_count": 61,
      "outputs": [
        {
          "output_type": "stream",
          "name": "stdout",
          "text": [
            "[[[ 0  1  2]\n",
            "  [ 3  4  5]\n",
            "  [ 6  7  8]\n",
            "  [ 9 10 11]]\n",
            "\n",
            " [[12 13 14]\n",
            "  [15 16 17]\n",
            "  [18 19 20]\n",
            "  [21 22 23]]\n",
            "\n",
            " [[24 25 26]\n",
            "  [27 28 29]\n",
            "  [30 31 32]\n",
            "  [33 34 35]]\n",
            "\n",
            " [[36 37 38]\n",
            "  [39 40 41]\n",
            "  [42 43 44]\n",
            "  [45 46 47]]\n",
            "\n",
            " [[48 49 50]\n",
            "  [51 52 53]\n",
            "  [54 55 56]\n",
            "  [57 58 59]]]\n"
          ]
        }
      ]
    },
    {
      "cell_type": "markdown",
      "source": [
        "## ravel vs flatten\n",
        "\n",
        "*   flatten\n",
        "    *   n차원 배열 ndarray를 1차원 배열로 변환한 \"복사본\"을 리턴.\n",
        "    *   원본 배열과는 별개의 새로운 배열을 메모리에 만들어서 리턴.\n",
        "*   ravel\n",
        "    *   n차원 배열 ndarray를 1차원 배열로 변환한 \"뷰(view)\"를 리턴.\n",
        "    *   별개의 새로운 배열을 만드는 것이 아니라, 원본 배열의 모양을 1차원으로 보여줄 뿐."
      ],
      "metadata": {
        "id": "TL_2Dbkv0trb"
      }
    },
    {
      "cell_type": "code",
      "source": [
        "arr_2d = np.arange(12).reshape((3, 4))\n",
        "print(arr_2d)"
      ],
      "metadata": {
        "colab": {
          "base_uri": "https://localhost:8080/"
        },
        "id": "AX2BOaJp0F5S",
        "outputId": "11aca9b0-31c9-4c39-b84c-db71e239eff2"
      },
      "execution_count": 62,
      "outputs": [
        {
          "output_type": "stream",
          "name": "stdout",
          "text": [
            "[[ 0  1  2  3]\n",
            " [ 4  5  6  7]\n",
            " [ 8  9 10 11]]\n"
          ]
        }
      ]
    },
    {
      "cell_type": "code",
      "source": [
        "flattened = arr_2d.flatten()\n",
        "print(flattened)"
      ],
      "metadata": {
        "colab": {
          "base_uri": "https://localhost:8080/"
        },
        "id": "XT4XdsQd0_vc",
        "outputId": "813e119a-436d-41ad-98dd-bceb267e609c"
      },
      "execution_count": 63,
      "outputs": [
        {
          "output_type": "stream",
          "name": "stdout",
          "text": [
            "[ 0  1  2  3  4  5  6  7  8  9 10 11]\n"
          ]
        }
      ]
    },
    {
      "cell_type": "code",
      "source": [
        "flattened[0] = 123  #> 1차원 배열 flattened의 첫번째 위치에 새로운 값을 재할당.\n",
        "print(flattened)"
      ],
      "metadata": {
        "colab": {
          "base_uri": "https://localhost:8080/"
        },
        "id": "pRVP39951K6s",
        "outputId": "5c364285-daff-4271-9eac-a84d175a9023"
      },
      "execution_count": 65,
      "outputs": [
        {
          "output_type": "stream",
          "name": "stdout",
          "text": [
            "[123   1   2   3   4   5   6   7   8   9  10  11]\n"
          ]
        }
      ]
    },
    {
      "cell_type": "code",
      "source": [
        "print(arr_2d)  # 원본 2차원 배열과는 무관."
      ],
      "metadata": {
        "colab": {
          "base_uri": "https://localhost:8080/"
        },
        "id": "dMUVo0wl1i4T",
        "outputId": "a1a4db73-b79d-4922-dbec-1b96a45c0289"
      },
      "execution_count": 66,
      "outputs": [
        {
          "output_type": "stream",
          "name": "stdout",
          "text": [
            "[[ 0  1  2  3]\n",
            " [ 4  5  6  7]\n",
            " [ 8  9 10 11]]\n"
          ]
        }
      ]
    },
    {
      "cell_type": "code",
      "source": [
        "raveled = arr_2d.ravel()\n",
        "print(raveled)"
      ],
      "metadata": {
        "colab": {
          "base_uri": "https://localhost:8080/"
        },
        "id": "r2vNOjLQ1mGb",
        "outputId": "d86023dd-053d-43c8-c240-48ca69b95d94"
      },
      "execution_count": 67,
      "outputs": [
        {
          "output_type": "stream",
          "name": "stdout",
          "text": [
            "[ 0  1  2  3  4  5  6  7  8  9 10 11]\n"
          ]
        }
      ]
    },
    {
      "cell_type": "code",
      "source": [
        "raveled[0] = 123  # 1차원 배열의 원소를 변경\n",
        "print(raveled)"
      ],
      "metadata": {
        "colab": {
          "base_uri": "https://localhost:8080/"
        },
        "id": "kcifezJI2_GV",
        "outputId": "501f0ba3-b5d8-42c0-ef4b-86358e91506d"
      },
      "execution_count": 69,
      "outputs": [
        {
          "output_type": "stream",
          "name": "stdout",
          "text": [
            "[123   1   2   3   4   5   6   7   8   9  10  11]\n"
          ]
        }
      ]
    },
    {
      "cell_type": "code",
      "source": [
        "print(arr_2d)  # 원본 2차원 배열의 값을 변경!"
      ],
      "metadata": {
        "colab": {
          "base_uri": "https://localhost:8080/"
        },
        "id": "nX0M2smi3Tm8",
        "outputId": "ddd5efe4-7b40-4b70-a797-dd44ff8485ee"
      },
      "execution_count": 70,
      "outputs": [
        {
          "output_type": "stream",
          "name": "stdout",
          "text": [
            "[[123   1   2   3]\n",
            " [  4   5   6   7]\n",
            " [  8   9  10  11]]\n"
          ]
        }
      ]
    },
    {
      "cell_type": "markdown",
      "source": [
        "## `np.newaxis` 속성을 사용한 차원 늘리기"
      ],
      "metadata": {
        "id": "6WAZbVvNKeba"
      }
    },
    {
      "cell_type": "code",
      "source": [
        "arr = np.arange(1, 6)\n",
        "print(arr)"
      ],
      "metadata": {
        "colab": {
          "base_uri": "https://localhost:8080/"
        },
        "id": "EqPnrV4M3XKD",
        "outputId": "395de2b6-f79e-4ded-e860-fca6e9daefb5"
      },
      "execution_count": 71,
      "outputs": [
        {
          "output_type": "stream",
          "name": "stdout",
          "text": [
            "[1 2 3 4 5]\n"
          ]
        }
      ]
    },
    {
      "cell_type": "code",
      "source": [
        "arr.shape  #> (5,)"
      ],
      "metadata": {
        "colab": {
          "base_uri": "https://localhost:8080/"
        },
        "id": "fWjutS9xKssJ",
        "outputId": "35bd61f5-a61f-4fe8-dd90-e5f9be557776"
      },
      "execution_count": 72,
      "outputs": [
        {
          "output_type": "execute_result",
          "data": {
            "text/plain": [
              "(5,)"
            ]
          },
          "metadata": {},
          "execution_count": 72
        }
      ]
    },
    {
      "cell_type": "code",
      "source": [
        "result = arr[np.newaxis, :]\n",
        "print(result)"
      ],
      "metadata": {
        "colab": {
          "base_uri": "https://localhost:8080/"
        },
        "id": "qCA1NAAMKxEq",
        "outputId": "2c42fe90-027e-492e-e06d-de68b62ba28a"
      },
      "execution_count": 73,
      "outputs": [
        {
          "output_type": "stream",
          "name": "stdout",
          "text": [
            "[[1 2 3 4 5]]\n"
          ]
        }
      ]
    },
    {
      "cell_type": "code",
      "source": [
        "result.shape  #> (1, 5)"
      ],
      "metadata": {
        "colab": {
          "base_uri": "https://localhost:8080/"
        },
        "id": "PUkdMjXyLMsB",
        "outputId": "d4cea488-db6b-4283-8593-1105aad43cc4"
      },
      "execution_count": 74,
      "outputs": [
        {
          "output_type": "execute_result",
          "data": {
            "text/plain": [
              "(1, 5)"
            ]
          },
          "metadata": {},
          "execution_count": 74
        }
      ]
    },
    {
      "cell_type": "code",
      "source": [
        "result = arr[:, np.newaxis]\n",
        "print(result)"
      ],
      "metadata": {
        "colab": {
          "base_uri": "https://localhost:8080/"
        },
        "id": "eokpljt4LbBB",
        "outputId": "f65461cb-cd10-4d51-fdc6-1beced611991"
      },
      "execution_count": 76,
      "outputs": [
        {
          "output_type": "stream",
          "name": "stdout",
          "text": [
            "[[1]\n",
            " [2]\n",
            " [3]\n",
            " [4]\n",
            " [5]]\n"
          ]
        }
      ]
    },
    {
      "cell_type": "code",
      "source": [
        "result.shape  #> (5, 1)"
      ],
      "metadata": {
        "colab": {
          "base_uri": "https://localhost:8080/"
        },
        "id": "FCNHv6PALpAq",
        "outputId": "5840f543-e836-405f-87e8-ea8bd9bc6b5e"
      },
      "execution_count": 77,
      "outputs": [
        {
          "output_type": "execute_result",
          "data": {
            "text/plain": [
              "(5, 1)"
            ]
          },
          "metadata": {},
          "execution_count": 77
        }
      ]
    },
    {
      "cell_type": "code",
      "source": [
        "print(arr_2d)  #> shape: (3, 4)"
      ],
      "metadata": {
        "colab": {
          "base_uri": "https://localhost:8080/"
        },
        "id": "PurixKsHL0X5",
        "outputId": "b7ad5334-5da0-4c40-8b54-601664f75a02"
      },
      "execution_count": 78,
      "outputs": [
        {
          "output_type": "stream",
          "name": "stdout",
          "text": [
            "[[123   1   2   3]\n",
            " [  4   5   6   7]\n",
            " [  8   9  10  11]]\n"
          ]
        }
      ]
    },
    {
      "cell_type": "code",
      "source": [
        "result = arr_2d[np.newaxis, :, :]\n",
        "print(result)"
      ],
      "metadata": {
        "colab": {
          "base_uri": "https://localhost:8080/"
        },
        "id": "o0cU8HPfMRkb",
        "outputId": "a2b63b6f-90ae-4499-b05b-3d2352e3f64c"
      },
      "execution_count": 79,
      "outputs": [
        {
          "output_type": "stream",
          "name": "stdout",
          "text": [
            "[[[123   1   2   3]\n",
            "  [  4   5   6   7]\n",
            "  [  8   9  10  11]]]\n"
          ]
        }
      ]
    },
    {
      "cell_type": "code",
      "source": [
        "result.shape  #> (1, 3, 4)"
      ],
      "metadata": {
        "colab": {
          "base_uri": "https://localhost:8080/"
        },
        "id": "gV_aXJemMz5z",
        "outputId": "67002f9f-9748-4f12-bb72-c94b3c09b274"
      },
      "execution_count": 80,
      "outputs": [
        {
          "output_type": "execute_result",
          "data": {
            "text/plain": [
              "(1, 3, 4)"
            ]
          },
          "metadata": {},
          "execution_count": 80
        }
      ]
    },
    {
      "cell_type": "code",
      "source": [
        "result = arr_2d[:, :, np.newaxis]\n",
        "print(result)"
      ],
      "metadata": {
        "colab": {
          "base_uri": "https://localhost:8080/"
        },
        "id": "KHiXm1cBM6Ii",
        "outputId": "99f68c40-ab8e-45e1-9d45-35f7c7de1801"
      },
      "execution_count": 81,
      "outputs": [
        {
          "output_type": "stream",
          "name": "stdout",
          "text": [
            "[[[123]\n",
            "  [  1]\n",
            "  [  2]\n",
            "  [  3]]\n",
            "\n",
            " [[  4]\n",
            "  [  5]\n",
            "  [  6]\n",
            "  [  7]]\n",
            "\n",
            " [[  8]\n",
            "  [  9]\n",
            "  [ 10]\n",
            "  [ 11]]]\n"
          ]
        }
      ]
    },
    {
      "cell_type": "code",
      "source": [
        "result.shape  #> (3, 4, 1)"
      ],
      "metadata": {
        "colab": {
          "base_uri": "https://localhost:8080/"
        },
        "id": "NmiuQmMFNTqa",
        "outputId": "31d9093d-5580-4d3d-a593-0bb9cca44687"
      },
      "execution_count": 82,
      "outputs": [
        {
          "output_type": "execute_result",
          "data": {
            "text/plain": [
              "(3, 4, 1)"
            ]
          },
          "metadata": {},
          "execution_count": 82
        }
      ]
    },
    {
      "cell_type": "code",
      "source": [
        "result = arr_2d[:, np.newaxis, :]\n",
        "print(result)"
      ],
      "metadata": {
        "colab": {
          "base_uri": "https://localhost:8080/"
        },
        "id": "Kz2NCOc5OYq7",
        "outputId": "d3d900dc-6ce0-4e64-b22a-9e576afc7baf"
      },
      "execution_count": 83,
      "outputs": [
        {
          "output_type": "stream",
          "name": "stdout",
          "text": [
            "[[[123   1   2   3]]\n",
            "\n",
            " [[  4   5   6   7]]\n",
            "\n",
            " [[  8   9  10  11]]]\n"
          ]
        }
      ]
    },
    {
      "cell_type": "code",
      "source": [
        "result.shape"
      ],
      "metadata": {
        "colab": {
          "base_uri": "https://localhost:8080/"
        },
        "id": "b3R76yb4Oe9r",
        "outputId": "74a8f53d-21f4-40c5-ebf3-4150c45c979c"
      },
      "execution_count": 84,
      "outputs": [
        {
          "output_type": "execute_result",
          "data": {
            "text/plain": [
              "(3, 1, 4)"
            ]
          },
          "metadata": {},
          "execution_count": 84
        }
      ]
    },
    {
      "cell_type": "code",
      "source": [
        "print(arr)"
      ],
      "metadata": {
        "colab": {
          "base_uri": "https://localhost:8080/"
        },
        "id": "D9kw8lwHOl_T",
        "outputId": "82f4c802-c770-47a0-9564-25bfce171c78"
      },
      "execution_count": 85,
      "outputs": [
        {
          "output_type": "stream",
          "name": "stdout",
          "text": [
            "[1 2 3 4 5]\n"
          ]
        }
      ]
    },
    {
      "cell_type": "code",
      "source": [
        "result = arr[:, np.newaxis, np.newaxis]\n",
        "print(result)"
      ],
      "metadata": {
        "colab": {
          "base_uri": "https://localhost:8080/"
        },
        "id": "4KVaiQBvPBWT",
        "outputId": "06905006-c921-4014-e79f-0ab0afb84208"
      },
      "execution_count": 86,
      "outputs": [
        {
          "output_type": "stream",
          "name": "stdout",
          "text": [
            "[[[1]]\n",
            "\n",
            " [[2]]\n",
            "\n",
            " [[3]]\n",
            "\n",
            " [[4]]\n",
            "\n",
            " [[5]]]\n"
          ]
        }
      ]
    },
    {
      "cell_type": "code",
      "source": [
        "result.shape"
      ],
      "metadata": {
        "colab": {
          "base_uri": "https://localhost:8080/"
        },
        "id": "JPhVYCjiPIMj",
        "outputId": "5ac5a376-4bd1-4aaa-d784-7f6c235a8836"
      },
      "execution_count": 87,
      "outputs": [
        {
          "output_type": "execute_result",
          "data": {
            "text/plain": [
              "(5, 1, 1)"
            ]
          },
          "metadata": {},
          "execution_count": 87
        }
      ]
    },
    {
      "cell_type": "code",
      "source": [
        "arr_2d"
      ],
      "metadata": {
        "colab": {
          "base_uri": "https://localhost:8080/"
        },
        "id": "7DlU5T5iWzDH",
        "outputId": "7c5dcbaa-b7c9-4f0e-f52d-fb66acd7efda"
      },
      "execution_count": 96,
      "outputs": [
        {
          "output_type": "execute_result",
          "data": {
            "text/plain": [
              "array([[123,   1,   2,   3],\n",
              "       [  4,   5,   6,   7],\n",
              "       [  8,   9,  10,  11]])"
            ]
          },
          "metadata": {},
          "execution_count": 96
        }
      ]
    },
    {
      "cell_type": "code",
      "source": [
        "arr_2d[np.newaxis, :]"
      ],
      "metadata": {
        "colab": {
          "base_uri": "https://localhost:8080/"
        },
        "id": "J92wJ8wKW1ke",
        "outputId": "a4162401-5bf8-4579-e27e-6c259f63f795"
      },
      "execution_count": 106,
      "outputs": [
        {
          "output_type": "execute_result",
          "data": {
            "text/plain": [
              "array([[[123,   1,   2,   3]],\n",
              "\n",
              "       [[  4,   5,   6,   7]],\n",
              "\n",
              "       [[  8,   9,  10,  11]]])"
            ]
          },
          "metadata": {},
          "execution_count": 106
        }
      ]
    },
    {
      "cell_type": "markdown",
      "source": [
        "# concatenate\n",
        "\n",
        "*   `np.concatenate([array1, array2, ...], axis=0)`: 특정 축(axis) 방향으로 배열 이어붙이기.\n",
        "*   `np.r_[array1, array2]`: 행들을 이어붙이기. axis=0 방향으로 이어붙이기.\n",
        "*   `np.c_[array1, array2]`: 컬럼들을 이어붙이기. axis=1 방향으로 이어붙이기."
      ],
      "metadata": {
        "id": "MZv5twUzPqEr"
      }
    },
    {
      "cell_type": "code",
      "source": [
        "# (2, 3) shape의 2d array\n",
        "arr1 = np.arange(1, 7).reshape((2, 3))\n",
        "print(arr1)"
      ],
      "metadata": {
        "colab": {
          "base_uri": "https://localhost:8080/"
        },
        "id": "31A_p6iYPKh6",
        "outputId": "622c048a-72ba-4a54-958f-6a4c1ff6d2ce"
      },
      "execution_count": 89,
      "outputs": [
        {
          "output_type": "stream",
          "name": "stdout",
          "text": [
            "[[1 2 3]\n",
            " [4 5 6]]\n"
          ]
        }
      ]
    },
    {
      "cell_type": "code",
      "source": [
        "# (1, 3) shape의 2d array\n",
        "arr2 = np.array([[7, 8, 9]])\n",
        "print(arr2)"
      ],
      "metadata": {
        "colab": {
          "base_uri": "https://localhost:8080/"
        },
        "id": "WmI9WoqQRSU-",
        "outputId": "9c4912c3-06bb-404f-c86c-692234f6dfa1"
      },
      "execution_count": 90,
      "outputs": [
        {
          "output_type": "stream",
          "name": "stdout",
          "text": [
            "[[7 8 9]]\n"
          ]
        }
      ]
    },
    {
      "cell_type": "code",
      "source": [
        "# (2, 1) shape의 2d array\n",
        "arr3 = np.array([[10], [11]])\n",
        "print(arr3)"
      ],
      "metadata": {
        "colab": {
          "base_uri": "https://localhost:8080/"
        },
        "id": "GEmmaLKfRri0",
        "outputId": "28a270b8-15f8-4ddb-b734-39465aa34b29"
      },
      "execution_count": 91,
      "outputs": [
        {
          "output_type": "stream",
          "name": "stdout",
          "text": [
            "[[10]\n",
            " [11]]\n"
          ]
        }
      ]
    },
    {
      "cell_type": "code",
      "source": [
        "result = np.concatenate([arr1, arr2])  # axis=0 생략 가능(기본값)\n",
        "print(result)"
      ],
      "metadata": {
        "colab": {
          "base_uri": "https://localhost:8080/"
        },
        "id": "bD7epz5ZSJPW",
        "outputId": "2a76d148-eeb1-4be2-edf9-d39a49bbcfa3"
      },
      "execution_count": 92,
      "outputs": [
        {
          "output_type": "stream",
          "name": "stdout",
          "text": [
            "[[1 2 3]\n",
            " [4 5 6]\n",
            " [7 8 9]]\n"
          ]
        }
      ]
    },
    {
      "cell_type": "code",
      "source": [
        "np.r_[arr1, arr2]  # arr1과 arr2가 2d array일 때 concatenate를 간단히."
      ],
      "metadata": {
        "colab": {
          "base_uri": "https://localhost:8080/"
        },
        "id": "SrS3eK_4S6QV",
        "outputId": "ff482ca9-a526-422b-b103-26b61688712c"
      },
      "execution_count": 94,
      "outputs": [
        {
          "output_type": "execute_result",
          "data": {
            "text/plain": [
              "array([[1, 2, 3],\n",
              "       [4, 5, 6],\n",
              "       [7, 8, 9]])"
            ]
          },
          "metadata": {},
          "execution_count": 94
        }
      ]
    },
    {
      "cell_type": "code",
      "source": [
        "result = np.concatenate([arr1, arr3], axis=1)\n",
        "print(result)"
      ],
      "metadata": {
        "colab": {
          "base_uri": "https://localhost:8080/"
        },
        "id": "cePT7MwIScmF",
        "outputId": "7b591569-919e-4dea-e077-68234f184bdb"
      },
      "execution_count": 93,
      "outputs": [
        {
          "output_type": "stream",
          "name": "stdout",
          "text": [
            "[[ 1  2  3 10]\n",
            " [ 4  5  6 11]]\n"
          ]
        }
      ]
    },
    {
      "cell_type": "code",
      "source": [
        "np.c_[arr1, arr3]  # arr1과 arr3이 2d array일 때 concatenate를 간단히."
      ],
      "metadata": {
        "colab": {
          "base_uri": "https://localhost:8080/"
        },
        "id": "Tn_zAFBLSpob",
        "outputId": "8e0a9e92-915a-44c9-febd-5939e4eea336"
      },
      "execution_count": 95,
      "outputs": [
        {
          "output_type": "execute_result",
          "data": {
            "text/plain": [
              "array([[ 1,  2,  3, 10],\n",
              "       [ 4,  5,  6, 11]])"
            ]
          },
          "metadata": {},
          "execution_count": 95
        }
      ]
    },
    {
      "cell_type": "markdown",
      "source": [
        "# Broadcasting\n",
        "\n",
        "*   np.ndarray의 연산(+, -, *, /, //, %, >, <, ==, ...)은 같은 위치(인덱스)의 원소들끼리(elementwise) 연산이 수행됨.\n",
        "*   서로 모양(shape)이 다른 배열들끼리 연산이 가능한 경우가 있음(broadcast가 가능한 경우)\n"
      ],
      "metadata": {
        "id": "RDBzWeXqZH9_"
      }
    },
    {
      "cell_type": "code",
      "source": [
        "a = np.array([1, 2, 3])\n",
        "b = np.array([4, 5, 6])"
      ],
      "metadata": {
        "id": "hc-68-LuTdVE"
      },
      "execution_count": 107,
      "outputs": []
    },
    {
      "cell_type": "code",
      "source": [
        "print(a + b)"
      ],
      "metadata": {
        "colab": {
          "base_uri": "https://localhost:8080/"
        },
        "id": "wAmrE9Vfaiy-",
        "outputId": "bbaf5ff2-564d-44a7-b63e-d13432bd2ab5"
      },
      "execution_count": 108,
      "outputs": [
        {
          "output_type": "stream",
          "name": "stdout",
          "text": [
            "[5 7 9]\n"
          ]
        }
      ]
    },
    {
      "cell_type": "code",
      "source": [
        "c = np.array([7, 8])\n",
        "# print(a + c)\n",
        "#> ValueError: (3,) shape의 1d array와 (2,) shape의 1d array는 서로 연산을 할 수 없음."
      ],
      "metadata": {
        "id": "Td2xce3Ka24f"
      },
      "execution_count": null,
      "outputs": []
    },
    {
      "cell_type": "markdown",
      "source": [
        "## ndarray와 scalar의 연산\n",
        "\n",
        "항상 broadcast가 가능. 항상 연산이 가능. 스칼라를 배열의 각 원소마다 연산 수행."
      ],
      "metadata": {
        "id": "40KAclSAbtgw"
      }
    },
    {
      "cell_type": "code",
      "source": [
        "print(a + 10)"
      ],
      "metadata": {
        "colab": {
          "base_uri": "https://localhost:8080/"
        },
        "id": "msgzE7HgbJ63",
        "outputId": "bb5f1e69-0f5d-42f4-b937-8af34a511265"
      },
      "execution_count": 111,
      "outputs": [
        {
          "output_type": "stream",
          "name": "stdout",
          "text": [
            "[11 12 13]\n"
          ]
        }
      ]
    },
    {
      "cell_type": "markdown",
      "source": [
        "## 2d array와 1d array 또는 2d array에서의 broadcast"
      ],
      "metadata": {
        "id": "Ly_fQriWd83x"
      }
    },
    {
      "cell_type": "code",
      "source": [
        "a = np.arange(1, 7).reshape((2, 3))  # shape: (2, 3)\n",
        "print(a)"
      ],
      "metadata": {
        "colab": {
          "base_uri": "https://localhost:8080/"
        },
        "id": "RbG1M7q8b-eX",
        "outputId": "aab9d824-c0d0-429c-8a19-142010f1be59"
      },
      "execution_count": 112,
      "outputs": [
        {
          "output_type": "stream",
          "name": "stdout",
          "text": [
            "[[1 2 3]\n",
            " [4 5 6]]\n"
          ]
        }
      ]
    },
    {
      "cell_type": "code",
      "source": [
        "b = np.array([7, 8, 9])  # shape: (3,)\n",
        "print(b)"
      ],
      "metadata": {
        "colab": {
          "base_uri": "https://localhost:8080/"
        },
        "id": "hsGtoAKjeocg",
        "outputId": "68ce3448-7acb-4fab-d465-629947d10410"
      },
      "execution_count": 113,
      "outputs": [
        {
          "output_type": "stream",
          "name": "stdout",
          "text": [
            "[7 8 9]\n"
          ]
        }
      ]
    },
    {
      "cell_type": "code",
      "source": [
        "# (3,) shape의 1d array -> (1, 3) shape 2d array -> (2, 3) shape으로 broadcast\n",
        "print(a + b)"
      ],
      "metadata": {
        "colab": {
          "base_uri": "https://localhost:8080/"
        },
        "id": "D-px5CFFeuTn",
        "outputId": "e30570c8-cb1a-445b-87d1-aea033048155"
      },
      "execution_count": 114,
      "outputs": [
        {
          "output_type": "stream",
          "name": "stdout",
          "text": [
            "[[ 8 10 12]\n",
            " [11 13 15]]\n"
          ]
        }
      ]
    },
    {
      "cell_type": "code",
      "source": [
        "b = np.array([[5], [10]])  # shape: (2, 1)\n",
        "print(b)"
      ],
      "metadata": {
        "colab": {
          "base_uri": "https://localhost:8080/"
        },
        "id": "iUTU0ZqRe6a_",
        "outputId": "37912b7f-b634-4a40-b879-99927b64a33c"
      },
      "execution_count": 115,
      "outputs": [
        {
          "output_type": "stream",
          "name": "stdout",
          "text": [
            "[[ 5]\n",
            " [10]]\n"
          ]
        }
      ]
    },
    {
      "cell_type": "code",
      "source": [
        "# (2, 1) shape의 2d array -> (2, 3) shape으로 broadcast\n",
        "print(a + b)"
      ],
      "metadata": {
        "colab": {
          "base_uri": "https://localhost:8080/"
        },
        "id": "OT07cteSgHrv",
        "outputId": "6f33a642-d7b7-48b8-c509-be69e94fe224"
      },
      "execution_count": 116,
      "outputs": [
        {
          "output_type": "stream",
          "name": "stdout",
          "text": [
            "[[ 6  7  8]\n",
            " [14 15 16]]\n"
          ]
        }
      ]
    },
    {
      "cell_type": "markdown",
      "source": [
        "broadcasting이 가능한 경우:\n",
        "\n",
        "*   브로드캐스팅은 누락되거나 길이가 1인 차원에 대해서만 수행.\n",
        "*   이어지는 차원의 축이 길이가 같은 경우 브로드캐스팅이 가능.\n"
      ],
      "metadata": {
        "id": "_V_lHmuikhC6"
      }
    },
    {
      "cell_type": "markdown",
      "source": [
        "## broadcast 활용\n",
        "\n",
        "*   표준화(standardization): 배열의 평균이 0이 되고, 표준편차가 1이 되도록 값들을 변환.\n",
        "*   정규화(normalization): 최솟값이 0이 되고 최댓값이 1이 되도록 값들을 변환."
      ],
      "metadata": {
        "id": "gjk0VjpWpHul"
      }
    },
    {
      "cell_type": "markdown",
      "source": [
        "### 표준화"
      ],
      "metadata": {
        "id": "XhYPrt7_ps2O"
      }
    },
    {
      "cell_type": "code",
      "source": [
        "x = np.array([1, 2, 3, 4, 5])"
      ],
      "metadata": {
        "id": "aFxPE_kciKjA"
      },
      "execution_count": 120,
      "outputs": []
    },
    {
      "cell_type": "code",
      "source": [
        "mu = x.mean()  # 평균, np.mean(x)\n",
        "print(mu)"
      ],
      "metadata": {
        "colab": {
          "base_uri": "https://localhost:8080/"
        },
        "id": "R6EjgsxCpzPT",
        "outputId": "4036e7ce-60f3-4c7d-9941-1971ae1f559e"
      },
      "execution_count": 123,
      "outputs": [
        {
          "output_type": "stream",
          "name": "stdout",
          "text": [
            "3.0\n"
          ]
        }
      ]
    },
    {
      "cell_type": "code",
      "source": [
        "sigma = x.std()  # 표준편차, np.std(x)\n",
        "print(sigma)"
      ],
      "metadata": {
        "colab": {
          "base_uri": "https://localhost:8080/"
        },
        "id": "K54dh8Pxp1Tb",
        "outputId": "8637a3a9-615e-4e65-aec3-388e10ddfe1b"
      },
      "execution_count": 124,
      "outputs": [
        {
          "output_type": "stream",
          "name": "stdout",
          "text": [
            "1.4142135623730951\n"
          ]
        }
      ]
    },
    {
      "cell_type": "code",
      "source": [
        "x_scaled = (x - mu) / sigma\n",
        "print(x_scaled)"
      ],
      "metadata": {
        "colab": {
          "base_uri": "https://localhost:8080/"
        },
        "id": "qNR_STrWp_uE",
        "outputId": "b5f70c01-1f50-49c1-b4c3-f4b1538af451"
      },
      "execution_count": 125,
      "outputs": [
        {
          "output_type": "stream",
          "name": "stdout",
          "text": [
            "[-1.41421356 -0.70710678  0.          0.70710678  1.41421356]\n"
          ]
        }
      ]
    },
    {
      "cell_type": "code",
      "source": [
        "np.mean(x_scaled)"
      ],
      "metadata": {
        "colab": {
          "base_uri": "https://localhost:8080/"
        },
        "id": "--2S6lxTqkUT",
        "outputId": "64436ea9-608f-48c3-cd85-6d6ba47e67d3"
      },
      "execution_count": 126,
      "outputs": [
        {
          "output_type": "execute_result",
          "data": {
            "text/plain": [
              "np.float64(0.0)"
            ]
          },
          "metadata": {},
          "execution_count": 126
        }
      ]
    },
    {
      "cell_type": "code",
      "source": [
        "np.std(x_scaled)"
      ],
      "metadata": {
        "colab": {
          "base_uri": "https://localhost:8080/"
        },
        "id": "Se_B3R-0rpgL",
        "outputId": "a634a852-852d-438c-f6f2-754ccc5b561e"
      },
      "execution_count": 127,
      "outputs": [
        {
          "output_type": "execute_result",
          "data": {
            "text/plain": [
              "np.float64(0.9999999999999999)"
            ]
          },
          "metadata": {},
          "execution_count": 127
        }
      ]
    },
    {
      "cell_type": "markdown",
      "source": [
        "### 정규화"
      ],
      "metadata": {
        "id": "oBGpKzSrsiyt"
      }
    },
    {
      "cell_type": "code",
      "source": [
        "x_min = np.min(x)  # 배열 x의 최솟값\n",
        "x_max = np.max(x)  # 배열 x의 최댓값\n",
        "print(x_min, x_max)"
      ],
      "metadata": {
        "colab": {
          "base_uri": "https://localhost:8080/"
        },
        "id": "hDRV57hSrr0z",
        "outputId": "6ac878b3-dbe9-4983-d30c-3fa3ac2b9b11"
      },
      "execution_count": 128,
      "outputs": [
        {
          "output_type": "stream",
          "name": "stdout",
          "text": [
            "1 5\n"
          ]
        }
      ]
    },
    {
      "cell_type": "code",
      "source": [
        "x_scaled = (x - x_min) / (x_max - x_min)\n",
        "print(x_scaled)"
      ],
      "metadata": {
        "colab": {
          "base_uri": "https://localhost:8080/"
        },
        "id": "SV7aOz8gs_NT",
        "outputId": "6caa8d2e-ca19-4919-d6aa-4f2b7843143e"
      },
      "execution_count": 129,
      "outputs": [
        {
          "output_type": "stream",
          "name": "stdout",
          "text": [
            "[0.   0.25 0.5  0.75 1.  ]\n"
          ]
        }
      ]
    },
    {
      "cell_type": "markdown",
      "source": [
        "### 2차원 배열에서 표준화, 정규화"
      ],
      "metadata": {
        "id": "9oHlK7PcuLp8"
      }
    },
    {
      "cell_type": "code",
      "source": [
        "# (3, 2) shape 2d array\n",
        "X = np.arange(1, 7).reshape((3, 2))\n",
        "print(X)"
      ],
      "metadata": {
        "colab": {
          "base_uri": "https://localhost:8080/"
        },
        "id": "dx0rWpR9tLKM",
        "outputId": "ac0bfd02-5908-456d-86ad-ae6889979fa9"
      },
      "execution_count": 130,
      "outputs": [
        {
          "output_type": "stream",
          "name": "stdout",
          "text": [
            "[[1 2]\n",
            " [3 4]\n",
            " [5 6]]\n"
          ]
        }
      ]
    },
    {
      "cell_type": "code",
      "source": [
        "# 표준화\n",
        "X_scaled = (X - np.mean(X)) / np.std(X)\n",
        "print(X_scaled)"
      ],
      "metadata": {
        "colab": {
          "base_uri": "https://localhost:8080/"
        },
        "id": "xRTxSLi7uibt",
        "outputId": "27da7e91-7da6-47d9-caf4-aed4edb51079"
      },
      "execution_count": 133,
      "outputs": [
        {
          "output_type": "stream",
          "name": "stdout",
          "text": [
            "[[-1.46385011 -0.87831007]\n",
            " [-0.29277002  0.29277002]\n",
            " [ 0.87831007  1.46385011]]\n"
          ]
        }
      ]
    },
    {
      "cell_type": "code",
      "source": [
        "# 정규화\n",
        "X_scaled = (X - np.min(X)) / (np.max(X) - np.min(X))\n",
        "print(X_scaled)"
      ],
      "metadata": {
        "colab": {
          "base_uri": "https://localhost:8080/"
        },
        "id": "IcdYC36lvr-c",
        "outputId": "7f097e6b-8afb-41df-b103-c375f62a111f"
      },
      "execution_count": 134,
      "outputs": [
        {
          "output_type": "stream",
          "name": "stdout",
          "text": [
            "[[0.  0.2]\n",
            " [0.4 0.6]\n",
            " [0.8 1. ]]\n"
          ]
        }
      ]
    },
    {
      "cell_type": "code",
      "source": [],
      "metadata": {
        "id": "IrHrsL_JwXFM"
      },
      "execution_count": null,
      "outputs": []
    }
  ]
}