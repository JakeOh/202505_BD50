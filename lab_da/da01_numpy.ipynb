{
  "nbformat": 4,
  "nbformat_minor": 0,
  "metadata": {
    "colab": {
      "provenance": [],
      "toc_visible": true,
      "authorship_tag": "ABX9TyNenlsfNN9lTQu9vvEaamgw",
      "include_colab_link": true
    },
    "kernelspec": {
      "name": "python3",
      "display_name": "Python 3"
    },
    "language_info": {
      "name": "python"
    }
  },
  "cells": [
    {
      "cell_type": "markdown",
      "metadata": {
        "id": "view-in-github",
        "colab_type": "text"
      },
      "source": [
        "<a href=\"https://colab.research.google.com/github/JakeOh/202505_BD50/blob/main/lab_da/da01_numpy.ipynb\" target=\"_parent\"><img src=\"https://colab.research.google.com/assets/colab-badge.svg\" alt=\"Open In Colab\"/></a>"
      ]
    },
    {
      "cell_type": "markdown",
      "source": [
        "# 데이터 분석 패키지\n",
        "\n",
        "*   NumPy: 다차원 배열을 쉽게 사용할 수 있는 패키지. 머신 러닝에서 중요하게 사용됨.\n",
        "*   pandas: 데이터프레임(DataFrame)과 시리즈(Series)를 기본으로 사용해서 데이터 분석에 필요한 기능들을 가지고 있는 패키지.\n",
        "*   matplotlib, seaborn: 데이터 시각화 패키지. 그래프.\n",
        "*   scikit-learn: 머신 러닝에서 사용하는 패키지.\n",
        "*   keras: 딥러닝에서 사용하는 패키지."
      ],
      "metadata": {
        "id": "4s21L68YpB6-"
      }
    },
    {
      "cell_type": "code",
      "execution_count": 1,
      "metadata": {
        "id": "c6UHslWIo4Ih"
      },
      "outputs": [],
      "source": [
        "import numpy as np\n",
        "import pandas as pd\n",
        "import matplotlib\n",
        "import seaborn\n",
        "import sklearn  # scikit-learn\n",
        "import keras"
      ]
    },
    {
      "cell_type": "code",
      "source": [
        "print('numpy version =', np.__version__)\n",
        "print('pandas version =', pd.__version__)\n",
        "print('matplotlib version =', matplotlib.__version__)\n",
        "print('seaborn version =', seaborn.__version__)\n",
        "print('scikit-learn version =', sklearn.__version__)\n",
        "print('keras version =', keras.__version__)"
      ],
      "metadata": {
        "colab": {
          "base_uri": "https://localhost:8080/"
        },
        "id": "dV7841_SrEVo",
        "outputId": "0ec5fbcc-a9cb-4db7-93a5-98963d491566"
      },
      "execution_count": 2,
      "outputs": [
        {
          "output_type": "stream",
          "name": "stdout",
          "text": [
            "numpy version = 2.0.2\n",
            "pandas version = 2.2.2\n",
            "matplotlib version = 3.10.0\n",
            "seaborn version = 0.13.2\n",
            "scikit-learn version = 1.6.1\n",
            "keras version = 3.8.0\n"
          ]
        }
      ]
    },
    {
      "cell_type": "markdown",
      "source": [
        "# Python List\n",
        "\n",
        "*   여러개의 값들을 저장할 수 있는 데이터 타입\n",
        "*   인덱스를 기반으로 값들을 저장하는 데이터 타입\n",
        "    *   indexing: 인덱스를 사용해서 원하는 위치의 값을 참조. (예) `numbers[0]`\n",
        "    *   slicing: [start, end) 인덱스 범위의 부분 리스트를 만듦. (예) `numbers[0:5]`\n",
        "*   산술 연산\n",
        "    *   `list + list`: 두 개의 리스트를 이어붙어서 하나의 리스트로 만듦. concatenate.\n",
        "    *   `list * int, int * list`: 리스트의 원소들을 정수만큼 복사해서 추가. replicate."
      ],
      "metadata": {
        "id": "BgjdIHxAtjMm"
      }
    },
    {
      "cell_type": "code",
      "source": [
        "num_list1 = [1, 2, 3]\n",
        "num_list2 = [11, 22, 33]"
      ],
      "metadata": {
        "id": "p5HK_pQurnGB"
      },
      "execution_count": 3,
      "outputs": []
    },
    {
      "cell_type": "code",
      "source": [
        "# indexing\n",
        "print(num_list1[0])  # 첫번째 원소\n",
        "print(num_list2[-1])  # 마지막 원소"
      ],
      "metadata": {
        "colab": {
          "base_uri": "https://localhost:8080/"
        },
        "id": "a4LHGZhCvekW",
        "outputId": "eb8be7b5-e6c3-40eb-e816-ae904ff44453"
      },
      "execution_count": 4,
      "outputs": [
        {
          "output_type": "stream",
          "name": "stdout",
          "text": [
            "1\n",
            "33\n"
          ]
        }
      ]
    },
    {
      "cell_type": "code",
      "source": [
        "# slicing\n",
        "print(num_list1[:2])  # 첫 2개의 원소들을 잘라내기\n",
        "print(num_list2[-2:])  # 마지막 2개의 원소들을 잘라내기"
      ],
      "metadata": {
        "colab": {
          "base_uri": "https://localhost:8080/"
        },
        "id": "d3_XpxOtvpim",
        "outputId": "aea9b827-4b35-40c9-a4d2-b389b7be2cf6"
      },
      "execution_count": 5,
      "outputs": [
        {
          "output_type": "stream",
          "name": "stdout",
          "text": [
            "[1, 2]\n",
            "[22, 33]\n"
          ]
        }
      ]
    },
    {
      "cell_type": "code",
      "source": [
        "num_list1 + num_list2  # concatenate"
      ],
      "metadata": {
        "colab": {
          "base_uri": "https://localhost:8080/"
        },
        "id": "cSaMAPGGwAr2",
        "outputId": "e2d7aec1-b91c-4c0a-eef0-34477034e67e"
      },
      "execution_count": 6,
      "outputs": [
        {
          "output_type": "execute_result",
          "data": {
            "text/plain": [
              "[1, 2, 3, 11, 22, 33]"
            ]
          },
          "metadata": {},
          "execution_count": 6
        }
      ]
    },
    {
      "cell_type": "code",
      "source": [
        "num_list1 * 3  # replicate"
      ],
      "metadata": {
        "colab": {
          "base_uri": "https://localhost:8080/"
        },
        "id": "72GpkysKwCRG",
        "outputId": "5e69a3f0-7666-46bd-bb20-9fca5e8ced1b"
      },
      "execution_count": 7,
      "outputs": [
        {
          "output_type": "execute_result",
          "data": {
            "text/plain": [
              "[1, 2, 3, 1, 2, 3, 1, 2, 3]"
            ]
          },
          "metadata": {},
          "execution_count": 7
        }
      ]
    },
    {
      "cell_type": "code",
      "source": [
        "# num_list1과 num_list2에서 같은 인덱스의 원소들끼리 덧셈\n",
        "[x + y for x, y in zip(num_list1, num_list2)]"
      ],
      "metadata": {
        "colab": {
          "base_uri": "https://localhost:8080/"
        },
        "id": "Rp0A0UDXwMjO",
        "outputId": "c71c8f76-0532-4ae8-d673-a5e7e341b5e0"
      },
      "execution_count": 8,
      "outputs": [
        {
          "output_type": "execute_result",
          "data": {
            "text/plain": [
              "[12, 24, 36]"
            ]
          },
          "metadata": {},
          "execution_count": 8
        }
      ]
    },
    {
      "cell_type": "code",
      "source": [
        "# num_list1의 모든 원소에 3을 곱하기\n",
        "[3 * x for x in num_list1]"
      ],
      "metadata": {
        "colab": {
          "base_uri": "https://localhost:8080/"
        },
        "id": "ogTWFxPexcBe",
        "outputId": "06d00cba-8911-46a2-fc14-5879cec9985d"
      },
      "execution_count": 9,
      "outputs": [
        {
          "output_type": "execute_result",
          "data": {
            "text/plain": [
              "[3, 6, 9]"
            ]
          },
          "metadata": {},
          "execution_count": 9
        }
      ]
    },
    {
      "cell_type": "markdown",
      "source": [
        "# NumPy(Numerical Python)\n",
        "\n",
        "*   다차원 배열(n-dimensional array)을 쉽고 빠르게 연산(`+, -, *, /, ...`)하기 위한 라이브러리.\n",
        "*   numpy 패키지의 대부분의 기능(연산자, 함수, 메서드)들은 반복문의 기능을 가지고 있음.\n",
        "    *   같은 인덱스의 원소들끼리(element-wise) 연산하는 기능을 가지고 있음.\n",
        "*   `numpy.ndarray` 클래스: numpy 패키지의 가장 기본이 되는 클래스."
      ],
      "metadata": {
        "id": "eUVcbls31dJt"
      }
    },
    {
      "cell_type": "code",
      "source": [
        "num_arr1 = np.array([1, 2, 3])  # 아규먼트로 전달된 리스트를 ndarray로 변환해서 리턴.\n",
        "print(type(num_arr1))\n",
        "print(num_arr1)  # __str__() 메서드가 리턴하는 문자열"
      ],
      "metadata": {
        "colab": {
          "base_uri": "https://localhost:8080/"
        },
        "id": "IwKRyiB22wqH",
        "outputId": "c311f5aa-fcf7-4337-c110-79f3e97a6706"
      },
      "execution_count": 12,
      "outputs": [
        {
          "output_type": "stream",
          "name": "stdout",
          "text": [
            "<class 'numpy.ndarray'>\n",
            "[1 2 3]\n"
          ]
        }
      ]
    },
    {
      "cell_type": "code",
      "source": [
        "num_arr1  # __repr__() 메서드가 리턴하는 문자열"
      ],
      "metadata": {
        "colab": {
          "base_uri": "https://localhost:8080/"
        },
        "id": "bQyxTCZ03Id5",
        "outputId": "db6737ae-ff51-45b8-c93b-589672fa23ff"
      },
      "execution_count": 13,
      "outputs": [
        {
          "output_type": "execute_result",
          "data": {
            "text/plain": [
              "array([1, 2, 3])"
            ]
          },
          "metadata": {},
          "execution_count": 13
        }
      ]
    },
    {
      "cell_type": "code",
      "source": [
        "num_arr2 = np.array([11, 22, 33])\n",
        "print(num_arr2)"
      ],
      "metadata": {
        "colab": {
          "base_uri": "https://localhost:8080/"
        },
        "id": "9gpW7crO4N_f",
        "outputId": "7ee5c2f5-885e-4be8-80f3-7496d286555e"
      },
      "execution_count": 14,
      "outputs": [
        {
          "output_type": "stream",
          "name": "stdout",
          "text": [
            "[11 22 33]\n"
          ]
        }
      ]
    },
    {
      "cell_type": "code",
      "source": [
        "# element-wise 연산\n",
        "print(num_arr1 + num_arr2)\n",
        "print(num_arr1 - num_arr2)\n",
        "print(num_arr1 * num_arr2)\n",
        "print(num_arr1 * 3)\n",
        "print(num_arr1 / num_arr2)"
      ],
      "metadata": {
        "colab": {
          "base_uri": "https://localhost:8080/"
        },
        "id": "w_FG0n2g4T_x",
        "outputId": "7ef12130-007e-4b0e-8117-2a4ec3d65141"
      },
      "execution_count": 15,
      "outputs": [
        {
          "output_type": "stream",
          "name": "stdout",
          "text": [
            "[12 24 36]\n",
            "[-10 -20 -30]\n",
            "[11 44 99]\n",
            "[3 6 9]\n",
            "[0.09090909 0.09090909 0.09090909]\n"
          ]
        }
      ]
    },
    {
      "cell_type": "markdown",
      "source": [
        "## `np.ndarray` 클래스의 속성들"
      ],
      "metadata": {
        "id": "bCbkGhjP5I13"
      }
    },
    {
      "cell_type": "code",
      "source": [
        "print(num_arr1)\n",
        "print('ndim =', num_arr1.ndim)  # 차원(dimension)\n",
        "print('size =', num_arr1.size)  # 배열의 크기(모든 원소 개수)\n",
        "print('shape =', num_arr1.shape)  # 배열의 모양(배열의 각 차원에서의 원소 갯수들로 이루어진 튜플)\n",
        "print('dtype =', num_arr1.dtype)  # 데이터 타입(배열 원소의 데이터 타입)"
      ],
      "metadata": {
        "colab": {
          "base_uri": "https://localhost:8080/"
        },
        "id": "gSbD8e3r4nk3",
        "outputId": "057a5f6d-c93d-463f-c4eb-18f9a001fbbb"
      },
      "execution_count": 20,
      "outputs": [
        {
          "output_type": "stream",
          "name": "stdout",
          "text": [
            "[1 2 3]\n",
            "ndim = 1\n",
            "size = 3\n",
            "shape = (3,)\n",
            "dtype = int64\n"
          ]
        }
      ]
    },
    {
      "cell_type": "markdown",
      "source": [
        "*   Python의 숫자 타입\n",
        "    *   정수: `int`\n",
        "    *   실수: `float`\n",
        "*   NumPy의 숫자 타입\n",
        "    *   정수: `int8, int16, int32, int64, ...`\n",
        "    *   실수: `float16, float32, float64, ...`"
      ],
      "metadata": {
        "id": "f0EZmUcg6tRP"
      }
    },
    {
      "cell_type": "code",
      "source": [
        "# 2차원 배열\n",
        "array = np.array([[1, 2, 3],\n",
        "                  [4, 5, 6]])\n",
        "print(type(array))"
      ],
      "metadata": {
        "colab": {
          "base_uri": "https://localhost:8080/"
        },
        "id": "4zDbXR7-5SiX",
        "outputId": "717c8081-70f1-4072-d802-47c39b5ad946"
      },
      "execution_count": 21,
      "outputs": [
        {
          "output_type": "stream",
          "name": "stdout",
          "text": [
            "<class 'numpy.ndarray'>\n"
          ]
        }
      ]
    },
    {
      "cell_type": "code",
      "source": [
        "print(array)"
      ],
      "metadata": {
        "colab": {
          "base_uri": "https://localhost:8080/"
        },
        "id": "F7WIPUsS8ATh",
        "outputId": "924b6b96-3493-464a-fe20-f29eab0af5e1"
      },
      "execution_count": 22,
      "outputs": [
        {
          "output_type": "stream",
          "name": "stdout",
          "text": [
            "[[1 2 3]\n",
            " [4 5 6]]\n"
          ]
        }
      ]
    },
    {
      "cell_type": "code",
      "source": [
        "print('ndim =', array.ndim)  # 차원(dimension)\n",
        "print('size =', array.size)  # 크기(shape 튜플의 모든 숫자들을 곱한 값)\n",
        "print('shape =', array.shape)  # 모양\n",
        "print('dtype =', array.dtype)"
      ],
      "metadata": {
        "colab": {
          "base_uri": "https://localhost:8080/"
        },
        "id": "R4CWA3OR8CZv",
        "outputId": "d30967f5-30e9-489c-aaeb-9cdf9adc651f"
      },
      "execution_count": 26,
      "outputs": [
        {
          "output_type": "stream",
          "name": "stdout",
          "text": [
            "ndim = 2\n",
            "size = 6\n",
            "shape = (2, 3)\n",
            "dtype = int64\n"
          ]
        }
      ]
    },
    {
      "cell_type": "markdown",
      "source": [
        "# `np.ndarray` 객체 생성 함수들"
      ],
      "metadata": {
        "id": "sL-GB7EU9oJH"
      }
    },
    {
      "cell_type": "markdown",
      "source": [
        "## `np.array(object)`\n",
        "\n",
        "*   object를 ndarray로 변환해서 리턴.\n",
        "*   object: 배열과 비슷한 객체들. `list, tuple, ndarry, ...`"
      ],
      "metadata": {
        "id": "Ss3uTsAP91k-"
      }
    },
    {
      "cell_type": "code",
      "source": [
        "# 0 이상 10 미만의 정수들로 이루어진 배열\n",
        "numbers = np.array([x for x in range(10)])  # range(0, 10, 1)\n",
        "print(numbers)"
      ],
      "metadata": {
        "colab": {
          "base_uri": "https://localhost:8080/"
        },
        "id": "kkm6GPWp8u6g",
        "outputId": "0e35ae08-31dc-44d1-bbe1-dde431d9f298"
      },
      "execution_count": 27,
      "outputs": [
        {
          "output_type": "stream",
          "name": "stdout",
          "text": [
            "[0 1 2 3 4 5 6 7 8 9]\n"
          ]
        }
      ]
    },
    {
      "cell_type": "markdown",
      "source": [
        "## `np.arange(start, end, step)`\n",
        "\n",
        "*   range를 사용해서 array을 생성하는 함수.\n",
        "*   `range(start, end, step)`와 사용 방법이 동일.\n",
        "*   1차원 ndarray를 생성"
      ],
      "metadata": {
        "id": "GmnLSGL--rxY"
      }
    },
    {
      "cell_type": "code",
      "source": [
        "numbers = np.arange(10)\n",
        "print(numbers)"
      ],
      "metadata": {
        "colab": {
          "base_uri": "https://localhost:8080/"
        },
        "id": "elNKGzlP-iPB",
        "outputId": "74139872-f867-4915-cc18-bb2b93449293"
      },
      "execution_count": 29,
      "outputs": [
        {
          "output_type": "stream",
          "name": "stdout",
          "text": [
            "[0 1 2 3 4 5 6 7 8 9]\n"
          ]
        }
      ]
    },
    {
      "cell_type": "code",
      "source": [
        "# 0 이상 10 이하의 짝수들을 원소로 갖는 배열(ndarray)\n",
        "evens = np.arange(0, 11, 2)\n",
        "print(evens)"
      ],
      "metadata": {
        "colab": {
          "base_uri": "https://localhost:8080/"
        },
        "id": "zXZUHfmn_VUn",
        "outputId": "a2f0cba9-fcb3-40f8-c156-1434e6961314"
      },
      "execution_count": 30,
      "outputs": [
        {
          "output_type": "stream",
          "name": "stdout",
          "text": [
            "[ 0  2  4  6  8 10]\n"
          ]
        }
      ]
    },
    {
      "cell_type": "markdown",
      "source": [
        "## reshape\n",
        "\n",
        "*   `np.ndarray.reshape(newshape)` 메서드\n",
        "*   `np.reshape(array, newshape)` 함수"
      ],
      "metadata": {
        "id": "IRJ3BPvND2Yp"
      }
    },
    {
      "cell_type": "code",
      "source": [
        "array = np.arange(12)\n",
        "print(array)"
      ],
      "metadata": {
        "colab": {
          "base_uri": "https://localhost:8080/"
        },
        "id": "Odb6d5TfDnY4",
        "outputId": "8ead2f5c-e9b1-4fab-e409-84b940c79a47"
      },
      "execution_count": 31,
      "outputs": [
        {
          "output_type": "stream",
          "name": "stdout",
          "text": [
            "[ 0  1  2  3  4  5  6  7  8  9 10 11]\n"
          ]
        }
      ]
    },
    {
      "cell_type": "code",
      "source": [
        "array2 = array.reshape((3, 4))  # 객체에서 메서드 호출\n",
        "print(array2)"
      ],
      "metadata": {
        "colab": {
          "base_uri": "https://localhost:8080/"
        },
        "id": "6Vs4yfCuE7EB",
        "outputId": "bc31ad9d-05f2-4bd5-ff10-688fefd8b8f1"
      },
      "execution_count": 32,
      "outputs": [
        {
          "output_type": "stream",
          "name": "stdout",
          "text": [
            "[[ 0  1  2  3]\n",
            " [ 4  5  6  7]\n",
            " [ 8  9 10 11]]\n"
          ]
        }
      ]
    },
    {
      "cell_type": "code",
      "source": [
        "array3 = np.reshape(array, (4, 3))  # 함수 호출\n",
        "print(array3)"
      ],
      "metadata": {
        "colab": {
          "base_uri": "https://localhost:8080/"
        },
        "id": "AnW1MCbHFQPP",
        "outputId": "fb32bebe-fdab-4457-f5fc-e7299e5f9909"
      },
      "execution_count": 34,
      "outputs": [
        {
          "output_type": "stream",
          "name": "stdout",
          "text": [
            "[[ 0  1  2]\n",
            " [ 3  4  5]\n",
            " [ 6  7  8]\n",
            " [ 9 10 11]]\n"
          ]
        }
      ]
    },
    {
      "cell_type": "code",
      "source": [
        "# 메서드 연쇄 호출(chain-call)\n",
        "array = np.arange(15).reshape((3, 5))\n",
        "print(array)"
      ],
      "metadata": {
        "colab": {
          "base_uri": "https://localhost:8080/"
        },
        "id": "fey_Cdo8GMJJ",
        "outputId": "a9381d58-74ec-4d8d-e590-68a66d614b32"
      },
      "execution_count": 36,
      "outputs": [
        {
          "output_type": "stream",
          "name": "stdout",
          "text": [
            "[[ 0  1  2  3  4]\n",
            " [ 5  6  7  8  9]\n",
            " [10 11 12 13 14]]\n"
          ]
        }
      ]
    },
    {
      "cell_type": "markdown",
      "source": [
        "## 난수 배열\n",
        "\n",
        "*   `np.random.rand(d0, d1, d2, ...)`\n",
        "    *   [0, 1) 범위의 균등분포(uniform distribution)를 따르는 난수들을 갖는 배열을 생성.\n",
        "    *   아규먼트 d0, d1, ...: ndarray의 각 차원의 원소 개수.\n",
        "*   `np.random.randn(d0, d1, d2, ...)`\n",
        "    *   평균이 0이고 표준편차가 1인 표준정규분포(standard normal distribution)를 따르는 난수들을 갖는 배열을 생성.\n",
        "    *   아규먼트 d0, d1, ...: ndarray의 각 차원의 원소 개수.\n",
        "*   `np.random.randint(low, high, size, dtype)`\n",
        "    *   [low, high) 범위의 정수 난수들을 갖는 배열을 생성.\n",
        "    *   아규먼트 size: ndarray의 shape(모양)을 정수 또는 튜플로 전달.\n",
        "    *   아규먼트 dtype: int8, int16, int32, ...\n"
      ],
      "metadata": {
        "id": "JCwT0hvDG58I"
      }
    },
    {
      "cell_type": "code",
      "source": [
        "array = np.random.rand(5)\n",
        "print(array)"
      ],
      "metadata": {
        "colab": {
          "base_uri": "https://localhost:8080/"
        },
        "id": "TDt7TPidI_PY",
        "outputId": "81eaf728-eebe-4b83-9362-7dda5fa9ee30"
      },
      "execution_count": 37,
      "outputs": [
        {
          "output_type": "stream",
          "name": "stdout",
          "text": [
            "[0.34249335 0.60912842 0.23829706 0.20868038 0.3496123 ]\n"
          ]
        }
      ]
    },
    {
      "cell_type": "code",
      "source": [
        "array = np.random.rand(5, 3)\n",
        "print(array)"
      ],
      "metadata": {
        "colab": {
          "base_uri": "https://localhost:8080/"
        },
        "id": "lKS88mWoJcbC",
        "outputId": "4c54f0c1-2d37-43fd-ae40-23c122387062"
      },
      "execution_count": 38,
      "outputs": [
        {
          "output_type": "stream",
          "name": "stdout",
          "text": [
            "[[0.16607661 0.59143398 0.70965167]\n",
            " [0.60749393 0.75922823 0.45160439]\n",
            " [0.72663593 0.9533707  0.8941823 ]\n",
            " [0.01452622 0.05269365 0.45397028]\n",
            " [0.11687987 0.86355944 0.35518668]]\n"
          ]
        }
      ]
    },
    {
      "cell_type": "code",
      "source": [
        "array = np.random.randn(5)\n",
        "print(array)"
      ],
      "metadata": {
        "colab": {
          "base_uri": "https://localhost:8080/"
        },
        "id": "GYWBd9dOJgP3",
        "outputId": "f45cbf55-c541-4720-f2be-17916ead8057"
      },
      "execution_count": 44,
      "outputs": [
        {
          "output_type": "stream",
          "name": "stdout",
          "text": [
            "[ 1.94921365  0.41917523 -0.99619418  0.67750725  2.02633148]\n"
          ]
        }
      ]
    },
    {
      "cell_type": "code",
      "source": [
        "array = np.random.randn(5, 3)\n",
        "print(array)"
      ],
      "metadata": {
        "colab": {
          "base_uri": "https://localhost:8080/"
        },
        "id": "ttW-oZZyKwfx",
        "outputId": "90a1d923-6f4d-4c03-c276-801e61536f2c"
      },
      "execution_count": 45,
      "outputs": [
        {
          "output_type": "stream",
          "name": "stdout",
          "text": [
            "[[ 0.35621622 -1.7830145   1.61392133]\n",
            " [ 0.74000593  0.53864998  0.19708211]\n",
            " [-1.68671357  1.08217002 -0.05406817]\n",
            " [-1.70776199  0.33015455 -0.12185792]\n",
            " [-1.02427889 -0.52807316  0.48070123]]\n"
          ]
        }
      ]
    },
    {
      "cell_type": "code",
      "source": [
        "array = np.random.randint(0, 100, size=5)\n",
        "print(array)"
      ],
      "metadata": {
        "colab": {
          "base_uri": "https://localhost:8080/"
        },
        "id": "JiaAV5J3K0JQ",
        "outputId": "a8c7324c-0e0e-4c18-ec5f-ef65214218f5"
      },
      "execution_count": 47,
      "outputs": [
        {
          "output_type": "stream",
          "name": "stdout",
          "text": [
            "[80 44 99 39 98]\n"
          ]
        }
      ]
    },
    {
      "cell_type": "code",
      "source": [
        "array = np.random.randint(0, 10, size=(5, 3))\n",
        "print(array)"
      ],
      "metadata": {
        "colab": {
          "base_uri": "https://localhost:8080/"
        },
        "id": "CekuDjICLryA",
        "outputId": "8391ecaf-bfb9-45f4-91ad-7373f4dfda48"
      },
      "execution_count": 48,
      "outputs": [
        {
          "output_type": "stream",
          "name": "stdout",
          "text": [
            "[[2 1 5]\n",
            " [0 8 6]\n",
            " [8 3 5]\n",
            " [4 4 2]\n",
            " [5 2 9]]\n"
          ]
        }
      ]
    },
    {
      "cell_type": "code",
      "source": [
        "array = np.random.randint(10)  #> size=None(기본값)일 때는 난수 1개를 리턴.\n",
        "print(type(array))\n",
        "print(array)"
      ],
      "metadata": {
        "colab": {
          "base_uri": "https://localhost:8080/"
        },
        "id": "nPpUJbzSMU2g",
        "outputId": "14a095ae-559f-4e57-fdd7-9567134fb97d"
      },
      "execution_count": 55,
      "outputs": [
        {
          "output_type": "stream",
          "name": "stdout",
          "text": [
            "<class 'int'>\n",
            "2\n"
          ]
        }
      ]
    },
    {
      "cell_type": "markdown",
      "source": [
        "# 통계 함수/메서드\n",
        "\n",
        "*   함수: `np.function_name(ndarray)`\n",
        "*   메서드: `np.ndarray.method_name()`\n"
      ],
      "metadata": {
        "id": "Hz5LR-gydk7B"
      }
    },
    {
      "cell_type": "code",
      "source": [
        "array = np.random.randint(100, size=10)\n",
        "print(array)"
      ],
      "metadata": {
        "colab": {
          "base_uri": "https://localhost:8080/"
        },
        "id": "TAw8Y4LIejsJ",
        "outputId": "f38f2eeb-39c8-4dcf-bb9c-d3bb014eed4f"
      },
      "execution_count": 57,
      "outputs": [
        {
          "output_type": "stream",
          "name": "stdout",
          "text": [
            "[61 76 43 73 59 98 45 26 98 56]\n"
          ]
        }
      ]
    },
    {
      "cell_type": "code",
      "source": [
        "print('평균:', np.mean(array), array.mean())\n",
        "print('분산:', np.var(array), array.var())  # variance\n",
        "print('표준편차:', np.std(array), array.std())  # standard deviation\n",
        "print('최댓값:', np.max(array), array.max())\n",
        "print('최솟값:', np.min(array), array.min())\n",
        "print('중앙값:', np.median(array))  # 중앙값은 메서드가 제공되지 않음."
      ],
      "metadata": {
        "colab": {
          "base_uri": "https://localhost:8080/"
        },
        "id": "Kes8vmAYerp7",
        "outputId": "a81d9c3b-3b68-4655-a389-2007448ef882"
      },
      "execution_count": 59,
      "outputs": [
        {
          "output_type": "stream",
          "name": "stdout",
          "text": [
            "평균: 63.5 63.5\n",
            "분산: 487.85 487.85\n",
            "표준편차: 22.0873266829646 22.0873266829646\n",
            "최댓값: 98 98\n",
            "최솟값: 26 26\n",
            "중앙값: 60.0\n"
          ]
        }
      ]
    },
    {
      "cell_type": "code",
      "source": [
        "np.sort(array)  # 함수 호출 - 원본 배열은 변경하지 않고, 정렬된 \"새로운\" 배열을 리턴"
      ],
      "metadata": {
        "colab": {
          "base_uri": "https://localhost:8080/"
        },
        "id": "FNE88yBkgsMi",
        "outputId": "9f9eb9e5-e086-4704-e5dc-381d47df816e"
      },
      "execution_count": 60,
      "outputs": [
        {
          "output_type": "execute_result",
          "data": {
            "text/plain": [
              "array([26, 43, 45, 56, 59, 61, 73, 76, 98, 98])"
            ]
          },
          "metadata": {},
          "execution_count": 60
        }
      ]
    },
    {
      "cell_type": "code",
      "source": [
        "array.sort()  # 메서드 호출 - 원본 배열을 정렬하고 리턴은 없음. 원본 배열이 변경됨.\n",
        "print(array)"
      ],
      "metadata": {
        "colab": {
          "base_uri": "https://localhost:8080/"
        },
        "id": "S0gaTOfAgwF9",
        "outputId": "2b0bb47d-6e9f-40ca-8f55-27682affec9f"
      },
      "execution_count": 63,
      "outputs": [
        {
          "output_type": "stream",
          "name": "stdout",
          "text": [
            "[26 43 45 56 59 61 73 76 98 98]\n"
          ]
        }
      ]
    },
    {
      "cell_type": "code",
      "source": [
        "array = np.random.randint(100, size=10)\n",
        "print(array)\n",
        "print(np.argmax(array), array.argmax())  # 배열에서 최댓값의 인덱스를 리턴\n",
        "print(np.argmin(array), array.argmin())  # 배열에서 최솟값의 인덱스를 리턴"
      ],
      "metadata": {
        "colab": {
          "base_uri": "https://localhost:8080/"
        },
        "id": "ouR2UZjMjkh7",
        "outputId": "f21ec27f-33c6-498d-81b7-47b9a6595e95"
      },
      "execution_count": 65,
      "outputs": [
        {
          "output_type": "stream",
          "name": "stdout",
          "text": [
            "[87 53  7 17 74 17  0  7 95 57]\n",
            "8 8\n",
            "6 6\n"
          ]
        }
      ]
    },
    {
      "cell_type": "markdown",
      "source": [
        "## 2차원 배열에서 통계 함수/메서드"
      ],
      "metadata": {
        "id": "g1LpY_OEkuHq"
      }
    },
    {
      "cell_type": "code",
      "source": [
        "np.random.seed(42)  # 실행할 때마다 항상 같은 난수들을 만들어 내기 위해서.\n",
        "array = np.random.randint(10, size=(5, 4))\n",
        "print(array)"
      ],
      "metadata": {
        "colab": {
          "base_uri": "https://localhost:8080/"
        },
        "id": "BuKeFYPNkxpK",
        "outputId": "65210c98-ea94-456f-ccaa-c8a0ca252f2e"
      },
      "execution_count": 77,
      "outputs": [
        {
          "output_type": "stream",
          "name": "stdout",
          "text": [
            "[[6 3 7 4]\n",
            " [6 9 2 6]\n",
            " [7 4 3 7]\n",
            " [7 2 5 4]\n",
            " [1 7 5 1]]\n"
          ]
        }
      ]
    },
    {
      "cell_type": "code",
      "source": [
        "np.sum(array)  # 2차원 배열의 모든 원소들의 합계"
      ],
      "metadata": {
        "colab": {
          "base_uri": "https://localhost:8080/"
        },
        "id": "KSkTfSdIlRnL",
        "outputId": "7ddf31f2-8084-4a98-ff86-19534cf8b1b4"
      },
      "execution_count": 78,
      "outputs": [
        {
          "output_type": "execute_result",
          "data": {
            "text/plain": [
              "np.int64(96)"
            ]
          },
          "metadata": {},
          "execution_count": 78
        }
      ]
    },
    {
      "cell_type": "code",
      "source": [
        "np.sum(array, axis=0)  # 행의 인덱스가 증가하는 방향으로 원소들의 합계"
      ],
      "metadata": {
        "colab": {
          "base_uri": "https://localhost:8080/"
        },
        "id": "Jbe4uSW4l9S1",
        "outputId": "3658d430-684c-4afb-d05e-a0313a67edd9"
      },
      "execution_count": 79,
      "outputs": [
        {
          "output_type": "execute_result",
          "data": {
            "text/plain": [
              "array([27, 25, 22, 22])"
            ]
          },
          "metadata": {},
          "execution_count": 79
        }
      ]
    },
    {
      "cell_type": "code",
      "source": [
        "np.sum(array, axis=1)  # 컬럼의 인덱스가 증가하는 방향으로 원소들의 합계"
      ],
      "metadata": {
        "colab": {
          "base_uri": "https://localhost:8080/"
        },
        "id": "qM3lNwLknMds",
        "outputId": "cc5d1c2b-4413-4dd0-b66f-03ddaa3c7d8a"
      },
      "execution_count": 80,
      "outputs": [
        {
          "output_type": "execute_result",
          "data": {
            "text/plain": [
              "array([20, 23, 21, 18, 14])"
            ]
          },
          "metadata": {},
          "execution_count": 80
        }
      ]
    }
  ]
}