{
  "nbformat": 4,
  "nbformat_minor": 0,
  "metadata": {
    "colab": {
      "provenance": [],
      "toc_visible": true,
      "authorship_tag": "ABX9TyPtzXK1A0keVvQN7cAw9pOc",
      "include_colab_link": true
    },
    "kernelspec": {
      "name": "python3",
      "display_name": "Python 3"
    },
    "language_info": {
      "name": "python"
    }
  },
  "cells": [
    {
      "cell_type": "markdown",
      "metadata": {
        "id": "view-in-github",
        "colab_type": "text"
      },
      "source": [
        "<a href=\"https://colab.research.google.com/github/JakeOh/202505_BD50/blob/main/lab_da/da01_numpy.ipynb\" target=\"_parent\"><img src=\"https://colab.research.google.com/assets/colab-badge.svg\" alt=\"Open In Colab\"/></a>"
      ]
    },
    {
      "cell_type": "markdown",
      "source": [
        "# 데이터 분석 패키지\n",
        "\n",
        "*   NumPy: 다차원 배열을 쉽게 사용할 수 있는 패키지. 머신 러닝에서 중요하게 사용됨.\n",
        "*   pandas: 데이터프레임(DataFrame)과 시리즈(Series)를 기본으로 사용해서 데이터 분석에 필요한 기능들을 가지고 있는 패키지.\n",
        "*   matplotlib, seaborn: 데이터 시각화 패키지. 그래프.\n",
        "*   scikit-learn: 머신 러닝에서 사용하는 패키지.\n",
        "*   keras: 딥러닝에서 사용하는 패키지."
      ],
      "metadata": {
        "id": "4s21L68YpB6-"
      }
    },
    {
      "cell_type": "code",
      "execution_count": 1,
      "metadata": {
        "id": "c6UHslWIo4Ih"
      },
      "outputs": [],
      "source": [
        "import numpy as np\n",
        "import pandas as pd\n",
        "import matplotlib\n",
        "import seaborn\n",
        "import sklearn  # scikit-learn\n",
        "import keras"
      ]
    },
    {
      "cell_type": "code",
      "source": [
        "print('numpy version =', np.__version__)\n",
        "print('pandas version =', pd.__version__)\n",
        "print('matplotlib version =', matplotlib.__version__)\n",
        "print('seaborn version =', seaborn.__version__)\n",
        "print('scikit-learn version =', sklearn.__version__)\n",
        "print('keras version =', keras.__version__)"
      ],
      "metadata": {
        "colab": {
          "base_uri": "https://localhost:8080/"
        },
        "id": "dV7841_SrEVo",
        "outputId": "0ec5fbcc-a9cb-4db7-93a5-98963d491566"
      },
      "execution_count": 2,
      "outputs": [
        {
          "output_type": "stream",
          "name": "stdout",
          "text": [
            "numpy version = 2.0.2\n",
            "pandas version = 2.2.2\n",
            "matplotlib version = 3.10.0\n",
            "seaborn version = 0.13.2\n",
            "scikit-learn version = 1.6.1\n",
            "keras version = 3.8.0\n"
          ]
        }
      ]
    },
    {
      "cell_type": "markdown",
      "source": [
        "# Python List\n",
        "\n",
        "*   여러개의 값들을 저장할 수 있는 데이터 타입\n",
        "*   인덱스를 기반으로 값들을 저장하는 데이터 타입\n",
        "    *   indexing: 인덱스를 사용해서 원하는 위치의 값을 참조. (예) `numbers[0]`\n",
        "    *   slicing: [start, end) 인덱스 범위의 부분 리스트를 만듦. (예) `numbers[0:5]`\n",
        "*   산술 연산\n",
        "    *   `list + list`: 두 개의 리스트를 이어붙어서 하나의 리스트로 만듦. concatenate.\n",
        "    *   `list * int, int * list`: 리스트의 원소들을 정수만큼 복사해서 추가. replicate."
      ],
      "metadata": {
        "id": "BgjdIHxAtjMm"
      }
    },
    {
      "cell_type": "code",
      "source": [
        "num_list1 = [1, 2, 3]\n",
        "num_list2 = [11, 22, 33]"
      ],
      "metadata": {
        "id": "p5HK_pQurnGB"
      },
      "execution_count": 3,
      "outputs": []
    },
    {
      "cell_type": "code",
      "source": [
        "# indexing\n",
        "print(num_list1[0])  # 첫번째 원소\n",
        "print(num_list2[-1])  # 마지막 원소"
      ],
      "metadata": {
        "colab": {
          "base_uri": "https://localhost:8080/"
        },
        "id": "a4LHGZhCvekW",
        "outputId": "eb8be7b5-e6c3-40eb-e816-ae904ff44453"
      },
      "execution_count": 4,
      "outputs": [
        {
          "output_type": "stream",
          "name": "stdout",
          "text": [
            "1\n",
            "33\n"
          ]
        }
      ]
    },
    {
      "cell_type": "code",
      "source": [
        "# slicing\n",
        "print(num_list1[:2])  # 첫 2개의 원소들을 잘라내기\n",
        "print(num_list2[-2:])  # 마지막 2개의 원소들을 잘라내기"
      ],
      "metadata": {
        "colab": {
          "base_uri": "https://localhost:8080/"
        },
        "id": "d3_XpxOtvpim",
        "outputId": "aea9b827-4b35-40c9-a4d2-b389b7be2cf6"
      },
      "execution_count": 5,
      "outputs": [
        {
          "output_type": "stream",
          "name": "stdout",
          "text": [
            "[1, 2]\n",
            "[22, 33]\n"
          ]
        }
      ]
    },
    {
      "cell_type": "code",
      "source": [
        "num_list1 + num_list2  # concatenate"
      ],
      "metadata": {
        "colab": {
          "base_uri": "https://localhost:8080/"
        },
        "id": "cSaMAPGGwAr2",
        "outputId": "e2d7aec1-b91c-4c0a-eef0-34477034e67e"
      },
      "execution_count": 6,
      "outputs": [
        {
          "output_type": "execute_result",
          "data": {
            "text/plain": [
              "[1, 2, 3, 11, 22, 33]"
            ]
          },
          "metadata": {},
          "execution_count": 6
        }
      ]
    },
    {
      "cell_type": "code",
      "source": [
        "num_list1 * 3  # replicate"
      ],
      "metadata": {
        "colab": {
          "base_uri": "https://localhost:8080/"
        },
        "id": "72GpkysKwCRG",
        "outputId": "5e69a3f0-7666-46bd-bb20-9fca5e8ced1b"
      },
      "execution_count": 7,
      "outputs": [
        {
          "output_type": "execute_result",
          "data": {
            "text/plain": [
              "[1, 2, 3, 1, 2, 3, 1, 2, 3]"
            ]
          },
          "metadata": {},
          "execution_count": 7
        }
      ]
    },
    {
      "cell_type": "code",
      "source": [
        "# num_list1과 num_list2에서 같은 인덱스의 원소들끼리 덧셈\n",
        "[x + y for x, y in zip(num_list1, num_list2)]"
      ],
      "metadata": {
        "colab": {
          "base_uri": "https://localhost:8080/"
        },
        "id": "Rp0A0UDXwMjO",
        "outputId": "c71c8f76-0532-4ae8-d673-a5e7e341b5e0"
      },
      "execution_count": 8,
      "outputs": [
        {
          "output_type": "execute_result",
          "data": {
            "text/plain": [
              "[12, 24, 36]"
            ]
          },
          "metadata": {},
          "execution_count": 8
        }
      ]
    },
    {
      "cell_type": "code",
      "source": [
        "# num_list1의 모든 원소에 3을 곱하기\n",
        "[3 * x for x in num_list1]"
      ],
      "metadata": {
        "colab": {
          "base_uri": "https://localhost:8080/"
        },
        "id": "ogTWFxPexcBe",
        "outputId": "06d00cba-8911-46a2-fc14-5879cec9985d"
      },
      "execution_count": 9,
      "outputs": [
        {
          "output_type": "execute_result",
          "data": {
            "text/plain": [
              "[3, 6, 9]"
            ]
          },
          "metadata": {},
          "execution_count": 9
        }
      ]
    },
    {
      "cell_type": "markdown",
      "source": [
        "# NumPy(Numerical Python)\n",
        "\n",
        "*   다차원 배열(n-dimensional array)을 쉽고 빠르게 연산(`+, -, *, /, ...`)하기 위한 라이브러리.\n",
        "*   numpy 패키지의 대부분의 기능(연산자, 함수, 메서드)들은 반복문의 기능을 가지고 있음.\n",
        "    *   같은 인덱스의 원소들끼리(element-wise) 연산하는 기능을 가지고 있음.\n",
        "*   `numpy.ndarray` 클래스: numpy 패키지의 가장 기본이 되는 클래스."
      ],
      "metadata": {
        "id": "eUVcbls31dJt"
      }
    },
    {
      "cell_type": "code",
      "source": [
        "num_arr1 = np.array([1, 2, 3])  # 아규먼트로 전달된 리스트를 ndarray로 변환해서 리턴.\n",
        "print(type(num_arr1))\n",
        "print(num_arr1)  # __str__() 메서드가 리턴하는 문자열"
      ],
      "metadata": {
        "colab": {
          "base_uri": "https://localhost:8080/"
        },
        "id": "IwKRyiB22wqH",
        "outputId": "c311f5aa-fcf7-4337-c110-79f3e97a6706"
      },
      "execution_count": 12,
      "outputs": [
        {
          "output_type": "stream",
          "name": "stdout",
          "text": [
            "<class 'numpy.ndarray'>\n",
            "[1 2 3]\n"
          ]
        }
      ]
    },
    {
      "cell_type": "code",
      "source": [
        "num_arr1  # __repr__() 메서드가 리턴하는 문자열"
      ],
      "metadata": {
        "colab": {
          "base_uri": "https://localhost:8080/"
        },
        "id": "bQyxTCZ03Id5",
        "outputId": "db6737ae-ff51-45b8-c93b-589672fa23ff"
      },
      "execution_count": 13,
      "outputs": [
        {
          "output_type": "execute_result",
          "data": {
            "text/plain": [
              "array([1, 2, 3])"
            ]
          },
          "metadata": {},
          "execution_count": 13
        }
      ]
    },
    {
      "cell_type": "code",
      "source": [
        "num_arr2 = np.array([11, 22, 33])\n",
        "print(num_arr2)"
      ],
      "metadata": {
        "colab": {
          "base_uri": "https://localhost:8080/"
        },
        "id": "9gpW7crO4N_f",
        "outputId": "7ee5c2f5-885e-4be8-80f3-7496d286555e"
      },
      "execution_count": 14,
      "outputs": [
        {
          "output_type": "stream",
          "name": "stdout",
          "text": [
            "[11 22 33]\n"
          ]
        }
      ]
    },
    {
      "cell_type": "code",
      "source": [
        "# element-wise 연산\n",
        "print(num_arr1 + num_arr2)\n",
        "print(num_arr1 - num_arr2)\n",
        "print(num_arr1 * num_arr2)\n",
        "print(num_arr1 * 3)\n",
        "print(num_arr1 / num_arr2)"
      ],
      "metadata": {
        "colab": {
          "base_uri": "https://localhost:8080/"
        },
        "id": "w_FG0n2g4T_x",
        "outputId": "7ef12130-007e-4b0e-8117-2a4ec3d65141"
      },
      "execution_count": 15,
      "outputs": [
        {
          "output_type": "stream",
          "name": "stdout",
          "text": [
            "[12 24 36]\n",
            "[-10 -20 -30]\n",
            "[11 44 99]\n",
            "[3 6 9]\n",
            "[0.09090909 0.09090909 0.09090909]\n"
          ]
        }
      ]
    },
    {
      "cell_type": "markdown",
      "source": [
        "## `np.ndarray` 클래스의 속성들"
      ],
      "metadata": {
        "id": "bCbkGhjP5I13"
      }
    },
    {
      "cell_type": "code",
      "source": [
        "print(num_arr1)\n",
        "print('ndim =', num_arr1.ndim)  # 차원(dimension)\n",
        "print('size =', num_arr1.size)  # 배열의 크기(모든 원소 개수)\n",
        "print('shape =', num_arr1.shape)  # 배열의 모양(배열의 각 차원에서의 원소 갯수들로 이루어진 튜플)\n",
        "print('dtype =', num_arr1.dtype)  # 데이터 타입(배열 원소의 데이터 타입)"
      ],
      "metadata": {
        "colab": {
          "base_uri": "https://localhost:8080/"
        },
        "id": "gSbD8e3r4nk3",
        "outputId": "057a5f6d-c93d-463f-c4eb-18f9a001fbbb"
      },
      "execution_count": 20,
      "outputs": [
        {
          "output_type": "stream",
          "name": "stdout",
          "text": [
            "[1 2 3]\n",
            "ndim = 1\n",
            "size = 3\n",
            "shape = (3,)\n",
            "dtype = int64\n"
          ]
        }
      ]
    },
    {
      "cell_type": "markdown",
      "source": [
        "*   Python의 숫자 타입\n",
        "    *   정수: `int`\n",
        "    *   실수: `float`\n",
        "*   NumPy의 숫자 타입\n",
        "    *   정수: `int8, int16, int32, int64, ...`\n",
        "    *   실수: `float16, float32, float64, ...`"
      ],
      "metadata": {
        "id": "f0EZmUcg6tRP"
      }
    },
    {
      "cell_type": "code",
      "source": [
        "# 2차원 배열\n",
        "array = np.array([[1, 2, 3],\n",
        "                  [4, 5, 6]])\n",
        "print(type(array))"
      ],
      "metadata": {
        "colab": {
          "base_uri": "https://localhost:8080/"
        },
        "id": "4zDbXR7-5SiX",
        "outputId": "717c8081-70f1-4072-d802-47c39b5ad946"
      },
      "execution_count": 21,
      "outputs": [
        {
          "output_type": "stream",
          "name": "stdout",
          "text": [
            "<class 'numpy.ndarray'>\n"
          ]
        }
      ]
    },
    {
      "cell_type": "code",
      "source": [
        "print(array)"
      ],
      "metadata": {
        "colab": {
          "base_uri": "https://localhost:8080/"
        },
        "id": "F7WIPUsS8ATh",
        "outputId": "924b6b96-3493-464a-fe20-f29eab0af5e1"
      },
      "execution_count": 22,
      "outputs": [
        {
          "output_type": "stream",
          "name": "stdout",
          "text": [
            "[[1 2 3]\n",
            " [4 5 6]]\n"
          ]
        }
      ]
    },
    {
      "cell_type": "code",
      "source": [
        "print('ndim =', array.ndim)  # 차원(dimension)\n",
        "print('size =', array.size)  # 크기(shape 튜플의 모든 숫자들을 곱한 값)\n",
        "print('shape =', array.shape)  # 모양\n",
        "print('dtype =', array.dtype)"
      ],
      "metadata": {
        "colab": {
          "base_uri": "https://localhost:8080/"
        },
        "id": "R4CWA3OR8CZv",
        "outputId": "d30967f5-30e9-489c-aaeb-9cdf9adc651f"
      },
      "execution_count": 26,
      "outputs": [
        {
          "output_type": "stream",
          "name": "stdout",
          "text": [
            "ndim = 2\n",
            "size = 6\n",
            "shape = (2, 3)\n",
            "dtype = int64\n"
          ]
        }
      ]
    },
    {
      "cell_type": "markdown",
      "source": [
        "# `np.ndarray` 객체 생성 함수들"
      ],
      "metadata": {
        "id": "sL-GB7EU9oJH"
      }
    },
    {
      "cell_type": "markdown",
      "source": [
        "## `np.array(object)`\n",
        "\n",
        "*   object를 ndarray로 변환해서 리턴.\n",
        "*   object: 배열과 비슷한 객체들. `list, tuple, ndarry, ...`"
      ],
      "metadata": {
        "id": "Ss3uTsAP91k-"
      }
    },
    {
      "cell_type": "code",
      "source": [
        "# 0 이상 10 미만의 정수들로 이루어진 배열\n",
        "numbers = np.array([x for x in range(10)])  # range(0, 10, 1)\n",
        "print(numbers)"
      ],
      "metadata": {
        "colab": {
          "base_uri": "https://localhost:8080/"
        },
        "id": "kkm6GPWp8u6g",
        "outputId": "0e35ae08-31dc-44d1-bbe1-dde431d9f298"
      },
      "execution_count": 27,
      "outputs": [
        {
          "output_type": "stream",
          "name": "stdout",
          "text": [
            "[0 1 2 3 4 5 6 7 8 9]\n"
          ]
        }
      ]
    },
    {
      "cell_type": "markdown",
      "source": [
        "## `np.arange(start, end, step)`\n",
        "\n",
        "*   range를 사용해서 array을 생성하는 함수.\n",
        "*   `range(start, end, step)`와 사용 방법이 동일.\n",
        "*   1차원 ndarray를 생성"
      ],
      "metadata": {
        "id": "GmnLSGL--rxY"
      }
    },
    {
      "cell_type": "code",
      "source": [
        "numbers = np.arange(10)\n",
        "print(numbers)"
      ],
      "metadata": {
        "colab": {
          "base_uri": "https://localhost:8080/"
        },
        "id": "elNKGzlP-iPB",
        "outputId": "74139872-f867-4915-cc18-bb2b93449293"
      },
      "execution_count": 29,
      "outputs": [
        {
          "output_type": "stream",
          "name": "stdout",
          "text": [
            "[0 1 2 3 4 5 6 7 8 9]\n"
          ]
        }
      ]
    },
    {
      "cell_type": "code",
      "source": [],
      "metadata": {
        "id": "zXZUHfmn_VUn"
      },
      "execution_count": null,
      "outputs": []
    }
  ]
}