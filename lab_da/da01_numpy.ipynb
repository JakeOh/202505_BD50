{
  "nbformat": 4,
  "nbformat_minor": 0,
  "metadata": {
    "colab": {
      "provenance": [],
      "toc_visible": true,
      "authorship_tag": "ABX9TyNdu90/qIbeQTOx3i393QTI",
      "include_colab_link": true
    },
    "kernelspec": {
      "name": "python3",
      "display_name": "Python 3"
    },
    "language_info": {
      "name": "python"
    }
  },
  "cells": [
    {
      "cell_type": "markdown",
      "metadata": {
        "id": "view-in-github",
        "colab_type": "text"
      },
      "source": [
        "<a href=\"https://colab.research.google.com/github/JakeOh/202505_BD50/blob/main/lab_da/da01_numpy.ipynb\" target=\"_parent\"><img src=\"https://colab.research.google.com/assets/colab-badge.svg\" alt=\"Open In Colab\"/></a>"
      ]
    },
    {
      "cell_type": "markdown",
      "source": [
        "# 데이터 분석 패키지\n",
        "\n",
        "*   NumPy: 다차원 배열을 쉽게 사용할 수 있는 패키지. 머신 러닝에서 중요하게 사용됨.\n",
        "*   pandas: 데이터프레임(DataFrame)과 시리즈(Series)를 기본으로 사용해서 데이터 분석에 필요한 기능들을 가지고 있는 패키지.\n",
        "*   matplotlib, seaborn: 데이터 시각화 패키지. 그래프.\n",
        "*   scikit-learn: 머신 러닝에서 사용하는 패키지.\n",
        "*   keras: 딥러닝에서 사용하는 패키지."
      ],
      "metadata": {
        "id": "4s21L68YpB6-"
      }
    },
    {
      "cell_type": "code",
      "execution_count": 1,
      "metadata": {
        "id": "c6UHslWIo4Ih"
      },
      "outputs": [],
      "source": [
        "import numpy as np\n",
        "import pandas as pd\n",
        "import matplotlib\n",
        "import seaborn\n",
        "import sklearn  # scikit-learn\n",
        "import keras"
      ]
    },
    {
      "cell_type": "code",
      "source": [
        "print('numpy version =', np.__version__)\n",
        "print('pandas version =', pd.__version__)\n",
        "print('matplotlib version =', matplotlib.__version__)\n",
        "print('seaborn version =', seaborn.__version__)\n",
        "print('scikit-learn version =', sklearn.__version__)\n",
        "print('keras version =', keras.__version__)"
      ],
      "metadata": {
        "colab": {
          "base_uri": "https://localhost:8080/"
        },
        "id": "dV7841_SrEVo",
        "outputId": "0ec5fbcc-a9cb-4db7-93a5-98963d491566"
      },
      "execution_count": 2,
      "outputs": [
        {
          "output_type": "stream",
          "name": "stdout",
          "text": [
            "numpy version = 2.0.2\n",
            "pandas version = 2.2.2\n",
            "matplotlib version = 3.10.0\n",
            "seaborn version = 0.13.2\n",
            "scikit-learn version = 1.6.1\n",
            "keras version = 3.8.0\n"
          ]
        }
      ]
    },
    {
      "cell_type": "markdown",
      "source": [
        "# Python List\n",
        "\n",
        "*   여러개의 값들을 저장할 수 있는 데이터 타입\n",
        "*   인덱스를 기반으로 값들을 저장하는 데이터 타입\n",
        "    *   indexing: 인덱스를 사용해서 원하는 위치의 값을 참조. (예) `numbers[0]`\n",
        "    *   slicing: [start, end) 인덱스 범위의 부분 리스트를 만듦. (예) `numbers[0:5]`\n",
        "*   산술 연산\n",
        "    *   `list + list`: 두 개의 리스트를 이어붙어서 하나의 리스트로 만듦. concatenate.\n",
        "    *   `list * int, int * list`: 리스트의 원소들을 정수만큼 복사해서 추가. replicate."
      ],
      "metadata": {
        "id": "BgjdIHxAtjMm"
      }
    },
    {
      "cell_type": "code",
      "source": [
        "num_list1 = [1, 2, 3]\n",
        "num_list2 = [11, 22, 33]"
      ],
      "metadata": {
        "id": "p5HK_pQurnGB"
      },
      "execution_count": 3,
      "outputs": []
    },
    {
      "cell_type": "code",
      "source": [
        "# indexing\n",
        "print(num_list1[0])  # 첫번째 원소\n",
        "print(num_list2[-1])  # 마지막 원소"
      ],
      "metadata": {
        "colab": {
          "base_uri": "https://localhost:8080/"
        },
        "id": "a4LHGZhCvekW",
        "outputId": "eb8be7b5-e6c3-40eb-e816-ae904ff44453"
      },
      "execution_count": 4,
      "outputs": [
        {
          "output_type": "stream",
          "name": "stdout",
          "text": [
            "1\n",
            "33\n"
          ]
        }
      ]
    },
    {
      "cell_type": "code",
      "source": [
        "# slicing\n",
        "print(num_list1[:2])  # 첫 2개의 원소들을 잘라내기\n",
        "print(num_list2[-2:])  # 마지막 2개의 원소들을 잘라내기"
      ],
      "metadata": {
        "colab": {
          "base_uri": "https://localhost:8080/"
        },
        "id": "d3_XpxOtvpim",
        "outputId": "aea9b827-4b35-40c9-a4d2-b389b7be2cf6"
      },
      "execution_count": 5,
      "outputs": [
        {
          "output_type": "stream",
          "name": "stdout",
          "text": [
            "[1, 2]\n",
            "[22, 33]\n"
          ]
        }
      ]
    },
    {
      "cell_type": "code",
      "source": [
        "num_list1 + num_list2  # concatenate"
      ],
      "metadata": {
        "colab": {
          "base_uri": "https://localhost:8080/"
        },
        "id": "cSaMAPGGwAr2",
        "outputId": "e2d7aec1-b91c-4c0a-eef0-34477034e67e"
      },
      "execution_count": 6,
      "outputs": [
        {
          "output_type": "execute_result",
          "data": {
            "text/plain": [
              "[1, 2, 3, 11, 22, 33]"
            ]
          },
          "metadata": {},
          "execution_count": 6
        }
      ]
    },
    {
      "cell_type": "code",
      "source": [
        "num_list1 * 3  # replicate"
      ],
      "metadata": {
        "colab": {
          "base_uri": "https://localhost:8080/"
        },
        "id": "72GpkysKwCRG",
        "outputId": "5e69a3f0-7666-46bd-bb20-9fca5e8ced1b"
      },
      "execution_count": 7,
      "outputs": [
        {
          "output_type": "execute_result",
          "data": {
            "text/plain": [
              "[1, 2, 3, 1, 2, 3, 1, 2, 3]"
            ]
          },
          "metadata": {},
          "execution_count": 7
        }
      ]
    },
    {
      "cell_type": "code",
      "source": [
        "# num_list1과 num_list2에서 같은 인덱스의 원소들끼리 덧셈\n",
        "[x + y for x, y in zip(num_list1, num_list2)]"
      ],
      "metadata": {
        "colab": {
          "base_uri": "https://localhost:8080/"
        },
        "id": "Rp0A0UDXwMjO",
        "outputId": "c71c8f76-0532-4ae8-d673-a5e7e341b5e0"
      },
      "execution_count": 8,
      "outputs": [
        {
          "output_type": "execute_result",
          "data": {
            "text/plain": [
              "[12, 24, 36]"
            ]
          },
          "metadata": {},
          "execution_count": 8
        }
      ]
    },
    {
      "cell_type": "code",
      "source": [
        "# num_list1의 모든 원소에 3을 곱하기\n",
        "[3 * x for x in num_list1]"
      ],
      "metadata": {
        "colab": {
          "base_uri": "https://localhost:8080/"
        },
        "id": "ogTWFxPexcBe",
        "outputId": "06d00cba-8911-46a2-fc14-5879cec9985d"
      },
      "execution_count": 9,
      "outputs": [
        {
          "output_type": "execute_result",
          "data": {
            "text/plain": [
              "[3, 6, 9]"
            ]
          },
          "metadata": {},
          "execution_count": 9
        }
      ]
    }
  ]
}