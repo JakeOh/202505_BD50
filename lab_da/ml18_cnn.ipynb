{
  "nbformat": 4,
  "nbformat_minor": 0,
  "metadata": {
    "colab": {
      "provenance": [],
      "toc_visible": true,
      "authorship_tag": "ABX9TyPa8LYjEop+ElwdHzgy+od0",
      "include_colab_link": true
    },
    "kernelspec": {
      "name": "python3",
      "display_name": "Python 3"
    },
    "language_info": {
      "name": "python"
    }
  },
  "cells": [
    {
      "cell_type": "markdown",
      "metadata": {
        "id": "view-in-github",
        "colab_type": "text"
      },
      "source": [
        "<a href=\"https://colab.research.google.com/github/JakeOh/202505_BD50/blob/main/lab_da/ml18_cnn.ipynb\" target=\"_parent\"><img src=\"https://colab.research.google.com/assets/colab-badge.svg\" alt=\"Open In Colab\"/></a>"
      ]
    },
    {
      "cell_type": "markdown",
      "source": [
        "# CNN(Convolution Neural Network)"
      ],
      "metadata": {
        "id": "sMK8C0RDght7"
      }
    },
    {
      "cell_type": "markdown",
      "source": [
        "# Imports"
      ],
      "metadata": {
        "id": "Y9v8Y8OJgxAC"
      }
    },
    {
      "cell_type": "code",
      "execution_count": 1,
      "metadata": {
        "id": "DQ2rC9UagVvW"
      },
      "outputs": [],
      "source": [
        "import numpy as np\n",
        "import matplotlib.pyplot as plt\n",
        "\n",
        "from scipy.signal import convolve, convolve2d, correlate, correlate2d\n",
        "from sklearn.datasets import load_sample_image\n",
        "from sklearn.model_selection import train_test_split\n",
        "\n",
        "import keras"
      ]
    },
    {
      "cell_type": "markdown",
      "source": [
        "# 1차원 합성곱 연산(1-D Convolution)"
      ],
      "metadata": {
        "id": "pxXrIN3rhhVx"
      }
    },
    {
      "cell_type": "code",
      "source": [
        "x = np.arange(1, 5)\n",
        "print(x)"
      ],
      "metadata": {
        "colab": {
          "base_uri": "https://localhost:8080/"
        },
        "id": "M0bOcWGehcBj",
        "outputId": "637a9e34-dea8-4862-d70a-4e306eeca42c"
      },
      "execution_count": 2,
      "outputs": [
        {
          "output_type": "stream",
          "name": "stdout",
          "text": [
            "[1 2 3 4]\n"
          ]
        }
      ]
    },
    {
      "cell_type": "code",
      "source": [
        "y = np.array([1, 2])\n",
        "print(y)"
      ],
      "metadata": {
        "colab": {
          "base_uri": "https://localhost:8080/"
        },
        "id": "TNPwRO7mhukk",
        "outputId": "3882648c-d0de-4ef2-b70f-fdd3a2aea67b"
      },
      "execution_count": 3,
      "outputs": [
        {
          "output_type": "stream",
          "name": "stdout",
          "text": [
            "[1 2]\n"
          ]
        }
      ]
    },
    {
      "cell_type": "code",
      "source": [
        "y_flip = np.flip(y)\n",
        "print(y_flip)"
      ],
      "metadata": {
        "colab": {
          "base_uri": "https://localhost:8080/"
        },
        "id": "Zc4XP4vTh08C",
        "outputId": "6bd08f8d-ae87-4afa-ca46-5216b3438e0c"
      },
      "execution_count": 5,
      "outputs": [
        {
          "output_type": "stream",
          "name": "stdout",
          "text": [
            "[2 1]\n"
          ]
        }
      ]
    },
    {
      "cell_type": "markdown",
      "source": [
        "## convolve 함수\n",
        "\n",
        "scipy.signal.convove 함수는 배열 y를 flip(반전)시킨 후 연산을 수행."
      ],
      "metadata": {
        "id": "uccNvOGYnRCw"
      }
    },
    {
      "cell_type": "code",
      "source": [
        "result = convolve(x, y, mode='valid')  # valid mode 합성곱 연산 -> 배열 x의 크기가 줄어듦.\n",
        "print(result)"
      ],
      "metadata": {
        "colab": {
          "base_uri": "https://localhost:8080/"
        },
        "id": "pFg5sAUjh_EL",
        "outputId": "937a1f5c-6c2d-437a-9efb-080986fa43d0"
      },
      "execution_count": 7,
      "outputs": [
        {
          "output_type": "stream",
          "name": "stdout",
          "text": [
            "[ 4  7 10]\n"
          ]
        }
      ]
    },
    {
      "cell_type": "code",
      "source": [
        "result = convolve(x, y, mode='same')  # same mode 합성곱 연산 -> x의 크기와 동일한 배열 리턴.\n",
        "print(result)"
      ],
      "metadata": {
        "colab": {
          "base_uri": "https://localhost:8080/"
        },
        "id": "6kyoQVjNjpVx",
        "outputId": "b62c1579-8abc-43e7-eced-96d7ef43acd1"
      },
      "execution_count": 8,
      "outputs": [
        {
          "output_type": "stream",
          "name": "stdout",
          "text": [
            "[ 1  4  7 10]\n"
          ]
        }
      ]
    },
    {
      "cell_type": "code",
      "source": [
        "result = convolve(x, y, mode='full')  # full mode 합성곱 연산\n",
        "# -> 배열 x의 모든 원소가 합성곱 연산에 같은 비율로 참여하도록 패딩을 넣는 것.\n",
        "print(result)"
      ],
      "metadata": {
        "colab": {
          "base_uri": "https://localhost:8080/"
        },
        "id": "MlPSqhy7k50K",
        "outputId": "e9c24e6e-9dc5-45c6-b331-c647737dc4a6"
      },
      "execution_count": 9,
      "outputs": [
        {
          "output_type": "stream",
          "name": "stdout",
          "text": [
            "[ 1  4  7 10  8]\n"
          ]
        }
      ]
    },
    {
      "cell_type": "markdown",
      "source": [
        "# 교차 상관(cross-correlate)\n",
        "\n",
        "scipy.signal.correlate 함수는 배열 y를 반전시키지 않고 연산을 수행."
      ],
      "metadata": {
        "id": "m3MNvH3inpU-"
      }
    },
    {
      "cell_type": "code",
      "source": [
        "result = correlate(x, y, mode='valid')\n",
        "print(result)"
      ],
      "metadata": {
        "colab": {
          "base_uri": "https://localhost:8080/"
        },
        "id": "KPBXudgmmUy5",
        "outputId": "c506c30a-d9a5-4634-cf35-54b2c1aa7fd8"
      },
      "execution_count": 10,
      "outputs": [
        {
          "output_type": "stream",
          "name": "stdout",
          "text": [
            "[ 5  8 11]\n"
          ]
        }
      ]
    },
    {
      "cell_type": "code",
      "source": [
        "result = correlate(x, y, mode='same')\n",
        "print(result)"
      ],
      "metadata": {
        "colab": {
          "base_uri": "https://localhost:8080/"
        },
        "id": "O5YsyCe9n_Ev",
        "outputId": "995837fa-03cb-4bd1-f05c-422038f8f743"
      },
      "execution_count": 11,
      "outputs": [
        {
          "output_type": "stream",
          "name": "stdout",
          "text": [
            "[ 2  5  8 11]\n"
          ]
        }
      ]
    },
    {
      "cell_type": "code",
      "source": [
        "result = correlate(x, y, mode='full')\n",
        "print(result)"
      ],
      "metadata": {
        "colab": {
          "base_uri": "https://localhost:8080/"
        },
        "id": "KJi8z-GcoEEt",
        "outputId": "2c8e8b9b-8f97-4ed3-f465-967b55f05ec2"
      },
      "execution_count": 12,
      "outputs": [
        {
          "output_type": "stream",
          "name": "stdout",
          "text": [
            "[ 2  5  8 11  4]\n"
          ]
        }
      ]
    },
    {
      "cell_type": "markdown",
      "source": [
        "# 2차원 합성곱(2-D Convolution)"
      ],
      "metadata": {
        "id": "5j72uOirpRJ9"
      }
    },
    {
      "cell_type": "code",
      "source": [
        "x = np.arange(1, 17).reshape((4, 4))\n",
        "print(x)"
      ],
      "metadata": {
        "colab": {
          "base_uri": "https://localhost:8080/"
        },
        "id": "8xU7Gyoxphmu",
        "outputId": "d951b75a-b44a-46ec-a2be-81d412d8af67"
      },
      "execution_count": 13,
      "outputs": [
        {
          "output_type": "stream",
          "name": "stdout",
          "text": [
            "[[ 1  2  3  4]\n",
            " [ 5  6  7  8]\n",
            " [ 9 10 11 12]\n",
            " [13 14 15 16]]\n"
          ]
        }
      ]
    },
    {
      "cell_type": "code",
      "source": [
        "y = np.array([[0, 1], [2, 0]])\n",
        "print(y)"
      ],
      "metadata": {
        "colab": {
          "base_uri": "https://localhost:8080/"
        },
        "id": "cX5rv7VDptlc",
        "outputId": "04bf502e-daf2-4e2d-bd14-e80f358fd39e"
      },
      "execution_count": 14,
      "outputs": [
        {
          "output_type": "stream",
          "name": "stdout",
          "text": [
            "[[0 1]\n",
            " [2 0]]\n"
          ]
        }
      ]
    },
    {
      "cell_type": "code",
      "source": [
        "y_flip = np.flip(y)\n",
        "print(y_flip)"
      ],
      "metadata": {
        "colab": {
          "base_uri": "https://localhost:8080/"
        },
        "id": "xw7EVM-Kp2fM",
        "outputId": "26dbcf2a-5444-42f4-ea3e-92d86a1b3e87"
      },
      "execution_count": 15,
      "outputs": [
        {
          "output_type": "stream",
          "name": "stdout",
          "text": [
            "[[0 2]\n",
            " [1 0]]\n"
          ]
        }
      ]
    },
    {
      "cell_type": "markdown",
      "source": [
        "## convolve2d 함수"
      ],
      "metadata": {
        "id": "Xx2c59iwpaVt"
      }
    },
    {
      "cell_type": "code",
      "source": [],
      "metadata": {
        "id": "nk-WrOnGoHWe"
      },
      "execution_count": null,
      "outputs": []
    }
  ]
}