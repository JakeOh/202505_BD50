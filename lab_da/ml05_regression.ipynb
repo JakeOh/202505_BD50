{
  "nbformat": 4,
  "nbformat_minor": 0,
  "metadata": {
    "colab": {
      "provenance": [],
      "toc_visible": true,
      "authorship_tag": "ABX9TyOTJHak9bGh/LWBTG0t634X",
      "include_colab_link": true
    },
    "kernelspec": {
      "name": "python3",
      "display_name": "Python 3"
    },
    "language_info": {
      "name": "python"
    }
  },
  "cells": [
    {
      "cell_type": "markdown",
      "metadata": {
        "id": "view-in-github",
        "colab_type": "text"
      },
      "source": [
        "<a href=\"https://colab.research.google.com/github/JakeOh/202505_BD50/blob/main/lab_da/ml05_regression.ipynb\" target=\"_parent\"><img src=\"https://colab.research.google.com/assets/colab-badge.svg\" alt=\"Open In Colab\"/></a>"
      ]
    },
    {
      "cell_type": "markdown",
      "source": [
        "머신 러닝(Machine Learning) 종류 - 사람의 감독 하에 훈련하는 것인 지 아닌 지 분류\n",
        "*   지도 학습(Supervised Learning): 레이블(타겟)이 있는 데이터를 학습.\n",
        "    *   분류(classification): 클래스들을 분류.\n",
        "    *   회귀(regression): 숫자 예측.\n",
        "*   비지도 학습(Unsupervised Learning): 레이블이 없는 데이터를 학습.\n",
        "    *   군집(clustering)\n",
        "    *   시각화(visualization)\n",
        "    *   이상치(outlier) 탐지\n",
        "*   준지도 학습(semi-supervised learning): 비지도 학습 + 전문가 시스템\n",
        "*   강화 학습(reinforcement learning): 보상과 벌칙을 통해서 학습."
      ],
      "metadata": {
        "id": "vzZ9FoI1sqig"
      }
    },
    {
      "cell_type": "code",
      "execution_count": null,
      "metadata": {
        "id": "_3Dk6pIwshvn"
      },
      "outputs": [],
      "source": []
    }
  ]
}