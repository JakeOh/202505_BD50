{
  "nbformat": 4,
  "nbformat_minor": 0,
  "metadata": {
    "colab": {
      "provenance": [],
      "toc_visible": true,
      "gpuType": "T4",
      "authorship_tag": "ABX9TyP3164FwgAQgKVB+B43jjEk",
      "include_colab_link": true
    },
    "kernelspec": {
      "name": "python3",
      "display_name": "Python 3"
    },
    "language_info": {
      "name": "python"
    },
    "accelerator": "GPU"
  },
  "cells": [
    {
      "cell_type": "markdown",
      "metadata": {
        "id": "view-in-github",
        "colab_type": "text"
      },
      "source": [
        "<a href=\"https://colab.research.google.com/github/JakeOh/202505_BD50/blob/main/lab_da/ml17_ann_mnist.ipynb\" target=\"_parent\"><img src=\"https://colab.research.google.com/assets/colab-badge.svg\" alt=\"Open In Colab\"/></a>"
      ]
    },
    {
      "cell_type": "markdown",
      "source": [
        "# Fashion MNIST 이미지 분류"
      ],
      "metadata": {
        "id": "BMY5zhKpiOEC"
      }
    },
    {
      "cell_type": "markdown",
      "source": [
        "# Imports"
      ],
      "metadata": {
        "id": "cZGoHu1Vib-5"
      }
    },
    {
      "cell_type": "code",
      "execution_count": 2,
      "metadata": {
        "id": "HONwKi4RiJbf"
      },
      "outputs": [],
      "source": [
        "import numpy as np\n",
        "import matplotlib.pyplot as plt\n",
        "\n",
        "import tensorflow as tf\n",
        "import keras\n",
        "\n",
        "from sklearn.model_selection import train_test_split\n",
        "from sklearn.linear_model import SGDClassifier\n",
        "from sklearn.metrics import accuracy_score"
      ]
    },
    {
      "cell_type": "code",
      "source": [
        "tf.__version__"
      ],
      "metadata": {
        "colab": {
          "base_uri": "https://localhost:8080/",
          "height": 36
        },
        "id": "O_pzblp3insr",
        "outputId": "b076edb8-59a3-476d-b0f8-0cd5db5198c2"
      },
      "execution_count": 3,
      "outputs": [
        {
          "output_type": "execute_result",
          "data": {
            "text/plain": [
              "'2.19.0'"
            ],
            "application/vnd.google.colaboratory.intrinsic+json": {
              "type": "string"
            }
          },
          "metadata": {},
          "execution_count": 3
        }
      ]
    },
    {
      "cell_type": "code",
      "source": [
        "keras.__version__"
      ],
      "metadata": {
        "colab": {
          "base_uri": "https://localhost:8080/",
          "height": 36
        },
        "id": "7qLuBzKFivNb",
        "outputId": "26ab5e1c-1769-45c4-b0cf-ff798d859619"
      },
      "execution_count": 4,
      "outputs": [
        {
          "output_type": "execute_result",
          "data": {
            "text/plain": [
              "'3.10.0'"
            ],
            "application/vnd.google.colaboratory.intrinsic+json": {
              "type": "string"
            }
          },
          "metadata": {},
          "execution_count": 4
        }
      ]
    },
    {
      "cell_type": "code",
      "source": [
        "print(keras.config.backend())  # Keras 라이브러리에서 신경망 계산을 할 때 필요한 라이브러리."
      ],
      "metadata": {
        "colab": {
          "base_uri": "https://localhost:8080/"
        },
        "id": "kvI68JBLi1Li",
        "outputId": "9823f2d8-8f70-4014-82b5-869d38cd12b1"
      },
      "execution_count": 5,
      "outputs": [
        {
          "output_type": "stream",
          "name": "stdout",
          "text": [
            "tensorflow\n"
          ]
        }
      ]
    },
    {
      "cell_type": "code",
      "source": [
        "print(tf.config.list_physical_devices())  # CPU/GPU/TPU 사용 여부 확인"
      ],
      "metadata": {
        "colab": {
          "base_uri": "https://localhost:8080/"
        },
        "id": "WNTaqoQ1i-3y",
        "outputId": "e3f52981-4169-4818-b77a-abc3ae4620a1"
      },
      "execution_count": 6,
      "outputs": [
        {
          "output_type": "stream",
          "name": "stdout",
          "text": [
            "[PhysicalDevice(name='/physical_device:CPU:0', device_type='CPU')]\n"
          ]
        }
      ]
    },
    {
      "cell_type": "markdown",
      "source": [
        "Keras 라이브러리는 GPU 연산을 직접 수행하지 않음. 대신에 GPU 연산을 수행하는 다른 딥러닝 라이브러리를 백엔드(backend)로 활용함.\n",
        "\n",
        "*   Keras에서 사용할 수 있는 백엔드 종류\n",
        "    *   TensorFlow - Google에서 만든 텐서(Tensor) 연산을 빠르게 수행하기 위한 라이브러리.\n",
        "    *   PyTorch - Meta(페이스북)에서 만든 딥러닝 라이브러리 -> 리눅스 재단으로 오픈소스로 공개.\n",
        "*   Keras\n",
        "    *   여러가지 백엔드를 사용해서 신경망을 쉽게 만들고 사용할 수 있도록 만든 고급 라이브러리.\n",
        "    *   2.3.1 버전 이후부터는 TensorFlow만 단일 백엔드로 사용하도록 기능 변경.\n",
        "    *   3.0 버전부터 다시 멀티 백엔드 정책으로 바뀜."
      ],
      "metadata": {
        "id": "qbl2qlJuj4jh"
      }
    },
    {
      "cell_type": "markdown",
      "source": [
        "# Fashion MNIST 데이터 셋\n",
        "\n",
        "10가지 패션 아이템의 28x28 크기의 흑백 이미지 60,000개 훈련 셋/레이블, 10,000개 테스트 셋/레이블."
      ],
      "metadata": {
        "id": "eRg0bUlPm99H"
      }
    },
    {
      "cell_type": "code",
      "source": [
        "(x_train, y_train), (x_test, y_test) = keras.datasets.fashion_mnist.load_data()\n",
        "# (훈련 셋, 훈련 레이블), (테스트 셋, 테스트 레이블)"
      ],
      "metadata": {
        "colab": {
          "base_uri": "https://localhost:8080/"
        },
        "id": "DxMl4fiBjd5D",
        "outputId": "b57fc146-aeca-48a2-d965-5c37d8dc4f34"
      },
      "execution_count": 7,
      "outputs": [
        {
          "output_type": "stream",
          "name": "stdout",
          "text": [
            "Downloading data from https://storage.googleapis.com/tensorflow/tf-keras-datasets/train-labels-idx1-ubyte.gz\n",
            "\u001b[1m29515/29515\u001b[0m \u001b[32m━━━━━━━━━━━━━━━━━━━━\u001b[0m\u001b[37m\u001b[0m \u001b[1m0s\u001b[0m 0us/step\n",
            "Downloading data from https://storage.googleapis.com/tensorflow/tf-keras-datasets/train-images-idx3-ubyte.gz\n",
            "\u001b[1m26421880/26421880\u001b[0m \u001b[32m━━━━━━━━━━━━━━━━━━━━\u001b[0m\u001b[37m\u001b[0m \u001b[1m0s\u001b[0m 0us/step\n",
            "Downloading data from https://storage.googleapis.com/tensorflow/tf-keras-datasets/t10k-labels-idx1-ubyte.gz\n",
            "\u001b[1m5148/5148\u001b[0m \u001b[32m━━━━━━━━━━━━━━━━━━━━\u001b[0m\u001b[37m\u001b[0m \u001b[1m0s\u001b[0m 0us/step\n",
            "Downloading data from https://storage.googleapis.com/tensorflow/tf-keras-datasets/t10k-images-idx3-ubyte.gz\n",
            "\u001b[1m4422102/4422102\u001b[0m \u001b[32m━━━━━━━━━━━━━━━━━━━━\u001b[0m\u001b[37m\u001b[0m \u001b[1m0s\u001b[0m 0us/step\n"
          ]
        }
      ]
    },
    {
      "cell_type": "code",
      "source": [
        "x_train.shape  # (n_samples, image_width, image_height)"
      ],
      "metadata": {
        "colab": {
          "base_uri": "https://localhost:8080/"
        },
        "id": "GzoEpHGAn_Xg",
        "outputId": "bc034522-8a18-435f-dba1-80c445c0cac0"
      },
      "execution_count": 8,
      "outputs": [
        {
          "output_type": "execute_result",
          "data": {
            "text/plain": [
              "(60000, 28, 28)"
            ]
          },
          "metadata": {},
          "execution_count": 8
        }
      ]
    },
    {
      "cell_type": "code",
      "source": [
        "y_train.shape"
      ],
      "metadata": {
        "colab": {
          "base_uri": "https://localhost:8080/"
        },
        "id": "7OD-LxZdoZuv",
        "outputId": "a144c7b0-6e18-439f-bbfe-be92c99c3f81"
      },
      "execution_count": 9,
      "outputs": [
        {
          "output_type": "execute_result",
          "data": {
            "text/plain": [
              "(60000,)"
            ]
          },
          "metadata": {},
          "execution_count": 9
        }
      ]
    },
    {
      "cell_type": "code",
      "source": [
        "np.unique(y_train, return_counts=True)"
      ],
      "metadata": {
        "colab": {
          "base_uri": "https://localhost:8080/"
        },
        "id": "TkJufe9coz6O",
        "outputId": "7b105f86-5e06-4888-bac1-5f6b7f0d17f0"
      },
      "execution_count": 10,
      "outputs": [
        {
          "output_type": "execute_result",
          "data": {
            "text/plain": [
              "(array([0, 1, 2, 3, 4, 5, 6, 7, 8, 9], dtype=uint8),\n",
              " array([6000, 6000, 6000, 6000, 6000, 6000, 6000, 6000, 6000, 6000]))"
            ]
          },
          "metadata": {},
          "execution_count": 10
        }
      ]
    },
    {
      "cell_type": "code",
      "source": [
        "x_test.shape"
      ],
      "metadata": {
        "colab": {
          "base_uri": "https://localhost:8080/"
        },
        "id": "iXZ-BxcAo6sG",
        "outputId": "44027a9a-cea9-4117-883e-1c237600ddc9"
      },
      "execution_count": 11,
      "outputs": [
        {
          "output_type": "execute_result",
          "data": {
            "text/plain": [
              "(10000, 28, 28)"
            ]
          },
          "metadata": {},
          "execution_count": 11
        }
      ]
    },
    {
      "cell_type": "code",
      "source": [
        "np.unique(y_test, return_counts=True)"
      ],
      "metadata": {
        "colab": {
          "base_uri": "https://localhost:8080/"
        },
        "id": "s1wsBVq-pFv2",
        "outputId": "eb8340aa-7666-4ff8-f6b3-809dc6d96a78"
      },
      "execution_count": 12,
      "outputs": [
        {
          "output_type": "execute_result",
          "data": {
            "text/plain": [
              "(array([0, 1, 2, 3, 4, 5, 6, 7, 8, 9], dtype=uint8),\n",
              " array([1000, 1000, 1000, 1000, 1000, 1000, 1000, 1000, 1000, 1000]))"
            ]
          },
          "metadata": {},
          "execution_count": 12
        }
      ]
    },
    {
      "cell_type": "markdown",
      "source": [
        "훈련셋, 테스트셋 모두 각 클래스의 샘플들이 동일한 개수로 만들어져 있음."
      ],
      "metadata": {
        "id": "R0Jgk-9UplIN"
      }
    },
    {
      "cell_type": "markdown",
      "source": [
        "데이터셋의 이미지를 시각화해 보세요."
      ],
      "metadata": {
        "id": "5wuSVK1I7OEi"
      }
    },
    {
      "cell_type": "code",
      "source": [
        "def plot_fashion_mnist(arr, ncols=10):\n",
        "    # arr: (samples, width, height) shape의 3차원 배열\n",
        "    # ncols: subplot axis의 컬럼 개수.\n",
        "    n = len(arr)  # 출력할 이미지 개수\n",
        "    nrows = int(np.ceil(n / ncols))  # subplot Axis 행 개수.\n",
        "    fig, ax = plt.subplots(nrows, ncols, figsize=(ncols, nrows))\n",
        "    for i in range(nrows):\n",
        "        for j in range(ncols):\n",
        "            idx = i * ncols + j  # arr에서 선택할 이미지 인덱스.\n",
        "            if nrows == 1 or ncols == 1:  # ax가 1차원 배열인 경우\n",
        "                if idx < n:\n",
        "                    ax[idx].imshow(arr[idx], cmap=plt.cm.binary)\n",
        "                ax[idx].axis('off')\n",
        "            else:  # ax가 2차원 배열인 경우\n",
        "                if idx < n:\n",
        "                    ax[i, j].imshow(arr[idx], cmap=plt.cm.binary)\n",
        "                ax[i, j].axis('off')\n",
        "    plt.show()"
      ],
      "metadata": {
        "id": "pOZsttAEpJxW"
      },
      "execution_count": 13,
      "outputs": []
    },
    {
      "cell_type": "code",
      "source": [
        "plot_fashion_mnist(x_train[:10])"
      ],
      "metadata": {
        "colab": {
          "base_uri": "https://localhost:8080/",
          "height": 102
        },
        "id": "5BmQDpd--qsS",
        "outputId": "fe1649bd-9b4a-4cef-eaaa-00c756eeb5ff"
      },
      "execution_count": 14,
      "outputs": [
        {
          "output_type": "display_data",
          "data": {
            "text/plain": [
              "<Figure size 1000x100 with 10 Axes>"
            ],
            "image/png": "[encoded data removed]"
          },
          "metadata": {}
        }
      ]
    },
    {
      "cell_type": "code",
      "source": [
        "plot_fashion_mnist(x_train[:45])"
      ],
      "metadata": {
        "colab": {
          "base_uri": "https://localhost:8080/",
          "height": 421
        },
        "id": "ddvCU-Vi-vrZ",
        "outputId": "d0f20a32-068b-409f-f81e-e6610043ab51"
      },
      "execution_count": 15,
      "outputs": [
        {
          "output_type": "display_data",
          "data": {
            "text/plain": [
              "<Figure size 1000x500 with 50 Axes>"
            ],
            "image/png": "[encoded data removed]"
          },
          "metadata": {}
        }
      ]
    },
    {
      "cell_type": "markdown",
      "source": [
        "# 훈련 셋/레이블을 훈련 셋과 검증 셋으로 분리"
      ],
      "metadata": {
        "id": "QPXj07kl_gZP"
      }
    },
    {
      "cell_type": "code",
      "source": [
        "train_data, val_data, train_target, val_target = \\\n",
        "        train_test_split(x_train, y_train, random_state=42, test_size=0.2, stratify=y_train)"
      ],
      "metadata": {
        "id": "M1JmxyoO_fwx"
      },
      "execution_count": 16,
      "outputs": []
    },
    {
      "cell_type": "code",
      "source": [
        "print(train_data.shape)\n",
        "print(train_target.shape)\n",
        "print(np.unique(train_target, return_counts=True))"
      ],
      "metadata": {
        "colab": {
          "base_uri": "https://localhost:8080/"
        },
        "id": "6xS6goBvAPw-",
        "outputId": "68d0f9db-4422-4d80-d515-68ffc4fc6a3f"
      },
      "execution_count": 17,
      "outputs": [
        {
          "output_type": "stream",
          "name": "stdout",
          "text": [
            "(48000, 28, 28)\n",
            "(48000,)\n",
            "(array([0, 1, 2, 3, 4, 5, 6, 7, 8, 9], dtype=uint8), array([4800, 4800, 4800, 4800, 4800, 4800, 4800, 4800, 4800, 4800]))\n"
          ]
        }
      ]
    },
    {
      "cell_type": "code",
      "source": [
        "print(val_data.shape)\n",
        "print(val_target.shape)\n",
        "print(np.unique(val_target, return_counts=True))"
      ],
      "metadata": {
        "colab": {
          "base_uri": "https://localhost:8080/"
        },
        "id": "rpCa64_ZAYpv",
        "outputId": "25a4692a-6870-4fd7-b9dc-4440e8360149"
      },
      "execution_count": 18,
      "outputs": [
        {
          "output_type": "stream",
          "name": "stdout",
          "text": [
            "(12000, 28, 28)\n",
            "(12000,)\n",
            "(array([0, 1, 2, 3, 4, 5, 6, 7, 8, 9], dtype=uint8), array([1200, 1200, 1200, 1200, 1200, 1200, 1200, 1200, 1200, 1200]))\n"
          ]
        }
      ]
    },
    {
      "cell_type": "markdown",
      "source": [
        "# SGD Classifier"
      ],
      "metadata": {
        "id": "pOA9sCRT_MV4"
      }
    },
    {
      "cell_type": "code",
      "source": [
        "train_data[0]  #> 각 픽셀의 값들이 0(white) ~ 255(white)"
      ],
      "metadata": {
        "colab": {
          "base_uri": "https://localhost:8080/",
          "height": 68
        },
        "id": "LEtWDN5n-5LA",
        "outputId": "d16d2834-dfb5-4920-ca7f-2b80ebd484b5"
      },
      "execution_count": 19,
      "outputs": [
        {
          "output_type": "execute_result",
          "data": {
            "text/plain": [
              "array([[  0,   0,   0,   0,   1,   1,   0,   0,   0,  25,  55,   0,   0,\n",
              "          0,   0,   0,   0,  43,  24,   0,   0,   0,   1,   0,   0,   0,\n",
              "          0,   0],\n",
              "       [  0,   0,   0,   1,   1,   1,   0,  25, 147, 189, 181,  96,  51,\n",
              "         49,  55,  37,  76, 217, 172, 125,  20,   0,   2,   1,   0,   0,\n",
              "          0,   0],\n",
              "       [  0,   0,   0,   1,   3,   0,  82, 206, 202, 190, 178, 188, 239,\n",
              "        152,  99, 199, 201, 162, 176, 192, 185,  71,   0,   2,   0,   0,\n",
              "          0,   0],\n",
              "       [  0,   0,   0,   1,   0,   0, 202, 196, 181, 188, 183, 169, 179,\n",
              "        160, 107, 198, 166, 167, 178, 170, 183, 166,   0,   0,   1,   0,\n",
              "          0,   0],\n",
              "       [  0,   0,   0,   1,   0,  48, 216, 184, 185, 185, 190, 175, 164,\n",
              "        188, 198, 188, 157, 183, 176, 171, 167, 175,  26,   0,   2,   0,\n",
              "          0,   0],\n",
              "       [  0,   0,   0,   0,   0,  90, 224, 183, 185, 184, 183, 190, 164,\n",
              "        169, 193, 158, 170, 174, 176, 175, 165, 180,  62,   0,   0,   0,\n",
              "          0,   0],\n",
              "       [  0,   0,   0,   0,   0, 123, 228, 184, 180, 183, 178, 183, 172,\n",
              "        172, 172, 161, 179, 170, 174, 175, 165, 181, 106,   0,   0,   0,\n",
              "          0,   0],\n",
              "       [  0,   0,   0,   0,   0, 156, 229, 188, 175, 178, 175, 175, 190,\n",
              "        157, 157, 180, 169, 169, 172, 171, 161, 179, 143,   0,   0,   0,\n",
              "          0,   0],\n",
              "       [  0,   0,   0,   0,   0, 181, 228, 190, 174, 174, 176, 175, 197,\n",
              "        167, 167, 183, 166, 169, 171, 170, 162, 175, 172,   0,   0,   0,\n",
              "          0,   0],\n",
              "       [  0,   0,   0,   0,   6, 175, 221, 192, 170, 174, 176, 175, 193,\n",
              "        176, 172, 175, 167, 169, 169, 167, 160, 169, 196,   0,   0,   0,\n",
              "          0,   0],\n",
              "       [  0,   0,   0,   0,  23, 184, 216, 206, 164, 175, 176, 175, 192,\n",
              "        178, 175, 174, 167, 166, 169, 169, 165, 169, 175,   6,   0,   0,\n",
              "          0,   0],\n",
              "       [  0,   0,   0,   0,  53, 189, 208, 219, 161, 176, 176, 175, 190,\n",
              "        181, 178, 172, 169, 165, 170, 169, 166, 167, 183,  26,   0,   0,\n",
              "          0,   0],\n",
              "       [  0,   0,   0,   0,  84, 194, 207, 216, 157, 176, 175, 176, 193,\n",
              "        183, 180, 172, 167, 167, 166, 170, 165, 167, 185,  61,   0,   0,\n",
              "          0,   0],\n",
              "       [  0,   0,   0,   0, 114, 193, 211, 207, 157, 175, 175, 176, 196,\n",
              "        183, 181, 172, 166, 166, 165, 170, 164, 169, 187,  88,   0,   0,\n",
              "          0,   0],\n",
              "       [  0,   0,   0,   0, 155, 192, 219, 194, 161, 172, 178, 176, 197,\n",
              "        185, 181, 169, 166, 165, 165, 171, 164, 171, 184, 108,   0,   0,\n",
              "          0,   0],\n",
              "       [  0,   0,   0,   0, 181, 192, 225, 185, 162, 172, 179, 176, 199,\n",
              "        185, 183, 169, 166, 164, 164, 172, 161, 170, 184, 135,   0,   0,\n",
              "          0,   0],\n",
              "       [  0,   0,   0,   0, 210, 189, 233, 180, 161, 171, 179, 179, 201,\n",
              "        185, 190, 166, 166, 164, 164, 176, 158, 171, 183, 155,   0,   0,\n",
              "          0,   0],\n",
              "       [  0,   0,   0,   0, 229, 184, 234, 176, 164, 169, 180, 183, 198,\n",
              "        185, 193, 166, 167, 164, 165, 179, 157, 176, 179, 174,   0,   0,\n",
              "          0,   0],\n",
              "       [  0,   0,   0,   2, 237, 183, 237, 171, 166, 167, 178, 188, 196,\n",
              "        187, 196, 164, 166, 165, 166, 179, 157, 178, 176, 185,   2,   0,\n",
              "          0,   0],\n",
              "       [  0,   0,   0,  24, 246, 184, 255, 172, 166, 169, 180, 192, 196,\n",
              "        189, 201, 161, 164, 165, 165, 181, 161, 181, 176, 189,  17,   0,\n",
              "          0,   0],\n",
              "       [  0,   0,   0,  52, 247, 187, 238, 166, 170, 170, 180, 198, 193,\n",
              "        189, 207, 160, 165, 165, 164, 180, 162, 187, 175, 192,  52,   0,\n",
              "          0,   0],\n",
              "       [  0,   0,   0,  82, 215, 192, 239, 158, 169, 174, 179, 207, 189,\n",
              "        187, 213, 160, 167, 166, 165, 181, 169, 190, 170, 192,  73,   0,\n",
              "          0,   0],\n",
              "       [  0,   0,   0, 102, 212, 201, 212, 166, 169, 171, 179, 217, 189,\n",
              "        187, 217, 157, 170, 167, 166, 178, 171, 196, 169, 171,  84,   0,\n",
              "          0,   0],\n",
              "       [  0,   0,   0, 166, 211, 213, 193, 164, 170, 170, 180, 226, 181,\n",
              "        187, 228, 157, 167, 167, 158, 188, 196, 128, 170, 179, 128,   0,\n",
              "          0,   0],\n",
              "       [  0,   0,   0,  35,  92, 129, 199, 184, 171, 179, 187, 246, 170,\n",
              "        189, 240, 156, 170, 174, 166, 190, 230, 139, 102, 139,  89,   0,\n",
              "          0,   0],\n",
              "       [  0,   0,   0,   0,   0,   0, 142, 213, 166, 151, 178, 235, 190,\n",
              "        162, 244, 179, 183, 160, 142, 164, 208, 125,   0,   0,   0,   0,\n",
              "          0,   0],\n",
              "       [  0,   0,   0,   0,   1,   2,   0,  96, 181, 179, 178, 178, 185,\n",
              "        160, 208, 171, 167, 167, 184, 174, 105,   0,   1,   2,   1,   0,\n",
              "          0,   0],\n",
              "       [  0,   0,   0,   0,   0,   0,   2,   0,   1,  52,  83,  98, 112,\n",
              "        134, 146, 105,  89,  73,  49,   0,   0,   0,   0,   0,   0,   0,\n",
              "          0,   0]], dtype=uint8)"
            ],
            "text/html": [
              "<style>\n",
              "      .ndarray_repr .ndarray_raw_data {\n",
              "        display: none;\n",
              "      }\n",
              "      .ndarray_repr.show_array .ndarray_raw_data {\n",
              "        display: block;\n",
              "      }\n",
              "      .ndarray_repr.show_array .ndarray_image_preview {\n",
              "        display: none;\n",
              "      }\n",
              "      </style>\n",
              "      <div id=\"id-6f6165cf-b54f-4ff6-b4cb-9d7dc2088ee5\" class=\"ndarray_repr\"><pre>ndarray (28, 28) <button style=\"padding: 0 2px;\">show data</button></pre><img src=\"data:image/png;base64,iVBORw0KGgoAAAANSUhEUgAAABwAAAAcCAAAAABXZoBIAAACBElEQVR4nEXSu2tUURDH8e/MOffuvbvJ5rXGvIPGIMYUgRTBzkp7wcpCC/8IEf0TtBX8D8S/QExpZyEhhQQJiCg+8jAxye4m954zNnd3pzrw4XeYGQYAEWB6AwBuTgECgK9e009Xum+3Y3p4/cX21qt9wSoQDfeelaen9fU3Hx/rTnP0/OU7jYACBJ6092Jy8CHLbDfRP/EhUXrIWvPUh1p6PPeg3RmNcpTP0ENjJTPsfISD4ttwBx+Ta/S/5YqXworzzO25vIwgqzBA8UURuuPHxxNti2UZl/ujwLSplWq1Oi44MynnB8n04lxLoMyTrhBDvJga4FheNC8ETJ0R0IS9tI8LSXc4CETnopogMWv1cTGxUGLiVIlaiqFL/YYWzHcwcAiGYaqz/eQNy058cIgSMAQNrX5yhrQjCIqCIcEYJOdDVpjhlFoAfBAbNDRRSOmi+IBDEGdJOdFDzcwVGmMS1UUTAQ0NrXAyl3FB1aNJiJh6hx+pcE7c3wsvpIHUBDNJzS1VuPA1ka55y8uYoiJScwWXKmyF/EdGoA4+OJGgqe01KrxtQwdRTPIuDQLd+vSmZKvVEp7fWr7TOslqrbNsyJw3vdrYXN6pcHeX4btb+7Nnre8bl/3vwzj+7zX0TlskProfjdrPtS8lY+33r0TMenePRllfHGlODn0+Ovr1iar+A+SW1VuwzXPKAAAAAElFTkSuQmCC\" class=\"ndarray_image_preview\" /><pre class=\"ndarray_raw_data\">array([[  0,   0,   0,   0,   1,   1,   0,   0,   0,  25,  55,   0,   0,\n",
              "          0,   0,   0,   0,  43,  24,   0,   0,   0,   1,   0,   0,   0,\n",
              "          0,   0],\n",
              "       [  0,   0,   0,   1,   1,   1,   0,  25, 147, 189, 181,  96,  51,\n",
              "         49,  55,  37,  76, 217, 172, 125,  20,   0,   2,   1,   0,   0,\n",
              "          0,   0],\n",
              "       [  0,   0,   0,   1,   3,   0,  82, 206, 202, 190, 178, 188, 239,\n",
              "        152,  99, 199, 201, 162, 176, 192, 185,  71,   0,   2,   0,   0,\n",
              "          0,   0],\n",
              "       [  0,   0,   0,   1,   0,   0, 202, 196, 181, 188, 183, 169, 179,\n",
              "        160, 107, 198, 166, 167, 178, 170, 183, 166,   0,   0,   1,   0,\n",
              "          0,   0],\n",
              "       [  0,   0,   0,   1,   0,  48, 216, 184, 185, 185, 190, 175, 164,\n",
              "        188, 198, 188, 157, 183, 176, 171, 167, 175,  26,   0,   2,   0,\n",
              "          0,   0],\n",
              "       [  0,   0,   0,   0,   0,  90, 224, 183, 185, 184, 183, 190, 164,\n",
              "        169, 193, 158, 170, 174, 176, 175, 165, 180,  62,   0,   0,   0,\n",
              "          0,   0],\n",
              "       [  0,   0,   0,   0,   0, 123, 228, 184, 180, 183, 178, 183, 172,\n",
              "        172, 172, 161, 179, 170, 174, 175, 165, 181, 106,   0,   0,   0,\n",
              "          0,   0],\n",
              "       [  0,   0,   0,   0,   0, 156, 229, 188, 175, 178, 175, 175, 190,\n",
              "        157, 157, 180, 169, 169, 172, 171, 161, 179, 143,   0,   0,   0,\n",
              "          0,   0],\n",
              "       [  0,   0,   0,   0,   0, 181, 228, 190, 174, 174, 176, 175, 197,\n",
              "        167, 167, 183, 166, 169, 171, 170, 162, 175, 172,   0,   0,   0,\n",
              "          0,   0],\n",
              "       [  0,   0,   0,   0,   6, 175, 221, 192, 170, 174, 176, 175, 193,\n",
              "        176, 172, 175, 167, 169, 169, 167, 160, 169, 196,   0,   0,   0,\n",
              "          0,   0],\n",
              "       [  0,   0,   0,   0,  23, 184, 216, 206, 164, 175, 176, 175, 192,\n",
              "        178, 175, 174, 167, 166, 169, 169, 165, 169, 175,   6,   0,   0,\n",
              "          0,   0],\n",
              "       [  0,   0,   0,   0,  53, 189, 208, 219, 161, 176, 176, 175, 190,\n",
              "        181, 178, 172, 169, 165, 170, 169, 166, 167, 183,  26,   0,   0,\n",
              "          0,   0],\n",
              "       [  0,   0,   0,   0,  84, 194, 207, 216, 157, 176, 175, 176, 193,\n",
              "        183, 180, 172, 167, 167, 166, 170, 165, 167, 185,  61,   0,   0,\n",
              "          0,   0],\n",
              "       [  0,   0,   0,   0, 114, 193, 211, 207, 157, 175, 175, 176, 196,\n",
              "        183, 181, 172, 166, 166, 165, 170, 164, 169, 187,  88,   0,   0,\n",
              "          0,   0],\n",
              "       [  0,   0,   0,   0, 155, 192, 219, 194, 161, 172, 178, 176, 197,\n",
              "        185, 181, 169, 166, 165, 165, 171, 164, 171, 184, 108,   0,   0,\n",
              "          0,   0],\n",
              "       [  0,   0,   0,   0, 181, 192, 225, 185, 162, 172, 179, 176, 199,\n",
              "        185, 183, 169, 166, 164, 164, 172, 161, 170, 184, 135,   0,   0,\n",
              "          0,   0],\n",
              "       [  0,   0,   0,   0, 210, 189, 233, 180, 161, 171, 179, 179, 201,\n",
              "        185, 190, 166, 166, 164, 164, 176, 158, 171, 183, 155,   0,   0,\n",
              "          0,   0],\n",
              "       [  0,   0,   0,   0, 229, 184, 234, 176, 164, 169, 180, 183, 198,\n",
              "        185, 193, 166, 167, 164, 165, 179, 157, 176, 179, 174,   0,   0,\n",
              "          0,   0],\n",
              "       [  0,   0,   0,   2, 237, 183, 237, 171, 166, 167, 178, 188, 196,\n",
              "        187, 196, 164, 166, 165, 166, 179, 157, 178, 176, 185,   2,   0,\n",
              "          0,   0],\n",
              "       [  0,   0,   0,  24, 246, 184, 255, 172, 166, 169, 180, 192, 196,\n",
              "        189, 201, 161, 164, 165, 165, 181, 161, 181, 176, 189,  17,   0,\n",
              "          0,   0],\n",
              "       [  0,   0,   0,  52, 247, 187, 238, 166, 170, 170, 180, 198, 193,\n",
              "        189, 207, 160, 165, 165, 164, 180, 162, 187, 175, 192,  52,   0,\n",
              "          0,   0],\n",
              "       [  0,   0,   0,  82, 215, 192, 239, 158, 169, 174, 179, 207, 189,\n",
              "        187, 213, 160, 167, 166, 165, 181, 169, 190, 170, 192,  73,   0,\n",
              "          0,   0],\n",
              "       [  0,   0,   0, 102, 212, 201, 212, 166, 169, 171, 179, 217, 189,\n",
              "        187, 217, 157, 170, 167, 166, 178, 171, 196, 169, 171,  84,   0,\n",
              "          0,   0],\n",
              "       [  0,   0,   0, 166, 211, 213, 193, 164, 170, 170, 180, 226, 181,\n",
              "        187, 228, 157, 167, 167, 158, 188, 196, 128, 170, 179, 128,   0,\n",
              "          0,   0],\n",
              "       [  0,   0,   0,  35,  92, 129, 199, 184, 171, 179, 187, 246, 170,\n",
              "        189, 240, 156, 170, 174, 166, 190, 230, 139, 102, 139,  89,   0,\n",
              "          0,   0],\n",
              "       [  0,   0,   0,   0,   0,   0, 142, 213, 166, 151, 178, 235, 190,\n",
              "        162, 244, 179, 183, 160, 142, 164, 208, 125,   0,   0,   0,   0,\n",
              "          0,   0],\n",
              "       [  0,   0,   0,   0,   1,   2,   0,  96, 181, 179, 178, 178, 185,\n",
              "        160, 208, 171, 167, 167, 184, 174, 105,   0,   1,   2,   1,   0,\n",
              "          0,   0],\n",
              "       [  0,   0,   0,   0,   0,   0,   2,   0,   1,  52,  83,  98, 112,\n",
              "        134, 146, 105,  89,  73,  49,   0,   0,   0,   0,   0,   0,   0,\n",
              "          0,   0]], dtype=uint8)</pre></div><script>\n",
              "      (() => {\n",
              "      const titles = ['show data', 'hide data'];\n",
              "      let index = 0\n",
              "      document.querySelector('#id-6f6165cf-b54f-4ff6-b4cb-9d7dc2088ee5 button').onclick = (e) => {\n",
              "        document.querySelector('#id-6f6165cf-b54f-4ff6-b4cb-9d7dc2088ee5').classList.toggle('show_array');\n",
              "        index = (++index) % 2;\n",
              "        document.querySelector('#id-6f6165cf-b54f-4ff6-b4cb-9d7dc2088ee5 button').textContent = titles[index];\n",
              "        e.preventDefault();\n",
              "        e.stopPropagation();\n",
              "      }\n",
              "      })();\n",
              "    </script>"
            ]
          },
          "metadata": {},
          "execution_count": 19
        }
      ]
    },
    {
      "cell_type": "code",
      "source": [
        "# 훈련 셋의 픽셀 값을 0 ~ 1 사이의 값으로 스케일링 -> 확률적 경사 하강법 성능을 높이기 위해서.\n",
        "train_data_scaled = train_data / 255.0"
      ],
      "metadata": {
        "id": "6q3nqMrVBAOK"
      },
      "execution_count": 20,
      "outputs": []
    },
    {
      "cell_type": "code",
      "source": [
        "train_data_scaled[0]"
      ],
      "metadata": {
        "colab": {
          "base_uri": "https://localhost:8080/"
        },
        "id": "x4vT4f6FB2vG",
        "outputId": "7d0b85d9-41a4-45d9-cd89-449443f6452e"
      },
      "execution_count": 21,
      "outputs": [
        {
          "output_type": "execute_result",
          "data": {
            "text/plain": [
              "array([[0.        , 0.        , 0.        , 0.        , 0.00392157,\n",
              "        0.00392157, 0.        , 0.        , 0.        , 0.09803922,\n",
              "        0.21568627, 0.        , 0.        , 0.        , 0.        ,\n",
              "        0.        , 0.        , 0.16862745, 0.09411765, 0.        ,\n",
              "        0.        , 0.        , 0.00392157, 0.        , 0.        ,\n",
              "        0.        , 0.        , 0.        ],\n",
              "       [0.        , 0.        , 0.        , 0.00392157, 0.00392157,\n",
              "        0.00392157, 0.        , 0.09803922, 0.57647059, 0.74117647,\n",
              "        0.70980392, 0.37647059, 0.2       , 0.19215686, 0.21568627,\n",
              "        0.14509804, 0.29803922, 0.85098039, 0.6745098 , 0.49019608,\n",
              "        0.07843137, 0.        , 0.00784314, 0.00392157, 0.        ,\n",
              "        0.        , 0.        , 0.        ],\n",
              "       [0.        , 0.        , 0.        , 0.00392157, 0.01176471,\n",
              "        0.        , 0.32156863, 0.80784314, 0.79215686, 0.74509804,\n",
              "        0.69803922, 0.7372549 , 0.9372549 , 0.59607843, 0.38823529,\n",
              "        0.78039216, 0.78823529, 0.63529412, 0.69019608, 0.75294118,\n",
              "        0.7254902 , 0.27843137, 0.        , 0.00784314, 0.        ,\n",
              "        0.        , 0.        , 0.        ],\n",
              "       [0.        , 0.        , 0.        , 0.00392157, 0.        ,\n",
              "        0.        , 0.79215686, 0.76862745, 0.70980392, 0.7372549 ,\n",
              "        0.71764706, 0.6627451 , 0.70196078, 0.62745098, 0.41960784,\n",
              "        0.77647059, 0.65098039, 0.65490196, 0.69803922, 0.66666667,\n",
              "        0.71764706, 0.65098039, 0.        , 0.        , 0.00392157,\n",
              "        0.        , 0.        , 0.        ],\n",
              "       [0.        , 0.        , 0.        , 0.00392157, 0.        ,\n",
              "        0.18823529, 0.84705882, 0.72156863, 0.7254902 , 0.7254902 ,\n",
              "        0.74509804, 0.68627451, 0.64313725, 0.7372549 , 0.77647059,\n",
              "        0.7372549 , 0.61568627, 0.71764706, 0.69019608, 0.67058824,\n",
              "        0.65490196, 0.68627451, 0.10196078, 0.        , 0.00784314,\n",
              "        0.        , 0.        , 0.        ],\n",
              "       [0.        , 0.        , 0.        , 0.        , 0.        ,\n",
              "        0.35294118, 0.87843137, 0.71764706, 0.7254902 , 0.72156863,\n",
              "        0.71764706, 0.74509804, 0.64313725, 0.6627451 , 0.75686275,\n",
              "        0.61960784, 0.66666667, 0.68235294, 0.69019608, 0.68627451,\n",
              "        0.64705882, 0.70588235, 0.24313725, 0.        , 0.        ,\n",
              "        0.        , 0.        , 0.        ],\n",
              "       [0.        , 0.        , 0.        , 0.        , 0.        ,\n",
              "        0.48235294, 0.89411765, 0.72156863, 0.70588235, 0.71764706,\n",
              "        0.69803922, 0.71764706, 0.6745098 , 0.6745098 , 0.6745098 ,\n",
              "        0.63137255, 0.70196078, 0.66666667, 0.68235294, 0.68627451,\n",
              "        0.64705882, 0.70980392, 0.41568627, 0.        , 0.        ,\n",
              "        0.        , 0.        , 0.        ],\n",
              "       [0.        , 0.        , 0.        , 0.        , 0.        ,\n",
              "        0.61176471, 0.89803922, 0.7372549 , 0.68627451, 0.69803922,\n",
              "        0.68627451, 0.68627451, 0.74509804, 0.61568627, 0.61568627,\n",
              "        0.70588235, 0.6627451 , 0.6627451 , 0.6745098 , 0.67058824,\n",
              "        0.63137255, 0.70196078, 0.56078431, 0.        , 0.        ,\n",
              "        0.        , 0.        , 0.        ],\n",
              "       [0.        , 0.        , 0.        , 0.        , 0.        ,\n",
              "        0.70980392, 0.89411765, 0.74509804, 0.68235294, 0.68235294,\n",
              "        0.69019608, 0.68627451, 0.77254902, 0.65490196, 0.65490196,\n",
              "        0.71764706, 0.65098039, 0.6627451 , 0.67058824, 0.66666667,\n",
              "        0.63529412, 0.68627451, 0.6745098 , 0.        , 0.        ,\n",
              "        0.        , 0.        , 0.        ],\n",
              "       [0.        , 0.        , 0.        , 0.        , 0.02352941,\n",
              "        0.68627451, 0.86666667, 0.75294118, 0.66666667, 0.68235294,\n",
              "        0.69019608, 0.68627451, 0.75686275, 0.69019608, 0.6745098 ,\n",
              "        0.68627451, 0.65490196, 0.6627451 , 0.6627451 , 0.65490196,\n",
              "        0.62745098, 0.6627451 , 0.76862745, 0.        , 0.        ,\n",
              "        0.        , 0.        , 0.        ],\n",
              "       [0.        , 0.        , 0.        , 0.        , 0.09019608,\n",
              "        0.72156863, 0.84705882, 0.80784314, 0.64313725, 0.68627451,\n",
              "        0.69019608, 0.68627451, 0.75294118, 0.69803922, 0.68627451,\n",
              "        0.68235294, 0.65490196, 0.65098039, 0.6627451 , 0.6627451 ,\n",
              "        0.64705882, 0.6627451 , 0.68627451, 0.02352941, 0.        ,\n",
              "        0.        , 0.        , 0.        ],\n",
              "       [0.        , 0.        , 0.        , 0.        , 0.20784314,\n",
              "        0.74117647, 0.81568627, 0.85882353, 0.63137255, 0.69019608,\n",
              "        0.69019608, 0.68627451, 0.74509804, 0.70980392, 0.69803922,\n",
              "        0.6745098 , 0.6627451 , 0.64705882, 0.66666667, 0.6627451 ,\n",
              "        0.65098039, 0.65490196, 0.71764706, 0.10196078, 0.        ,\n",
              "        0.        , 0.        , 0.        ],\n",
              "       [0.        , 0.        , 0.        , 0.        , 0.32941176,\n",
              "        0.76078431, 0.81176471, 0.84705882, 0.61568627, 0.69019608,\n",
              "        0.68627451, 0.69019608, 0.75686275, 0.71764706, 0.70588235,\n",
              "        0.6745098 , 0.65490196, 0.65490196, 0.65098039, 0.66666667,\n",
              "        0.64705882, 0.65490196, 0.7254902 , 0.23921569, 0.        ,\n",
              "        0.        , 0.        , 0.        ],\n",
              "       [0.        , 0.        , 0.        , 0.        , 0.44705882,\n",
              "        0.75686275, 0.82745098, 0.81176471, 0.61568627, 0.68627451,\n",
              "        0.68627451, 0.69019608, 0.76862745, 0.71764706, 0.70980392,\n",
              "        0.6745098 , 0.65098039, 0.65098039, 0.64705882, 0.66666667,\n",
              "        0.64313725, 0.6627451 , 0.73333333, 0.34509804, 0.        ,\n",
              "        0.        , 0.        , 0.        ],\n",
              "       [0.        , 0.        , 0.        , 0.        , 0.60784314,\n",
              "        0.75294118, 0.85882353, 0.76078431, 0.63137255, 0.6745098 ,\n",
              "        0.69803922, 0.69019608, 0.77254902, 0.7254902 , 0.70980392,\n",
              "        0.6627451 , 0.65098039, 0.64705882, 0.64705882, 0.67058824,\n",
              "        0.64313725, 0.67058824, 0.72156863, 0.42352941, 0.        ,\n",
              "        0.        , 0.        , 0.        ],\n",
              "       [0.        , 0.        , 0.        , 0.        , 0.70980392,\n",
              "        0.75294118, 0.88235294, 0.7254902 , 0.63529412, 0.6745098 ,\n",
              "        0.70196078, 0.69019608, 0.78039216, 0.7254902 , 0.71764706,\n",
              "        0.6627451 , 0.65098039, 0.64313725, 0.64313725, 0.6745098 ,\n",
              "        0.63137255, 0.66666667, 0.72156863, 0.52941176, 0.        ,\n",
              "        0.        , 0.        , 0.        ],\n",
              "       [0.        , 0.        , 0.        , 0.        , 0.82352941,\n",
              "        0.74117647, 0.91372549, 0.70588235, 0.63137255, 0.67058824,\n",
              "        0.70196078, 0.70196078, 0.78823529, 0.7254902 , 0.74509804,\n",
              "        0.65098039, 0.65098039, 0.64313725, 0.64313725, 0.69019608,\n",
              "        0.61960784, 0.67058824, 0.71764706, 0.60784314, 0.        ,\n",
              "        0.        , 0.        , 0.        ],\n",
              "       [0.        , 0.        , 0.        , 0.        , 0.89803922,\n",
              "        0.72156863, 0.91764706, 0.69019608, 0.64313725, 0.6627451 ,\n",
              "        0.70588235, 0.71764706, 0.77647059, 0.7254902 , 0.75686275,\n",
              "        0.65098039, 0.65490196, 0.64313725, 0.64705882, 0.70196078,\n",
              "        0.61568627, 0.69019608, 0.70196078, 0.68235294, 0.        ,\n",
              "        0.        , 0.        , 0.        ],\n",
              "       [0.        , 0.        , 0.        , 0.00784314, 0.92941176,\n",
              "        0.71764706, 0.92941176, 0.67058824, 0.65098039, 0.65490196,\n",
              "        0.69803922, 0.7372549 , 0.76862745, 0.73333333, 0.76862745,\n",
              "        0.64313725, 0.65098039, 0.64705882, 0.65098039, 0.70196078,\n",
              "        0.61568627, 0.69803922, 0.69019608, 0.7254902 , 0.00784314,\n",
              "        0.        , 0.        , 0.        ],\n",
              "       [0.        , 0.        , 0.        , 0.09411765, 0.96470588,\n",
              "        0.72156863, 1.        , 0.6745098 , 0.65098039, 0.6627451 ,\n",
              "        0.70588235, 0.75294118, 0.76862745, 0.74117647, 0.78823529,\n",
              "        0.63137255, 0.64313725, 0.64705882, 0.64705882, 0.70980392,\n",
              "        0.63137255, 0.70980392, 0.69019608, 0.74117647, 0.06666667,\n",
              "        0.        , 0.        , 0.        ],\n",
              "       [0.        , 0.        , 0.        , 0.20392157, 0.96862745,\n",
              "        0.73333333, 0.93333333, 0.65098039, 0.66666667, 0.66666667,\n",
              "        0.70588235, 0.77647059, 0.75686275, 0.74117647, 0.81176471,\n",
              "        0.62745098, 0.64705882, 0.64705882, 0.64313725, 0.70588235,\n",
              "        0.63529412, 0.73333333, 0.68627451, 0.75294118, 0.20392157,\n",
              "        0.        , 0.        , 0.        ],\n",
              "       [0.        , 0.        , 0.        , 0.32156863, 0.84313725,\n",
              "        0.75294118, 0.9372549 , 0.61960784, 0.6627451 , 0.68235294,\n",
              "        0.70196078, 0.81176471, 0.74117647, 0.73333333, 0.83529412,\n",
              "        0.62745098, 0.65490196, 0.65098039, 0.64705882, 0.70980392,\n",
              "        0.6627451 , 0.74509804, 0.66666667, 0.75294118, 0.28627451,\n",
              "        0.        , 0.        , 0.        ],\n",
              "       [0.        , 0.        , 0.        , 0.4       , 0.83137255,\n",
              "        0.78823529, 0.83137255, 0.65098039, 0.6627451 , 0.67058824,\n",
              "        0.70196078, 0.85098039, 0.74117647, 0.73333333, 0.85098039,\n",
              "        0.61568627, 0.66666667, 0.65490196, 0.65098039, 0.69803922,\n",
              "        0.67058824, 0.76862745, 0.6627451 , 0.67058824, 0.32941176,\n",
              "        0.        , 0.        , 0.        ],\n",
              "       [0.        , 0.        , 0.        , 0.65098039, 0.82745098,\n",
              "        0.83529412, 0.75686275, 0.64313725, 0.66666667, 0.66666667,\n",
              "        0.70588235, 0.88627451, 0.70980392, 0.73333333, 0.89411765,\n",
              "        0.61568627, 0.65490196, 0.65490196, 0.61960784, 0.7372549 ,\n",
              "        0.76862745, 0.50196078, 0.66666667, 0.70196078, 0.50196078,\n",
              "        0.        , 0.        , 0.        ],\n",
              "       [0.        , 0.        , 0.        , 0.1372549 , 0.36078431,\n",
              "        0.50588235, 0.78039216, 0.72156863, 0.67058824, 0.70196078,\n",
              "        0.73333333, 0.96470588, 0.66666667, 0.74117647, 0.94117647,\n",
              "        0.61176471, 0.66666667, 0.68235294, 0.65098039, 0.74509804,\n",
              "        0.90196078, 0.54509804, 0.4       , 0.54509804, 0.34901961,\n",
              "        0.        , 0.        , 0.        ],\n",
              "       [0.        , 0.        , 0.        , 0.        , 0.        ,\n",
              "        0.        , 0.55686275, 0.83529412, 0.65098039, 0.59215686,\n",
              "        0.69803922, 0.92156863, 0.74509804, 0.63529412, 0.95686275,\n",
              "        0.70196078, 0.71764706, 0.62745098, 0.55686275, 0.64313725,\n",
              "        0.81568627, 0.49019608, 0.        , 0.        , 0.        ,\n",
              "        0.        , 0.        , 0.        ],\n",
              "       [0.        , 0.        , 0.        , 0.        , 0.00392157,\n",
              "        0.00784314, 0.        , 0.37647059, 0.70980392, 0.70196078,\n",
              "        0.69803922, 0.69803922, 0.7254902 , 0.62745098, 0.81568627,\n",
              "        0.67058824, 0.65490196, 0.65490196, 0.72156863, 0.68235294,\n",
              "        0.41176471, 0.        , 0.00392157, 0.00784314, 0.00392157,\n",
              "        0.        , 0.        , 0.        ],\n",
              "       [0.        , 0.        , 0.        , 0.        , 0.        ,\n",
              "        0.        , 0.00784314, 0.        , 0.00392157, 0.20392157,\n",
              "        0.3254902 , 0.38431373, 0.43921569, 0.5254902 , 0.57254902,\n",
              "        0.41176471, 0.34901961, 0.28627451, 0.19215686, 0.        ,\n",
              "        0.        , 0.        , 0.        , 0.        , 0.        ,\n",
              "        0.        , 0.        , 0.        ]])"
            ]
          },
          "metadata": {},
          "execution_count": 21
        }
      ]
    },
    {
      "cell_type": "code",
      "source": [
        "sgd = SGDClassifier(loss='log_loss', random_state=42, n_jobs=-1)"
      ],
      "metadata": {
        "id": "6VBj6VJrB402"
      },
      "execution_count": 22,
      "outputs": []
    },
    {
      "cell_type": "code",
      "source": [
        "sgd.fit(X=train_data_scaled.reshape((48_000, -1)), y=train_target)"
      ],
      "metadata": {
        "colab": {
          "base_uri": "https://localhost:8080/",
          "height": 80
        },
        "id": "Q8yBm5HECUAH",
        "outputId": "ab5d1f74-e186-4aa5-ddcc-23dfcb4056fa"
      },
      "execution_count": 23,
      "outputs": [
        {
          "output_type": "execute_result",
          "data": {
            "text/plain": [
              "SGDClassifier(loss='log_loss', n_jobs=-1, random_state=42)"
            ],
            "text/html": [
              "<style>#sk-container-id-1 {\n",
              "  /* Definition of color scheme common for light and dark mode */\n",
              "  --sklearn-color-text: #000;\n",
              "  --sklearn-color-text-muted: #666;\n",
              "  --sklearn-color-line: gray;\n",
              "  /* Definition of color scheme for unfitted estimators */\n",
              "  --sklearn-color-unfitted-level-0: #fff5e6;\n",
              "  --sklearn-color-unfitted-level-1: #f6e4d2;\n",
              "  --sklearn-color-unfitted-level-2: #ffe0b3;\n",
              "  --sklearn-color-unfitted-level-3: chocolate;\n",
              "  /* Definition of color scheme for fitted estimators */\n",
              "  --sklearn-color-fitted-level-0: #f0f8ff;\n",
              "  --sklearn-color-fitted-level-1: #d4ebff;\n",
              "  --sklearn-color-fitted-level-2: #b3dbfd;\n",
              "  --sklearn-color-fitted-level-3: cornflowerblue;\n",
              "\n",
              "  /* Specific color for light theme */\n",
              "  --sklearn-color-text-on-default-background: var(--sg-text-color, var(--theme-code-foreground, var(--jp-content-font-color1, black)));\n",
              "  --sklearn-color-background: var(--sg-background-color, var(--theme-background, var(--jp-layout-color0, white)));\n",
              "  --sklearn-color-border-box: var(--sg-text-color, var(--theme-code-foreground, var(--jp-content-font-color1, black)));\n",
              "  --sklearn-color-icon: #696969;\n",
              "\n",
              "  @media (prefers-color-scheme: dark) {\n",
              "    /* Redefinition of color scheme for dark theme */\n",
              "    --sklearn-color-text-on-default-background: var(--sg-text-color, var(--theme-code-foreground, var(--jp-content-font-color1, white)));\n",
              "    --sklearn-color-background: var(--sg-background-color, var(--theme-background, var(--jp-layout-color0, #111)));\n",
              "    --sklearn-color-border-box: var(--sg-text-color, var(--theme-code-foreground, var(--jp-content-font-color1, white)));\n",
              "    --sklearn-color-icon: #878787;\n",
              "  }\n",
              "}\n",
              "\n",
              "#sk-container-id-1 {\n",
              "  color: var(--sklearn-color-text);\n",
              "}\n",
              "\n",
              "#sk-container-id-1 pre {\n",
              "  padding: 0;\n",
              "}\n",
              "\n",
              "#sk-container-id-1 input.sk-hidden--visually {\n",
              "  border: 0;\n",
              "  clip: rect(1px 1px 1px 1px);\n",
              "  clip: rect(1px, 1px, 1px, 1px);\n",
              "  height: 1px;\n",
              "  margin: -1px;\n",
              "  overflow: hidden;\n",
              "  padding: 0;\n",
              "  position: absolute;\n",
              "  width: 1px;\n",
              "}\n",
              "\n",
              "#sk-container-id-1 div.sk-dashed-wrapped {\n",
              "  border: 1px dashed var(--sklearn-color-line);\n",
              "  margin: 0 0.4em 0.5em 0.4em;\n",
              "  box-sizing: border-box;\n",
              "  padding-bottom: 0.4em;\n",
              "  background-color: var(--sklearn-color-background);\n",
              "}\n",
              "\n",
              "#sk-container-id-1 div.sk-container {\n",
              "  /* jupyter's `normalize.less` sets `[hidden] { display: none; }`\n",
              "     but bootstrap.min.css set `[hidden] { display: none !important; }`\n",
              "     so we also need the `!important` here to be able to override the\n",
              "     default hidden behavior on the sphinx rendered scikit-learn.org.\n",
              "     See: https://github.com/scikit-learn/scikit-learn/issues/21755 */\n",
              "  display: inline-block !important;\n",
              "  position: relative;\n",
              "}\n",
              "\n",
              "#sk-container-id-1 div.sk-text-repr-fallback {\n",
              "  display: none;\n",
              "}\n",
              "\n",
              "div.sk-parallel-item,\n",
              "div.sk-serial,\n",
              "div.sk-item {\n",
              "  /* draw centered vertical line to link estimators */\n",
              "  background-image: linear-gradient(var(--sklearn-color-text-on-default-background), var(--sklearn-color-text-on-default-background));\n",
              "  background-size: 2px 100%;\n",
              "  background-repeat: no-repeat;\n",
              "  background-position: center center;\n",
              "}\n",
              "\n",
              "/* Parallel-specific style estimator block */\n",
              "\n",
              "#sk-container-id-1 div.sk-parallel-item::after {\n",
              "  content: \"\";\n",
              "  width: 100%;\n",
              "  border-bottom: 2px solid var(--sklearn-color-text-on-default-background);\n",
              "  flex-grow: 1;\n",
              "}\n",
              "\n",
              "#sk-container-id-1 div.sk-parallel {\n",
              "  display: flex;\n",
              "  align-items: stretch;\n",
              "  justify-content: center;\n",
              "  background-color: var(--sklearn-color-background);\n",
              "  position: relative;\n",
              "}\n",
              "\n",
              "#sk-container-id-1 div.sk-parallel-item {\n",
              "  display: flex;\n",
              "  flex-direction: column;\n",
              "}\n",
              "\n",
              "#sk-container-id-1 div.sk-parallel-item:first-child::after {\n",
              "  align-self: flex-end;\n",
              "  width: 50%;\n",
              "}\n",
              "\n",
              "#sk-container-id-1 div.sk-parallel-item:last-child::after {\n",
              "  align-self: flex-start;\n",
              "  width: 50%;\n",
              "}\n",
              "\n",
              "#sk-container-id-1 div.sk-parallel-item:only-child::after {\n",
              "  width: 0;\n",
              "}\n",
              "\n",
              "/* Serial-specific style estimator block */\n",
              "\n",
              "#sk-container-id-1 div.sk-serial {\n",
              "  display: flex;\n",
              "  flex-direction: column;\n",
              "  align-items: center;\n",
              "  background-color: var(--sklearn-color-background);\n",
              "  padding-right: 1em;\n",
              "  padding-left: 1em;\n",
              "}\n",
              "\n",
              "\n",
              "/* Toggleable style: style used for estimator/Pipeline/ColumnTransformer box that is\n",
              "clickable and can be expanded/collapsed.\n",
              "- Pipeline and ColumnTransformer use this feature and define the default style\n",
              "- Estimators will overwrite some part of the style using the `sk-estimator` class\n",
              "*/\n",
              "\n",
              "/* Pipeline and ColumnTransformer style (default) */\n",
              "\n",
              "#sk-container-id-1 div.sk-toggleable {\n",
              "  /* Default theme specific background. It is overwritten whether we have a\n",
              "  specific estimator or a Pipeline/ColumnTransformer */\n",
              "  background-color: var(--sklearn-color-background);\n",
              "}\n",
              "\n",
              "/* Toggleable label */\n",
              "#sk-container-id-1 label.sk-toggleable__label {\n",
              "  cursor: pointer;\n",
              "  display: flex;\n",
              "  width: 100%;\n",
              "  margin-bottom: 0;\n",
              "  padding: 0.5em;\n",
              "  box-sizing: border-box;\n",
              "  text-align: center;\n",
              "  align-items: start;\n",
              "  justify-content: space-between;\n",
              "  gap: 0.5em;\n",
              "}\n",
              "\n",
              "#sk-container-id-1 label.sk-toggleable__label .caption {\n",
              "  font-size: 0.6rem;\n",
              "  font-weight: lighter;\n",
              "  color: var(--sklearn-color-text-muted);\n",
              "}\n",
              "\n",
              "#sk-container-id-1 label.sk-toggleable__label-arrow:before {\n",
              "  /* Arrow on the left of the label */\n",
              "  content: \"▸\";\n",
              "  float: left;\n",
              "  margin-right: 0.25em;\n",
              "  color: var(--sklearn-color-icon);\n",
              "}\n",
              "\n",
              "#sk-container-id-1 label.sk-toggleable__label-arrow:hover:before {\n",
              "  color: var(--sklearn-color-text);\n",
              "}\n",
              "\n",
              "/* Toggleable content - dropdown */\n",
              "\n",
              "#sk-container-id-1 div.sk-toggleable__content {\n",
              "  max-height: 0;\n",
              "  max-width: 0;\n",
              "  overflow: hidden;\n",
              "  text-align: left;\n",
              "  /* unfitted */\n",
              "  background-color: var(--sklearn-color-unfitted-level-0);\n",
              "}\n",
              "\n",
              "#sk-container-id-1 div.sk-toggleable__content.fitted {\n",
              "  /* fitted */\n",
              "  background-color: var(--sklearn-color-fitted-level-0);\n",
              "}\n",
              "\n",
              "#sk-container-id-1 div.sk-toggleable__content pre {\n",
              "  margin: 0.2em;\n",
              "  border-radius: 0.25em;\n",
              "  color: var(--sklearn-color-text);\n",
              "  /* unfitted */\n",
              "  background-color: var(--sklearn-color-unfitted-level-0);\n",
              "}\n",
              "\n",
              "#sk-container-id-1 div.sk-toggleable__content.fitted pre {\n",
              "  /* unfitted */\n",
              "  background-color: var(--sklearn-color-fitted-level-0);\n",
              "}\n",
              "\n",
              "#sk-container-id-1 input.sk-toggleable__control:checked~div.sk-toggleable__content {\n",
              "  /* Expand drop-down */\n",
              "  max-height: 200px;\n",
              "  max-width: 100%;\n",
              "  overflow: auto;\n",
              "}\n",
              "\n",
              "#sk-container-id-1 input.sk-toggleable__control:checked~label.sk-toggleable__label-arrow:before {\n",
              "  content: \"▾\";\n",
              "}\n",
              "\n",
              "/* Pipeline/ColumnTransformer-specific style */\n",
              "\n",
              "#sk-container-id-1 div.sk-label input.sk-toggleable__control:checked~label.sk-toggleable__label {\n",
              "  color: var(--sklearn-color-text);\n",
              "  background-color: var(--sklearn-color-unfitted-level-2);\n",
              "}\n",
              "\n",
              "#sk-container-id-1 div.sk-label.fitted input.sk-toggleable__control:checked~label.sk-toggleable__label {\n",
              "  background-color: var(--sklearn-color-fitted-level-2);\n",
              "}\n",
              "\n",
              "/* Estimator-specific style */\n",
              "\n",
              "/* Colorize estimator box */\n",
              "#sk-container-id-1 div.sk-estimator input.sk-toggleable__control:checked~label.sk-toggleable__label {\n",
              "  /* unfitted */\n",
              "  background-color: var(--sklearn-color-unfitted-level-2);\n",
              "}\n",
              "\n",
              "#sk-container-id-1 div.sk-estimator.fitted input.sk-toggleable__control:checked~label.sk-toggleable__label {\n",
              "  /* fitted */\n",
              "  background-color: var(--sklearn-color-fitted-level-2);\n",
              "}\n",
              "\n",
              "#sk-container-id-1 div.sk-label label.sk-toggleable__label,\n",
              "#sk-container-id-1 div.sk-label label {\n",
              "  /* The background is the default theme color */\n",
              "  color: var(--sklearn-color-text-on-default-background);\n",
              "}\n",
              "\n",
              "/* On hover, darken the color of the background */\n",
              "#sk-container-id-1 div.sk-label:hover label.sk-toggleable__label {\n",
              "  color: var(--sklearn-color-text);\n",
              "  background-color: var(--sklearn-color-unfitted-level-2);\n",
              "}\n",
              "\n",
              "/* Label box, darken color on hover, fitted */\n",
              "#sk-container-id-1 div.sk-label.fitted:hover label.sk-toggleable__label.fitted {\n",
              "  color: var(--sklearn-color-text);\n",
              "  background-color: var(--sklearn-color-fitted-level-2);\n",
              "}\n",
              "\n",
              "/* Estimator label */\n",
              "\n",
              "#sk-container-id-1 div.sk-label label {\n",
              "  font-family: monospace;\n",
              "  font-weight: bold;\n",
              "  display: inline-block;\n",
              "  line-height: 1.2em;\n",
              "}\n",
              "\n",
              "#sk-container-id-1 div.sk-label-container {\n",
              "  text-align: center;\n",
              "}\n",
              "\n",
              "/* Estimator-specific */\n",
              "#sk-container-id-1 div.sk-estimator {\n",
              "  font-family: monospace;\n",
              "  border: 1px dotted var(--sklearn-color-border-box);\n",
              "  border-radius: 0.25em;\n",
              "  box-sizing: border-box;\n",
              "  margin-bottom: 0.5em;\n",
              "  /* unfitted */\n",
              "  background-color: var(--sklearn-color-unfitted-level-0);\n",
              "}\n",
              "\n",
              "#sk-container-id-1 div.sk-estimator.fitted {\n",
              "  /* fitted */\n",
              "  background-color: var(--sklearn-color-fitted-level-0);\n",
              "}\n",
              "\n",
              "/* on hover */\n",
              "#sk-container-id-1 div.sk-estimator:hover {\n",
              "  /* unfitted */\n",
              "  background-color: var(--sklearn-color-unfitted-level-2);\n",
              "}\n",
              "\n",
              "#sk-container-id-1 div.sk-estimator.fitted:hover {\n",
              "  /* fitted */\n",
              "  background-color: var(--sklearn-color-fitted-level-2);\n",
              "}\n",
              "\n",
              "/* Specification for estimator info (e.g. \"i\" and \"?\") */\n",
              "\n",
              "/* Common style for \"i\" and \"?\" */\n",
              "\n",
              ".sk-estimator-doc-link,\n",
              "a:link.sk-estimator-doc-link,\n",
              "a:visited.sk-estimator-doc-link {\n",
              "  float: right;\n",
              "  font-size: smaller;\n",
              "  line-height: 1em;\n",
              "  font-family: monospace;\n",
              "  background-color: var(--sklearn-color-background);\n",
              "  border-radius: 1em;\n",
              "  height: 1em;\n",
              "  width: 1em;\n",
              "  text-decoration: none !important;\n",
              "  margin-left: 0.5em;\n",
              "  text-align: center;\n",
              "  /* unfitted */\n",
              "  border: var(--sklearn-color-unfitted-level-1) 1pt solid;\n",
              "  color: var(--sklearn-color-unfitted-level-1);\n",
              "}\n",
              "\n",
              ".sk-estimator-doc-link.fitted,\n",
              "a:link.sk-estimator-doc-link.fitted,\n",
              "a:visited.sk-estimator-doc-link.fitted {\n",
              "  /* fitted */\n",
              "  border: var(--sklearn-color-fitted-level-1) 1pt solid;\n",
              "  color: var(--sklearn-color-fitted-level-1);\n",
              "}\n",
              "\n",
              "/* On hover */\n",
              "div.sk-estimator:hover .sk-estimator-doc-link:hover,\n",
              ".sk-estimator-doc-link:hover,\n",
              "div.sk-label-container:hover .sk-estimator-doc-link:hover,\n",
              ".sk-estimator-doc-link:hover {\n",
              "  /* unfitted */\n",
              "  background-color: var(--sklearn-color-unfitted-level-3);\n",
              "  color: var(--sklearn-color-background);\n",
              "  text-decoration: none;\n",
              "}\n",
              "\n",
              "div.sk-estimator.fitted:hover .sk-estimator-doc-link.fitted:hover,\n",
              ".sk-estimator-doc-link.fitted:hover,\n",
              "div.sk-label-container:hover .sk-estimator-doc-link.fitted:hover,\n",
              ".sk-estimator-doc-link.fitted:hover {\n",
              "  /* fitted */\n",
              "  background-color: var(--sklearn-color-fitted-level-3);\n",
              "  color: var(--sklearn-color-background);\n",
              "  text-decoration: none;\n",
              "}\n",
              "\n",
              "/* Span, style for the box shown on hovering the info icon */\n",
              ".sk-estimator-doc-link span {\n",
              "  display: none;\n",
              "  z-index: 9999;\n",
              "  position: relative;\n",
              "  font-weight: normal;\n",
              "  right: .2ex;\n",
              "  padding: .5ex;\n",
              "  margin: .5ex;\n",
              "  width: min-content;\n",
              "  min-width: 20ex;\n",
              "  max-width: 50ex;\n",
              "  color: var(--sklearn-color-text);\n",
              "  box-shadow: 2pt 2pt 4pt #999;\n",
              "  /* unfitted */\n",
              "  background: var(--sklearn-color-unfitted-level-0);\n",
              "  border: .5pt solid var(--sklearn-color-unfitted-level-3);\n",
              "}\n",
              "\n",
              ".sk-estimator-doc-link.fitted span {\n",
              "  /* fitted */\n",
              "  background: var(--sklearn-color-fitted-level-0);\n",
              "  border: var(--sklearn-color-fitted-level-3);\n",
              "}\n",
              "\n",
              ".sk-estimator-doc-link:hover span {\n",
              "  display: block;\n",
              "}\n",
              "\n",
              "/* \"?\"-specific style due to the `<a>` HTML tag */\n",
              "\n",
              "#sk-container-id-1 a.estimator_doc_link {\n",
              "  float: right;\n",
              "  font-size: 1rem;\n",
              "  line-height: 1em;\n",
              "  font-family: monospace;\n",
              "  background-color: var(--sklearn-color-background);\n",
              "  border-radius: 1rem;\n",
              "  height: 1rem;\n",
              "  width: 1rem;\n",
              "  text-decoration: none;\n",
              "  /* unfitted */\n",
              "  color: var(--sklearn-color-unfitted-level-1);\n",
              "  border: var(--sklearn-color-unfitted-level-1) 1pt solid;\n",
              "}\n",
              "\n",
              "#sk-container-id-1 a.estimator_doc_link.fitted {\n",
              "  /* fitted */\n",
              "  border: var(--sklearn-color-fitted-level-1) 1pt solid;\n",
              "  color: var(--sklearn-color-fitted-level-1);\n",
              "}\n",
              "\n",
              "/* On hover */\n",
              "#sk-container-id-1 a.estimator_doc_link:hover {\n",
              "  /* unfitted */\n",
              "  background-color: var(--sklearn-color-unfitted-level-3);\n",
              "  color: var(--sklearn-color-background);\n",
              "  text-decoration: none;\n",
              "}\n",
              "\n",
              "#sk-container-id-1 a.estimator_doc_link.fitted:hover {\n",
              "  /* fitted */\n",
              "  background-color: var(--sklearn-color-fitted-level-3);\n",
              "}\n",
              "</style><div id=\"sk-container-id-1\" class=\"sk-top-container\"><div class=\"sk-text-repr-fallback\"><pre>SGDClassifier(loss=&#x27;log_loss&#x27;, n_jobs=-1, random_state=42)</pre><b>In a Jupyter environment, please rerun this cell to show the HTML representation or trust the notebook. <br />On GitHub, the HTML representation is unable to render, please try loading this page with nbviewer.org.</b></div><div class=\"sk-container\" hidden><div class=\"sk-item\"><div class=\"sk-estimator fitted sk-toggleable\"><input class=\"sk-toggleable__control sk-hidden--visually\" id=\"sk-estimator-id-1\" type=\"checkbox\" checked><label for=\"sk-estimator-id-1\" class=\"sk-toggleable__label fitted sk-toggleable__label-arrow\"><div><div>SGDClassifier</div></div><div><a class=\"sk-estimator-doc-link fitted\" rel=\"noreferrer\" target=\"_blank\" href=\"https://scikit-learn.org/1.6/modules/generated/sklearn.linear_model.SGDClassifier.html\">?<span>Documentation for SGDClassifier</span></a><span class=\"sk-estimator-doc-link fitted\">i<span>Fitted</span></span></div></label><div class=\"sk-toggleable__content fitted\"><pre>SGDClassifier(loss=&#x27;log_loss&#x27;, n_jobs=-1, random_state=42)</pre></div> </div></div></div></div>"
            ]
          },
          "metadata": {},
          "execution_count": 23
        }
      ]
    },
    {
      "cell_type": "code",
      "source": [
        "sgd.intercept_  #> shape: (10,)"
      ],
      "metadata": {
        "colab": {
          "base_uri": "https://localhost:8080/"
        },
        "id": "R-DJFzyqCarm",
        "outputId": "e40a5f76-e2dc-4ebe-a37a-18c3f21b6444"
      },
      "execution_count": 24,
      "outputs": [
        {
          "output_type": "execute_result",
          "data": {
            "text/plain": [
              "array([ -1.54024535,  -4.97085256,  -2.45411884,  -1.5496291 ,\n",
              "        -4.94592029,   3.66151889,  -1.47955462,  -1.90241534,\n",
              "        -4.40078057, -25.19876253])"
            ]
          },
          "metadata": {},
          "execution_count": 24
        }
      ]
    },
    {
      "cell_type": "code",
      "source": [
        "sgd.coef_.shape  #> (10, 784)"
      ],
      "metadata": {
        "colab": {
          "base_uri": "https://localhost:8080/"
        },
        "id": "WjGHotpHC91m",
        "outputId": "a439e1e7-1289-450c-978e-7dd265655fec"
      },
      "execution_count": 25,
      "outputs": [
        {
          "output_type": "execute_result",
          "data": {
            "text/plain": [
              "(10, 784)"
            ]
          },
          "metadata": {},
          "execution_count": 25
        }
      ]
    },
    {
      "cell_type": "code",
      "source": [
        "predict_probas = sgd.predict_proba(X=train_data_scaled.reshape((48_000, -1)))"
      ],
      "metadata": {
        "id": "CpBtSErcDLnN"
      },
      "execution_count": 26,
      "outputs": []
    },
    {
      "cell_type": "code",
      "source": [
        "predict_probas.shape  #> (48_000, 10)"
      ],
      "metadata": {
        "colab": {
          "base_uri": "https://localhost:8080/"
        },
        "id": "7iWLJvoEDr8G",
        "outputId": "5c423a2a-05f5-49ac-ab63-8b9ad4669ba9"
      },
      "execution_count": 27,
      "outputs": [
        {
          "output_type": "execute_result",
          "data": {
            "text/plain": [
              "(48000, 10)"
            ]
          },
          "metadata": {},
          "execution_count": 27
        }
      ]
    },
    {
      "cell_type": "code",
      "source": [
        "predict_probas[:5]"
      ],
      "metadata": {
        "colab": {
          "base_uri": "https://localhost:8080/"
        },
        "id": "rYurEy_nD6f1",
        "outputId": "b01a108c-7fc0-42ff-ff6b-a0995a21c61c"
      },
      "execution_count": 28,
      "outputs": [
        {
          "output_type": "execute_result",
          "data": {
            "text/plain": [
              "array([[1.20888251e-02, 1.05549631e-05, 2.30094285e-01, 3.41231387e-03,\n",
              "        4.86284532e-02, 3.96063160e-10, 6.91742929e-01, 1.54454383e-17,\n",
              "        1.40226378e-02, 1.05805064e-16],\n",
              "       [7.53889861e-01, 1.20438290e-04, 4.89841116e-05, 2.88644150e-04,\n",
              "        7.52168267e-02, 4.15812599e-17, 1.69806662e-01, 2.22627871e-15,\n",
              "        6.28584469e-04, 3.41774283e-15],\n",
              "       [2.89450403e-03, 2.51542365e-04, 1.32250305e-04, 9.78121334e-01,\n",
              "        2.43557068e-04, 8.15414752e-12, 1.83430550e-02, 1.32044303e-06,\n",
              "        1.24368179e-05, 1.15226778e-10],\n",
              "       [1.87927047e-02, 1.53865511e-02, 4.75084700e-03, 9.59873842e-01,\n",
              "        2.15421676e-04, 2.30937550e-07, 4.85837345e-04, 7.79498173e-08,\n",
              "        4.94463323e-04, 2.39574997e-08],\n",
              "       [9.71611164e-01, 8.55700455e-07, 2.35430174e-03, 2.77866962e-07,\n",
              "        7.27359445e-06, 2.50343665e-19, 2.58251753e-02, 6.13245802e-16,\n",
              "        2.00951140e-04, 2.02813751e-10]])"
            ]
          },
          "metadata": {},
          "execution_count": 28
        }
      ]
    },
    {
      "cell_type": "code",
      "source": [
        "predicts = sgd.predict(X=train_data_scaled.reshape((48_000, -1)))"
      ],
      "metadata": {
        "id": "d5Huoi0IECCc"
      },
      "execution_count": 29,
      "outputs": []
    },
    {
      "cell_type": "code",
      "source": [
        "predicts.shape  #> (48_000,)"
      ],
      "metadata": {
        "colab": {
          "base_uri": "https://localhost:8080/"
        },
        "id": "mOiPzLmtEdg8",
        "outputId": "6e211f85-788d-458a-e5d8-db29613e96dc"
      },
      "execution_count": 30,
      "outputs": [
        {
          "output_type": "execute_result",
          "data": {
            "text/plain": [
              "(48000,)"
            ]
          },
          "metadata": {},
          "execution_count": 30
        }
      ]
    },
    {
      "cell_type": "code",
      "source": [
        "predicts[:5]"
      ],
      "metadata": {
        "colab": {
          "base_uri": "https://localhost:8080/"
        },
        "id": "RwFo7k0HEhNL",
        "outputId": "1d9f74bc-d395-4c23-9675-f16c44385174"
      },
      "execution_count": 31,
      "outputs": [
        {
          "output_type": "execute_result",
          "data": {
            "text/plain": [
              "array([6, 0, 3, 3, 0], dtype=uint8)"
            ]
          },
          "metadata": {},
          "execution_count": 31
        }
      ]
    },
    {
      "cell_type": "code",
      "source": [
        "accuracy_score(train_target, predicts)  # 훈련 셋 정확도"
      ],
      "metadata": {
        "colab": {
          "base_uri": "https://localhost:8080/"
        },
        "id": "RD9C7cUTEo_8",
        "outputId": "b88ff823-84c3-414d-b2a0-6f9aa95e2f5c"
      },
      "execution_count": 32,
      "outputs": [
        {
          "output_type": "execute_result",
          "data": {
            "text/plain": [
              "0.8518125"
            ]
          },
          "metadata": {},
          "execution_count": 32
        }
      ]
    },
    {
      "cell_type": "code",
      "source": [
        "# 검증 셋의 모든 픽셀을 0 ~ 1 사이로 스케일링\n",
        "val_data_scaled = val_data / 255.0\n",
        "# 검증 셋의 예측값\n",
        "val_predicts = sgd.predict(X=val_data_scaled.reshape((12_000, -1)))\n",
        "# 검증 셋의 정확도\n",
        "accuracy_score(y_true=val_target, y_pred=val_predicts)"
      ],
      "metadata": {
        "colab": {
          "base_uri": "https://localhost:8080/"
        },
        "id": "K22sIcO8FGnF",
        "outputId": "14930996-d322-4ca9-ebbb-fc039df15480"
      },
      "execution_count": 33,
      "outputs": [
        {
          "output_type": "execute_result",
          "data": {
            "text/plain": [
              "0.8468333333333333"
            ]
          },
          "metadata": {},
          "execution_count": 33
        }
      ]
    },
    {
      "cell_type": "markdown",
      "source": [
        "# 신경망\n",
        "\n",
        "Keras 라이브러리를 사용해서 입력층과 출력층만 갖는 신경망을 만들고 테스트하세요."
      ],
      "metadata": {
        "id": "xScq6GZ6LFXA"
      }
    },
    {
      "cell_type": "code",
      "source": [
        "tr_data_scaled_flat = train_data_scaled.reshape((48_000, -1))  #> shape: (48_000, 784)\n",
        "val_data_scaled_flat = val_data_scaled.reshape((12_000, -1))   #> shape: (12_000, 784)"
      ],
      "metadata": {
        "id": "rCurUi-VFfvm"
      },
      "execution_count": 34,
      "outputs": []
    },
    {
      "cell_type": "code",
      "source": [
        "print(tr_data_scaled_flat.shape)\n",
        "print(val_data_scaled_flat.shape)"
      ],
      "metadata": {
        "colab": {
          "base_uri": "https://localhost:8080/"
        },
        "id": "CYGRA39fL5rh",
        "outputId": "a2555ec6-b34b-426a-cdfa-6a512e29efef"
      },
      "execution_count": 35,
      "outputs": [
        {
          "output_type": "stream",
          "name": "stdout",
          "text": [
            "(48000, 784)\n",
            "(12000, 784)\n"
          ]
        }
      ]
    },
    {
      "cell_type": "code",
      "source": [
        "inputs = keras.layers.Input(shape=(784,))  # 입력층"
      ],
      "metadata": {
        "id": "MzSxfFbcNLUf"
      },
      "execution_count": 36,
      "outputs": []
    },
    {
      "cell_type": "code",
      "source": [
        "dense = keras.layers.Dense(units=10, activation='softmax')  # 출력층"
      ],
      "metadata": {
        "id": "j-ON1Gq1NT8X"
      },
      "execution_count": 37,
      "outputs": []
    },
    {
      "cell_type": "code",
      "source": [
        "model = keras.Sequential(layers=[inputs, dense])  # 완전 연결 신경망"
      ],
      "metadata": {
        "id": "atSJY1qwNbxX"
      },
      "execution_count": 38,
      "outputs": []
    },
    {
      "cell_type": "code",
      "source": [
        "model.summary()\n",
        "#> 모델 파라미터 개수 = (784 weight * 10 output) + 10 bias =  7,850"
      ],
      "metadata": {
        "colab": {
          "base_uri": "https://localhost:8080/",
          "height": 164
        },
        "id": "OwPKRNqnNkP3",
        "outputId": "6410f88c-058f-4b86-c372-5daa5871f021"
      },
      "execution_count": 39,
      "outputs": [
        {
          "output_type": "display_data",
          "data": {
            "text/plain": [
              "\u001b[1mModel: \"sequential\"\u001b[0m\n"
            ],
            "text/html": [
              "<pre style=\"white-space:pre;overflow-x:auto;line-height:normal;font-family:Menlo,'DejaVu Sans Mono',consolas,'Courier New',monospace\"><span style=\"font-weight: bold\">Model: \"sequential\"</span>\n",
              "</pre>\n"
            ]
          },
          "metadata": {}
        },
        {
          "output_type": "display_data",
          "data": {
            "text/plain": [
              "┏━━━━━━━━━━━━━━━━━━━━━━━━━━━━━━━━━┳━━━━━━━━━━━━━━━━━━━━━━━━┳━━━━━━━━━━━━━━━┓\n",
              "┃\u001b[1m \u001b[0m\u001b[1mLayer (type)                   \u001b[0m\u001b[1m \u001b[0m┃\u001b[1m \u001b[0m\u001b[1mOutput Shape          \u001b[0m\u001b[1m \u001b[0m┃\u001b[1m \u001b[0m\u001b[1m      Param #\u001b[0m\u001b[1m \u001b[0m┃\n",
              "┡━━━━━━━━━━━━━━━━━━━━━━━━━━━━━━━━━╇━━━━━━━━━━━━━━━━━━━━━━━━╇━━━━━━━━━━━━━━━┩\n",
              "│ dense (\u001b[38;5;33mDense\u001b[0m)                   │ (\u001b[38;5;45mNone\u001b[0m, \u001b[38;5;34m10\u001b[0m)             │         \u001b[38;5;34m7,850\u001b[0m │\n",
              "└─────────────────────────────────┴────────────────────────┴───────────────┘\n"
            ],
            "text/html": [
              "<pre style=\"white-space:pre;overflow-x:auto;line-height:normal;font-family:Menlo,'DejaVu Sans Mono',consolas,'Courier New',monospace\">┏━━━━━━━━━━━━━━━━━━━━━━━━━━━━━━━━━┳━━━━━━━━━━━━━━━━━━━━━━━━┳━━━━━━━━━━━━━━━┓\n",
              "┃<span style=\"font-weight: bold\"> Layer (type)                    </span>┃<span style=\"font-weight: bold\"> Output Shape           </span>┃<span style=\"font-weight: bold\">       Param # </span>┃\n",
              "┡━━━━━━━━━━━━━━━━━━━━━━━━━━━━━━━━━╇━━━━━━━━━━━━━━━━━━━━━━━━╇━━━━━━━━━━━━━━━┩\n",
              "│ dense (<span style=\"color: #0087ff; text-decoration-color: #0087ff\">Dense</span>)                   │ (<span style=\"color: #00d7ff; text-decoration-color: #00d7ff\">None</span>, <span style=\"color: #00af00; text-decoration-color: #00af00\">10</span>)             │         <span style=\"color: #00af00; text-decoration-color: #00af00\">7,850</span> │\n",
              "└─────────────────────────────────┴────────────────────────┴───────────────┘\n",
              "</pre>\n"
            ]
          },
          "metadata": {}
        },
        {
          "output_type": "display_data",
          "data": {
            "text/plain": [
              "\u001b[1m Total params: \u001b[0m\u001b[38;5;34m7,850\u001b[0m (30.66 KB)\n"
            ],
            "text/html": [
              "<pre style=\"white-space:pre;overflow-x:auto;line-height:normal;font-family:Menlo,'DejaVu Sans Mono',consolas,'Courier New',monospace\"><span style=\"font-weight: bold\"> Total params: </span><span style=\"color: #00af00; text-decoration-color: #00af00\">7,850</span> (30.66 KB)\n",
              "</pre>\n"
            ]
          },
          "metadata": {}
        },
        {
          "output_type": "display_data",
          "data": {
            "text/plain": [
              "\u001b[1m Trainable params: \u001b[0m\u001b[38;5;34m7,850\u001b[0m (30.66 KB)\n"
            ],
            "text/html": [
              "<pre style=\"white-space:pre;overflow-x:auto;line-height:normal;font-family:Menlo,'DejaVu Sans Mono',consolas,'Courier New',monospace\"><span style=\"font-weight: bold\"> Trainable params: </span><span style=\"color: #00af00; text-decoration-color: #00af00\">7,850</span> (30.66 KB)\n",
              "</pre>\n"
            ]
          },
          "metadata": {}
        },
        {
          "output_type": "display_data",
          "data": {
            "text/plain": [
              "\u001b[1m Non-trainable params: \u001b[0m\u001b[38;5;34m0\u001b[0m (0.00 B)\n"
            ],
            "text/html": [
              "<pre style=\"white-space:pre;overflow-x:auto;line-height:normal;font-family:Menlo,'DejaVu Sans Mono',consolas,'Courier New',monospace\"><span style=\"font-weight: bold\"> Non-trainable params: </span><span style=\"color: #00af00; text-decoration-color: #00af00\">0</span> (0.00 B)\n",
              "</pre>\n"
            ]
          },
          "metadata": {}
        }
      ]
    },
    {
      "cell_type": "code",
      "source": [
        "model.compile(loss=keras.losses.sparse_categorical_crossentropy,\n",
        "              metrics=[keras.metrics.sparse_categorical_accuracy])"
      ],
      "metadata": {
        "id": "W7-KEaDmNodu"
      },
      "execution_count": 40,
      "outputs": []
    },
    {
      "cell_type": "code",
      "source": [
        "model.fit(x=tr_data_scaled_flat, y=train_target, epochs=5, verbose=0)"
      ],
      "metadata": {
        "colab": {
          "base_uri": "https://localhost:8080/"
        },
        "id": "E8XZiDo6OPi2",
        "outputId": "b8b60334-7f05-4dd3-d4c8-860757a94fb4"
      },
      "execution_count": 41,
      "outputs": [
        {
          "output_type": "execute_result",
          "data": {
            "text/plain": [
              "<keras.src.callbacks.history.History at 0x78e120855100>"
            ]
          },
          "metadata": {},
          "execution_count": 41
        }
      ]
    },
    {
      "cell_type": "code",
      "source": [
        "predicts = model.predict(x=tr_data_scaled_flat)\n",
        "#> 48,000개 이미지의 각 레이블이 될 확률을 리턴."
      ],
      "metadata": {
        "colab": {
          "base_uri": "https://localhost:8080/"
        },
        "id": "uRtTt1QWOZzP",
        "outputId": "eaadbc9e-61c7-414e-f019-7506bf873597"
      },
      "execution_count": 42,
      "outputs": [
        {
          "output_type": "stream",
          "name": "stdout",
          "text": [
            "\u001b[1m1500/1500\u001b[0m \u001b[32m━━━━━━━━━━━━━━━━━━━━\u001b[0m\u001b[37m\u001b[0m \u001b[1m2s\u001b[0m 1ms/step\n"
          ]
        }
      ]
    },
    {
      "cell_type": "code",
      "source": [
        "predicts.shape  #> (48_000 이미지 샘플, 10개 확률)"
      ],
      "metadata": {
        "colab": {
          "base_uri": "https://localhost:8080/"
        },
        "id": "d4qt8NDTeEll",
        "outputId": "c67607fc-9ca3-49ee-f122-24596531b8e4"
      },
      "execution_count": 43,
      "outputs": [
        {
          "output_type": "execute_result",
          "data": {
            "text/plain": [
              "(48000, 10)"
            ]
          },
          "metadata": {},
          "execution_count": 43
        }
      ]
    },
    {
      "cell_type": "code",
      "source": [
        "print(predicts[:2])"
      ],
      "metadata": {
        "colab": {
          "base_uri": "https://localhost:8080/"
        },
        "id": "ZukJDkTReNfE",
        "outputId": "0bd69067-526a-4144-a355-c1bb00cd9e35"
      },
      "execution_count": 44,
      "outputs": [
        {
          "output_type": "stream",
          "name": "stdout",
          "text": [
            "[[4.4224034e-03 2.7783672e-05 9.9849194e-02 1.4487952e-02 3.1785723e-02\n",
            "  3.3382899e-13 8.4862101e-01 1.0319313e-17 8.0596650e-04 2.8798280e-17]\n",
            " [5.8696866e-01 3.0089254e-06 5.9541286e-04 6.2308493e-03 6.5446123e-03\n",
            "  1.2002552e-20 3.9961076e-01 2.3510100e-18 4.6651374e-05 2.5588113e-18]]\n"
          ]
        }
      ]
    },
    {
      "cell_type": "code",
      "source": [
        "tr_pred_labels = predicts.argmax(axis=1)\n",
        "# argmax(): 최댓값의 인덱스를 리턴. 10개의 확률들 중 최댓값의 인덱스가 예측 레이블이 됨."
      ],
      "metadata": {
        "id": "lBZ_uYLOeidz"
      },
      "execution_count": 45,
      "outputs": []
    },
    {
      "cell_type": "code",
      "source": [
        "tr_pred_labels.shape"
      ],
      "metadata": {
        "colab": {
          "base_uri": "https://localhost:8080/"
        },
        "id": "8S5C25u4fsjc",
        "outputId": "d192f109-24dd-476c-b4d1-263c99de2fd8"
      },
      "execution_count": 46,
      "outputs": [
        {
          "output_type": "execute_result",
          "data": {
            "text/plain": [
              "(48000,)"
            ]
          },
          "metadata": {},
          "execution_count": 46
        }
      ]
    },
    {
      "cell_type": "code",
      "source": [
        "tr_pred_labels[:2]"
      ],
      "metadata": {
        "colab": {
          "base_uri": "https://localhost:8080/"
        },
        "id": "HvxxPRyyfuBL",
        "outputId": "2b47917e-8fc0-4608-9981-7347a1a9e181"
      },
      "execution_count": 47,
      "outputs": [
        {
          "output_type": "execute_result",
          "data": {
            "text/plain": [
              "array([6, 0])"
            ]
          },
          "metadata": {},
          "execution_count": 47
        }
      ]
    },
    {
      "cell_type": "code",
      "source": [
        "accuracy_score(y_true=train_target, y_pred=tr_pred_labels)"
      ],
      "metadata": {
        "colab": {
          "base_uri": "https://localhost:8080/"
        },
        "id": "cwTV5AptfxfL",
        "outputId": "81bae187-0cd3-4027-b70a-b1504358a487"
      },
      "execution_count": 48,
      "outputs": [
        {
          "output_type": "execute_result",
          "data": {
            "text/plain": [
              "0.857"
            ]
          },
          "metadata": {},
          "execution_count": 48
        }
      ]
    },
    {
      "cell_type": "code",
      "source": [
        "# 훈련 셋 평가 - model의 evaluate 메서드를 사용할 수도 있음.\n",
        "model.evaluate(x=tr_data_scaled_flat, y=train_target, verbose=0)\n",
        "#> [loss(손실), accuracy(정확도)]"
      ],
      "metadata": {
        "colab": {
          "base_uri": "https://localhost:8080/"
        },
        "id": "1Up8KsljgK_c",
        "outputId": "0b21bf6f-65bc-4528-9b6f-7955c2714d70"
      },
      "execution_count": 49,
      "outputs": [
        {
          "output_type": "execute_result",
          "data": {
            "text/plain": [
              "[0.419798344373703, 0.8569999933242798]"
            ]
          },
          "metadata": {},
          "execution_count": 49
        }
      ]
    },
    {
      "cell_type": "code",
      "source": [
        "# 검증 셋 평가\n",
        "model.evaluate(x=val_data_scaled_flat, y=val_target, verbose=0)"
      ],
      "metadata": {
        "colab": {
          "base_uri": "https://localhost:8080/"
        },
        "id": "tqxv_u85g4nL",
        "outputId": "c3ab9153-9037-4769-e130-b896d794eeb3"
      },
      "execution_count": 50,
      "outputs": [
        {
          "output_type": "execute_result",
          "data": {
            "text/plain": [
              "[0.4203130006790161, 0.856083333492279]"
            ]
          },
          "metadata": {},
          "execution_count": 50
        }
      ]
    },
    {
      "cell_type": "markdown",
      "source": [
        "# 활성화 함수(Activation Function)\n",
        "\n",
        "*   활성화 함수: 신경망의 각 층(layer)에서 출력을 내보내는 함수.\n",
        "*   신경망의 은닉층(hidden layer)에서 선형함수를 사용하면 여러 개의 층을 연결하는 효과가 없고, 단일 층을 사용하는 것과 같아짐.\n",
        "*   은닉층에서는 비선형 함수를 활성화 함수로 사용."
      ],
      "metadata": {
        "id": "YyGKDtRfSvRR"
      }
    },
    {
      "cell_type": "markdown",
      "source": [
        "## Sigmoid\n",
        "\n",
        "$\n",
        "\\text{sigmoid}(x) = \\dfrac{1}{1 + \\exp(-x)}\n",
        "$"
      ],
      "metadata": {
        "id": "TUMY37dPS84B"
      }
    },
    {
      "cell_type": "code",
      "source": [
        "xvals = np.arange(-5, 5, 0.0001)"
      ],
      "metadata": {
        "id": "Gp1x0AyXSy88"
      },
      "execution_count": 51,
      "outputs": []
    },
    {
      "cell_type": "code",
      "source": [
        "def sigmoid(x):\n",
        "    return 1 / (1 + np.exp(-x))"
      ],
      "metadata": {
        "id": "0vdqmLexTg2D"
      },
      "execution_count": 52,
      "outputs": []
    },
    {
      "cell_type": "code",
      "source": [
        "yvals = sigmoid(xvals)"
      ],
      "metadata": {
        "id": "yBrCl4g7Tsdy"
      },
      "execution_count": 53,
      "outputs": []
    },
    {
      "cell_type": "code",
      "source": [
        "plt.figure(figsize=(8, 4))\n",
        "plt.plot(xvals, yvals)\n",
        "plt.grid()\n",
        "plt.show()"
      ],
      "metadata": {
        "colab": {
          "base_uri": "https://localhost:8080/",
          "height": 368
        },
        "id": "RJoKrKGjTySB",
        "outputId": "a586e6cf-8888-492b-ac28-5c2a9bedaa36"
      },
      "execution_count": 54,
      "outputs": [
        {
          "output_type": "display_data",
          "data": {
            "text/plain": [
              "<Figure size 800x400 with 1 Axes>"
            ],
            "image/png": "[encoded data removed]"
          },
          "metadata": {}
        }
      ]
    },
    {
      "cell_type": "markdown",
      "source": [
        "## Hyperbolic tangent"
      ],
      "metadata": {
        "id": "TxZ3f4SqWUPv"
      }
    },
    {
      "cell_type": "code",
      "source": [
        "def plot_activation_fn(fn):\n",
        "    xvals = np.arange(-5, 5, 0.0001)\n",
        "    yvals = fn(xvals)\n",
        "    plt.figure(figsize=(8, 4))\n",
        "    plt.plot(xvals, yvals)\n",
        "    plt.grid()\n",
        "    plt.show()"
      ],
      "metadata": {
        "id": "WG20dvqUXYKe"
      },
      "execution_count": 55,
      "outputs": []
    },
    {
      "cell_type": "code",
      "source": [
        "plot_activation_fn(np.tanh)"
      ],
      "metadata": {
        "colab": {
          "base_uri": "https://localhost:8080/",
          "height": 368
        },
        "id": "Ur77l41XT_R5",
        "outputId": "ccdb93d1-4880-497b-9ab2-b20fb8e8cb68"
      },
      "execution_count": 56,
      "outputs": [
        {
          "output_type": "display_data",
          "data": {
            "text/plain": [
              "<Figure size 800x400 with 1 Axes>"
            ],
            "image/png": "[encoded data removed]"
          },
          "metadata": {}
        }
      ]
    },
    {
      "cell_type": "markdown",
      "source": [
        "## ReLU(Rectified Linear Unit)\n",
        "\n",
        "*   입력값이 양수이면 마치 활성화 함수가 없는 것처럼 입력값 그대로 출력으로 내보냄.\n",
        "*   입력값이 음수이면 출력값을 0으로 만듦.\n",
        "*   이미지 처리를 할 때 좋은 성능을 낸다고 알려져 있음.\n",
        "\n",
        "$\n",
        "\\text{ReLU}(x) =\n",
        "\\begin{cases}\n",
        "    x & \\text{for } x \\ge 0 \\\\\n",
        "    0 & \\text{for } x \\lt 0\n",
        "\\end{cases}\n",
        "$"
      ],
      "metadata": {
        "id": "4pz2Fxlyc9Kj"
      }
    },
    {
      "cell_type": "code",
      "source": [
        "def relu(x):\n",
        "    return np.maximum(x, 0)"
      ],
      "metadata": {
        "id": "4M6pUxYvWnpX"
      },
      "execution_count": 57,
      "outputs": []
    },
    {
      "cell_type": "code",
      "source": [
        "plot_activation_fn(relu)"
      ],
      "metadata": {
        "colab": {
          "base_uri": "https://localhost:8080/",
          "height": 368
        },
        "id": "KU6mKyDSe29S",
        "outputId": "89a8bc4c-89f6-48a3-ae19-06953c9a9a03"
      },
      "execution_count": 58,
      "outputs": [
        {
          "output_type": "display_data",
          "data": {
            "text/plain": [
              "<Figure size 800x400 with 1 Axes>"
            ],
            "image/png": "[encoded data removed]"
          },
          "metadata": {}
        }
      ]
    },
    {
      "cell_type": "markdown",
      "source": [
        "## Leaky ReLU\n",
        "\n",
        "$\n",
        "\\text{LeakyReLU}(x, \\alpha) =\n",
        "\\begin{cases}\n",
        "    x & \\text{for } x \\ge 0 \\\\\n",
        "    \\alpha x & \\text{for } x \\lt 0\n",
        "\\end{cases}\n",
        "$"
      ],
      "metadata": {
        "id": "7xl_MBqofbOx"
      }
    },
    {
      "cell_type": "code",
      "source": [
        "def leaky_relu(x, alpha=0.1):\n",
        "    # 0 <= alpha <= 1\n",
        "    return np.maximum(x, alpha * x)"
      ],
      "metadata": {
        "id": "RwAA_Z_ne5fZ"
      },
      "execution_count": 59,
      "outputs": []
    },
    {
      "cell_type": "code",
      "source": [
        "plot_activation_fn(leaky_relu)"
      ],
      "metadata": {
        "colab": {
          "base_uri": "https://localhost:8080/",
          "height": 368
        },
        "id": "EQrxB1z5gMpi",
        "outputId": "7eab5f0e-546a-4ceb-adf7-4fef9ca72cf7"
      },
      "execution_count": 60,
      "outputs": [
        {
          "output_type": "display_data",
          "data": {
            "text/plain": [
              "<Figure size 800x400 with 1 Axes>"
            ],
            "image/png": "[encoded data removed]"
          },
          "metadata": {}
        }
      ]
    },
    {
      "cell_type": "markdown",
      "source": [
        "## ELU(Exponential Linear Unit)\n",
        "\n",
        "$\n",
        "\\text{ELU}(x, \\alpha) =\n",
        "\\begin{cases}\n",
        "    x & \\text{for } x \\ge 0 \\\\\n",
        "    \\alpha (\\exp(x) - 1) & \\text{for } x \\lt 0\n",
        "\\end{cases}\n",
        "$"
      ],
      "metadata": {
        "id": "f6MVHjTihoiA"
      }
    },
    {
      "cell_type": "code",
      "source": [
        "def elu(arr, alpha=1):\n",
        "    # 0 <= alpha\n",
        "    result = []\n",
        "    for x in arr:\n",
        "        if x >= 0:\n",
        "            result.append(x)\n",
        "        else:\n",
        "            result.append(alpha * (np.exp(x) - 1))\n",
        "    return np.array(result)"
      ],
      "metadata": {
        "id": "fwdnljeTgYhQ"
      },
      "execution_count": 61,
      "outputs": []
    },
    {
      "cell_type": "code",
      "source": [
        "def elu(x, alpha=1):\n",
        "    return np.where(x >= 0, x, alpha * (np.exp(x) - 1))"
      ],
      "metadata": {
        "id": "VEW_ag6omvLv"
      },
      "execution_count": 62,
      "outputs": []
    },
    {
      "cell_type": "code",
      "source": [
        "plot_activation_fn(elu)"
      ],
      "metadata": {
        "colab": {
          "base_uri": "https://localhost:8080/",
          "height": 368
        },
        "id": "QC8LavM1jTu5",
        "outputId": "77f5ce70-d13d-4342-c88e-16d22b20636c"
      },
      "execution_count": 63,
      "outputs": [
        {
          "output_type": "display_data",
          "data": {
            "text/plain": [
              "<Figure size 800x400 with 1 Axes>"
            ],
            "image/png": "[encoded data removed]"
          },
          "metadata": {}
        }
      ]
    },
    {
      "cell_type": "markdown",
      "source": [
        "은닉층에서의 활성화 함수 선택: ELU > LeakyReLU > ReLU > tanh > sigmoid"
      ],
      "metadata": {
        "id": "eBnQB11rlQpe"
      }
    },
    {
      "cell_type": "markdown",
      "source": [
        "## ReLU를 활성화 함수로 사용하는 은닉층"
      ],
      "metadata": {
        "id": "5T3nIT6Qq-1a"
      }
    },
    {
      "cell_type": "code",
      "source": [
        "model = keras.Sequential()"
      ],
      "metadata": {
        "id": "b_YhAE02jVjX"
      },
      "execution_count": 64,
      "outputs": []
    },
    {
      "cell_type": "code",
      "source": [
        "model.add(keras.Input(shape=(28, 28)))  # 입력층"
      ],
      "metadata": {
        "id": "UKrppRdorSdM"
      },
      "execution_count": 65,
      "outputs": []
    },
    {
      "cell_type": "code",
      "source": [
        "model.add(keras.layers.Flatten())  # (28, 28) shape의 배열을 (784,) shape으로 변환"
      ],
      "metadata": {
        "id": "9ojVlw1fr8qC"
      },
      "execution_count": 66,
      "outputs": []
    },
    {
      "cell_type": "code",
      "source": [
        "# 100개 unit을 갖는, ReLU를 활성화 함수로 사용하는 은닉층을 추가\n",
        "model.add(keras.layers.Dense(units=100, activation='relu'))"
      ],
      "metadata": {
        "id": "hTQFTtowsR8y"
      },
      "execution_count": 67,
      "outputs": []
    },
    {
      "cell_type": "code",
      "source": [
        "# 출력층 - 다중 클래스 분류. 10개의 unit을 갖고 softmax를 활성화 함수로 사용하는 층.\n",
        "model.add(keras.layers.Dense(units=10, activation='softmax'))"
      ],
      "metadata": {
        "id": "49bNJWgwsoRh"
      },
      "execution_count": 68,
      "outputs": []
    },
    {
      "cell_type": "code",
      "source": [
        "model.summary()"
      ],
      "metadata": {
        "colab": {
          "base_uri": "https://localhost:8080/",
          "height": 230
        },
        "id": "sNskVWLNtiVK",
        "outputId": "0979ed25-6489-4522-e908-b0f51e48ebca"
      },
      "execution_count": 69,
      "outputs": [
        {
          "output_type": "display_data",
          "data": {
            "text/plain": [
              "\u001b[1mModel: \"sequential_1\"\u001b[0m\n"
            ],
            "text/html": [
              "<pre style=\"white-space:pre;overflow-x:auto;line-height:normal;font-family:Menlo,'DejaVu Sans Mono',consolas,'Courier New',monospace\"><span style=\"font-weight: bold\">Model: \"sequential_1\"</span>\n",
              "</pre>\n"
            ]
          },
          "metadata": {}
        },
        {
          "output_type": "display_data",
          "data": {
            "text/plain": [
              "┏━━━━━━━━━━━━━━━━━━━━━━━━━━━━━━━━━┳━━━━━━━━━━━━━━━━━━━━━━━━┳━━━━━━━━━━━━━━━┓\n",
              "┃\u001b[1m \u001b[0m\u001b[1mLayer (type)                   \u001b[0m\u001b[1m \u001b[0m┃\u001b[1m \u001b[0m\u001b[1mOutput Shape          \u001b[0m\u001b[1m \u001b[0m┃\u001b[1m \u001b[0m\u001b[1m      Param #\u001b[0m\u001b[1m \u001b[0m┃\n",
              "┡━━━━━━━━━━━━━━━━━━━━━━━━━━━━━━━━━╇━━━━━━━━━━━━━━━━━━━━━━━━╇━━━━━━━━━━━━━━━┩\n",
              "│ flatten (\u001b[38;5;33mFlatten\u001b[0m)               │ (\u001b[38;5;45mNone\u001b[0m, \u001b[38;5;34m784\u001b[0m)            │             \u001b[38;5;34m0\u001b[0m │\n",
              "├─────────────────────────────────┼────────────────────────┼───────────────┤\n",
              "│ dense_1 (\u001b[38;5;33mDense\u001b[0m)                 │ (\u001b[38;5;45mNone\u001b[0m, \u001b[38;5;34m100\u001b[0m)            │        \u001b[38;5;34m78,500\u001b[0m │\n",
              "├─────────────────────────────────┼────────────────────────┼───────────────┤\n",
              "│ dense_2 (\u001b[38;5;33mDense\u001b[0m)                 │ (\u001b[38;5;45mNone\u001b[0m, \u001b[38;5;34m10\u001b[0m)             │         \u001b[38;5;34m1,010\u001b[0m │\n",
              "└─────────────────────────────────┴────────────────────────┴───────────────┘\n"
            ],
            "text/html": [
              "<pre style=\"white-space:pre;overflow-x:auto;line-height:normal;font-family:Menlo,'DejaVu Sans Mono',consolas,'Courier New',monospace\">┏━━━━━━━━━━━━━━━━━━━━━━━━━━━━━━━━━┳━━━━━━━━━━━━━━━━━━━━━━━━┳━━━━━━━━━━━━━━━┓\n",
              "┃<span style=\"font-weight: bold\"> Layer (type)                    </span>┃<span style=\"font-weight: bold\"> Output Shape           </span>┃<span style=\"font-weight: bold\">       Param # </span>┃\n",
              "┡━━━━━━━━━━━━━━━━━━━━━━━━━━━━━━━━━╇━━━━━━━━━━━━━━━━━━━━━━━━╇━━━━━━━━━━━━━━━┩\n",
              "│ flatten (<span style=\"color: #0087ff; text-decoration-color: #0087ff\">Flatten</span>)               │ (<span style=\"color: #00d7ff; text-decoration-color: #00d7ff\">None</span>, <span style=\"color: #00af00; text-decoration-color: #00af00\">784</span>)            │             <span style=\"color: #00af00; text-decoration-color: #00af00\">0</span> │\n",
              "├─────────────────────────────────┼────────────────────────┼───────────────┤\n",
              "│ dense_1 (<span style=\"color: #0087ff; text-decoration-color: #0087ff\">Dense</span>)                 │ (<span style=\"color: #00d7ff; text-decoration-color: #00d7ff\">None</span>, <span style=\"color: #00af00; text-decoration-color: #00af00\">100</span>)            │        <span style=\"color: #00af00; text-decoration-color: #00af00\">78,500</span> │\n",
              "├─────────────────────────────────┼────────────────────────┼───────────────┤\n",
              "│ dense_2 (<span style=\"color: #0087ff; text-decoration-color: #0087ff\">Dense</span>)                 │ (<span style=\"color: #00d7ff; text-decoration-color: #00d7ff\">None</span>, <span style=\"color: #00af00; text-decoration-color: #00af00\">10</span>)             │         <span style=\"color: #00af00; text-decoration-color: #00af00\">1,010</span> │\n",
              "└─────────────────────────────────┴────────────────────────┴───────────────┘\n",
              "</pre>\n"
            ]
          },
          "metadata": {}
        },
        {
          "output_type": "display_data",
          "data": {
            "text/plain": [
              "\u001b[1m Total params: \u001b[0m\u001b[38;5;34m79,510\u001b[0m (310.59 KB)\n"
            ],
            "text/html": [
              "<pre style=\"white-space:pre;overflow-x:auto;line-height:normal;font-family:Menlo,'DejaVu Sans Mono',consolas,'Courier New',monospace\"><span style=\"font-weight: bold\"> Total params: </span><span style=\"color: #00af00; text-decoration-color: #00af00\">79,510</span> (310.59 KB)\n",
              "</pre>\n"
            ]
          },
          "metadata": {}
        },
        {
          "output_type": "display_data",
          "data": {
            "text/plain": [
              "\u001b[1m Trainable params: \u001b[0m\u001b[38;5;34m79,510\u001b[0m (310.59 KB)\n"
            ],
            "text/html": [
              "<pre style=\"white-space:pre;overflow-x:auto;line-height:normal;font-family:Menlo,'DejaVu Sans Mono',consolas,'Courier New',monospace\"><span style=\"font-weight: bold\"> Trainable params: </span><span style=\"color: #00af00; text-decoration-color: #00af00\">79,510</span> (310.59 KB)\n",
              "</pre>\n"
            ]
          },
          "metadata": {}
        },
        {
          "output_type": "display_data",
          "data": {
            "text/plain": [
              "\u001b[1m Non-trainable params: \u001b[0m\u001b[38;5;34m0\u001b[0m (0.00 B)\n"
            ],
            "text/html": [
              "<pre style=\"white-space:pre;overflow-x:auto;line-height:normal;font-family:Menlo,'DejaVu Sans Mono',consolas,'Courier New',monospace\"><span style=\"font-weight: bold\"> Non-trainable params: </span><span style=\"color: #00af00; text-decoration-color: #00af00\">0</span> (0.00 B)\n",
              "</pre>\n"
            ]
          },
          "metadata": {}
        }
      ]
    },
    {
      "cell_type": "code",
      "source": [
        "# 모델 컴파일\n",
        "model.compile(loss=keras.losses.sparse_categorical_crossentropy,\n",
        "              metrics=[keras.metrics.sparse_categorical_accuracy])"
      ],
      "metadata": {
        "id": "826s0QjhtStI"
      },
      "execution_count": 70,
      "outputs": []
    },
    {
      "cell_type": "code",
      "source": [
        "# 모델 훈련\n",
        "model.fit(x=train_data_scaled, y=train_target, epochs=5)"
      ],
      "metadata": {
        "colab": {
          "base_uri": "https://localhost:8080/"
        },
        "id": "iNekUn3Wuat5",
        "outputId": "7c670d8b-ab82-4167-de4c-cf6372aa6c12"
      },
      "execution_count": 71,
      "outputs": [
        {
          "output_type": "stream",
          "name": "stdout",
          "text": [
            "Epoch 1/5\n",
            "\u001b[1m1500/1500\u001b[0m \u001b[32m━━━━━━━━━━━━━━━━━━━━\u001b[0m\u001b[37m\u001b[0m \u001b[1m7s\u001b[0m 4ms/step - loss: 0.6823 - sparse_categorical_accuracy: 0.7617\n",
            "Epoch 2/5\n",
            "\u001b[1m1500/1500\u001b[0m \u001b[32m━━━━━━━━━━━━━━━━━━━━\u001b[0m\u001b[37m\u001b[0m \u001b[1m5s\u001b[0m 3ms/step - loss: 0.4056 - sparse_categorical_accuracy: 0.8519\n",
            "Epoch 3/5\n",
            "\u001b[1m1500/1500\u001b[0m \u001b[32m━━━━━━━━━━━━━━━━━━━━\u001b[0m\u001b[37m\u001b[0m \u001b[1m10s\u001b[0m 3ms/step - loss: 0.3622 - sparse_categorical_accuracy: 0.8689\n",
            "Epoch 4/5\n",
            "\u001b[1m1500/1500\u001b[0m \u001b[32m━━━━━━━━━━━━━━━━━━━━\u001b[0m\u001b[37m\u001b[0m \u001b[1m6s\u001b[0m 4ms/step - loss: 0.3342 - sparse_categorical_accuracy: 0.8802\n",
            "Epoch 5/5\n",
            "\u001b[1m1500/1500\u001b[0m \u001b[32m━━━━━━━━━━━━━━━━━━━━\u001b[0m\u001b[37m\u001b[0m \u001b[1m5s\u001b[0m 3ms/step - loss: 0.3190 - sparse_categorical_accuracy: 0.8861\n"
          ]
        },
        {
          "output_type": "execute_result",
          "data": {
            "text/plain": [
              "<keras.src.callbacks.history.History at 0x78e12024b9e0>"
            ]
          },
          "metadata": {},
          "execution_count": 71
        }
      ]
    },
    {
      "cell_type": "code",
      "source": [
        "# 모델 평가 - 훈련 셋의 손실/정확도\n",
        "model.evaluate(x=train_data_scaled, y=train_target)"
      ],
      "metadata": {
        "colab": {
          "base_uri": "https://localhost:8080/"
        },
        "id": "UGp0qvCYu0Rh",
        "outputId": "9c8ddfe3-a30b-4d96-c828-5ef4ec8d662f"
      },
      "execution_count": 72,
      "outputs": [
        {
          "output_type": "stream",
          "name": "stdout",
          "text": [
            "\u001b[1m1500/1500\u001b[0m \u001b[32m━━━━━━━━━━━━━━━━━━━━\u001b[0m\u001b[37m\u001b[0m \u001b[1m4s\u001b[0m 2ms/step - loss: 0.3106 - sparse_categorical_accuracy: 0.8903\n"
          ]
        },
        {
          "output_type": "execute_result",
          "data": {
            "text/plain": [
              "[0.313035249710083, 0.8898749947547913]"
            ]
          },
          "metadata": {},
          "execution_count": 72
        }
      ]
    },
    {
      "cell_type": "code",
      "source": [
        "# 모델 평가 - 검증 셋의 손실/정확도\n",
        "model.evaluate(x=val_data_scaled, y=val_target)"
      ],
      "metadata": {
        "colab": {
          "base_uri": "https://localhost:8080/"
        },
        "id": "PrUWdt4Zvrw4",
        "outputId": "865a3a86-0ffa-46eb-8bfc-50045786f6e6"
      },
      "execution_count": 73,
      "outputs": [
        {
          "output_type": "stream",
          "name": "stdout",
          "text": [
            "\u001b[1m375/375\u001b[0m \u001b[32m━━━━━━━━━━━━━━━━━━━━\u001b[0m\u001b[37m\u001b[0m \u001b[1m1s\u001b[0m 3ms/step - loss: 0.3611 - sparse_categorical_accuracy: 0.8772\n"
          ]
        },
        {
          "output_type": "execute_result",
          "data": {
            "text/plain": [
              "[0.35675784945487976, 0.8793333172798157]"
            ]
          },
          "metadata": {},
          "execution_count": 73
        }
      ]
    },
    {
      "cell_type": "markdown",
      "source": [
        "## ELU를 활성화 함수로 사용하는 은닉층"
      ],
      "metadata": {
        "id": "2-TUqJmpwGx-"
      }
    },
    {
      "cell_type": "code",
      "source": [
        "model = keras.Sequential()\n",
        "model.add(keras.Input(shape=(28, 28)))  # 입력층\n",
        "model.add(keras.layers.Flatten())  # Flatten layer: 2차원 입력 배열 -> 1차원 배열\n",
        "model.add(keras.layers.Dense(units=100, activation='elu'))  # 은닉층(hidden layer)\n",
        "model.add(keras.layers.Dense(units=10, activation='softmax'))  # 출력층"
      ],
      "metadata": {
        "id": "3vlxpcY6v243"
      },
      "execution_count": 74,
      "outputs": []
    },
    {
      "cell_type": "code",
      "source": [
        "model.summary()"
      ],
      "metadata": {
        "colab": {
          "base_uri": "https://localhost:8080/",
          "height": 230
        },
        "id": "SEVUBhWaFWNb",
        "outputId": "da46a7cd-5326-4115-8269-c8d3822bdd4a"
      },
      "execution_count": 75,
      "outputs": [
        {
          "output_type": "display_data",
          "data": {
            "text/plain": [
              "\u001b[1mModel: \"sequential_2\"\u001b[0m\n"
            ],
            "text/html": [
              "<pre style=\"white-space:pre;overflow-x:auto;line-height:normal;font-family:Menlo,'DejaVu Sans Mono',consolas,'Courier New',monospace\"><span style=\"font-weight: bold\">Model: \"sequential_2\"</span>\n",
              "</pre>\n"
            ]
          },
          "metadata": {}
        },
        {
          "output_type": "display_data",
          "data": {
            "text/plain": [
              "┏━━━━━━━━━━━━━━━━━━━━━━━━━━━━━━━━━┳━━━━━━━━━━━━━━━━━━━━━━━━┳━━━━━━━━━━━━━━━┓\n",
              "┃\u001b[1m \u001b[0m\u001b[1mLayer (type)                   \u001b[0m\u001b[1m \u001b[0m┃\u001b[1m \u001b[0m\u001b[1mOutput Shape          \u001b[0m\u001b[1m \u001b[0m┃\u001b[1m \u001b[0m\u001b[1m      Param #\u001b[0m\u001b[1m \u001b[0m┃\n",
              "┡━━━━━━━━━━━━━━━━━━━━━━━━━━━━━━━━━╇━━━━━━━━━━━━━━━━━━━━━━━━╇━━━━━━━━━━━━━━━┩\n",
              "│ flatten_1 (\u001b[38;5;33mFlatten\u001b[0m)             │ (\u001b[38;5;45mNone\u001b[0m, \u001b[38;5;34m784\u001b[0m)            │             \u001b[38;5;34m0\u001b[0m │\n",
              "├─────────────────────────────────┼────────────────────────┼───────────────┤\n",
              "│ dense_3 (\u001b[38;5;33mDense\u001b[0m)                 │ (\u001b[38;5;45mNone\u001b[0m, \u001b[38;5;34m100\u001b[0m)            │        \u001b[38;5;34m78,500\u001b[0m │\n",
              "├─────────────────────────────────┼────────────────────────┼───────────────┤\n",
              "│ dense_4 (\u001b[38;5;33mDense\u001b[0m)                 │ (\u001b[38;5;45mNone\u001b[0m, \u001b[38;5;34m10\u001b[0m)             │         \u001b[38;5;34m1,010\u001b[0m │\n",
              "└─────────────────────────────────┴────────────────────────┴───────────────┘\n"
            ],
            "text/html": [
              "<pre style=\"white-space:pre;overflow-x:auto;line-height:normal;font-family:Menlo,'DejaVu Sans Mono',consolas,'Courier New',monospace\">┏━━━━━━━━━━━━━━━━━━━━━━━━━━━━━━━━━┳━━━━━━━━━━━━━━━━━━━━━━━━┳━━━━━━━━━━━━━━━┓\n",
              "┃<span style=\"font-weight: bold\"> Layer (type)                    </span>┃<span style=\"font-weight: bold\"> Output Shape           </span>┃<span style=\"font-weight: bold\">       Param # </span>┃\n",
              "┡━━━━━━━━━━━━━━━━━━━━━━━━━━━━━━━━━╇━━━━━━━━━━━━━━━━━━━━━━━━╇━━━━━━━━━━━━━━━┩\n",
              "│ flatten_1 (<span style=\"color: #0087ff; text-decoration-color: #0087ff\">Flatten</span>)             │ (<span style=\"color: #00d7ff; text-decoration-color: #00d7ff\">None</span>, <span style=\"color: #00af00; text-decoration-color: #00af00\">784</span>)            │             <span style=\"color: #00af00; text-decoration-color: #00af00\">0</span> │\n",
              "├─────────────────────────────────┼────────────────────────┼───────────────┤\n",
              "│ dense_3 (<span style=\"color: #0087ff; text-decoration-color: #0087ff\">Dense</span>)                 │ (<span style=\"color: #00d7ff; text-decoration-color: #00d7ff\">None</span>, <span style=\"color: #00af00; text-decoration-color: #00af00\">100</span>)            │        <span style=\"color: #00af00; text-decoration-color: #00af00\">78,500</span> │\n",
              "├─────────────────────────────────┼────────────────────────┼───────────────┤\n",
              "│ dense_4 (<span style=\"color: #0087ff; text-decoration-color: #0087ff\">Dense</span>)                 │ (<span style=\"color: #00d7ff; text-decoration-color: #00d7ff\">None</span>, <span style=\"color: #00af00; text-decoration-color: #00af00\">10</span>)             │         <span style=\"color: #00af00; text-decoration-color: #00af00\">1,010</span> │\n",
              "└─────────────────────────────────┴────────────────────────┴───────────────┘\n",
              "</pre>\n"
            ]
          },
          "metadata": {}
        },
        {
          "output_type": "display_data",
          "data": {
            "text/plain": [
              "\u001b[1m Total params: \u001b[0m\u001b[38;5;34m79,510\u001b[0m (310.59 KB)\n"
            ],
            "text/html": [
              "<pre style=\"white-space:pre;overflow-x:auto;line-height:normal;font-family:Menlo,'DejaVu Sans Mono',consolas,'Courier New',monospace\"><span style=\"font-weight: bold\"> Total params: </span><span style=\"color: #00af00; text-decoration-color: #00af00\">79,510</span> (310.59 KB)\n",
              "</pre>\n"
            ]
          },
          "metadata": {}
        },
        {
          "output_type": "display_data",
          "data": {
            "text/plain": [
              "\u001b[1m Trainable params: \u001b[0m\u001b[38;5;34m79,510\u001b[0m (310.59 KB)\n"
            ],
            "text/html": [
              "<pre style=\"white-space:pre;overflow-x:auto;line-height:normal;font-family:Menlo,'DejaVu Sans Mono',consolas,'Courier New',monospace\"><span style=\"font-weight: bold\"> Trainable params: </span><span style=\"color: #00af00; text-decoration-color: #00af00\">79,510</span> (310.59 KB)\n",
              "</pre>\n"
            ]
          },
          "metadata": {}
        },
        {
          "output_type": "display_data",
          "data": {
            "text/plain": [
              "\u001b[1m Non-trainable params: \u001b[0m\u001b[38;5;34m0\u001b[0m (0.00 B)\n"
            ],
            "text/html": [
              "<pre style=\"white-space:pre;overflow-x:auto;line-height:normal;font-family:Menlo,'DejaVu Sans Mono',consolas,'Courier New',monospace\"><span style=\"font-weight: bold\"> Non-trainable params: </span><span style=\"color: #00af00; text-decoration-color: #00af00\">0</span> (0.00 B)\n",
              "</pre>\n"
            ]
          },
          "metadata": {}
        }
      ]
    },
    {
      "cell_type": "code",
      "source": [
        "model.compile(loss=keras.losses.sparse_categorical_crossentropy,\n",
        "              metrics=[keras.metrics.sparse_categorical_accuracy])"
      ],
      "metadata": {
        "id": "QpS8lmntFYbx"
      },
      "execution_count": 76,
      "outputs": []
    },
    {
      "cell_type": "code",
      "source": [
        "model.fit(x=train_data_scaled, y=train_target, epochs=5)"
      ],
      "metadata": {
        "colab": {
          "base_uri": "https://localhost:8080/"
        },
        "id": "AUkGCKAuF605",
        "outputId": "d02f115f-09cb-4ca8-9c64-7aea8251308d"
      },
      "execution_count": 77,
      "outputs": [
        {
          "output_type": "stream",
          "name": "stdout",
          "text": [
            "Epoch 1/5\n",
            "\u001b[1m1500/1500\u001b[0m \u001b[32m━━━━━━━━━━━━━━━━━━━━\u001b[0m\u001b[37m\u001b[0m \u001b[1m6s\u001b[0m 3ms/step - loss: 0.6715 - sparse_categorical_accuracy: 0.7613\n",
            "Epoch 2/5\n",
            "\u001b[1m1500/1500\u001b[0m \u001b[32m━━━━━━━━━━━━━━━━━━━━\u001b[0m\u001b[37m\u001b[0m \u001b[1m5s\u001b[0m 3ms/step - loss: 0.4063 - sparse_categorical_accuracy: 0.8530\n",
            "Epoch 3/5\n",
            "\u001b[1m1500/1500\u001b[0m \u001b[32m━━━━━━━━━━━━━━━━━━━━\u001b[0m\u001b[37m\u001b[0m \u001b[1m6s\u001b[0m 4ms/step - loss: 0.3628 - sparse_categorical_accuracy: 0.8693\n",
            "Epoch 4/5\n",
            "\u001b[1m1500/1500\u001b[0m \u001b[32m━━━━━━━━━━━━━━━━━━━━\u001b[0m\u001b[37m\u001b[0m \u001b[1m11s\u001b[0m 4ms/step - loss: 0.3384 - sparse_categorical_accuracy: 0.8751\n",
            "Epoch 5/5\n",
            "\u001b[1m1500/1500\u001b[0m \u001b[32m━━━━━━━━━━━━━━━━━━━━\u001b[0m\u001b[37m\u001b[0m \u001b[1m5s\u001b[0m 3ms/step - loss: 0.3242 - sparse_categorical_accuracy: 0.8815\n"
          ]
        },
        {
          "output_type": "execute_result",
          "data": {
            "text/plain": [
              "<keras.src.callbacks.history.History at 0x78e120b48590>"
            ]
          },
          "metadata": {},
          "execution_count": 77
        }
      ]
    },
    {
      "cell_type": "code",
      "source": [
        "model.evaluate(x=train_data_scaled, y= train_target)"
      ],
      "metadata": {
        "colab": {
          "base_uri": "https://localhost:8080/"
        },
        "id": "tG5XRBrfGC8h",
        "outputId": "ebb5f02e-c5b1-4925-f881-2213dd9e481f"
      },
      "execution_count": 78,
      "outputs": [
        {
          "output_type": "stream",
          "name": "stdout",
          "text": [
            "\u001b[1m1500/1500\u001b[0m \u001b[32m━━━━━━━━━━━━━━━━━━━━\u001b[0m\u001b[37m\u001b[0m \u001b[1m3s\u001b[0m 2ms/step - loss: 0.2957 - sparse_categorical_accuracy: 0.8908\n"
          ]
        },
        {
          "output_type": "execute_result",
          "data": {
            "text/plain": [
              "[0.29755404591560364, 0.8905624747276306]"
            ]
          },
          "metadata": {},
          "execution_count": 78
        }
      ]
    },
    {
      "cell_type": "code",
      "source": [
        "model.evaluate(x=val_data_scaled, y=val_target)"
      ],
      "metadata": {
        "colab": {
          "base_uri": "https://localhost:8080/"
        },
        "id": "X2OPlp-LGWPK",
        "outputId": "57c0b806-af5d-4020-d64f-00bf1a4b8f9b"
      },
      "execution_count": 79,
      "outputs": [
        {
          "output_type": "stream",
          "name": "stdout",
          "text": [
            "\u001b[1m375/375\u001b[0m \u001b[32m━━━━━━━━━━━━━━━━━━━━\u001b[0m\u001b[37m\u001b[0m \u001b[1m1s\u001b[0m 4ms/step - loss: 0.3302 - sparse_categorical_accuracy: 0.8810\n"
          ]
        },
        {
          "output_type": "execute_result",
          "data": {
            "text/plain": [
              "[0.3308306336402893, 0.8825833201408386]"
            ]
          },
          "metadata": {},
          "execution_count": 79
        }
      ]
    },
    {
      "cell_type": "markdown",
      "source": [
        "# Optimizer"
      ],
      "metadata": {
        "id": "6zBMdlCtG8d5"
      }
    },
    {
      "cell_type": "markdown",
      "source": [
        "*   경사 하강법(Gradient Descent)\n",
        "    *   손실 함수를 최소로 만드는 가중치들을 찾는 방법.\n",
        "\n",
        "$\n",
        "w_{next} = w_{init} - 학습률 \\cdot 기울기\n",
        "$\n",
        "\n",
        "*   아주 큰 신경망인 경우는 모델 훈련을 통해서 찾아야 하는 모델 파라미터들의 개수가 매우 많음.\n",
        "*   모델 파라미터들의 개수가 많을 수록 훈련 속도가 심각하게 느려질 수 있음.\n",
        "*   훈련 속도를 높이는 방법:\n",
        "    *   좋은 초기화 전략 사용하기\n",
        "    *   좋은 활성화 함수 사용하기\n",
        "    *   배치 정규화 사용하기\n",
        "    *   사전 훈련된 네트워크(신경망)의 일부를 재사용.\n",
        "    *   일반적인 경사 하강법 대신 더 빠른 옵티마이저를 사용하기.\n",
        "*   확률적 경사 하강법(SGD)의 변종 옵티마이저\n",
        "    *   학습률(learning_rate) 파라미터를 변경.\n",
        "    *   모멘텀 최적화(momentum optimization): 모멘텀(momentum) 파라미터 값을 0보다 큰 값으로 변경.\n",
        "    *   네스테로프 가속 경사(Nesterov Accelerated Gradient, NAG): nesterov 파라미터를 True로 설정.\n",
        "*   적응형 학습률(adaptive learning rate): 학습할 때마다 학습률을 변화시킴.\n",
        "    *   RMSprop(Root Mean Squared Propagation): Sequential 클래스의 compile 메서드의 optimizer 기본값.\n",
        "    *   Adam(Adaptive Momentum Estimation): 모멘텀 최적화 + RMSprop\n",
        "    *   Nadam: Adam + Nesterov\n",
        "    *   AdaGrad"
      ],
      "metadata": {
        "id": "mvF43ubSHCa3"
      }
    },
    {
      "cell_type": "markdown",
      "source": [
        "## SGD optimizer"
      ],
      "metadata": {
        "id": "tsk4rYnUOCHm"
      }
    },
    {
      "cell_type": "code",
      "source": [
        "def create_model(layers=None):\n",
        "    # layers: keras.layers 객체들의 배열/리스트.\n",
        "    model = keras.Sequential()  # Seqential 모델 생성\n",
        "    model.add(keras.Input(shape=(28, 28)))  # 입력층 추가\n",
        "    model.add(keras.layers.Flatten())  # Flatten layer 추가\n",
        "    model.add(keras.layers.Dense(units=100, activation='relu'))  # 첫번째 은닉층을 추가\n",
        "    if layers:  # 아규먼트로 전달된 은닉층들이 있으면\n",
        "        for layer in layers:\n",
        "            model.add(layer)\n",
        "    model.add(keras.layers.Dense(units=10, activation='softmax'))  # 출력층 추가\n",
        "\n",
        "    return model"
      ],
      "metadata": {
        "id": "Wvzo53QvGlCo"
      },
      "execution_count": 80,
      "outputs": []
    },
    {
      "cell_type": "code",
      "source": [
        "model = create_model()"
      ],
      "metadata": {
        "id": "czY5fR45OVRl"
      },
      "execution_count": 81,
      "outputs": []
    },
    {
      "cell_type": "code",
      "source": [
        "model.summary()"
      ],
      "metadata": {
        "colab": {
          "base_uri": "https://localhost:8080/",
          "height": 230
        },
        "id": "dwDTRSemTnDJ",
        "outputId": "f6386612-ea58-41d0-9cc1-8314b7c5483d"
      },
      "execution_count": 82,
      "outputs": [
        {
          "output_type": "display_data",
          "data": {
            "text/plain": [
              "\u001b[1mModel: \"sequential_3\"\u001b[0m\n"
            ],
            "text/html": [
              "<pre style=\"white-space:pre;overflow-x:auto;line-height:normal;font-family:Menlo,'DejaVu Sans Mono',consolas,'Courier New',monospace\"><span style=\"font-weight: bold\">Model: \"sequential_3\"</span>\n",
              "</pre>\n"
            ]
          },
          "metadata": {}
        },
        {
          "output_type": "display_data",
          "data": {
            "text/plain": [
              "┏━━━━━━━━━━━━━━━━━━━━━━━━━━━━━━━━━┳━━━━━━━━━━━━━━━━━━━━━━━━┳━━━━━━━━━━━━━━━┓\n",
              "┃\u001b[1m \u001b[0m\u001b[1mLayer (type)                   \u001b[0m\u001b[1m \u001b[0m┃\u001b[1m \u001b[0m\u001b[1mOutput Shape          \u001b[0m\u001b[1m \u001b[0m┃\u001b[1m \u001b[0m\u001b[1m      Param #\u001b[0m\u001b[1m \u001b[0m┃\n",
              "┡━━━━━━━━━━━━━━━━━━━━━━━━━━━━━━━━━╇━━━━━━━━━━━━━━━━━━━━━━━━╇━━━━━━━━━━━━━━━┩\n",
              "│ flatten_2 (\u001b[38;5;33mFlatten\u001b[0m)             │ (\u001b[38;5;45mNone\u001b[0m, \u001b[38;5;34m784\u001b[0m)            │             \u001b[38;5;34m0\u001b[0m │\n",
              "├─────────────────────────────────┼────────────────────────┼───────────────┤\n",
              "│ dense_5 (\u001b[38;5;33mDense\u001b[0m)                 │ (\u001b[38;5;45mNone\u001b[0m, \u001b[38;5;34m100\u001b[0m)            │        \u001b[38;5;34m78,500\u001b[0m │\n",
              "├─────────────────────────────────┼────────────────────────┼───────────────┤\n",
              "│ dense_6 (\u001b[38;5;33mDense\u001b[0m)                 │ (\u001b[38;5;45mNone\u001b[0m, \u001b[38;5;34m10\u001b[0m)             │         \u001b[38;5;34m1,010\u001b[0m │\n",
              "└─────────────────────────────────┴────────────────────────┴───────────────┘\n"
            ],
            "text/html": [
              "<pre style=\"white-space:pre;overflow-x:auto;line-height:normal;font-family:Menlo,'DejaVu Sans Mono',consolas,'Courier New',monospace\">┏━━━━━━━━━━━━━━━━━━━━━━━━━━━━━━━━━┳━━━━━━━━━━━━━━━━━━━━━━━━┳━━━━━━━━━━━━━━━┓\n",
              "┃<span style=\"font-weight: bold\"> Layer (type)                    </span>┃<span style=\"font-weight: bold\"> Output Shape           </span>┃<span style=\"font-weight: bold\">       Param # </span>┃\n",
              "┡━━━━━━━━━━━━━━━━━━━━━━━━━━━━━━━━━╇━━━━━━━━━━━━━━━━━━━━━━━━╇━━━━━━━━━━━━━━━┩\n",
              "│ flatten_2 (<span style=\"color: #0087ff; text-decoration-color: #0087ff\">Flatten</span>)             │ (<span style=\"color: #00d7ff; text-decoration-color: #00d7ff\">None</span>, <span style=\"color: #00af00; text-decoration-color: #00af00\">784</span>)            │             <span style=\"color: #00af00; text-decoration-color: #00af00\">0</span> │\n",
              "├─────────────────────────────────┼────────────────────────┼───────────────┤\n",
              "│ dense_5 (<span style=\"color: #0087ff; text-decoration-color: #0087ff\">Dense</span>)                 │ (<span style=\"color: #00d7ff; text-decoration-color: #00d7ff\">None</span>, <span style=\"color: #00af00; text-decoration-color: #00af00\">100</span>)            │        <span style=\"color: #00af00; text-decoration-color: #00af00\">78,500</span> │\n",
              "├─────────────────────────────────┼────────────────────────┼───────────────┤\n",
              "│ dense_6 (<span style=\"color: #0087ff; text-decoration-color: #0087ff\">Dense</span>)                 │ (<span style=\"color: #00d7ff; text-decoration-color: #00d7ff\">None</span>, <span style=\"color: #00af00; text-decoration-color: #00af00\">10</span>)             │         <span style=\"color: #00af00; text-decoration-color: #00af00\">1,010</span> │\n",
              "└─────────────────────────────────┴────────────────────────┴───────────────┘\n",
              "</pre>\n"
            ]
          },
          "metadata": {}
        },
        {
          "output_type": "display_data",
          "data": {
            "text/plain": [
              "\u001b[1m Total params: \u001b[0m\u001b[38;5;34m79,510\u001b[0m (310.59 KB)\n"
            ],
            "text/html": [
              "<pre style=\"white-space:pre;overflow-x:auto;line-height:normal;font-family:Menlo,'DejaVu Sans Mono',consolas,'Courier New',monospace\"><span style=\"font-weight: bold\"> Total params: </span><span style=\"color: #00af00; text-decoration-color: #00af00\">79,510</span> (310.59 KB)\n",
              "</pre>\n"
            ]
          },
          "metadata": {}
        },
        {
          "output_type": "display_data",
          "data": {
            "text/plain": [
              "\u001b[1m Trainable params: \u001b[0m\u001b[38;5;34m79,510\u001b[0m (310.59 KB)\n"
            ],
            "text/html": [
              "<pre style=\"white-space:pre;overflow-x:auto;line-height:normal;font-family:Menlo,'DejaVu Sans Mono',consolas,'Courier New',monospace\"><span style=\"font-weight: bold\"> Trainable params: </span><span style=\"color: #00af00; text-decoration-color: #00af00\">79,510</span> (310.59 KB)\n",
              "</pre>\n"
            ]
          },
          "metadata": {}
        },
        {
          "output_type": "display_data",
          "data": {
            "text/plain": [
              "\u001b[1m Non-trainable params: \u001b[0m\u001b[38;5;34m0\u001b[0m (0.00 B)\n"
            ],
            "text/html": [
              "<pre style=\"white-space:pre;overflow-x:auto;line-height:normal;font-family:Menlo,'DejaVu Sans Mono',consolas,'Courier New',monospace\"><span style=\"font-weight: bold\"> Non-trainable params: </span><span style=\"color: #00af00; text-decoration-color: #00af00\">0</span> (0.00 B)\n",
              "</pre>\n"
            ]
          },
          "metadata": {}
        }
      ]
    },
    {
      "cell_type": "code",
      "source": [
        "# 옵티마이저: 학습률 변경, 모멘텀 최적화, 네스테로프 가속 경사\n",
        "op = keras.optimizers.SGD(learning_rate=0.02, momentum=0.1, nesterov=True)\n",
        "model.compile(optimizer=op,\n",
        "              loss=keras.losses.sparse_categorical_crossentropy,\n",
        "              metrics=[keras.metrics.sparse_categorical_accuracy])"
      ],
      "metadata": {
        "id": "UXKNXLfETpkg"
      },
      "execution_count": 83,
      "outputs": []
    },
    {
      "cell_type": "code",
      "source": [
        "model.fit(x=train_data_scaled, y=train_target, epochs=5)"
      ],
      "metadata": {
        "colab": {
          "base_uri": "https://localhost:8080/"
        },
        "id": "hOuSEyWnVR1h",
        "outputId": "4b5cee38-dbd6-4bb0-e6ae-1ea64c2fe970"
      },
      "execution_count": 84,
      "outputs": [
        {
          "output_type": "stream",
          "name": "stdout",
          "text": [
            "Epoch 1/5\n",
            "\u001b[1m1500/1500\u001b[0m \u001b[32m━━━━━━━━━━━━━━━━━━━━\u001b[0m\u001b[37m\u001b[0m \u001b[1m5s\u001b[0m 3ms/step - loss: 0.9007 - sparse_categorical_accuracy: 0.7003\n",
            "Epoch 2/5\n",
            "\u001b[1m1500/1500\u001b[0m \u001b[32m━━━━━━━━━━━━━━━━━━━━\u001b[0m\u001b[37m\u001b[0m \u001b[1m5s\u001b[0m 3ms/step - loss: 0.5018 - sparse_categorical_accuracy: 0.8259\n",
            "Epoch 3/5\n",
            "\u001b[1m1500/1500\u001b[0m \u001b[32m━━━━━━━━━━━━━━━━━━━━\u001b[0m\u001b[37m\u001b[0m \u001b[1m6s\u001b[0m 4ms/step - loss: 0.4479 - sparse_categorical_accuracy: 0.8436\n",
            "Epoch 4/5\n",
            "\u001b[1m1500/1500\u001b[0m \u001b[32m━━━━━━━━━━━━━━━━━━━━\u001b[0m\u001b[37m\u001b[0m \u001b[1m5s\u001b[0m 3ms/step - loss: 0.4203 - sparse_categorical_accuracy: 0.8528\n",
            "Epoch 5/5\n",
            "\u001b[1m1500/1500\u001b[0m \u001b[32m━━━━━━━━━━━━━━━━━━━━\u001b[0m\u001b[37m\u001b[0m \u001b[1m6s\u001b[0m 4ms/step - loss: 0.4065 - sparse_categorical_accuracy: 0.8575\n"
          ]
        },
        {
          "output_type": "execute_result",
          "data": {
            "text/plain": [
              "<keras.src.callbacks.history.History at 0x78e120752150>"
            ]
          },
          "metadata": {},
          "execution_count": 84
        }
      ]
    },
    {
      "cell_type": "code",
      "source": [
        "model.evaluate(x=train_data_scaled, y=train_target)"
      ],
      "metadata": {
        "colab": {
          "base_uri": "https://localhost:8080/"
        },
        "id": "pnU5i1xzVjFI",
        "outputId": "998ceefc-bbea-4db6-e574-c864e2a9b46c"
      },
      "execution_count": 85,
      "outputs": [
        {
          "output_type": "stream",
          "name": "stdout",
          "text": [
            "\u001b[1m1500/1500\u001b[0m \u001b[32m━━━━━━━━━━━━━━━━━━━━\u001b[0m\u001b[37m\u001b[0m \u001b[1m4s\u001b[0m 2ms/step - loss: 0.3955 - sparse_categorical_accuracy: 0.8630\n"
          ]
        },
        {
          "output_type": "execute_result",
          "data": {
            "text/plain": [
              "[0.4039419889450073, 0.8595625162124634]"
            ]
          },
          "metadata": {},
          "execution_count": 85
        }
      ]
    },
    {
      "cell_type": "code",
      "source": [
        "model.evaluate(x=val_data_scaled, y=val_target)"
      ],
      "metadata": {
        "colab": {
          "base_uri": "https://localhost:8080/"
        },
        "id": "N-tynvAQWGW4",
        "outputId": "a26d1949-4b74-4892-9041-f2b74702e9fe"
      },
      "execution_count": 86,
      "outputs": [
        {
          "output_type": "stream",
          "name": "stdout",
          "text": [
            "\u001b[1m375/375\u001b[0m \u001b[32m━━━━━━━━━━━━━━━━━━━━\u001b[0m\u001b[37m\u001b[0m \u001b[1m1s\u001b[0m 2ms/step - loss: 0.4116 - sparse_categorical_accuracy: 0.8535\n"
          ]
        },
        {
          "output_type": "execute_result",
          "data": {
            "text/plain": [
              "[0.4060603976249695, 0.8575833439826965]"
            ]
          },
          "metadata": {},
          "execution_count": 86
        }
      ]
    },
    {
      "cell_type": "markdown",
      "source": [
        "## Adam optimizer\n",
        "\n",
        "*   `learning_rate` 파라미터: 학습률\n",
        "*   `beta_1`, `beta_2` 파라미터: 모멘텀 최적화와 관련된 파라미터.\n",
        "*   `epsilon` 파라미터: 적응형 학습률과 관련된 파라미터."
      ],
      "metadata": {
        "id": "2NK_azzAWlKt"
      }
    },
    {
      "cell_type": "code",
      "source": [
        "model = create_model()"
      ],
      "metadata": {
        "id": "-1PC1ki-Wf4X"
      },
      "execution_count": 87,
      "outputs": []
    },
    {
      "cell_type": "code",
      "source": [
        "model.compile(optimizer=keras.optimizers.Adam(),\n",
        "              loss=keras.losses.sparse_categorical_crossentropy,\n",
        "              metrics=[keras.metrics.sparse_categorical_accuracy])"
      ],
      "metadata": {
        "id": "a4VdSPlJW4qQ"
      },
      "execution_count": 88,
      "outputs": []
    },
    {
      "cell_type": "code",
      "source": [
        "model.fit(x=train_data_scaled, y=train_target, epochs=5)"
      ],
      "metadata": {
        "colab": {
          "base_uri": "https://localhost:8080/"
        },
        "id": "Gx9qeHbfYYh2",
        "outputId": "084e6b31-adf7-4c18-c7a9-8750bd120441"
      },
      "execution_count": 89,
      "outputs": [
        {
          "output_type": "stream",
          "name": "stdout",
          "text": [
            "Epoch 1/5\n",
            "\u001b[1m1500/1500\u001b[0m \u001b[32m━━━━━━━━━━━━━━━━━━━━\u001b[0m\u001b[37m\u001b[0m \u001b[1m6s\u001b[0m 3ms/step - loss: 0.6668 - sparse_categorical_accuracy: 0.7678\n",
            "Epoch 2/5\n",
            "\u001b[1m1500/1500\u001b[0m \u001b[32m━━━━━━━━━━━━━━━━━━━━\u001b[0m\u001b[37m\u001b[0m \u001b[1m6s\u001b[0m 4ms/step - loss: 0.4007 - sparse_categorical_accuracy: 0.8576\n",
            "Epoch 3/5\n",
            "\u001b[1m1500/1500\u001b[0m \u001b[32m━━━━━━━━━━━━━━━━━━━━\u001b[0m\u001b[37m\u001b[0m \u001b[1m5s\u001b[0m 4ms/step - loss: 0.3524 - sparse_categorical_accuracy: 0.8718\n",
            "Epoch 4/5\n",
            "\u001b[1m1500/1500\u001b[0m \u001b[32m━━━━━━━━━━━━━━━━━━━━\u001b[0m\u001b[37m\u001b[0m \u001b[1m6s\u001b[0m 4ms/step - loss: 0.3213 - sparse_categorical_accuracy: 0.8827\n",
            "Epoch 5/5\n",
            "\u001b[1m1500/1500\u001b[0m \u001b[32m━━━━━━━━━━━━━━━━━━━━\u001b[0m\u001b[37m\u001b[0m \u001b[1m6s\u001b[0m 4ms/step - loss: 0.3050 - sparse_categorical_accuracy: 0.8878\n"
          ]
        },
        {
          "output_type": "execute_result",
          "data": {
            "text/plain": [
              "<keras.src.callbacks.history.History at 0x78e120b9d7c0>"
            ]
          },
          "metadata": {},
          "execution_count": 89
        }
      ]
    },
    {
      "cell_type": "code",
      "source": [
        "model.evaluate(x=train_data_scaled, y=train_target)"
      ],
      "metadata": {
        "colab": {
          "base_uri": "https://localhost:8080/"
        },
        "id": "ILxkG65gYclt",
        "outputId": "75d42a2c-14ee-46c2-b363-659b2419cba6"
      },
      "execution_count": 90,
      "outputs": [
        {
          "output_type": "stream",
          "name": "stdout",
          "text": [
            "\u001b[1m1500/1500\u001b[0m \u001b[32m━━━━━━━━━━━━━━━━━━━━\u001b[0m\u001b[37m\u001b[0m \u001b[1m5s\u001b[0m 3ms/step - loss: 0.2849 - sparse_categorical_accuracy: 0.8934\n"
          ]
        },
        {
          "output_type": "execute_result",
          "data": {
            "text/plain": [
              "[0.28662389516830444, 0.893625020980835]"
            ]
          },
          "metadata": {},
          "execution_count": 90
        }
      ]
    },
    {
      "cell_type": "code",
      "source": [
        "model.evaluate(x=val_data_scaled, y=val_target)"
      ],
      "metadata": {
        "colab": {
          "base_uri": "https://localhost:8080/"
        },
        "id": "dNzOdmQBYwwV",
        "outputId": "0c81c504-fdfc-4cc3-8a73-2102701cba4e"
      },
      "execution_count": 91,
      "outputs": [
        {
          "output_type": "stream",
          "name": "stdout",
          "text": [
            "\u001b[1m375/375\u001b[0m \u001b[32m━━━━━━━━━━━━━━━━━━━━\u001b[0m\u001b[37m\u001b[0m \u001b[1m1s\u001b[0m 2ms/step - loss: 0.3350 - sparse_categorical_accuracy: 0.8794\n"
          ]
        },
        {
          "output_type": "execute_result",
          "data": {
            "text/plain": [
              "[0.33526384830474854, 0.8818333148956299]"
            ]
          },
          "metadata": {},
          "execution_count": 91
        }
      ]
    },
    {
      "cell_type": "markdown",
      "source": [
        "# 모델 훈련"
      ],
      "metadata": {
        "id": "0PZZa8udZSV1"
      }
    },
    {
      "cell_type": "code",
      "source": [
        "model = create_model()  # 은닉층 1개를 갖는 모델을 생성\n",
        "model.compile(optimizer=keras.optimizers.RMSprop(),\n",
        "              loss=keras.losses.sparse_categorical_crossentropy,\n",
        "              metrics=[keras.metrics.sparse_categorical_accuracy])  # 모델 컴파일"
      ],
      "metadata": {
        "id": "urAMNXH5ZLBF"
      },
      "execution_count": 92,
      "outputs": []
    },
    {
      "cell_type": "code",
      "source": [
        "result = model.fit(x=train_data_scaled, y=train_target, epochs=5,\n",
        "                   validation_data=[val_data_scaled, val_target])"
      ],
      "metadata": {
        "colab": {
          "base_uri": "https://localhost:8080/"
        },
        "id": "y572nFo_aSpN",
        "outputId": "d8690626-c76b-4ba9-c3d9-d9dfb9f6e408"
      },
      "execution_count": 93,
      "outputs": [
        {
          "output_type": "stream",
          "name": "stdout",
          "text": [
            "Epoch 1/5\n",
            "\u001b[1m1500/1500\u001b[0m \u001b[32m━━━━━━━━━━━━━━━━━━━━\u001b[0m\u001b[37m\u001b[0m \u001b[1m7s\u001b[0m 4ms/step - loss: 0.6843 - sparse_categorical_accuracy: 0.7596 - val_loss: 0.3977 - val_sparse_categorical_accuracy: 0.8597\n",
            "Epoch 2/5\n",
            "\u001b[1m1500/1500\u001b[0m \u001b[32m━━━━━━━━━━━━━━━━━━━━\u001b[0m\u001b[37m\u001b[0m \u001b[1m7s\u001b[0m 5ms/step - loss: 0.4009 - sparse_categorical_accuracy: 0.8555 - val_loss: 0.3988 - val_sparse_categorical_accuracy: 0.8593\n",
            "Epoch 3/5\n",
            "\u001b[1m1500/1500\u001b[0m \u001b[32m━━━━━━━━━━━━━━━━━━━━\u001b[0m\u001b[37m\u001b[0m \u001b[1m7s\u001b[0m 4ms/step - loss: 0.3590 - sparse_categorical_accuracy: 0.8699 - val_loss: 0.3538 - val_sparse_categorical_accuracy: 0.8776\n",
            "Epoch 4/5\n",
            "\u001b[1m1500/1500\u001b[0m \u001b[32m━━━━━━━━━━━━━━━━━━━━\u001b[0m\u001b[37m\u001b[0m \u001b[1m6s\u001b[0m 4ms/step - loss: 0.3411 - sparse_categorical_accuracy: 0.8793 - val_loss: 0.3474 - val_sparse_categorical_accuracy: 0.8831\n",
            "Epoch 5/5\n",
            "\u001b[1m1500/1500\u001b[0m \u001b[32m━━━━━━━━━━━━━━━━━━━━\u001b[0m\u001b[37m\u001b[0m \u001b[1m12s\u001b[0m 5ms/step - loss: 0.3196 - sparse_categorical_accuracy: 0.8870 - val_loss: 0.3445 - val_sparse_categorical_accuracy: 0.8821\n"
          ]
        }
      ]
    },
    {
      "cell_type": "markdown",
      "source": [
        "## History 객체\n",
        "\n",
        "신경망 모델을 훈련(fit)시키는 과정(각각의 epoch)의 기록을 담고 있는 객체. fit 메서드의 리턴 값."
      ],
      "metadata": {
        "id": "cC-E1NbPbsVD"
      }
    },
    {
      "cell_type": "code",
      "source": [
        "type(result)"
      ],
      "metadata": {
        "colab": {
          "base_uri": "https://localhost:8080/",
          "height": 186
        },
        "id": "S6km6pc0a_F0",
        "outputId": "7b9d5e2e-80b0-4354-9da6-bd6f12db9e3b"
      },
      "execution_count": 94,
      "outputs": [
        {
          "output_type": "execute_result",
          "data": {
            "text/plain": [
              "keras.src.callbacks.history.History"
            ],
            "text/html": [
              "<div style=\"max-width:800px; border: 1px solid var(--colab-border-color);\"><style>\n",
              "      pre.function-repr-contents {\n",
              "        overflow-x: auto;\n",
              "        padding: 8px 12px;\n",
              "        max-height: 500px;\n",
              "      }\n",
              "\n",
              "      pre.function-repr-contents.function-repr-contents-collapsed {\n",
              "        cursor: pointer;\n",
              "        max-height: 100px;\n",
              "      }\n",
              "    </style>\n",
              "    <pre style=\"white-space: initial; background:\n",
              "         var(--colab-secondary-surface-color); padding: 8px 12px;\n",
              "         border-bottom: 1px solid var(--colab-border-color);\"><b>keras.src.callbacks.history.History</b><br/>def __init__()</pre><pre class=\"function-repr-contents function-repr-contents-collapsed\" style=\"\"><a class=\"filepath\" style=\"display:none\" href=\"#\">/usr/local/lib/python3.12/dist-packages/keras/src/callbacks/history.py</a>Callback that records events into a `History` object.\n",
              "\n",
              "This callback is automatically applied to\n",
              "every Keras model. The `History` object\n",
              "gets returned by the `fit()` method of models.\n",
              "\n",
              "Example:\n",
              "\n",
              "&gt;&gt;&gt; model = Sequential([layers.Dense(10)])\n",
              "&gt;&gt;&gt; model.compile(SGD(), loss=&#x27;mse&#x27;)\n",
              "&gt;&gt;&gt; history = model.fit(np.arange(100).reshape(5, 20), np.zeros(5),\n",
              "...                     epochs=10, verbose=1)\n",
              "&gt;&gt;&gt; print(history.params)\n",
              "{&#x27;verbose&#x27;: 1, &#x27;epochs&#x27;: 10, &#x27;steps&#x27;: 1}\n",
              "&gt;&gt;&gt; # check the keys of history object\n",
              "&gt;&gt;&gt; print(history.history.keys())\n",
              "dict_keys([&#x27;loss&#x27;])</pre>\n",
              "      <script>\n",
              "      if (google.colab.kernel.accessAllowed && google.colab.files && google.colab.files.view) {\n",
              "        for (const element of document.querySelectorAll('.filepath')) {\n",
              "          element.style.display = 'block'\n",
              "          element.onclick = (event) => {\n",
              "            event.preventDefault();\n",
              "            event.stopPropagation();\n",
              "            google.colab.files.view(element.textContent, 5);\n",
              "          };\n",
              "        }\n",
              "      }\n",
              "      for (const element of document.querySelectorAll('.function-repr-contents')) {\n",
              "        element.onclick = (event) => {\n",
              "          event.preventDefault();\n",
              "          event.stopPropagation();\n",
              "          element.classList.toggle('function-repr-contents-collapsed');\n",
              "        };\n",
              "      }\n",
              "      </script>\n",
              "      </div>"
            ]
          },
          "metadata": {},
          "execution_count": 94
        }
      ]
    },
    {
      "cell_type": "code",
      "source": [
        "type(result.history)"
      ],
      "metadata": {
        "colab": {
          "base_uri": "https://localhost:8080/"
        },
        "id": "kF7c3DPJbjOj",
        "outputId": "b6783843-cc3f-438b-8c31-7b9ab11c8876"
      },
      "execution_count": 95,
      "outputs": [
        {
          "output_type": "execute_result",
          "data": {
            "text/plain": [
              "dict"
            ]
          },
          "metadata": {},
          "execution_count": 95
        }
      ]
    },
    {
      "cell_type": "code",
      "source": [
        "hist = result.history\n",
        "# 각 epoch마다 훈련 셋 손실/정확도, 검증 셋 손실/정확도를 dict로 저장."
      ],
      "metadata": {
        "id": "lGVCPB4dgaz4"
      },
      "execution_count": 96,
      "outputs": []
    },
    {
      "cell_type": "code",
      "source": [
        "hist.keys()"
      ],
      "metadata": {
        "colab": {
          "base_uri": "https://localhost:8080/"
        },
        "id": "5ngAibmsgiDw",
        "outputId": "d26583eb-f952-4b5f-8941-7d73bafb110d"
      },
      "execution_count": 97,
      "outputs": [
        {
          "output_type": "execute_result",
          "data": {
            "text/plain": [
              "dict_keys(['loss', 'sparse_categorical_accuracy', 'val_loss', 'val_sparse_categorical_accuracy'])"
            ]
          },
          "metadata": {},
          "execution_count": 97
        }
      ]
    },
    {
      "cell_type": "code",
      "source": [
        "hist.items()"
      ],
      "metadata": {
        "colab": {
          "base_uri": "https://localhost:8080/"
        },
        "id": "4zdYbYIagjNf",
        "outputId": "e1170add-096e-4bad-9cf1-5f1ad6dc1744"
      },
      "execution_count": 98,
      "outputs": [
        {
          "output_type": "execute_result",
          "data": {
            "text/plain": [
              "dict_items([('loss', [0.5381511449813843, 0.39529287815093994, 0.35894128680229187, 0.333735853433609, 0.3182368576526642]), ('sparse_categorical_accuracy', [0.8097291588783264, 0.8591041564941406, 0.8696249723434448, 0.8805624842643738, 0.8865000009536743]), ('val_loss', [0.3976748585700989, 0.3987599015235901, 0.35380396246910095, 0.34739384055137634, 0.34445610642433167]), ('val_sparse_categorical_accuracy', [0.859666645526886, 0.859250009059906, 0.8775833249092102, 0.8830833435058594, 0.8820833563804626])])"
            ]
          },
          "metadata": {},
          "execution_count": 98
        }
      ]
    },
    {
      "cell_type": "code",
      "source": [
        "epochs = np.arange(1, 6)\n",
        "for k, v in hist.items():\n",
        "    plt.plot(epochs, v, 'o-', label=k)\n",
        "plt.legend()\n",
        "plt.xlabel('epoch')\n",
        "plt.show()"
      ],
      "metadata": {
        "colab": {
          "base_uri": "https://localhost:8080/",
          "height": 449
        },
        "id": "tEPOOw2agyOv",
        "outputId": "dfec77d2-c458-40e9-b004-17774541cfe0"
      },
      "execution_count": 99,
      "outputs": [
        {
          "output_type": "display_data",
          "data": {
            "text/plain": [
              "<Figure size 640x480 with 1 Axes>"
            ],
            "image/png": "[encoded data removed]"
          },
          "metadata": {}
        }
      ]
    },
    {
      "cell_type": "code",
      "source": [
        "# 정확도 그래프\n",
        "plt.plot(epochs, hist['sparse_categorical_accuracy'], 'bo-', label='train')\n",
        "plt.plot(epochs, hist['val_sparse_categorical_accuracy'], 'ro-', label='validation')\n",
        "plt.xlabel('epoch')\n",
        "plt.ylabel('accuracy')\n",
        "plt.legend()\n",
        "plt.show()"
      ],
      "metadata": {
        "colab": {
          "base_uri": "https://localhost:8080/",
          "height": 453
        },
        "id": "jR4ASF5niE7P",
        "outputId": "8bc9f7ca-b1d6-43fb-f318-71926b60ca7d"
      },
      "execution_count": 102,
      "outputs": [
        {
          "output_type": "display_data",
          "data": {
            "text/plain": [
              "<Figure size 640x480 with 1 Axes>"
            ],
            "image/png": "[encoded data removed]"
          },
          "metadata": {}
        }
      ]
    },
    {
      "cell_type": "code",
      "source": [
        "# 손실 그래프\n",
        "plt.plot(epochs, hist['loss'], 'bo-', label='train')\n",
        "plt.plot(epochs, hist['val_loss'], 'ro-', label='validation')\n",
        "plt.xlabel('epochs')\n",
        "plt.ylabel('loss')\n",
        "plt.legend()\n",
        "plt.show()"
      ],
      "metadata": {
        "colab": {
          "base_uri": "https://localhost:8080/",
          "height": 449
        },
        "id": "UTiwRscrk8jW",
        "outputId": "8c9bda3f-b104-4b1a-bc64-0d24b3701c2c"
      },
      "execution_count": 103,
      "outputs": [
        {
          "output_type": "display_data",
          "data": {
            "text/plain": [
              "<Figure size 640x480 with 1 Axes>"
            ],
            "image/png": "[encoded data removed]"
          },
          "metadata": {}
        }
      ]
    },
    {
      "cell_type": "markdown",
      "source": [
        "## RMSprop 옵티마이저 사용\n",
        "\n",
        "*   100개의 unit으로 이루어진 은닉층 1개를 갖는 신경망 모델 생성\n",
        "*   RMSprop 옵티마이저를 사용하도록 모델을 컴파일\n",
        "*   epoch 횟수를 20회로 모델을 훈련시키고 그 결과를 저장.\n",
        "*   History 객체의 history 속성을 사용해서 훈련 셋과 검증 셋의 손실 그래프를 그려 보세요."
      ],
      "metadata": {
        "id": "hMU0ry-Vm7gM"
      }
    },
    {
      "cell_type": "code",
      "source": [
        "model = create_model()\n",
        "model.compile(optimizer=keras.optimizers.RMSprop(),\n",
        "              loss=keras.losses.sparse_categorical_crossentropy,\n",
        "              metrics=[keras.metrics.sparse_categorical_accuracy])\n",
        "result = model.fit(x=train_data_scaled, y=train_target, epochs=20,\n",
        "                   validation_data=[val_data_scaled, val_target])"
      ],
      "metadata": {
        "colab": {
          "base_uri": "https://localhost:8080/"
        },
        "id": "8mh22HIDoQwr",
        "outputId": "1c823d7a-203e-45d9-d134-f4c7004e88b6"
      },
      "execution_count": 104,
      "outputs": [
        {
          "output_type": "stream",
          "name": "stdout",
          "text": [
            "Epoch 1/20\n",
            "\u001b[1m1500/1500\u001b[0m \u001b[32m━━━━━━━━━━━━━━━━━━━━\u001b[0m\u001b[37m\u001b[0m \u001b[1m7s\u001b[0m 4ms/step - loss: 0.6709 - sparse_categorical_accuracy: 0.7655 - val_loss: 0.5427 - val_sparse_categorical_accuracy: 0.7973\n",
            "Epoch 2/20\n",
            "\u001b[1m1500/1500\u001b[0m \u001b[32m━━━━━━━━━━━━━━━━━━━━\u001b[0m\u001b[37m\u001b[0m \u001b[1m10s\u001b[0m 4ms/step - loss: 0.4124 - sparse_categorical_accuracy: 0.8534 - val_loss: 0.3679 - val_sparse_categorical_accuracy: 0.8673\n",
            "Epoch 3/20\n",
            "\u001b[1m1500/1500\u001b[0m \u001b[32m━━━━━━━━━━━━━━━━━━━━\u001b[0m\u001b[37m\u001b[0m \u001b[1m7s\u001b[0m 5ms/step - loss: 0.3581 - sparse_categorical_accuracy: 0.8689 - val_loss: 0.3641 - val_sparse_categorical_accuracy: 0.8730\n",
            "Epoch 4/20\n",
            "\u001b[1m1500/1500\u001b[0m \u001b[32m━━━━━━━━━━━━━━━━━━━━\u001b[0m\u001b[37m\u001b[0m \u001b[1m10s\u001b[0m 5ms/step - loss: 0.3401 - sparse_categorical_accuracy: 0.8783 - val_loss: 0.3661 - val_sparse_categorical_accuracy: 0.8784\n",
            "Epoch 5/20\n",
            "\u001b[1m1500/1500\u001b[0m \u001b[32m━━━━━━━━━━━━━━━━━━━━\u001b[0m\u001b[37m\u001b[0m \u001b[1m9s\u001b[0m 4ms/step - loss: 0.3180 - sparse_categorical_accuracy: 0.8883 - val_loss: 0.3348 - val_sparse_categorical_accuracy: 0.8829\n",
            "Epoch 6/20\n",
            "\u001b[1m1500/1500\u001b[0m \u001b[32m━━━━━━━━━━━━━━━━━━━━\u001b[0m\u001b[37m\u001b[0m \u001b[1m11s\u001b[0m 4ms/step - loss: 0.3033 - sparse_categorical_accuracy: 0.8892 - val_loss: 0.3550 - val_sparse_categorical_accuracy: 0.8799\n",
            "Epoch 7/20\n",
            "\u001b[1m1500/1500\u001b[0m \u001b[32m━━━━━━━━━━━━━━━━━━━━\u001b[0m\u001b[37m\u001b[0m \u001b[1m11s\u001b[0m 5ms/step - loss: 0.2992 - sparse_categorical_accuracy: 0.8936 - val_loss: 0.3530 - val_sparse_categorical_accuracy: 0.8844\n",
            "Epoch 8/20\n",
            "\u001b[1m1500/1500\u001b[0m \u001b[32m━━━━━━━━━━━━━━━━━━━━\u001b[0m\u001b[37m\u001b[0m \u001b[1m7s\u001b[0m 5ms/step - loss: 0.2897 - sparse_categorical_accuracy: 0.8962 - val_loss: 0.3590 - val_sparse_categorical_accuracy: 0.8813\n",
            "Epoch 9/20\n",
            "\u001b[1m1500/1500\u001b[0m \u001b[32m━━━━━━━━━━━━━━━━━━━━\u001b[0m\u001b[37m\u001b[0m \u001b[1m10s\u001b[0m 5ms/step - loss: 0.2833 - sparse_categorical_accuracy: 0.9003 - val_loss: 0.3758 - val_sparse_categorical_accuracy: 0.8755\n",
            "Epoch 10/20\n",
            "\u001b[1m1500/1500\u001b[0m \u001b[32m━━━━━━━━━━━━━━━━━━━━\u001b[0m\u001b[37m\u001b[0m \u001b[1m6s\u001b[0m 4ms/step - loss: 0.2720 - sparse_categorical_accuracy: 0.9047 - val_loss: 0.3422 - val_sparse_categorical_accuracy: 0.8901\n",
            "Epoch 11/20\n",
            "\u001b[1m1500/1500\u001b[0m \u001b[32m━━━━━━━━━━━━━━━━━━━━\u001b[0m\u001b[37m\u001b[0m \u001b[1m11s\u001b[0m 5ms/step - loss: 0.2728 - sparse_categorical_accuracy: 0.9043 - val_loss: 0.3654 - val_sparse_categorical_accuracy: 0.8851\n",
            "Epoch 12/20\n",
            "\u001b[1m1500/1500\u001b[0m \u001b[32m━━━━━━━━━━━━━━━━━━━━\u001b[0m\u001b[37m\u001b[0m \u001b[1m6s\u001b[0m 4ms/step - loss: 0.2542 - sparse_categorical_accuracy: 0.9083 - val_loss: 0.3710 - val_sparse_categorical_accuracy: 0.8914\n",
            "Epoch 13/20\n",
            "\u001b[1m1500/1500\u001b[0m \u001b[32m━━━━━━━━━━━━━━━━━━━━\u001b[0m\u001b[37m\u001b[0m \u001b[1m6s\u001b[0m 4ms/step - loss: 0.2542 - sparse_categorical_accuracy: 0.9113 - val_loss: 0.3674 - val_sparse_categorical_accuracy: 0.8896\n",
            "Epoch 14/20\n",
            "\u001b[1m1500/1500\u001b[0m \u001b[32m━━━━━━━━━━━━━━━━━━━━\u001b[0m\u001b[37m\u001b[0m \u001b[1m12s\u001b[0m 5ms/step - loss: 0.2531 - sparse_categorical_accuracy: 0.9108 - val_loss: 0.4057 - val_sparse_categorical_accuracy: 0.8802\n",
            "Epoch 15/20\n",
            "\u001b[1m1500/1500\u001b[0m \u001b[32m━━━━━━━━━━━━━━━━━━━━\u001b[0m\u001b[37m\u001b[0m \u001b[1m10s\u001b[0m 5ms/step - loss: 0.2376 - sparse_categorical_accuracy: 0.9159 - val_loss: 0.3979 - val_sparse_categorical_accuracy: 0.8817\n",
            "Epoch 16/20\n",
            "\u001b[1m1500/1500\u001b[0m \u001b[32m━━━━━━━━━━━━━━━━━━━━\u001b[0m\u001b[37m\u001b[0m \u001b[1m10s\u001b[0m 5ms/step - loss: 0.2407 - sparse_categorical_accuracy: 0.9162 - val_loss: 0.4104 - val_sparse_categorical_accuracy: 0.8779\n",
            "Epoch 17/20\n",
            "\u001b[1m1500/1500\u001b[0m \u001b[32m━━━━━━━━━━━━━━━━━━━━\u001b[0m\u001b[37m\u001b[0m \u001b[1m10s\u001b[0m 4ms/step - loss: 0.2252 - sparse_categorical_accuracy: 0.9205 - val_loss: 0.3910 - val_sparse_categorical_accuracy: 0.8882\n",
            "Epoch 18/20\n",
            "\u001b[1m1500/1500\u001b[0m \u001b[32m━━━━━━━━━━━━━━━━━━━━\u001b[0m\u001b[37m\u001b[0m \u001b[1m10s\u001b[0m 4ms/step - loss: 0.2360 - sparse_categorical_accuracy: 0.9175 - val_loss: 0.4025 - val_sparse_categorical_accuracy: 0.8903\n",
            "Epoch 19/20\n",
            "\u001b[1m1500/1500\u001b[0m \u001b[32m━━━━━━━━━━━━━━━━━━━━\u001b[0m\u001b[37m\u001b[0m \u001b[1m7s\u001b[0m 5ms/step - loss: 0.2224 - sparse_categorical_accuracy: 0.9226 - val_loss: 0.4117 - val_sparse_categorical_accuracy: 0.8850\n",
            "Epoch 20/20\n",
            "\u001b[1m1500/1500\u001b[0m \u001b[32m━━━━━━━━━━━━━━━━━━━━\u001b[0m\u001b[37m\u001b[0m \u001b[1m11s\u001b[0m 5ms/step - loss: 0.2155 - sparse_categorical_accuracy: 0.9249 - val_loss: 0.4028 - val_sparse_categorical_accuracy: 0.8905\n"
          ]
        }
      ]
    },
    {
      "cell_type": "code",
      "source": [
        "epochs = np.arange(1, 21)"
      ],
      "metadata": {
        "id": "Ya25wgCtouOr"
      },
      "execution_count": 105,
      "outputs": []
    },
    {
      "cell_type": "code",
      "source": [
        "history = result.history\n",
        "plt.plot(epochs, history['loss'], 'bo-', label='train')\n",
        "plt.plot(epochs, history['val_loss'], 'ro:', label='validation')\n",
        "plt.grid()\n",
        "plt.legend()\n",
        "plt.xlabel('epoch')\n",
        "plt.ylabel('loss')\n",
        "plt.show()"
      ],
      "metadata": {
        "colab": {
          "base_uri": "https://localhost:8080/",
          "height": 449
        },
        "id": "dqi2AaZaoq7i",
        "outputId": "b2bdfc8c-2e9c-4117-a804-15de033c0bb4"
      },
      "execution_count": 107,
      "outputs": [
        {
          "output_type": "display_data",
          "data": {
            "text/plain": [
              "<Figure size 640x480 with 1 Axes>"
            ],
            "image/png": "[encoded data removed]"
          },
          "metadata": {}
        }
      ]
    },
    {
      "cell_type": "markdown",
      "source": [
        "epoch를 5번 이상 실행하면 과대적합의 크기만 더 커짐."
      ],
      "metadata": {
        "id": "YJoqGAD7syLJ"
      }
    },
    {
      "cell_type": "markdown",
      "source": [
        "## Adam 옵티마이저 사용\n",
        "\n",
        "*   위의 과정을 반복"
      ],
      "metadata": {
        "id": "rpuqrHItnoNW"
      }
    },
    {
      "cell_type": "code",
      "source": [
        "model = create_model()\n",
        "model.compile(optimizer=keras.optimizers.Adam(),\n",
        "              loss=keras.losses.sparse_categorical_crossentropy,\n",
        "              metrics=[keras.metrics.sparse_categorical_accuracy])\n",
        "result = model.fit(x=train_data_scaled, y=train_target, epochs=20,\n",
        "                   validation_data=[val_data_scaled, val_target])"
      ],
      "metadata": {
        "colab": {
          "base_uri": "https://localhost:8080/"
        },
        "id": "D3s6Q-HumCbd",
        "outputId": "b8e8be08-580e-403b-8f52-0e31e044eea2"
      },
      "execution_count": 108,
      "outputs": [
        {
          "output_type": "stream",
          "name": "stdout",
          "text": [
            "Epoch 1/20\n",
            "\u001b[1m1500/1500\u001b[0m \u001b[32m━━━━━━━━━━━━━━━━━━━━\u001b[0m\u001b[37m\u001b[0m \u001b[1m10s\u001b[0m 6ms/step - loss: 0.6705 - sparse_categorical_accuracy: 0.7659 - val_loss: 0.3939 - val_sparse_categorical_accuracy: 0.8620\n",
            "Epoch 2/20\n",
            "\u001b[1m1500/1500\u001b[0m \u001b[32m━━━━━━━━━━━━━━━━━━━━\u001b[0m\u001b[37m\u001b[0m \u001b[1m8s\u001b[0m 6ms/step - loss: 0.3995 - sparse_categorical_accuracy: 0.8570 - val_loss: 0.3653 - val_sparse_categorical_accuracy: 0.8717\n",
            "Epoch 3/20\n",
            "\u001b[1m1500/1500\u001b[0m \u001b[32m━━━━━━━━━━━━━━━━━━━━\u001b[0m\u001b[37m\u001b[0m \u001b[1m11s\u001b[0m 6ms/step - loss: 0.3590 - sparse_categorical_accuracy: 0.8694 - val_loss: 0.3632 - val_sparse_categorical_accuracy: 0.8717\n",
            "Epoch 4/20\n",
            "\u001b[1m1500/1500\u001b[0m \u001b[32m━━━━━━━━━━━━━━━━━━━━\u001b[0m\u001b[37m\u001b[0m \u001b[1m9s\u001b[0m 5ms/step - loss: 0.3307 - sparse_categorical_accuracy: 0.8812 - val_loss: 0.3433 - val_sparse_categorical_accuracy: 0.8792\n",
            "Epoch 5/20\n",
            "\u001b[1m1500/1500\u001b[0m \u001b[32m━━━━━━━━━━━━━━━━━━━━\u001b[0m\u001b[37m\u001b[0m \u001b[1m10s\u001b[0m 5ms/step - loss: 0.3099 - sparse_categorical_accuracy: 0.8841 - val_loss: 0.3352 - val_sparse_categorical_accuracy: 0.8803\n",
            "Epoch 6/20\n",
            "\u001b[1m1500/1500\u001b[0m \u001b[32m━━━━━━━━━━━━━━━━━━━━\u001b[0m\u001b[37m\u001b[0m \u001b[1m9s\u001b[0m 6ms/step - loss: 0.2889 - sparse_categorical_accuracy: 0.8964 - val_loss: 0.3195 - val_sparse_categorical_accuracy: 0.8865\n",
            "Epoch 7/20\n",
            "\u001b[1m1500/1500\u001b[0m \u001b[32m━━━━━━━━━━━━━━━━━━━━\u001b[0m\u001b[37m\u001b[0m \u001b[1m7s\u001b[0m 5ms/step - loss: 0.2802 - sparse_categorical_accuracy: 0.8961 - val_loss: 0.3675 - val_sparse_categorical_accuracy: 0.8679\n",
            "Epoch 8/20\n",
            "\u001b[1m1500/1500\u001b[0m \u001b[32m━━━━━━━━━━━━━━━━━━━━\u001b[0m\u001b[37m\u001b[0m \u001b[1m8s\u001b[0m 5ms/step - loss: 0.2703 - sparse_categorical_accuracy: 0.8980 - val_loss: 0.3154 - val_sparse_categorical_accuracy: 0.8863\n",
            "Epoch 9/20\n",
            "\u001b[1m1500/1500\u001b[0m \u001b[32m━━━━━━━━━━━━━━━━━━━━\u001b[0m\u001b[37m\u001b[0m \u001b[1m11s\u001b[0m 6ms/step - loss: 0.2622 - sparse_categorical_accuracy: 0.9021 - val_loss: 0.3280 - val_sparse_categorical_accuracy: 0.8832\n",
            "Epoch 10/20\n",
            "\u001b[1m1500/1500\u001b[0m \u001b[32m━━━━━━━━━━━━━━━━━━━━\u001b[0m\u001b[37m\u001b[0m \u001b[1m10s\u001b[0m 6ms/step - loss: 0.2481 - sparse_categorical_accuracy: 0.9073 - val_loss: 0.3278 - val_sparse_categorical_accuracy: 0.8857\n",
            "Epoch 11/20\n",
            "\u001b[1m1500/1500\u001b[0m \u001b[32m━━━━━━━━━━━━━━━━━━━━\u001b[0m\u001b[37m\u001b[0m \u001b[1m7s\u001b[0m 5ms/step - loss: 0.2431 - sparse_categorical_accuracy: 0.9079 - val_loss: 0.3103 - val_sparse_categorical_accuracy: 0.8905\n",
            "Epoch 12/20\n",
            "\u001b[1m1500/1500\u001b[0m \u001b[32m━━━━━━━━━━━━━━━━━━━━\u001b[0m\u001b[37m\u001b[0m \u001b[1m10s\u001b[0m 5ms/step - loss: 0.2275 - sparse_categorical_accuracy: 0.9145 - val_loss: 0.3159 - val_sparse_categorical_accuracy: 0.8891\n",
            "Epoch 13/20\n",
            "\u001b[1m1500/1500\u001b[0m \u001b[32m━━━━━━━━━━━━━━━━━━━━\u001b[0m\u001b[37m\u001b[0m \u001b[1m8s\u001b[0m 5ms/step - loss: 0.2263 - sparse_categorical_accuracy: 0.9153 - val_loss: 0.3139 - val_sparse_categorical_accuracy: 0.8898\n",
            "Epoch 14/20\n",
            "\u001b[1m1500/1500\u001b[0m \u001b[32m━━━━━━━━━━━━━━━━━━━━\u001b[0m\u001b[37m\u001b[0m \u001b[1m7s\u001b[0m 5ms/step - loss: 0.2180 - sparse_categorical_accuracy: 0.9176 - val_loss: 0.3092 - val_sparse_categorical_accuracy: 0.8905\n",
            "Epoch 15/20\n",
            "\u001b[1m1500/1500\u001b[0m \u001b[32m━━━━━━━━━━━━━━━━━━━━\u001b[0m\u001b[37m\u001b[0m \u001b[1m7s\u001b[0m 5ms/step - loss: 0.2127 - sparse_categorical_accuracy: 0.9209 - val_loss: 0.3210 - val_sparse_categorical_accuracy: 0.8920\n",
            "Epoch 16/20\n",
            "\u001b[1m1500/1500\u001b[0m \u001b[32m━━━━━━━━━━━━━━━━━━━━\u001b[0m\u001b[37m\u001b[0m \u001b[1m11s\u001b[0m 5ms/step - loss: 0.2054 - sparse_categorical_accuracy: 0.9230 - val_loss: 0.3215 - val_sparse_categorical_accuracy: 0.8909\n",
            "Epoch 17/20\n",
            "\u001b[1m1500/1500\u001b[0m \u001b[32m━━━━━━━━━━━━━━━━━━━━\u001b[0m\u001b[37m\u001b[0m \u001b[1m6s\u001b[0m 4ms/step - loss: 0.2018 - sparse_categorical_accuracy: 0.9234 - val_loss: 0.3193 - val_sparse_categorical_accuracy: 0.8928\n",
            "Epoch 18/20\n",
            "\u001b[1m1500/1500\u001b[0m \u001b[32m━━━━━━━━━━━━━━━━━━━━\u001b[0m\u001b[37m\u001b[0m \u001b[1m8s\u001b[0m 6ms/step - loss: 0.1916 - sparse_categorical_accuracy: 0.9273 - val_loss: 0.3202 - val_sparse_categorical_accuracy: 0.8950\n",
            "Epoch 19/20\n",
            "\u001b[1m1500/1500\u001b[0m \u001b[32m━━━━━━━━━━━━━━━━━━━━\u001b[0m\u001b[37m\u001b[0m \u001b[1m10s\u001b[0m 5ms/step - loss: 0.1896 - sparse_categorical_accuracy: 0.9289 - val_loss: 0.3371 - val_sparse_categorical_accuracy: 0.8928\n",
            "Epoch 20/20\n",
            "\u001b[1m1500/1500\u001b[0m \u001b[32m━━━━━━━━━━━━━━━━━━━━\u001b[0m\u001b[37m\u001b[0m \u001b[1m9s\u001b[0m 5ms/step - loss: 0.1823 - sparse_categorical_accuracy: 0.9327 - val_loss: 0.3193 - val_sparse_categorical_accuracy: 0.8942\n"
          ]
        }
      ]
    },
    {
      "cell_type": "code",
      "source": [
        "def plot_train_val_losses(history):\n",
        "    plt.plot(history.epoch, history.history['loss'], 'bo-', label='train')\n",
        "    plt.plot(history.epoch, history.history['val_loss'], 'ro:', label='validation')\n",
        "    plt.grid()\n",
        "    plt.legend()\n",
        "    plt.xlabel('epoch')\n",
        "    plt.ylabel('loss')\n",
        "    plt.show()"
      ],
      "metadata": {
        "id": "q1IXUzSousdu"
      },
      "execution_count": 114,
      "outputs": []
    },
    {
      "cell_type": "code",
      "source": [
        "plot_train_val_losses(result)"
      ],
      "metadata": {
        "colab": {
          "base_uri": "https://localhost:8080/",
          "height": 449
        },
        "id": "PP1U0qzjvQBu",
        "outputId": "7f23df16-f050-4f4d-9f66-c41d217377bc"
      },
      "execution_count": 115,
      "outputs": [
        {
          "output_type": "display_data",
          "data": {
            "text/plain": [
              "<Figure size 640x480 with 1 Axes>"
            ],
            "image/png": "[encoded data removed]"
          },
          "metadata": {}
        }
      ]
    },
    {
      "cell_type": "markdown",
      "source": [
        "epoch를 6번 이상 수행하더라도 검증 셋의 손실이 더 이상 작아지지 않음."
      ],
      "metadata": {
        "id": "Z5905z2us9sI"
      }
    },
    {
      "cell_type": "markdown",
      "source": [
        "# Dropout\n",
        "\n",
        "*   훈련 과정(epoch)에서 일부 unit의 출력을 0으로 만드는 것(그 다음 layer로 출력값을 전달하지 않음).\n",
        "*   각 epoch마다 출력을 0으로 만드는 unit은 무작위로 선택.\n",
        "*   모델의 과대적합을 줄일 수 있음."
      ],
      "metadata": {
        "id": "_LPm_yrrwxCo"
      }
    },
    {
      "cell_type": "code",
      "source": [
        "model = create_model(layers=[keras.layers.Dropout(rate=0.3)])\n",
        "# 은닉층 뒤에 30% 비율로 출력을 0으로 만드는 Dropout 계층을 추가"
      ],
      "metadata": {
        "id": "5CBYFGkpvR1l"
      },
      "execution_count": 132,
      "outputs": []
    },
    {
      "cell_type": "code",
      "source": [
        "model.summary()"
      ],
      "metadata": {
        "colab": {
          "base_uri": "https://localhost:8080/",
          "height": 262
        },
        "id": "cNRMnhluy6xN",
        "outputId": "388bf795-1918-43ce-b343-a099ee44398c"
      },
      "execution_count": 133,
      "outputs": [
        {
          "output_type": "display_data",
          "data": {
            "text/plain": [
              "\u001b[1mModel: \"sequential_12\"\u001b[0m\n"
            ],
            "text/html": [
              "<pre style=\"white-space:pre;overflow-x:auto;line-height:normal;font-family:Menlo,'DejaVu Sans Mono',consolas,'Courier New',monospace\"><span style=\"font-weight: bold\">Model: \"sequential_12\"</span>\n",
              "</pre>\n"
            ]
          },
          "metadata": {}
        },
        {
          "output_type": "display_data",
          "data": {
            "text/plain": [
              "┏━━━━━━━━━━━━━━━━━━━━━━━━━━━━━━━━━┳━━━━━━━━━━━━━━━━━━━━━━━━┳━━━━━━━━━━━━━━━┓\n",
              "┃\u001b[1m \u001b[0m\u001b[1mLayer (type)                   \u001b[0m\u001b[1m \u001b[0m┃\u001b[1m \u001b[0m\u001b[1mOutput Shape          \u001b[0m\u001b[1m \u001b[0m┃\u001b[1m \u001b[0m\u001b[1m      Param #\u001b[0m\u001b[1m \u001b[0m┃\n",
              "┡━━━━━━━━━━━━━━━━━━━━━━━━━━━━━━━━━╇━━━━━━━━━━━━━━━━━━━━━━━━╇━━━━━━━━━━━━━━━┩\n",
              "│ flatten_11 (\u001b[38;5;33mFlatten\u001b[0m)            │ (\u001b[38;5;45mNone\u001b[0m, \u001b[38;5;34m784\u001b[0m)            │             \u001b[38;5;34m0\u001b[0m │\n",
              "├─────────────────────────────────┼────────────────────────┼───────────────┤\n",
              "│ dense_23 (\u001b[38;5;33mDense\u001b[0m)                │ (\u001b[38;5;45mNone\u001b[0m, \u001b[38;5;34m100\u001b[0m)            │        \u001b[38;5;34m78,500\u001b[0m │\n",
              "├─────────────────────────────────┼────────────────────────┼───────────────┤\n",
              "│ dropout_4 (\u001b[38;5;33mDropout\u001b[0m)             │ (\u001b[38;5;45mNone\u001b[0m, \u001b[38;5;34m100\u001b[0m)            │             \u001b[38;5;34m0\u001b[0m │\n",
              "├─────────────────────────────────┼────────────────────────┼───────────────┤\n",
              "│ dense_24 (\u001b[38;5;33mDense\u001b[0m)                │ (\u001b[38;5;45mNone\u001b[0m, \u001b[38;5;34m10\u001b[0m)             │         \u001b[38;5;34m1,010\u001b[0m │\n",
              "└─────────────────────────────────┴────────────────────────┴───────────────┘\n"
            ],
            "text/html": [
              "<pre style=\"white-space:pre;overflow-x:auto;line-height:normal;font-family:Menlo,'DejaVu Sans Mono',consolas,'Courier New',monospace\">┏━━━━━━━━━━━━━━━━━━━━━━━━━━━━━━━━━┳━━━━━━━━━━━━━━━━━━━━━━━━┳━━━━━━━━━━━━━━━┓\n",
              "┃<span style=\"font-weight: bold\"> Layer (type)                    </span>┃<span style=\"font-weight: bold\"> Output Shape           </span>┃<span style=\"font-weight: bold\">       Param # </span>┃\n",
              "┡━━━━━━━━━━━━━━━━━━━━━━━━━━━━━━━━━╇━━━━━━━━━━━━━━━━━━━━━━━━╇━━━━━━━━━━━━━━━┩\n",
              "│ flatten_11 (<span style=\"color: #0087ff; text-decoration-color: #0087ff\">Flatten</span>)            │ (<span style=\"color: #00d7ff; text-decoration-color: #00d7ff\">None</span>, <span style=\"color: #00af00; text-decoration-color: #00af00\">784</span>)            │             <span style=\"color: #00af00; text-decoration-color: #00af00\">0</span> │\n",
              "├─────────────────────────────────┼────────────────────────┼───────────────┤\n",
              "│ dense_23 (<span style=\"color: #0087ff; text-decoration-color: #0087ff\">Dense</span>)                │ (<span style=\"color: #00d7ff; text-decoration-color: #00d7ff\">None</span>, <span style=\"color: #00af00; text-decoration-color: #00af00\">100</span>)            │        <span style=\"color: #00af00; text-decoration-color: #00af00\">78,500</span> │\n",
              "├─────────────────────────────────┼────────────────────────┼───────────────┤\n",
              "│ dropout_4 (<span style=\"color: #0087ff; text-decoration-color: #0087ff\">Dropout</span>)             │ (<span style=\"color: #00d7ff; text-decoration-color: #00d7ff\">None</span>, <span style=\"color: #00af00; text-decoration-color: #00af00\">100</span>)            │             <span style=\"color: #00af00; text-decoration-color: #00af00\">0</span> │\n",
              "├─────────────────────────────────┼────────────────────────┼───────────────┤\n",
              "│ dense_24 (<span style=\"color: #0087ff; text-decoration-color: #0087ff\">Dense</span>)                │ (<span style=\"color: #00d7ff; text-decoration-color: #00d7ff\">None</span>, <span style=\"color: #00af00; text-decoration-color: #00af00\">10</span>)             │         <span style=\"color: #00af00; text-decoration-color: #00af00\">1,010</span> │\n",
              "└─────────────────────────────────┴────────────────────────┴───────────────┘\n",
              "</pre>\n"
            ]
          },
          "metadata": {}
        },
        {
          "output_type": "display_data",
          "data": {
            "text/plain": [
              "\u001b[1m Total params: \u001b[0m\u001b[38;5;34m79,510\u001b[0m (310.59 KB)\n"
            ],
            "text/html": [
              "<pre style=\"white-space:pre;overflow-x:auto;line-height:normal;font-family:Menlo,'DejaVu Sans Mono',consolas,'Courier New',monospace\"><span style=\"font-weight: bold\"> Total params: </span><span style=\"color: #00af00; text-decoration-color: #00af00\">79,510</span> (310.59 KB)\n",
              "</pre>\n"
            ]
          },
          "metadata": {}
        },
        {
          "output_type": "display_data",
          "data": {
            "text/plain": [
              "\u001b[1m Trainable params: \u001b[0m\u001b[38;5;34m79,510\u001b[0m (310.59 KB)\n"
            ],
            "text/html": [
              "<pre style=\"white-space:pre;overflow-x:auto;line-height:normal;font-family:Menlo,'DejaVu Sans Mono',consolas,'Courier New',monospace\"><span style=\"font-weight: bold\"> Trainable params: </span><span style=\"color: #00af00; text-decoration-color: #00af00\">79,510</span> (310.59 KB)\n",
              "</pre>\n"
            ]
          },
          "metadata": {}
        },
        {
          "output_type": "display_data",
          "data": {
            "text/plain": [
              "\u001b[1m Non-trainable params: \u001b[0m\u001b[38;5;34m0\u001b[0m (0.00 B)\n"
            ],
            "text/html": [
              "<pre style=\"white-space:pre;overflow-x:auto;line-height:normal;font-family:Menlo,'DejaVu Sans Mono',consolas,'Courier New',monospace\"><span style=\"font-weight: bold\"> Non-trainable params: </span><span style=\"color: #00af00; text-decoration-color: #00af00\">0</span> (0.00 B)\n",
              "</pre>\n"
            ]
          },
          "metadata": {}
        }
      ]
    },
    {
      "cell_type": "code",
      "source": [
        "model.compile(optimizer=keras.optimizers.Adam(),\n",
        "              loss=keras.losses.sparse_categorical_crossentropy,\n",
        "              metrics=[keras.metrics.sparse_categorical_accuracy])"
      ],
      "metadata": {
        "id": "Oqj1hZ1Fy8Zc"
      },
      "execution_count": 134,
      "outputs": []
    },
    {
      "cell_type": "code",
      "source": [
        "result = model.fit(x=train_data_scaled, y=train_target, epochs=20,\n",
        "                   validation_data=[val_data_scaled, val_target])"
      ],
      "metadata": {
        "colab": {
          "base_uri": "https://localhost:8080/"
        },
        "id": "60Pe9MOj0CPk",
        "outputId": "1bc28653-6530-4dac-9f4e-d9b4cfe035f1"
      },
      "execution_count": 135,
      "outputs": [
        {
          "output_type": "stream",
          "name": "stdout",
          "text": [
            "Epoch 1/20\n",
            "\u001b[1m1500/1500\u001b[0m \u001b[32m━━━━━━━━━━━━━━━━━━━━\u001b[0m\u001b[37m\u001b[0m \u001b[1m8s\u001b[0m 5ms/step - loss: 0.7844 - sparse_categorical_accuracy: 0.7298 - val_loss: 0.4098 - val_sparse_categorical_accuracy: 0.8532\n",
            "Epoch 2/20\n",
            "\u001b[1m1500/1500\u001b[0m \u001b[32m━━━━━━━━━━━━━━━━━━━━\u001b[0m\u001b[37m\u001b[0m \u001b[1m11s\u001b[0m 5ms/step - loss: 0.4460 - sparse_categorical_accuracy: 0.8380 - val_loss: 0.3702 - val_sparse_categorical_accuracy: 0.8677\n",
            "Epoch 3/20\n",
            "\u001b[1m1500/1500\u001b[0m \u001b[32m━━━━━━━━━━━━━━━━━━━━\u001b[0m\u001b[37m\u001b[0m \u001b[1m9s\u001b[0m 4ms/step - loss: 0.4045 - sparse_categorical_accuracy: 0.8514 - val_loss: 0.3670 - val_sparse_categorical_accuracy: 0.8683\n",
            "Epoch 4/20\n",
            "\u001b[1m1500/1500\u001b[0m \u001b[32m━━━━━━━━━━━━━━━━━━━━\u001b[0m\u001b[37m\u001b[0m \u001b[1m10s\u001b[0m 4ms/step - loss: 0.3828 - sparse_categorical_accuracy: 0.8604 - val_loss: 0.3555 - val_sparse_categorical_accuracy: 0.8689\n",
            "Epoch 5/20\n",
            "\u001b[1m1500/1500\u001b[0m \u001b[32m━━━━━━━━━━━━━━━━━━━━\u001b[0m\u001b[37m\u001b[0m \u001b[1m11s\u001b[0m 5ms/step - loss: 0.3664 - sparse_categorical_accuracy: 0.8666 - val_loss: 0.3428 - val_sparse_categorical_accuracy: 0.8778\n",
            "Epoch 6/20\n",
            "\u001b[1m1500/1500\u001b[0m \u001b[32m━━━━━━━━━━━━━━━━━━━━\u001b[0m\u001b[37m\u001b[0m \u001b[1m10s\u001b[0m 4ms/step - loss: 0.3638 - sparse_categorical_accuracy: 0.8662 - val_loss: 0.3434 - val_sparse_categorical_accuracy: 0.8776\n",
            "Epoch 7/20\n",
            "\u001b[1m1500/1500\u001b[0m \u001b[32m━━━━━━━━━━━━━━━━━━━━\u001b[0m\u001b[37m\u001b[0m \u001b[1m7s\u001b[0m 5ms/step - loss: 0.3397 - sparse_categorical_accuracy: 0.8734 - val_loss: 0.3225 - val_sparse_categorical_accuracy: 0.8852\n",
            "Epoch 8/20\n",
            "\u001b[1m1500/1500\u001b[0m \u001b[32m━━━━━━━━━━━━━━━━━━━━\u001b[0m\u001b[37m\u001b[0m \u001b[1m9s\u001b[0m 4ms/step - loss: 0.3321 - sparse_categorical_accuracy: 0.8775 - val_loss: 0.3311 - val_sparse_categorical_accuracy: 0.8802\n",
            "Epoch 9/20\n",
            "\u001b[1m1500/1500\u001b[0m \u001b[32m━━━━━━━━━━━━━━━━━━━━\u001b[0m\u001b[37m\u001b[0m \u001b[1m10s\u001b[0m 4ms/step - loss: 0.3241 - sparse_categorical_accuracy: 0.8789 - val_loss: 0.3178 - val_sparse_categorical_accuracy: 0.8888\n",
            "Epoch 10/20\n",
            "\u001b[1m1500/1500\u001b[0m \u001b[32m━━━━━━━━━━━━━━━━━━━━\u001b[0m\u001b[37m\u001b[0m \u001b[1m10s\u001b[0m 4ms/step - loss: 0.3189 - sparse_categorical_accuracy: 0.8808 - val_loss: 0.3201 - val_sparse_categorical_accuracy: 0.8863\n",
            "Epoch 11/20\n",
            "\u001b[1m1500/1500\u001b[0m \u001b[32m━━━━━━━━━━━━━━━━━━━━\u001b[0m\u001b[37m\u001b[0m \u001b[1m8s\u001b[0m 5ms/step - loss: 0.3130 - sparse_categorical_accuracy: 0.8821 - val_loss: 0.3205 - val_sparse_categorical_accuracy: 0.8867\n",
            "Epoch 12/20\n",
            "\u001b[1m1500/1500\u001b[0m \u001b[32m━━━━━━━━━━━━━━━━━━━━\u001b[0m\u001b[37m\u001b[0m \u001b[1m6s\u001b[0m 4ms/step - loss: 0.3087 - sparse_categorical_accuracy: 0.8850 - val_loss: 0.3235 - val_sparse_categorical_accuracy: 0.8849\n",
            "Epoch 13/20\n",
            "\u001b[1m1500/1500\u001b[0m \u001b[32m━━━━━━━━━━━━━━━━━━━━\u001b[0m\u001b[37m\u001b[0m \u001b[1m10s\u001b[0m 4ms/step - loss: 0.2988 - sparse_categorical_accuracy: 0.8861 - val_loss: 0.3173 - val_sparse_categorical_accuracy: 0.8865\n",
            "Epoch 14/20\n",
            "\u001b[1m1500/1500\u001b[0m \u001b[32m━━━━━━━━━━━━━━━━━━━━\u001b[0m\u001b[37m\u001b[0m \u001b[1m7s\u001b[0m 5ms/step - loss: 0.3022 - sparse_categorical_accuracy: 0.8835 - val_loss: 0.3123 - val_sparse_categorical_accuracy: 0.8907\n",
            "Epoch 15/20\n",
            "\u001b[1m1500/1500\u001b[0m \u001b[32m━━━━━━━━━━━━━━━━━━━━\u001b[0m\u001b[37m\u001b[0m \u001b[1m6s\u001b[0m 4ms/step - loss: 0.2930 - sparse_categorical_accuracy: 0.8906 - val_loss: 0.3212 - val_sparse_categorical_accuracy: 0.8866\n",
            "Epoch 16/20\n",
            "\u001b[1m1500/1500\u001b[0m \u001b[32m━━━━━━━━━━━━━━━━━━━━\u001b[0m\u001b[37m\u001b[0m \u001b[1m10s\u001b[0m 4ms/step - loss: 0.2935 - sparse_categorical_accuracy: 0.8904 - val_loss: 0.3164 - val_sparse_categorical_accuracy: 0.8889\n",
            "Epoch 17/20\n",
            "\u001b[1m1500/1500\u001b[0m \u001b[32m━━━━━━━━━━━━━━━━━━━━\u001b[0m\u001b[37m\u001b[0m \u001b[1m7s\u001b[0m 5ms/step - loss: 0.2898 - sparse_categorical_accuracy: 0.8938 - val_loss: 0.3216 - val_sparse_categorical_accuracy: 0.8924\n",
            "Epoch 18/20\n",
            "\u001b[1m1500/1500\u001b[0m \u001b[32m━━━━━━━━━━━━━━━━━━━━\u001b[0m\u001b[37m\u001b[0m \u001b[1m7s\u001b[0m 4ms/step - loss: 0.2839 - sparse_categorical_accuracy: 0.8924 - val_loss: 0.3087 - val_sparse_categorical_accuracy: 0.8946\n",
            "Epoch 19/20\n",
            "\u001b[1m1500/1500\u001b[0m \u001b[32m━━━━━━━━━━━━━━━━━━━━\u001b[0m\u001b[37m\u001b[0m \u001b[1m8s\u001b[0m 5ms/step - loss: 0.2800 - sparse_categorical_accuracy: 0.8936 - val_loss: 0.3090 - val_sparse_categorical_accuracy: 0.8938\n",
            "Epoch 20/20\n",
            "\u001b[1m1500/1500\u001b[0m \u001b[32m━━━━━━━━━━━━━━━━━━━━\u001b[0m\u001b[37m\u001b[0m \u001b[1m7s\u001b[0m 5ms/step - loss: 0.2810 - sparse_categorical_accuracy: 0.8946 - val_loss: 0.3217 - val_sparse_categorical_accuracy: 0.8892\n"
          ]
        }
      ]
    },
    {
      "cell_type": "code",
      "source": [
        "plot_train_val_losses(result)"
      ],
      "metadata": {
        "colab": {
          "base_uri": "https://localhost:8080/",
          "height": 449
        },
        "id": "RBGSZ2CJ0Mk7",
        "outputId": "f696fdbc-43bb-4d56-c1e5-1b0903ac03b3"
      },
      "execution_count": 136,
      "outputs": [
        {
          "output_type": "display_data",
          "data": {
            "text/plain": [
              "<Figure size 640x480 with 1 Axes>"
            ],
            "image/png": "[encoded data removed]"
          },
          "metadata": {}
        }
      ]
    }
  ]
}