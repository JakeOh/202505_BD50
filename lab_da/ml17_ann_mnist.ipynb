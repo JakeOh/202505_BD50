{
  "nbformat": 4,
  "nbformat_minor": 0,
  "metadata": {
    "colab": {
      "provenance": [],
      "toc_visible": true,
      "gpuType": "T4",
      "mount_file_id": "1GvQ21sqacS2u8Kp_IvRtgLmgOxDIomST",
      "authorship_tag": "ABX9TyM2Qk/JiBNpsEn4algRrvHj",
      "include_colab_link": true
    },
    "kernelspec": {
      "name": "python3",
      "display_name": "Python 3"
    },
    "language_info": {
      "name": "python"
    },
    "accelerator": "GPU"
  },
  "cells": [
    {
      "cell_type": "markdown",
      "metadata": {
        "id": "view-in-github",
        "colab_type": "text"
      },
      "source": [
        "<a href=\"https://colab.research.google.com/github/JakeOh/202505_BD50/blob/main/lab_da/ml17_ann_mnist.ipynb\" target=\"_parent\"><img src=\"https://colab.research.google.com/assets/colab-badge.svg\" alt=\"Open In Colab\"/></a>"
      ]
    },
    {
      "cell_type": "markdown",
      "source": [
        "# Fashion MNIST 이미지 분류"
      ],
      "metadata": {
        "id": "BMY5zhKpiOEC"
      }
    },
    {
      "cell_type": "markdown",
      "source": [
        "# Imports"
      ],
      "metadata": {
        "id": "cZGoHu1Vib-5"
      }
    },
    {
      "cell_type": "code",
      "execution_count": 1,
      "metadata": {
        "id": "HONwKi4RiJbf"
      },
      "outputs": [],
      "source": [
        "import numpy as np\n",
        "import matplotlib.pyplot as plt\n",
        "\n",
        "import tensorflow as tf\n",
        "import keras\n",
        "\n",
        "from sklearn.model_selection import train_test_split\n",
        "from sklearn.linear_model import SGDClassifier\n",
        "from sklearn.metrics import accuracy_score"
      ]
    },
    {
      "cell_type": "code",
      "source": [
        "tf.__version__"
      ],
      "metadata": {
        "colab": {
          "base_uri": "https://localhost:8080/",
          "height": 36
        },
        "id": "O_pzblp3insr",
        "outputId": "727ee1b0-375d-4023-ffc9-a343b1f4f35c"
      },
      "execution_count": 2,
      "outputs": [
        {
          "output_type": "execute_result",
          "data": {
            "text/plain": [
              "'2.19.0'"
            ],
            "application/vnd.google.colaboratory.intrinsic+json": {
              "type": "string"
            }
          },
          "metadata": {},
          "execution_count": 2
        }
      ]
    },
    {
      "cell_type": "code",
      "source": [
        "keras.__version__"
      ],
      "metadata": {
        "colab": {
          "base_uri": "https://localhost:8080/",
          "height": 36
        },
        "id": "7qLuBzKFivNb",
        "outputId": "7bdbe2ee-1c4c-422b-817b-6ea5d872a44d"
      },
      "execution_count": 3,
      "outputs": [
        {
          "output_type": "execute_result",
          "data": {
            "text/plain": [
              "'3.10.0'"
            ],
            "application/vnd.google.colaboratory.intrinsic+json": {
              "type": "string"
            }
          },
          "metadata": {},
          "execution_count": 3
        }
      ]
    },
    {
      "cell_type": "code",
      "source": [
        "print(keras.config.backend())  # Keras 라이브러리에서 신경망 계산을 할 때 필요한 라이브러리."
      ],
      "metadata": {
        "colab": {
          "base_uri": "https://localhost:8080/"
        },
        "id": "kvI68JBLi1Li",
        "outputId": "5db01b19-0d7d-4801-c478-b2e6466e1914"
      },
      "execution_count": 4,
      "outputs": [
        {
          "output_type": "stream",
          "name": "stdout",
          "text": [
            "tensorflow\n"
          ]
        }
      ]
    },
    {
      "cell_type": "code",
      "source": [
        "print(tf.config.list_physical_devices())  # CPU/GPU/TPU 사용 여부 확인"
      ],
      "metadata": {
        "colab": {
          "base_uri": "https://localhost:8080/"
        },
        "id": "WNTaqoQ1i-3y",
        "outputId": "7fede907-510d-49ea-d205-e00728d56ad7"
      },
      "execution_count": 5,
      "outputs": [
        {
          "output_type": "stream",
          "name": "stdout",
          "text": [
            "[PhysicalDevice(name='/physical_device:CPU:0', device_type='CPU'), PhysicalDevice(name='/physical_device:GPU:0', device_type='GPU')]\n"
          ]
        }
      ]
    },
    {
      "cell_type": "markdown",
      "source": [
        "Keras 라이브러리는 GPU 연산을 직접 수행하지 않음. 대신에 GPU 연산을 수행하는 다른 딥러닝 라이브러리를 백엔드(backend)로 활용함.\n",
        "\n",
        "*   Keras에서 사용할 수 있는 백엔드 종류\n",
        "    *   TensorFlow - Google에서 만든 텐서(Tensor) 연산을 빠르게 수행하기 위한 라이브러리.\n",
        "    *   PyTorch - Meta(페이스북)에서 만든 딥러닝 라이브러리 -> 리눅스 재단으로 오픈소스로 공개.\n",
        "*   Keras\n",
        "    *   여러가지 백엔드를 사용해서 신경망을 쉽게 만들고 사용할 수 있도록 만든 고급 라이브러리.\n",
        "    *   2.3.1 버전 이후부터는 TensorFlow만 단일 백엔드로 사용하도록 기능 변경.\n",
        "    *   3.0 버전부터 다시 멀티 백엔드 정책으로 바뀜."
      ],
      "metadata": {
        "id": "qbl2qlJuj4jh"
      }
    },
    {
      "cell_type": "markdown",
      "source": [
        "# Fashion MNIST 데이터 셋\n",
        "\n",
        "10가지 패션 아이템의 28x28 크기의 흑백 이미지 60,000개 훈련 셋/레이블, 10,000개 테스트 셋/레이블."
      ],
      "metadata": {
        "id": "eRg0bUlPm99H"
      }
    },
    {
      "cell_type": "code",
      "source": [
        "(x_train, y_train), (x_test, y_test) = keras.datasets.fashion_mnist.load_data()\n",
        "# (훈련 셋, 훈련 레이블), (테스트 셋, 테스트 레이블)"
      ],
      "metadata": {
        "colab": {
          "base_uri": "https://localhost:8080/"
        },
        "id": "DxMl4fiBjd5D",
        "outputId": "fd080747-db77-4ec1-f23f-8d50ac6cacaf"
      },
      "execution_count": 6,
      "outputs": [
        {
          "output_type": "stream",
          "name": "stdout",
          "text": [
            "Downloading data from https://storage.googleapis.com/tensorflow/tf-keras-datasets/train-labels-idx1-ubyte.gz\n",
            "\u001b[1m29515/29515\u001b[0m \u001b[32m━━━━━━━━━━━━━━━━━━━━\u001b[0m\u001b[37m\u001b[0m \u001b[1m0s\u001b[0m 0us/step\n",
            "Downloading data from https://storage.googleapis.com/tensorflow/tf-keras-datasets/train-images-idx3-ubyte.gz\n",
            "\u001b[1m26421880/26421880\u001b[0m \u001b[32m━━━━━━━━━━━━━━━━━━━━\u001b[0m\u001b[37m\u001b[0m \u001b[1m2s\u001b[0m 0us/step\n",
            "Downloading data from https://storage.googleapis.com/tensorflow/tf-keras-datasets/t10k-labels-idx1-ubyte.gz\n",
            "\u001b[1m5148/5148\u001b[0m \u001b[32m━━━━━━━━━━━━━━━━━━━━\u001b[0m\u001b[37m\u001b[0m \u001b[1m0s\u001b[0m 0us/step\n",
            "Downloading data from https://storage.googleapis.com/tensorflow/tf-keras-datasets/t10k-images-idx3-ubyte.gz\n",
            "\u001b[1m4422102/4422102\u001b[0m \u001b[32m━━━━━━━━━━━━━━━━━━━━\u001b[0m\u001b[37m\u001b[0m \u001b[1m1s\u001b[0m 0us/step\n"
          ]
        }
      ]
    },
    {
      "cell_type": "code",
      "source": [
        "x_train.shape  # (n_samples, image_width, image_height)"
      ],
      "metadata": {
        "colab": {
          "base_uri": "https://localhost:8080/"
        },
        "id": "GzoEpHGAn_Xg",
        "outputId": "b20a1729-5e9e-4d89-87da-78d50f52c773"
      },
      "execution_count": 7,
      "outputs": [
        {
          "output_type": "execute_result",
          "data": {
            "text/plain": [
              "(60000, 28, 28)"
            ]
          },
          "metadata": {},
          "execution_count": 7
        }
      ]
    },
    {
      "cell_type": "code",
      "source": [
        "y_train.shape"
      ],
      "metadata": {
        "colab": {
          "base_uri": "https://localhost:8080/"
        },
        "id": "7OD-LxZdoZuv",
        "outputId": "0deb1d86-477a-4227-855e-7bf2029e8eb1"
      },
      "execution_count": 8,
      "outputs": [
        {
          "output_type": "execute_result",
          "data": {
            "text/plain": [
              "(60000,)"
            ]
          },
          "metadata": {},
          "execution_count": 8
        }
      ]
    },
    {
      "cell_type": "code",
      "source": [
        "np.unique(y_train, return_counts=True)"
      ],
      "metadata": {
        "colab": {
          "base_uri": "https://localhost:8080/"
        },
        "id": "TkJufe9coz6O",
        "outputId": "74369633-8030-4d35-9f7e-7bfbd0d85121"
      },
      "execution_count": 9,
      "outputs": [
        {
          "output_type": "execute_result",
          "data": {
            "text/plain": [
              "(array([0, 1, 2, 3, 4, 5, 6, 7, 8, 9], dtype=uint8),\n",
              " array([6000, 6000, 6000, 6000, 6000, 6000, 6000, 6000, 6000, 6000]))"
            ]
          },
          "metadata": {},
          "execution_count": 9
        }
      ]
    },
    {
      "cell_type": "code",
      "source": [
        "x_test.shape"
      ],
      "metadata": {
        "colab": {
          "base_uri": "https://localhost:8080/"
        },
        "id": "iXZ-BxcAo6sG",
        "outputId": "15061920-1d2c-4529-d43e-aa1bdcbdfdda"
      },
      "execution_count": 10,
      "outputs": [
        {
          "output_type": "execute_result",
          "data": {
            "text/plain": [
              "(10000, 28, 28)"
            ]
          },
          "metadata": {},
          "execution_count": 10
        }
      ]
    },
    {
      "cell_type": "code",
      "source": [
        "np.unique(y_test, return_counts=True)"
      ],
      "metadata": {
        "colab": {
          "base_uri": "https://localhost:8080/"
        },
        "id": "s1wsBVq-pFv2",
        "outputId": "d90bdd31-c411-4334-f7fb-ecb84a1fb560"
      },
      "execution_count": 11,
      "outputs": [
        {
          "output_type": "execute_result",
          "data": {
            "text/plain": [
              "(array([0, 1, 2, 3, 4, 5, 6, 7, 8, 9], dtype=uint8),\n",
              " array([1000, 1000, 1000, 1000, 1000, 1000, 1000, 1000, 1000, 1000]))"
            ]
          },
          "metadata": {},
          "execution_count": 11
        }
      ]
    },
    {
      "cell_type": "markdown",
      "source": [
        "훈련셋, 테스트셋 모두 각 클래스의 샘플들이 동일한 개수로 만들어져 있음."
      ],
      "metadata": {
        "id": "R0Jgk-9UplIN"
      }
    },
    {
      "cell_type": "markdown",
      "source": [
        "데이터셋의 이미지를 시각화해 보세요."
      ],
      "metadata": {
        "id": "5wuSVK1I7OEi"
      }
    },
    {
      "cell_type": "code",
      "source": [
        "def plot_fashion_mnist(arr, ncols=10):\n",
        "    # arr: (samples, width, height) shape의 3차원 배열\n",
        "    # ncols: subplot axis의 컬럼 개수.\n",
        "    n = len(arr)  # 출력할 이미지 개수\n",
        "    nrows = int(np.ceil(n / ncols))  # subplot Axis 행 개수.\n",
        "    fig, ax = plt.subplots(nrows, ncols, figsize=(ncols, nrows))\n",
        "    for i in range(nrows):\n",
        "        for j in range(ncols):\n",
        "            idx = i * ncols + j  # arr에서 선택할 이미지 인덱스.\n",
        "            if nrows == 1 or ncols == 1:  # ax가 1차원 배열인 경우\n",
        "                if idx < n:\n",
        "                    ax[idx].imshow(arr[idx], cmap=plt.cm.binary)\n",
        "                ax[idx].axis('off')\n",
        "            else:  # ax가 2차원 배열인 경우\n",
        "                if idx < n:\n",
        "                    ax[i, j].imshow(arr[idx], cmap=plt.cm.binary)\n",
        "                ax[i, j].axis('off')\n",
        "    plt.show()"
      ],
      "metadata": {
        "id": "pOZsttAEpJxW"
      },
      "execution_count": 12,
      "outputs": []
    },
    {
      "cell_type": "code",
      "source": [
        "plot_fashion_mnist(x_train[:10])"
      ],
      "metadata": {
        "colab": {
          "base_uri": "https://localhost:8080/",
          "height": 102
        },
        "id": "5BmQDpd--qsS",
        "outputId": "0644c297-f78a-43b9-b582-5c50aac39992"
      },
      "execution_count": 13,
      "outputs": [
        {
          "output_type": "display_data",
          "data": {
            "text/plain": [
              "<Figure size 1000x100 with 10 Axes>"
            ],
            "image/png": "[encoded data removed]"
          },
          "metadata": {}
        }
      ]
    },
    {
      "cell_type": "code",
      "source": [
        "plot_fashion_mnist(x_train[:45])"
      ],
      "metadata": {
        "colab": {
          "base_uri": "https://localhost:8080/",
          "height": 421
        },
        "id": "ddvCU-Vi-vrZ",
        "outputId": "f348343d-da99-448c-b604-1847a0a83914"
      },
      "execution_count": 14,
      "outputs": [
        {
          "output_type": "display_data",
          "data": {
            "text/plain": [
              "<Figure size 1000x500 with 50 Axes>"
            ],
            "image/png": "[encoded data removed]"
          },
          "metadata": {}
        }
      ]
    },
    {
      "cell_type": "markdown",
      "source": [
        "# 훈련 셋/레이블을 훈련 셋과 검증 셋으로 분리"
      ],
      "metadata": {
        "id": "QPXj07kl_gZP"
      }
    },
    {
      "cell_type": "code",
      "source": [
        "train_data, val_data, train_target, val_target = \\\n",
        "        train_test_split(x_train, y_train, random_state=42, test_size=0.2, stratify=y_train)"
      ],
      "metadata": {
        "id": "M1JmxyoO_fwx"
      },
      "execution_count": 15,
      "outputs": []
    },
    {
      "cell_type": "code",
      "source": [
        "print(train_data.shape)\n",
        "print(train_target.shape)\n",
        "print(np.unique(train_target, return_counts=True))"
      ],
      "metadata": {
        "colab": {
          "base_uri": "https://localhost:8080/"
        },
        "id": "6xS6goBvAPw-",
        "outputId": "669a0e56-c0e7-4d3e-bc1b-6fa35bd8a901"
      },
      "execution_count": 16,
      "outputs": [
        {
          "output_type": "stream",
          "name": "stdout",
          "text": [
            "(48000, 28, 28)\n",
            "(48000,)\n",
            "(array([0, 1, 2, 3, 4, 5, 6, 7, 8, 9], dtype=uint8), array([4800, 4800, 4800, 4800, 4800, 4800, 4800, 4800, 4800, 4800]))\n"
          ]
        }
      ]
    },
    {
      "cell_type": "code",
      "source": [
        "print(val_data.shape)\n",
        "print(val_target.shape)\n",
        "print(np.unique(val_target, return_counts=True))"
      ],
      "metadata": {
        "colab": {
          "base_uri": "https://localhost:8080/"
        },
        "id": "rpCa64_ZAYpv",
        "outputId": "e8792264-ec28-4f33-b0c8-d43c5e882cc4"
      },
      "execution_count": 17,
      "outputs": [
        {
          "output_type": "stream",
          "name": "stdout",
          "text": [
            "(12000, 28, 28)\n",
            "(12000,)\n",
            "(array([0, 1, 2, 3, 4, 5, 6, 7, 8, 9], dtype=uint8), array([1200, 1200, 1200, 1200, 1200, 1200, 1200, 1200, 1200, 1200]))\n"
          ]
        }
      ]
    },
    {
      "cell_type": "markdown",
      "source": [
        "# SGD Classifier"
      ],
      "metadata": {
        "id": "pOA9sCRT_MV4"
      }
    },
    {
      "cell_type": "code",
      "source": [
        "train_data[0]  #> 각 픽셀의 값들이 0(white) ~ 255(white)"
      ],
      "metadata": {
        "colab": {
          "base_uri": "https://localhost:8080/",
          "height": 68
        },
        "id": "LEtWDN5n-5LA",
        "outputId": "ab8ccaad-8635-4a1a-b679-82dc107d33b7"
      },
      "execution_count": 18,
      "outputs": [
        {
          "output_type": "execute_result",
          "data": {
            "text/plain": [
              "array([[  0,   0,   0,   0,   1,   1,   0,   0,   0,  25,  55,   0,   0,\n",
              "          0,   0,   0,   0,  43,  24,   0,   0,   0,   1,   0,   0,   0,\n",
              "          0,   0],\n",
              "       [  0,   0,   0,   1,   1,   1,   0,  25, 147, 189, 181,  96,  51,\n",
              "         49,  55,  37,  76, 217, 172, 125,  20,   0,   2,   1,   0,   0,\n",
              "          0,   0],\n",
              "       [  0,   0,   0,   1,   3,   0,  82, 206, 202, 190, 178, 188, 239,\n",
              "        152,  99, 199, 201, 162, 176, 192, 185,  71,   0,   2,   0,   0,\n",
              "          0,   0],\n",
              "       [  0,   0,   0,   1,   0,   0, 202, 196, 181, 188, 183, 169, 179,\n",
              "        160, 107, 198, 166, 167, 178, 170, 183, 166,   0,   0,   1,   0,\n",
              "          0,   0],\n",
              "       [  0,   0,   0,   1,   0,  48, 216, 184, 185, 185, 190, 175, 164,\n",
              "        188, 198, 188, 157, 183, 176, 171, 167, 175,  26,   0,   2,   0,\n",
              "          0,   0],\n",
              "       [  0,   0,   0,   0,   0,  90, 224, 183, 185, 184, 183, 190, 164,\n",
              "        169, 193, 158, 170, 174, 176, 175, 165, 180,  62,   0,   0,   0,\n",
              "          0,   0],\n",
              "       [  0,   0,   0,   0,   0, 123, 228, 184, 180, 183, 178, 183, 172,\n",
              "        172, 172, 161, 179, 170, 174, 175, 165, 181, 106,   0,   0,   0,\n",
              "          0,   0],\n",
              "       [  0,   0,   0,   0,   0, 156, 229, 188, 175, 178, 175, 175, 190,\n",
              "        157, 157, 180, 169, 169, 172, 171, 161, 179, 143,   0,   0,   0,\n",
              "          0,   0],\n",
              "       [  0,   0,   0,   0,   0, 181, 228, 190, 174, 174, 176, 175, 197,\n",
              "        167, 167, 183, 166, 169, 171, 170, 162, 175, 172,   0,   0,   0,\n",
              "          0,   0],\n",
              "       [  0,   0,   0,   0,   6, 175, 221, 192, 170, 174, 176, 175, 193,\n",
              "        176, 172, 175, 167, 169, 169, 167, 160, 169, 196,   0,   0,   0,\n",
              "          0,   0],\n",
              "       [  0,   0,   0,   0,  23, 184, 216, 206, 164, 175, 176, 175, 192,\n",
              "        178, 175, 174, 167, 166, 169, 169, 165, 169, 175,   6,   0,   0,\n",
              "          0,   0],\n",
              "       [  0,   0,   0,   0,  53, 189, 208, 219, 161, 176, 176, 175, 190,\n",
              "        181, 178, 172, 169, 165, 170, 169, 166, 167, 183,  26,   0,   0,\n",
              "          0,   0],\n",
              "       [  0,   0,   0,   0,  84, 194, 207, 216, 157, 176, 175, 176, 193,\n",
              "        183, 180, 172, 167, 167, 166, 170, 165, 167, 185,  61,   0,   0,\n",
              "          0,   0],\n",
              "       [  0,   0,   0,   0, 114, 193, 211, 207, 157, 175, 175, 176, 196,\n",
              "        183, 181, 172, 166, 166, 165, 170, 164, 169, 187,  88,   0,   0,\n",
              "          0,   0],\n",
              "       [  0,   0,   0,   0, 155, 192, 219, 194, 161, 172, 178, 176, 197,\n",
              "        185, 181, 169, 166, 165, 165, 171, 164, 171, 184, 108,   0,   0,\n",
              "          0,   0],\n",
              "       [  0,   0,   0,   0, 181, 192, 225, 185, 162, 172, 179, 176, 199,\n",
              "        185, 183, 169, 166, 164, 164, 172, 161, 170, 184, 135,   0,   0,\n",
              "          0,   0],\n",
              "       [  0,   0,   0,   0, 210, 189, 233, 180, 161, 171, 179, 179, 201,\n",
              "        185, 190, 166, 166, 164, 164, 176, 158, 171, 183, 155,   0,   0,\n",
              "          0,   0],\n",
              "       [  0,   0,   0,   0, 229, 184, 234, 176, 164, 169, 180, 183, 198,\n",
              "        185, 193, 166, 167, 164, 165, 179, 157, 176, 179, 174,   0,   0,\n",
              "          0,   0],\n",
              "       [  0,   0,   0,   2, 237, 183, 237, 171, 166, 167, 178, 188, 196,\n",
              "        187, 196, 164, 166, 165, 166, 179, 157, 178, 176, 185,   2,   0,\n",
              "          0,   0],\n",
              "       [  0,   0,   0,  24, 246, 184, 255, 172, 166, 169, 180, 192, 196,\n",
              "        189, 201, 161, 164, 165, 165, 181, 161, 181, 176, 189,  17,   0,\n",
              "          0,   0],\n",
              "       [  0,   0,   0,  52, 247, 187, 238, 166, 170, 170, 180, 198, 193,\n",
              "        189, 207, 160, 165, 165, 164, 180, 162, 187, 175, 192,  52,   0,\n",
              "          0,   0],\n",
              "       [  0,   0,   0,  82, 215, 192, 239, 158, 169, 174, 179, 207, 189,\n",
              "        187, 213, 160, 167, 166, 165, 181, 169, 190, 170, 192,  73,   0,\n",
              "          0,   0],\n",
              "       [  0,   0,   0, 102, 212, 201, 212, 166, 169, 171, 179, 217, 189,\n",
              "        187, 217, 157, 170, 167, 166, 178, 171, 196, 169, 171,  84,   0,\n",
              "          0,   0],\n",
              "       [  0,   0,   0, 166, 211, 213, 193, 164, 170, 170, 180, 226, 181,\n",
              "        187, 228, 157, 167, 167, 158, 188, 196, 128, 170, 179, 128,   0,\n",
              "          0,   0],\n",
              "       [  0,   0,   0,  35,  92, 129, 199, 184, 171, 179, 187, 246, 170,\n",
              "        189, 240, 156, 170, 174, 166, 190, 230, 139, 102, 139,  89,   0,\n",
              "          0,   0],\n",
              "       [  0,   0,   0,   0,   0,   0, 142, 213, 166, 151, 178, 235, 190,\n",
              "        162, 244, 179, 183, 160, 142, 164, 208, 125,   0,   0,   0,   0,\n",
              "          0,   0],\n",
              "       [  0,   0,   0,   0,   1,   2,   0,  96, 181, 179, 178, 178, 185,\n",
              "        160, 208, 171, 167, 167, 184, 174, 105,   0,   1,   2,   1,   0,\n",
              "          0,   0],\n",
              "       [  0,   0,   0,   0,   0,   0,   2,   0,   1,  52,  83,  98, 112,\n",
              "        134, 146, 105,  89,  73,  49,   0,   0,   0,   0,   0,   0,   0,\n",
              "          0,   0]], dtype=uint8)"
            ],
            "text/html": [
              "<style>\n",
              "      .ndarray_repr .ndarray_raw_data {\n",
              "        display: none;\n",
              "      }\n",
              "      .ndarray_repr.show_array .ndarray_raw_data {\n",
              "        display: block;\n",
              "      }\n",
              "      .ndarray_repr.show_array .ndarray_image_preview {\n",
              "        display: none;\n",
              "      }\n",
              "      </style>\n",
              "      <div id=\"id-7acecea5-a4df-46b7-8b64-9408705a4178\" class=\"ndarray_repr\"><pre>ndarray (28, 28) <button style=\"padding: 0 2px;\">show data</button></pre><img src=\"data:image/png;base64,iVBORw0KGgoAAAANSUhEUgAAABwAAAAcCAAAAABXZoBIAAACBElEQVR4nEXSu2tUURDH8e/MOffuvbvJ5rXGvIPGIMYUgRTBzkp7wcpCC/8IEf0TtBX8D8S/QExpZyEhhQQJiCg+8jAxye4m954zNnd3pzrw4XeYGQYAEWB6AwBuTgECgK9e009Xum+3Y3p4/cX21qt9wSoQDfeelaen9fU3Hx/rTnP0/OU7jYACBJ6092Jy8CHLbDfRP/EhUXrIWvPUh1p6PPeg3RmNcpTP0ENjJTPsfISD4ttwBx+Ta/S/5YqXworzzO25vIwgqzBA8UURuuPHxxNti2UZl/ujwLSplWq1Oi44MynnB8n04lxLoMyTrhBDvJga4FheNC8ETJ0R0IS9tI8LSXc4CETnopogMWv1cTGxUGLiVIlaiqFL/YYWzHcwcAiGYaqz/eQNy058cIgSMAQNrX5yhrQjCIqCIcEYJOdDVpjhlFoAfBAbNDRRSOmi+IBDEGdJOdFDzcwVGmMS1UUTAQ0NrXAyl3FB1aNJiJh6hx+pcE7c3wsvpIHUBDNJzS1VuPA1ka55y8uYoiJScwWXKmyF/EdGoA4+OJGgqe01KrxtQwdRTPIuDQLd+vSmZKvVEp7fWr7TOslqrbNsyJw3vdrYXN6pcHeX4btb+7Nnre8bl/3vwzj+7zX0TlskProfjdrPtS8lY+33r0TMenePRllfHGlODn0+Ovr1iar+A+SW1VuwzXPKAAAAAElFTkSuQmCC\" class=\"ndarray_image_preview\" /><pre class=\"ndarray_raw_data\">array([[  0,   0,   0,   0,   1,   1,   0,   0,   0,  25,  55,   0,   0,\n",
              "          0,   0,   0,   0,  43,  24,   0,   0,   0,   1,   0,   0,   0,\n",
              "          0,   0],\n",
              "       [  0,   0,   0,   1,   1,   1,   0,  25, 147, 189, 181,  96,  51,\n",
              "         49,  55,  37,  76, 217, 172, 125,  20,   0,   2,   1,   0,   0,\n",
              "          0,   0],\n",
              "       [  0,   0,   0,   1,   3,   0,  82, 206, 202, 190, 178, 188, 239,\n",
              "        152,  99, 199, 201, 162, 176, 192, 185,  71,   0,   2,   0,   0,\n",
              "          0,   0],\n",
              "       [  0,   0,   0,   1,   0,   0, 202, 196, 181, 188, 183, 169, 179,\n",
              "        160, 107, 198, 166, 167, 178, 170, 183, 166,   0,   0,   1,   0,\n",
              "          0,   0],\n",
              "       [  0,   0,   0,   1,   0,  48, 216, 184, 185, 185, 190, 175, 164,\n",
              "        188, 198, 188, 157, 183, 176, 171, 167, 175,  26,   0,   2,   0,\n",
              "          0,   0],\n",
              "       [  0,   0,   0,   0,   0,  90, 224, 183, 185, 184, 183, 190, 164,\n",
              "        169, 193, 158, 170, 174, 176, 175, 165, 180,  62,   0,   0,   0,\n",
              "          0,   0],\n",
              "       [  0,   0,   0,   0,   0, 123, 228, 184, 180, 183, 178, 183, 172,\n",
              "        172, 172, 161, 179, 170, 174, 175, 165, 181, 106,   0,   0,   0,\n",
              "          0,   0],\n",
              "       [  0,   0,   0,   0,   0, 156, 229, 188, 175, 178, 175, 175, 190,\n",
              "        157, 157, 180, 169, 169, 172, 171, 161, 179, 143,   0,   0,   0,\n",
              "          0,   0],\n",
              "       [  0,   0,   0,   0,   0, 181, 228, 190, 174, 174, 176, 175, 197,\n",
              "        167, 167, 183, 166, 169, 171, 170, 162, 175, 172,   0,   0,   0,\n",
              "          0,   0],\n",
              "       [  0,   0,   0,   0,   6, 175, 221, 192, 170, 174, 176, 175, 193,\n",
              "        176, 172, 175, 167, 169, 169, 167, 160, 169, 196,   0,   0,   0,\n",
              "          0,   0],\n",
              "       [  0,   0,   0,   0,  23, 184, 216, 206, 164, 175, 176, 175, 192,\n",
              "        178, 175, 174, 167, 166, 169, 169, 165, 169, 175,   6,   0,   0,\n",
              "          0,   0],\n",
              "       [  0,   0,   0,   0,  53, 189, 208, 219, 161, 176, 176, 175, 190,\n",
              "        181, 178, 172, 169, 165, 170, 169, 166, 167, 183,  26,   0,   0,\n",
              "          0,   0],\n",
              "       [  0,   0,   0,   0,  84, 194, 207, 216, 157, 176, 175, 176, 193,\n",
              "        183, 180, 172, 167, 167, 166, 170, 165, 167, 185,  61,   0,   0,\n",
              "          0,   0],\n",
              "       [  0,   0,   0,   0, 114, 193, 211, 207, 157, 175, 175, 176, 196,\n",
              "        183, 181, 172, 166, 166, 165, 170, 164, 169, 187,  88,   0,   0,\n",
              "          0,   0],\n",
              "       [  0,   0,   0,   0, 155, 192, 219, 194, 161, 172, 178, 176, 197,\n",
              "        185, 181, 169, 166, 165, 165, 171, 164, 171, 184, 108,   0,   0,\n",
              "          0,   0],\n",
              "       [  0,   0,   0,   0, 181, 192, 225, 185, 162, 172, 179, 176, 199,\n",
              "        185, 183, 169, 166, 164, 164, 172, 161, 170, 184, 135,   0,   0,\n",
              "          0,   0],\n",
              "       [  0,   0,   0,   0, 210, 189, 233, 180, 161, 171, 179, 179, 201,\n",
              "        185, 190, 166, 166, 164, 164, 176, 158, 171, 183, 155,   0,   0,\n",
              "          0,   0],\n",
              "       [  0,   0,   0,   0, 229, 184, 234, 176, 164, 169, 180, 183, 198,\n",
              "        185, 193, 166, 167, 164, 165, 179, 157, 176, 179, 174,   0,   0,\n",
              "          0,   0],\n",
              "       [  0,   0,   0,   2, 237, 183, 237, 171, 166, 167, 178, 188, 196,\n",
              "        187, 196, 164, 166, 165, 166, 179, 157, 178, 176, 185,   2,   0,\n",
              "          0,   0],\n",
              "       [  0,   0,   0,  24, 246, 184, 255, 172, 166, 169, 180, 192, 196,\n",
              "        189, 201, 161, 164, 165, 165, 181, 161, 181, 176, 189,  17,   0,\n",
              "          0,   0],\n",
              "       [  0,   0,   0,  52, 247, 187, 238, 166, 170, 170, 180, 198, 193,\n",
              "        189, 207, 160, 165, 165, 164, 180, 162, 187, 175, 192,  52,   0,\n",
              "          0,   0],\n",
              "       [  0,   0,   0,  82, 215, 192, 239, 158, 169, 174, 179, 207, 189,\n",
              "        187, 213, 160, 167, 166, 165, 181, 169, 190, 170, 192,  73,   0,\n",
              "          0,   0],\n",
              "       [  0,   0,   0, 102, 212, 201, 212, 166, 169, 171, 179, 217, 189,\n",
              "        187, 217, 157, 170, 167, 166, 178, 171, 196, 169, 171,  84,   0,\n",
              "          0,   0],\n",
              "       [  0,   0,   0, 166, 211, 213, 193, 164, 170, 170, 180, 226, 181,\n",
              "        187, 228, 157, 167, 167, 158, 188, 196, 128, 170, 179, 128,   0,\n",
              "          0,   0],\n",
              "       [  0,   0,   0,  35,  92, 129, 199, 184, 171, 179, 187, 246, 170,\n",
              "        189, 240, 156, 170, 174, 166, 190, 230, 139, 102, 139,  89,   0,\n",
              "          0,   0],\n",
              "       [  0,   0,   0,   0,   0,   0, 142, 213, 166, 151, 178, 235, 190,\n",
              "        162, 244, 179, 183, 160, 142, 164, 208, 125,   0,   0,   0,   0,\n",
              "          0,   0],\n",
              "       [  0,   0,   0,   0,   1,   2,   0,  96, 181, 179, 178, 178, 185,\n",
              "        160, 208, 171, 167, 167, 184, 174, 105,   0,   1,   2,   1,   0,\n",
              "          0,   0],\n",
              "       [  0,   0,   0,   0,   0,   0,   2,   0,   1,  52,  83,  98, 112,\n",
              "        134, 146, 105,  89,  73,  49,   0,   0,   0,   0,   0,   0,   0,\n",
              "          0,   0]], dtype=uint8)</pre></div><script>\n",
              "      (() => {\n",
              "      const titles = ['show data', 'hide data'];\n",
              "      let index = 0\n",
              "      document.querySelector('#id-7acecea5-a4df-46b7-8b64-9408705a4178 button').onclick = (e) => {\n",
              "        document.querySelector('#id-7acecea5-a4df-46b7-8b64-9408705a4178').classList.toggle('show_array');\n",
              "        index = (++index) % 2;\n",
              "        document.querySelector('#id-7acecea5-a4df-46b7-8b64-9408705a4178 button').textContent = titles[index];\n",
              "        e.preventDefault();\n",
              "        e.stopPropagation();\n",
              "      }\n",
              "      })();\n",
              "    </script>"
            ]
          },
          "metadata": {},
          "execution_count": 18
        }
      ]
    },
    {
      "cell_type": "code",
      "source": [
        "# 훈련 셋의 픽셀 값을 0 ~ 1 사이의 값으로 스케일링 -> 확률적 경사 하강법 성능을 높이기 위해서.\n",
        "train_data_scaled = train_data / 255.0"
      ],
      "metadata": {
        "id": "6q3nqMrVBAOK"
      },
      "execution_count": 19,
      "outputs": []
    },
    {
      "cell_type": "code",
      "source": [
        "train_data_scaled[0]"
      ],
      "metadata": {
        "colab": {
          "base_uri": "https://localhost:8080/"
        },
        "id": "x4vT4f6FB2vG",
        "outputId": "f1877459-d33e-49ec-9b2d-f028034ef85c"
      },
      "execution_count": 20,
      "outputs": [
        {
          "output_type": "execute_result",
          "data": {
            "text/plain": [
              "array([[0.        , 0.        , 0.        , 0.        , 0.00392157,\n",
              "        0.00392157, 0.        , 0.        , 0.        , 0.09803922,\n",
              "        0.21568627, 0.        , 0.        , 0.        , 0.        ,\n",
              "        0.        , 0.        , 0.16862745, 0.09411765, 0.        ,\n",
              "        0.        , 0.        , 0.00392157, 0.        , 0.        ,\n",
              "        0.        , 0.        , 0.        ],\n",
              "       [0.        , 0.        , 0.        , 0.00392157, 0.00392157,\n",
              "        0.00392157, 0.        , 0.09803922, 0.57647059, 0.74117647,\n",
              "        0.70980392, 0.37647059, 0.2       , 0.19215686, 0.21568627,\n",
              "        0.14509804, 0.29803922, 0.85098039, 0.6745098 , 0.49019608,\n",
              "        0.07843137, 0.        , 0.00784314, 0.00392157, 0.        ,\n",
              "        0.        , 0.        , 0.        ],\n",
              "       [0.        , 0.        , 0.        , 0.00392157, 0.01176471,\n",
              "        0.        , 0.32156863, 0.80784314, 0.79215686, 0.74509804,\n",
              "        0.69803922, 0.7372549 , 0.9372549 , 0.59607843, 0.38823529,\n",
              "        0.78039216, 0.78823529, 0.63529412, 0.69019608, 0.75294118,\n",
              "        0.7254902 , 0.27843137, 0.        , 0.00784314, 0.        ,\n",
              "        0.        , 0.        , 0.        ],\n",
              "       [0.        , 0.        , 0.        , 0.00392157, 0.        ,\n",
              "        0.        , 0.79215686, 0.76862745, 0.70980392, 0.7372549 ,\n",
              "        0.71764706, 0.6627451 , 0.70196078, 0.62745098, 0.41960784,\n",
              "        0.77647059, 0.65098039, 0.65490196, 0.69803922, 0.66666667,\n",
              "        0.71764706, 0.65098039, 0.        , 0.        , 0.00392157,\n",
              "        0.        , 0.        , 0.        ],\n",
              "       [0.        , 0.        , 0.        , 0.00392157, 0.        ,\n",
              "        0.18823529, 0.84705882, 0.72156863, 0.7254902 , 0.7254902 ,\n",
              "        0.74509804, 0.68627451, 0.64313725, 0.7372549 , 0.77647059,\n",
              "        0.7372549 , 0.61568627, 0.71764706, 0.69019608, 0.67058824,\n",
              "        0.65490196, 0.68627451, 0.10196078, 0.        , 0.00784314,\n",
              "        0.        , 0.        , 0.        ],\n",
              "       [0.        , 0.        , 0.        , 0.        , 0.        ,\n",
              "        0.35294118, 0.87843137, 0.71764706, 0.7254902 , 0.72156863,\n",
              "        0.71764706, 0.74509804, 0.64313725, 0.6627451 , 0.75686275,\n",
              "        0.61960784, 0.66666667, 0.68235294, 0.69019608, 0.68627451,\n",
              "        0.64705882, 0.70588235, 0.24313725, 0.        , 0.        ,\n",
              "        0.        , 0.        , 0.        ],\n",
              "       [0.        , 0.        , 0.        , 0.        , 0.        ,\n",
              "        0.48235294, 0.89411765, 0.72156863, 0.70588235, 0.71764706,\n",
              "        0.69803922, 0.71764706, 0.6745098 , 0.6745098 , 0.6745098 ,\n",
              "        0.63137255, 0.70196078, 0.66666667, 0.68235294, 0.68627451,\n",
              "        0.64705882, 0.70980392, 0.41568627, 0.        , 0.        ,\n",
              "        0.        , 0.        , 0.        ],\n",
              "       [0.        , 0.        , 0.        , 0.        , 0.        ,\n",
              "        0.61176471, 0.89803922, 0.7372549 , 0.68627451, 0.69803922,\n",
              "        0.68627451, 0.68627451, 0.74509804, 0.61568627, 0.61568627,\n",
              "        0.70588235, 0.6627451 , 0.6627451 , 0.6745098 , 0.67058824,\n",
              "        0.63137255, 0.70196078, 0.56078431, 0.        , 0.        ,\n",
              "        0.        , 0.        , 0.        ],\n",
              "       [0.        , 0.        , 0.        , 0.        , 0.        ,\n",
              "        0.70980392, 0.89411765, 0.74509804, 0.68235294, 0.68235294,\n",
              "        0.69019608, 0.68627451, 0.77254902, 0.65490196, 0.65490196,\n",
              "        0.71764706, 0.65098039, 0.6627451 , 0.67058824, 0.66666667,\n",
              "        0.63529412, 0.68627451, 0.6745098 , 0.        , 0.        ,\n",
              "        0.        , 0.        , 0.        ],\n",
              "       [0.        , 0.        , 0.        , 0.        , 0.02352941,\n",
              "        0.68627451, 0.86666667, 0.75294118, 0.66666667, 0.68235294,\n",
              "        0.69019608, 0.68627451, 0.75686275, 0.69019608, 0.6745098 ,\n",
              "        0.68627451, 0.65490196, 0.6627451 , 0.6627451 , 0.65490196,\n",
              "        0.62745098, 0.6627451 , 0.76862745, 0.        , 0.        ,\n",
              "        0.        , 0.        , 0.        ],\n",
              "       [0.        , 0.        , 0.        , 0.        , 0.09019608,\n",
              "        0.72156863, 0.84705882, 0.80784314, 0.64313725, 0.68627451,\n",
              "        0.69019608, 0.68627451, 0.75294118, 0.69803922, 0.68627451,\n",
              "        0.68235294, 0.65490196, 0.65098039, 0.6627451 , 0.6627451 ,\n",
              "        0.64705882, 0.6627451 , 0.68627451, 0.02352941, 0.        ,\n",
              "        0.        , 0.        , 0.        ],\n",
              "       [0.        , 0.        , 0.        , 0.        , 0.20784314,\n",
              "        0.74117647, 0.81568627, 0.85882353, 0.63137255, 0.69019608,\n",
              "        0.69019608, 0.68627451, 0.74509804, 0.70980392, 0.69803922,\n",
              "        0.6745098 , 0.6627451 , 0.64705882, 0.66666667, 0.6627451 ,\n",
              "        0.65098039, 0.65490196, 0.71764706, 0.10196078, 0.        ,\n",
              "        0.        , 0.        , 0.        ],\n",
              "       [0.        , 0.        , 0.        , 0.        , 0.32941176,\n",
              "        0.76078431, 0.81176471, 0.84705882, 0.61568627, 0.69019608,\n",
              "        0.68627451, 0.69019608, 0.75686275, 0.71764706, 0.70588235,\n",
              "        0.6745098 , 0.65490196, 0.65490196, 0.65098039, 0.66666667,\n",
              "        0.64705882, 0.65490196, 0.7254902 , 0.23921569, 0.        ,\n",
              "        0.        , 0.        , 0.        ],\n",
              "       [0.        , 0.        , 0.        , 0.        , 0.44705882,\n",
              "        0.75686275, 0.82745098, 0.81176471, 0.61568627, 0.68627451,\n",
              "        0.68627451, 0.69019608, 0.76862745, 0.71764706, 0.70980392,\n",
              "        0.6745098 , 0.65098039, 0.65098039, 0.64705882, 0.66666667,\n",
              "        0.64313725, 0.6627451 , 0.73333333, 0.34509804, 0.        ,\n",
              "        0.        , 0.        , 0.        ],\n",
              "       [0.        , 0.        , 0.        , 0.        , 0.60784314,\n",
              "        0.75294118, 0.85882353, 0.76078431, 0.63137255, 0.6745098 ,\n",
              "        0.69803922, 0.69019608, 0.77254902, 0.7254902 , 0.70980392,\n",
              "        0.6627451 , 0.65098039, 0.64705882, 0.64705882, 0.67058824,\n",
              "        0.64313725, 0.67058824, 0.72156863, 0.42352941, 0.        ,\n",
              "        0.        , 0.        , 0.        ],\n",
              "       [0.        , 0.        , 0.        , 0.        , 0.70980392,\n",
              "        0.75294118, 0.88235294, 0.7254902 , 0.63529412, 0.6745098 ,\n",
              "        0.70196078, 0.69019608, 0.78039216, 0.7254902 , 0.71764706,\n",
              "        0.6627451 , 0.65098039, 0.64313725, 0.64313725, 0.6745098 ,\n",
              "        0.63137255, 0.66666667, 0.72156863, 0.52941176, 0.        ,\n",
              "        0.        , 0.        , 0.        ],\n",
              "       [0.        , 0.        , 0.        , 0.        , 0.82352941,\n",
              "        0.74117647, 0.91372549, 0.70588235, 0.63137255, 0.67058824,\n",
              "        0.70196078, 0.70196078, 0.78823529, 0.7254902 , 0.74509804,\n",
              "        0.65098039, 0.65098039, 0.64313725, 0.64313725, 0.69019608,\n",
              "        0.61960784, 0.67058824, 0.71764706, 0.60784314, 0.        ,\n",
              "        0.        , 0.        , 0.        ],\n",
              "       [0.        , 0.        , 0.        , 0.        , 0.89803922,\n",
              "        0.72156863, 0.91764706, 0.69019608, 0.64313725, 0.6627451 ,\n",
              "        0.70588235, 0.71764706, 0.77647059, 0.7254902 , 0.75686275,\n",
              "        0.65098039, 0.65490196, 0.64313725, 0.64705882, 0.70196078,\n",
              "        0.61568627, 0.69019608, 0.70196078, 0.68235294, 0.        ,\n",
              "        0.        , 0.        , 0.        ],\n",
              "       [0.        , 0.        , 0.        , 0.00784314, 0.92941176,\n",
              "        0.71764706, 0.92941176, 0.67058824, 0.65098039, 0.65490196,\n",
              "        0.69803922, 0.7372549 , 0.76862745, 0.73333333, 0.76862745,\n",
              "        0.64313725, 0.65098039, 0.64705882, 0.65098039, 0.70196078,\n",
              "        0.61568627, 0.69803922, 0.69019608, 0.7254902 , 0.00784314,\n",
              "        0.        , 0.        , 0.        ],\n",
              "       [0.        , 0.        , 0.        , 0.09411765, 0.96470588,\n",
              "        0.72156863, 1.        , 0.6745098 , 0.65098039, 0.6627451 ,\n",
              "        0.70588235, 0.75294118, 0.76862745, 0.74117647, 0.78823529,\n",
              "        0.63137255, 0.64313725, 0.64705882, 0.64705882, 0.70980392,\n",
              "        0.63137255, 0.70980392, 0.69019608, 0.74117647, 0.06666667,\n",
              "        0.        , 0.        , 0.        ],\n",
              "       [0.        , 0.        , 0.        , 0.20392157, 0.96862745,\n",
              "        0.73333333, 0.93333333, 0.65098039, 0.66666667, 0.66666667,\n",
              "        0.70588235, 0.77647059, 0.75686275, 0.74117647, 0.81176471,\n",
              "        0.62745098, 0.64705882, 0.64705882, 0.64313725, 0.70588235,\n",
              "        0.63529412, 0.73333333, 0.68627451, 0.75294118, 0.20392157,\n",
              "        0.        , 0.        , 0.        ],\n",
              "       [0.        , 0.        , 0.        , 0.32156863, 0.84313725,\n",
              "        0.75294118, 0.9372549 , 0.61960784, 0.6627451 , 0.68235294,\n",
              "        0.70196078, 0.81176471, 0.74117647, 0.73333333, 0.83529412,\n",
              "        0.62745098, 0.65490196, 0.65098039, 0.64705882, 0.70980392,\n",
              "        0.6627451 , 0.74509804, 0.66666667, 0.75294118, 0.28627451,\n",
              "        0.        , 0.        , 0.        ],\n",
              "       [0.        , 0.        , 0.        , 0.4       , 0.83137255,\n",
              "        0.78823529, 0.83137255, 0.65098039, 0.6627451 , 0.67058824,\n",
              "        0.70196078, 0.85098039, 0.74117647, 0.73333333, 0.85098039,\n",
              "        0.61568627, 0.66666667, 0.65490196, 0.65098039, 0.69803922,\n",
              "        0.67058824, 0.76862745, 0.6627451 , 0.67058824, 0.32941176,\n",
              "        0.        , 0.        , 0.        ],\n",
              "       [0.        , 0.        , 0.        , 0.65098039, 0.82745098,\n",
              "        0.83529412, 0.75686275, 0.64313725, 0.66666667, 0.66666667,\n",
              "        0.70588235, 0.88627451, 0.70980392, 0.73333333, 0.89411765,\n",
              "        0.61568627, 0.65490196, 0.65490196, 0.61960784, 0.7372549 ,\n",
              "        0.76862745, 0.50196078, 0.66666667, 0.70196078, 0.50196078,\n",
              "        0.        , 0.        , 0.        ],\n",
              "       [0.        , 0.        , 0.        , 0.1372549 , 0.36078431,\n",
              "        0.50588235, 0.78039216, 0.72156863, 0.67058824, 0.70196078,\n",
              "        0.73333333, 0.96470588, 0.66666667, 0.74117647, 0.94117647,\n",
              "        0.61176471, 0.66666667, 0.68235294, 0.65098039, 0.74509804,\n",
              "        0.90196078, 0.54509804, 0.4       , 0.54509804, 0.34901961,\n",
              "        0.        , 0.        , 0.        ],\n",
              "       [0.        , 0.        , 0.        , 0.        , 0.        ,\n",
              "        0.        , 0.55686275, 0.83529412, 0.65098039, 0.59215686,\n",
              "        0.69803922, 0.92156863, 0.74509804, 0.63529412, 0.95686275,\n",
              "        0.70196078, 0.71764706, 0.62745098, 0.55686275, 0.64313725,\n",
              "        0.81568627, 0.49019608, 0.        , 0.        , 0.        ,\n",
              "        0.        , 0.        , 0.        ],\n",
              "       [0.        , 0.        , 0.        , 0.        , 0.00392157,\n",
              "        0.00784314, 0.        , 0.37647059, 0.70980392, 0.70196078,\n",
              "        0.69803922, 0.69803922, 0.7254902 , 0.62745098, 0.81568627,\n",
              "        0.67058824, 0.65490196, 0.65490196, 0.72156863, 0.68235294,\n",
              "        0.41176471, 0.        , 0.00392157, 0.00784314, 0.00392157,\n",
              "        0.        , 0.        , 0.        ],\n",
              "       [0.        , 0.        , 0.        , 0.        , 0.        ,\n",
              "        0.        , 0.00784314, 0.        , 0.00392157, 0.20392157,\n",
              "        0.3254902 , 0.38431373, 0.43921569, 0.5254902 , 0.57254902,\n",
              "        0.41176471, 0.34901961, 0.28627451, 0.19215686, 0.        ,\n",
              "        0.        , 0.        , 0.        , 0.        , 0.        ,\n",
              "        0.        , 0.        , 0.        ]])"
            ]
          },
          "metadata": {},
          "execution_count": 20
        }
      ]
    },
    {
      "cell_type": "code",
      "source": [
        "sgd = SGDClassifier(loss='log_loss', random_state=42, n_jobs=-1)"
      ],
      "metadata": {
        "id": "6VBj6VJrB402"
      },
      "execution_count": 21,
      "outputs": []
    },
    {
      "cell_type": "code",
      "source": [
        "sgd.fit(X=train_data_scaled.reshape((48_000, -1)), y=train_target)"
      ],
      "metadata": {
        "colab": {
          "base_uri": "https://localhost:8080/",
          "height": 80
        },
        "id": "Q8yBm5HECUAH",
        "outputId": "3fb21f2b-a210-41cb-885e-ef76c66e013d"
      },
      "execution_count": 22,
      "outputs": [
        {
          "output_type": "execute_result",
          "data": {
            "text/plain": [
              "SGDClassifier(loss='log_loss', n_jobs=-1, random_state=42)"
            ],
            "text/html": [
              "<style>#sk-container-id-1 {\n",
              "  /* Definition of color scheme common for light and dark mode */\n",
              "  --sklearn-color-text: #000;\n",
              "  --sklearn-color-text-muted: #666;\n",
              "  --sklearn-color-line: gray;\n",
              "  /* Definition of color scheme for unfitted estimators */\n",
              "  --sklearn-color-unfitted-level-0: #fff5e6;\n",
              "  --sklearn-color-unfitted-level-1: #f6e4d2;\n",
              "  --sklearn-color-unfitted-level-2: #ffe0b3;\n",
              "  --sklearn-color-unfitted-level-3: chocolate;\n",
              "  /* Definition of color scheme for fitted estimators */\n",
              "  --sklearn-color-fitted-level-0: #f0f8ff;\n",
              "  --sklearn-color-fitted-level-1: #d4ebff;\n",
              "  --sklearn-color-fitted-level-2: #b3dbfd;\n",
              "  --sklearn-color-fitted-level-3: cornflowerblue;\n",
              "\n",
              "  /* Specific color for light theme */\n",
              "  --sklearn-color-text-on-default-background: var(--sg-text-color, var(--theme-code-foreground, var(--jp-content-font-color1, black)));\n",
              "  --sklearn-color-background: var(--sg-background-color, var(--theme-background, var(--jp-layout-color0, white)));\n",
              "  --sklearn-color-border-box: var(--sg-text-color, var(--theme-code-foreground, var(--jp-content-font-color1, black)));\n",
              "  --sklearn-color-icon: #696969;\n",
              "\n",
              "  @media (prefers-color-scheme: dark) {\n",
              "    /* Redefinition of color scheme for dark theme */\n",
              "    --sklearn-color-text-on-default-background: var(--sg-text-color, var(--theme-code-foreground, var(--jp-content-font-color1, white)));\n",
              "    --sklearn-color-background: var(--sg-background-color, var(--theme-background, var(--jp-layout-color0, #111)));\n",
              "    --sklearn-color-border-box: var(--sg-text-color, var(--theme-code-foreground, var(--jp-content-font-color1, white)));\n",
              "    --sklearn-color-icon: #878787;\n",
              "  }\n",
              "}\n",
              "\n",
              "#sk-container-id-1 {\n",
              "  color: var(--sklearn-color-text);\n",
              "}\n",
              "\n",
              "#sk-container-id-1 pre {\n",
              "  padding: 0;\n",
              "}\n",
              "\n",
              "#sk-container-id-1 input.sk-hidden--visually {\n",
              "  border: 0;\n",
              "  clip: rect(1px 1px 1px 1px);\n",
              "  clip: rect(1px, 1px, 1px, 1px);\n",
              "  height: 1px;\n",
              "  margin: -1px;\n",
              "  overflow: hidden;\n",
              "  padding: 0;\n",
              "  position: absolute;\n",
              "  width: 1px;\n",
              "}\n",
              "\n",
              "#sk-container-id-1 div.sk-dashed-wrapped {\n",
              "  border: 1px dashed var(--sklearn-color-line);\n",
              "  margin: 0 0.4em 0.5em 0.4em;\n",
              "  box-sizing: border-box;\n",
              "  padding-bottom: 0.4em;\n",
              "  background-color: var(--sklearn-color-background);\n",
              "}\n",
              "\n",
              "#sk-container-id-1 div.sk-container {\n",
              "  /* jupyter's `normalize.less` sets `[hidden] { display: none; }`\n",
              "     but bootstrap.min.css set `[hidden] { display: none !important; }`\n",
              "     so we also need the `!important` here to be able to override the\n",
              "     default hidden behavior on the sphinx rendered scikit-learn.org.\n",
              "     See: https://github.com/scikit-learn/scikit-learn/issues/21755 */\n",
              "  display: inline-block !important;\n",
              "  position: relative;\n",
              "}\n",
              "\n",
              "#sk-container-id-1 div.sk-text-repr-fallback {\n",
              "  display: none;\n",
              "}\n",
              "\n",
              "div.sk-parallel-item,\n",
              "div.sk-serial,\n",
              "div.sk-item {\n",
              "  /* draw centered vertical line to link estimators */\n",
              "  background-image: linear-gradient(var(--sklearn-color-text-on-default-background), var(--sklearn-color-text-on-default-background));\n",
              "  background-size: 2px 100%;\n",
              "  background-repeat: no-repeat;\n",
              "  background-position: center center;\n",
              "}\n",
              "\n",
              "/* Parallel-specific style estimator block */\n",
              "\n",
              "#sk-container-id-1 div.sk-parallel-item::after {\n",
              "  content: \"\";\n",
              "  width: 100%;\n",
              "  border-bottom: 2px solid var(--sklearn-color-text-on-default-background);\n",
              "  flex-grow: 1;\n",
              "}\n",
              "\n",
              "#sk-container-id-1 div.sk-parallel {\n",
              "  display: flex;\n",
              "  align-items: stretch;\n",
              "  justify-content: center;\n",
              "  background-color: var(--sklearn-color-background);\n",
              "  position: relative;\n",
              "}\n",
              "\n",
              "#sk-container-id-1 div.sk-parallel-item {\n",
              "  display: flex;\n",
              "  flex-direction: column;\n",
              "}\n",
              "\n",
              "#sk-container-id-1 div.sk-parallel-item:first-child::after {\n",
              "  align-self: flex-end;\n",
              "  width: 50%;\n",
              "}\n",
              "\n",
              "#sk-container-id-1 div.sk-parallel-item:last-child::after {\n",
              "  align-self: flex-start;\n",
              "  width: 50%;\n",
              "}\n",
              "\n",
              "#sk-container-id-1 div.sk-parallel-item:only-child::after {\n",
              "  width: 0;\n",
              "}\n",
              "\n",
              "/* Serial-specific style estimator block */\n",
              "\n",
              "#sk-container-id-1 div.sk-serial {\n",
              "  display: flex;\n",
              "  flex-direction: column;\n",
              "  align-items: center;\n",
              "  background-color: var(--sklearn-color-background);\n",
              "  padding-right: 1em;\n",
              "  padding-left: 1em;\n",
              "}\n",
              "\n",
              "\n",
              "/* Toggleable style: style used for estimator/Pipeline/ColumnTransformer box that is\n",
              "clickable and can be expanded/collapsed.\n",
              "- Pipeline and ColumnTransformer use this feature and define the default style\n",
              "- Estimators will overwrite some part of the style using the `sk-estimator` class\n",
              "*/\n",
              "\n",
              "/* Pipeline and ColumnTransformer style (default) */\n",
              "\n",
              "#sk-container-id-1 div.sk-toggleable {\n",
              "  /* Default theme specific background. It is overwritten whether we have a\n",
              "  specific estimator or a Pipeline/ColumnTransformer */\n",
              "  background-color: var(--sklearn-color-background);\n",
              "}\n",
              "\n",
              "/* Toggleable label */\n",
              "#sk-container-id-1 label.sk-toggleable__label {\n",
              "  cursor: pointer;\n",
              "  display: flex;\n",
              "  width: 100%;\n",
              "  margin-bottom: 0;\n",
              "  padding: 0.5em;\n",
              "  box-sizing: border-box;\n",
              "  text-align: center;\n",
              "  align-items: start;\n",
              "  justify-content: space-between;\n",
              "  gap: 0.5em;\n",
              "}\n",
              "\n",
              "#sk-container-id-1 label.sk-toggleable__label .caption {\n",
              "  font-size: 0.6rem;\n",
              "  font-weight: lighter;\n",
              "  color: var(--sklearn-color-text-muted);\n",
              "}\n",
              "\n",
              "#sk-container-id-1 label.sk-toggleable__label-arrow:before {\n",
              "  /* Arrow on the left of the label */\n",
              "  content: \"▸\";\n",
              "  float: left;\n",
              "  margin-right: 0.25em;\n",
              "  color: var(--sklearn-color-icon);\n",
              "}\n",
              "\n",
              "#sk-container-id-1 label.sk-toggleable__label-arrow:hover:before {\n",
              "  color: var(--sklearn-color-text);\n",
              "}\n",
              "\n",
              "/* Toggleable content - dropdown */\n",
              "\n",
              "#sk-container-id-1 div.sk-toggleable__content {\n",
              "  max-height: 0;\n",
              "  max-width: 0;\n",
              "  overflow: hidden;\n",
              "  text-align: left;\n",
              "  /* unfitted */\n",
              "  background-color: var(--sklearn-color-unfitted-level-0);\n",
              "}\n",
              "\n",
              "#sk-container-id-1 div.sk-toggleable__content.fitted {\n",
              "  /* fitted */\n",
              "  background-color: var(--sklearn-color-fitted-level-0);\n",
              "}\n",
              "\n",
              "#sk-container-id-1 div.sk-toggleable__content pre {\n",
              "  margin: 0.2em;\n",
              "  border-radius: 0.25em;\n",
              "  color: var(--sklearn-color-text);\n",
              "  /* unfitted */\n",
              "  background-color: var(--sklearn-color-unfitted-level-0);\n",
              "}\n",
              "\n",
              "#sk-container-id-1 div.sk-toggleable__content.fitted pre {\n",
              "  /* unfitted */\n",
              "  background-color: var(--sklearn-color-fitted-level-0);\n",
              "}\n",
              "\n",
              "#sk-container-id-1 input.sk-toggleable__control:checked~div.sk-toggleable__content {\n",
              "  /* Expand drop-down */\n",
              "  max-height: 200px;\n",
              "  max-width: 100%;\n",
              "  overflow: auto;\n",
              "}\n",
              "\n",
              "#sk-container-id-1 input.sk-toggleable__control:checked~label.sk-toggleable__label-arrow:before {\n",
              "  content: \"▾\";\n",
              "}\n",
              "\n",
              "/* Pipeline/ColumnTransformer-specific style */\n",
              "\n",
              "#sk-container-id-1 div.sk-label input.sk-toggleable__control:checked~label.sk-toggleable__label {\n",
              "  color: var(--sklearn-color-text);\n",
              "  background-color: var(--sklearn-color-unfitted-level-2);\n",
              "}\n",
              "\n",
              "#sk-container-id-1 div.sk-label.fitted input.sk-toggleable__control:checked~label.sk-toggleable__label {\n",
              "  background-color: var(--sklearn-color-fitted-level-2);\n",
              "}\n",
              "\n",
              "/* Estimator-specific style */\n",
              "\n",
              "/* Colorize estimator box */\n",
              "#sk-container-id-1 div.sk-estimator input.sk-toggleable__control:checked~label.sk-toggleable__label {\n",
              "  /* unfitted */\n",
              "  background-color: var(--sklearn-color-unfitted-level-2);\n",
              "}\n",
              "\n",
              "#sk-container-id-1 div.sk-estimator.fitted input.sk-toggleable__control:checked~label.sk-toggleable__label {\n",
              "  /* fitted */\n",
              "  background-color: var(--sklearn-color-fitted-level-2);\n",
              "}\n",
              "\n",
              "#sk-container-id-1 div.sk-label label.sk-toggleable__label,\n",
              "#sk-container-id-1 div.sk-label label {\n",
              "  /* The background is the default theme color */\n",
              "  color: var(--sklearn-color-text-on-default-background);\n",
              "}\n",
              "\n",
              "/* On hover, darken the color of the background */\n",
              "#sk-container-id-1 div.sk-label:hover label.sk-toggleable__label {\n",
              "  color: var(--sklearn-color-text);\n",
              "  background-color: var(--sklearn-color-unfitted-level-2);\n",
              "}\n",
              "\n",
              "/* Label box, darken color on hover, fitted */\n",
              "#sk-container-id-1 div.sk-label.fitted:hover label.sk-toggleable__label.fitted {\n",
              "  color: var(--sklearn-color-text);\n",
              "  background-color: var(--sklearn-color-fitted-level-2);\n",
              "}\n",
              "\n",
              "/* Estimator label */\n",
              "\n",
              "#sk-container-id-1 div.sk-label label {\n",
              "  font-family: monospace;\n",
              "  font-weight: bold;\n",
              "  display: inline-block;\n",
              "  line-height: 1.2em;\n",
              "}\n",
              "\n",
              "#sk-container-id-1 div.sk-label-container {\n",
              "  text-align: center;\n",
              "}\n",
              "\n",
              "/* Estimator-specific */\n",
              "#sk-container-id-1 div.sk-estimator {\n",
              "  font-family: monospace;\n",
              "  border: 1px dotted var(--sklearn-color-border-box);\n",
              "  border-radius: 0.25em;\n",
              "  box-sizing: border-box;\n",
              "  margin-bottom: 0.5em;\n",
              "  /* unfitted */\n",
              "  background-color: var(--sklearn-color-unfitted-level-0);\n",
              "}\n",
              "\n",
              "#sk-container-id-1 div.sk-estimator.fitted {\n",
              "  /* fitted */\n",
              "  background-color: var(--sklearn-color-fitted-level-0);\n",
              "}\n",
              "\n",
              "/* on hover */\n",
              "#sk-container-id-1 div.sk-estimator:hover {\n",
              "  /* unfitted */\n",
              "  background-color: var(--sklearn-color-unfitted-level-2);\n",
              "}\n",
              "\n",
              "#sk-container-id-1 div.sk-estimator.fitted:hover {\n",
              "  /* fitted */\n",
              "  background-color: var(--sklearn-color-fitted-level-2);\n",
              "}\n",
              "\n",
              "/* Specification for estimator info (e.g. \"i\" and \"?\") */\n",
              "\n",
              "/* Common style for \"i\" and \"?\" */\n",
              "\n",
              ".sk-estimator-doc-link,\n",
              "a:link.sk-estimator-doc-link,\n",
              "a:visited.sk-estimator-doc-link {\n",
              "  float: right;\n",
              "  font-size: smaller;\n",
              "  line-height: 1em;\n",
              "  font-family: monospace;\n",
              "  background-color: var(--sklearn-color-background);\n",
              "  border-radius: 1em;\n",
              "  height: 1em;\n",
              "  width: 1em;\n",
              "  text-decoration: none !important;\n",
              "  margin-left: 0.5em;\n",
              "  text-align: center;\n",
              "  /* unfitted */\n",
              "  border: var(--sklearn-color-unfitted-level-1) 1pt solid;\n",
              "  color: var(--sklearn-color-unfitted-level-1);\n",
              "}\n",
              "\n",
              ".sk-estimator-doc-link.fitted,\n",
              "a:link.sk-estimator-doc-link.fitted,\n",
              "a:visited.sk-estimator-doc-link.fitted {\n",
              "  /* fitted */\n",
              "  border: var(--sklearn-color-fitted-level-1) 1pt solid;\n",
              "  color: var(--sklearn-color-fitted-level-1);\n",
              "}\n",
              "\n",
              "/* On hover */\n",
              "div.sk-estimator:hover .sk-estimator-doc-link:hover,\n",
              ".sk-estimator-doc-link:hover,\n",
              "div.sk-label-container:hover .sk-estimator-doc-link:hover,\n",
              ".sk-estimator-doc-link:hover {\n",
              "  /* unfitted */\n",
              "  background-color: var(--sklearn-color-unfitted-level-3);\n",
              "  color: var(--sklearn-color-background);\n",
              "  text-decoration: none;\n",
              "}\n",
              "\n",
              "div.sk-estimator.fitted:hover .sk-estimator-doc-link.fitted:hover,\n",
              ".sk-estimator-doc-link.fitted:hover,\n",
              "div.sk-label-container:hover .sk-estimator-doc-link.fitted:hover,\n",
              ".sk-estimator-doc-link.fitted:hover {\n",
              "  /* fitted */\n",
              "  background-color: var(--sklearn-color-fitted-level-3);\n",
              "  color: var(--sklearn-color-background);\n",
              "  text-decoration: none;\n",
              "}\n",
              "\n",
              "/* Span, style for the box shown on hovering the info icon */\n",
              ".sk-estimator-doc-link span {\n",
              "  display: none;\n",
              "  z-index: 9999;\n",
              "  position: relative;\n",
              "  font-weight: normal;\n",
              "  right: .2ex;\n",
              "  padding: .5ex;\n",
              "  margin: .5ex;\n",
              "  width: min-content;\n",
              "  min-width: 20ex;\n",
              "  max-width: 50ex;\n",
              "  color: var(--sklearn-color-text);\n",
              "  box-shadow: 2pt 2pt 4pt #999;\n",
              "  /* unfitted */\n",
              "  background: var(--sklearn-color-unfitted-level-0);\n",
              "  border: .5pt solid var(--sklearn-color-unfitted-level-3);\n",
              "}\n",
              "\n",
              ".sk-estimator-doc-link.fitted span {\n",
              "  /* fitted */\n",
              "  background: var(--sklearn-color-fitted-level-0);\n",
              "  border: var(--sklearn-color-fitted-level-3);\n",
              "}\n",
              "\n",
              ".sk-estimator-doc-link:hover span {\n",
              "  display: block;\n",
              "}\n",
              "\n",
              "/* \"?\"-specific style due to the `<a>` HTML tag */\n",
              "\n",
              "#sk-container-id-1 a.estimator_doc_link {\n",
              "  float: right;\n",
              "  font-size: 1rem;\n",
              "  line-height: 1em;\n",
              "  font-family: monospace;\n",
              "  background-color: var(--sklearn-color-background);\n",
              "  border-radius: 1rem;\n",
              "  height: 1rem;\n",
              "  width: 1rem;\n",
              "  text-decoration: none;\n",
              "  /* unfitted */\n",
              "  color: var(--sklearn-color-unfitted-level-1);\n",
              "  border: var(--sklearn-color-unfitted-level-1) 1pt solid;\n",
              "}\n",
              "\n",
              "#sk-container-id-1 a.estimator_doc_link.fitted {\n",
              "  /* fitted */\n",
              "  border: var(--sklearn-color-fitted-level-1) 1pt solid;\n",
              "  color: var(--sklearn-color-fitted-level-1);\n",
              "}\n",
              "\n",
              "/* On hover */\n",
              "#sk-container-id-1 a.estimator_doc_link:hover {\n",
              "  /* unfitted */\n",
              "  background-color: var(--sklearn-color-unfitted-level-3);\n",
              "  color: var(--sklearn-color-background);\n",
              "  text-decoration: none;\n",
              "}\n",
              "\n",
              "#sk-container-id-1 a.estimator_doc_link.fitted:hover {\n",
              "  /* fitted */\n",
              "  background-color: var(--sklearn-color-fitted-level-3);\n",
              "}\n",
              "</style><div id=\"sk-container-id-1\" class=\"sk-top-container\"><div class=\"sk-text-repr-fallback\"><pre>SGDClassifier(loss=&#x27;log_loss&#x27;, n_jobs=-1, random_state=42)</pre><b>In a Jupyter environment, please rerun this cell to show the HTML representation or trust the notebook. <br />On GitHub, the HTML representation is unable to render, please try loading this page with nbviewer.org.</b></div><div class=\"sk-container\" hidden><div class=\"sk-item\"><div class=\"sk-estimator fitted sk-toggleable\"><input class=\"sk-toggleable__control sk-hidden--visually\" id=\"sk-estimator-id-1\" type=\"checkbox\" checked><label for=\"sk-estimator-id-1\" class=\"sk-toggleable__label fitted sk-toggleable__label-arrow\"><div><div>SGDClassifier</div></div><div><a class=\"sk-estimator-doc-link fitted\" rel=\"noreferrer\" target=\"_blank\" href=\"https://scikit-learn.org/1.6/modules/generated/sklearn.linear_model.SGDClassifier.html\">?<span>Documentation for SGDClassifier</span></a><span class=\"sk-estimator-doc-link fitted\">i<span>Fitted</span></span></div></label><div class=\"sk-toggleable__content fitted\"><pre>SGDClassifier(loss=&#x27;log_loss&#x27;, n_jobs=-1, random_state=42)</pre></div> </div></div></div></div>"
            ]
          },
          "metadata": {},
          "execution_count": 22
        }
      ]
    },
    {
      "cell_type": "code",
      "source": [
        "sgd.intercept_  #> shape: (10,)"
      ],
      "metadata": {
        "colab": {
          "base_uri": "https://localhost:8080/"
        },
        "id": "R-DJFzyqCarm",
        "outputId": "4450fa96-013a-4010-f2f8-8e8c2ac98584"
      },
      "execution_count": 23,
      "outputs": [
        {
          "output_type": "execute_result",
          "data": {
            "text/plain": [
              "array([ -1.54024535,  -4.97085256,  -2.45411884,  -1.5496291 ,\n",
              "        -4.94592029,   3.66151889,  -1.47955462,  -1.90241534,\n",
              "        -4.40078057, -25.19876253])"
            ]
          },
          "metadata": {},
          "execution_count": 23
        }
      ]
    },
    {
      "cell_type": "code",
      "source": [
        "sgd.coef_.shape  #> (10, 784)"
      ],
      "metadata": {
        "colab": {
          "base_uri": "https://localhost:8080/"
        },
        "id": "WjGHotpHC91m",
        "outputId": "71d2f714-95eb-40f9-ee42-a5c492078bf4"
      },
      "execution_count": 24,
      "outputs": [
        {
          "output_type": "execute_result",
          "data": {
            "text/plain": [
              "(10, 784)"
            ]
          },
          "metadata": {},
          "execution_count": 24
        }
      ]
    },
    {
      "cell_type": "code",
      "source": [
        "predict_probas = sgd.predict_proba(X=train_data_scaled.reshape((48_000, -1)))"
      ],
      "metadata": {
        "id": "CpBtSErcDLnN"
      },
      "execution_count": 25,
      "outputs": []
    },
    {
      "cell_type": "code",
      "source": [
        "predict_probas.shape  #> (48_000, 10)"
      ],
      "metadata": {
        "colab": {
          "base_uri": "https://localhost:8080/"
        },
        "id": "7iWLJvoEDr8G",
        "outputId": "a8bf7de9-316d-4230-cd43-a49f92bed305"
      },
      "execution_count": 26,
      "outputs": [
        {
          "output_type": "execute_result",
          "data": {
            "text/plain": [
              "(48000, 10)"
            ]
          },
          "metadata": {},
          "execution_count": 26
        }
      ]
    },
    {
      "cell_type": "code",
      "source": [
        "predict_probas[:5]"
      ],
      "metadata": {
        "colab": {
          "base_uri": "https://localhost:8080/"
        },
        "id": "rYurEy_nD6f1",
        "outputId": "5c783445-7137-4aab-b9c8-f4dd60a7307a"
      },
      "execution_count": 27,
      "outputs": [
        {
          "output_type": "execute_result",
          "data": {
            "text/plain": [
              "array([[1.20888251e-02, 1.05549631e-05, 2.30094285e-01, 3.41231387e-03,\n",
              "        4.86284532e-02, 3.96063160e-10, 6.91742929e-01, 1.54454383e-17,\n",
              "        1.40226378e-02, 1.05805064e-16],\n",
              "       [7.53889861e-01, 1.20438290e-04, 4.89841116e-05, 2.88644150e-04,\n",
              "        7.52168267e-02, 4.15812599e-17, 1.69806662e-01, 2.22627871e-15,\n",
              "        6.28584469e-04, 3.41774283e-15],\n",
              "       [2.89450403e-03, 2.51542365e-04, 1.32250305e-04, 9.78121334e-01,\n",
              "        2.43557068e-04, 8.15414752e-12, 1.83430550e-02, 1.32044303e-06,\n",
              "        1.24368179e-05, 1.15226778e-10],\n",
              "       [1.87927047e-02, 1.53865511e-02, 4.75084700e-03, 9.59873842e-01,\n",
              "        2.15421676e-04, 2.30937550e-07, 4.85837345e-04, 7.79498173e-08,\n",
              "        4.94463323e-04, 2.39574997e-08],\n",
              "       [9.71611164e-01, 8.55700455e-07, 2.35430174e-03, 2.77866962e-07,\n",
              "        7.27359445e-06, 2.50343665e-19, 2.58251753e-02, 6.13245802e-16,\n",
              "        2.00951140e-04, 2.02813751e-10]])"
            ]
          },
          "metadata": {},
          "execution_count": 27
        }
      ]
    },
    {
      "cell_type": "code",
      "source": [
        "predicts = sgd.predict(X=train_data_scaled.reshape((48_000, -1)))"
      ],
      "metadata": {
        "id": "d5Huoi0IECCc"
      },
      "execution_count": 28,
      "outputs": []
    },
    {
      "cell_type": "code",
      "source": [
        "predicts.shape  #> (48_000,)"
      ],
      "metadata": {
        "colab": {
          "base_uri": "https://localhost:8080/"
        },
        "id": "mOiPzLmtEdg8",
        "outputId": "4de96fcc-fb9b-4241-cdff-83ef3570a9ed"
      },
      "execution_count": 29,
      "outputs": [
        {
          "output_type": "execute_result",
          "data": {
            "text/plain": [
              "(48000,)"
            ]
          },
          "metadata": {},
          "execution_count": 29
        }
      ]
    },
    {
      "cell_type": "code",
      "source": [
        "predicts[:5]"
      ],
      "metadata": {
        "colab": {
          "base_uri": "https://localhost:8080/"
        },
        "id": "RwFo7k0HEhNL",
        "outputId": "39db2445-c898-4add-81bc-73d14acac1b6"
      },
      "execution_count": 30,
      "outputs": [
        {
          "output_type": "execute_result",
          "data": {
            "text/plain": [
              "array([6, 0, 3, 3, 0], dtype=uint8)"
            ]
          },
          "metadata": {},
          "execution_count": 30
        }
      ]
    },
    {
      "cell_type": "code",
      "source": [
        "accuracy_score(train_target, predicts)  # 훈련 셋 정확도"
      ],
      "metadata": {
        "colab": {
          "base_uri": "https://localhost:8080/"
        },
        "id": "RD9C7cUTEo_8",
        "outputId": "70887722-869b-439f-c246-8380c3eb96ce"
      },
      "execution_count": 31,
      "outputs": [
        {
          "output_type": "execute_result",
          "data": {
            "text/plain": [
              "0.8518125"
            ]
          },
          "metadata": {},
          "execution_count": 31
        }
      ]
    },
    {
      "cell_type": "code",
      "source": [
        "# 검증 셋의 모든 픽셀을 0 ~ 1 사이로 스케일링\n",
        "val_data_scaled = val_data / 255.0\n",
        "# 검증 셋의 예측값\n",
        "val_predicts = sgd.predict(X=val_data_scaled.reshape((12_000, -1)))\n",
        "# 검증 셋의 정확도\n",
        "accuracy_score(y_true=val_target, y_pred=val_predicts)"
      ],
      "metadata": {
        "colab": {
          "base_uri": "https://localhost:8080/"
        },
        "id": "K22sIcO8FGnF",
        "outputId": "36c9dae2-4a2e-4a8a-d6f8-cfe34b8bf70b"
      },
      "execution_count": 32,
      "outputs": [
        {
          "output_type": "execute_result",
          "data": {
            "text/plain": [
              "0.8468333333333333"
            ]
          },
          "metadata": {},
          "execution_count": 32
        }
      ]
    },
    {
      "cell_type": "markdown",
      "source": [
        "# 신경망\n",
        "\n",
        "Keras 라이브러리를 사용해서 입력층과 출력층만 갖는 신경망을 만들고 테스트하세요."
      ],
      "metadata": {
        "id": "xScq6GZ6LFXA"
      }
    },
    {
      "cell_type": "code",
      "source": [
        "tr_data_scaled_flat = train_data_scaled.reshape((48_000, -1))  #> shape: (48_000, 784)\n",
        "val_data_scaled_flat = val_data_scaled.reshape((12_000, -1))   #> shape: (12_000, 784)"
      ],
      "metadata": {
        "id": "rCurUi-VFfvm"
      },
      "execution_count": 33,
      "outputs": []
    },
    {
      "cell_type": "code",
      "source": [
        "print(tr_data_scaled_flat.shape)\n",
        "print(val_data_scaled_flat.shape)"
      ],
      "metadata": {
        "colab": {
          "base_uri": "https://localhost:8080/"
        },
        "id": "CYGRA39fL5rh",
        "outputId": "02b0f266-14a1-4795-bdc6-2746dd536233"
      },
      "execution_count": 34,
      "outputs": [
        {
          "output_type": "stream",
          "name": "stdout",
          "text": [
            "(48000, 784)\n",
            "(12000, 784)\n"
          ]
        }
      ]
    },
    {
      "cell_type": "code",
      "source": [
        "inputs = keras.layers.Input(shape=(784,))  # 입력층"
      ],
      "metadata": {
        "id": "MzSxfFbcNLUf"
      },
      "execution_count": 35,
      "outputs": []
    },
    {
      "cell_type": "code",
      "source": [
        "dense = keras.layers.Dense(units=10, activation='softmax')  # 출력층"
      ],
      "metadata": {
        "id": "j-ON1Gq1NT8X"
      },
      "execution_count": 36,
      "outputs": []
    },
    {
      "cell_type": "code",
      "source": [
        "model = keras.Sequential(layers=[inputs, dense])  # 완전 연결 신경망"
      ],
      "metadata": {
        "id": "atSJY1qwNbxX"
      },
      "execution_count": 37,
      "outputs": []
    },
    {
      "cell_type": "code",
      "source": [
        "model.summary()\n",
        "#> 모델 파라미터 개수 = (784 weight * 10 output) + 10 bias =  7,850"
      ],
      "metadata": {
        "colab": {
          "base_uri": "https://localhost:8080/",
          "height": 164
        },
        "id": "OwPKRNqnNkP3",
        "outputId": "bb6c7748-f5a4-41f1-b63b-9db014601348"
      },
      "execution_count": 38,
      "outputs": [
        {
          "output_type": "display_data",
          "data": {
            "text/plain": [
              "\u001b[1mModel: \"sequential\"\u001b[0m\n"
            ],
            "text/html": [
              "<pre style=\"white-space:pre;overflow-x:auto;line-height:normal;font-family:Menlo,'DejaVu Sans Mono',consolas,'Courier New',monospace\"><span style=\"font-weight: bold\">Model: \"sequential\"</span>\n",
              "</pre>\n"
            ]
          },
          "metadata": {}
        },
        {
          "output_type": "display_data",
          "data": {
            "text/plain": [
              "┏━━━━━━━━━━━━━━━━━━━━━━━━━━━━━━━━━┳━━━━━━━━━━━━━━━━━━━━━━━━┳━━━━━━━━━━━━━━━┓\n",
              "┃\u001b[1m \u001b[0m\u001b[1mLayer (type)                   \u001b[0m\u001b[1m \u001b[0m┃\u001b[1m \u001b[0m\u001b[1mOutput Shape          \u001b[0m\u001b[1m \u001b[0m┃\u001b[1m \u001b[0m\u001b[1m      Param #\u001b[0m\u001b[1m \u001b[0m┃\n",
              "┡━━━━━━━━━━━━━━━━━━━━━━━━━━━━━━━━━╇━━━━━━━━━━━━━━━━━━━━━━━━╇━━━━━━━━━━━━━━━┩\n",
              "│ dense (\u001b[38;5;33mDense\u001b[0m)                   │ (\u001b[38;5;45mNone\u001b[0m, \u001b[38;5;34m10\u001b[0m)             │         \u001b[38;5;34m7,850\u001b[0m │\n",
              "└─────────────────────────────────┴────────────────────────┴───────────────┘\n"
            ],
            "text/html": [
              "<pre style=\"white-space:pre;overflow-x:auto;line-height:normal;font-family:Menlo,'DejaVu Sans Mono',consolas,'Courier New',monospace\">┏━━━━━━━━━━━━━━━━━━━━━━━━━━━━━━━━━┳━━━━━━━━━━━━━━━━━━━━━━━━┳━━━━━━━━━━━━━━━┓\n",
              "┃<span style=\"font-weight: bold\"> Layer (type)                    </span>┃<span style=\"font-weight: bold\"> Output Shape           </span>┃<span style=\"font-weight: bold\">       Param # </span>┃\n",
              "┡━━━━━━━━━━━━━━━━━━━━━━━━━━━━━━━━━╇━━━━━━━━━━━━━━━━━━━━━━━━╇━━━━━━━━━━━━━━━┩\n",
              "│ dense (<span style=\"color: #0087ff; text-decoration-color: #0087ff\">Dense</span>)                   │ (<span style=\"color: #00d7ff; text-decoration-color: #00d7ff\">None</span>, <span style=\"color: #00af00; text-decoration-color: #00af00\">10</span>)             │         <span style=\"color: #00af00; text-decoration-color: #00af00\">7,850</span> │\n",
              "└─────────────────────────────────┴────────────────────────┴───────────────┘\n",
              "</pre>\n"
            ]
          },
          "metadata": {}
        },
        {
          "output_type": "display_data",
          "data": {
            "text/plain": [
              "\u001b[1m Total params: \u001b[0m\u001b[38;5;34m7,850\u001b[0m (30.66 KB)\n"
            ],
            "text/html": [
              "<pre style=\"white-space:pre;overflow-x:auto;line-height:normal;font-family:Menlo,'DejaVu Sans Mono',consolas,'Courier New',monospace\"><span style=\"font-weight: bold\"> Total params: </span><span style=\"color: #00af00; text-decoration-color: #00af00\">7,850</span> (30.66 KB)\n",
              "</pre>\n"
            ]
          },
          "metadata": {}
        },
        {
          "output_type": "display_data",
          "data": {
            "text/plain": [
              "\u001b[1m Trainable params: \u001b[0m\u001b[38;5;34m7,850\u001b[0m (30.66 KB)\n"
            ],
            "text/html": [
              "<pre style=\"white-space:pre;overflow-x:auto;line-height:normal;font-family:Menlo,'DejaVu Sans Mono',consolas,'Courier New',monospace\"><span style=\"font-weight: bold\"> Trainable params: </span><span style=\"color: #00af00; text-decoration-color: #00af00\">7,850</span> (30.66 KB)\n",
              "</pre>\n"
            ]
          },
          "metadata": {}
        },
        {
          "output_type": "display_data",
          "data": {
            "text/plain": [
              "\u001b[1m Non-trainable params: \u001b[0m\u001b[38;5;34m0\u001b[0m (0.00 B)\n"
            ],
            "text/html": [
              "<pre style=\"white-space:pre;overflow-x:auto;line-height:normal;font-family:Menlo,'DejaVu Sans Mono',consolas,'Courier New',monospace\"><span style=\"font-weight: bold\"> Non-trainable params: </span><span style=\"color: #00af00; text-decoration-color: #00af00\">0</span> (0.00 B)\n",
              "</pre>\n"
            ]
          },
          "metadata": {}
        }
      ]
    },
    {
      "cell_type": "code",
      "source": [
        "model.compile(loss=keras.losses.sparse_categorical_crossentropy,\n",
        "              metrics=[keras.metrics.sparse_categorical_accuracy])"
      ],
      "metadata": {
        "id": "W7-KEaDmNodu"
      },
      "execution_count": 39,
      "outputs": []
    },
    {
      "cell_type": "code",
      "source": [
        "model.fit(x=tr_data_scaled_flat, y=train_target, epochs=5, verbose=0)"
      ],
      "metadata": {
        "colab": {
          "base_uri": "https://localhost:8080/"
        },
        "id": "E8XZiDo6OPi2",
        "outputId": "d058f606-7144-4cfc-db8e-63cf6429ad7b"
      },
      "execution_count": 40,
      "outputs": [
        {
          "output_type": "execute_result",
          "data": {
            "text/plain": [
              "<keras.src.callbacks.history.History at 0x79bdd7521220>"
            ]
          },
          "metadata": {},
          "execution_count": 40
        }
      ]
    },
    {
      "cell_type": "code",
      "source": [
        "predicts = model.predict(x=tr_data_scaled_flat)\n",
        "#> 48,000개 이미지의 각 레이블이 될 확률을 리턴."
      ],
      "metadata": {
        "colab": {
          "base_uri": "https://localhost:8080/"
        },
        "id": "uRtTt1QWOZzP",
        "outputId": "914ff70f-d026-43e6-af9f-c1aee641440f"
      },
      "execution_count": 41,
      "outputs": [
        {
          "output_type": "stream",
          "name": "stdout",
          "text": [
            "\u001b[1m1500/1500\u001b[0m \u001b[32m━━━━━━━━━━━━━━━━━━━━\u001b[0m\u001b[37m\u001b[0m \u001b[1m2s\u001b[0m 1ms/step\n"
          ]
        }
      ]
    },
    {
      "cell_type": "code",
      "source": [
        "predicts.shape  #> (48_000 이미지 샘플, 10개 확률)"
      ],
      "metadata": {
        "colab": {
          "base_uri": "https://localhost:8080/"
        },
        "id": "d4qt8NDTeEll",
        "outputId": "0d06af8c-9aaa-455f-82bc-d06f8fcfe5a7"
      },
      "execution_count": 42,
      "outputs": [
        {
          "output_type": "execute_result",
          "data": {
            "text/plain": [
              "(48000, 10)"
            ]
          },
          "metadata": {},
          "execution_count": 42
        }
      ]
    },
    {
      "cell_type": "code",
      "source": [
        "print(predicts[:2])"
      ],
      "metadata": {
        "colab": {
          "base_uri": "https://localhost:8080/"
        },
        "id": "ZukJDkTReNfE",
        "outputId": "13cea812-b69b-4a9e-e070-4ab187fbc903"
      },
      "execution_count": 43,
      "outputs": [
        {
          "output_type": "stream",
          "name": "stdout",
          "text": [
            "[[2.0210706e-03 5.5428477e-06 1.7118891e-01 1.9857106e-03 1.4575626e-02\n",
            "  5.1999480e-13 8.0856556e-01 9.6430185e-18 1.6575607e-03 2.8003875e-17]\n",
            " [3.4879133e-01 1.3056449e-06 2.6109763e-03 2.7953240e-03 6.1424249e-03\n",
            "  4.7743637e-20 6.3943279e-01 5.5901341e-18 2.2582790e-04 3.2394957e-18]]\n"
          ]
        }
      ]
    },
    {
      "cell_type": "code",
      "source": [
        "tr_pred_labels = predicts.argmax(axis=1)\n",
        "# argmax(): 최댓값의 인덱스를 리턴. 10개의 확률들 중 최댓값의 인덱스가 예측 레이블이 됨."
      ],
      "metadata": {
        "id": "lBZ_uYLOeidz"
      },
      "execution_count": 44,
      "outputs": []
    },
    {
      "cell_type": "code",
      "source": [
        "tr_pred_labels.shape"
      ],
      "metadata": {
        "colab": {
          "base_uri": "https://localhost:8080/"
        },
        "id": "8S5C25u4fsjc",
        "outputId": "e194bce1-f047-4476-afe9-038de5be4b1d"
      },
      "execution_count": 45,
      "outputs": [
        {
          "output_type": "execute_result",
          "data": {
            "text/plain": [
              "(48000,)"
            ]
          },
          "metadata": {},
          "execution_count": 45
        }
      ]
    },
    {
      "cell_type": "code",
      "source": [
        "tr_pred_labels[:2]"
      ],
      "metadata": {
        "colab": {
          "base_uri": "https://localhost:8080/"
        },
        "id": "HvxxPRyyfuBL",
        "outputId": "f1bc1874-bcfa-4878-dc28-dbcee6cfedf3"
      },
      "execution_count": 46,
      "outputs": [
        {
          "output_type": "execute_result",
          "data": {
            "text/plain": [
              "array([6, 6])"
            ]
          },
          "metadata": {},
          "execution_count": 46
        }
      ]
    },
    {
      "cell_type": "code",
      "source": [
        "accuracy_score(y_true=train_target, y_pred=tr_pred_labels)"
      ],
      "metadata": {
        "colab": {
          "base_uri": "https://localhost:8080/"
        },
        "id": "cwTV5AptfxfL",
        "outputId": "8539a4f2-3888-47e2-90f6-6bd443493300"
      },
      "execution_count": 47,
      "outputs": [
        {
          "output_type": "execute_result",
          "data": {
            "text/plain": [
              "0.8568958333333333"
            ]
          },
          "metadata": {},
          "execution_count": 47
        }
      ]
    },
    {
      "cell_type": "code",
      "source": [
        "# 훈련 셋 평가 - model의 evaluate 메서드를 사용할 수도 있음.\n",
        "model.evaluate(x=tr_data_scaled_flat, y=train_target, verbose=0)\n",
        "#> [loss(손실), accuracy(정확도)]"
      ],
      "metadata": {
        "colab": {
          "base_uri": "https://localhost:8080/"
        },
        "id": "1Up8KsljgK_c",
        "outputId": "df986e1a-821e-4449-d421-7256f4f8fc8d"
      },
      "execution_count": 48,
      "outputs": [
        {
          "output_type": "execute_result",
          "data": {
            "text/plain": [
              "[0.42131567001342773, 0.8568958044052124]"
            ]
          },
          "metadata": {},
          "execution_count": 48
        }
      ]
    },
    {
      "cell_type": "code",
      "source": [
        "# 검증 셋 평가\n",
        "model.evaluate(x=val_data_scaled_flat, y=val_target, verbose=0)"
      ],
      "metadata": {
        "colab": {
          "base_uri": "https://localhost:8080/"
        },
        "id": "tqxv_u85g4nL",
        "outputId": "2b59c94e-a7fc-4977-a451-ad9efed9b899"
      },
      "execution_count": 49,
      "outputs": [
        {
          "output_type": "execute_result",
          "data": {
            "text/plain": [
              "[0.4233429729938507, 0.8565833568572998]"
            ]
          },
          "metadata": {},
          "execution_count": 49
        }
      ]
    },
    {
      "cell_type": "markdown",
      "source": [
        "# 활성화 함수(Activation Function)\n",
        "\n",
        "*   활성화 함수: 신경망의 각 층(layer)에서 출력을 내보내는 함수.\n",
        "*   신경망의 은닉층(hidden layer)에서 선형함수를 사용하면 여러 개의 층을 연결하는 효과가 없고, 단일 층을 사용하는 것과 같아짐.\n",
        "*   은닉층에서는 비선형 함수를 활성화 함수로 사용."
      ],
      "metadata": {
        "id": "YyGKDtRfSvRR"
      }
    },
    {
      "cell_type": "markdown",
      "source": [
        "## Sigmoid\n",
        "\n",
        "$\n",
        "\\text{sigmoid}(x) = \\dfrac{1}{1 + \\exp(-x)}\n",
        "$"
      ],
      "metadata": {
        "id": "TUMY37dPS84B"
      }
    },
    {
      "cell_type": "code",
      "source": [
        "xvals = np.arange(-5, 5, 0.0001)"
      ],
      "metadata": {
        "id": "Gp1x0AyXSy88"
      },
      "execution_count": 50,
      "outputs": []
    },
    {
      "cell_type": "code",
      "source": [
        "def sigmoid(x):\n",
        "    return 1 / (1 + np.exp(-x))"
      ],
      "metadata": {
        "id": "0vdqmLexTg2D"
      },
      "execution_count": 51,
      "outputs": []
    },
    {
      "cell_type": "code",
      "source": [
        "yvals = sigmoid(xvals)"
      ],
      "metadata": {
        "id": "yBrCl4g7Tsdy"
      },
      "execution_count": 52,
      "outputs": []
    },
    {
      "cell_type": "code",
      "source": [
        "plt.figure(figsize=(8, 4))\n",
        "plt.plot(xvals, yvals)\n",
        "plt.grid()\n",
        "plt.show()"
      ],
      "metadata": {
        "colab": {
          "base_uri": "https://localhost:8080/",
          "height": 368
        },
        "id": "RJoKrKGjTySB",
        "outputId": "e9b1618b-fb7d-4a0d-dc41-60b3568d5b62"
      },
      "execution_count": 53,
      "outputs": [
        {
          "output_type": "display_data",
          "data": {
            "text/plain": [
              "<Figure size 800x400 with 1 Axes>"
            ],
            "image/png": "[encoded data removed]"
          },
          "metadata": {}
        }
      ]
    },
    {
      "cell_type": "markdown",
      "source": [
        "## Hyperbolic tangent"
      ],
      "metadata": {
        "id": "TxZ3f4SqWUPv"
      }
    },
    {
      "cell_type": "code",
      "source": [
        "def plot_activation_fn(fn):\n",
        "    xvals = np.arange(-5, 5, 0.0001)\n",
        "    yvals = fn(xvals)\n",
        "    plt.figure(figsize=(8, 4))\n",
        "    plt.plot(xvals, yvals)\n",
        "    plt.grid()\n",
        "    plt.show()"
      ],
      "metadata": {
        "id": "WG20dvqUXYKe"
      },
      "execution_count": 54,
      "outputs": []
    },
    {
      "cell_type": "code",
      "source": [
        "plot_activation_fn(np.tanh)"
      ],
      "metadata": {
        "colab": {
          "base_uri": "https://localhost:8080/",
          "height": 368
        },
        "id": "Ur77l41XT_R5",
        "outputId": "cf74cf80-dd72-4e12-9a4a-2d3889ef4f34"
      },
      "execution_count": 55,
      "outputs": [
        {
          "output_type": "display_data",
          "data": {
            "text/plain": [
              "<Figure size 800x400 with 1 Axes>"
            ],
            "image/png": "[encoded data removed]"
          },
          "metadata": {}
        }
      ]
    },
    {
      "cell_type": "markdown",
      "source": [
        "## ReLU(Rectified Linear Unit)\n",
        "\n",
        "*   입력값이 양수이면 마치 활성화 함수가 없는 것처럼 입력값 그대로 출력으로 내보냄.\n",
        "*   입력값이 음수이면 출력값을 0으로 만듦.\n",
        "*   이미지 처리를 할 때 좋은 성능을 낸다고 알려져 있음.\n",
        "\n",
        "$\n",
        "\\text{ReLU}(x) =\n",
        "\\begin{cases}\n",
        "    x & \\text{for } x \\ge 0 \\\\\n",
        "    0 & \\text{for } x \\lt 0\n",
        "\\end{cases}\n",
        "$"
      ],
      "metadata": {
        "id": "4pz2Fxlyc9Kj"
      }
    },
    {
      "cell_type": "code",
      "source": [
        "def relu(x):\n",
        "    return np.maximum(x, 0)"
      ],
      "metadata": {
        "id": "4M6pUxYvWnpX"
      },
      "execution_count": 56,
      "outputs": []
    },
    {
      "cell_type": "code",
      "source": [
        "plot_activation_fn(relu)"
      ],
      "metadata": {
        "colab": {
          "base_uri": "https://localhost:8080/",
          "height": 368
        },
        "id": "KU6mKyDSe29S",
        "outputId": "b57a39db-f8d9-4aee-fe10-b79596a96b8a"
      },
      "execution_count": 57,
      "outputs": [
        {
          "output_type": "display_data",
          "data": {
            "text/plain": [
              "<Figure size 800x400 with 1 Axes>"
            ],
            "image/png": "[encoded data removed]"
          },
          "metadata": {}
        }
      ]
    },
    {
      "cell_type": "markdown",
      "source": [
        "## Leaky ReLU\n",
        "\n",
        "$\n",
        "\\text{LeakyReLU}(x, \\alpha) =\n",
        "\\begin{cases}\n",
        "    x & \\text{for } x \\ge 0 \\\\\n",
        "    \\alpha x & \\text{for } x \\lt 0\n",
        "\\end{cases}\n",
        "$"
      ],
      "metadata": {
        "id": "7xl_MBqofbOx"
      }
    },
    {
      "cell_type": "code",
      "source": [
        "def leaky_relu(x, alpha=0.1):\n",
        "    # 0 <= alpha <= 1\n",
        "    return np.maximum(x, alpha * x)"
      ],
      "metadata": {
        "id": "RwAA_Z_ne5fZ"
      },
      "execution_count": 58,
      "outputs": []
    },
    {
      "cell_type": "code",
      "source": [
        "plot_activation_fn(leaky_relu)"
      ],
      "metadata": {
        "colab": {
          "base_uri": "https://localhost:8080/",
          "height": 368
        },
        "id": "EQrxB1z5gMpi",
        "outputId": "07ffd71d-857b-457a-f354-0680d6b72c45"
      },
      "execution_count": 59,
      "outputs": [
        {
          "output_type": "display_data",
          "data": {
            "text/plain": [
              "<Figure size 800x400 with 1 Axes>"
            ],
            "image/png": "[encoded data removed]"
          },
          "metadata": {}
        }
      ]
    },
    {
      "cell_type": "markdown",
      "source": [
        "## ELU(Exponential Linear Unit)\n",
        "\n",
        "$\n",
        "\\text{ELU}(x, \\alpha) =\n",
        "\\begin{cases}\n",
        "    x & \\text{for } x \\ge 0 \\\\\n",
        "    \\alpha (\\exp(x) - 1) & \\text{for } x \\lt 0\n",
        "\\end{cases}\n",
        "$"
      ],
      "metadata": {
        "id": "f6MVHjTihoiA"
      }
    },
    {
      "cell_type": "code",
      "source": [
        "def elu(arr, alpha=1):\n",
        "    # 0 <= alpha\n",
        "    result = []\n",
        "    for x in arr:\n",
        "        if x >= 0:\n",
        "            result.append(x)\n",
        "        else:\n",
        "            result.append(alpha * (np.exp(x) - 1))\n",
        "    return np.array(result)"
      ],
      "metadata": {
        "id": "fwdnljeTgYhQ"
      },
      "execution_count": 60,
      "outputs": []
    },
    {
      "cell_type": "code",
      "source": [
        "def elu(x, alpha=1):\n",
        "    return np.where(x >= 0, x, alpha * (np.exp(x) - 1))"
      ],
      "metadata": {
        "id": "VEW_ag6omvLv"
      },
      "execution_count": 61,
      "outputs": []
    },
    {
      "cell_type": "code",
      "source": [
        "plot_activation_fn(elu)"
      ],
      "metadata": {
        "colab": {
          "base_uri": "https://localhost:8080/",
          "height": 368
        },
        "id": "QC8LavM1jTu5",
        "outputId": "da9aceaf-a6c2-4f97-f0fc-53b95904e6c9"
      },
      "execution_count": 62,
      "outputs": [
        {
          "output_type": "display_data",
          "data": {
            "text/plain": [
              "<Figure size 800x400 with 1 Axes>"
            ],
            "image/png": "[encoded data removed]"
          },
          "metadata": {}
        }
      ]
    },
    {
      "cell_type": "markdown",
      "source": [
        "은닉층에서의 활성화 함수 선택: ELU > LeakyReLU > ReLU > tanh > sigmoid"
      ],
      "metadata": {
        "id": "eBnQB11rlQpe"
      }
    },
    {
      "cell_type": "markdown",
      "source": [
        "## ReLU를 활성화 함수로 사용하는 은닉층"
      ],
      "metadata": {
        "id": "5T3nIT6Qq-1a"
      }
    },
    {
      "cell_type": "code",
      "source": [
        "model = keras.Sequential()"
      ],
      "metadata": {
        "id": "b_YhAE02jVjX"
      },
      "execution_count": 63,
      "outputs": []
    },
    {
      "cell_type": "code",
      "source": [
        "model.add(keras.Input(shape=(28, 28)))  # 입력층"
      ],
      "metadata": {
        "id": "UKrppRdorSdM"
      },
      "execution_count": 64,
      "outputs": []
    },
    {
      "cell_type": "code",
      "source": [
        "model.add(keras.layers.Flatten())  # (28, 28) shape의 배열을 (784,) shape으로 변환"
      ],
      "metadata": {
        "id": "9ojVlw1fr8qC"
      },
      "execution_count": 65,
      "outputs": []
    },
    {
      "cell_type": "code",
      "source": [
        "# 100개 unit을 갖는, ReLU를 활성화 함수로 사용하는 은닉층을 추가\n",
        "model.add(keras.layers.Dense(units=100, activation='relu'))"
      ],
      "metadata": {
        "id": "hTQFTtowsR8y"
      },
      "execution_count": 66,
      "outputs": []
    },
    {
      "cell_type": "code",
      "source": [
        "# 출력층 - 다중 클래스 분류. 10개의 unit을 갖고 softmax를 활성화 함수로 사용하는 층.\n",
        "model.add(keras.layers.Dense(units=10, activation='softmax'))"
      ],
      "metadata": {
        "id": "49bNJWgwsoRh"
      },
      "execution_count": 67,
      "outputs": []
    },
    {
      "cell_type": "code",
      "source": [
        "model.summary()"
      ],
      "metadata": {
        "colab": {
          "base_uri": "https://localhost:8080/",
          "height": 230
        },
        "id": "sNskVWLNtiVK",
        "outputId": "a87ad868-53b0-485b-e8d9-f2daf9ddfd77"
      },
      "execution_count": 68,
      "outputs": [
        {
          "output_type": "display_data",
          "data": {
            "text/plain": [
              "\u001b[1mModel: \"sequential_1\"\u001b[0m\n"
            ],
            "text/html": [
              "<pre style=\"white-space:pre;overflow-x:auto;line-height:normal;font-family:Menlo,'DejaVu Sans Mono',consolas,'Courier New',monospace\"><span style=\"font-weight: bold\">Model: \"sequential_1\"</span>\n",
              "</pre>\n"
            ]
          },
          "metadata": {}
        },
        {
          "output_type": "display_data",
          "data": {
            "text/plain": [
              "┏━━━━━━━━━━━━━━━━━━━━━━━━━━━━━━━━━┳━━━━━━━━━━━━━━━━━━━━━━━━┳━━━━━━━━━━━━━━━┓\n",
              "┃\u001b[1m \u001b[0m\u001b[1mLayer (type)                   \u001b[0m\u001b[1m \u001b[0m┃\u001b[1m \u001b[0m\u001b[1mOutput Shape          \u001b[0m\u001b[1m \u001b[0m┃\u001b[1m \u001b[0m\u001b[1m      Param #\u001b[0m\u001b[1m \u001b[0m┃\n",
              "┡━━━━━━━━━━━━━━━━━━━━━━━━━━━━━━━━━╇━━━━━━━━━━━━━━━━━━━━━━━━╇━━━━━━━━━━━━━━━┩\n",
              "│ flatten (\u001b[38;5;33mFlatten\u001b[0m)               │ (\u001b[38;5;45mNone\u001b[0m, \u001b[38;5;34m784\u001b[0m)            │             \u001b[38;5;34m0\u001b[0m │\n",
              "├─────────────────────────────────┼────────────────────────┼───────────────┤\n",
              "│ dense_1 (\u001b[38;5;33mDense\u001b[0m)                 │ (\u001b[38;5;45mNone\u001b[0m, \u001b[38;5;34m100\u001b[0m)            │        \u001b[38;5;34m78,500\u001b[0m │\n",
              "├─────────────────────────────────┼────────────────────────┼───────────────┤\n",
              "│ dense_2 (\u001b[38;5;33mDense\u001b[0m)                 │ (\u001b[38;5;45mNone\u001b[0m, \u001b[38;5;34m10\u001b[0m)             │         \u001b[38;5;34m1,010\u001b[0m │\n",
              "└─────────────────────────────────┴────────────────────────┴───────────────┘\n"
            ],
            "text/html": [
              "<pre style=\"white-space:pre;overflow-x:auto;line-height:normal;font-family:Menlo,'DejaVu Sans Mono',consolas,'Courier New',monospace\">┏━━━━━━━━━━━━━━━━━━━━━━━━━━━━━━━━━┳━━━━━━━━━━━━━━━━━━━━━━━━┳━━━━━━━━━━━━━━━┓\n",
              "┃<span style=\"font-weight: bold\"> Layer (type)                    </span>┃<span style=\"font-weight: bold\"> Output Shape           </span>┃<span style=\"font-weight: bold\">       Param # </span>┃\n",
              "┡━━━━━━━━━━━━━━━━━━━━━━━━━━━━━━━━━╇━━━━━━━━━━━━━━━━━━━━━━━━╇━━━━━━━━━━━━━━━┩\n",
              "│ flatten (<span style=\"color: #0087ff; text-decoration-color: #0087ff\">Flatten</span>)               │ (<span style=\"color: #00d7ff; text-decoration-color: #00d7ff\">None</span>, <span style=\"color: #00af00; text-decoration-color: #00af00\">784</span>)            │             <span style=\"color: #00af00; text-decoration-color: #00af00\">0</span> │\n",
              "├─────────────────────────────────┼────────────────────────┼───────────────┤\n",
              "│ dense_1 (<span style=\"color: #0087ff; text-decoration-color: #0087ff\">Dense</span>)                 │ (<span style=\"color: #00d7ff; text-decoration-color: #00d7ff\">None</span>, <span style=\"color: #00af00; text-decoration-color: #00af00\">100</span>)            │        <span style=\"color: #00af00; text-decoration-color: #00af00\">78,500</span> │\n",
              "├─────────────────────────────────┼────────────────────────┼───────────────┤\n",
              "│ dense_2 (<span style=\"color: #0087ff; text-decoration-color: #0087ff\">Dense</span>)                 │ (<span style=\"color: #00d7ff; text-decoration-color: #00d7ff\">None</span>, <span style=\"color: #00af00; text-decoration-color: #00af00\">10</span>)             │         <span style=\"color: #00af00; text-decoration-color: #00af00\">1,010</span> │\n",
              "└─────────────────────────────────┴────────────────────────┴───────────────┘\n",
              "</pre>\n"
            ]
          },
          "metadata": {}
        },
        {
          "output_type": "display_data",
          "data": {
            "text/plain": [
              "\u001b[1m Total params: \u001b[0m\u001b[38;5;34m79,510\u001b[0m (310.59 KB)\n"
            ],
            "text/html": [
              "<pre style=\"white-space:pre;overflow-x:auto;line-height:normal;font-family:Menlo,'DejaVu Sans Mono',consolas,'Courier New',monospace\"><span style=\"font-weight: bold\"> Total params: </span><span style=\"color: #00af00; text-decoration-color: #00af00\">79,510</span> (310.59 KB)\n",
              "</pre>\n"
            ]
          },
          "metadata": {}
        },
        {
          "output_type": "display_data",
          "data": {
            "text/plain": [
              "\u001b[1m Trainable params: \u001b[0m\u001b[38;5;34m79,510\u001b[0m (310.59 KB)\n"
            ],
            "text/html": [
              "<pre style=\"white-space:pre;overflow-x:auto;line-height:normal;font-family:Menlo,'DejaVu Sans Mono',consolas,'Courier New',monospace\"><span style=\"font-weight: bold\"> Trainable params: </span><span style=\"color: #00af00; text-decoration-color: #00af00\">79,510</span> (310.59 KB)\n",
              "</pre>\n"
            ]
          },
          "metadata": {}
        },
        {
          "output_type": "display_data",
          "data": {
            "text/plain": [
              "\u001b[1m Non-trainable params: \u001b[0m\u001b[38;5;34m0\u001b[0m (0.00 B)\n"
            ],
            "text/html": [
              "<pre style=\"white-space:pre;overflow-x:auto;line-height:normal;font-family:Menlo,'DejaVu Sans Mono',consolas,'Courier New',monospace\"><span style=\"font-weight: bold\"> Non-trainable params: </span><span style=\"color: #00af00; text-decoration-color: #00af00\">0</span> (0.00 B)\n",
              "</pre>\n"
            ]
          },
          "metadata": {}
        }
      ]
    },
    {
      "cell_type": "code",
      "source": [
        "# 모델 컴파일\n",
        "model.compile(loss=keras.losses.sparse_categorical_crossentropy,\n",
        "              metrics=[keras.metrics.sparse_categorical_accuracy])"
      ],
      "metadata": {
        "id": "826s0QjhtStI"
      },
      "execution_count": 69,
      "outputs": []
    },
    {
      "cell_type": "code",
      "source": [
        "# 모델 훈련\n",
        "model.fit(x=train_data_scaled, y=train_target, epochs=5)"
      ],
      "metadata": {
        "colab": {
          "base_uri": "https://localhost:8080/"
        },
        "id": "iNekUn3Wuat5",
        "outputId": "cd749d98-b584-45f8-daa8-6ffd915f02a8"
      },
      "execution_count": 70,
      "outputs": [
        {
          "output_type": "stream",
          "name": "stdout",
          "text": [
            "Epoch 1/5\n",
            "\u001b[1m1500/1500\u001b[0m \u001b[32m━━━━━━━━━━━━━━━━━━━━\u001b[0m\u001b[37m\u001b[0m \u001b[1m5s\u001b[0m 2ms/step - loss: 0.6674 - sparse_categorical_accuracy: 0.7667\n",
            "Epoch 2/5\n",
            "\u001b[1m1500/1500\u001b[0m \u001b[32m━━━━━━━━━━━━━━━━━━━━\u001b[0m\u001b[37m\u001b[0m \u001b[1m4s\u001b[0m 2ms/step - loss: 0.4059 - sparse_categorical_accuracy: 0.8533\n",
            "Epoch 3/5\n",
            "\u001b[1m1500/1500\u001b[0m \u001b[32m━━━━━━━━━━━━━━━━━━━━\u001b[0m\u001b[37m\u001b[0m \u001b[1m3s\u001b[0m 2ms/step - loss: 0.3596 - sparse_categorical_accuracy: 0.8681\n",
            "Epoch 4/5\n",
            "\u001b[1m1500/1500\u001b[0m \u001b[32m━━━━━━━━━━━━━━━━━━━━\u001b[0m\u001b[37m\u001b[0m \u001b[1m6s\u001b[0m 3ms/step - loss: 0.3321 - sparse_categorical_accuracy: 0.8772\n",
            "Epoch 5/5\n",
            "\u001b[1m1500/1500\u001b[0m \u001b[32m━━━━━━━━━━━━━━━━━━━━\u001b[0m\u001b[37m\u001b[0m \u001b[1m4s\u001b[0m 2ms/step - loss: 0.3154 - sparse_categorical_accuracy: 0.8862\n"
          ]
        },
        {
          "output_type": "execute_result",
          "data": {
            "text/plain": [
              "<keras.src.callbacks.history.History at 0x79bde819c110>"
            ]
          },
          "metadata": {},
          "execution_count": 70
        }
      ]
    },
    {
      "cell_type": "code",
      "source": [
        "# 모델 평가 - 훈련 셋의 손실/정확도\n",
        "model.evaluate(x=train_data_scaled, y=train_target)"
      ],
      "metadata": {
        "colab": {
          "base_uri": "https://localhost:8080/"
        },
        "id": "UGp0qvCYu0Rh",
        "outputId": "40ed74a4-a5f3-4e01-a78e-c21db18032b6"
      },
      "execution_count": 71,
      "outputs": [
        {
          "output_type": "stream",
          "name": "stdout",
          "text": [
            "\u001b[1m1500/1500\u001b[0m \u001b[32m━━━━━━━━━━━━━━━━━━━━\u001b[0m\u001b[37m\u001b[0m \u001b[1m4s\u001b[0m 2ms/step - loss: 0.2777 - sparse_categorical_accuracy: 0.8992\n"
          ]
        },
        {
          "output_type": "execute_result",
          "data": {
            "text/plain": [
              "[0.28193235397338867, 0.8992708325386047]"
            ]
          },
          "metadata": {},
          "execution_count": 71
        }
      ]
    },
    {
      "cell_type": "code",
      "source": [
        "# 모델 평가 - 검증 셋의 손실/정확도\n",
        "model.evaluate(x=val_data_scaled, y=val_target)"
      ],
      "metadata": {
        "colab": {
          "base_uri": "https://localhost:8080/"
        },
        "id": "PrUWdt4Zvrw4",
        "outputId": "0f4eee5d-02bb-44e0-c394-0ac54f42f268"
      },
      "execution_count": 72,
      "outputs": [
        {
          "output_type": "stream",
          "name": "stdout",
          "text": [
            "\u001b[1m375/375\u001b[0m \u001b[32m━━━━━━━━━━━━━━━━━━━━\u001b[0m\u001b[37m\u001b[0m \u001b[1m1s\u001b[0m 3ms/step - loss: 0.3334 - sparse_categorical_accuracy: 0.8801\n"
          ]
        },
        {
          "output_type": "execute_result",
          "data": {
            "text/plain": [
              "[0.3279176950454712, 0.8840000033378601]"
            ]
          },
          "metadata": {},
          "execution_count": 72
        }
      ]
    },
    {
      "cell_type": "markdown",
      "source": [
        "## ELU를 활성화 함수로 사용하는 은닉층"
      ],
      "metadata": {
        "id": "2-TUqJmpwGx-"
      }
    },
    {
      "cell_type": "code",
      "source": [
        "model = keras.Sequential()\n",
        "model.add(keras.Input(shape=(28, 28)))  # 입력층\n",
        "model.add(keras.layers.Flatten())  # Flatten layer: 2차원 입력 배열 -> 1차원 배열\n",
        "model.add(keras.layers.Dense(units=100, activation='elu'))  # 은닉층(hidden layer)\n",
        "model.add(keras.layers.Dense(units=10, activation='softmax'))  # 출력층"
      ],
      "metadata": {
        "id": "3vlxpcY6v243"
      },
      "execution_count": 73,
      "outputs": []
    },
    {
      "cell_type": "code",
      "source": [
        "model.summary()"
      ],
      "metadata": {
        "colab": {
          "base_uri": "https://localhost:8080/",
          "height": 230
        },
        "id": "SEVUBhWaFWNb",
        "outputId": "07cb07a8-a236-4cba-f6cd-fabadc82b419"
      },
      "execution_count": 74,
      "outputs": [
        {
          "output_type": "display_data",
          "data": {
            "text/plain": [
              "\u001b[1mModel: \"sequential_2\"\u001b[0m\n"
            ],
            "text/html": [
              "<pre style=\"white-space:pre;overflow-x:auto;line-height:normal;font-family:Menlo,'DejaVu Sans Mono',consolas,'Courier New',monospace\"><span style=\"font-weight: bold\">Model: \"sequential_2\"</span>\n",
              "</pre>\n"
            ]
          },
          "metadata": {}
        },
        {
          "output_type": "display_data",
          "data": {
            "text/plain": [
              "┏━━━━━━━━━━━━━━━━━━━━━━━━━━━━━━━━━┳━━━━━━━━━━━━━━━━━━━━━━━━┳━━━━━━━━━━━━━━━┓\n",
              "┃\u001b[1m \u001b[0m\u001b[1mLayer (type)                   \u001b[0m\u001b[1m \u001b[0m┃\u001b[1m \u001b[0m\u001b[1mOutput Shape          \u001b[0m\u001b[1m \u001b[0m┃\u001b[1m \u001b[0m\u001b[1m      Param #\u001b[0m\u001b[1m \u001b[0m┃\n",
              "┡━━━━━━━━━━━━━━━━━━━━━━━━━━━━━━━━━╇━━━━━━━━━━━━━━━━━━━━━━━━╇━━━━━━━━━━━━━━━┩\n",
              "│ flatten_1 (\u001b[38;5;33mFlatten\u001b[0m)             │ (\u001b[38;5;45mNone\u001b[0m, \u001b[38;5;34m784\u001b[0m)            │             \u001b[38;5;34m0\u001b[0m │\n",
              "├─────────────────────────────────┼────────────────────────┼───────────────┤\n",
              "│ dense_3 (\u001b[38;5;33mDense\u001b[0m)                 │ (\u001b[38;5;45mNone\u001b[0m, \u001b[38;5;34m100\u001b[0m)            │        \u001b[38;5;34m78,500\u001b[0m │\n",
              "├─────────────────────────────────┼────────────────────────┼───────────────┤\n",
              "│ dense_4 (\u001b[38;5;33mDense\u001b[0m)                 │ (\u001b[38;5;45mNone\u001b[0m, \u001b[38;5;34m10\u001b[0m)             │         \u001b[38;5;34m1,010\u001b[0m │\n",
              "└─────────────────────────────────┴────────────────────────┴───────────────┘\n"
            ],
            "text/html": [
              "<pre style=\"white-space:pre;overflow-x:auto;line-height:normal;font-family:Menlo,'DejaVu Sans Mono',consolas,'Courier New',monospace\">┏━━━━━━━━━━━━━━━━━━━━━━━━━━━━━━━━━┳━━━━━━━━━━━━━━━━━━━━━━━━┳━━━━━━━━━━━━━━━┓\n",
              "┃<span style=\"font-weight: bold\"> Layer (type)                    </span>┃<span style=\"font-weight: bold\"> Output Shape           </span>┃<span style=\"font-weight: bold\">       Param # </span>┃\n",
              "┡━━━━━━━━━━━━━━━━━━━━━━━━━━━━━━━━━╇━━━━━━━━━━━━━━━━━━━━━━━━╇━━━━━━━━━━━━━━━┩\n",
              "│ flatten_1 (<span style=\"color: #0087ff; text-decoration-color: #0087ff\">Flatten</span>)             │ (<span style=\"color: #00d7ff; text-decoration-color: #00d7ff\">None</span>, <span style=\"color: #00af00; text-decoration-color: #00af00\">784</span>)            │             <span style=\"color: #00af00; text-decoration-color: #00af00\">0</span> │\n",
              "├─────────────────────────────────┼────────────────────────┼───────────────┤\n",
              "│ dense_3 (<span style=\"color: #0087ff; text-decoration-color: #0087ff\">Dense</span>)                 │ (<span style=\"color: #00d7ff; text-decoration-color: #00d7ff\">None</span>, <span style=\"color: #00af00; text-decoration-color: #00af00\">100</span>)            │        <span style=\"color: #00af00; text-decoration-color: #00af00\">78,500</span> │\n",
              "├─────────────────────────────────┼────────────────────────┼───────────────┤\n",
              "│ dense_4 (<span style=\"color: #0087ff; text-decoration-color: #0087ff\">Dense</span>)                 │ (<span style=\"color: #00d7ff; text-decoration-color: #00d7ff\">None</span>, <span style=\"color: #00af00; text-decoration-color: #00af00\">10</span>)             │         <span style=\"color: #00af00; text-decoration-color: #00af00\">1,010</span> │\n",
              "└─────────────────────────────────┴────────────────────────┴───────────────┘\n",
              "</pre>\n"
            ]
          },
          "metadata": {}
        },
        {
          "output_type": "display_data",
          "data": {
            "text/plain": [
              "\u001b[1m Total params: \u001b[0m\u001b[38;5;34m79,510\u001b[0m (310.59 KB)\n"
            ],
            "text/html": [
              "<pre style=\"white-space:pre;overflow-x:auto;line-height:normal;font-family:Menlo,'DejaVu Sans Mono',consolas,'Courier New',monospace\"><span style=\"font-weight: bold\"> Total params: </span><span style=\"color: #00af00; text-decoration-color: #00af00\">79,510</span> (310.59 KB)\n",
              "</pre>\n"
            ]
          },
          "metadata": {}
        },
        {
          "output_type": "display_data",
          "data": {
            "text/plain": [
              "\u001b[1m Trainable params: \u001b[0m\u001b[38;5;34m79,510\u001b[0m (310.59 KB)\n"
            ],
            "text/html": [
              "<pre style=\"white-space:pre;overflow-x:auto;line-height:normal;font-family:Menlo,'DejaVu Sans Mono',consolas,'Courier New',monospace\"><span style=\"font-weight: bold\"> Trainable params: </span><span style=\"color: #00af00; text-decoration-color: #00af00\">79,510</span> (310.59 KB)\n",
              "</pre>\n"
            ]
          },
          "metadata": {}
        },
        {
          "output_type": "display_data",
          "data": {
            "text/plain": [
              "\u001b[1m Non-trainable params: \u001b[0m\u001b[38;5;34m0\u001b[0m (0.00 B)\n"
            ],
            "text/html": [
              "<pre style=\"white-space:pre;overflow-x:auto;line-height:normal;font-family:Menlo,'DejaVu Sans Mono',consolas,'Courier New',monospace\"><span style=\"font-weight: bold\"> Non-trainable params: </span><span style=\"color: #00af00; text-decoration-color: #00af00\">0</span> (0.00 B)\n",
              "</pre>\n"
            ]
          },
          "metadata": {}
        }
      ]
    },
    {
      "cell_type": "code",
      "source": [
        "model.compile(loss=keras.losses.sparse_categorical_crossentropy,\n",
        "              metrics=[keras.metrics.sparse_categorical_accuracy])"
      ],
      "metadata": {
        "id": "QpS8lmntFYbx"
      },
      "execution_count": 75,
      "outputs": []
    },
    {
      "cell_type": "code",
      "source": [
        "model.fit(x=train_data_scaled, y=train_target, epochs=5)"
      ],
      "metadata": {
        "colab": {
          "base_uri": "https://localhost:8080/"
        },
        "id": "AUkGCKAuF605",
        "outputId": "fb01ecb5-bcd6-4155-fcd3-8c4a34a45326"
      },
      "execution_count": 76,
      "outputs": [
        {
          "output_type": "stream",
          "name": "stdout",
          "text": [
            "Epoch 1/5\n",
            "\u001b[1m1500/1500\u001b[0m \u001b[32m━━━━━━━━━━━━━━━━━━━━\u001b[0m\u001b[37m\u001b[0m \u001b[1m4s\u001b[0m 2ms/step - loss: 0.6699 - sparse_categorical_accuracy: 0.7652\n",
            "Epoch 2/5\n",
            "\u001b[1m1500/1500\u001b[0m \u001b[32m━━━━━━━━━━━━━━━━━━━━\u001b[0m\u001b[37m\u001b[0m \u001b[1m3s\u001b[0m 2ms/step - loss: 0.4109 - sparse_categorical_accuracy: 0.8533\n",
            "Epoch 3/5\n",
            "\u001b[1m1500/1500\u001b[0m \u001b[32m━━━━━━━━━━━━━━━━━━━━\u001b[0m\u001b[37m\u001b[0m \u001b[1m4s\u001b[0m 2ms/step - loss: 0.3677 - sparse_categorical_accuracy: 0.8660\n",
            "Epoch 4/5\n",
            "\u001b[1m1500/1500\u001b[0m \u001b[32m━━━━━━━━━━━━━━━━━━━━\u001b[0m\u001b[37m\u001b[0m \u001b[1m5s\u001b[0m 2ms/step - loss: 0.3386 - sparse_categorical_accuracy: 0.8800\n",
            "Epoch 5/5\n",
            "\u001b[1m1500/1500\u001b[0m \u001b[32m━━━━━━━━━━━━━━━━━━━━\u001b[0m\u001b[37m\u001b[0m \u001b[1m5s\u001b[0m 2ms/step - loss: 0.3166 - sparse_categorical_accuracy: 0.8857\n"
          ]
        },
        {
          "output_type": "execute_result",
          "data": {
            "text/plain": [
              "<keras.src.callbacks.history.History at 0x79bde8225e20>"
            ]
          },
          "metadata": {},
          "execution_count": 76
        }
      ]
    },
    {
      "cell_type": "code",
      "source": [
        "model.evaluate(x=train_data_scaled, y= train_target)"
      ],
      "metadata": {
        "colab": {
          "base_uri": "https://localhost:8080/"
        },
        "id": "tG5XRBrfGC8h",
        "outputId": "021cbaca-b0d2-4e47-d7b8-be07ea9544eb"
      },
      "execution_count": 77,
      "outputs": [
        {
          "output_type": "stream",
          "name": "stdout",
          "text": [
            "\u001b[1m1500/1500\u001b[0m \u001b[32m━━━━━━━━━━━━━━━━━━━━\u001b[0m\u001b[37m\u001b[0m \u001b[1m4s\u001b[0m 2ms/step - loss: 0.3086 - sparse_categorical_accuracy: 0.8853\n"
          ]
        },
        {
          "output_type": "execute_result",
          "data": {
            "text/plain": [
              "[0.31055739521980286, 0.8852291703224182]"
            ]
          },
          "metadata": {},
          "execution_count": 77
        }
      ]
    },
    {
      "cell_type": "code",
      "source": [
        "model.evaluate(x=val_data_scaled, y=val_target)"
      ],
      "metadata": {
        "colab": {
          "base_uri": "https://localhost:8080/"
        },
        "id": "X2OPlp-LGWPK",
        "outputId": "5aca0496-2220-4dad-c009-f269f9e5abb1"
      },
      "execution_count": 78,
      "outputs": [
        {
          "output_type": "stream",
          "name": "stdout",
          "text": [
            "\u001b[1m375/375\u001b[0m \u001b[32m━━━━━━━━━━━━━━━━━━━━\u001b[0m\u001b[37m\u001b[0m \u001b[1m1s\u001b[0m 2ms/step - loss: 0.3414 - sparse_categorical_accuracy: 0.8718\n"
          ]
        },
        {
          "output_type": "execute_result",
          "data": {
            "text/plain": [
              "[0.34286966919898987, 0.8765000104904175]"
            ]
          },
          "metadata": {},
          "execution_count": 78
        }
      ]
    },
    {
      "cell_type": "markdown",
      "source": [
        "# Optimizer"
      ],
      "metadata": {
        "id": "6zBMdlCtG8d5"
      }
    },
    {
      "cell_type": "markdown",
      "source": [
        "*   경사 하강법(Gradient Descent)\n",
        "    *   손실 함수를 최소로 만드는 가중치들을 찾는 방법.\n",
        "\n",
        "$\n",
        "w_{next} = w_{init} - 학습률 \\cdot 기울기\n",
        "$\n",
        "\n",
        "*   아주 큰 신경망인 경우는 모델 훈련을 통해서 찾아야 하는 모델 파라미터들의 개수가 매우 많음.\n",
        "*   모델 파라미터들의 개수가 많을 수록 훈련 속도가 심각하게 느려질 수 있음.\n",
        "*   훈련 속도를 높이는 방법:\n",
        "    *   좋은 초기화 전략 사용하기\n",
        "    *   좋은 활성화 함수 사용하기\n",
        "    *   배치 정규화 사용하기\n",
        "    *   사전 훈련된 네트워크(신경망)의 일부를 재사용.\n",
        "    *   일반적인 경사 하강법 대신 더 빠른 옵티마이저를 사용하기.\n",
        "*   확률적 경사 하강법(SGD)의 변종 옵티마이저\n",
        "    *   학습률(learning_rate) 파라미터를 변경.\n",
        "    *   모멘텀 최적화(momentum optimization): 모멘텀(momentum) 파라미터 값을 0보다 큰 값으로 변경.\n",
        "    *   네스테로프 가속 경사(Nesterov Accelerated Gradient, NAG): nesterov 파라미터를 True로 설정.\n",
        "*   적응형 학습률(adaptive learning rate): 학습할 때마다 학습률을 변화시킴.\n",
        "    *   RMSprop(Root Mean Squared Propagation): Sequential 클래스의 compile 메서드의 optimizer 기본값.\n",
        "    *   Adam(Adaptive Momentum Estimation): 모멘텀 최적화 + RMSprop\n",
        "    *   Nadam: Adam + Nesterov\n",
        "    *   AdaGrad"
      ],
      "metadata": {
        "id": "mvF43ubSHCa3"
      }
    },
    {
      "cell_type": "markdown",
      "source": [
        "## SGD optimizer"
      ],
      "metadata": {
        "id": "tsk4rYnUOCHm"
      }
    },
    {
      "cell_type": "code",
      "source": [
        "def create_model(layers=None):\n",
        "    # layers: keras.layers 객체들의 배열/리스트.\n",
        "    model = keras.Sequential()  # Seqential 모델 생성\n",
        "    model.add(keras.Input(shape=(28, 28)))  # 입력층 추가\n",
        "    model.add(keras.layers.Flatten())  # Flatten layer 추가\n",
        "    model.add(keras.layers.Dense(units=100, activation='relu'))  # 첫번째 은닉층을 추가\n",
        "    if layers:  # 아규먼트로 전달된 은닉층들이 있으면\n",
        "        for layer in layers:\n",
        "            model.add(layer)\n",
        "    model.add(keras.layers.Dense(units=10, activation='softmax'))  # 출력층 추가\n",
        "\n",
        "    return model"
      ],
      "metadata": {
        "id": "Wvzo53QvGlCo"
      },
      "execution_count": 79,
      "outputs": []
    },
    {
      "cell_type": "code",
      "source": [
        "model = create_model()"
      ],
      "metadata": {
        "id": "czY5fR45OVRl"
      },
      "execution_count": 80,
      "outputs": []
    },
    {
      "cell_type": "code",
      "source": [
        "model.summary()"
      ],
      "metadata": {
        "colab": {
          "base_uri": "https://localhost:8080/",
          "height": 230
        },
        "id": "dwDTRSemTnDJ",
        "outputId": "70c79af3-84d2-401e-fbab-1cdccbf24c8b"
      },
      "execution_count": 81,
      "outputs": [
        {
          "output_type": "display_data",
          "data": {
            "text/plain": [
              "\u001b[1mModel: \"sequential_3\"\u001b[0m\n"
            ],
            "text/html": [
              "<pre style=\"white-space:pre;overflow-x:auto;line-height:normal;font-family:Menlo,'DejaVu Sans Mono',consolas,'Courier New',monospace\"><span style=\"font-weight: bold\">Model: \"sequential_3\"</span>\n",
              "</pre>\n"
            ]
          },
          "metadata": {}
        },
        {
          "output_type": "display_data",
          "data": {
            "text/plain": [
              "┏━━━━━━━━━━━━━━━━━━━━━━━━━━━━━━━━━┳━━━━━━━━━━━━━━━━━━━━━━━━┳━━━━━━━━━━━━━━━┓\n",
              "┃\u001b[1m \u001b[0m\u001b[1mLayer (type)                   \u001b[0m\u001b[1m \u001b[0m┃\u001b[1m \u001b[0m\u001b[1mOutput Shape          \u001b[0m\u001b[1m \u001b[0m┃\u001b[1m \u001b[0m\u001b[1m      Param #\u001b[0m\u001b[1m \u001b[0m┃\n",
              "┡━━━━━━━━━━━━━━━━━━━━━━━━━━━━━━━━━╇━━━━━━━━━━━━━━━━━━━━━━━━╇━━━━━━━━━━━━━━━┩\n",
              "│ flatten_2 (\u001b[38;5;33mFlatten\u001b[0m)             │ (\u001b[38;5;45mNone\u001b[0m, \u001b[38;5;34m784\u001b[0m)            │             \u001b[38;5;34m0\u001b[0m │\n",
              "├─────────────────────────────────┼────────────────────────┼───────────────┤\n",
              "│ dense_5 (\u001b[38;5;33mDense\u001b[0m)                 │ (\u001b[38;5;45mNone\u001b[0m, \u001b[38;5;34m100\u001b[0m)            │        \u001b[38;5;34m78,500\u001b[0m │\n",
              "├─────────────────────────────────┼────────────────────────┼───────────────┤\n",
              "│ dense_6 (\u001b[38;5;33mDense\u001b[0m)                 │ (\u001b[38;5;45mNone\u001b[0m, \u001b[38;5;34m10\u001b[0m)             │         \u001b[38;5;34m1,010\u001b[0m │\n",
              "└─────────────────────────────────┴────────────────────────┴───────────────┘\n"
            ],
            "text/html": [
              "<pre style=\"white-space:pre;overflow-x:auto;line-height:normal;font-family:Menlo,'DejaVu Sans Mono',consolas,'Courier New',monospace\">┏━━━━━━━━━━━━━━━━━━━━━━━━━━━━━━━━━┳━━━━━━━━━━━━━━━━━━━━━━━━┳━━━━━━━━━━━━━━━┓\n",
              "┃<span style=\"font-weight: bold\"> Layer (type)                    </span>┃<span style=\"font-weight: bold\"> Output Shape           </span>┃<span style=\"font-weight: bold\">       Param # </span>┃\n",
              "┡━━━━━━━━━━━━━━━━━━━━━━━━━━━━━━━━━╇━━━━━━━━━━━━━━━━━━━━━━━━╇━━━━━━━━━━━━━━━┩\n",
              "│ flatten_2 (<span style=\"color: #0087ff; text-decoration-color: #0087ff\">Flatten</span>)             │ (<span style=\"color: #00d7ff; text-decoration-color: #00d7ff\">None</span>, <span style=\"color: #00af00; text-decoration-color: #00af00\">784</span>)            │             <span style=\"color: #00af00; text-decoration-color: #00af00\">0</span> │\n",
              "├─────────────────────────────────┼────────────────────────┼───────────────┤\n",
              "│ dense_5 (<span style=\"color: #0087ff; text-decoration-color: #0087ff\">Dense</span>)                 │ (<span style=\"color: #00d7ff; text-decoration-color: #00d7ff\">None</span>, <span style=\"color: #00af00; text-decoration-color: #00af00\">100</span>)            │        <span style=\"color: #00af00; text-decoration-color: #00af00\">78,500</span> │\n",
              "├─────────────────────────────────┼────────────────────────┼───────────────┤\n",
              "│ dense_6 (<span style=\"color: #0087ff; text-decoration-color: #0087ff\">Dense</span>)                 │ (<span style=\"color: #00d7ff; text-decoration-color: #00d7ff\">None</span>, <span style=\"color: #00af00; text-decoration-color: #00af00\">10</span>)             │         <span style=\"color: #00af00; text-decoration-color: #00af00\">1,010</span> │\n",
              "└─────────────────────────────────┴────────────────────────┴───────────────┘\n",
              "</pre>\n"
            ]
          },
          "metadata": {}
        },
        {
          "output_type": "display_data",
          "data": {
            "text/plain": [
              "\u001b[1m Total params: \u001b[0m\u001b[38;5;34m79,510\u001b[0m (310.59 KB)\n"
            ],
            "text/html": [
              "<pre style=\"white-space:pre;overflow-x:auto;line-height:normal;font-family:Menlo,'DejaVu Sans Mono',consolas,'Courier New',monospace\"><span style=\"font-weight: bold\"> Total params: </span><span style=\"color: #00af00; text-decoration-color: #00af00\">79,510</span> (310.59 KB)\n",
              "</pre>\n"
            ]
          },
          "metadata": {}
        },
        {
          "output_type": "display_data",
          "data": {
            "text/plain": [
              "\u001b[1m Trainable params: \u001b[0m\u001b[38;5;34m79,510\u001b[0m (310.59 KB)\n"
            ],
            "text/html": [
              "<pre style=\"white-space:pre;overflow-x:auto;line-height:normal;font-family:Menlo,'DejaVu Sans Mono',consolas,'Courier New',monospace\"><span style=\"font-weight: bold\"> Trainable params: </span><span style=\"color: #00af00; text-decoration-color: #00af00\">79,510</span> (310.59 KB)\n",
              "</pre>\n"
            ]
          },
          "metadata": {}
        },
        {
          "output_type": "display_data",
          "data": {
            "text/plain": [
              "\u001b[1m Non-trainable params: \u001b[0m\u001b[38;5;34m0\u001b[0m (0.00 B)\n"
            ],
            "text/html": [
              "<pre style=\"white-space:pre;overflow-x:auto;line-height:normal;font-family:Menlo,'DejaVu Sans Mono',consolas,'Courier New',monospace\"><span style=\"font-weight: bold\"> Non-trainable params: </span><span style=\"color: #00af00; text-decoration-color: #00af00\">0</span> (0.00 B)\n",
              "</pre>\n"
            ]
          },
          "metadata": {}
        }
      ]
    },
    {
      "cell_type": "code",
      "source": [
        "# 옵티마이저: 학습률 변경, 모멘텀 최적화, 네스테로프 가속 경사\n",
        "op = keras.optimizers.SGD(learning_rate=0.02, momentum=0.1, nesterov=True)\n",
        "model.compile(optimizer=op,\n",
        "              loss=keras.losses.sparse_categorical_crossentropy,\n",
        "              metrics=[keras.metrics.sparse_categorical_accuracy])"
      ],
      "metadata": {
        "id": "UXKNXLfETpkg"
      },
      "execution_count": 82,
      "outputs": []
    },
    {
      "cell_type": "code",
      "source": [
        "model.fit(x=train_data_scaled, y=train_target, epochs=5)"
      ],
      "metadata": {
        "colab": {
          "base_uri": "https://localhost:8080/"
        },
        "id": "hOuSEyWnVR1h",
        "outputId": "c4d06645-206a-4d20-9471-fd3003356ce7"
      },
      "execution_count": 83,
      "outputs": [
        {
          "output_type": "stream",
          "name": "stdout",
          "text": [
            "Epoch 1/5\n",
            "\u001b[1m1500/1500\u001b[0m \u001b[32m━━━━━━━━━━━━━━━━━━━━\u001b[0m\u001b[37m\u001b[0m \u001b[1m4s\u001b[0m 2ms/step - loss: 0.8810 - sparse_categorical_accuracy: 0.7041\n",
            "Epoch 2/5\n",
            "\u001b[1m1500/1500\u001b[0m \u001b[32m━━━━━━━━━━━━━━━━━━━━\u001b[0m\u001b[37m\u001b[0m \u001b[1m4s\u001b[0m 3ms/step - loss: 0.5035 - sparse_categorical_accuracy: 0.8249\n",
            "Epoch 3/5\n",
            "\u001b[1m1500/1500\u001b[0m \u001b[32m━━━━━━━━━━━━━━━━━━━━\u001b[0m\u001b[37m\u001b[0m \u001b[1m4s\u001b[0m 2ms/step - loss: 0.4537 - sparse_categorical_accuracy: 0.8416\n",
            "Epoch 4/5\n",
            "\u001b[1m1500/1500\u001b[0m \u001b[32m━━━━━━━━━━━━━━━━━━━━\u001b[0m\u001b[37m\u001b[0m \u001b[1m3s\u001b[0m 2ms/step - loss: 0.4277 - sparse_categorical_accuracy: 0.8461\n",
            "Epoch 5/5\n",
            "\u001b[1m1500/1500\u001b[0m \u001b[32m━━━━━━━━━━━━━━━━━━━━\u001b[0m\u001b[37m\u001b[0m \u001b[1m5s\u001b[0m 2ms/step - loss: 0.4048 - sparse_categorical_accuracy: 0.8559\n"
          ]
        },
        {
          "output_type": "execute_result",
          "data": {
            "text/plain": [
              "<keras.src.callbacks.history.History at 0x79bde86b8bf0>"
            ]
          },
          "metadata": {},
          "execution_count": 83
        }
      ]
    },
    {
      "cell_type": "code",
      "source": [
        "model.evaluate(x=train_data_scaled, y=train_target)"
      ],
      "metadata": {
        "colab": {
          "base_uri": "https://localhost:8080/"
        },
        "id": "pnU5i1xzVjFI",
        "outputId": "13029a92-235f-4b0d-925d-fce9070ac76d"
      },
      "execution_count": 84,
      "outputs": [
        {
          "output_type": "stream",
          "name": "stdout",
          "text": [
            "\u001b[1m1500/1500\u001b[0m \u001b[32m━━━━━━━━━━━━━━━━━━━━\u001b[0m\u001b[37m\u001b[0m \u001b[1m4s\u001b[0m 2ms/step - loss: 0.3718 - sparse_categorical_accuracy: 0.8705\n"
          ]
        },
        {
          "output_type": "execute_result",
          "data": {
            "text/plain": [
              "[0.37861043214797974, 0.8685625195503235]"
            ]
          },
          "metadata": {},
          "execution_count": 84
        }
      ]
    },
    {
      "cell_type": "code",
      "source": [
        "model.evaluate(x=val_data_scaled, y=val_target)"
      ],
      "metadata": {
        "colab": {
          "base_uri": "https://localhost:8080/"
        },
        "id": "N-tynvAQWGW4",
        "outputId": "f2414fbb-b6c0-4d34-c529-cc2bf47d2049"
      },
      "execution_count": 85,
      "outputs": [
        {
          "output_type": "stream",
          "name": "stdout",
          "text": [
            "\u001b[1m375/375\u001b[0m \u001b[32m━━━━━━━━━━━━━━━━━━━━\u001b[0m\u001b[37m\u001b[0m \u001b[1m1s\u001b[0m 2ms/step - loss: 0.3907 - sparse_categorical_accuracy: 0.8624\n"
          ]
        },
        {
          "output_type": "execute_result",
          "data": {
            "text/plain": [
              "[0.38601797819137573, 0.8649166822433472]"
            ]
          },
          "metadata": {},
          "execution_count": 85
        }
      ]
    },
    {
      "cell_type": "markdown",
      "source": [
        "## Adam optimizer\n",
        "\n",
        "*   `learning_rate` 파라미터: 학습률\n",
        "*   `beta_1`, `beta_2` 파라미터: 모멘텀 최적화와 관련된 파라미터.\n",
        "*   `epsilon` 파라미터: 적응형 학습률과 관련된 파라미터."
      ],
      "metadata": {
        "id": "2NK_azzAWlKt"
      }
    },
    {
      "cell_type": "code",
      "source": [
        "model = create_model()"
      ],
      "metadata": {
        "id": "-1PC1ki-Wf4X"
      },
      "execution_count": 86,
      "outputs": []
    },
    {
      "cell_type": "code",
      "source": [
        "model.compile(optimizer=keras.optimizers.Adam(),\n",
        "              loss=keras.losses.sparse_categorical_crossentropy,\n",
        "              metrics=[keras.metrics.sparse_categorical_accuracy])"
      ],
      "metadata": {
        "id": "a4VdSPlJW4qQ"
      },
      "execution_count": 87,
      "outputs": []
    },
    {
      "cell_type": "code",
      "source": [
        "model.fit(x=train_data_scaled, y=train_target, epochs=5)"
      ],
      "metadata": {
        "colab": {
          "base_uri": "https://localhost:8080/"
        },
        "id": "Gx9qeHbfYYh2",
        "outputId": "709f8d0d-e575-46f3-a4fb-fa4d8c7fe70b"
      },
      "execution_count": 88,
      "outputs": [
        {
          "output_type": "stream",
          "name": "stdout",
          "text": [
            "Epoch 1/5\n",
            "\u001b[1m1500/1500\u001b[0m \u001b[32m━━━━━━━━━━━━━━━━━━━━\u001b[0m\u001b[37m\u001b[0m \u001b[1m5s\u001b[0m 2ms/step - loss: 0.6844 - sparse_categorical_accuracy: 0.7610\n",
            "Epoch 2/5\n",
            "\u001b[1m1500/1500\u001b[0m \u001b[32m━━━━━━━━━━━━━━━━━━━━\u001b[0m\u001b[37m\u001b[0m \u001b[1m3s\u001b[0m 2ms/step - loss: 0.4050 - sparse_categorical_accuracy: 0.8562\n",
            "Epoch 3/5\n",
            "\u001b[1m1500/1500\u001b[0m \u001b[32m━━━━━━━━━━━━━━━━━━━━\u001b[0m\u001b[37m\u001b[0m \u001b[1m6s\u001b[0m 3ms/step - loss: 0.3679 - sparse_categorical_accuracy: 0.8656\n",
            "Epoch 4/5\n",
            "\u001b[1m1500/1500\u001b[0m \u001b[32m━━━━━━━━━━━━━━━━━━━━\u001b[0m\u001b[37m\u001b[0m \u001b[1m4s\u001b[0m 2ms/step - loss: 0.3298 - sparse_categorical_accuracy: 0.8814\n",
            "Epoch 5/5\n",
            "\u001b[1m1500/1500\u001b[0m \u001b[32m━━━━━━━━━━━━━━━━━━━━\u001b[0m\u001b[37m\u001b[0m \u001b[1m3s\u001b[0m 2ms/step - loss: 0.3152 - sparse_categorical_accuracy: 0.8850\n"
          ]
        },
        {
          "output_type": "execute_result",
          "data": {
            "text/plain": [
              "<keras.src.callbacks.history.History at 0x79bde8798d10>"
            ]
          },
          "metadata": {},
          "execution_count": 88
        }
      ]
    },
    {
      "cell_type": "code",
      "source": [
        "model.evaluate(x=train_data_scaled, y=train_target)"
      ],
      "metadata": {
        "colab": {
          "base_uri": "https://localhost:8080/"
        },
        "id": "ILxkG65gYclt",
        "outputId": "98253cc5-2c5e-40cc-ddde-ffae22645482"
      },
      "execution_count": 89,
      "outputs": [
        {
          "output_type": "stream",
          "name": "stdout",
          "text": [
            "\u001b[1m1500/1500\u001b[0m \u001b[32m━━━━━━━━━━━━━━━━━━━━\u001b[0m\u001b[37m\u001b[0m \u001b[1m4s\u001b[0m 3ms/step - loss: 0.2816 - sparse_categorical_accuracy: 0.8964\n"
          ]
        },
        {
          "output_type": "execute_result",
          "data": {
            "text/plain": [
              "[0.2856843173503876, 0.8962916731834412]"
            ]
          },
          "metadata": {},
          "execution_count": 89
        }
      ]
    },
    {
      "cell_type": "code",
      "source": [
        "model.evaluate(x=val_data_scaled, y=val_target)"
      ],
      "metadata": {
        "colab": {
          "base_uri": "https://localhost:8080/"
        },
        "id": "dNzOdmQBYwwV",
        "outputId": "d9f0371a-789b-4bec-deb5-cf178ef91da2"
      },
      "execution_count": 90,
      "outputs": [
        {
          "output_type": "stream",
          "name": "stdout",
          "text": [
            "\u001b[1m375/375\u001b[0m \u001b[32m━━━━━━━━━━━━━━━━━━━━\u001b[0m\u001b[37m\u001b[0m \u001b[1m1s\u001b[0m 2ms/step - loss: 0.3371 - sparse_categorical_accuracy: 0.8807\n"
          ]
        },
        {
          "output_type": "execute_result",
          "data": {
            "text/plain": [
              "[0.3335145115852356, 0.8845833539962769]"
            ]
          },
          "metadata": {},
          "execution_count": 90
        }
      ]
    },
    {
      "cell_type": "markdown",
      "source": [
        "# 모델 훈련"
      ],
      "metadata": {
        "id": "0PZZa8udZSV1"
      }
    },
    {
      "cell_type": "code",
      "source": [
        "model = create_model()  # 은닉층 1개를 갖는 모델을 생성\n",
        "model.compile(optimizer=keras.optimizers.RMSprop(),\n",
        "              loss=keras.losses.sparse_categorical_crossentropy,\n",
        "              metrics=[keras.metrics.sparse_categorical_accuracy])  # 모델 컴파일"
      ],
      "metadata": {
        "id": "urAMNXH5ZLBF"
      },
      "execution_count": 91,
      "outputs": []
    },
    {
      "cell_type": "code",
      "source": [
        "result = model.fit(x=train_data_scaled, y=train_target, epochs=5,\n",
        "                   validation_data=[val_data_scaled, val_target])"
      ],
      "metadata": {
        "colab": {
          "base_uri": "https://localhost:8080/"
        },
        "id": "y572nFo_aSpN",
        "outputId": "846a46a2-41f4-47ee-c5a0-ce83eaff5694"
      },
      "execution_count": 92,
      "outputs": [
        {
          "output_type": "stream",
          "name": "stdout",
          "text": [
            "Epoch 1/5\n",
            "\u001b[1m1500/1500\u001b[0m \u001b[32m━━━━━━━━━━━━━━━━━━━━\u001b[0m\u001b[37m\u001b[0m \u001b[1m6s\u001b[0m 3ms/step - loss: 0.6717 - sparse_categorical_accuracy: 0.7661 - val_loss: 0.4422 - val_sparse_categorical_accuracy: 0.8437\n",
            "Epoch 2/5\n",
            "\u001b[1m1500/1500\u001b[0m \u001b[32m━━━━━━━━━━━━━━━━━━━━\u001b[0m\u001b[37m\u001b[0m \u001b[1m5s\u001b[0m 3ms/step - loss: 0.4024 - sparse_categorical_accuracy: 0.8566 - val_loss: 0.3827 - val_sparse_categorical_accuracy: 0.8612\n",
            "Epoch 3/5\n",
            "\u001b[1m1500/1500\u001b[0m \u001b[32m━━━━━━━━━━━━━━━━━━━━\u001b[0m\u001b[37m\u001b[0m \u001b[1m4s\u001b[0m 3ms/step - loss: 0.3581 - sparse_categorical_accuracy: 0.8690 - val_loss: 0.3582 - val_sparse_categorical_accuracy: 0.8711\n",
            "Epoch 4/5\n",
            "\u001b[1m1500/1500\u001b[0m \u001b[32m━━━━━━━━━━━━━━━━━━━━\u001b[0m\u001b[37m\u001b[0m \u001b[1m6s\u001b[0m 3ms/step - loss: 0.3360 - sparse_categorical_accuracy: 0.8796 - val_loss: 0.3424 - val_sparse_categorical_accuracy: 0.8822\n",
            "Epoch 5/5\n",
            "\u001b[1m1500/1500\u001b[0m \u001b[32m━━━━━━━━━━━━━━━━━━━━\u001b[0m\u001b[37m\u001b[0m \u001b[1m4s\u001b[0m 3ms/step - loss: 0.3217 - sparse_categorical_accuracy: 0.8829 - val_loss: 0.3399 - val_sparse_categorical_accuracy: 0.8870\n"
          ]
        }
      ]
    },
    {
      "cell_type": "markdown",
      "source": [
        "## History 객체\n",
        "\n",
        "신경망 모델을 훈련(fit)시키는 과정(각각의 epoch)의 기록을 담고 있는 객체. fit 메서드의 리턴 값."
      ],
      "metadata": {
        "id": "cC-E1NbPbsVD"
      }
    },
    {
      "cell_type": "code",
      "source": [
        "type(result)"
      ],
      "metadata": {
        "colab": {
          "base_uri": "https://localhost:8080/",
          "height": 186
        },
        "id": "S6km6pc0a_F0",
        "outputId": "1efcd6f1-1899-4d57-be75-5c2128ef8a23"
      },
      "execution_count": 93,
      "outputs": [
        {
          "output_type": "execute_result",
          "data": {
            "text/plain": [
              "keras.src.callbacks.history.History"
            ],
            "text/html": [
              "<div style=\"max-width:800px; border: 1px solid var(--colab-border-color);\"><style>\n",
              "      pre.function-repr-contents {\n",
              "        overflow-x: auto;\n",
              "        padding: 8px 12px;\n",
              "        max-height: 500px;\n",
              "      }\n",
              "\n",
              "      pre.function-repr-contents.function-repr-contents-collapsed {\n",
              "        cursor: pointer;\n",
              "        max-height: 100px;\n",
              "      }\n",
              "    </style>\n",
              "    <pre style=\"white-space: initial; background:\n",
              "         var(--colab-secondary-surface-color); padding: 8px 12px;\n",
              "         border-bottom: 1px solid var(--colab-border-color);\"><b>keras.src.callbacks.history.History</b><br/>def __init__()</pre><pre class=\"function-repr-contents function-repr-contents-collapsed\" style=\"\"><a class=\"filepath\" style=\"display:none\" href=\"#\">/usr/local/lib/python3.12/dist-packages/keras/src/callbacks/history.py</a>Callback that records events into a `History` object.\n",
              "\n",
              "This callback is automatically applied to\n",
              "every Keras model. The `History` object\n",
              "gets returned by the `fit()` method of models.\n",
              "\n",
              "Example:\n",
              "\n",
              "&gt;&gt;&gt; model = Sequential([layers.Dense(10)])\n",
              "&gt;&gt;&gt; model.compile(SGD(), loss=&#x27;mse&#x27;)\n",
              "&gt;&gt;&gt; history = model.fit(np.arange(100).reshape(5, 20), np.zeros(5),\n",
              "...                     epochs=10, verbose=1)\n",
              "&gt;&gt;&gt; print(history.params)\n",
              "{&#x27;verbose&#x27;: 1, &#x27;epochs&#x27;: 10, &#x27;steps&#x27;: 1}\n",
              "&gt;&gt;&gt; # check the keys of history object\n",
              "&gt;&gt;&gt; print(history.history.keys())\n",
              "dict_keys([&#x27;loss&#x27;])</pre>\n",
              "      <script>\n",
              "      if (google.colab.kernel.accessAllowed && google.colab.files && google.colab.files.view) {\n",
              "        for (const element of document.querySelectorAll('.filepath')) {\n",
              "          element.style.display = 'block'\n",
              "          element.onclick = (event) => {\n",
              "            event.preventDefault();\n",
              "            event.stopPropagation();\n",
              "            google.colab.files.view(element.textContent, 5);\n",
              "          };\n",
              "        }\n",
              "      }\n",
              "      for (const element of document.querySelectorAll('.function-repr-contents')) {\n",
              "        element.onclick = (event) => {\n",
              "          event.preventDefault();\n",
              "          event.stopPropagation();\n",
              "          element.classList.toggle('function-repr-contents-collapsed');\n",
              "        };\n",
              "      }\n",
              "      </script>\n",
              "      </div>"
            ]
          },
          "metadata": {},
          "execution_count": 93
        }
      ]
    },
    {
      "cell_type": "code",
      "source": [
        "type(result.history)"
      ],
      "metadata": {
        "colab": {
          "base_uri": "https://localhost:8080/"
        },
        "id": "kF7c3DPJbjOj",
        "outputId": "cb569d06-eff8-4d4e-be62-1652856b1b98"
      },
      "execution_count": 94,
      "outputs": [
        {
          "output_type": "execute_result",
          "data": {
            "text/plain": [
              "dict"
            ]
          },
          "metadata": {},
          "execution_count": 94
        }
      ]
    },
    {
      "cell_type": "code",
      "source": [
        "hist = result.history\n",
        "# 각 epoch마다 훈련 셋 손실/정확도, 검증 셋 손실/정확도를 dict로 저장."
      ],
      "metadata": {
        "id": "lGVCPB4dgaz4"
      },
      "execution_count": 95,
      "outputs": []
    },
    {
      "cell_type": "code",
      "source": [
        "hist.keys()"
      ],
      "metadata": {
        "colab": {
          "base_uri": "https://localhost:8080/"
        },
        "id": "5ngAibmsgiDw",
        "outputId": "5fd6d6c3-3e50-4589-fcf3-88fcd0ce82be"
      },
      "execution_count": 96,
      "outputs": [
        {
          "output_type": "execute_result",
          "data": {
            "text/plain": [
              "dict_keys(['loss', 'sparse_categorical_accuracy', 'val_loss', 'val_sparse_categorical_accuracy'])"
            ]
          },
          "metadata": {},
          "execution_count": 96
        }
      ]
    },
    {
      "cell_type": "code",
      "source": [
        "hist.items()"
      ],
      "metadata": {
        "colab": {
          "base_uri": "https://localhost:8080/"
        },
        "id": "4zdYbYIagjNf",
        "outputId": "b5bd0d0d-e650-4b3f-a28f-b5e23ebe5755"
      },
      "execution_count": 97,
      "outputs": [
        {
          "output_type": "execute_result",
          "data": {
            "text/plain": [
              "dict_items([('loss', [0.534455418586731, 0.3985402286052704, 0.36203980445861816, 0.33788469433784485, 0.32108110189437866]), ('sparse_categorical_accuracy', [0.8117916584014893, 0.8575624823570251, 0.867229163646698, 0.8786041736602783, 0.8846458196640015]), ('val_loss', [0.44222161173820496, 0.3826885521411896, 0.35817936062812805, 0.34235677123069763, 0.33992698788642883]), ('val_sparse_categorical_accuracy', [0.843666672706604, 0.8611666560173035, 0.8710833191871643, 0.8821666836738586, 0.8870000243186951])])"
            ]
          },
          "metadata": {},
          "execution_count": 97
        }
      ]
    },
    {
      "cell_type": "code",
      "source": [
        "epochs = np.arange(1, 6)\n",
        "for k, v in hist.items():\n",
        "    plt.plot(epochs, v, 'o-', label=k)\n",
        "plt.legend()\n",
        "plt.xlabel('epoch')\n",
        "plt.show()"
      ],
      "metadata": {
        "colab": {
          "base_uri": "https://localhost:8080/",
          "height": 449
        },
        "id": "tEPOOw2agyOv",
        "outputId": "723e5420-c1ad-49ad-caae-99b17583a594"
      },
      "execution_count": 98,
      "outputs": [
        {
          "output_type": "display_data",
          "data": {
            "text/plain": [
              "<Figure size 640x480 with 1 Axes>"
            ],
            "image/png": "[encoded data removed]"
          },
          "metadata": {}
        }
      ]
    },
    {
      "cell_type": "code",
      "source": [
        "# 정확도 그래프\n",
        "plt.plot(epochs, hist['sparse_categorical_accuracy'], 'bo-', label='train')\n",
        "plt.plot(epochs, hist['val_sparse_categorical_accuracy'], 'ro-', label='validation')\n",
        "plt.xlabel('epoch')\n",
        "plt.ylabel('accuracy')\n",
        "plt.legend()\n",
        "plt.show()"
      ],
      "metadata": {
        "colab": {
          "base_uri": "https://localhost:8080/",
          "height": 451
        },
        "id": "jR4ASF5niE7P",
        "outputId": "2360873c-5033-4e0b-e581-b5f9ba1344c0"
      },
      "execution_count": 99,
      "outputs": [
        {
          "output_type": "display_data",
          "data": {
            "text/plain": [
              "<Figure size 640x480 with 1 Axes>"
            ],
            "image/png": "[encoded data removed]"
          },
          "metadata": {}
        }
      ]
    },
    {
      "cell_type": "code",
      "source": [
        "# 손실 그래프\n",
        "plt.plot(epochs, hist['loss'], 'bo-', label='train')\n",
        "plt.plot(epochs, hist['val_loss'], 'ro-', label='validation')\n",
        "plt.xlabel('epochs')\n",
        "plt.ylabel('loss')\n",
        "plt.legend()\n",
        "plt.show()"
      ],
      "metadata": {
        "colab": {
          "base_uri": "https://localhost:8080/",
          "height": 449
        },
        "id": "UTiwRscrk8jW",
        "outputId": "5795819a-2b3a-4b1e-ba94-19b719d84c58"
      },
      "execution_count": 100,
      "outputs": [
        {
          "output_type": "display_data",
          "data": {
            "text/plain": [
              "<Figure size 640x480 with 1 Axes>"
            ],
            "image/png": "[encoded data removed]"
          },
          "metadata": {}
        }
      ]
    },
    {
      "cell_type": "markdown",
      "source": [
        "## RMSprop 옵티마이저 사용\n",
        "\n",
        "*   100개의 unit으로 이루어진 은닉층 1개를 갖는 신경망 모델 생성\n",
        "*   RMSprop 옵티마이저를 사용하도록 모델을 컴파일\n",
        "*   epoch 횟수를 20회로 모델을 훈련시키고 그 결과를 저장.\n",
        "*   History 객체의 history 속성을 사용해서 훈련 셋과 검증 셋의 손실 그래프를 그려 보세요."
      ],
      "metadata": {
        "id": "hMU0ry-Vm7gM"
      }
    },
    {
      "cell_type": "code",
      "source": [
        "model = create_model()\n",
        "model.compile(optimizer=keras.optimizers.RMSprop(),\n",
        "              loss=keras.losses.sparse_categorical_crossentropy,\n",
        "              metrics=[keras.metrics.sparse_categorical_accuracy])\n",
        "result = model.fit(x=train_data_scaled, y=train_target, epochs=20,\n",
        "                   validation_data=[val_data_scaled, val_target])"
      ],
      "metadata": {
        "colab": {
          "base_uri": "https://localhost:8080/"
        },
        "id": "8mh22HIDoQwr",
        "outputId": "9cf877a4-8e0d-416f-ed9a-b25afd701ff2"
      },
      "execution_count": 101,
      "outputs": [
        {
          "output_type": "stream",
          "name": "stdout",
          "text": [
            "Epoch 1/20\n",
            "\u001b[1m1500/1500\u001b[0m \u001b[32m━━━━━━━━━━━━━━━━━━━━\u001b[0m\u001b[37m\u001b[0m \u001b[1m6s\u001b[0m 3ms/step - loss: 0.6806 - sparse_categorical_accuracy: 0.7630 - val_loss: 0.4056 - val_sparse_categorical_accuracy: 0.8554\n",
            "Epoch 2/20\n",
            "\u001b[1m1500/1500\u001b[0m \u001b[32m━━━━━━━━━━━━━━━━━━━━\u001b[0m\u001b[37m\u001b[0m \u001b[1m5s\u001b[0m 3ms/step - loss: 0.4062 - sparse_categorical_accuracy: 0.8529 - val_loss: 0.4157 - val_sparse_categorical_accuracy: 0.8520\n",
            "Epoch 3/20\n",
            "\u001b[1m1500/1500\u001b[0m \u001b[32m━━━━━━━━━━━━━━━━━━━━\u001b[0m\u001b[37m\u001b[0m \u001b[1m4s\u001b[0m 3ms/step - loss: 0.3591 - sparse_categorical_accuracy: 0.8727 - val_loss: 0.3408 - val_sparse_categorical_accuracy: 0.8816\n",
            "Epoch 4/20\n",
            "\u001b[1m1500/1500\u001b[0m \u001b[32m━━━━━━━━━━━━━━━━━━━━\u001b[0m\u001b[37m\u001b[0m \u001b[1m5s\u001b[0m 3ms/step - loss: 0.3349 - sparse_categorical_accuracy: 0.8792 - val_loss: 0.3457 - val_sparse_categorical_accuracy: 0.8815\n",
            "Epoch 5/20\n",
            "\u001b[1m1500/1500\u001b[0m \u001b[32m━━━━━━━━━━━━━━━━━━━━\u001b[0m\u001b[37m\u001b[0m \u001b[1m4s\u001b[0m 3ms/step - loss: 0.3188 - sparse_categorical_accuracy: 0.8856 - val_loss: 0.3477 - val_sparse_categorical_accuracy: 0.8831\n",
            "Epoch 6/20\n",
            "\u001b[1m1500/1500\u001b[0m \u001b[32m━━━━━━━━━━━━━━━━━━━━\u001b[0m\u001b[37m\u001b[0m \u001b[1m4s\u001b[0m 3ms/step - loss: 0.3083 - sparse_categorical_accuracy: 0.8884 - val_loss: 0.3321 - val_sparse_categorical_accuracy: 0.8859\n",
            "Epoch 7/20\n",
            "\u001b[1m1500/1500\u001b[0m \u001b[32m━━━━━━━━━━━━━━━━━━━━\u001b[0m\u001b[37m\u001b[0m \u001b[1m6s\u001b[0m 3ms/step - loss: 0.3014 - sparse_categorical_accuracy: 0.8929 - val_loss: 0.3571 - val_sparse_categorical_accuracy: 0.8867\n",
            "Epoch 8/20\n",
            "\u001b[1m1500/1500\u001b[0m \u001b[32m━━━━━━━━━━━━━━━━━━━━\u001b[0m\u001b[37m\u001b[0m \u001b[1m4s\u001b[0m 3ms/step - loss: 0.2928 - sparse_categorical_accuracy: 0.8951 - val_loss: 0.3583 - val_sparse_categorical_accuracy: 0.8844\n",
            "Epoch 9/20\n",
            "\u001b[1m1500/1500\u001b[0m \u001b[32m━━━━━━━━━━━━━━━━━━━━\u001b[0m\u001b[37m\u001b[0m \u001b[1m4s\u001b[0m 3ms/step - loss: 0.2808 - sparse_categorical_accuracy: 0.9019 - val_loss: 0.3403 - val_sparse_categorical_accuracy: 0.8863\n",
            "Epoch 10/20\n",
            "\u001b[1m1500/1500\u001b[0m \u001b[32m━━━━━━━━━━━━━━━━━━━━\u001b[0m\u001b[37m\u001b[0m \u001b[1m5s\u001b[0m 3ms/step - loss: 0.2701 - sparse_categorical_accuracy: 0.9069 - val_loss: 0.3543 - val_sparse_categorical_accuracy: 0.8827\n",
            "Epoch 11/20\n",
            "\u001b[1m1500/1500\u001b[0m \u001b[32m━━━━━━━━━━━━━━━━━━━━\u001b[0m\u001b[37m\u001b[0m \u001b[1m4s\u001b[0m 3ms/step - loss: 0.2756 - sparse_categorical_accuracy: 0.9039 - val_loss: 0.3651 - val_sparse_categorical_accuracy: 0.8843\n",
            "Epoch 12/20\n",
            "\u001b[1m1500/1500\u001b[0m \u001b[32m━━━━━━━━━━━━━━━━━━━━\u001b[0m\u001b[37m\u001b[0m \u001b[1m5s\u001b[0m 3ms/step - loss: 0.2640 - sparse_categorical_accuracy: 0.9066 - val_loss: 0.3504 - val_sparse_categorical_accuracy: 0.8884\n",
            "Epoch 13/20\n",
            "\u001b[1m1500/1500\u001b[0m \u001b[32m━━━━━━━━━━━━━━━━━━━━\u001b[0m\u001b[37m\u001b[0m \u001b[1m4s\u001b[0m 3ms/step - loss: 0.2485 - sparse_categorical_accuracy: 0.9122 - val_loss: 0.3669 - val_sparse_categorical_accuracy: 0.8883\n",
            "Epoch 14/20\n",
            "\u001b[1m1500/1500\u001b[0m \u001b[32m━━━━━━━━━━━━━━━━━━━━\u001b[0m\u001b[37m\u001b[0m \u001b[1m4s\u001b[0m 3ms/step - loss: 0.2568 - sparse_categorical_accuracy: 0.9089 - val_loss: 0.3784 - val_sparse_categorical_accuracy: 0.8877\n",
            "Epoch 15/20\n",
            "\u001b[1m1500/1500\u001b[0m \u001b[32m━━━━━━━━━━━━━━━━━━━━\u001b[0m\u001b[37m\u001b[0m \u001b[1m5s\u001b[0m 3ms/step - loss: 0.2490 - sparse_categorical_accuracy: 0.9131 - val_loss: 0.3635 - val_sparse_categorical_accuracy: 0.8931\n",
            "Epoch 16/20\n",
            "\u001b[1m1500/1500\u001b[0m \u001b[32m━━━━━━━━━━━━━━━━━━━━\u001b[0m\u001b[37m\u001b[0m \u001b[1m4s\u001b[0m 3ms/step - loss: 0.2410 - sparse_categorical_accuracy: 0.9161 - val_loss: 0.3819 - val_sparse_categorical_accuracy: 0.8819\n",
            "Epoch 17/20\n",
            "\u001b[1m1500/1500\u001b[0m \u001b[32m━━━━━━━━━━━━━━━━━━━━\u001b[0m\u001b[37m\u001b[0m \u001b[1m5s\u001b[0m 3ms/step - loss: 0.2292 - sparse_categorical_accuracy: 0.9202 - val_loss: 0.3467 - val_sparse_categorical_accuracy: 0.8922\n",
            "Epoch 18/20\n",
            "\u001b[1m1500/1500\u001b[0m \u001b[32m━━━━━━━━━━━━━━━━━━━━\u001b[0m\u001b[37m\u001b[0m \u001b[1m5s\u001b[0m 3ms/step - loss: 0.2295 - sparse_categorical_accuracy: 0.9178 - val_loss: 0.4055 - val_sparse_categorical_accuracy: 0.8828\n",
            "Epoch 19/20\n",
            "\u001b[1m1500/1500\u001b[0m \u001b[32m━━━━━━━━━━━━━━━━━━━━\u001b[0m\u001b[37m\u001b[0m \u001b[1m5s\u001b[0m 3ms/step - loss: 0.2272 - sparse_categorical_accuracy: 0.9199 - val_loss: 0.4211 - val_sparse_categorical_accuracy: 0.8831\n",
            "Epoch 20/20\n",
            "\u001b[1m1500/1500\u001b[0m \u001b[32m━━━━━━━━━━━━━━━━━━━━\u001b[0m\u001b[37m\u001b[0m \u001b[1m6s\u001b[0m 3ms/step - loss: 0.2240 - sparse_categorical_accuracy: 0.9219 - val_loss: 0.3792 - val_sparse_categorical_accuracy: 0.8903\n"
          ]
        }
      ]
    },
    {
      "cell_type": "code",
      "source": [
        "epochs = np.arange(1, 21)"
      ],
      "metadata": {
        "id": "Ya25wgCtouOr"
      },
      "execution_count": 102,
      "outputs": []
    },
    {
      "cell_type": "code",
      "source": [
        "history = result.history\n",
        "plt.plot(epochs, history['loss'], 'bo-', label='train')\n",
        "plt.plot(epochs, history['val_loss'], 'ro:', label='validation')\n",
        "plt.grid()\n",
        "plt.legend()\n",
        "plt.xlabel('epoch')\n",
        "plt.ylabel('loss')\n",
        "plt.show()"
      ],
      "metadata": {
        "colab": {
          "base_uri": "https://localhost:8080/",
          "height": 449
        },
        "id": "dqi2AaZaoq7i",
        "outputId": "7875b0fd-2b46-4b4a-adef-d9af0d9dab61"
      },
      "execution_count": 103,
      "outputs": [
        {
          "output_type": "display_data",
          "data": {
            "text/plain": [
              "<Figure size 640x480 with 1 Axes>"
            ],
            "image/png": "[encoded data removed]"
          },
          "metadata": {}
        }
      ]
    },
    {
      "cell_type": "markdown",
      "source": [
        "epoch를 5번 이상 실행하면 과대적합의 크기만 더 커짐."
      ],
      "metadata": {
        "id": "YJoqGAD7syLJ"
      }
    },
    {
      "cell_type": "markdown",
      "source": [
        "## Adam 옵티마이저 사용\n",
        "\n",
        "*   위의 과정을 반복"
      ],
      "metadata": {
        "id": "rpuqrHItnoNW"
      }
    },
    {
      "cell_type": "code",
      "source": [
        "model = create_model()\n",
        "model.compile(optimizer=keras.optimizers.Adam(),\n",
        "              loss=keras.losses.sparse_categorical_crossentropy,\n",
        "              metrics=[keras.metrics.sparse_categorical_accuracy])\n",
        "result = model.fit(x=train_data_scaled, y=train_target, epochs=20,\n",
        "                   validation_data=[val_data_scaled, val_target])"
      ],
      "metadata": {
        "colab": {
          "base_uri": "https://localhost:8080/"
        },
        "id": "D3s6Q-HumCbd",
        "outputId": "343e6b9e-1779-4391-e6de-147e0fc37d75"
      },
      "execution_count": 104,
      "outputs": [
        {
          "output_type": "stream",
          "name": "stdout",
          "text": [
            "Epoch 1/20\n",
            "\u001b[1m1500/1500\u001b[0m \u001b[32m━━━━━━━━━━━━━━━━━━━━\u001b[0m\u001b[37m\u001b[0m \u001b[1m6s\u001b[0m 3ms/step - loss: 0.6936 - sparse_categorical_accuracy: 0.7585 - val_loss: 0.4275 - val_sparse_categorical_accuracy: 0.8472\n",
            "Epoch 2/20\n",
            "\u001b[1m1500/1500\u001b[0m \u001b[32m━━━━━━━━━━━━━━━━━━━━\u001b[0m\u001b[37m\u001b[0m \u001b[1m5s\u001b[0m 3ms/step - loss: 0.4103 - sparse_categorical_accuracy: 0.8572 - val_loss: 0.3861 - val_sparse_categorical_accuracy: 0.8590\n",
            "Epoch 3/20\n",
            "\u001b[1m1500/1500\u001b[0m \u001b[32m━━━━━━━━━━━━━━━━━━━━\u001b[0m\u001b[37m\u001b[0m \u001b[1m4s\u001b[0m 3ms/step - loss: 0.3578 - sparse_categorical_accuracy: 0.8702 - val_loss: 0.3466 - val_sparse_categorical_accuracy: 0.8774\n",
            "Epoch 4/20\n",
            "\u001b[1m1500/1500\u001b[0m \u001b[32m━━━━━━━━━━━━━━━━━━━━\u001b[0m\u001b[37m\u001b[0m \u001b[1m4s\u001b[0m 3ms/step - loss: 0.3274 - sparse_categorical_accuracy: 0.8792 - val_loss: 0.3221 - val_sparse_categorical_accuracy: 0.8863\n",
            "Epoch 5/20\n",
            "\u001b[1m1500/1500\u001b[0m \u001b[32m━━━━━━━━━━━━━━━━━━━━\u001b[0m\u001b[37m\u001b[0m \u001b[1m6s\u001b[0m 3ms/step - loss: 0.3053 - sparse_categorical_accuracy: 0.8878 - val_loss: 0.3218 - val_sparse_categorical_accuracy: 0.8853\n",
            "Epoch 6/20\n",
            "\u001b[1m1500/1500\u001b[0m \u001b[32m━━━━━━━━━━━━━━━━━━━━\u001b[0m\u001b[37m\u001b[0m \u001b[1m5s\u001b[0m 3ms/step - loss: 0.2874 - sparse_categorical_accuracy: 0.8912 - val_loss: 0.3410 - val_sparse_categorical_accuracy: 0.8762\n",
            "Epoch 7/20\n",
            "\u001b[1m1500/1500\u001b[0m \u001b[32m━━━━━━━━━━━━━━━━━━━━\u001b[0m\u001b[37m\u001b[0m \u001b[1m4s\u001b[0m 3ms/step - loss: 0.2741 - sparse_categorical_accuracy: 0.8991 - val_loss: 0.3226 - val_sparse_categorical_accuracy: 0.8838\n",
            "Epoch 8/20\n",
            "\u001b[1m1500/1500\u001b[0m \u001b[32m━━━━━━━━━━━━━━━━━━━━\u001b[0m\u001b[37m\u001b[0m \u001b[1m5s\u001b[0m 3ms/step - loss: 0.2696 - sparse_categorical_accuracy: 0.8993 - val_loss: 0.3130 - val_sparse_categorical_accuracy: 0.8872\n",
            "Epoch 9/20\n",
            "\u001b[1m1500/1500\u001b[0m \u001b[32m━━━━━━━━━━━━━━━━━━━━\u001b[0m\u001b[37m\u001b[0m \u001b[1m4s\u001b[0m 3ms/step - loss: 0.2550 - sparse_categorical_accuracy: 0.9036 - val_loss: 0.3074 - val_sparse_categorical_accuracy: 0.8876\n",
            "Epoch 10/20\n",
            "\u001b[1m1500/1500\u001b[0m \u001b[32m━━━━━━━━━━━━━━━━━━━━\u001b[0m\u001b[37m\u001b[0m \u001b[1m5s\u001b[0m 3ms/step - loss: 0.2472 - sparse_categorical_accuracy: 0.9065 - val_loss: 0.3154 - val_sparse_categorical_accuracy: 0.8878\n",
            "Epoch 11/20\n",
            "\u001b[1m1500/1500\u001b[0m \u001b[32m━━━━━━━━━━━━━━━━━━━━\u001b[0m\u001b[37m\u001b[0m \u001b[1m10s\u001b[0m 3ms/step - loss: 0.2384 - sparse_categorical_accuracy: 0.9102 - val_loss: 0.3174 - val_sparse_categorical_accuracy: 0.8888\n",
            "Epoch 12/20\n",
            "\u001b[1m1500/1500\u001b[0m \u001b[32m━━━━━━━━━━━━━━━━━━━━\u001b[0m\u001b[37m\u001b[0m \u001b[1m5s\u001b[0m 3ms/step - loss: 0.2315 - sparse_categorical_accuracy: 0.9113 - val_loss: 0.3185 - val_sparse_categorical_accuracy: 0.8907\n",
            "Epoch 13/20\n",
            "\u001b[1m1500/1500\u001b[0m \u001b[32m━━━━━━━━━━━━━━━━━━━━\u001b[0m\u001b[37m\u001b[0m \u001b[1m4s\u001b[0m 3ms/step - loss: 0.2233 - sparse_categorical_accuracy: 0.9150 - val_loss: 0.3073 - val_sparse_categorical_accuracy: 0.8929\n",
            "Epoch 14/20\n",
            "\u001b[1m1500/1500\u001b[0m \u001b[32m━━━━━━━━━━━━━━━━━━━━\u001b[0m\u001b[37m\u001b[0m \u001b[1m5s\u001b[0m 3ms/step - loss: 0.2128 - sparse_categorical_accuracy: 0.9213 - val_loss: 0.3258 - val_sparse_categorical_accuracy: 0.8874\n",
            "Epoch 15/20\n",
            "\u001b[1m1500/1500\u001b[0m \u001b[32m━━━━━━━━━━━━━━━━━━━━\u001b[0m\u001b[37m\u001b[0m \u001b[1m4s\u001b[0m 3ms/step - loss: 0.2121 - sparse_categorical_accuracy: 0.9208 - val_loss: 0.3480 - val_sparse_categorical_accuracy: 0.8858\n",
            "Epoch 16/20\n",
            "\u001b[1m1500/1500\u001b[0m \u001b[32m━━━━━━━━━━━━━━━━━━━━\u001b[0m\u001b[37m\u001b[0m \u001b[1m5s\u001b[0m 3ms/step - loss: 0.2073 - sparse_categorical_accuracy: 0.9211 - val_loss: 0.3193 - val_sparse_categorical_accuracy: 0.8936\n",
            "Epoch 17/20\n",
            "\u001b[1m1500/1500\u001b[0m \u001b[32m━━━━━━━━━━━━━━━━━━━━\u001b[0m\u001b[37m\u001b[0m \u001b[1m4s\u001b[0m 3ms/step - loss: 0.1990 - sparse_categorical_accuracy: 0.9255 - val_loss: 0.3285 - val_sparse_categorical_accuracy: 0.8901\n",
            "Epoch 18/20\n",
            "\u001b[1m1500/1500\u001b[0m \u001b[32m━━━━━━━━━━━━━━━━━━━━\u001b[0m\u001b[37m\u001b[0m \u001b[1m5s\u001b[0m 3ms/step - loss: 0.1935 - sparse_categorical_accuracy: 0.9283 - val_loss: 0.3296 - val_sparse_categorical_accuracy: 0.8937\n",
            "Epoch 19/20\n",
            "\u001b[1m1500/1500\u001b[0m \u001b[32m━━━━━━━━━━━━━━━━━━━━\u001b[0m\u001b[37m\u001b[0m \u001b[1m6s\u001b[0m 3ms/step - loss: 0.1893 - sparse_categorical_accuracy: 0.9284 - val_loss: 0.3442 - val_sparse_categorical_accuracy: 0.8878\n",
            "Epoch 20/20\n",
            "\u001b[1m1500/1500\u001b[0m \u001b[32m━━━━━━━━━━━━━━━━━━━━\u001b[0m\u001b[37m\u001b[0m \u001b[1m10s\u001b[0m 3ms/step - loss: 0.1830 - sparse_categorical_accuracy: 0.9305 - val_loss: 0.3267 - val_sparse_categorical_accuracy: 0.8960\n"
          ]
        }
      ]
    },
    {
      "cell_type": "code",
      "source": [
        "def plot_train_val_losses(history):\n",
        "    plt.plot(history.epoch, history.history['loss'], 'bo-', label='train')\n",
        "    plt.plot(history.epoch, history.history['val_loss'], 'ro:', label='validation')\n",
        "    plt.grid()\n",
        "    plt.legend()\n",
        "    plt.xlabel('epoch')\n",
        "    plt.ylabel('loss')\n",
        "    plt.show()"
      ],
      "metadata": {
        "id": "q1IXUzSousdu"
      },
      "execution_count": 105,
      "outputs": []
    },
    {
      "cell_type": "code",
      "source": [
        "plot_train_val_losses(result)"
      ],
      "metadata": {
        "colab": {
          "base_uri": "https://localhost:8080/",
          "height": 454
        },
        "id": "PP1U0qzjvQBu",
        "outputId": "0a4c1b1a-abeb-4e77-936f-2c480dc1fcf0"
      },
      "execution_count": 106,
      "outputs": [
        {
          "output_type": "display_data",
          "data": {
            "text/plain": [
              "<Figure size 640x480 with 1 Axes>"
            ],
            "image/png": "[encoded data removed]"
          },
          "metadata": {}
        }
      ]
    },
    {
      "cell_type": "markdown",
      "source": [
        "epoch를 6번 이상 수행하더라도 검증 셋의 손실이 더 이상 작아지지 않음."
      ],
      "metadata": {
        "id": "Z5905z2us9sI"
      }
    },
    {
      "cell_type": "markdown",
      "source": [
        "# Dropout\n",
        "\n",
        "*   훈련 과정(epoch)에서 일부 unit의 출력을 0으로 만드는 것(그 다음 layer로 출력값을 전달하지 않음).\n",
        "*   각 epoch마다 출력을 0으로 만드는 unit은 무작위로 선택.\n",
        "*   모델의 과대적합을 줄일 수 있음."
      ],
      "metadata": {
        "id": "_LPm_yrrwxCo"
      }
    },
    {
      "cell_type": "code",
      "source": [
        "model = create_model(layers=[keras.layers.Dropout(rate=0.3)])\n",
        "# 은닉층 뒤에 30% 비율로 출력을 0으로 만드는 Dropout 계층을 추가"
      ],
      "metadata": {
        "id": "5CBYFGkpvR1l"
      },
      "execution_count": 107,
      "outputs": []
    },
    {
      "cell_type": "code",
      "source": [
        "model.summary()"
      ],
      "metadata": {
        "colab": {
          "base_uri": "https://localhost:8080/",
          "height": 262
        },
        "id": "cNRMnhluy6xN",
        "outputId": "ad53d0f6-ff8c-479a-f54a-1635a056cba7"
      },
      "execution_count": 108,
      "outputs": [
        {
          "output_type": "display_data",
          "data": {
            "text/plain": [
              "\u001b[1mModel: \"sequential_8\"\u001b[0m\n"
            ],
            "text/html": [
              "<pre style=\"white-space:pre;overflow-x:auto;line-height:normal;font-family:Menlo,'DejaVu Sans Mono',consolas,'Courier New',monospace\"><span style=\"font-weight: bold\">Model: \"sequential_8\"</span>\n",
              "</pre>\n"
            ]
          },
          "metadata": {}
        },
        {
          "output_type": "display_data",
          "data": {
            "text/plain": [
              "┏━━━━━━━━━━━━━━━━━━━━━━━━━━━━━━━━━┳━━━━━━━━━━━━━━━━━━━━━━━━┳━━━━━━━━━━━━━━━┓\n",
              "┃\u001b[1m \u001b[0m\u001b[1mLayer (type)                   \u001b[0m\u001b[1m \u001b[0m┃\u001b[1m \u001b[0m\u001b[1mOutput Shape          \u001b[0m\u001b[1m \u001b[0m┃\u001b[1m \u001b[0m\u001b[1m      Param #\u001b[0m\u001b[1m \u001b[0m┃\n",
              "┡━━━━━━━━━━━━━━━━━━━━━━━━━━━━━━━━━╇━━━━━━━━━━━━━━━━━━━━━━━━╇━━━━━━━━━━━━━━━┩\n",
              "│ flatten_7 (\u001b[38;5;33mFlatten\u001b[0m)             │ (\u001b[38;5;45mNone\u001b[0m, \u001b[38;5;34m784\u001b[0m)            │             \u001b[38;5;34m0\u001b[0m │\n",
              "├─────────────────────────────────┼────────────────────────┼───────────────┤\n",
              "│ dense_15 (\u001b[38;5;33mDense\u001b[0m)                │ (\u001b[38;5;45mNone\u001b[0m, \u001b[38;5;34m100\u001b[0m)            │        \u001b[38;5;34m78,500\u001b[0m │\n",
              "├─────────────────────────────────┼────────────────────────┼───────────────┤\n",
              "│ dropout (\u001b[38;5;33mDropout\u001b[0m)               │ (\u001b[38;5;45mNone\u001b[0m, \u001b[38;5;34m100\u001b[0m)            │             \u001b[38;5;34m0\u001b[0m │\n",
              "├─────────────────────────────────┼────────────────────────┼───────────────┤\n",
              "│ dense_16 (\u001b[38;5;33mDense\u001b[0m)                │ (\u001b[38;5;45mNone\u001b[0m, \u001b[38;5;34m10\u001b[0m)             │         \u001b[38;5;34m1,010\u001b[0m │\n",
              "└─────────────────────────────────┴────────────────────────┴───────────────┘\n"
            ],
            "text/html": [
              "<pre style=\"white-space:pre;overflow-x:auto;line-height:normal;font-family:Menlo,'DejaVu Sans Mono',consolas,'Courier New',monospace\">┏━━━━━━━━━━━━━━━━━━━━━━━━━━━━━━━━━┳━━━━━━━━━━━━━━━━━━━━━━━━┳━━━━━━━━━━━━━━━┓\n",
              "┃<span style=\"font-weight: bold\"> Layer (type)                    </span>┃<span style=\"font-weight: bold\"> Output Shape           </span>┃<span style=\"font-weight: bold\">       Param # </span>┃\n",
              "┡━━━━━━━━━━━━━━━━━━━━━━━━━━━━━━━━━╇━━━━━━━━━━━━━━━━━━━━━━━━╇━━━━━━━━━━━━━━━┩\n",
              "│ flatten_7 (<span style=\"color: #0087ff; text-decoration-color: #0087ff\">Flatten</span>)             │ (<span style=\"color: #00d7ff; text-decoration-color: #00d7ff\">None</span>, <span style=\"color: #00af00; text-decoration-color: #00af00\">784</span>)            │             <span style=\"color: #00af00; text-decoration-color: #00af00\">0</span> │\n",
              "├─────────────────────────────────┼────────────────────────┼───────────────┤\n",
              "│ dense_15 (<span style=\"color: #0087ff; text-decoration-color: #0087ff\">Dense</span>)                │ (<span style=\"color: #00d7ff; text-decoration-color: #00d7ff\">None</span>, <span style=\"color: #00af00; text-decoration-color: #00af00\">100</span>)            │        <span style=\"color: #00af00; text-decoration-color: #00af00\">78,500</span> │\n",
              "├─────────────────────────────────┼────────────────────────┼───────────────┤\n",
              "│ dropout (<span style=\"color: #0087ff; text-decoration-color: #0087ff\">Dropout</span>)               │ (<span style=\"color: #00d7ff; text-decoration-color: #00d7ff\">None</span>, <span style=\"color: #00af00; text-decoration-color: #00af00\">100</span>)            │             <span style=\"color: #00af00; text-decoration-color: #00af00\">0</span> │\n",
              "├─────────────────────────────────┼────────────────────────┼───────────────┤\n",
              "│ dense_16 (<span style=\"color: #0087ff; text-decoration-color: #0087ff\">Dense</span>)                │ (<span style=\"color: #00d7ff; text-decoration-color: #00d7ff\">None</span>, <span style=\"color: #00af00; text-decoration-color: #00af00\">10</span>)             │         <span style=\"color: #00af00; text-decoration-color: #00af00\">1,010</span> │\n",
              "└─────────────────────────────────┴────────────────────────┴───────────────┘\n",
              "</pre>\n"
            ]
          },
          "metadata": {}
        },
        {
          "output_type": "display_data",
          "data": {
            "text/plain": [
              "\u001b[1m Total params: \u001b[0m\u001b[38;5;34m79,510\u001b[0m (310.59 KB)\n"
            ],
            "text/html": [
              "<pre style=\"white-space:pre;overflow-x:auto;line-height:normal;font-family:Menlo,'DejaVu Sans Mono',consolas,'Courier New',monospace\"><span style=\"font-weight: bold\"> Total params: </span><span style=\"color: #00af00; text-decoration-color: #00af00\">79,510</span> (310.59 KB)\n",
              "</pre>\n"
            ]
          },
          "metadata": {}
        },
        {
          "output_type": "display_data",
          "data": {
            "text/plain": [
              "\u001b[1m Trainable params: \u001b[0m\u001b[38;5;34m79,510\u001b[0m (310.59 KB)\n"
            ],
            "text/html": [
              "<pre style=\"white-space:pre;overflow-x:auto;line-height:normal;font-family:Menlo,'DejaVu Sans Mono',consolas,'Courier New',monospace\"><span style=\"font-weight: bold\"> Trainable params: </span><span style=\"color: #00af00; text-decoration-color: #00af00\">79,510</span> (310.59 KB)\n",
              "</pre>\n"
            ]
          },
          "metadata": {}
        },
        {
          "output_type": "display_data",
          "data": {
            "text/plain": [
              "\u001b[1m Non-trainable params: \u001b[0m\u001b[38;5;34m0\u001b[0m (0.00 B)\n"
            ],
            "text/html": [
              "<pre style=\"white-space:pre;overflow-x:auto;line-height:normal;font-family:Menlo,'DejaVu Sans Mono',consolas,'Courier New',monospace\"><span style=\"font-weight: bold\"> Non-trainable params: </span><span style=\"color: #00af00; text-decoration-color: #00af00\">0</span> (0.00 B)\n",
              "</pre>\n"
            ]
          },
          "metadata": {}
        }
      ]
    },
    {
      "cell_type": "code",
      "source": [
        "model.compile(optimizer=keras.optimizers.Adam(),\n",
        "              loss=keras.losses.sparse_categorical_crossentropy,\n",
        "              metrics=[keras.metrics.sparse_categorical_accuracy])"
      ],
      "metadata": {
        "id": "Oqj1hZ1Fy8Zc"
      },
      "execution_count": 109,
      "outputs": []
    },
    {
      "cell_type": "code",
      "source": [
        "result = model.fit(x=train_data_scaled, y=train_target, epochs=20,\n",
        "                   validation_data=[val_data_scaled, val_target])"
      ],
      "metadata": {
        "colab": {
          "base_uri": "https://localhost:8080/"
        },
        "id": "60Pe9MOj0CPk",
        "outputId": "6106050f-2cd2-47da-ffa5-4cc33b2a1030"
      },
      "execution_count": 110,
      "outputs": [
        {
          "output_type": "stream",
          "name": "stdout",
          "text": [
            "Epoch 1/20\n",
            "\u001b[1m1500/1500\u001b[0m \u001b[32m━━━━━━━━━━━━━━━━━━━━\u001b[0m\u001b[37m\u001b[0m \u001b[1m6s\u001b[0m 3ms/step - loss: 0.7766 - sparse_categorical_accuracy: 0.7285 - val_loss: 0.4085 - val_sparse_categorical_accuracy: 0.8533\n",
            "Epoch 2/20\n",
            "\u001b[1m1500/1500\u001b[0m \u001b[32m━━━━━━━━━━━━━━━━━━━━\u001b[0m\u001b[37m\u001b[0m \u001b[1m8s\u001b[0m 3ms/step - loss: 0.4465 - sparse_categorical_accuracy: 0.8390 - val_loss: 0.3912 - val_sparse_categorical_accuracy: 0.8586\n",
            "Epoch 3/20\n",
            "\u001b[1m1500/1500\u001b[0m \u001b[32m━━━━━━━━━━━━━━━━━━━━\u001b[0m\u001b[37m\u001b[0m \u001b[1m5s\u001b[0m 3ms/step - loss: 0.4015 - sparse_categorical_accuracy: 0.8547 - val_loss: 0.3707 - val_sparse_categorical_accuracy: 0.8633\n",
            "Epoch 4/20\n",
            "\u001b[1m1500/1500\u001b[0m \u001b[32m━━━━━━━━━━━━━━━━━━━━\u001b[0m\u001b[37m\u001b[0m \u001b[1m5s\u001b[0m 3ms/step - loss: 0.3878 - sparse_categorical_accuracy: 0.8583 - val_loss: 0.3439 - val_sparse_categorical_accuracy: 0.8730\n",
            "Epoch 5/20\n",
            "\u001b[1m1500/1500\u001b[0m \u001b[32m━━━━━━━━━━━━━━━━━━━━\u001b[0m\u001b[37m\u001b[0m \u001b[1m5s\u001b[0m 3ms/step - loss: 0.3700 - sparse_categorical_accuracy: 0.8646 - val_loss: 0.3330 - val_sparse_categorical_accuracy: 0.8800\n",
            "Epoch 6/20\n",
            "\u001b[1m1500/1500\u001b[0m \u001b[32m━━━━━━━━━━━━━━━━━━━━\u001b[0m\u001b[37m\u001b[0m \u001b[1m5s\u001b[0m 3ms/step - loss: 0.3570 - sparse_categorical_accuracy: 0.8707 - val_loss: 0.3317 - val_sparse_categorical_accuracy: 0.8825\n",
            "Epoch 7/20\n",
            "\u001b[1m1500/1500\u001b[0m \u001b[32m━━━━━━━━━━━━━━━━━━━━\u001b[0m\u001b[37m\u001b[0m \u001b[1m4s\u001b[0m 3ms/step - loss: 0.3491 - sparse_categorical_accuracy: 0.8709 - val_loss: 0.3328 - val_sparse_categorical_accuracy: 0.8816\n",
            "Epoch 8/20\n",
            "\u001b[1m1500/1500\u001b[0m \u001b[32m━━━━━━━━━━━━━━━━━━━━\u001b[0m\u001b[37m\u001b[0m \u001b[1m6s\u001b[0m 3ms/step - loss: 0.3450 - sparse_categorical_accuracy: 0.8720 - val_loss: 0.3251 - val_sparse_categorical_accuracy: 0.8830\n",
            "Epoch 9/20\n",
            "\u001b[1m1500/1500\u001b[0m \u001b[32m━━━━━━━━━━━━━━━━━━━━\u001b[0m\u001b[37m\u001b[0m \u001b[1m5s\u001b[0m 3ms/step - loss: 0.3329 - sparse_categorical_accuracy: 0.8787 - val_loss: 0.3203 - val_sparse_categorical_accuracy: 0.8868\n",
            "Epoch 10/20\n",
            "\u001b[1m1500/1500\u001b[0m \u001b[32m━━━━━━━━━━━━━━━━━━━━\u001b[0m\u001b[37m\u001b[0m \u001b[1m5s\u001b[0m 3ms/step - loss: 0.3207 - sparse_categorical_accuracy: 0.8800 - val_loss: 0.3171 - val_sparse_categorical_accuracy: 0.8853\n",
            "Epoch 11/20\n",
            "\u001b[1m1500/1500\u001b[0m \u001b[32m━━━━━━━━━━━━━━━━━━━━\u001b[0m\u001b[37m\u001b[0m \u001b[1m5s\u001b[0m 3ms/step - loss: 0.3190 - sparse_categorical_accuracy: 0.8824 - val_loss: 0.3269 - val_sparse_categorical_accuracy: 0.8847\n",
            "Epoch 12/20\n",
            "\u001b[1m1500/1500\u001b[0m \u001b[32m━━━━━━━━━━━━━━━━━━━━\u001b[0m\u001b[37m\u001b[0m \u001b[1m5s\u001b[0m 3ms/step - loss: 0.3075 - sparse_categorical_accuracy: 0.8854 - val_loss: 0.3235 - val_sparse_categorical_accuracy: 0.8849\n",
            "Epoch 13/20\n",
            "\u001b[1m1500/1500\u001b[0m \u001b[32m━━━━━━━━━━━━━━━━━━━━\u001b[0m\u001b[37m\u001b[0m \u001b[1m5s\u001b[0m 3ms/step - loss: 0.3078 - sparse_categorical_accuracy: 0.8846 - val_loss: 0.3247 - val_sparse_categorical_accuracy: 0.8835\n",
            "Epoch 14/20\n",
            "\u001b[1m1500/1500\u001b[0m \u001b[32m━━━━━━━━━━━━━━━━━━━━\u001b[0m\u001b[37m\u001b[0m \u001b[1m4s\u001b[0m 3ms/step - loss: 0.3036 - sparse_categorical_accuracy: 0.8876 - val_loss: 0.3090 - val_sparse_categorical_accuracy: 0.8914\n",
            "Epoch 15/20\n",
            "\u001b[1m1500/1500\u001b[0m \u001b[32m━━━━━━━━━━━━━━━━━━━━\u001b[0m\u001b[37m\u001b[0m \u001b[1m4s\u001b[0m 3ms/step - loss: 0.2948 - sparse_categorical_accuracy: 0.8879 - val_loss: 0.3091 - val_sparse_categorical_accuracy: 0.8899\n",
            "Epoch 16/20\n",
            "\u001b[1m1500/1500\u001b[0m \u001b[32m━━━━━━━━━━━━━━━━━━━━\u001b[0m\u001b[37m\u001b[0m \u001b[1m6s\u001b[0m 3ms/step - loss: 0.2933 - sparse_categorical_accuracy: 0.8912 - val_loss: 0.3210 - val_sparse_categorical_accuracy: 0.8893\n",
            "Epoch 17/20\n",
            "\u001b[1m1500/1500\u001b[0m \u001b[32m━━━━━━━━━━━━━━━━━━━━\u001b[0m\u001b[37m\u001b[0m \u001b[1m10s\u001b[0m 3ms/step - loss: 0.2866 - sparse_categorical_accuracy: 0.8930 - val_loss: 0.3153 - val_sparse_categorical_accuracy: 0.8913\n",
            "Epoch 18/20\n",
            "\u001b[1m1500/1500\u001b[0m \u001b[32m━━━━━━━━━━━━━━━━━━━━\u001b[0m\u001b[37m\u001b[0m \u001b[1m4s\u001b[0m 3ms/step - loss: 0.2810 - sparse_categorical_accuracy: 0.8940 - val_loss: 0.3101 - val_sparse_categorical_accuracy: 0.8927\n",
            "Epoch 19/20\n",
            "\u001b[1m1500/1500\u001b[0m \u001b[32m━━━━━━━━━━━━━━━━━━━━\u001b[0m\u001b[37m\u001b[0m \u001b[1m5s\u001b[0m 3ms/step - loss: 0.2813 - sparse_categorical_accuracy: 0.8941 - val_loss: 0.3086 - val_sparse_categorical_accuracy: 0.8931\n",
            "Epoch 20/20\n",
            "\u001b[1m1500/1500\u001b[0m \u001b[32m━━━━━━━━━━━━━━━━━━━━\u001b[0m\u001b[37m\u001b[0m \u001b[1m5s\u001b[0m 3ms/step - loss: 0.2758 - sparse_categorical_accuracy: 0.8975 - val_loss: 0.3151 - val_sparse_categorical_accuracy: 0.8894\n"
          ]
        }
      ]
    },
    {
      "cell_type": "code",
      "source": [
        "plot_train_val_losses(result)"
      ],
      "metadata": {
        "colab": {
          "base_uri": "https://localhost:8080/",
          "height": 449
        },
        "id": "RBGSZ2CJ0Mk7",
        "outputId": "09418f24-aec8-4717-dbd9-c11a0e8e969a"
      },
      "execution_count": 111,
      "outputs": [
        {
          "output_type": "display_data",
          "data": {
            "text/plain": [
              "<Figure size 640x480 with 1 Axes>"
            ],
            "image/png": "[encoded data removed]"
          },
          "metadata": {}
        }
      ]
    },
    {
      "cell_type": "markdown",
      "source": [
        "# 모델 저장과 복원"
      ],
      "metadata": {
        "id": "rHFOPVdC6H4l"
      }
    },
    {
      "cell_type": "code",
      "source": [
        "model.summary()"
      ],
      "metadata": {
        "colab": {
          "base_uri": "https://localhost:8080/",
          "height": 279
        },
        "id": "6Bm7I2-I6KtN",
        "outputId": "38ea095b-40f6-44e6-feee-5110d3419806"
      },
      "execution_count": 112,
      "outputs": [
        {
          "output_type": "display_data",
          "data": {
            "text/plain": [
              "\u001b[1mModel: \"sequential_8\"\u001b[0m\n"
            ],
            "text/html": [
              "<pre style=\"white-space:pre;overflow-x:auto;line-height:normal;font-family:Menlo,'DejaVu Sans Mono',consolas,'Courier New',monospace\"><span style=\"font-weight: bold\">Model: \"sequential_8\"</span>\n",
              "</pre>\n"
            ]
          },
          "metadata": {}
        },
        {
          "output_type": "display_data",
          "data": {
            "text/plain": [
              "┏━━━━━━━━━━━━━━━━━━━━━━━━━━━━━━━━━┳━━━━━━━━━━━━━━━━━━━━━━━━┳━━━━━━━━━━━━━━━┓\n",
              "┃\u001b[1m \u001b[0m\u001b[1mLayer (type)                   \u001b[0m\u001b[1m \u001b[0m┃\u001b[1m \u001b[0m\u001b[1mOutput Shape          \u001b[0m\u001b[1m \u001b[0m┃\u001b[1m \u001b[0m\u001b[1m      Param #\u001b[0m\u001b[1m \u001b[0m┃\n",
              "┡━━━━━━━━━━━━━━━━━━━━━━━━━━━━━━━━━╇━━━━━━━━━━━━━━━━━━━━━━━━╇━━━━━━━━━━━━━━━┩\n",
              "│ flatten_7 (\u001b[38;5;33mFlatten\u001b[0m)             │ (\u001b[38;5;45mNone\u001b[0m, \u001b[38;5;34m784\u001b[0m)            │             \u001b[38;5;34m0\u001b[0m │\n",
              "├─────────────────────────────────┼────────────────────────┼───────────────┤\n",
              "│ dense_15 (\u001b[38;5;33mDense\u001b[0m)                │ (\u001b[38;5;45mNone\u001b[0m, \u001b[38;5;34m100\u001b[0m)            │        \u001b[38;5;34m78,500\u001b[0m │\n",
              "├─────────────────────────────────┼────────────────────────┼───────────────┤\n",
              "│ dropout (\u001b[38;5;33mDropout\u001b[0m)               │ (\u001b[38;5;45mNone\u001b[0m, \u001b[38;5;34m100\u001b[0m)            │             \u001b[38;5;34m0\u001b[0m │\n",
              "├─────────────────────────────────┼────────────────────────┼───────────────┤\n",
              "│ dense_16 (\u001b[38;5;33mDense\u001b[0m)                │ (\u001b[38;5;45mNone\u001b[0m, \u001b[38;5;34m10\u001b[0m)             │         \u001b[38;5;34m1,010\u001b[0m │\n",
              "└─────────────────────────────────┴────────────────────────┴───────────────┘\n"
            ],
            "text/html": [
              "<pre style=\"white-space:pre;overflow-x:auto;line-height:normal;font-family:Menlo,'DejaVu Sans Mono',consolas,'Courier New',monospace\">┏━━━━━━━━━━━━━━━━━━━━━━━━━━━━━━━━━┳━━━━━━━━━━━━━━━━━━━━━━━━┳━━━━━━━━━━━━━━━┓\n",
              "┃<span style=\"font-weight: bold\"> Layer (type)                    </span>┃<span style=\"font-weight: bold\"> Output Shape           </span>┃<span style=\"font-weight: bold\">       Param # </span>┃\n",
              "┡━━━━━━━━━━━━━━━━━━━━━━━━━━━━━━━━━╇━━━━━━━━━━━━━━━━━━━━━━━━╇━━━━━━━━━━━━━━━┩\n",
              "│ flatten_7 (<span style=\"color: #0087ff; text-decoration-color: #0087ff\">Flatten</span>)             │ (<span style=\"color: #00d7ff; text-decoration-color: #00d7ff\">None</span>, <span style=\"color: #00af00; text-decoration-color: #00af00\">784</span>)            │             <span style=\"color: #00af00; text-decoration-color: #00af00\">0</span> │\n",
              "├─────────────────────────────────┼────────────────────────┼───────────────┤\n",
              "│ dense_15 (<span style=\"color: #0087ff; text-decoration-color: #0087ff\">Dense</span>)                │ (<span style=\"color: #00d7ff; text-decoration-color: #00d7ff\">None</span>, <span style=\"color: #00af00; text-decoration-color: #00af00\">100</span>)            │        <span style=\"color: #00af00; text-decoration-color: #00af00\">78,500</span> │\n",
              "├─────────────────────────────────┼────────────────────────┼───────────────┤\n",
              "│ dropout (<span style=\"color: #0087ff; text-decoration-color: #0087ff\">Dropout</span>)               │ (<span style=\"color: #00d7ff; text-decoration-color: #00d7ff\">None</span>, <span style=\"color: #00af00; text-decoration-color: #00af00\">100</span>)            │             <span style=\"color: #00af00; text-decoration-color: #00af00\">0</span> │\n",
              "├─────────────────────────────────┼────────────────────────┼───────────────┤\n",
              "│ dense_16 (<span style=\"color: #0087ff; text-decoration-color: #0087ff\">Dense</span>)                │ (<span style=\"color: #00d7ff; text-decoration-color: #00d7ff\">None</span>, <span style=\"color: #00af00; text-decoration-color: #00af00\">10</span>)             │         <span style=\"color: #00af00; text-decoration-color: #00af00\">1,010</span> │\n",
              "└─────────────────────────────────┴────────────────────────┴───────────────┘\n",
              "</pre>\n"
            ]
          },
          "metadata": {}
        },
        {
          "output_type": "display_data",
          "data": {
            "text/plain": [
              "\u001b[1m Total params: \u001b[0m\u001b[38;5;34m238,532\u001b[0m (931.77 KB)\n"
            ],
            "text/html": [
              "<pre style=\"white-space:pre;overflow-x:auto;line-height:normal;font-family:Menlo,'DejaVu Sans Mono',consolas,'Courier New',monospace\"><span style=\"font-weight: bold\"> Total params: </span><span style=\"color: #00af00; text-decoration-color: #00af00\">238,532</span> (931.77 KB)\n",
              "</pre>\n"
            ]
          },
          "metadata": {}
        },
        {
          "output_type": "display_data",
          "data": {
            "text/plain": [
              "\u001b[1m Trainable params: \u001b[0m\u001b[38;5;34m79,510\u001b[0m (310.59 KB)\n"
            ],
            "text/html": [
              "<pre style=\"white-space:pre;overflow-x:auto;line-height:normal;font-family:Menlo,'DejaVu Sans Mono',consolas,'Courier New',monospace\"><span style=\"font-weight: bold\"> Trainable params: </span><span style=\"color: #00af00; text-decoration-color: #00af00\">79,510</span> (310.59 KB)\n",
              "</pre>\n"
            ]
          },
          "metadata": {}
        },
        {
          "output_type": "display_data",
          "data": {
            "text/plain": [
              "\u001b[1m Non-trainable params: \u001b[0m\u001b[38;5;34m0\u001b[0m (0.00 B)\n"
            ],
            "text/html": [
              "<pre style=\"white-space:pre;overflow-x:auto;line-height:normal;font-family:Menlo,'DejaVu Sans Mono',consolas,'Courier New',monospace\"><span style=\"font-weight: bold\"> Non-trainable params: </span><span style=\"color: #00af00; text-decoration-color: #00af00\">0</span> (0.00 B)\n",
              "</pre>\n"
            ]
          },
          "metadata": {}
        },
        {
          "output_type": "display_data",
          "data": {
            "text/plain": [
              "\u001b[1m Optimizer params: \u001b[0m\u001b[38;5;34m159,022\u001b[0m (621.18 KB)\n"
            ],
            "text/html": [
              "<pre style=\"white-space:pre;overflow-x:auto;line-height:normal;font-family:Menlo,'DejaVu Sans Mono',consolas,'Courier New',monospace\"><span style=\"font-weight: bold\"> Optimizer params: </span><span style=\"color: #00af00; text-decoration-color: #00af00\">159,022</span> (621.18 KB)\n",
              "</pre>\n"
            ]
          },
          "metadata": {}
        }
      ]
    },
    {
      "cell_type": "code",
      "source": [
        "len(model.weights)"
      ],
      "metadata": {
        "colab": {
          "base_uri": "https://localhost:8080/"
        },
        "id": "LwgSg9tz6MdE",
        "outputId": "1e60a23a-cb1b-4783-e8c9-41653d5cf3af"
      },
      "execution_count": 114,
      "outputs": [
        {
          "output_type": "execute_result",
          "data": {
            "text/plain": [
              "4"
            ]
          },
          "metadata": {},
          "execution_count": 114
        }
      ]
    },
    {
      "cell_type": "code",
      "source": [
        "model.weights[0]  #> (784, 100) shape. 첫번째 은닉층에서 학습된 가중치들."
      ],
      "metadata": {
        "colab": {
          "base_uri": "https://localhost:8080/"
        },
        "id": "ZeysFbDU6kSM",
        "outputId": "5bc8958d-05d2-4a5a-9687-1e4a8381de31"
      },
      "execution_count": 116,
      "outputs": [
        {
          "output_type": "execute_result",
          "data": {
            "text/plain": [
              "<Variable path=sequential_8/dense_15/kernel, shape=(784, 100), dtype=float32, value=[[ 0.0311612   0.02474512 -0.1131414  ... -0.09337743  0.02836364\n",
              "   0.2748005 ]\n",
              " [-0.06125542 -0.1191967   0.10989875 ...  0.08489571  0.09814743\n",
              "   0.2815332 ]\n",
              " [ 0.0950825  -0.6712331  -0.37240618 ...  0.09725031 -0.18065187\n",
              "   0.16204311]\n",
              " ...\n",
              " [ 0.35616606  0.41825148  0.07191543 ... -0.21038239  0.05998271\n",
              "   0.08008796]\n",
              " [ 0.28294298 -0.14392619  0.20804854 ...  0.02941484  0.5561869\n",
              "  -0.03039658]\n",
              " [ 0.2920062   0.09623046  0.06433321 ...  0.18975934  0.34755543\n",
              "  -0.03148513]]>"
            ]
          },
          "metadata": {},
          "execution_count": 116
        }
      ]
    },
    {
      "cell_type": "code",
      "source": [
        "model.weights[1]  #> (100,) shape. 첫번째 은닉층에서 학습된 bias들."
      ],
      "metadata": {
        "colab": {
          "base_uri": "https://localhost:8080/"
        },
        "id": "EHVDT-vW7Sir",
        "outputId": "abf0c8f0-51d4-4e01-8f0f-19e36d999820"
      },
      "execution_count": 117,
      "outputs": [
        {
          "output_type": "execute_result",
          "data": {
            "text/plain": [
              "<Variable path=sequential_8/dense_15/bias, shape=(100,), dtype=float32, value=[ 0.36107495 -0.10711242 -0.1276333   0.63142204  0.83686453 -0.05335209\n",
              "  0.16255489  0.27351585  0.29867095 -0.46988565 -0.1442392  -0.11912777\n",
              "  0.41429195  0.35813808 -0.01616238  0.2068076   0.18578906  0.06685238\n",
              " -0.42856598  0.02283224  0.14234471  0.26091522  0.03007323  0.59001654\n",
              "  0.01399006  0.17586216  0.6832942   0.31804234  0.04303218 -0.35177225\n",
              " -0.18758968 -0.01083554  1.1417466   0.7110643   0.3441171   0.05778435\n",
              "  0.39183939  0.08360377 -0.01611319 -0.08134063  0.66213983 -0.16285078\n",
              "  0.22012919  0.44437063 -0.34891266 -0.02790909 -0.01543996 -0.64048326\n",
              "  0.03445339  0.52747107 -0.07735454  0.7370489   0.11432719 -0.52311844\n",
              "  0.57129526  0.61241305  0.2942868   0.6480168  -0.2892      0.01356498\n",
              " -0.02077862  0.09892176  0.05122189 -0.01066572  1.1531146   0.21046366\n",
              " -0.0601856  -0.01575682  0.32869357  0.4074973   0.86521274  0.7221421\n",
              "  0.37179145 -0.02190283 -0.06824738  0.7863558  -0.50887454  0.6019259\n",
              "  0.09676412 -0.09768026  0.7718278   0.6114578   0.3661564   0.43593475\n",
              " -0.08353052 -0.39021215  0.7560919   0.09288216 -0.15258445 -0.04769525\n",
              "  0.25130355  0.41657993  0.15388535 -0.4577215  -0.29237765  0.29050827\n",
              "  0.42523503 -0.00575991  0.62265587  0.6109    ]>"
            ]
          },
          "metadata": {},
          "execution_count": 117
        }
      ]
    },
    {
      "cell_type": "code",
      "source": [
        " model.weights[2]  #> (100, 10) shape. 출력층에서 학습된 가중치들."
      ],
      "metadata": {
        "colab": {
          "base_uri": "https://localhost:8080/"
        },
        "id": "XHWVYtul7Vz8",
        "outputId": "7e3091ec-ec13-4288-ef15-a4591d41a958"
      },
      "execution_count": 118,
      "outputs": [
        {
          "output_type": "execute_result",
          "data": {
            "text/plain": [
              "<Variable path=sequential_8/dense_16/kernel, shape=(100, 10), dtype=float32, value=[[ 2.05018684e-01  3.02939802e-01 -7.03896701e-01 -9.50648189e-02\n",
              "  -3.85333717e-01 -4.96434033e-01 -1.71728477e-01  4.58886683e-01\n",
              "  -1.38745621e-01 -6.02244973e-01]\n",
              " [-2.53636479e-01  3.61303866e-01  2.22720146e-01 -5.63839912e-01\n",
              "   2.30590239e-01 -3.34133096e-02  8.27048495e-02 -9.90413249e-01\n",
              "  -5.37344694e-01  1.17707830e-02]\n",
              " [ 1.30277172e-01  3.33926417e-02  1.42550483e-01  1.42890558e-01\n",
              "   2.80192077e-01  2.62216330e-01 -7.53991529e-02 -1.02269888e-01\n",
              "   3.41557801e-01 -3.65395725e-01]\n",
              " [ 3.08409780e-01  2.11841628e-01 -9.42124844e-01  5.76938204e-02\n",
              "  -4.48239774e-01  4.02708292e-01  8.35821182e-02 -8.32217813e-01\n",
              "   3.36961336e-02 -7.00146556e-01]\n",
              " [ 6.37788996e-02 -1.03913295e+00  1.03582971e-01  2.06854180e-01\n",
              "  -8.64191875e-02  1.56027555e-01  1.49925247e-01 -1.16830565e-01\n",
              "  -5.62561929e-01 -4.61455882e-01]\n",
              " [-5.08678198e-01  3.77730221e-01 -1.32109568e-01 -1.86084852e-01\n",
              "  -5.30280583e-02  1.48235679e-01 -4.76710439e-01  1.72387853e-01\n",
              "   1.59979202e-02 -1.79758027e-01]\n",
              " [ 3.53013486e-01  3.83035123e-01 -5.63110054e-01 -8.21526587e-01\n",
              "   3.91012579e-02  3.30598891e-01 -6.01669252e-01 -3.50510240e-01\n",
              "  -1.00077319e+00  2.63533264e-01]\n",
              " [ 9.44740847e-02 -1.52930126e-01  1.40704021e-01  2.37594292e-01\n",
              "  -3.59042473e-02 -1.58386767e-01 -8.36807042e-02 -1.03737676e+00\n",
              "   2.76262581e-01 -1.00391054e+00]\n",
              " [ 1.89365044e-01  3.28350037e-01  4.36340738e-03 -2.15443805e-01\n",
              "  -3.11563104e-01 -2.85696030e-01  1.99564099e-01 -2.04380244e-01\n",
              "   2.09745005e-01 -6.48358941e-01]\n",
              " [-6.34994730e-02  4.06606942e-01 -2.21750289e-01 -5.62166929e-01\n",
              "  -3.90629023e-01 -3.89439851e-01  2.10206300e-01  1.75038204e-01\n",
              "   3.48502517e-01  2.54562885e-01]\n",
              " [ 9.25871879e-02 -6.46251887e-02 -4.59739007e-02 -1.57949194e-01\n",
              "  -9.21004772e-01 -4.45056796e-01 -3.35093662e-02  6.64915591e-02\n",
              "  -7.40716219e-01  5.92903830e-02]\n",
              " [-1.41447857e-01 -4.60399091e-01 -4.62532699e-01  2.39967480e-01\n",
              "  -1.30189121e-01 -3.79788071e-01 -7.96096995e-02  9.48484465e-02\n",
              "  -3.87459517e-01  2.00614378e-01]\n",
              " [-4.61517155e-01 -2.32592106e-01 -2.38233998e-01  2.18060896e-01\n",
              "   1.26721472e-01  3.47004920e-01  1.34605050e-01 -8.43474567e-01\n",
              "  -7.83744931e-01 -5.87286055e-01]\n",
              " [-2.51672626e-01  1.91613182e-01  2.39409581e-01  1.89645976e-01\n",
              "  -2.75592774e-01 -2.07733989e-01 -2.25751862e-01  4.41714041e-02\n",
              "  -4.35756445e-01  1.45407453e-01]\n",
              " [-9.35719088e-02  1.18060922e-02 -7.31085688e-02  1.22603975e-01\n",
              "   2.63608173e-02 -1.46431848e-01  2.12341726e-01 -1.25550702e-01\n",
              "  -5.31033725e-02 -7.70598203e-02]\n",
              " [-1.46326110e-01  1.62878513e-01  1.67324588e-01  1.71660483e-01\n",
              "   1.83880389e-01 -1.18789685e+00 -1.45020485e-01 -8.46324086e-01\n",
              "  -1.33400718e-02 -2.60157526e-01]\n",
              " [-4.88112986e-01 -4.86721873e-01 -4.72502112e-01  1.60130449e-02\n",
              "  -6.59256220e-01  5.15758283e-02 -3.21324646e-01  4.30575348e-02\n",
              "   4.29783612e-02  6.45827129e-02]\n",
              " [-2.38095567e-01  2.50636399e-01 -6.31518543e-01  3.94236743e-02\n",
              "  -4.58562136e-01 -1.46260634e-01 -1.47856757e-01  1.46034405e-01\n",
              "  -4.89684820e-01  1.04206547e-01]\n",
              " [-1.29719540e-01 -5.93895018e-01 -8.42389911e-02  1.64477319e-01\n",
              "   1.31998539e-01 -2.59079158e-01  1.51447907e-01 -3.71656239e-01\n",
              "   2.49376386e-01 -8.95245466e-03]\n",
              " [-3.01078483e-02 -2.04909652e-01  1.02770887e-01 -1.16868126e+00\n",
              "  -2.98585683e-01  1.71617806e-01 -6.78696064e-03 -3.39198828e-01\n",
              "  -7.00802565e-01  2.29241177e-01]\n",
              " [ 1.99479431e-01 -1.54380769e-01  2.18951494e-01 -2.07531169e-01\n",
              "   3.01116239e-02 -2.11159989e-01  5.46675175e-02 -1.08804059e+00\n",
              "  -2.18395114e-01 -8.98280025e-01]\n",
              " [ 1.16213731e-01 -2.30255738e-01  1.61743164e-01 -1.27892941e-01\n",
              "  -9.37044546e-02 -1.26525700e-01  1.15097664e-01 -7.19843328e-01\n",
              "   1.95981771e-01 -3.78948122e-01]\n",
              " [ 2.29392096e-01 -4.21999931e-01  1.90575048e-01  2.01081008e-01\n",
              "  -7.75684714e-02 -1.02666652e+00 -1.62701577e-01 -1.50052714e+00\n",
              "  -6.24779403e-01 -6.65305138e-01]\n",
              " [-2.11409628e-01 -6.79574311e-01  2.23399475e-01 -6.79196954e-01\n",
              "  -6.02260828e-02  2.36279089e-02 -2.73493648e-01  2.12012157e-01\n",
              "   1.57847032e-01 -2.52158016e-01]\n",
              " [-1.19597697e+00 -8.56183946e-01 -7.96539783e-01 -1.41600037e+00\n",
              "  -9.62346315e-01  4.59109843e-01 -1.02709091e+00 -3.28694493e-01\n",
              "  -1.16430712e+00  3.86718392e-01]\n",
              " [-9.20717940e-02 -6.63272291e-02 -8.03783000e-01  1.39991373e-01\n",
              "  -3.95639569e-01 -1.76878765e-01 -4.45276469e-01  3.60262424e-01\n",
              "   3.36730838e-01 -2.06906587e-01]\n",
              " [-1.22163832e+00 -2.09267810e-02 -1.25383794e+00 -3.74949306e-01\n",
              "  -9.74747419e-01  1.70932680e-01 -1.48426902e+00  2.05287904e-01\n",
              "  -6.49187624e-01  1.96604073e-01]\n",
              " [-3.88511360e-01 -4.84547317e-01  1.29295349e-01 -2.78206289e-01\n",
              "  -6.65879995e-02  2.64692158e-01 -3.20043594e-01  2.31835306e-01\n",
              "   3.29286158e-01 -2.24944726e-01]\n",
              " [-1.92671761e-01 -6.78659618e-01  1.53331280e-01 -1.14153326e-01\n",
              "   1.70813754e-01 -3.70269775e-01  1.11183874e-01 -3.31213959e-02\n",
              "  -2.09220812e-01 -3.46361369e-01]\n",
              " [-2.37312447e-02 -4.19690937e-01 -8.40683103e-01 -2.06420705e-01\n",
              "  -8.56395245e-01 -1.19407713e-01 -5.30792236e-01  1.35402322e-01\n",
              "  -1.16732860e+00  1.95336416e-01]\n",
              " [-2.83876479e-01 -3.28079045e-01  7.38838762e-02 -1.79273799e-01\n",
              "   1.00160353e-01 -1.08827960e+00  9.44139287e-02 -1.46588206e+00\n",
              "  -3.76241654e-01 -1.53178036e-01]\n",
              " [ 4.23176549e-02  1.32755101e-01  2.17505664e-01 -5.08938581e-02\n",
              "  -5.77774756e-02 -1.39857069e-01  5.11827413e-04  7.74255693e-02\n",
              "  -6.24651797e-02  1.61281809e-01]\n",
              " [-7.58318126e-01 -8.27716410e-01 -1.20968556e+00 -1.26848531e+00\n",
              "  -7.96548426e-01  4.26503837e-01 -9.38856423e-01  4.26330864e-01\n",
              "  -1.00561745e-01 -2.49307021e-01]\n",
              " [-5.13092428e-02  3.52753311e-01  4.79840301e-02 -5.02995476e-02\n",
              "  -2.87631333e-01 -6.39866479e-03  6.96724355e-02 -4.28186297e-01\n",
              "  -1.26597002e-01 -8.32644045e-01]\n",
              " [-7.64791250e-01 -4.15056378e-01 -4.74293292e-01  6.23158328e-02\n",
              "  -1.17584181e+00  2.40300164e-01 -4.96168435e-01  5.30120097e-02\n",
              "  -6.69298694e-02  2.53814965e-01]\n",
              " [-2.40029737e-01 -4.39269066e-01 -2.25696191e-01 -2.41078186e+00\n",
              "  -8.89360607e-02  2.31712550e-01 -5.79471409e-01 -6.25578642e-01\n",
              "   2.38211557e-01 -3.30121219e-02]\n",
              " [-2.01016098e-01 -2.68404707e-02 -1.59303367e-01  4.00328264e-02\n",
              "  -3.11074287e-01  4.23935682e-01  8.47724080e-02 -7.72877932e-01\n",
              "  -1.88469380e-01 -4.93040010e-02]\n",
              " [ 8.19020569e-02 -9.20565352e-02  1.74918085e-01  1.66928649e-01\n",
              "   2.25983486e-01  1.42310197e-02 -2.82346308e-01 -9.31589365e-01\n",
              "   3.24448258e-01 -9.48911846e-01]\n",
              " [ 1.06127802e-02 -2.34838873e-01  1.95718110e-01 -2.11811721e-01\n",
              "  -2.06320405e-01 -2.16740027e-01 -2.07090676e-01  1.26021445e-01\n",
              "   4.43826523e-03 -9.50491875e-02]\n",
              " [ 4.76762019e-02 -1.11036623e+00  2.50145290e-02 -5.49551964e-01\n",
              "   1.09365396e-01 -2.98708826e-01 -1.64838195e-01 -1.09522447e-01\n",
              "   9.14131030e-02  1.72811612e-01]\n",
              " [ 2.56076783e-01  1.67947546e-01 -2.33746082e-01  1.84573099e-01\n",
              "  -5.43888748e-01 -4.46783900e-01  2.63378173e-01 -1.98371232e+00\n",
              "  -4.75314826e-01 -4.55171764e-01]\n",
              " [-1.37726337e-01  3.35044742e-01 -4.93372262e-01  2.66150355e-01\n",
              "  -5.42710945e-02 -4.68709588e-01 -2.61527747e-01  2.33845353e-01\n",
              "  -1.56694099e-01  3.16125810e-01]\n",
              " [-8.19012642e-01 -1.04801142e+00 -2.43053272e-01 -8.76101315e-01\n",
              "  -4.56564277e-01  6.75746381e-01 -1.02699757e+00 -7.53468990e-01\n",
              "  -4.52290058e-01 -4.98439878e-01]\n",
              " [ 1.48504525e-01 -8.09449732e-01  1.88962087e-01 -9.76155046e-03\n",
              "  -7.39726126e-02 -6.78308383e-02  6.66948631e-02  2.64596730e-01\n",
              "  -3.47860724e-01 -1.23290993e-01]\n",
              " [-2.73411483e-01 -5.20431876e-01  1.48007065e-01 -9.99746472e-03\n",
              "   1.98345989e-01  1.20068535e-01  1.80513397e-01 -1.19708455e+00\n",
              "  -5.93124986e-01 -6.95105135e-01]\n",
              " [-1.59559652e-01  1.83755606e-01  1.69311017e-02 -1.85688049e-01\n",
              "   1.80430412e-01 -1.53865755e-01  1.95777699e-01  1.47814646e-01\n",
              "  -1.21357433e-01 -4.59760949e-02]\n",
              " [-1.79248005e-01 -2.53760844e-01 -1.53138995e-01  1.61744028e-01\n",
              "   1.49804011e-01 -7.71285668e-02 -6.44965172e-02 -4.59547900e-02\n",
              "  -1.98599901e-02  9.25991163e-02]\n",
              " [ 1.55667424e-01  3.99380863e-01  1.75922230e-01 -1.36453807e-01\n",
              "   2.26266578e-01 -1.18562388e+00  5.34997396e-02 -1.80099761e+00\n",
              "  -1.23761550e-01 -6.89829350e-01]\n",
              " [ 1.82558507e-01 -2.91091800e-01  5.04713207e-02 -2.03970283e-01\n",
              "  -2.25566566e-01 -3.97671670e-01  2.15501562e-01  9.49017033e-02\n",
              "  -9.13719237e-02  6.81362376e-02]\n",
              " [ 2.93674588e-01 -3.15250456e-01 -1.52198702e-01  2.04234660e-01\n",
              "  -4.62674260e-01 -2.36894071e-01  2.78144032e-01 -1.54460990e+00\n",
              "  -3.39072943e-01 -6.33849204e-01]\n",
              " [ 1.07717320e-01 -2.06961185e-01  2.00588211e-01 -2.38459319e-01\n",
              "  -1.94580540e-01  1.59702748e-01 -2.05096200e-01 -2.94720858e-01\n",
              "   2.82028913e-01  1.43887088e-01]\n",
              " [-7.90407956e-02 -3.45249474e-01  3.73344719e-01 -4.75127161e-01\n",
              "  -5.04339814e-01  8.32017362e-01 -6.14119053e-01 -2.42738843e-01\n",
              "  -3.02194029e-01 -6.96087778e-01]\n",
              " [-9.44507360e-01 -6.22552693e-01 -6.23507559e-01 -1.01118839e+00\n",
              "  -1.14297569e+00  4.46696281e-01 -9.68814850e-01 -2.39744365e-01\n",
              "  -7.36004829e-01 -6.33307874e-01]\n",
              " [-1.49843454e-01  2.96833724e-01  9.73564908e-02  2.55167540e-02\n",
              "   1.86042070e-01 -5.97983718e-01  1.14229068e-01 -1.54353514e-01\n",
              "   1.25598744e-01 -5.84054530e-01]\n",
              " [ 1.84908770e-02 -1.03558838e+00 -3.89085203e-01 -2.69586861e-01\n",
              "  -1.03697516e-01  1.49170175e-01  2.75855392e-01  2.06107587e-01\n",
              "  -8.80218372e-02 -7.11896896e-01]\n",
              " [ 1.19200557e-01 -9.02002275e-01  1.35582834e-02  2.16576651e-01\n",
              "  -7.14824498e-02 -1.81709886e-01  2.01232806e-01  6.69835135e-02\n",
              "  -3.64419430e-01 -3.37051600e-01]\n",
              " [-2.81815022e-01 -7.65560448e-01 -3.10772270e-01  2.94457048e-01\n",
              "  -9.67092812e-02  6.67586863e-01  3.34823459e-01 -5.30240119e-01\n",
              "  -1.25527978e-01 -8.94168079e-01]\n",
              " [ 2.99254179e-01 -5.55717707e-01 -7.23867342e-02 -1.54669397e-02\n",
              "  -2.25803833e-02 -5.88601708e-01  3.07910711e-01  1.06796147e-02\n",
              "  -1.83213070e-01 -6.93568766e-01]\n",
              " [-5.63586533e-01  5.54784417e-01 -3.01877018e-02 -5.60171247e-01\n",
              "  -4.21772867e-01 -2.81769216e-01 -9.14238334e-01  2.23377079e-01\n",
              "  -9.39074397e-01  2.55797356e-01]\n",
              " [-3.47345293e-01 -4.08447146e-01 -4.03637588e-01 -4.50780571e-01\n",
              "   1.52902761e-02  9.37741771e-02 -3.71017270e-02 -5.22260547e-01\n",
              "   4.21667457e-01 -4.59372729e-01]\n",
              " [-2.17791364e-01 -1.79123417e-01  1.44171426e-02  4.91444394e-02\n",
              "   5.46446554e-02 -1.69250920e-01 -3.61129045e-02 -2.30044708e-01\n",
              "  -8.59265924e-02 -1.01828136e-01]\n",
              " [-7.67949581e-01  3.88399869e-01 -4.62974519e-01 -1.93328500e-01\n",
              "   7.01291487e-02 -1.44828092e-02 -8.50436568e-01 -8.92632306e-01\n",
              "   6.12040997e-01 -6.75278902e-01]\n",
              " [ 1.64266586e-01 -2.20337138e-01 -1.71648860e-01 -5.23052096e-01\n",
              "  -9.75584090e-02 -9.53546725e-03 -1.23659588e-01 -4.37385291e-01\n",
              "   1.00465052e-01 -1.60930809e-02]\n",
              " [-4.40819785e-02  4.44216877e-02  1.56559750e-01 -2.91993171e-02\n",
              "  -2.75551304e-02 -4.80188690e-02  1.64623901e-01  8.52004662e-02\n",
              "  -1.04434881e-02  1.71051040e-01]\n",
              " [-4.59465504e-01 -1.09940135e+00 -1.22167492e+00 -1.41334975e+00\n",
              "  -6.21765137e-01  3.10609162e-01 -1.82087970e+00  3.85282278e-01\n",
              "  -7.85020113e-01 -8.09081614e-01]\n",
              " [-7.00215697e-01 -4.28537101e-01  1.84728518e-01 -4.32979107e-01\n",
              "  -4.56066459e-01  1.04685016e-01 -2.27205455e-01 -5.55857003e-01\n",
              "   3.05184513e-01 -5.57615638e-01]\n",
              " [-2.35580698e-01  2.24100456e-01 -1.63950119e-02  2.04464689e-01\n",
              "   2.34630391e-01 -6.48469448e-01  1.98489890e-01  9.73016471e-02\n",
              "  -2.92775422e-01 -4.41445112e-01]\n",
              " [-2.01378074e-02  1.95981115e-01  1.90042958e-01 -5.86965270e-02\n",
              "  -2.55906805e-02 -1.22254625e-01  1.05252214e-01  9.53599066e-02\n",
              "   3.03434953e-02  8.09027702e-02]\n",
              " [-3.74023408e-01  2.40035638e-01  1.78760253e-02  1.07808679e-01\n",
              "   1.85546935e-01  3.57599139e-01 -4.07950729e-01 -8.53345096e-02\n",
              "  -4.11631256e-01 -8.40517104e-01]\n",
              " [-2.58488953e-01 -1.68928313e+00 -5.01317322e-01 -3.35998356e-01\n",
              "  -1.09812461e-01  7.54166842e-01  2.55747497e-01 -7.51038730e-01\n",
              "   8.23145807e-02 -8.27391624e-01]\n",
              " [ 1.78926095e-01  3.49526733e-01  2.47952685e-01  2.33775303e-01\n",
              "  -6.64189383e-02 -4.54850048e-01  2.29181442e-02 -1.59757173e+00\n",
              "  -1.39978230e-01 -9.35475647e-01]\n",
              " [ 1.82408467e-01 -5.91139078e-01  1.82104528e-01  1.49038896e-01\n",
              "  -1.48719586e-02 -4.76033658e-01  1.35625228e-01 -1.79379928e+00\n",
              "  -2.72392817e-02 -3.98553371e-01]\n",
              " [ 1.71456132e-02 -7.80141830e-01 -4.44710225e-01 -6.49684191e-01\n",
              "  -1.37333229e-01  1.26443908e-01 -1.40114769e-01  6.23582788e-02\n",
              "   1.90499589e-01  1.55766048e-02]\n",
              " [ 2.25774217e-02 -9.25779417e-02  1.72667969e-02  4.01934050e-02\n",
              "  -1.05209246e-01 -2.19269872e-01  1.23174287e-01  9.60459784e-02\n",
              "  -5.91608137e-02 -3.35171893e-02]\n",
              " [-1.06320441e-01  1.20075367e-01  1.78392068e-01 -5.06130099e-01\n",
              "   1.91927254e-01 -3.02613109e-01  1.65033415e-01 -1.12149362e-02\n",
              "  -4.22475874e-01 -7.57656097e-01]\n",
              " [-1.57094002e-01 -6.28037512e-01 -1.29285781e-02 -7.38541126e-01\n",
              "  -8.67295980e-01  1.10188924e-01 -1.88650653e-01  2.33992726e-01\n",
              "   3.12862903e-01 -1.16043635e-01]\n",
              " [-5.31535894e-02  1.70962557e-01  6.31584823e-02 -3.18768501e-01\n",
              "  -6.71249852e-02 -3.46175164e-01 -1.49157271e-02 -2.73029029e-01\n",
              "   3.54794025e-01  2.68355571e-02]\n",
              " [-8.72190475e-01 -4.74712282e-01 -1.29531801e+00 -9.80846822e-01\n",
              "  -7.08229184e-01  7.66022503e-02 -9.72327292e-01  1.26393944e-01\n",
              "  -5.53085327e-01  1.01850562e-01]\n",
              " [ 1.70474350e-01  1.76640138e-01  1.84799060e-01  1.79457352e-01\n",
              "   2.35155329e-01 -4.37319428e-01  9.89216343e-02 -1.59121013e+00\n",
              "  -4.44783121e-01 -1.96758255e-01]\n",
              " [-2.47631520e-01  3.50954950e-01 -6.54386699e-01 -3.37398827e-01\n",
              "  -1.68316886e-01 -4.58171576e-01 -3.99232179e-01 -1.83448970e-01\n",
              "   7.30293453e-01  7.32429624e-02]\n",
              " [ 2.85385758e-01 -9.18915391e-01  8.07183795e-03 -4.23523933e-01\n",
              "  -2.03567013e-01 -1.09286432e-03  2.63280213e-01 -2.12893382e-01\n",
              "   2.24258065e-01 -8.13155115e-01]\n",
              " [-3.44959766e-01  2.23049670e-01 -4.56537277e-01  3.77204955e-01\n",
              "  -8.83889735e-01  1.82557553e-01 -3.37444574e-01  3.57455105e-01\n",
              "   6.51559010e-02 -5.79005778e-01]\n",
              " [-4.60584695e-03  2.76330322e-01 -6.45995319e-01  2.39171624e-01\n",
              "  -4.85805482e-01 -5.11681676e-01 -1.65832326e-01 -1.73426390e+00\n",
              "  -1.59137964e-01 -7.55184174e-01]\n",
              " [-1.77020654e-02  1.22542307e-01 -2.17768669e-01  2.24909976e-01\n",
              "   2.33607635e-01 -7.09061980e-01 -8.35054368e-02  7.41213709e-02\n",
              "   1.62209690e-01 -4.92129505e-01]\n",
              " [ 3.37078162e-02 -3.20105493e-01  1.92338452e-01 -1.96237519e-01\n",
              "   1.82370216e-01 -2.83887595e-01  1.80724069e-01 -6.66815102e-01\n",
              "   1.88308001e-01 -6.75052881e-01]\n",
              " [ 1.98013797e-01 -2.66283959e-01 -3.20240594e-02 -7.90074319e-02\n",
              "   1.17981844e-01 -5.16946077e-01  1.87848955e-01 -1.76435187e-01\n",
              "   2.51859993e-01  1.38817519e-01]\n",
              " [ 1.94477588e-01  1.98859543e-01 -4.53794569e-01  1.18060231e-01\n",
              "  -5.26696384e-01  4.78567213e-01 -8.12777728e-02 -1.00560856e+00\n",
              "  -4.31620628e-01 -6.16726577e-01]\n",
              " [-3.03494960e-01  4.68502253e-01 -3.04105163e-01 -9.55843925e-02\n",
              "   1.79785088e-01  6.52795374e-01 -2.89511740e-01 -1.05901492e+00\n",
              "  -6.26531422e-01 -3.83540124e-01]\n",
              " [-5.45695186e-01 -5.31990707e-01 -3.95761251e-01 -3.78434718e-01\n",
              "  -2.29896456e-02  1.60085395e-01 -2.95770913e-01  1.63692027e-01\n",
              "   2.04277486e-01  1.84277505e-01]\n",
              " [ 3.07788514e-02  5.62277846e-02 -1.46818593e-01 -2.05620732e-02\n",
              "  -1.11773342e-01 -1.39425159e-01 -5.63956015e-02  6.56617954e-02\n",
              "  -8.17902312e-02 -1.12393565e-01]\n",
              " [-6.02221265e-02  6.01152703e-02 -1.00264885e-01  1.09835640e-01\n",
              "   1.21288955e-01  1.09239846e-01  2.68323690e-01 -3.13528955e-01\n",
              "  -2.38291964e-01  1.41143113e-01]\n",
              " [ 3.84085447e-01 -8.34167242e-01 -3.29431355e-01 -9.73011613e-01\n",
              "   1.57222956e-01  5.42681456e-01 -1.07894525e-01 -2.80907422e-01\n",
              "  -5.92153490e-01 -8.34497809e-01]\n",
              " [ 1.49563879e-01 -4.77383256e-01  1.18658148e-01  9.82675701e-02\n",
              "   1.70031562e-01 -3.89343917e-01  1.64327204e-01 -7.20458388e-01\n",
              "   1.30927727e-01 -9.58654165e-01]\n",
              " [-9.02339518e-02 -6.30151153e-01 -4.25070077e-01 -4.52010989e-01\n",
              "  -2.54656941e-01  3.18755815e-03 -1.86356530e-01  1.73457824e-02\n",
              "   5.96270934e-02  5.76656871e-02]\n",
              " [-9.34382379e-02 -4.95711327e-01  2.25134790e-01 -1.11662216e-01\n",
              "   2.90362716e-01 -3.89749259e-01 -2.75612593e-01 -7.84505248e-01\n",
              "   2.72203740e-02 -4.15033281e-01]\n",
              " [-8.40407759e-02 -1.03044629e+00  1.32451013e-01 -2.74876535e-01\n",
              "   7.05056638e-02  1.34443581e-01  1.66999236e-01 -4.43174779e-01\n",
              "  -5.77926517e-01  1.67520836e-01]\n",
              " [ 2.07230493e-01 -1.10027325e+00 -8.19854736e-01 -1.40351534e+00\n",
              "   1.65230203e-02  6.93463683e-01 -6.03178680e-01 -4.76739585e-01\n",
              "  -7.74271488e-01 -4.25607651e-01]\n",
              " [ 1.62556440e-01  1.93606153e-01  9.77038965e-03  1.44090027e-01\n",
              "   2.90559918e-01 -1.21028471e+00  1.09267145e-01 -1.59111357e+00\n",
              "  -9.39942673e-02 -4.48840737e-01]\n",
              " [-5.34916043e-01 -6.29731953e-01 -1.26959133e+00  7.26098344e-02\n",
              "  -1.17580414e+00  1.58174068e-01 -3.64310771e-01  1.91655025e-01\n",
              "  -4.32657391e-01  1.99961171e-01]\n",
              " [ 1.56646550e-01 -2.39022076e-01 -4.25685942e-01  2.67689347e-01\n",
              "   2.00522467e-01 -2.32436620e-02 -1.29647732e-01 -9.87898529e-01\n",
              "   8.31329450e-02 -4.82394487e-01]]>"
            ]
          },
          "metadata": {},
          "execution_count": 118
        }
      ]
    },
    {
      "cell_type": "code",
      "source": [
        "model.weights[3]  #> (10,) shape. 출력층에서 학습된 bias들."
      ],
      "metadata": {
        "colab": {
          "base_uri": "https://localhost:8080/"
        },
        "id": "phYRGBBt73Lc",
        "outputId": "5014eb8c-b6b8-4b3b-bda3-ec1782810476"
      },
      "execution_count": 119,
      "outputs": [
        {
          "output_type": "execute_result",
          "data": {
            "text/plain": [
              "<Variable path=sequential_8/dense_16/bias, shape=(10,), dtype=float32, value=[ 0.02758506 -0.71619445  0.11475127  0.355211   -0.08064951 -0.38270083\n",
              "  0.23658161  0.2518074  -0.01934446 -0.6930058 ]>"
            ]
          },
          "metadata": {},
          "execution_count": 119
        }
      ]
    },
    {
      "cell_type": "markdown",
      "source": [
        "## 모델 저장"
      ],
      "metadata": {
        "id": "MtjUyGE-8cAC"
      }
    },
    {
      "cell_type": "code",
      "source": [
        "path = '/content/drive/MyDrive/Colab Notebooks/lab_da'\n",
        "\n",
        "# 모델 파라미터들만 저장하는 파일의 확장자는 '.weights.h5'\n",
        "weights_file = path + '/model1.weights.h5'\n",
        "\n",
        "# 훈련이 끝난 모델을 저장하는 파일의 확장자는 '.keras'\n",
        "model_file = path + '/model1.keras'"
      ],
      "metadata": {
        "id": "HjuKVBUS8iYL"
      },
      "execution_count": 120,
      "outputs": []
    },
    {
      "cell_type": "code",
      "source": [
        "# 모델 파라미터들만 저장\n",
        "model.save_weights(weights_file)"
      ],
      "metadata": {
        "id": "y_lG1Tke9xwy"
      },
      "execution_count": 121,
      "outputs": []
    },
    {
      "cell_type": "code",
      "source": [
        "# 모델의 구조와 모델 파라미터들을 함께 저장\n",
        "model.save(model_file)"
      ],
      "metadata": {
        "id": "69T7efOG98ti"
      },
      "execution_count": 122,
      "outputs": []
    },
    {
      "cell_type": "markdown",
      "source": [
        "## 파일에 저장된 모델을 복원"
      ],
      "metadata": {
        "id": "8bqIKLnj-vnZ"
      }
    },
    {
      "cell_type": "markdown",
      "source": [
        "### 모델 파라미터들만 저장한 파일(weights.h5)에서 복원"
      ],
      "metadata": {
        "id": "zBhcScYh-0-4"
      }
    },
    {
      "cell_type": "code",
      "source": [
        "# 모델 파라미터와 같은 구조로 모델을 먼저 생성.\n",
        "model = create_model(layers=[keras.layers.Dropout(rate=0.3)])"
      ],
      "metadata": {
        "id": "r--Nu0Pp-QYy"
      },
      "execution_count": 123,
      "outputs": []
    },
    {
      "cell_type": "code",
      "source": [
        "# 생성된 모델에서 load_weights 메서드 호출, 아규먼트는 저장된 가중치 파일.\n",
        "model.load_weights(weights_file)"
      ],
      "metadata": {
        "id": "5G3lNKL1_dda"
      },
      "execution_count": 124,
      "outputs": []
    },
    {
      "cell_type": "markdown",
      "source": [
        "모델 파라미터들만 복원한 경우에는 모델이 컴파일되어 있지 않은 상태이기 때문에 `evaluate()` 메서드를 호출할 수 없음. 모델 파라미터(가중치들)들은 모두 복원이 됐기 때문에 `predict()` 메서드는 호출 가능."
      ],
      "metadata": {
        "id": "WcQCQF4ABn4o"
      }
    },
    {
      "cell_type": "code",
      "source": [
        "predicts = model.predict(x=train_data_scaled)"
      ],
      "metadata": {
        "colab": {
          "base_uri": "https://localhost:8080/"
        },
        "id": "yLua3xWy_oux",
        "outputId": "3943be2f-be8b-48c9-f744-024b866ba074"
      },
      "execution_count": 126,
      "outputs": [
        {
          "output_type": "stream",
          "name": "stdout",
          "text": [
            "\u001b[1m1500/1500\u001b[0m \u001b[32m━━━━━━━━━━━━━━━━━━━━\u001b[0m\u001b[37m\u001b[0m \u001b[1m2s\u001b[0m 1ms/step\n"
          ]
        }
      ]
    },
    {
      "cell_type": "code",
      "source": [
        "predict_labels = predicts.argmax(axis=1)"
      ],
      "metadata": {
        "id": "dO6xStjy_4gJ"
      },
      "execution_count": 127,
      "outputs": []
    },
    {
      "cell_type": "code",
      "source": [
        "accuracy_score(train_target, predict_labels)"
      ],
      "metadata": {
        "colab": {
          "base_uri": "https://localhost:8080/"
        },
        "id": "AGHMFXk_AXCQ",
        "outputId": "54e57e40-673a-4640-d3b1-db7dc121e399"
      },
      "execution_count": 128,
      "outputs": [
        {
          "output_type": "execute_result",
          "data": {
            "text/plain": [
              "0.9128958333333334"
            ]
          },
          "metadata": {},
          "execution_count": 128
        }
      ]
    },
    {
      "cell_type": "markdown",
      "source": [
        "### 모델 구조와 파라미터들을 저장한 파일(keras)에서 모델을 복원"
      ],
      "metadata": {
        "id": "JWq7z2VAA0_p"
      }
    },
    {
      "cell_type": "code",
      "source": [
        "# keras.models.load_model() 함수 호출, 모델을 저장할 파일(.keras)을 아규먼트로 줌.\n",
        "model = keras.models.load_model(model_file, compile=True)"
      ],
      "metadata": {
        "id": "f9x-5YafAaXo"
      },
      "execution_count": 129,
      "outputs": []
    },
    {
      "cell_type": "markdown",
      "source": [
        "확장자가 .keras인 파일에서 모델을 복원하는 경우는 컴파일이 끝난 모델을 복원함. `evaluate()` 메서드와 `predict()` 메서드들을 모두 사용할 수 있음."
      ],
      "metadata": {
        "id": "jB8U4ht4CKcv"
      }
    },
    {
      "cell_type": "code",
      "source": [
        "model.evaluate(x=train_data_scaled, y=train_target)"
      ],
      "metadata": {
        "colab": {
          "base_uri": "https://localhost:8080/"
        },
        "id": "oFLHlljnBToQ",
        "outputId": "43cb9869-e2cc-4809-b450-21e62a350b8c"
      },
      "execution_count": 130,
      "outputs": [
        {
          "output_type": "stream",
          "name": "stdout",
          "text": [
            "\u001b[1m1500/1500\u001b[0m \u001b[32m━━━━━━━━━━━━━━━━━━━━\u001b[0m\u001b[37m\u001b[0m \u001b[1m5s\u001b[0m 3ms/step - loss: 0.2290 - sparse_categorical_accuracy: 0.9115\n"
          ]
        },
        {
          "output_type": "execute_result",
          "data": {
            "text/plain": [
              "[0.23035632073879242, 0.9128958582878113]"
            ]
          },
          "metadata": {},
          "execution_count": 130
        }
      ]
    },
    {
      "cell_type": "markdown",
      "source": [
        "# Callback"
      ],
      "metadata": {
        "id": "liGc3WdrF_kc"
      }
    },
    {
      "cell_type": "markdown",
      "source": [
        "*   callback(콜백): 훈련 과정 중간에 어떤 작업을 수행할 수 있게 만드는 객체. `keras.callbacks` 모듈 아래의 클래스들을 사용할 수 있음.\n",
        "*   `keras.callbacks.ModelCheckpoint` 클래스\n",
        "    *   epoch마다 모델을 저장할 수 있는 기능을 가지고 있는 클래스.\n",
        "    *   `save_best_only` 파라미터를 True로 설정해서 가장 검증 손실이 작은 모델만을 저장할 수 있음.\n",
        "*   `keras.callbacks.EarlyStopping` 클래스\n",
        "    *   과대적합이 시작되기 전에 훈련을 일찍 종료시킬 수 있는 기능을 가지고 있는 클래스.\n",
        "    *   `fit()` 메서드에서 설정된 epochs 횟수보다 일찍 모델 훈련이 종료될 수 있음."
      ],
      "metadata": {
        "id": "1ybkFLO9GDFM"
      }
    },
    {
      "cell_type": "code",
      "source": [
        "# 모델 생성\n",
        "model = create_model(layers=[keras.layers.Dropout(rate=0.3)])"
      ],
      "metadata": {
        "id": "ZO6n3FsTBY6o"
      },
      "execution_count": 137,
      "outputs": []
    },
    {
      "cell_type": "code",
      "source": [
        "# 모델 컴파일\n",
        "model.compile(optimizer=keras.optimizers.Adam(),\n",
        "              loss=keras.losses.sparse_categorical_crossentropy,\n",
        "              metrics=[keras.metrics.sparse_categorical_accuracy])"
      ],
      "metadata": {
        "id": "oU2NCWTvIc12"
      },
      "execution_count": 138,
      "outputs": []
    },
    {
      "cell_type": "code",
      "source": [
        "# 모델체크포인트 콜백 객체 생성\n",
        "checkpoint_cb = keras.callbacks.ModelCheckpoint(filepath=path + '/best_model.keras',\n",
        "                                                save_best_only=True)"
      ],
      "metadata": {
        "id": "g28yOQmJIvlD"
      },
      "execution_count": 139,
      "outputs": []
    },
    {
      "cell_type": "code",
      "source": [
        "# 조기종료 콜백 객체 생성\n",
        "early_stop_cb = keras.callbacks.EarlyStopping(patience=3,\n",
        "                                              restore_best_weights=True)"
      ],
      "metadata": {
        "id": "BLTkH5ooJsq0"
      },
      "execution_count": 140,
      "outputs": []
    },
    {
      "cell_type": "code",
      "source": [
        "# 검증 셋과 콜백들을 설정해서 모델을 훈련\n",
        "result = model.fit(x=train_data_scaled, y=train_target, epochs=100,\n",
        "                   callbacks=[checkpoint_cb, early_stop_cb],\n",
        "                   validation_data=[val_data_scaled, val_target])"
      ],
      "metadata": {
        "colab": {
          "base_uri": "https://localhost:8080/"
        },
        "id": "louTL84VKVd7",
        "outputId": "dacd9a30-8c33-4175-f674-7d41707306d3"
      },
      "execution_count": 141,
      "outputs": [
        {
          "output_type": "stream",
          "name": "stdout",
          "text": [
            "Epoch 1/100\n",
            "\u001b[1m1500/1500\u001b[0m \u001b[32m━━━━━━━━━━━━━━━━━━━━\u001b[0m\u001b[37m\u001b[0m \u001b[1m6s\u001b[0m 3ms/step - loss: 0.7692 - sparse_categorical_accuracy: 0.7320 - val_loss: 0.4149 - val_sparse_categorical_accuracy: 0.8493\n",
            "Epoch 2/100\n",
            "\u001b[1m1500/1500\u001b[0m \u001b[32m━━━━━━━━━━━━━━━━━━━━\u001b[0m\u001b[37m\u001b[0m \u001b[1m8s\u001b[0m 3ms/step - loss: 0.4539 - sparse_categorical_accuracy: 0.8347 - val_loss: 0.3740 - val_sparse_categorical_accuracy: 0.8618\n",
            "Epoch 3/100\n",
            "\u001b[1m1500/1500\u001b[0m \u001b[32m━━━━━━━━━━━━━━━━━━━━\u001b[0m\u001b[37m\u001b[0m \u001b[1m6s\u001b[0m 3ms/step - loss: 0.4112 - sparse_categorical_accuracy: 0.8517 - val_loss: 0.3609 - val_sparse_categorical_accuracy: 0.8652\n",
            "Epoch 4/100\n",
            "\u001b[1m1500/1500\u001b[0m \u001b[32m━━━━━━━━━━━━━━━━━━━━\u001b[0m\u001b[37m\u001b[0m \u001b[1m5s\u001b[0m 3ms/step - loss: 0.3822 - sparse_categorical_accuracy: 0.8590 - val_loss: 0.3445 - val_sparse_categorical_accuracy: 0.8738\n",
            "Epoch 5/100\n",
            "\u001b[1m1500/1500\u001b[0m \u001b[32m━━━━━━━━━━━━━━━━━━━━\u001b[0m\u001b[37m\u001b[0m \u001b[1m4s\u001b[0m 3ms/step - loss: 0.3707 - sparse_categorical_accuracy: 0.8643 - val_loss: 0.3351 - val_sparse_categorical_accuracy: 0.8783\n",
            "Epoch 6/100\n",
            "\u001b[1m1500/1500\u001b[0m \u001b[32m━━━━━━━━━━━━━━━━━━━━\u001b[0m\u001b[37m\u001b[0m \u001b[1m6s\u001b[0m 3ms/step - loss: 0.3623 - sparse_categorical_accuracy: 0.8682 - val_loss: 0.3276 - val_sparse_categorical_accuracy: 0.8796\n",
            "Epoch 7/100\n",
            "\u001b[1m1500/1500\u001b[0m \u001b[32m━━━━━━━━━━━━━━━━━━━━\u001b[0m\u001b[37m\u001b[0m \u001b[1m4s\u001b[0m 3ms/step - loss: 0.3433 - sparse_categorical_accuracy: 0.8711 - val_loss: 0.3329 - val_sparse_categorical_accuracy: 0.8788\n",
            "Epoch 8/100\n",
            "\u001b[1m1500/1500\u001b[0m \u001b[32m━━━━━━━━━━━━━━━━━━━━\u001b[0m\u001b[37m\u001b[0m \u001b[1m5s\u001b[0m 3ms/step - loss: 0.3358 - sparse_categorical_accuracy: 0.8745 - val_loss: 0.3188 - val_sparse_categorical_accuracy: 0.8849\n",
            "Epoch 9/100\n",
            "\u001b[1m1500/1500\u001b[0m \u001b[32m━━━━━━━━━━━━━━━━━━━━\u001b[0m\u001b[37m\u001b[0m \u001b[1m6s\u001b[0m 3ms/step - loss: 0.3274 - sparse_categorical_accuracy: 0.8775 - val_loss: 0.3235 - val_sparse_categorical_accuracy: 0.8827\n",
            "Epoch 10/100\n",
            "\u001b[1m1500/1500\u001b[0m \u001b[32m━━━━━━━━━━━━━━━━━━━━\u001b[0m\u001b[37m\u001b[0m \u001b[1m4s\u001b[0m 3ms/step - loss: 0.3239 - sparse_categorical_accuracy: 0.8788 - val_loss: 0.3193 - val_sparse_categorical_accuracy: 0.8819\n",
            "Epoch 11/100\n",
            "\u001b[1m1500/1500\u001b[0m \u001b[32m━━━━━━━━━━━━━━━━━━━━\u001b[0m\u001b[37m\u001b[0m \u001b[1m6s\u001b[0m 3ms/step - loss: 0.3168 - sparse_categorical_accuracy: 0.8815 - val_loss: 0.3087 - val_sparse_categorical_accuracy: 0.8892\n",
            "Epoch 12/100\n",
            "\u001b[1m1500/1500\u001b[0m \u001b[32m━━━━━━━━━━━━━━━━━━━━\u001b[0m\u001b[37m\u001b[0m \u001b[1m4s\u001b[0m 3ms/step - loss: 0.3023 - sparse_categorical_accuracy: 0.8871 - val_loss: 0.3261 - val_sparse_categorical_accuracy: 0.8841\n",
            "Epoch 13/100\n",
            "\u001b[1m1500/1500\u001b[0m \u001b[32m━━━━━━━━━━━━━━━━━━━━\u001b[0m\u001b[37m\u001b[0m \u001b[1m4s\u001b[0m 3ms/step - loss: 0.3064 - sparse_categorical_accuracy: 0.8851 - val_loss: 0.3187 - val_sparse_categorical_accuracy: 0.8863\n",
            "Epoch 14/100\n",
            "\u001b[1m1500/1500\u001b[0m \u001b[32m━━━━━━━━━━━━━━━━━━━━\u001b[0m\u001b[37m\u001b[0m \u001b[1m7s\u001b[0m 4ms/step - loss: 0.2968 - sparse_categorical_accuracy: 0.8876 - val_loss: 0.3148 - val_sparse_categorical_accuracy: 0.8881\n"
          ]
        }
      ]
    },
    {
      "cell_type": "code",
      "source": [
        "plot_train_val_losses(result)"
      ],
      "metadata": {
        "colab": {
          "base_uri": "https://localhost:8080/",
          "height": 449
        },
        "id": "-YKh8HlTK1fy",
        "outputId": "cabf87ff-eaaa-4ffe-dd8a-6dc5de8d5184"
      },
      "execution_count": 142,
      "outputs": [
        {
          "output_type": "display_data",
          "data": {
            "text/plain": [
              "<Figure size 640x480 with 1 Axes>"
            ],
            "image/png": "[encoded data removed]"
          },
          "metadata": {}
        }
      ]
    },
    {
      "cell_type": "code",
      "source": [
        "# 훈련이 끝난 모델 평가\n",
        "model.evaluate(x=train_data_scaled, y=train_target)"
      ],
      "metadata": {
        "colab": {
          "base_uri": "https://localhost:8080/"
        },
        "id": "cAvqG9ktMD9K",
        "outputId": "aa6a3f16-ff7b-4cd0-b62c-ccc35223b4b3"
      },
      "execution_count": 143,
      "outputs": [
        {
          "output_type": "stream",
          "name": "stdout",
          "text": [
            "\u001b[1m1500/1500\u001b[0m \u001b[32m━━━━━━━━━━━━━━━━━━━━\u001b[0m\u001b[37m\u001b[0m \u001b[1m4s\u001b[0m 2ms/step - loss: 0.2555 - sparse_categorical_accuracy: 0.9026\n"
          ]
        },
        {
          "output_type": "execute_result",
          "data": {
            "text/plain": [
              "[0.25822713971138, 0.9037291407585144]"
            ]
          },
          "metadata": {},
          "execution_count": 143
        }
      ]
    },
    {
      "cell_type": "code",
      "source": [
        "model.evaluate(x=val_data_scaled, y=val_target)"
      ],
      "metadata": {
        "colab": {
          "base_uri": "https://localhost:8080/"
        },
        "id": "Q4gm-4DqM6ig",
        "outputId": "873f0fc2-f22a-49eb-be4f-06e9e455d4d1"
      },
      "execution_count": 144,
      "outputs": [
        {
          "output_type": "stream",
          "name": "stdout",
          "text": [
            "\u001b[1m375/375\u001b[0m \u001b[32m━━━━━━━━━━━━━━━━━━━━\u001b[0m\u001b[37m\u001b[0m \u001b[1m1s\u001b[0m 2ms/step - loss: 0.3068 - sparse_categorical_accuracy: 0.8857\n"
          ]
        },
        {
          "output_type": "execute_result",
          "data": {
            "text/plain": [
              "[0.30873599648475647, 0.8891666531562805]"
            ]
          },
          "metadata": {},
          "execution_count": 144
        }
      ]
    },
    {
      "cell_type": "code",
      "source": [
        "# 최적의 파라미터들과 모델 구조를 저장할 파일에서 모델을 복원\n",
        "best_model = keras.models.load_model(filepath=path + '/best_model.keras')"
      ],
      "metadata": {
        "id": "v5XFQzLDNCUw"
      },
      "execution_count": 145,
      "outputs": []
    },
    {
      "cell_type": "code",
      "source": [
        "best_model.evaluate(x=train_data_scaled, y=train_target)"
      ],
      "metadata": {
        "colab": {
          "base_uri": "https://localhost:8080/"
        },
        "id": "CRIOn1hANfbB",
        "outputId": "847a78ba-68ca-4b36-ffee-d9738c4d9c05"
      },
      "execution_count": 146,
      "outputs": [
        {
          "output_type": "stream",
          "name": "stdout",
          "text": [
            "\u001b[1m1500/1500\u001b[0m \u001b[32m━━━━━━━━━━━━━━━━━━━━\u001b[0m\u001b[37m\u001b[0m \u001b[1m4s\u001b[0m 2ms/step - loss: 0.2555 - sparse_categorical_accuracy: 0.9026\n"
          ]
        },
        {
          "output_type": "execute_result",
          "data": {
            "text/plain": [
              "[0.25822713971138, 0.9037291407585144]"
            ]
          },
          "metadata": {},
          "execution_count": 146
        }
      ]
    },
    {
      "cell_type": "code",
      "source": [
        "best_model.evaluate(x=val_data_scaled, y=val_target)"
      ],
      "metadata": {
        "colab": {
          "base_uri": "https://localhost:8080/"
        },
        "id": "7tiucDSYNnUo",
        "outputId": "e0a511fe-c9bc-45a8-ead9-e588694b06c4"
      },
      "execution_count": 147,
      "outputs": [
        {
          "output_type": "stream",
          "name": "stdout",
          "text": [
            "\u001b[1m375/375\u001b[0m \u001b[32m━━━━━━━━━━━━━━━━━━━━\u001b[0m\u001b[37m\u001b[0m \u001b[1m1s\u001b[0m 2ms/step - loss: 0.3068 - sparse_categorical_accuracy: 0.8857\n"
          ]
        },
        {
          "output_type": "execute_result",
          "data": {
            "text/plain": [
              "[0.30873599648475647, 0.8891666531562805]"
            ]
          },
          "metadata": {},
          "execution_count": 147
        }
      ]
    }
  ]
}