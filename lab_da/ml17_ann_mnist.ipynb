{
  "nbformat": 4,
  "nbformat_minor": 0,
  "metadata": {
    "colab": {
      "provenance": [],
      "toc_visible": true,
      "gpuType": "T4",
      "authorship_tag": "ABX9TyPYwJDIp3VQGQZNFpqNNhfy",
      "include_colab_link": true
    },
    "kernelspec": {
      "name": "python3",
      "display_name": "Python 3"
    },
    "language_info": {
      "name": "python"
    },
    "accelerator": "GPU"
  },
  "cells": [
    {
      "cell_type": "markdown",
      "metadata": {
        "id": "view-in-github",
        "colab_type": "text"
      },
      "source": [
        "<a href=\"https://colab.research.google.com/github/JakeOh/202505_BD50/blob/main/lab_da/ml17_ann_mnist.ipynb\" target=\"_parent\"><img src=\"https://colab.research.google.com/assets/colab-badge.svg\" alt=\"Open In Colab\"/></a>"
      ]
    },
    {
      "cell_type": "markdown",
      "source": [
        "# Fashion MNIST 이미지 분류"
      ],
      "metadata": {
        "id": "BMY5zhKpiOEC"
      }
    },
    {
      "cell_type": "markdown",
      "source": [
        "# Imports"
      ],
      "metadata": {
        "id": "cZGoHu1Vib-5"
      }
    },
    {
      "cell_type": "code",
      "execution_count": 1,
      "metadata": {
        "id": "HONwKi4RiJbf"
      },
      "outputs": [],
      "source": [
        "import numpy as np\n",
        "import matplotlib.pyplot as plt\n",
        "\n",
        "import tensorflow as tf\n",
        "import keras\n",
        "\n",
        "from sklearn.model_selection import train_test_split\n",
        "from sklearn.linear_model import SGDClassifier\n",
        "from sklearn.metrics import accuracy_score"
      ]
    },
    {
      "cell_type": "code",
      "source": [
        "tf.__version__"
      ],
      "metadata": {
        "colab": {
          "base_uri": "https://localhost:8080/",
          "height": 36
        },
        "id": "O_pzblp3insr",
        "outputId": "a849c1ba-b464-4c95-bcdd-e8c6247fa9c6"
      },
      "execution_count": 2,
      "outputs": [
        {
          "output_type": "execute_result",
          "data": {
            "text/plain": [
              "'2.19.0'"
            ],
            "application/vnd.google.colaboratory.intrinsic+json": {
              "type": "string"
            }
          },
          "metadata": {},
          "execution_count": 2
        }
      ]
    },
    {
      "cell_type": "code",
      "source": [
        "keras.__version__"
      ],
      "metadata": {
        "colab": {
          "base_uri": "https://localhost:8080/",
          "height": 36
        },
        "id": "7qLuBzKFivNb",
        "outputId": "72da9bec-af50-490c-a403-f326c4b5f3ff"
      },
      "execution_count": 3,
      "outputs": [
        {
          "output_type": "execute_result",
          "data": {
            "text/plain": [
              "'3.10.0'"
            ],
            "application/vnd.google.colaboratory.intrinsic+json": {
              "type": "string"
            }
          },
          "metadata": {},
          "execution_count": 3
        }
      ]
    },
    {
      "cell_type": "code",
      "source": [
        "print(keras.config.backend())  # Keras 라이브러리에서 신경망 계산을 할 때 필요한 라이브러리."
      ],
      "metadata": {
        "colab": {
          "base_uri": "https://localhost:8080/"
        },
        "id": "kvI68JBLi1Li",
        "outputId": "8c937b37-97fb-4309-82ac-2808c3751fc1"
      },
      "execution_count": 4,
      "outputs": [
        {
          "output_type": "stream",
          "name": "stdout",
          "text": [
            "tensorflow\n"
          ]
        }
      ]
    },
    {
      "cell_type": "code",
      "source": [
        "print(tf.config.list_physical_devices())  # CPU/GPU/TPU 사용 여부 확인"
      ],
      "metadata": {
        "colab": {
          "base_uri": "https://localhost:8080/"
        },
        "id": "WNTaqoQ1i-3y",
        "outputId": "b435e3fb-feac-43d2-ff9e-395052d088ce"
      },
      "execution_count": 5,
      "outputs": [
        {
          "output_type": "stream",
          "name": "stdout",
          "text": [
            "[PhysicalDevice(name='/physical_device:CPU:0', device_type='CPU'), PhysicalDevice(name='/physical_device:GPU:0', device_type='GPU')]\n"
          ]
        }
      ]
    },
    {
      "cell_type": "markdown",
      "source": [
        "Keras 라이브러리는 GPU 연산을 직접 수행하지 않음. 대신에 GPU 연산을 수행하는 다른 딥러닝 라이브러리를 백엔드(backend)로 활용함.\n",
        "\n",
        "*   Keras에서 사용할 수 있는 백엔드 종류\n",
        "    *   TensorFlow - Google에서 만든 텐서(Tensor) 연산을 빠르게 수행하기 위한 라이브러리.\n",
        "    *   PyTorch - Meta(페이스북)에서 만든 딥러닝 라이브러리 -> 리눅스 재단으로 오픈소스로 공개.\n",
        "*   Keras\n",
        "    *   여러가지 백엔드를 사용해서 신경망을 쉽게 만들고 사용할 수 있도록 만든 고급 라이브러리.\n",
        "    *   2.3.1 버전 이후부터는 TensorFlow만 단일 백엔드로 사용하도록 기능 변경.\n",
        "    *   3.0 버전부터 다시 멀티 백엔드 정책으로 바뀜."
      ],
      "metadata": {
        "id": "qbl2qlJuj4jh"
      }
    },
    {
      "cell_type": "markdown",
      "source": [
        "# Fashion MNIST 데이터 셋\n",
        "\n",
        "10가지 패션 아이템의 28x28 크기의 흑백 이미지 60,000개 훈련 셋/레이블, 10,000개 테스트 셋/레이블."
      ],
      "metadata": {
        "id": "eRg0bUlPm99H"
      }
    },
    {
      "cell_type": "code",
      "source": [
        "(x_train, y_train), (x_test, y_test) = keras.datasets.fashion_mnist.load_data()\n",
        "# (훈련 셋, 훈련 레이블), (테스트 셋, 테스트 레이블)"
      ],
      "metadata": {
        "colab": {
          "base_uri": "https://localhost:8080/"
        },
        "id": "DxMl4fiBjd5D",
        "outputId": "83b6a572-1d9c-4be7-eb29-853a170288ec"
      },
      "execution_count": 6,
      "outputs": [
        {
          "output_type": "stream",
          "name": "stdout",
          "text": [
            "Downloading data from https://storage.googleapis.com/tensorflow/tf-keras-datasets/train-labels-idx1-ubyte.gz\n",
            "\u001b[1m29515/29515\u001b[0m \u001b[32m━━━━━━━━━━━━━━━━━━━━\u001b[0m\u001b[37m\u001b[0m \u001b[1m0s\u001b[0m 0us/step\n",
            "Downloading data from https://storage.googleapis.com/tensorflow/tf-keras-datasets/train-images-idx3-ubyte.gz\n",
            "\u001b[1m26421880/26421880\u001b[0m \u001b[32m━━━━━━━━━━━━━━━━━━━━\u001b[0m\u001b[37m\u001b[0m \u001b[1m0s\u001b[0m 0us/step\n",
            "Downloading data from https://storage.googleapis.com/tensorflow/tf-keras-datasets/t10k-labels-idx1-ubyte.gz\n",
            "\u001b[1m5148/5148\u001b[0m \u001b[32m━━━━━━━━━━━━━━━━━━━━\u001b[0m\u001b[37m\u001b[0m \u001b[1m0s\u001b[0m 0us/step\n",
            "Downloading data from https://storage.googleapis.com/tensorflow/tf-keras-datasets/t10k-images-idx3-ubyte.gz\n",
            "\u001b[1m4422102/4422102\u001b[0m \u001b[32m━━━━━━━━━━━━━━━━━━━━\u001b[0m\u001b[37m\u001b[0m \u001b[1m0s\u001b[0m 0us/step\n"
          ]
        }
      ]
    },
    {
      "cell_type": "code",
      "source": [
        "x_train.shape  # (n_samples, image_width, image_height)"
      ],
      "metadata": {
        "colab": {
          "base_uri": "https://localhost:8080/"
        },
        "id": "GzoEpHGAn_Xg",
        "outputId": "6bccd2db-9cad-4d3b-98bc-79e2fe802f30"
      },
      "execution_count": 7,
      "outputs": [
        {
          "output_type": "execute_result",
          "data": {
            "text/plain": [
              "(60000, 28, 28)"
            ]
          },
          "metadata": {},
          "execution_count": 7
        }
      ]
    },
    {
      "cell_type": "code",
      "source": [
        "y_train.shape"
      ],
      "metadata": {
        "colab": {
          "base_uri": "https://localhost:8080/"
        },
        "id": "7OD-LxZdoZuv",
        "outputId": "7c41683c-0f69-4697-a8ac-2f2d1a966c07"
      },
      "execution_count": 8,
      "outputs": [
        {
          "output_type": "execute_result",
          "data": {
            "text/plain": [
              "(60000,)"
            ]
          },
          "metadata": {},
          "execution_count": 8
        }
      ]
    },
    {
      "cell_type": "code",
      "source": [
        "np.unique(y_train, return_counts=True)"
      ],
      "metadata": {
        "colab": {
          "base_uri": "https://localhost:8080/"
        },
        "id": "TkJufe9coz6O",
        "outputId": "fe513845-cffb-4e51-e71d-f7e81fa8ab83"
      },
      "execution_count": 9,
      "outputs": [
        {
          "output_type": "execute_result",
          "data": {
            "text/plain": [
              "(array([0, 1, 2, 3, 4, 5, 6, 7, 8, 9], dtype=uint8),\n",
              " array([6000, 6000, 6000, 6000, 6000, 6000, 6000, 6000, 6000, 6000]))"
            ]
          },
          "metadata": {},
          "execution_count": 9
        }
      ]
    },
    {
      "cell_type": "code",
      "source": [
        "x_test.shape"
      ],
      "metadata": {
        "colab": {
          "base_uri": "https://localhost:8080/"
        },
        "id": "iXZ-BxcAo6sG",
        "outputId": "2e6ff43d-5754-4c0e-ac09-21aa14db8dad"
      },
      "execution_count": 10,
      "outputs": [
        {
          "output_type": "execute_result",
          "data": {
            "text/plain": [
              "(10000, 28, 28)"
            ]
          },
          "metadata": {},
          "execution_count": 10
        }
      ]
    },
    {
      "cell_type": "code",
      "source": [
        "np.unique(y_test, return_counts=True)"
      ],
      "metadata": {
        "colab": {
          "base_uri": "https://localhost:8080/"
        },
        "id": "s1wsBVq-pFv2",
        "outputId": "6923b89d-aaae-4be3-8e2e-612b989700f0"
      },
      "execution_count": 11,
      "outputs": [
        {
          "output_type": "execute_result",
          "data": {
            "text/plain": [
              "(array([0, 1, 2, 3, 4, 5, 6, 7, 8, 9], dtype=uint8),\n",
              " array([1000, 1000, 1000, 1000, 1000, 1000, 1000, 1000, 1000, 1000]))"
            ]
          },
          "metadata": {},
          "execution_count": 11
        }
      ]
    },
    {
      "cell_type": "markdown",
      "source": [
        "훈련셋, 테스트셋 모두 각 클래스의 샘플들이 동일한 개수로 만들어져 있음."
      ],
      "metadata": {
        "id": "R0Jgk-9UplIN"
      }
    },
    {
      "cell_type": "markdown",
      "source": [
        "데이터셋의 이미지를 시각화해 보세요."
      ],
      "metadata": {
        "id": "5wuSVK1I7OEi"
      }
    },
    {
      "cell_type": "code",
      "source": [
        "def plot_fashion_mnist(arr, ncols=10):\n",
        "    # arr: (samples, width, height) shape의 3차원 배열\n",
        "    # ncols: subplot axis의 컬럼 개수.\n",
        "    n = len(arr)  # 출력할 이미지 개수\n",
        "    nrows = int(np.ceil(n / ncols))  # subplot Axis 행 개수.\n",
        "    fig, ax = plt.subplots(nrows, ncols, figsize=(ncols, nrows))\n",
        "    for i in range(nrows):\n",
        "        for j in range(ncols):\n",
        "            idx = i * ncols + j  # arr에서 선택할 이미지 인덱스.\n",
        "            if nrows == 1 or ncols == 1:  # ax가 1차원 배열인 경우\n",
        "                if idx < n:\n",
        "                    ax[idx].imshow(arr[idx], cmap=plt.cm.binary)\n",
        "                ax[idx].axis('off')\n",
        "            else:  # ax가 2차원 배열인 경우\n",
        "                if idx < n:\n",
        "                    ax[i, j].imshow(arr[idx], cmap=plt.cm.binary)\n",
        "                ax[i, j].axis('off')\n",
        "    plt.show()"
      ],
      "metadata": {
        "id": "pOZsttAEpJxW"
      },
      "execution_count": 12,
      "outputs": []
    },
    {
      "cell_type": "code",
      "source": [
        "plot_fashion_mnist(x_train[:10])"
      ],
      "metadata": {
        "colab": {
          "base_uri": "https://localhost:8080/",
          "height": 102
        },
        "id": "5BmQDpd--qsS",
        "outputId": "35aba7b0-e5da-4ac4-a639-0bf32ce73c47"
      },
      "execution_count": 13,
      "outputs": [
        {
          "output_type": "display_data",
          "data": {
            "text/plain": [
              "<Figure size 1000x100 with 10 Axes>"
            ],
            "image/png": "[encoded data removed]"
          },
          "metadata": {}
        }
      ]
    },
    {
      "cell_type": "code",
      "source": [
        "plot_fashion_mnist(x_train[:45])"
      ],
      "metadata": {
        "colab": {
          "base_uri": "https://localhost:8080/",
          "height": 421
        },
        "id": "ddvCU-Vi-vrZ",
        "outputId": "0689e95b-c949-4a73-cac3-8ac06f03c254"
      },
      "execution_count": 14,
      "outputs": [
        {
          "output_type": "display_data",
          "data": {
            "text/plain": [
              "<Figure size 1000x500 with 50 Axes>"
            ],
            "image/png": "[encoded data removed]"
          },
          "metadata": {}
        }
      ]
    },
    {
      "cell_type": "markdown",
      "source": [
        "# 훈련 셋/레이블을 훈련 셋과 검증 셋으로 분리"
      ],
      "metadata": {
        "id": "QPXj07kl_gZP"
      }
    },
    {
      "cell_type": "code",
      "source": [
        "train_data, val_data, train_target, val_target = \\\n",
        "        train_test_split(x_train, y_train, random_state=42, test_size=0.2, stratify=y_train)"
      ],
      "metadata": {
        "id": "M1JmxyoO_fwx"
      },
      "execution_count": 15,
      "outputs": []
    },
    {
      "cell_type": "code",
      "source": [
        "print(train_data.shape)\n",
        "print(train_target.shape)\n",
        "print(np.unique(train_target, return_counts=True))"
      ],
      "metadata": {
        "colab": {
          "base_uri": "https://localhost:8080/"
        },
        "id": "6xS6goBvAPw-",
        "outputId": "49bb6cad-fe62-4a8a-b611-df36eed3358c"
      },
      "execution_count": 16,
      "outputs": [
        {
          "output_type": "stream",
          "name": "stdout",
          "text": [
            "(48000, 28, 28)\n",
            "(48000,)\n",
            "(array([0, 1, 2, 3, 4, 5, 6, 7, 8, 9], dtype=uint8), array([4800, 4800, 4800, 4800, 4800, 4800, 4800, 4800, 4800, 4800]))\n"
          ]
        }
      ]
    },
    {
      "cell_type": "code",
      "source": [
        "print(val_data.shape)\n",
        "print(val_target.shape)\n",
        "print(np.unique(val_target, return_counts=True))"
      ],
      "metadata": {
        "colab": {
          "base_uri": "https://localhost:8080/"
        },
        "id": "rpCa64_ZAYpv",
        "outputId": "fbb7c40e-2a87-471b-d0a0-bed3f16d6c84"
      },
      "execution_count": 17,
      "outputs": [
        {
          "output_type": "stream",
          "name": "stdout",
          "text": [
            "(12000, 28, 28)\n",
            "(12000,)\n",
            "(array([0, 1, 2, 3, 4, 5, 6, 7, 8, 9], dtype=uint8), array([1200, 1200, 1200, 1200, 1200, 1200, 1200, 1200, 1200, 1200]))\n"
          ]
        }
      ]
    },
    {
      "cell_type": "markdown",
      "source": [
        "# SGD Classifier"
      ],
      "metadata": {
        "id": "pOA9sCRT_MV4"
      }
    },
    {
      "cell_type": "code",
      "source": [
        "train_data[0]  #> 각 픽셀의 값들이 0(white) ~ 255(white)"
      ],
      "metadata": {
        "colab": {
          "base_uri": "https://localhost:8080/",
          "height": 68
        },
        "id": "LEtWDN5n-5LA",
        "outputId": "7b8d7d58-5251-49a4-e2f0-369240d302ef"
      },
      "execution_count": 18,
      "outputs": [
        {
          "output_type": "execute_result",
          "data": {
            "text/plain": [
              "array([[  0,   0,   0,   0,   1,   1,   0,   0,   0,  25,  55,   0,   0,\n",
              "          0,   0,   0,   0,  43,  24,   0,   0,   0,   1,   0,   0,   0,\n",
              "          0,   0],\n",
              "       [  0,   0,   0,   1,   1,   1,   0,  25, 147, 189, 181,  96,  51,\n",
              "         49,  55,  37,  76, 217, 172, 125,  20,   0,   2,   1,   0,   0,\n",
              "          0,   0],\n",
              "       [  0,   0,   0,   1,   3,   0,  82, 206, 202, 190, 178, 188, 239,\n",
              "        152,  99, 199, 201, 162, 176, 192, 185,  71,   0,   2,   0,   0,\n",
              "          0,   0],\n",
              "       [  0,   0,   0,   1,   0,   0, 202, 196, 181, 188, 183, 169, 179,\n",
              "        160, 107, 198, 166, 167, 178, 170, 183, 166,   0,   0,   1,   0,\n",
              "          0,   0],\n",
              "       [  0,   0,   0,   1,   0,  48, 216, 184, 185, 185, 190, 175, 164,\n",
              "        188, 198, 188, 157, 183, 176, 171, 167, 175,  26,   0,   2,   0,\n",
              "          0,   0],\n",
              "       [  0,   0,   0,   0,   0,  90, 224, 183, 185, 184, 183, 190, 164,\n",
              "        169, 193, 158, 170, 174, 176, 175, 165, 180,  62,   0,   0,   0,\n",
              "          0,   0],\n",
              "       [  0,   0,   0,   0,   0, 123, 228, 184, 180, 183, 178, 183, 172,\n",
              "        172, 172, 161, 179, 170, 174, 175, 165, 181, 106,   0,   0,   0,\n",
              "          0,   0],\n",
              "       [  0,   0,   0,   0,   0, 156, 229, 188, 175, 178, 175, 175, 190,\n",
              "        157, 157, 180, 169, 169, 172, 171, 161, 179, 143,   0,   0,   0,\n",
              "          0,   0],\n",
              "       [  0,   0,   0,   0,   0, 181, 228, 190, 174, 174, 176, 175, 197,\n",
              "        167, 167, 183, 166, 169, 171, 170, 162, 175, 172,   0,   0,   0,\n",
              "          0,   0],\n",
              "       [  0,   0,   0,   0,   6, 175, 221, 192, 170, 174, 176, 175, 193,\n",
              "        176, 172, 175, 167, 169, 169, 167, 160, 169, 196,   0,   0,   0,\n",
              "          0,   0],\n",
              "       [  0,   0,   0,   0,  23, 184, 216, 206, 164, 175, 176, 175, 192,\n",
              "        178, 175, 174, 167, 166, 169, 169, 165, 169, 175,   6,   0,   0,\n",
              "          0,   0],\n",
              "       [  0,   0,   0,   0,  53, 189, 208, 219, 161, 176, 176, 175, 190,\n",
              "        181, 178, 172, 169, 165, 170, 169, 166, 167, 183,  26,   0,   0,\n",
              "          0,   0],\n",
              "       [  0,   0,   0,   0,  84, 194, 207, 216, 157, 176, 175, 176, 193,\n",
              "        183, 180, 172, 167, 167, 166, 170, 165, 167, 185,  61,   0,   0,\n",
              "          0,   0],\n",
              "       [  0,   0,   0,   0, 114, 193, 211, 207, 157, 175, 175, 176, 196,\n",
              "        183, 181, 172, 166, 166, 165, 170, 164, 169, 187,  88,   0,   0,\n",
              "          0,   0],\n",
              "       [  0,   0,   0,   0, 155, 192, 219, 194, 161, 172, 178, 176, 197,\n",
              "        185, 181, 169, 166, 165, 165, 171, 164, 171, 184, 108,   0,   0,\n",
              "          0,   0],\n",
              "       [  0,   0,   0,   0, 181, 192, 225, 185, 162, 172, 179, 176, 199,\n",
              "        185, 183, 169, 166, 164, 164, 172, 161, 170, 184, 135,   0,   0,\n",
              "          0,   0],\n",
              "       [  0,   0,   0,   0, 210, 189, 233, 180, 161, 171, 179, 179, 201,\n",
              "        185, 190, 166, 166, 164, 164, 176, 158, 171, 183, 155,   0,   0,\n",
              "          0,   0],\n",
              "       [  0,   0,   0,   0, 229, 184, 234, 176, 164, 169, 180, 183, 198,\n",
              "        185, 193, 166, 167, 164, 165, 179, 157, 176, 179, 174,   0,   0,\n",
              "          0,   0],\n",
              "       [  0,   0,   0,   2, 237, 183, 237, 171, 166, 167, 178, 188, 196,\n",
              "        187, 196, 164, 166, 165, 166, 179, 157, 178, 176, 185,   2,   0,\n",
              "          0,   0],\n",
              "       [  0,   0,   0,  24, 246, 184, 255, 172, 166, 169, 180, 192, 196,\n",
              "        189, 201, 161, 164, 165, 165, 181, 161, 181, 176, 189,  17,   0,\n",
              "          0,   0],\n",
              "       [  0,   0,   0,  52, 247, 187, 238, 166, 170, 170, 180, 198, 193,\n",
              "        189, 207, 160, 165, 165, 164, 180, 162, 187, 175, 192,  52,   0,\n",
              "          0,   0],\n",
              "       [  0,   0,   0,  82, 215, 192, 239, 158, 169, 174, 179, 207, 189,\n",
              "        187, 213, 160, 167, 166, 165, 181, 169, 190, 170, 192,  73,   0,\n",
              "          0,   0],\n",
              "       [  0,   0,   0, 102, 212, 201, 212, 166, 169, 171, 179, 217, 189,\n",
              "        187, 217, 157, 170, 167, 166, 178, 171, 196, 169, 171,  84,   0,\n",
              "          0,   0],\n",
              "       [  0,   0,   0, 166, 211, 213, 193, 164, 170, 170, 180, 226, 181,\n",
              "        187, 228, 157, 167, 167, 158, 188, 196, 128, 170, 179, 128,   0,\n",
              "          0,   0],\n",
              "       [  0,   0,   0,  35,  92, 129, 199, 184, 171, 179, 187, 246, 170,\n",
              "        189, 240, 156, 170, 174, 166, 190, 230, 139, 102, 139,  89,   0,\n",
              "          0,   0],\n",
              "       [  0,   0,   0,   0,   0,   0, 142, 213, 166, 151, 178, 235, 190,\n",
              "        162, 244, 179, 183, 160, 142, 164, 208, 125,   0,   0,   0,   0,\n",
              "          0,   0],\n",
              "       [  0,   0,   0,   0,   1,   2,   0,  96, 181, 179, 178, 178, 185,\n",
              "        160, 208, 171, 167, 167, 184, 174, 105,   0,   1,   2,   1,   0,\n",
              "          0,   0],\n",
              "       [  0,   0,   0,   0,   0,   0,   2,   0,   1,  52,  83,  98, 112,\n",
              "        134, 146, 105,  89,  73,  49,   0,   0,   0,   0,   0,   0,   0,\n",
              "          0,   0]], dtype=uint8)"
            ],
            "text/html": [
              "<style>\n",
              "      .ndarray_repr .ndarray_raw_data {\n",
              "        display: none;\n",
              "      }\n",
              "      .ndarray_repr.show_array .ndarray_raw_data {\n",
              "        display: block;\n",
              "      }\n",
              "      .ndarray_repr.show_array .ndarray_image_preview {\n",
              "        display: none;\n",
              "      }\n",
              "      </style>\n",
              "      <div id=\"id-b99e5a0e-dba3-411b-ba8f-03b678f24e9d\" class=\"ndarray_repr\"><pre>ndarray (28, 28) <button style=\"padding: 0 2px;\">show data</button></pre><img src=\"data:image/png;base64,iVBORw0KGgoAAAANSUhEUgAAABwAAAAcCAAAAABXZoBIAAACBElEQVR4nEXSu2tUURDH8e/MOffuvbvJ5rXGvIPGIMYUgRTBzkp7wcpCC/8IEf0TtBX8D8S/QExpZyEhhQQJiCg+8jAxye4m954zNnd3pzrw4XeYGQYAEWB6AwBuTgECgK9e009Xum+3Y3p4/cX21qt9wSoQDfeelaen9fU3Hx/rTnP0/OU7jYACBJ6092Jy8CHLbDfRP/EhUXrIWvPUh1p6PPeg3RmNcpTP0ENjJTPsfISD4ttwBx+Ta/S/5YqXworzzO25vIwgqzBA8UURuuPHxxNti2UZl/ujwLSplWq1Oi44MynnB8n04lxLoMyTrhBDvJga4FheNC8ETJ0R0IS9tI8LSXc4CETnopogMWv1cTGxUGLiVIlaiqFL/YYWzHcwcAiGYaqz/eQNy058cIgSMAQNrX5yhrQjCIqCIcEYJOdDVpjhlFoAfBAbNDRRSOmi+IBDEGdJOdFDzcwVGmMS1UUTAQ0NrXAyl3FB1aNJiJh6hx+pcE7c3wsvpIHUBDNJzS1VuPA1ka55y8uYoiJScwWXKmyF/EdGoA4+OJGgqe01KrxtQwdRTPIuDQLd+vSmZKvVEp7fWr7TOslqrbNsyJw3vdrYXN6pcHeX4btb+7Nnre8bl/3vwzj+7zX0TlskProfjdrPtS8lY+33r0TMenePRllfHGlODn0+Ovr1iar+A+SW1VuwzXPKAAAAAElFTkSuQmCC\" class=\"ndarray_image_preview\" /><pre class=\"ndarray_raw_data\">array([[  0,   0,   0,   0,   1,   1,   0,   0,   0,  25,  55,   0,   0,\n",
              "          0,   0,   0,   0,  43,  24,   0,   0,   0,   1,   0,   0,   0,\n",
              "          0,   0],\n",
              "       [  0,   0,   0,   1,   1,   1,   0,  25, 147, 189, 181,  96,  51,\n",
              "         49,  55,  37,  76, 217, 172, 125,  20,   0,   2,   1,   0,   0,\n",
              "          0,   0],\n",
              "       [  0,   0,   0,   1,   3,   0,  82, 206, 202, 190, 178, 188, 239,\n",
              "        152,  99, 199, 201, 162, 176, 192, 185,  71,   0,   2,   0,   0,\n",
              "          0,   0],\n",
              "       [  0,   0,   0,   1,   0,   0, 202, 196, 181, 188, 183, 169, 179,\n",
              "        160, 107, 198, 166, 167, 178, 170, 183, 166,   0,   0,   1,   0,\n",
              "          0,   0],\n",
              "       [  0,   0,   0,   1,   0,  48, 216, 184, 185, 185, 190, 175, 164,\n",
              "        188, 198, 188, 157, 183, 176, 171, 167, 175,  26,   0,   2,   0,\n",
              "          0,   0],\n",
              "       [  0,   0,   0,   0,   0,  90, 224, 183, 185, 184, 183, 190, 164,\n",
              "        169, 193, 158, 170, 174, 176, 175, 165, 180,  62,   0,   0,   0,\n",
              "          0,   0],\n",
              "       [  0,   0,   0,   0,   0, 123, 228, 184, 180, 183, 178, 183, 172,\n",
              "        172, 172, 161, 179, 170, 174, 175, 165, 181, 106,   0,   0,   0,\n",
              "          0,   0],\n",
              "       [  0,   0,   0,   0,   0, 156, 229, 188, 175, 178, 175, 175, 190,\n",
              "        157, 157, 180, 169, 169, 172, 171, 161, 179, 143,   0,   0,   0,\n",
              "          0,   0],\n",
              "       [  0,   0,   0,   0,   0, 181, 228, 190, 174, 174, 176, 175, 197,\n",
              "        167, 167, 183, 166, 169, 171, 170, 162, 175, 172,   0,   0,   0,\n",
              "          0,   0],\n",
              "       [  0,   0,   0,   0,   6, 175, 221, 192, 170, 174, 176, 175, 193,\n",
              "        176, 172, 175, 167, 169, 169, 167, 160, 169, 196,   0,   0,   0,\n",
              "          0,   0],\n",
              "       [  0,   0,   0,   0,  23, 184, 216, 206, 164, 175, 176, 175, 192,\n",
              "        178, 175, 174, 167, 166, 169, 169, 165, 169, 175,   6,   0,   0,\n",
              "          0,   0],\n",
              "       [  0,   0,   0,   0,  53, 189, 208, 219, 161, 176, 176, 175, 190,\n",
              "        181, 178, 172, 169, 165, 170, 169, 166, 167, 183,  26,   0,   0,\n",
              "          0,   0],\n",
              "       [  0,   0,   0,   0,  84, 194, 207, 216, 157, 176, 175, 176, 193,\n",
              "        183, 180, 172, 167, 167, 166, 170, 165, 167, 185,  61,   0,   0,\n",
              "          0,   0],\n",
              "       [  0,   0,   0,   0, 114, 193, 211, 207, 157, 175, 175, 176, 196,\n",
              "        183, 181, 172, 166, 166, 165, 170, 164, 169, 187,  88,   0,   0,\n",
              "          0,   0],\n",
              "       [  0,   0,   0,   0, 155, 192, 219, 194, 161, 172, 178, 176, 197,\n",
              "        185, 181, 169, 166, 165, 165, 171, 164, 171, 184, 108,   0,   0,\n",
              "          0,   0],\n",
              "       [  0,   0,   0,   0, 181, 192, 225, 185, 162, 172, 179, 176, 199,\n",
              "        185, 183, 169, 166, 164, 164, 172, 161, 170, 184, 135,   0,   0,\n",
              "          0,   0],\n",
              "       [  0,   0,   0,   0, 210, 189, 233, 180, 161, 171, 179, 179, 201,\n",
              "        185, 190, 166, 166, 164, 164, 176, 158, 171, 183, 155,   0,   0,\n",
              "          0,   0],\n",
              "       [  0,   0,   0,   0, 229, 184, 234, 176, 164, 169, 180, 183, 198,\n",
              "        185, 193, 166, 167, 164, 165, 179, 157, 176, 179, 174,   0,   0,\n",
              "          0,   0],\n",
              "       [  0,   0,   0,   2, 237, 183, 237, 171, 166, 167, 178, 188, 196,\n",
              "        187, 196, 164, 166, 165, 166, 179, 157, 178, 176, 185,   2,   0,\n",
              "          0,   0],\n",
              "       [  0,   0,   0,  24, 246, 184, 255, 172, 166, 169, 180, 192, 196,\n",
              "        189, 201, 161, 164, 165, 165, 181, 161, 181, 176, 189,  17,   0,\n",
              "          0,   0],\n",
              "       [  0,   0,   0,  52, 247, 187, 238, 166, 170, 170, 180, 198, 193,\n",
              "        189, 207, 160, 165, 165, 164, 180, 162, 187, 175, 192,  52,   0,\n",
              "          0,   0],\n",
              "       [  0,   0,   0,  82, 215, 192, 239, 158, 169, 174, 179, 207, 189,\n",
              "        187, 213, 160, 167, 166, 165, 181, 169, 190, 170, 192,  73,   0,\n",
              "          0,   0],\n",
              "       [  0,   0,   0, 102, 212, 201, 212, 166, 169, 171, 179, 217, 189,\n",
              "        187, 217, 157, 170, 167, 166, 178, 171, 196, 169, 171,  84,   0,\n",
              "          0,   0],\n",
              "       [  0,   0,   0, 166, 211, 213, 193, 164, 170, 170, 180, 226, 181,\n",
              "        187, 228, 157, 167, 167, 158, 188, 196, 128, 170, 179, 128,   0,\n",
              "          0,   0],\n",
              "       [  0,   0,   0,  35,  92, 129, 199, 184, 171, 179, 187, 246, 170,\n",
              "        189, 240, 156, 170, 174, 166, 190, 230, 139, 102, 139,  89,   0,\n",
              "          0,   0],\n",
              "       [  0,   0,   0,   0,   0,   0, 142, 213, 166, 151, 178, 235, 190,\n",
              "        162, 244, 179, 183, 160, 142, 164, 208, 125,   0,   0,   0,   0,\n",
              "          0,   0],\n",
              "       [  0,   0,   0,   0,   1,   2,   0,  96, 181, 179, 178, 178, 185,\n",
              "        160, 208, 171, 167, 167, 184, 174, 105,   0,   1,   2,   1,   0,\n",
              "          0,   0],\n",
              "       [  0,   0,   0,   0,   0,   0,   2,   0,   1,  52,  83,  98, 112,\n",
              "        134, 146, 105,  89,  73,  49,   0,   0,   0,   0,   0,   0,   0,\n",
              "          0,   0]], dtype=uint8)</pre></div><script>\n",
              "      (() => {\n",
              "      const titles = ['show data', 'hide data'];\n",
              "      let index = 0\n",
              "      document.querySelector('#id-b99e5a0e-dba3-411b-ba8f-03b678f24e9d button').onclick = (e) => {\n",
              "        document.querySelector('#id-b99e5a0e-dba3-411b-ba8f-03b678f24e9d').classList.toggle('show_array');\n",
              "        index = (++index) % 2;\n",
              "        document.querySelector('#id-b99e5a0e-dba3-411b-ba8f-03b678f24e9d button').textContent = titles[index];\n",
              "        e.preventDefault();\n",
              "        e.stopPropagation();\n",
              "      }\n",
              "      })();\n",
              "    </script>"
            ]
          },
          "metadata": {},
          "execution_count": 18
        }
      ]
    },
    {
      "cell_type": "code",
      "source": [
        "# 훈련 셋의 픽셀 값을 0 ~ 1 사이의 값으로 스케일링 -> 확률적 경사 하강법 성능을 높이기 위해서.\n",
        "train_data_scaled = train_data / 255.0"
      ],
      "metadata": {
        "id": "6q3nqMrVBAOK"
      },
      "execution_count": 19,
      "outputs": []
    },
    {
      "cell_type": "code",
      "source": [
        "train_data_scaled[0]"
      ],
      "metadata": {
        "colab": {
          "base_uri": "https://localhost:8080/"
        },
        "id": "x4vT4f6FB2vG",
        "outputId": "efc7c0c3-2f8a-4be4-f858-ded349e0f0fb"
      },
      "execution_count": 20,
      "outputs": [
        {
          "output_type": "execute_result",
          "data": {
            "text/plain": [
              "array([[0.        , 0.        , 0.        , 0.        , 0.00392157,\n",
              "        0.00392157, 0.        , 0.        , 0.        , 0.09803922,\n",
              "        0.21568627, 0.        , 0.        , 0.        , 0.        ,\n",
              "        0.        , 0.        , 0.16862745, 0.09411765, 0.        ,\n",
              "        0.        , 0.        , 0.00392157, 0.        , 0.        ,\n",
              "        0.        , 0.        , 0.        ],\n",
              "       [0.        , 0.        , 0.        , 0.00392157, 0.00392157,\n",
              "        0.00392157, 0.        , 0.09803922, 0.57647059, 0.74117647,\n",
              "        0.70980392, 0.37647059, 0.2       , 0.19215686, 0.21568627,\n",
              "        0.14509804, 0.29803922, 0.85098039, 0.6745098 , 0.49019608,\n",
              "        0.07843137, 0.        , 0.00784314, 0.00392157, 0.        ,\n",
              "        0.        , 0.        , 0.        ],\n",
              "       [0.        , 0.        , 0.        , 0.00392157, 0.01176471,\n",
              "        0.        , 0.32156863, 0.80784314, 0.79215686, 0.74509804,\n",
              "        0.69803922, 0.7372549 , 0.9372549 , 0.59607843, 0.38823529,\n",
              "        0.78039216, 0.78823529, 0.63529412, 0.69019608, 0.75294118,\n",
              "        0.7254902 , 0.27843137, 0.        , 0.00784314, 0.        ,\n",
              "        0.        , 0.        , 0.        ],\n",
              "       [0.        , 0.        , 0.        , 0.00392157, 0.        ,\n",
              "        0.        , 0.79215686, 0.76862745, 0.70980392, 0.7372549 ,\n",
              "        0.71764706, 0.6627451 , 0.70196078, 0.62745098, 0.41960784,\n",
              "        0.77647059, 0.65098039, 0.65490196, 0.69803922, 0.66666667,\n",
              "        0.71764706, 0.65098039, 0.        , 0.        , 0.00392157,\n",
              "        0.        , 0.        , 0.        ],\n",
              "       [0.        , 0.        , 0.        , 0.00392157, 0.        ,\n",
              "        0.18823529, 0.84705882, 0.72156863, 0.7254902 , 0.7254902 ,\n",
              "        0.74509804, 0.68627451, 0.64313725, 0.7372549 , 0.77647059,\n",
              "        0.7372549 , 0.61568627, 0.71764706, 0.69019608, 0.67058824,\n",
              "        0.65490196, 0.68627451, 0.10196078, 0.        , 0.00784314,\n",
              "        0.        , 0.        , 0.        ],\n",
              "       [0.        , 0.        , 0.        , 0.        , 0.        ,\n",
              "        0.35294118, 0.87843137, 0.71764706, 0.7254902 , 0.72156863,\n",
              "        0.71764706, 0.74509804, 0.64313725, 0.6627451 , 0.75686275,\n",
              "        0.61960784, 0.66666667, 0.68235294, 0.69019608, 0.68627451,\n",
              "        0.64705882, 0.70588235, 0.24313725, 0.        , 0.        ,\n",
              "        0.        , 0.        , 0.        ],\n",
              "       [0.        , 0.        , 0.        , 0.        , 0.        ,\n",
              "        0.48235294, 0.89411765, 0.72156863, 0.70588235, 0.71764706,\n",
              "        0.69803922, 0.71764706, 0.6745098 , 0.6745098 , 0.6745098 ,\n",
              "        0.63137255, 0.70196078, 0.66666667, 0.68235294, 0.68627451,\n",
              "        0.64705882, 0.70980392, 0.41568627, 0.        , 0.        ,\n",
              "        0.        , 0.        , 0.        ],\n",
              "       [0.        , 0.        , 0.        , 0.        , 0.        ,\n",
              "        0.61176471, 0.89803922, 0.7372549 , 0.68627451, 0.69803922,\n",
              "        0.68627451, 0.68627451, 0.74509804, 0.61568627, 0.61568627,\n",
              "        0.70588235, 0.6627451 , 0.6627451 , 0.6745098 , 0.67058824,\n",
              "        0.63137255, 0.70196078, 0.56078431, 0.        , 0.        ,\n",
              "        0.        , 0.        , 0.        ],\n",
              "       [0.        , 0.        , 0.        , 0.        , 0.        ,\n",
              "        0.70980392, 0.89411765, 0.74509804, 0.68235294, 0.68235294,\n",
              "        0.69019608, 0.68627451, 0.77254902, 0.65490196, 0.65490196,\n",
              "        0.71764706, 0.65098039, 0.6627451 , 0.67058824, 0.66666667,\n",
              "        0.63529412, 0.68627451, 0.6745098 , 0.        , 0.        ,\n",
              "        0.        , 0.        , 0.        ],\n",
              "       [0.        , 0.        , 0.        , 0.        , 0.02352941,\n",
              "        0.68627451, 0.86666667, 0.75294118, 0.66666667, 0.68235294,\n",
              "        0.69019608, 0.68627451, 0.75686275, 0.69019608, 0.6745098 ,\n",
              "        0.68627451, 0.65490196, 0.6627451 , 0.6627451 , 0.65490196,\n",
              "        0.62745098, 0.6627451 , 0.76862745, 0.        , 0.        ,\n",
              "        0.        , 0.        , 0.        ],\n",
              "       [0.        , 0.        , 0.        , 0.        , 0.09019608,\n",
              "        0.72156863, 0.84705882, 0.80784314, 0.64313725, 0.68627451,\n",
              "        0.69019608, 0.68627451, 0.75294118, 0.69803922, 0.68627451,\n",
              "        0.68235294, 0.65490196, 0.65098039, 0.6627451 , 0.6627451 ,\n",
              "        0.64705882, 0.6627451 , 0.68627451, 0.02352941, 0.        ,\n",
              "        0.        , 0.        , 0.        ],\n",
              "       [0.        , 0.        , 0.        , 0.        , 0.20784314,\n",
              "        0.74117647, 0.81568627, 0.85882353, 0.63137255, 0.69019608,\n",
              "        0.69019608, 0.68627451, 0.74509804, 0.70980392, 0.69803922,\n",
              "        0.6745098 , 0.6627451 , 0.64705882, 0.66666667, 0.6627451 ,\n",
              "        0.65098039, 0.65490196, 0.71764706, 0.10196078, 0.        ,\n",
              "        0.        , 0.        , 0.        ],\n",
              "       [0.        , 0.        , 0.        , 0.        , 0.32941176,\n",
              "        0.76078431, 0.81176471, 0.84705882, 0.61568627, 0.69019608,\n",
              "        0.68627451, 0.69019608, 0.75686275, 0.71764706, 0.70588235,\n",
              "        0.6745098 , 0.65490196, 0.65490196, 0.65098039, 0.66666667,\n",
              "        0.64705882, 0.65490196, 0.7254902 , 0.23921569, 0.        ,\n",
              "        0.        , 0.        , 0.        ],\n",
              "       [0.        , 0.        , 0.        , 0.        , 0.44705882,\n",
              "        0.75686275, 0.82745098, 0.81176471, 0.61568627, 0.68627451,\n",
              "        0.68627451, 0.69019608, 0.76862745, 0.71764706, 0.70980392,\n",
              "        0.6745098 , 0.65098039, 0.65098039, 0.64705882, 0.66666667,\n",
              "        0.64313725, 0.6627451 , 0.73333333, 0.34509804, 0.        ,\n",
              "        0.        , 0.        , 0.        ],\n",
              "       [0.        , 0.        , 0.        , 0.        , 0.60784314,\n",
              "        0.75294118, 0.85882353, 0.76078431, 0.63137255, 0.6745098 ,\n",
              "        0.69803922, 0.69019608, 0.77254902, 0.7254902 , 0.70980392,\n",
              "        0.6627451 , 0.65098039, 0.64705882, 0.64705882, 0.67058824,\n",
              "        0.64313725, 0.67058824, 0.72156863, 0.42352941, 0.        ,\n",
              "        0.        , 0.        , 0.        ],\n",
              "       [0.        , 0.        , 0.        , 0.        , 0.70980392,\n",
              "        0.75294118, 0.88235294, 0.7254902 , 0.63529412, 0.6745098 ,\n",
              "        0.70196078, 0.69019608, 0.78039216, 0.7254902 , 0.71764706,\n",
              "        0.6627451 , 0.65098039, 0.64313725, 0.64313725, 0.6745098 ,\n",
              "        0.63137255, 0.66666667, 0.72156863, 0.52941176, 0.        ,\n",
              "        0.        , 0.        , 0.        ],\n",
              "       [0.        , 0.        , 0.        , 0.        , 0.82352941,\n",
              "        0.74117647, 0.91372549, 0.70588235, 0.63137255, 0.67058824,\n",
              "        0.70196078, 0.70196078, 0.78823529, 0.7254902 , 0.74509804,\n",
              "        0.65098039, 0.65098039, 0.64313725, 0.64313725, 0.69019608,\n",
              "        0.61960784, 0.67058824, 0.71764706, 0.60784314, 0.        ,\n",
              "        0.        , 0.        , 0.        ],\n",
              "       [0.        , 0.        , 0.        , 0.        , 0.89803922,\n",
              "        0.72156863, 0.91764706, 0.69019608, 0.64313725, 0.6627451 ,\n",
              "        0.70588235, 0.71764706, 0.77647059, 0.7254902 , 0.75686275,\n",
              "        0.65098039, 0.65490196, 0.64313725, 0.64705882, 0.70196078,\n",
              "        0.61568627, 0.69019608, 0.70196078, 0.68235294, 0.        ,\n",
              "        0.        , 0.        , 0.        ],\n",
              "       [0.        , 0.        , 0.        , 0.00784314, 0.92941176,\n",
              "        0.71764706, 0.92941176, 0.67058824, 0.65098039, 0.65490196,\n",
              "        0.69803922, 0.7372549 , 0.76862745, 0.73333333, 0.76862745,\n",
              "        0.64313725, 0.65098039, 0.64705882, 0.65098039, 0.70196078,\n",
              "        0.61568627, 0.69803922, 0.69019608, 0.7254902 , 0.00784314,\n",
              "        0.        , 0.        , 0.        ],\n",
              "       [0.        , 0.        , 0.        , 0.09411765, 0.96470588,\n",
              "        0.72156863, 1.        , 0.6745098 , 0.65098039, 0.6627451 ,\n",
              "        0.70588235, 0.75294118, 0.76862745, 0.74117647, 0.78823529,\n",
              "        0.63137255, 0.64313725, 0.64705882, 0.64705882, 0.70980392,\n",
              "        0.63137255, 0.70980392, 0.69019608, 0.74117647, 0.06666667,\n",
              "        0.        , 0.        , 0.        ],\n",
              "       [0.        , 0.        , 0.        , 0.20392157, 0.96862745,\n",
              "        0.73333333, 0.93333333, 0.65098039, 0.66666667, 0.66666667,\n",
              "        0.70588235, 0.77647059, 0.75686275, 0.74117647, 0.81176471,\n",
              "        0.62745098, 0.64705882, 0.64705882, 0.64313725, 0.70588235,\n",
              "        0.63529412, 0.73333333, 0.68627451, 0.75294118, 0.20392157,\n",
              "        0.        , 0.        , 0.        ],\n",
              "       [0.        , 0.        , 0.        , 0.32156863, 0.84313725,\n",
              "        0.75294118, 0.9372549 , 0.61960784, 0.6627451 , 0.68235294,\n",
              "        0.70196078, 0.81176471, 0.74117647, 0.73333333, 0.83529412,\n",
              "        0.62745098, 0.65490196, 0.65098039, 0.64705882, 0.70980392,\n",
              "        0.6627451 , 0.74509804, 0.66666667, 0.75294118, 0.28627451,\n",
              "        0.        , 0.        , 0.        ],\n",
              "       [0.        , 0.        , 0.        , 0.4       , 0.83137255,\n",
              "        0.78823529, 0.83137255, 0.65098039, 0.6627451 , 0.67058824,\n",
              "        0.70196078, 0.85098039, 0.74117647, 0.73333333, 0.85098039,\n",
              "        0.61568627, 0.66666667, 0.65490196, 0.65098039, 0.69803922,\n",
              "        0.67058824, 0.76862745, 0.6627451 , 0.67058824, 0.32941176,\n",
              "        0.        , 0.        , 0.        ],\n",
              "       [0.        , 0.        , 0.        , 0.65098039, 0.82745098,\n",
              "        0.83529412, 0.75686275, 0.64313725, 0.66666667, 0.66666667,\n",
              "        0.70588235, 0.88627451, 0.70980392, 0.73333333, 0.89411765,\n",
              "        0.61568627, 0.65490196, 0.65490196, 0.61960784, 0.7372549 ,\n",
              "        0.76862745, 0.50196078, 0.66666667, 0.70196078, 0.50196078,\n",
              "        0.        , 0.        , 0.        ],\n",
              "       [0.        , 0.        , 0.        , 0.1372549 , 0.36078431,\n",
              "        0.50588235, 0.78039216, 0.72156863, 0.67058824, 0.70196078,\n",
              "        0.73333333, 0.96470588, 0.66666667, 0.74117647, 0.94117647,\n",
              "        0.61176471, 0.66666667, 0.68235294, 0.65098039, 0.74509804,\n",
              "        0.90196078, 0.54509804, 0.4       , 0.54509804, 0.34901961,\n",
              "        0.        , 0.        , 0.        ],\n",
              "       [0.        , 0.        , 0.        , 0.        , 0.        ,\n",
              "        0.        , 0.55686275, 0.83529412, 0.65098039, 0.59215686,\n",
              "        0.69803922, 0.92156863, 0.74509804, 0.63529412, 0.95686275,\n",
              "        0.70196078, 0.71764706, 0.62745098, 0.55686275, 0.64313725,\n",
              "        0.81568627, 0.49019608, 0.        , 0.        , 0.        ,\n",
              "        0.        , 0.        , 0.        ],\n",
              "       [0.        , 0.        , 0.        , 0.        , 0.00392157,\n",
              "        0.00784314, 0.        , 0.37647059, 0.70980392, 0.70196078,\n",
              "        0.69803922, 0.69803922, 0.7254902 , 0.62745098, 0.81568627,\n",
              "        0.67058824, 0.65490196, 0.65490196, 0.72156863, 0.68235294,\n",
              "        0.41176471, 0.        , 0.00392157, 0.00784314, 0.00392157,\n",
              "        0.        , 0.        , 0.        ],\n",
              "       [0.        , 0.        , 0.        , 0.        , 0.        ,\n",
              "        0.        , 0.00784314, 0.        , 0.00392157, 0.20392157,\n",
              "        0.3254902 , 0.38431373, 0.43921569, 0.5254902 , 0.57254902,\n",
              "        0.41176471, 0.34901961, 0.28627451, 0.19215686, 0.        ,\n",
              "        0.        , 0.        , 0.        , 0.        , 0.        ,\n",
              "        0.        , 0.        , 0.        ]])"
            ]
          },
          "metadata": {},
          "execution_count": 20
        }
      ]
    },
    {
      "cell_type": "code",
      "source": [
        "sgd = SGDClassifier(loss='log_loss', random_state=42, n_jobs=-1)"
      ],
      "metadata": {
        "id": "6VBj6VJrB402"
      },
      "execution_count": 21,
      "outputs": []
    },
    {
      "cell_type": "code",
      "source": [
        "sgd.fit(X=train_data_scaled.reshape((48_000, -1)), y=train_target)"
      ],
      "metadata": {
        "colab": {
          "base_uri": "https://localhost:8080/",
          "height": 80
        },
        "id": "Q8yBm5HECUAH",
        "outputId": "47f5241d-ff86-4e3a-ca39-6810c559d5da"
      },
      "execution_count": 22,
      "outputs": [
        {
          "output_type": "execute_result",
          "data": {
            "text/plain": [
              "SGDClassifier(loss='log_loss', n_jobs=-1, random_state=42)"
            ],
            "text/html": [
              "<style>#sk-container-id-1 {\n",
              "  /* Definition of color scheme common for light and dark mode */\n",
              "  --sklearn-color-text: #000;\n",
              "  --sklearn-color-text-muted: #666;\n",
              "  --sklearn-color-line: gray;\n",
              "  /* Definition of color scheme for unfitted estimators */\n",
              "  --sklearn-color-unfitted-level-0: #fff5e6;\n",
              "  --sklearn-color-unfitted-level-1: #f6e4d2;\n",
              "  --sklearn-color-unfitted-level-2: #ffe0b3;\n",
              "  --sklearn-color-unfitted-level-3: chocolate;\n",
              "  /* Definition of color scheme for fitted estimators */\n",
              "  --sklearn-color-fitted-level-0: #f0f8ff;\n",
              "  --sklearn-color-fitted-level-1: #d4ebff;\n",
              "  --sklearn-color-fitted-level-2: #b3dbfd;\n",
              "  --sklearn-color-fitted-level-3: cornflowerblue;\n",
              "\n",
              "  /* Specific color for light theme */\n",
              "  --sklearn-color-text-on-default-background: var(--sg-text-color, var(--theme-code-foreground, var(--jp-content-font-color1, black)));\n",
              "  --sklearn-color-background: var(--sg-background-color, var(--theme-background, var(--jp-layout-color0, white)));\n",
              "  --sklearn-color-border-box: var(--sg-text-color, var(--theme-code-foreground, var(--jp-content-font-color1, black)));\n",
              "  --sklearn-color-icon: #696969;\n",
              "\n",
              "  @media (prefers-color-scheme: dark) {\n",
              "    /* Redefinition of color scheme for dark theme */\n",
              "    --sklearn-color-text-on-default-background: var(--sg-text-color, var(--theme-code-foreground, var(--jp-content-font-color1, white)));\n",
              "    --sklearn-color-background: var(--sg-background-color, var(--theme-background, var(--jp-layout-color0, #111)));\n",
              "    --sklearn-color-border-box: var(--sg-text-color, var(--theme-code-foreground, var(--jp-content-font-color1, white)));\n",
              "    --sklearn-color-icon: #878787;\n",
              "  }\n",
              "}\n",
              "\n",
              "#sk-container-id-1 {\n",
              "  color: var(--sklearn-color-text);\n",
              "}\n",
              "\n",
              "#sk-container-id-1 pre {\n",
              "  padding: 0;\n",
              "}\n",
              "\n",
              "#sk-container-id-1 input.sk-hidden--visually {\n",
              "  border: 0;\n",
              "  clip: rect(1px 1px 1px 1px);\n",
              "  clip: rect(1px, 1px, 1px, 1px);\n",
              "  height: 1px;\n",
              "  margin: -1px;\n",
              "  overflow: hidden;\n",
              "  padding: 0;\n",
              "  position: absolute;\n",
              "  width: 1px;\n",
              "}\n",
              "\n",
              "#sk-container-id-1 div.sk-dashed-wrapped {\n",
              "  border: 1px dashed var(--sklearn-color-line);\n",
              "  margin: 0 0.4em 0.5em 0.4em;\n",
              "  box-sizing: border-box;\n",
              "  padding-bottom: 0.4em;\n",
              "  background-color: var(--sklearn-color-background);\n",
              "}\n",
              "\n",
              "#sk-container-id-1 div.sk-container {\n",
              "  /* jupyter's `normalize.less` sets `[hidden] { display: none; }`\n",
              "     but bootstrap.min.css set `[hidden] { display: none !important; }`\n",
              "     so we also need the `!important` here to be able to override the\n",
              "     default hidden behavior on the sphinx rendered scikit-learn.org.\n",
              "     See: https://github.com/scikit-learn/scikit-learn/issues/21755 */\n",
              "  display: inline-block !important;\n",
              "  position: relative;\n",
              "}\n",
              "\n",
              "#sk-container-id-1 div.sk-text-repr-fallback {\n",
              "  display: none;\n",
              "}\n",
              "\n",
              "div.sk-parallel-item,\n",
              "div.sk-serial,\n",
              "div.sk-item {\n",
              "  /* draw centered vertical line to link estimators */\n",
              "  background-image: linear-gradient(var(--sklearn-color-text-on-default-background), var(--sklearn-color-text-on-default-background));\n",
              "  background-size: 2px 100%;\n",
              "  background-repeat: no-repeat;\n",
              "  background-position: center center;\n",
              "}\n",
              "\n",
              "/* Parallel-specific style estimator block */\n",
              "\n",
              "#sk-container-id-1 div.sk-parallel-item::after {\n",
              "  content: \"\";\n",
              "  width: 100%;\n",
              "  border-bottom: 2px solid var(--sklearn-color-text-on-default-background);\n",
              "  flex-grow: 1;\n",
              "}\n",
              "\n",
              "#sk-container-id-1 div.sk-parallel {\n",
              "  display: flex;\n",
              "  align-items: stretch;\n",
              "  justify-content: center;\n",
              "  background-color: var(--sklearn-color-background);\n",
              "  position: relative;\n",
              "}\n",
              "\n",
              "#sk-container-id-1 div.sk-parallel-item {\n",
              "  display: flex;\n",
              "  flex-direction: column;\n",
              "}\n",
              "\n",
              "#sk-container-id-1 div.sk-parallel-item:first-child::after {\n",
              "  align-self: flex-end;\n",
              "  width: 50%;\n",
              "}\n",
              "\n",
              "#sk-container-id-1 div.sk-parallel-item:last-child::after {\n",
              "  align-self: flex-start;\n",
              "  width: 50%;\n",
              "}\n",
              "\n",
              "#sk-container-id-1 div.sk-parallel-item:only-child::after {\n",
              "  width: 0;\n",
              "}\n",
              "\n",
              "/* Serial-specific style estimator block */\n",
              "\n",
              "#sk-container-id-1 div.sk-serial {\n",
              "  display: flex;\n",
              "  flex-direction: column;\n",
              "  align-items: center;\n",
              "  background-color: var(--sklearn-color-background);\n",
              "  padding-right: 1em;\n",
              "  padding-left: 1em;\n",
              "}\n",
              "\n",
              "\n",
              "/* Toggleable style: style used for estimator/Pipeline/ColumnTransformer box that is\n",
              "clickable and can be expanded/collapsed.\n",
              "- Pipeline and ColumnTransformer use this feature and define the default style\n",
              "- Estimators will overwrite some part of the style using the `sk-estimator` class\n",
              "*/\n",
              "\n",
              "/* Pipeline and ColumnTransformer style (default) */\n",
              "\n",
              "#sk-container-id-1 div.sk-toggleable {\n",
              "  /* Default theme specific background. It is overwritten whether we have a\n",
              "  specific estimator or a Pipeline/ColumnTransformer */\n",
              "  background-color: var(--sklearn-color-background);\n",
              "}\n",
              "\n",
              "/* Toggleable label */\n",
              "#sk-container-id-1 label.sk-toggleable__label {\n",
              "  cursor: pointer;\n",
              "  display: flex;\n",
              "  width: 100%;\n",
              "  margin-bottom: 0;\n",
              "  padding: 0.5em;\n",
              "  box-sizing: border-box;\n",
              "  text-align: center;\n",
              "  align-items: start;\n",
              "  justify-content: space-between;\n",
              "  gap: 0.5em;\n",
              "}\n",
              "\n",
              "#sk-container-id-1 label.sk-toggleable__label .caption {\n",
              "  font-size: 0.6rem;\n",
              "  font-weight: lighter;\n",
              "  color: var(--sklearn-color-text-muted);\n",
              "}\n",
              "\n",
              "#sk-container-id-1 label.sk-toggleable__label-arrow:before {\n",
              "  /* Arrow on the left of the label */\n",
              "  content: \"▸\";\n",
              "  float: left;\n",
              "  margin-right: 0.25em;\n",
              "  color: var(--sklearn-color-icon);\n",
              "}\n",
              "\n",
              "#sk-container-id-1 label.sk-toggleable__label-arrow:hover:before {\n",
              "  color: var(--sklearn-color-text);\n",
              "}\n",
              "\n",
              "/* Toggleable content - dropdown */\n",
              "\n",
              "#sk-container-id-1 div.sk-toggleable__content {\n",
              "  max-height: 0;\n",
              "  max-width: 0;\n",
              "  overflow: hidden;\n",
              "  text-align: left;\n",
              "  /* unfitted */\n",
              "  background-color: var(--sklearn-color-unfitted-level-0);\n",
              "}\n",
              "\n",
              "#sk-container-id-1 div.sk-toggleable__content.fitted {\n",
              "  /* fitted */\n",
              "  background-color: var(--sklearn-color-fitted-level-0);\n",
              "}\n",
              "\n",
              "#sk-container-id-1 div.sk-toggleable__content pre {\n",
              "  margin: 0.2em;\n",
              "  border-radius: 0.25em;\n",
              "  color: var(--sklearn-color-text);\n",
              "  /* unfitted */\n",
              "  background-color: var(--sklearn-color-unfitted-level-0);\n",
              "}\n",
              "\n",
              "#sk-container-id-1 div.sk-toggleable__content.fitted pre {\n",
              "  /* unfitted */\n",
              "  background-color: var(--sklearn-color-fitted-level-0);\n",
              "}\n",
              "\n",
              "#sk-container-id-1 input.sk-toggleable__control:checked~div.sk-toggleable__content {\n",
              "  /* Expand drop-down */\n",
              "  max-height: 200px;\n",
              "  max-width: 100%;\n",
              "  overflow: auto;\n",
              "}\n",
              "\n",
              "#sk-container-id-1 input.sk-toggleable__control:checked~label.sk-toggleable__label-arrow:before {\n",
              "  content: \"▾\";\n",
              "}\n",
              "\n",
              "/* Pipeline/ColumnTransformer-specific style */\n",
              "\n",
              "#sk-container-id-1 div.sk-label input.sk-toggleable__control:checked~label.sk-toggleable__label {\n",
              "  color: var(--sklearn-color-text);\n",
              "  background-color: var(--sklearn-color-unfitted-level-2);\n",
              "}\n",
              "\n",
              "#sk-container-id-1 div.sk-label.fitted input.sk-toggleable__control:checked~label.sk-toggleable__label {\n",
              "  background-color: var(--sklearn-color-fitted-level-2);\n",
              "}\n",
              "\n",
              "/* Estimator-specific style */\n",
              "\n",
              "/* Colorize estimator box */\n",
              "#sk-container-id-1 div.sk-estimator input.sk-toggleable__control:checked~label.sk-toggleable__label {\n",
              "  /* unfitted */\n",
              "  background-color: var(--sklearn-color-unfitted-level-2);\n",
              "}\n",
              "\n",
              "#sk-container-id-1 div.sk-estimator.fitted input.sk-toggleable__control:checked~label.sk-toggleable__label {\n",
              "  /* fitted */\n",
              "  background-color: var(--sklearn-color-fitted-level-2);\n",
              "}\n",
              "\n",
              "#sk-container-id-1 div.sk-label label.sk-toggleable__label,\n",
              "#sk-container-id-1 div.sk-label label {\n",
              "  /* The background is the default theme color */\n",
              "  color: var(--sklearn-color-text-on-default-background);\n",
              "}\n",
              "\n",
              "/* On hover, darken the color of the background */\n",
              "#sk-container-id-1 div.sk-label:hover label.sk-toggleable__label {\n",
              "  color: var(--sklearn-color-text);\n",
              "  background-color: var(--sklearn-color-unfitted-level-2);\n",
              "}\n",
              "\n",
              "/* Label box, darken color on hover, fitted */\n",
              "#sk-container-id-1 div.sk-label.fitted:hover label.sk-toggleable__label.fitted {\n",
              "  color: var(--sklearn-color-text);\n",
              "  background-color: var(--sklearn-color-fitted-level-2);\n",
              "}\n",
              "\n",
              "/* Estimator label */\n",
              "\n",
              "#sk-container-id-1 div.sk-label label {\n",
              "  font-family: monospace;\n",
              "  font-weight: bold;\n",
              "  display: inline-block;\n",
              "  line-height: 1.2em;\n",
              "}\n",
              "\n",
              "#sk-container-id-1 div.sk-label-container {\n",
              "  text-align: center;\n",
              "}\n",
              "\n",
              "/* Estimator-specific */\n",
              "#sk-container-id-1 div.sk-estimator {\n",
              "  font-family: monospace;\n",
              "  border: 1px dotted var(--sklearn-color-border-box);\n",
              "  border-radius: 0.25em;\n",
              "  box-sizing: border-box;\n",
              "  margin-bottom: 0.5em;\n",
              "  /* unfitted */\n",
              "  background-color: var(--sklearn-color-unfitted-level-0);\n",
              "}\n",
              "\n",
              "#sk-container-id-1 div.sk-estimator.fitted {\n",
              "  /* fitted */\n",
              "  background-color: var(--sklearn-color-fitted-level-0);\n",
              "}\n",
              "\n",
              "/* on hover */\n",
              "#sk-container-id-1 div.sk-estimator:hover {\n",
              "  /* unfitted */\n",
              "  background-color: var(--sklearn-color-unfitted-level-2);\n",
              "}\n",
              "\n",
              "#sk-container-id-1 div.sk-estimator.fitted:hover {\n",
              "  /* fitted */\n",
              "  background-color: var(--sklearn-color-fitted-level-2);\n",
              "}\n",
              "\n",
              "/* Specification for estimator info (e.g. \"i\" and \"?\") */\n",
              "\n",
              "/* Common style for \"i\" and \"?\" */\n",
              "\n",
              ".sk-estimator-doc-link,\n",
              "a:link.sk-estimator-doc-link,\n",
              "a:visited.sk-estimator-doc-link {\n",
              "  float: right;\n",
              "  font-size: smaller;\n",
              "  line-height: 1em;\n",
              "  font-family: monospace;\n",
              "  background-color: var(--sklearn-color-background);\n",
              "  border-radius: 1em;\n",
              "  height: 1em;\n",
              "  width: 1em;\n",
              "  text-decoration: none !important;\n",
              "  margin-left: 0.5em;\n",
              "  text-align: center;\n",
              "  /* unfitted */\n",
              "  border: var(--sklearn-color-unfitted-level-1) 1pt solid;\n",
              "  color: var(--sklearn-color-unfitted-level-1);\n",
              "}\n",
              "\n",
              ".sk-estimator-doc-link.fitted,\n",
              "a:link.sk-estimator-doc-link.fitted,\n",
              "a:visited.sk-estimator-doc-link.fitted {\n",
              "  /* fitted */\n",
              "  border: var(--sklearn-color-fitted-level-1) 1pt solid;\n",
              "  color: var(--sklearn-color-fitted-level-1);\n",
              "}\n",
              "\n",
              "/* On hover */\n",
              "div.sk-estimator:hover .sk-estimator-doc-link:hover,\n",
              ".sk-estimator-doc-link:hover,\n",
              "div.sk-label-container:hover .sk-estimator-doc-link:hover,\n",
              ".sk-estimator-doc-link:hover {\n",
              "  /* unfitted */\n",
              "  background-color: var(--sklearn-color-unfitted-level-3);\n",
              "  color: var(--sklearn-color-background);\n",
              "  text-decoration: none;\n",
              "}\n",
              "\n",
              "div.sk-estimator.fitted:hover .sk-estimator-doc-link.fitted:hover,\n",
              ".sk-estimator-doc-link.fitted:hover,\n",
              "div.sk-label-container:hover .sk-estimator-doc-link.fitted:hover,\n",
              ".sk-estimator-doc-link.fitted:hover {\n",
              "  /* fitted */\n",
              "  background-color: var(--sklearn-color-fitted-level-3);\n",
              "  color: var(--sklearn-color-background);\n",
              "  text-decoration: none;\n",
              "}\n",
              "\n",
              "/* Span, style for the box shown on hovering the info icon */\n",
              ".sk-estimator-doc-link span {\n",
              "  display: none;\n",
              "  z-index: 9999;\n",
              "  position: relative;\n",
              "  font-weight: normal;\n",
              "  right: .2ex;\n",
              "  padding: .5ex;\n",
              "  margin: .5ex;\n",
              "  width: min-content;\n",
              "  min-width: 20ex;\n",
              "  max-width: 50ex;\n",
              "  color: var(--sklearn-color-text);\n",
              "  box-shadow: 2pt 2pt 4pt #999;\n",
              "  /* unfitted */\n",
              "  background: var(--sklearn-color-unfitted-level-0);\n",
              "  border: .5pt solid var(--sklearn-color-unfitted-level-3);\n",
              "}\n",
              "\n",
              ".sk-estimator-doc-link.fitted span {\n",
              "  /* fitted */\n",
              "  background: var(--sklearn-color-fitted-level-0);\n",
              "  border: var(--sklearn-color-fitted-level-3);\n",
              "}\n",
              "\n",
              ".sk-estimator-doc-link:hover span {\n",
              "  display: block;\n",
              "}\n",
              "\n",
              "/* \"?\"-specific style due to the `<a>` HTML tag */\n",
              "\n",
              "#sk-container-id-1 a.estimator_doc_link {\n",
              "  float: right;\n",
              "  font-size: 1rem;\n",
              "  line-height: 1em;\n",
              "  font-family: monospace;\n",
              "  background-color: var(--sklearn-color-background);\n",
              "  border-radius: 1rem;\n",
              "  height: 1rem;\n",
              "  width: 1rem;\n",
              "  text-decoration: none;\n",
              "  /* unfitted */\n",
              "  color: var(--sklearn-color-unfitted-level-1);\n",
              "  border: var(--sklearn-color-unfitted-level-1) 1pt solid;\n",
              "}\n",
              "\n",
              "#sk-container-id-1 a.estimator_doc_link.fitted {\n",
              "  /* fitted */\n",
              "  border: var(--sklearn-color-fitted-level-1) 1pt solid;\n",
              "  color: var(--sklearn-color-fitted-level-1);\n",
              "}\n",
              "\n",
              "/* On hover */\n",
              "#sk-container-id-1 a.estimator_doc_link:hover {\n",
              "  /* unfitted */\n",
              "  background-color: var(--sklearn-color-unfitted-level-3);\n",
              "  color: var(--sklearn-color-background);\n",
              "  text-decoration: none;\n",
              "}\n",
              "\n",
              "#sk-container-id-1 a.estimator_doc_link.fitted:hover {\n",
              "  /* fitted */\n",
              "  background-color: var(--sklearn-color-fitted-level-3);\n",
              "}\n",
              "</style><div id=\"sk-container-id-1\" class=\"sk-top-container\"><div class=\"sk-text-repr-fallback\"><pre>SGDClassifier(loss=&#x27;log_loss&#x27;, n_jobs=-1, random_state=42)</pre><b>In a Jupyter environment, please rerun this cell to show the HTML representation or trust the notebook. <br />On GitHub, the HTML representation is unable to render, please try loading this page with nbviewer.org.</b></div><div class=\"sk-container\" hidden><div class=\"sk-item\"><div class=\"sk-estimator fitted sk-toggleable\"><input class=\"sk-toggleable__control sk-hidden--visually\" id=\"sk-estimator-id-1\" type=\"checkbox\" checked><label for=\"sk-estimator-id-1\" class=\"sk-toggleable__label fitted sk-toggleable__label-arrow\"><div><div>SGDClassifier</div></div><div><a class=\"sk-estimator-doc-link fitted\" rel=\"noreferrer\" target=\"_blank\" href=\"https://scikit-learn.org/1.6/modules/generated/sklearn.linear_model.SGDClassifier.html\">?<span>Documentation for SGDClassifier</span></a><span class=\"sk-estimator-doc-link fitted\">i<span>Fitted</span></span></div></label><div class=\"sk-toggleable__content fitted\"><pre>SGDClassifier(loss=&#x27;log_loss&#x27;, n_jobs=-1, random_state=42)</pre></div> </div></div></div></div>"
            ]
          },
          "metadata": {},
          "execution_count": 22
        }
      ]
    },
    {
      "cell_type": "code",
      "source": [
        "sgd.intercept_  #> shape: (10,)"
      ],
      "metadata": {
        "colab": {
          "base_uri": "https://localhost:8080/"
        },
        "id": "R-DJFzyqCarm",
        "outputId": "e8f8c429-1ba6-4e4f-c8c9-61080e2ceb66"
      },
      "execution_count": 23,
      "outputs": [
        {
          "output_type": "execute_result",
          "data": {
            "text/plain": [
              "array([ -1.54024535,  -4.97085256,  -2.45411884,  -1.5496291 ,\n",
              "        -4.94592029,   3.66151889,  -1.47955462,  -1.90241534,\n",
              "        -4.40078057, -25.19876253])"
            ]
          },
          "metadata": {},
          "execution_count": 23
        }
      ]
    },
    {
      "cell_type": "code",
      "source": [
        "sgd.coef_.shape  #> (10, 784)"
      ],
      "metadata": {
        "colab": {
          "base_uri": "https://localhost:8080/"
        },
        "id": "WjGHotpHC91m",
        "outputId": "cabf96c7-f8a3-464c-a014-cab673722a5e"
      },
      "execution_count": 24,
      "outputs": [
        {
          "output_type": "execute_result",
          "data": {
            "text/plain": [
              "(10, 784)"
            ]
          },
          "metadata": {},
          "execution_count": 24
        }
      ]
    },
    {
      "cell_type": "code",
      "source": [
        "predict_probas = sgd.predict_proba(X=train_data_scaled.reshape((48_000, -1)))"
      ],
      "metadata": {
        "id": "CpBtSErcDLnN"
      },
      "execution_count": 25,
      "outputs": []
    },
    {
      "cell_type": "code",
      "source": [
        "predict_probas.shape  #> (48_000, 10)"
      ],
      "metadata": {
        "colab": {
          "base_uri": "https://localhost:8080/"
        },
        "id": "7iWLJvoEDr8G",
        "outputId": "b349ec3a-b823-408b-dcb5-5d6bb8922a78"
      },
      "execution_count": 26,
      "outputs": [
        {
          "output_type": "execute_result",
          "data": {
            "text/plain": [
              "(48000, 10)"
            ]
          },
          "metadata": {},
          "execution_count": 26
        }
      ]
    },
    {
      "cell_type": "code",
      "source": [
        "predict_probas[:5]"
      ],
      "metadata": {
        "colab": {
          "base_uri": "https://localhost:8080/"
        },
        "id": "rYurEy_nD6f1",
        "outputId": "01013979-3245-425c-cd65-bb9bbb987082"
      },
      "execution_count": 27,
      "outputs": [
        {
          "output_type": "execute_result",
          "data": {
            "text/plain": [
              "array([[1.20888251e-02, 1.05549631e-05, 2.30094285e-01, 3.41231387e-03,\n",
              "        4.86284532e-02, 3.96063160e-10, 6.91742929e-01, 1.54454383e-17,\n",
              "        1.40226378e-02, 1.05805064e-16],\n",
              "       [7.53889861e-01, 1.20438290e-04, 4.89841116e-05, 2.88644150e-04,\n",
              "        7.52168267e-02, 4.15812599e-17, 1.69806662e-01, 2.22627871e-15,\n",
              "        6.28584469e-04, 3.41774283e-15],\n",
              "       [2.89450403e-03, 2.51542365e-04, 1.32250305e-04, 9.78121334e-01,\n",
              "        2.43557068e-04, 8.15414752e-12, 1.83430550e-02, 1.32044303e-06,\n",
              "        1.24368179e-05, 1.15226778e-10],\n",
              "       [1.87927047e-02, 1.53865511e-02, 4.75084700e-03, 9.59873842e-01,\n",
              "        2.15421676e-04, 2.30937550e-07, 4.85837345e-04, 7.79498173e-08,\n",
              "        4.94463323e-04, 2.39574997e-08],\n",
              "       [9.71611164e-01, 8.55700455e-07, 2.35430174e-03, 2.77866962e-07,\n",
              "        7.27359445e-06, 2.50343665e-19, 2.58251753e-02, 6.13245802e-16,\n",
              "        2.00951140e-04, 2.02813751e-10]])"
            ]
          },
          "metadata": {},
          "execution_count": 27
        }
      ]
    },
    {
      "cell_type": "code",
      "source": [
        "predicts = sgd.predict(X=train_data_scaled.reshape((48_000, -1)))"
      ],
      "metadata": {
        "id": "d5Huoi0IECCc"
      },
      "execution_count": 28,
      "outputs": []
    },
    {
      "cell_type": "code",
      "source": [
        "predicts.shape  #> (48_000,)"
      ],
      "metadata": {
        "colab": {
          "base_uri": "https://localhost:8080/"
        },
        "id": "mOiPzLmtEdg8",
        "outputId": "547cb425-90b9-4738-a27f-67bec3024c85"
      },
      "execution_count": 29,
      "outputs": [
        {
          "output_type": "execute_result",
          "data": {
            "text/plain": [
              "(48000,)"
            ]
          },
          "metadata": {},
          "execution_count": 29
        }
      ]
    },
    {
      "cell_type": "code",
      "source": [
        "predicts[:5]"
      ],
      "metadata": {
        "colab": {
          "base_uri": "https://localhost:8080/"
        },
        "id": "RwFo7k0HEhNL",
        "outputId": "2573f118-e750-4347-9ac1-5423b4a45a02"
      },
      "execution_count": 30,
      "outputs": [
        {
          "output_type": "execute_result",
          "data": {
            "text/plain": [
              "array([6, 0, 3, 3, 0], dtype=uint8)"
            ]
          },
          "metadata": {},
          "execution_count": 30
        }
      ]
    },
    {
      "cell_type": "code",
      "source": [
        "accuracy_score(train_target, predicts)  # 훈련 셋 정확도"
      ],
      "metadata": {
        "colab": {
          "base_uri": "https://localhost:8080/"
        },
        "id": "RD9C7cUTEo_8",
        "outputId": "9f987e65-261c-4422-8ba0-f10813c61190"
      },
      "execution_count": 31,
      "outputs": [
        {
          "output_type": "execute_result",
          "data": {
            "text/plain": [
              "0.8518125"
            ]
          },
          "metadata": {},
          "execution_count": 31
        }
      ]
    },
    {
      "cell_type": "code",
      "source": [
        "# 검증 셋의 모든 픽셀을 0 ~ 1 사이로 스케일링\n",
        "val_data_scaled = val_data / 255.0\n",
        "# 검증 셋의 예측값\n",
        "val_predicts = sgd.predict(X=val_data_scaled.reshape((12_000, -1)))\n",
        "# 검증 셋의 정확도\n",
        "accuracy_score(y_true=val_target, y_pred=val_predicts)"
      ],
      "metadata": {
        "colab": {
          "base_uri": "https://localhost:8080/"
        },
        "id": "K22sIcO8FGnF",
        "outputId": "67e8b566-3934-4ec3-de21-c32dc236f17c"
      },
      "execution_count": 32,
      "outputs": [
        {
          "output_type": "execute_result",
          "data": {
            "text/plain": [
              "0.8468333333333333"
            ]
          },
          "metadata": {},
          "execution_count": 32
        }
      ]
    },
    {
      "cell_type": "markdown",
      "source": [
        "# 신경망\n",
        "\n",
        "Keras 라이브러리를 사용해서 입력층과 출력층만 갖는 신경망을 만들고 테스트하세요."
      ],
      "metadata": {
        "id": "xScq6GZ6LFXA"
      }
    },
    {
      "cell_type": "code",
      "source": [
        "tr_data_scaled_flat = train_data_scaled.reshape((48_000, -1))  #> shape: (48_000, 784)\n",
        "val_data_scaled_flat = val_data_scaled.reshape((12_000, -1))   #> shape: (12_000, 784)"
      ],
      "metadata": {
        "id": "rCurUi-VFfvm"
      },
      "execution_count": 33,
      "outputs": []
    },
    {
      "cell_type": "code",
      "source": [
        "print(tr_data_scaled_flat.shape)\n",
        "print(val_data_scaled_flat.shape)"
      ],
      "metadata": {
        "colab": {
          "base_uri": "https://localhost:8080/"
        },
        "id": "CYGRA39fL5rh",
        "outputId": "70744387-d884-4eed-92d7-837d19e278d2"
      },
      "execution_count": 34,
      "outputs": [
        {
          "output_type": "stream",
          "name": "stdout",
          "text": [
            "(48000, 784)\n",
            "(12000, 784)\n"
          ]
        }
      ]
    },
    {
      "cell_type": "code",
      "source": [
        "inputs = keras.layers.Input(shape=(784,))  # 입력층"
      ],
      "metadata": {
        "id": "MzSxfFbcNLUf"
      },
      "execution_count": 35,
      "outputs": []
    },
    {
      "cell_type": "code",
      "source": [
        "dense = keras.layers.Dense(units=10, activation='softmax')  # 출력층"
      ],
      "metadata": {
        "id": "j-ON1Gq1NT8X"
      },
      "execution_count": 36,
      "outputs": []
    },
    {
      "cell_type": "code",
      "source": [
        "model = keras.Sequential(layers=[inputs, dense])  # 완전 연결 신경망"
      ],
      "metadata": {
        "id": "atSJY1qwNbxX"
      },
      "execution_count": 37,
      "outputs": []
    },
    {
      "cell_type": "code",
      "source": [
        "model.summary()\n",
        "#> 모델 파라미터 개수 = (784 weight * 10 output) + 10 bias =  7,850"
      ],
      "metadata": {
        "colab": {
          "base_uri": "https://localhost:8080/",
          "height": 164
        },
        "id": "OwPKRNqnNkP3",
        "outputId": "cd8abc0f-bf79-49eb-8ed6-fadd5b0bf32a"
      },
      "execution_count": 38,
      "outputs": [
        {
          "output_type": "display_data",
          "data": {
            "text/plain": [
              "\u001b[1mModel: \"sequential\"\u001b[0m\n"
            ],
            "text/html": [
              "<pre style=\"white-space:pre;overflow-x:auto;line-height:normal;font-family:Menlo,'DejaVu Sans Mono',consolas,'Courier New',monospace\"><span style=\"font-weight: bold\">Model: \"sequential\"</span>\n",
              "</pre>\n"
            ]
          },
          "metadata": {}
        },
        {
          "output_type": "display_data",
          "data": {
            "text/plain": [
              "┏━━━━━━━━━━━━━━━━━━━━━━━━━━━━━━━━━┳━━━━━━━━━━━━━━━━━━━━━━━━┳━━━━━━━━━━━━━━━┓\n",
              "┃\u001b[1m \u001b[0m\u001b[1mLayer (type)                   \u001b[0m\u001b[1m \u001b[0m┃\u001b[1m \u001b[0m\u001b[1mOutput Shape          \u001b[0m\u001b[1m \u001b[0m┃\u001b[1m \u001b[0m\u001b[1m      Param #\u001b[0m\u001b[1m \u001b[0m┃\n",
              "┡━━━━━━━━━━━━━━━━━━━━━━━━━━━━━━━━━╇━━━━━━━━━━━━━━━━━━━━━━━━╇━━━━━━━━━━━━━━━┩\n",
              "│ dense (\u001b[38;5;33mDense\u001b[0m)                   │ (\u001b[38;5;45mNone\u001b[0m, \u001b[38;5;34m10\u001b[0m)             │         \u001b[38;5;34m7,850\u001b[0m │\n",
              "└─────────────────────────────────┴────────────────────────┴───────────────┘\n"
            ],
            "text/html": [
              "<pre style=\"white-space:pre;overflow-x:auto;line-height:normal;font-family:Menlo,'DejaVu Sans Mono',consolas,'Courier New',monospace\">┏━━━━━━━━━━━━━━━━━━━━━━━━━━━━━━━━━┳━━━━━━━━━━━━━━━━━━━━━━━━┳━━━━━━━━━━━━━━━┓\n",
              "┃<span style=\"font-weight: bold\"> Layer (type)                    </span>┃<span style=\"font-weight: bold\"> Output Shape           </span>┃<span style=\"font-weight: bold\">       Param # </span>┃\n",
              "┡━━━━━━━━━━━━━━━━━━━━━━━━━━━━━━━━━╇━━━━━━━━━━━━━━━━━━━━━━━━╇━━━━━━━━━━━━━━━┩\n",
              "│ dense (<span style=\"color: #0087ff; text-decoration-color: #0087ff\">Dense</span>)                   │ (<span style=\"color: #00d7ff; text-decoration-color: #00d7ff\">None</span>, <span style=\"color: #00af00; text-decoration-color: #00af00\">10</span>)             │         <span style=\"color: #00af00; text-decoration-color: #00af00\">7,850</span> │\n",
              "└─────────────────────────────────┴────────────────────────┴───────────────┘\n",
              "</pre>\n"
            ]
          },
          "metadata": {}
        },
        {
          "output_type": "display_data",
          "data": {
            "text/plain": [
              "\u001b[1m Total params: \u001b[0m\u001b[38;5;34m7,850\u001b[0m (30.66 KB)\n"
            ],
            "text/html": [
              "<pre style=\"white-space:pre;overflow-x:auto;line-height:normal;font-family:Menlo,'DejaVu Sans Mono',consolas,'Courier New',monospace\"><span style=\"font-weight: bold\"> Total params: </span><span style=\"color: #00af00; text-decoration-color: #00af00\">7,850</span> (30.66 KB)\n",
              "</pre>\n"
            ]
          },
          "metadata": {}
        },
        {
          "output_type": "display_data",
          "data": {
            "text/plain": [
              "\u001b[1m Trainable params: \u001b[0m\u001b[38;5;34m7,850\u001b[0m (30.66 KB)\n"
            ],
            "text/html": [
              "<pre style=\"white-space:pre;overflow-x:auto;line-height:normal;font-family:Menlo,'DejaVu Sans Mono',consolas,'Courier New',monospace\"><span style=\"font-weight: bold\"> Trainable params: </span><span style=\"color: #00af00; text-decoration-color: #00af00\">7,850</span> (30.66 KB)\n",
              "</pre>\n"
            ]
          },
          "metadata": {}
        },
        {
          "output_type": "display_data",
          "data": {
            "text/plain": [
              "\u001b[1m Non-trainable params: \u001b[0m\u001b[38;5;34m0\u001b[0m (0.00 B)\n"
            ],
            "text/html": [
              "<pre style=\"white-space:pre;overflow-x:auto;line-height:normal;font-family:Menlo,'DejaVu Sans Mono',consolas,'Courier New',monospace\"><span style=\"font-weight: bold\"> Non-trainable params: </span><span style=\"color: #00af00; text-decoration-color: #00af00\">0</span> (0.00 B)\n",
              "</pre>\n"
            ]
          },
          "metadata": {}
        }
      ]
    },
    {
      "cell_type": "code",
      "source": [
        "model.compile(loss=keras.losses.sparse_categorical_crossentropy,\n",
        "              metrics=[keras.metrics.sparse_categorical_accuracy])"
      ],
      "metadata": {
        "id": "W7-KEaDmNodu"
      },
      "execution_count": 39,
      "outputs": []
    },
    {
      "cell_type": "code",
      "source": [
        "model.fit(x=tr_data_scaled_flat, y=train_target, epochs=5, verbose=0)"
      ],
      "metadata": {
        "colab": {
          "base_uri": "https://localhost:8080/"
        },
        "id": "E8XZiDo6OPi2",
        "outputId": "9c00d62b-6cd1-4dd7-e241-5d5717eae81e"
      },
      "execution_count": 40,
      "outputs": [
        {
          "output_type": "execute_result",
          "data": {
            "text/plain": [
              "<keras.src.callbacks.history.History at 0x7aa0eff65be0>"
            ]
          },
          "metadata": {},
          "execution_count": 40
        }
      ]
    },
    {
      "cell_type": "code",
      "source": [
        "predicts = model.predict(x=tr_data_scaled_flat)\n",
        "#> 48,000개 이미지의 각 레이블이 될 확률을 리턴."
      ],
      "metadata": {
        "colab": {
          "base_uri": "https://localhost:8080/"
        },
        "id": "uRtTt1QWOZzP",
        "outputId": "8e76c310-e30d-4410-cd4a-f22274beca50"
      },
      "execution_count": 41,
      "outputs": [
        {
          "output_type": "stream",
          "name": "stdout",
          "text": [
            "\u001b[1m1500/1500\u001b[0m \u001b[32m━━━━━━━━━━━━━━━━━━━━\u001b[0m\u001b[37m\u001b[0m \u001b[1m2s\u001b[0m 1ms/step\n"
          ]
        }
      ]
    },
    {
      "cell_type": "code",
      "source": [
        "predicts.shape  #> (48_000 이미지 샘플, 10개 확률)"
      ],
      "metadata": {
        "colab": {
          "base_uri": "https://localhost:8080/"
        },
        "id": "d4qt8NDTeEll",
        "outputId": "9ee0d6c3-3674-4356-fca1-7a8bf5f3e5ec"
      },
      "execution_count": 42,
      "outputs": [
        {
          "output_type": "execute_result",
          "data": {
            "text/plain": [
              "(48000, 10)"
            ]
          },
          "metadata": {},
          "execution_count": 42
        }
      ]
    },
    {
      "cell_type": "code",
      "source": [
        "print(predicts[:2])"
      ],
      "metadata": {
        "colab": {
          "base_uri": "https://localhost:8080/"
        },
        "id": "ZukJDkTReNfE",
        "outputId": "1e3f3727-de97-4658-a416-030a300ee1ea"
      },
      "execution_count": 43,
      "outputs": [
        {
          "output_type": "stream",
          "name": "stdout",
          "text": [
            "[[6.7939325e-03 5.3360700e-06 2.5981352e-01 6.3672676e-03 1.8436359e-02\n",
            "  2.5645908e-13 7.0217389e-01 4.9357710e-18 6.4097210e-03 4.6465399e-17]\n",
            " [7.1363914e-01 6.1809862e-07 1.9443699e-03 2.7853143e-03 2.5896060e-03\n",
            "  7.2812355e-21 2.7857181e-01 1.9749328e-18 4.6918521e-04 2.5880310e-18]]\n"
          ]
        }
      ]
    },
    {
      "cell_type": "code",
      "source": [
        "tr_pred_labels = predicts.argmax(axis=1)\n",
        "# argmax(): 최댓값의 인덱스를 리턴. 10개의 확률들 중 최댓값의 인덱스가 예측 레이블이 됨."
      ],
      "metadata": {
        "id": "lBZ_uYLOeidz"
      },
      "execution_count": 44,
      "outputs": []
    },
    {
      "cell_type": "code",
      "source": [
        "tr_pred_labels.shape"
      ],
      "metadata": {
        "colab": {
          "base_uri": "https://localhost:8080/"
        },
        "id": "8S5C25u4fsjc",
        "outputId": "ab16f83b-4950-4f99-83f6-d6deba584375"
      },
      "execution_count": 45,
      "outputs": [
        {
          "output_type": "execute_result",
          "data": {
            "text/plain": [
              "(48000,)"
            ]
          },
          "metadata": {},
          "execution_count": 45
        }
      ]
    },
    {
      "cell_type": "code",
      "source": [
        "tr_pred_labels[:2]"
      ],
      "metadata": {
        "colab": {
          "base_uri": "https://localhost:8080/"
        },
        "id": "HvxxPRyyfuBL",
        "outputId": "9c5e989d-bed4-421a-b565-1b3a36e1f5a8"
      },
      "execution_count": 46,
      "outputs": [
        {
          "output_type": "execute_result",
          "data": {
            "text/plain": [
              "array([6, 0])"
            ]
          },
          "metadata": {},
          "execution_count": 46
        }
      ]
    },
    {
      "cell_type": "code",
      "source": [
        "accuracy_score(y_true=train_target, y_pred=tr_pred_labels)"
      ],
      "metadata": {
        "colab": {
          "base_uri": "https://localhost:8080/"
        },
        "id": "cwTV5AptfxfL",
        "outputId": "69fbce61-be48-49f0-bebe-d6dcd25a4299"
      },
      "execution_count": 47,
      "outputs": [
        {
          "output_type": "execute_result",
          "data": {
            "text/plain": [
              "0.8564375"
            ]
          },
          "metadata": {},
          "execution_count": 47
        }
      ]
    },
    {
      "cell_type": "code",
      "source": [
        "# 훈련 셋 평가 - model의 evaluate 메서드를 사용할 수도 있음.\n",
        "model.evaluate(x=tr_data_scaled_flat, y=train_target, verbose=0)\n",
        "#> [loss(손실), accuracy(정확도)]"
      ],
      "metadata": {
        "colab": {
          "base_uri": "https://localhost:8080/"
        },
        "id": "1Up8KsljgK_c",
        "outputId": "a2458517-140f-4909-bdc8-14096db0c92e"
      },
      "execution_count": 48,
      "outputs": [
        {
          "output_type": "execute_result",
          "data": {
            "text/plain": [
              "[0.4285393953323364, 0.8564375042915344]"
            ]
          },
          "metadata": {},
          "execution_count": 48
        }
      ]
    },
    {
      "cell_type": "code",
      "source": [
        "# 검증 셋 평가\n",
        "model.evaluate(x=val_data_scaled_flat, y=val_target, verbose=0)"
      ],
      "metadata": {
        "colab": {
          "base_uri": "https://localhost:8080/"
        },
        "id": "tqxv_u85g4nL",
        "outputId": "67ba0c9b-a871-47a6-c2d8-401d8637c8a0"
      },
      "execution_count": 49,
      "outputs": [
        {
          "output_type": "execute_result",
          "data": {
            "text/plain": [
              "[0.42980581521987915, 0.8538333177566528]"
            ]
          },
          "metadata": {},
          "execution_count": 49
        }
      ]
    },
    {
      "cell_type": "markdown",
      "source": [
        "# 활성화 함수(Activation Function)"
      ],
      "metadata": {
        "id": "YyGKDtRfSvRR"
      }
    },
    {
      "cell_type": "markdown",
      "source": [
        "## Sigmoid\n",
        "\n",
        "$\n",
        "\\text{sigmoid}(x) = \\dfrac{1}{1 + \\exp(-x)}\n",
        "$"
      ],
      "metadata": {
        "id": "TUMY37dPS84B"
      }
    },
    {
      "cell_type": "code",
      "source": [
        "xvals = np.arange(-5, 5, 0.0001)"
      ],
      "metadata": {
        "id": "Gp1x0AyXSy88"
      },
      "execution_count": 50,
      "outputs": []
    },
    {
      "cell_type": "code",
      "source": [
        "def sigmoid(x):\n",
        "    return 1 / (1 + np.exp(-x))"
      ],
      "metadata": {
        "id": "0vdqmLexTg2D"
      },
      "execution_count": 51,
      "outputs": []
    },
    {
      "cell_type": "code",
      "source": [
        "yvals = sigmoid(xvals)"
      ],
      "metadata": {
        "id": "yBrCl4g7Tsdy"
      },
      "execution_count": 53,
      "outputs": []
    },
    {
      "cell_type": "code",
      "source": [
        "plt.figure(figsize=(8, 4))\n",
        "plt.plot(xvals, yvals)\n",
        "plt.grid()\n",
        "plt.show()"
      ],
      "metadata": {
        "colab": {
          "base_uri": "https://localhost:8080/",
          "height": 368
        },
        "id": "RJoKrKGjTySB",
        "outputId": "10cc2cb5-5859-430b-ce1a-b8951216795a"
      },
      "execution_count": 54,
      "outputs": [
        {
          "output_type": "display_data",
          "data": {
            "text/plain": [
              "<Figure size 800x400 with 1 Axes>"
            ],
            "image/png": "[encoded data removed]"
          },
          "metadata": {}
        }
      ]
    },
    {
      "cell_type": "markdown",
      "source": [
        "## Hyperbolic tangent"
      ],
      "metadata": {
        "id": "TxZ3f4SqWUPv"
      }
    },
    {
      "cell_type": "code",
      "source": [
        "def plot_activation_fn(fn):\n",
        "    xvals = np.arange(-5, 5, 0.0001)\n",
        "    yvals = fn(xvals)\n",
        "    plt.figure(figsize=(8, 4))\n",
        "    plt.plot(xvals, yvals)\n",
        "    plt.grid()\n",
        "    plt.show()"
      ],
      "metadata": {
        "id": "WG20dvqUXYKe"
      },
      "execution_count": 56,
      "outputs": []
    },
    {
      "cell_type": "code",
      "source": [
        "plot_activation_fn(np.tanh)"
      ],
      "metadata": {
        "colab": {
          "base_uri": "https://localhost:8080/",
          "height": 368
        },
        "id": "Ur77l41XT_R5",
        "outputId": "811b0279-d244-4e41-8a67-78c223c80def"
      },
      "execution_count": 57,
      "outputs": [
        {
          "output_type": "display_data",
          "data": {
            "text/plain": [
              "<Figure size 800x400 with 1 Axes>"
            ],
            "image/png": "[encoded data removed]"
          },
          "metadata": {}
        }
      ]
    },
    {
      "cell_type": "code",
      "source": [],
      "metadata": {
        "id": "4M6pUxYvWnpX"
      },
      "execution_count": null,
      "outputs": []
    }
  ]
}