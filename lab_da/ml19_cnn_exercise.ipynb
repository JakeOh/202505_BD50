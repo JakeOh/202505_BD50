{
  "nbformat": 4,
  "nbformat_minor": 0,
  "metadata": {
    "colab": {
      "provenance": [],
      "toc_visible": true,
      "authorship_tag": "ABX9TyM7ZuOBGq9c3hNTmHw3EXX+",
      "include_colab_link": true
    },
    "kernelspec": {
      "name": "python3",
      "display_name": "Python 3"
    },
    "language_info": {
      "name": "python"
    }
  },
  "cells": [
    {
      "cell_type": "markdown",
      "metadata": {
        "id": "view-in-github",
        "colab_type": "text"
      },
      "source": [
        "<a href=\"https://colab.research.google.com/github/JakeOh/202505_BD50/blob/main/lab_da/ml19_cnn_exercise.ipynb\" target=\"_parent\"><img src=\"https://colab.research.google.com/assets/colab-badge.svg\" alt=\"Open In Colab\"/></a>"
      ]
    },
    {
      "cell_type": "markdown",
      "source": [
        "# CNN  연습"
      ],
      "metadata": {
        "id": "CBxCQLgZO885"
      }
    },
    {
      "cell_type": "markdown",
      "source": [
        "*   Keras 패키지의 손글씨 MNIST 예제 데이터셋을 다운로드하세요.\n",
        "*   예제 데이터셋의 일부(예: 100개)를 시각화해 보세요.\n",
        "*   훈련 셋과 테스트 셋의 데이터는 0. ~ 1. 스케일로 스케일링하세요.\n",
        "*   전체 훈련 셋은 다시 훈련 셋과 검증 셋으로 나누세요.\n",
        "*   아래의 CNN 모델 구조처럼 합성곱 신경망을 설계하세요.\n",
        "*   모든 합성곱 층(Conv2D)와 출력층을 제외한 밀집층(Dense)에서\n",
        "    *   활성화 함수는 ReLU로 설정하세요.\n",
        "    *   커널 초기화 함수(kernel initialize)를 'he_normal'로 설정하세요.\n",
        "*   첫번째 Dropout 층의 rate는 0.25로 설정하세요.\n",
        "*   두번째 Dropout 층의 rate는 0.5로 설정하세요.\n",
        "*   모델의 옵티마이저(optimizer)는 Nadam을 사용하세요.\n",
        "*   ModelCheckpoint, EarlyStopping 콜백들과 검증 셋을 함께 사용해서 모델을 훈련하세요.\n",
        "    *   최적의 모델은 cnn_ex_best.keras 파일로 저장하세요.\n",
        "*   모델의 성능을 평가하세요.\n",
        "\n",
        "---\n",
        "\n",
        "__CNN example__\n",
        "\n",
        "<img src=\"https://raw.githubusercontent.com/JakeOh/202505_BD50/refs/heads/main/lab_da/cnn_example_64dpi.png\" alt=\"CNN example\" />\n"
      ],
      "metadata": {
        "id": "vCZjVKgtLtLz"
      }
    }
  ]
}