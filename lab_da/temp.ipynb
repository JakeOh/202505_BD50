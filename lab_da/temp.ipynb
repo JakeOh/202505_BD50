{
  "nbformat": 4,
  "nbformat_minor": 0,
  "metadata": {
    "colab": {
      "provenance": [],
      "toc_visible": true,
      "authorship_tag": "ABX9TyMkR22P64D+G4RTJmMUOL2r",
      "include_colab_link": true
    },
    "kernelspec": {
      "name": "python3",
      "display_name": "Python 3"
    },
    "language_info": {
      "name": "python"
    }
  },
  "cells": [
    {
      "cell_type": "markdown",
      "metadata": {
        "id": "view-in-github",
        "colab_type": "text"
      },
      "source": [
        "<a href=\"https://colab.research.google.com/github/JakeOh/202505_BD50/blob/main/lab_da/temp.ipynb\" target=\"_parent\"><img src=\"https://colab.research.google.com/assets/colab-badge.svg\" alt=\"Open In Colab\"/></a>"
      ]
    },
    {
      "cell_type": "markdown",
      "source": [
        "sk-proj-"
      ],
      "metadata": {
        "id": "PJ7cI-XbGHCM"
      }
    },
    {
      "cell_type": "markdown",
      "source": [
        "nXlUq0aaG0nYdSc6V51aSViHqGQ4Sg3_yLbWB717lKDUzM2MyVfi0LqOsF8l7X8zpPBiDMo2Z4T3BlbkFJ6BZyNMEcy281kbpjE6a-"
      ],
      "metadata": {
        "id": "BxdeA6vFHGtw"
      }
    },
    {
      "cell_type": "markdown",
      "source": [
        "8Vlkt23synAYk-pOG0gDUtXpqwEfxxyqe9w7r-dL2C2vBkco-atZkA"
      ],
      "metadata": {
        "id": "UOm0-1ABHHqe"
      }
    },
    {
      "cell_type": "code",
      "source": [],
      "metadata": {
        "id": "lcGd434VHGJL"
      },
      "execution_count": null,
      "outputs": []
    }
  ]
}